{
 "cells": [
  {
   "cell_type": "code",
   "execution_count": 15,
   "metadata": {},
   "outputs": [],
   "source": [
    "import os\n",
    "import tarfile"
   ]
  },
  {
   "cell_type": "code",
   "execution_count": 3,
   "metadata": {},
   "outputs": [],
   "source": [
    "path_ds = '/nobackup/users/schreurs/project_GAN/dataset'"
   ]
  },
  {
   "cell_type": "code",
   "execution_count": 4,
   "metadata": {},
   "outputs": [
    {
     "name": "stdout",
     "output_type": "stream",
     "text": [
      "Number of days in dataset =  772\n"
     ]
    }
   ],
   "source": [
    "files = [f for f in os.listdir(path_ds) if os.path.isfile(os.path.join(path_ds, f))]\n",
    "print(\"Number of days in dataset = \", len(files))"
   ]
  },
  {
   "cell_type": "code",
   "execution_count": 5,
   "metadata": {},
   "outputs": [
    {
     "data": {
      "text/plain": [
       "'RAD25_OPER_R___TARRRE__L2__20190826T080500_20190827T080000_0001.tar'"
      ]
     },
     "execution_count": 5,
     "metadata": {},
     "output_type": "execute_result"
    }
   ],
   "source": [
    "files[0]"
   ]
  },
  {
   "cell_type": "markdown",
   "metadata": {},
   "source": [
    "# Unpack the tar files\n",
    "The download dataset consists of 772 days each packed in a tar file. With the code below the tar files are unpacked into folders with the same name"
   ]
  },
  {
   "cell_type": "code",
   "execution_count": 14,
   "metadata": {},
   "outputs": [
    {
     "name": "stdout",
     "output_type": "stream",
     "text": [
      "tar path:  /nobackup/users/schreurs/project_GAN/dataset/RAD25_OPER_R___TARRRE__L2__20190826T080500_20190827T080000_0001.tar\n",
      "unpack in folder:  /nobackup/users/schreurs/project_GAN/dataset/RAD25_OPER_R___TARRRE__L2__20190826T080500_20190827T080000_0001\n"
     ]
    }
   ],
   "source": [
    "# Testing path\n",
    "tar_path = path_ds + '/' + files[0]\n",
    "print(\"tar path: \", tar_path)\n",
    "unpack_folder = tar_path.replace('.tar','')\n",
    "print(\"unpack in folder: \", unpack_folder)"
   ]
  },
  {
   "cell_type": "code",
   "execution_count": null,
   "metadata": {},
   "outputs": [],
   "source": [
    "for file in files:\n",
    "    tar_path = path_ds + '/' + file\n",
    "    unpack_folder = tar_path.replace('.tar', '')\n",
    "    \n",
    "    tar_file = tarfile.open(tar_path)\n",
    "    tar_file.extractall(unpack_folder) \n",
    "    tar_file.close()"
   ]
  }
 ],
 "metadata": {
  "kernelspec": {
   "display_name": "Python 3",
   "language": "python",
   "name": "python3"
  },
  "language_info": {
   "codemirror_mode": {
    "name": "ipython",
    "version": 3
   },
   "file_extension": ".py",
   "mimetype": "text/x-python",
   "name": "python",
   "nbconvert_exporter": "python",
   "pygments_lexer": "ipython3",
   "version": "3.7.9"
  }
 },
 "nbformat": 4,
 "nbformat_minor": 2
}
