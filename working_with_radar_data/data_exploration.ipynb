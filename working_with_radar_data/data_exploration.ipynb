{
 "cells": [
  {
   "cell_type": "code",
   "execution_count": 1,
   "metadata": {},
   "outputs": [
    {
     "name": "stdout",
     "output_type": "stream",
     "text": [
      " Volume in drive C is Windows\n",
      " Volume Serial Number is E6A6-270F\n",
      "\n",
      " Directory of C:\\Users\\Koert\\Documents\\KNMI_Internship_GANs\\working_with_radar_data\n",
      "\n",
      "09/02/2021  14:13    <DIR>          .\n",
      "09/02/2021  14:13    <DIR>          ..\n",
      "09/02/2021  14:13    <DIR>          .ipynb_checkpoints\n",
      "09/02/2021  14:05             2.516 data_exploration.ipynb\n",
      "09/02/2021  13:47    <DIR>          RAD25_OPER_R___TARRRT__L2__20181219080000_20181220075500_0001\n",
      "09/02/2021  13:46         8.642.560 RAD25_OPER_R___TARRRT__L2__20181219080000_20181220075500_0001.tar\n",
      "               2 File(s)      8.645.076 bytes\n",
      "               4 Dir(s)  301.089.976.320 bytes free\n"
     ]
    }
   ],
   "source": [
    "ls"
   ]
  },
  {
   "cell_type": "code",
   "execution_count": 59,
   "metadata": {},
   "outputs": [],
   "source": [
    "from os import listdir\n",
    "from os.path import isfile, join\n",
    "import h5py\n",
    "import numpy as np\n",
    "import pandas as pd\n",
    "import matplotlib.pyplot as plt "
   ]
  },
  {
   "cell_type": "code",
   "execution_count": 98,
   "metadata": {},
   "outputs": [],
   "source": [
    "radar_dir = './RAD25_OPER_R___TARRRT__L2__20181219080000_20181220075500_0001/'\n",
    "\n",
    "onlyfiles = [f for f in listdir(radar_dir) if isfile(join(radar_dir, f))]"
   ]
  },
  {
   "cell_type": "code",
   "execution_count": 106,
   "metadata": {},
   "outputs": [
    {
     "name": "stdout",
     "output_type": "stream",
     "text": [
      "<HDF5 group \"/geographic\" (1 members)>\n",
      "<class 'h5py._hl.group.Group'>\n",
      "\n",
      "<HDF5 group \"/geographic/map_projection\" (0 members)>\n",
      "<class 'h5py._hl.group.Group'>\n",
      "\n",
      "<HDF5 group \"/image1\" (3 members)>\n",
      "<class 'h5py._hl.group.Group'>\n",
      "\n",
      "<HDF5 group \"/image1/calibration\" (0 members)>\n",
      "<class 'h5py._hl.group.Group'>\n",
      "\n",
      "<HDF5 dataset \"image_data\": shape (765, 700), type \"<u2\">\n",
      "<class 'h5py._hl.dataset.Dataset'>\n",
      "\n",
      "<HDF5 group \"/image1/statistics\" (0 members)>\n",
      "<class 'h5py._hl.group.Group'>\n",
      "\n",
      "<HDF5 group \"/image2\" (3 members)>\n",
      "<class 'h5py._hl.group.Group'>\n",
      "\n",
      "<HDF5 group \"/image2/calibration\" (0 members)>\n",
      "<class 'h5py._hl.group.Group'>\n",
      "\n",
      "<HDF5 dataset \"image_data\": shape (765, 700), type \"<u2\">\n",
      "<class 'h5py._hl.dataset.Dataset'>\n",
      "\n",
      "<HDF5 group \"/image2/statistics\" (0 members)>\n",
      "<class 'h5py._hl.group.Group'>\n",
      "\n",
      "<HDF5 group \"/overview\" (0 members)>\n",
      "<class 'h5py._hl.group.Group'>\n",
      "\n",
      "<HDF5 group \"/radar1\" (0 members)>\n",
      "<class 'h5py._hl.group.Group'>\n",
      "\n",
      "<HDF5 group \"/radar2\" (0 members)>\n",
      "<class 'h5py._hl.group.Group'>\n",
      "\n",
      "<HDF5 group \"/radar3\" (0 members)>\n",
      "<class 'h5py._hl.group.Group'>\n",
      "\n",
      "<HDF5 group \"/radar4\" (0 members)>\n",
      "<class 'h5py._hl.group.Group'>\n",
      "\n",
      "<HDF5 group \"/radar5\" (0 members)>\n",
      "<class 'h5py._hl.group.Group'>\n",
      "\n",
      "<HDF5 group \"/radar6\" (0 members)>\n",
      "<class 'h5py._hl.group.Group'>\n",
      "\n"
     ]
    }
   ],
   "source": [
    "def print_it(name):\n",
    "    dset = f[name]\n",
    "    print(dset)\n",
    "    print(type(dset))\n",
    "    print()\n",
    "\n",
    "\n",
    "with h5py.File(radar_dir+onlyfiles[0], 'r')  as f:\n",
    "    f.visit(print_it)"
   ]
  },
  {
   "cell_type": "code",
   "execution_count": 94,
   "metadata": {},
   "outputs": [
    {
     "data": {
      "text/plain": [
       "<HDF5 group \"/image1\" (3 members)>"
      ]
     },
     "execution_count": 94,
     "metadata": {},
     "output_type": "execute_result"
    }
   ],
   "source": [
    "h5f = h5py.File(radar_dir+onlyfiles[0], 'r')"
   ]
  },
  {
   "cell_type": "code",
   "execution_count": 104,
   "metadata": {},
   "outputs": [
    {
     "data": {
      "text/plain": [
       "<matplotlib.image.AxesImage at 0x2408a5f7d30>"
      ]
     },
     "execution_count": 104,
     "metadata": {},
     "output_type": "execute_result"
    },
    {
     "data": {
      "image/png": "[encoded data removed]",
      "text/plain": [
       "<Figure size 432x288 with 1 Axes>"
      ]
     },
     "metadata": {
      "needs_background": "light"
     },
     "output_type": "display_data"
    }
   ],
   "source": [
    "img = np.array(h5f['image1']['image_data'])\n",
    "plt.imshow(img)"
   ]
  },
  {
   "cell_type": "code",
   "execution_count": 105,
   "metadata": {},
   "outputs": [
    {
     "data": {
      "text/plain": [
       "<matplotlib.image.AxesImage at 0x2408a65be80>"
      ]
     },
     "execution_count": 105,
     "metadata": {},
     "output_type": "execute_result"
    },
    {
     "data": {
      "image/png": "[encoded data removed]",
      "text/plain": [
       "<Figure size 432x288 with 1 Axes>"
      ]
     },
     "metadata": {
      "needs_background": "light"
     },
     "output_type": "display_data"
    }
   ],
   "source": [
    "img = np.array(h5f['image2']['image_data'])\n",
    "plt.imshow(img)"
   ]
  },
  {
   "cell_type": "code",
   "execution_count": 107,
   "metadata": {},
   "outputs": [],
   "source": [
    "# https://stackoverflow.com/questions/51548551/reading-nested-h5-group-into-numpy-array\n",
    "def traverse_datasets(hdf_file):\n",
    "\n",
    "    def h5py_dataset_iterator(g, prefix=''):\n",
    "        for key in g.keys():\n",
    "            item = g[key]\n",
    "            path = f'{prefix}/{key}'\n",
    "            if isinstance(item, h5py.Dataset): # test for dataset\n",
    "                yield (path, item)\n",
    "            elif isinstance(item, h5py.Group): # test for group (go down)\n",
    "                yield from h5py_dataset_iterator(item, path)\n",
    "\n",
    "    for path, _ in h5py_dataset_iterator(hdf_file):\n",
    "        yield path\n"
   ]
  },
  {
   "cell_type": "code",
   "execution_count": 108,
   "metadata": {},
   "outputs": [
    {
     "name": "stdout",
     "output_type": "stream",
     "text": [
      "Path: /image1/image_data\n",
      "Shape: (765, 700)\n",
      "Data type: uint16\n",
      "Path: /image2/image_data\n",
      "Shape: (765, 700)\n",
      "Data type: uint16\n"
     ]
    }
   ],
   "source": [
    "with h5py.File(radar_dir+onlyfiles[0], 'r') as f:\n",
    "    for dset in traverse_datasets(f):\n",
    "        print('Path:', dset)\n",
    "        print('Shape:', f[dset].shape)\n",
    "        print('Data type:', f[dset].dtype)"
   ]
  }
 ],
 "metadata": {
  "kernelspec": {
   "display_name": "Python 3",
   "language": "python",
   "name": "python3"
  },
  "language_info": {
   "codemirror_mode": {
    "name": "ipython",
    "version": 3
   },
   "file_extension": ".py",
   "mimetype": "text/x-python",
   "name": "python",
   "nbconvert_exporter": "python",
   "pygments_lexer": "ipython3",
   "version": "3.8.4"
  }
 },
 "nbformat": 4,
 "nbformat_minor": 4
}
