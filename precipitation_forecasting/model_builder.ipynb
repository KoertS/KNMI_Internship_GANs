{
 "cells": [
  {
   "cell_type": "code",
   "execution_count": 34,
   "metadata": {},
   "outputs": [
    {
     "ename": "UnboundLocalError",
     "evalue": "local variable 'convLSTM' referenced before assignment",
     "output_type": "error",
     "traceback": [
      "\u001b[0;31m---------------------------------------------------------------------------\u001b[0m",
      "\u001b[0;31mUnboundLocalError\u001b[0m                         Traceback (most recent call last)",
      "\u001b[0;32m<ipython-input-34-83bc378c8dd6>\u001b[0m in \u001b[0;36m<module>\u001b[0;34m\u001b[0m\n\u001b[1;32m     50\u001b[0m     \u001b[0;32mreturn\u001b[0m \u001b[0mmodel\u001b[0m\u001b[0;34m\u001b[0m\u001b[0;34m\u001b[0m\u001b[0m\n\u001b[1;32m     51\u001b[0m \u001b[0;34m\u001b[0m\u001b[0m\n\u001b[0;32m---> 52\u001b[0;31m \u001b[0mmodel\u001b[0m \u001b[0;34m=\u001b[0m \u001b[0mmodel\u001b[0m\u001b[0;34m(\u001b[0m\u001b[0;34m)\u001b[0m\u001b[0;34m\u001b[0m\u001b[0;34m\u001b[0m\u001b[0m\n\u001b[0m\u001b[1;32m     53\u001b[0m \u001b[0mmodel\u001b[0m\u001b[0;34m.\u001b[0m\u001b[0msummary\u001b[0m\u001b[0;34m(\u001b[0m\u001b[0;34m)\u001b[0m\u001b[0;34m\u001b[0m\u001b[0;34m\u001b[0m\u001b[0m\n\u001b[1;32m     54\u001b[0m \u001b[0;31m#plot_model(model)\u001b[0m\u001b[0;34m\u001b[0m\u001b[0;34m\u001b[0m\u001b[0;34m\u001b[0m\u001b[0m\n",
      "\u001b[0;32m<ipython-input-34-83bc378c8dd6>\u001b[0m in \u001b[0;36mmodel\u001b[0;34m()\u001b[0m\n\u001b[1;32m     38\u001b[0m                                           \u001b[0mstrides\u001b[0m\u001b[0;34m=\u001b[0m\u001b[0;34m(\u001b[0m\u001b[0;36m1\u001b[0m\u001b[0;34m,\u001b[0m\u001b[0;36m1\u001b[0m\u001b[0;34m)\u001b[0m\u001b[0;34m,\u001b[0m\u001b[0;34m\u001b[0m\u001b[0;34m\u001b[0m\u001b[0m\n\u001b[1;32m     39\u001b[0m                                           \u001b[0mpadding\u001b[0m\u001b[0;34m=\u001b[0m\u001b[0;34m'same'\u001b[0m\u001b[0;34m,\u001b[0m\u001b[0;34m\u001b[0m\u001b[0;34m\u001b[0m\u001b[0m\n\u001b[0;32m---> 40\u001b[0;31m                                           return_sequences=True)(convLSTM)\n\u001b[0m\u001b[1;32m     41\u001b[0m \u001b[0;34m\u001b[0m\u001b[0m\n\u001b[1;32m     42\u001b[0m     convLSTM = tf.keras.layers.ConvLSTM2D(filters=64, kernel_size=(3, 3), \n",
      "\u001b[0;31mUnboundLocalError\u001b[0m: local variable 'convLSTM' referenced before assignment"
     ]
    }
   ],
   "source": [
    "import tensorflow as tf\n",
    "import numpy as np\n",
    "import netCDF4\n",
    "from tensorflow.keras.utils import plot_model\n",
    "\n",
    "\n",
    "def get_mask_y():\n",
    "    # Get the mask for the input data\n",
    "    y_path = '/nobackup/users/schreurs/project_GAN/dataset_aart'\n",
    "    # The mask is the same for all radar scans, so simply chose a random one to get the mask\n",
    "    path = y_path + '/RAD_NL25_RAC_MFBS_EM_5min_201901010000.nc'\n",
    "\n",
    "    with netCDF4.Dataset(path, 'r') as f:\n",
    "        rain = f['image1_image_data'][:]\n",
    "        mask = (rain == 65535)\n",
    "    mask = mask.astype(float)\n",
    "    mask = np.expand_dims(mask, axis=0)\n",
    "    mask = np.expand_dims(mask, axis=-1)\n",
    "\n",
    "    mask = crop_center(mask)\n",
    "    return mask\n",
    "\n",
    "def crop_center(img,cropx=350,cropy=384):\n",
    "    # batch size, sequence, height, width, channels\n",
    "     # Only change height and width\n",
    "    _,_, y,x, _ = img.shape\n",
    "    startx = 20+x//2-(cropx//2)\n",
    "    starty = 40+y//2-(cropy//2)    \n",
    "    return img[:,:,starty:starty+cropy,startx:startx+cropx:,]\n",
    "\n",
    "def model():\n",
    "    input_seq = tf.keras.Input(shape=(5, 768, 700, 1))\n",
    "\n",
    "    down = tf.keras.layers.Conv2D(filters=8, kernel_size=(5, 5), strides=(2,2), padding='same')(input_seq)\n",
    "    down = tf.keras.layers.LeakyReLU()(down)\n",
    "    \n",
    "    convLSTM = tf.keras.layers.ConvLSTM2D(filters=64, kernel_size=(3, 3), \n",
    "                                          strides=(1,1),\n",
    "                                          padding='same', \n",
    "                                          return_sequences=True)(convLSTM)\n",
    "    \n",
    "    convLSTM = tf.keras.layers.ConvLSTM2D(filters=64, kernel_size=(3, 3), \n",
    "                                          strides=(1,1),\n",
    "                                          padding='same', \n",
    "                                          return_sequences=True)(convLSTM)\n",
    "    \n",
    "    output = tf.keras.layers.Conv2D(filters=1, kernel_size=(1, 1), \n",
    "                                    strides=(1,1), padding='same')(up)\n",
    "    \n",
    "    output = tf.keras.layers.Reshape(target_shape=(1,765, 700, 1))(output)\n",
    "    \n",
    "    output_with_mask = tf.keras.layers.Multiply()([down, get_mask_y()])\n",
    "    \n",
    "    model = tf.keras.Model(inputs=input_seq, outputs=output_with_mask)\n",
    "    return model\n",
    "\n",
    "model = model()\n",
    "model.summary()\n",
    "#plot_model(model)\n",
    "model.compile( optimizer='sgd',\n",
    "    loss='mse',\n",
    "    metrics=[tf.keras.metrics.MeanSquaredError()])\n"
   ]
  },
  {
   "cell_type": "code",
   "execution_count": 29,
   "metadata": {},
   "outputs": [],
   "source": [
    "from batchcreator import DataGenerator"
   ]
  },
  {
   "cell_type": "code",
   "execution_count": null,
   "metadata": {},
   "outputs": [],
   "source": [
    "class MyModel(tf.keras.Model):\n",
    "\n",
    "    def __init__(self):\n",
    "        super(MyModel, self).__init__()\n",
    "        self.dense1 = tf.keras.layers.Dense(4, activation=tf.nn.relu)\n",
    "        self.dense2 = tf.keras.layers.Dense(5, activation=tf.nn.softmax)\n",
    "\n",
    "    def call(self, inputs):\n",
    "        x = self.dense1(inputs)\n",
    "        return self.dense2(x)"
   ]
  }
 ],
 "metadata": {
  "kernelspec": {
   "display_name": "Python 3",
   "language": "python",
   "name": "python3"
  },
  "language_info": {
   "codemirror_mode": {
    "name": "ipython",
    "version": 3
   },
   "file_extension": ".py",
   "mimetype": "text/x-python",
   "name": "python",
   "nbconvert_exporter": "python",
   "pygments_lexer": "ipython3",
   "version": "3.7.9"
  }
 },
 "nbformat": 4,
 "nbformat_minor": 2
}
