{
 "cells": [
  {
   "cell_type": "code",
   "execution_count": 1,
   "metadata": {},
   "outputs": [],
   "source": [
    "from batchcreator import DataGenerator, get_list_IDs\n",
    "from datetime import datetime\n",
    "import tensorflow as tf\n",
    "from model_builder import build_generator, GAN\n",
    "import numpy as np"
   ]
  },
  {
   "cell_type": "code",
   "execution_count": 2,
   "metadata": {},
   "outputs": [
    {
     "name": "stdout",
     "output_type": "stream",
     "text": [
      "(['201905312335', '201905312340', '201905312345', '201905312350', '201905312355'], ['201906010000'])\n",
      "404\n"
     ]
    }
   ],
   "source": [
    "batch_size = 8\n",
    "\n",
    "# Create list of IDs to retrieve\n",
    "x_seq_size=5\n",
    "y_seq_size=1\n",
    "\n",
    "start_dt = datetime(2019,6,1,0,0)\n",
    "end_dt =  datetime(2019,6,8,0,0)\n",
    "# Exclude samples were there is no rain in the input\n",
    "filter_no_rain = True\n",
    "list_IDs = get_list_IDs(start_dt, end_dt, x_seq_size, y_seq_size, filter_no_rain=filter_no_rain)\n",
    "print(list_IDs[0])\n",
    "print(len(list_IDs))"
   ]
  },
  {
   "cell_type": "code",
   "execution_count": 3,
   "metadata": {},
   "outputs": [
    {
     "name": "stdout",
     "output_type": "stream",
     "text": [
      "(32, 5, 768, 700, 1) (32, 1, 384, 350, 1)\n",
      "(32, 5, 768, 700, 1) (32, 1, 384, 350, 1)\n",
      "(32, 5, 768, 700, 1) (32, 1, 384, 350, 1)\n",
      "(32, 5, 768, 700, 1) (32, 1, 384, 350, 1)\n",
      "(32, 5, 768, 700, 1) (32, 1, 384, 350, 1)\n",
      "(32, 5, 768, 700, 1) (32, 1, 384, 350, 1)\n",
      "(32, 5, 768, 700, 1) (32, 1, 384, 350, 1)\n",
      "(32, 5, 768, 700, 1) (32, 1, 384, 350, 1)\n",
      "(32, 5, 768, 700, 1) (32, 1, 384, 350, 1)\n",
      "(32, 5, 768, 700, 1) (32, 1, 384, 350, 1)\n",
      "(32, 5, 768, 700, 1) (32, 1, 384, 350, 1)\n",
      "(32, 5, 768, 700, 1) (32, 1, 384, 350, 1)\n"
     ]
    }
   ],
   "source": [
    "# Test generator\n",
    "generator = DataGenerator(list_IDs, batch_size=batch_size, x_seq_size=x_seq_size, \n",
    "                                       y_seq_size=y_seq_size, normalize_y=False)\n",
    "for i in generator:\n",
    "    x,y = i\n",
    "    print(x.shape, y.shape)"
   ]
  },
  {
   "cell_type": "code",
   "execution_count": 3,
   "metadata": {},
   "outputs": [],
   "source": [
    "model = GAN()\n",
    "model.compile()"
   ]
  },
  {
   "cell_type": "code",
   "execution_count": null,
   "metadata": {},
   "outputs": [
    {
     "name": "stdout",
     "output_type": "stream",
     "text": [
      " 14/404 [>.............................] - ETA: 1:33:14 - d_loss: 0.6904 - g_loss: 0.6949"
     ]
    }
   ],
   "source": [
    "generator = DataGenerator(list_IDs, batch_size=1, x_seq_size=x_seq_size, \n",
    "                                       y_seq_size=y_seq_size, normalize_y=False)\n",
    "hist = model.fit(generator, epochs=1)"
   ]
  }
 ],
 "metadata": {
  "kernelspec": {
   "display_name": "Python 3",
   "language": "python",
   "name": "python3"
  },
  "language_info": {
   "codemirror_mode": {
    "name": "ipython",
    "version": 3
   },
   "file_extension": ".py",
   "mimetype": "text/x-python",
   "name": "python",
   "nbconvert_exporter": "python",
   "pygments_lexer": "ipython3",
   "version": "3.8.7"
  }
 },
 "nbformat": 4,
 "nbformat_minor": 4
}
