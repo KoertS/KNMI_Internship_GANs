{
 "cells": [
  {
   "cell_type": "code",
   "execution_count": 1,
   "metadata": {},
   "outputs": [],
   "source": [
    "from batchcreator import DataGenerator, get_list_IDs\n",
    "from datetime import datetime\n",
    "import tensorflow as tf\n",
    "from model_builder import build_generator, GAN\n",
    "import numpy as np\n",
    "\n",
    "import matplotlib.pyplot as plt\n",
    "import logger"
   ]
  },
  {
   "cell_type": "code",
   "execution_count": 2,
   "metadata": {},
   "outputs": [],
   "source": [
    "import wandb\n",
    "from wandb.keras import WandbCallback"
   ]
  },
  {
   "cell_type": "code",
   "execution_count": 3,
   "metadata": {
    "scrolled": true
   },
   "outputs": [
    {
     "name": "stderr",
     "output_type": "stream",
     "text": [
      "\u001b[34m\u001b[1mwandb\u001b[0m: Currently logged in as: \u001b[33mkoert\u001b[0m (use `wandb login --relogin` to force relogin)\n"
     ]
    },
    {
     "data": {
      "text/html": [
       "\n",
       "                Tracking run with wandb version 0.10.30<br/>\n",
       "                Syncing run <strong style=\"color:#cdcd00\">winter-cloud-98</strong> to <a href=\"https://wandb.ai\" target=\"_blank\">Weights & Biases</a> <a href=\"https://docs.wandb.com/integrations/jupyter.html\" target=\"_blank\">(Documentation)</a>.<br/>\n",
       "                Project page: <a href=\"https://wandb.ai/koert/precipitation-forecasting\" target=\"_blank\">https://wandb.ai/koert/precipitation-forecasting</a><br/>\n",
       "                Run page: <a href=\"https://wandb.ai/koert/precipitation-forecasting/runs/16glrxzk\" target=\"_blank\">https://wandb.ai/koert/precipitation-forecasting/runs/16glrxzk</a><br/>\n",
       "                Run data is saved locally in <code>/usr/people/schreurs/KNMI_Internship_GANs/precipitation_forecasting/wandb/run-20210518_152738-16glrxzk</code><br/><br/>\n",
       "            "
      ],
      "text/plain": [
       "<IPython.core.display.HTML object>"
      ]
     },
     "metadata": {},
     "output_type": "display_data"
    }
   ],
   "source": [
    "run = wandb.init(project='precipitation-forecasting',\n",
    "                config={\n",
    "                    'batch_size': 1,\n",
    "                    'epochs': 5,\n",
    "                    'lr_g': 0.001,\n",
    "                    'lr_d': 0.0001,\n",
    "                    'x_length': 6,\n",
    "                    'y_length': 1,\n",
    "                    'rnn_type': 'GRU',\n",
    "                    'filter_no_rain': True,\n",
    "                    'g_model': 'AENN'\n",
    "                })\n",
    "config_wandb = wandb.config"
   ]
  },
  {
   "cell_type": "code",
   "execution_count": 4,
   "metadata": {},
   "outputs": [
    {
     "name": "stdout",
     "output_type": "stream",
     "text": [
      "(['201906080000', '201906080005', '201906080010', '201906080015', '201906080020', '201906080025'], ['201906080030'])\n",
      "76\n"
     ]
    }
   ],
   "source": [
    "start_dt = datetime(2019,6,6,0,0)\n",
    "end_dt =  datetime(2019,6,8,1,0)\n",
    "\n",
    "list_IDs = get_list_IDs(start_dt, end_dt, config_wandb.x_length, config_wandb.y_length, filter_no_rain=config_wandb.filter_no_rain)\n",
    "print(list_IDs[-1])\n",
    "print(len(list_IDs))"
   ]
  },
  {
   "cell_type": "code",
   "execution_count": 5,
   "metadata": {},
   "outputs": [
    {
     "name": "stdout",
     "output_type": "stream",
     "text": [
      "(['201906052330', '201906052335', '201906052340', '201906052345', '201906052350', '201906052355'], ['201906060000'])\n",
      "32\n"
     ]
    }
   ],
   "source": [
    "same_data = [list_IDs[0] for i in range(0, 32)]\n",
    "# same_data = [list_IDs[0],  list_IDs[0], list_IDs[0], list_IDs[0], list_IDs[0], list_IDs[0], list_IDs[0], list_IDs[0]]\n",
    "print(same_data[0])\n",
    "print(len(same_data))"
   ]
  },
  {
   "cell_type": "code",
   "execution_count": 6,
   "metadata": {},
   "outputs": [],
   "source": [
    "model = GAN(rnn_type=config_wandb.rnn_type, x_length=config_wandb.x_length, \n",
    "            y_length=config_wandb.y_length, architecture=config_wandb.g_model, relu_alpha=.2)\n",
    "model.compile(lr_g=config_wandb.lr_g, lr_d=config_wandb.lr_d)"
   ]
  },
  {
   "cell_type": "code",
   "execution_count": 7,
   "metadata": {},
   "outputs": [],
   "source": [
    "# model = build_generator(rnn_type=config_wandb.rnn_type, x_length=config_wandb.x_length, \n",
    "#             y_length=config_wandb.y_length, architecture=config_wandb.g_model, relu_alpha=.2)\n",
    "\n",
    "# from tensorflow.keras.optimizers import Adam\n",
    "\n",
    "# opt = Adam(learning_rate=0.01)\n",
    "# model.compile(loss = tf.keras.losses.MeanSquaredError(),  \n",
    "#    optimizer = opt, metrics=['mae'])"
   ]
  },
  {
   "cell_type": "code",
   "execution_count": 8,
   "metadata": {},
   "outputs": [
    {
     "name": "stdout",
     "output_type": "stream",
     "text": [
      "(123, 6, 768, 700, 1)\n",
      "(123, 1, 384, 350, 1)\n"
     ]
    }
   ],
   "source": [
    "# val data:\n",
    "start_dt = datetime(2019,6,5,0,0)\n",
    "end_dt =  datetime(2019,6,8,1,0)\n",
    "\n",
    "list_IDs = get_list_IDs(start_dt, end_dt, config_wandb.x_length, config_wandb.y_length, \n",
    "                        filter_no_rain=config_wandb.filter_no_rain)\n",
    "\n",
    "generator_val = DataGenerator(list_IDs, batch_size=config_wandb.batch_size, x_seq_size=config_wandb.x_length, \n",
    "                                       y_seq_size=config_wandb.y_length, norm_method=None, load_from_npy=True)\n",
    "\n",
    "x_test = []\n",
    "y_test = []\n",
    "\n",
    "for xs, ys in generator_val:\n",
    "    x_test.extend(xs)\n",
    "    y_test.extend(ys)\n",
    "x_test = np.array(x_test)\n",
    "y_test = np.array(y_test)\n",
    "# x_test = tf.convert_to_tensor(x_test)\n",
    "# y_test = tf.convert_to_tensor(y_test)\n",
    "print(x_test.shape)\n",
    "print(y_test.shape)"
   ]
  },
  {
   "cell_type": "code",
   "execution_count": 9,
   "metadata": {},
   "outputs": [],
   "source": [
    "# from tensorflow.keras import backend as K\n",
    "\n",
    "# # Define the Gradient Fucntion\n",
    "# epoch_gradient = []\n",
    "\n",
    "# def get_gradient_func(model):\n",
    "#     grads = K.gradients(model.total_loss, model.trainable_weights)\n",
    "#     inputs = model._feed_inputs + model._feed_targets + model._feed_sample_weights\n",
    "#     func = K.function(inputs, grads)\n",
    "#     return func\n",
    "\n",
    "# # Define the Required Callback Function\n",
    "# class GradientCalcCallback(tf.keras.callbacks.Callback):\n",
    "#   def on_epoch_end(self, epoch, logs=None):\n",
    "#       get_gradient = get_gradient_func(model)\n",
    "#       grads = get_gradient([test_images, test_labels, np.ones(len(test_labels))])\n",
    "#       epoch_gradient.append(grads)"
   ]
  },
  {
   "cell_type": "code",
   "execution_count": 10,
   "metadata": {},
   "outputs": [],
   "source": [
    "    def test_logger(x_test, y_test, n=4):\n",
    "        indexes = np.random.randint(0, len(x_test), n)\n",
    "\n",
    "        xs = x_test[indexes]\n",
    "        ys = y_test[indexes]\n",
    "        \n",
    "        batch_size = tf.shape(xs)[0]\n",
    "\n",
    "        # Decode them to fake images\n",
    "        generated_images = model.generator(xs)\n",
    "\n",
    "        # Combine them with real images\n",
    "        combined_images = tf.concat([generated_images, ys], axis=0)\n",
    "\n",
    "        # Assemble labels discriminating real from fake images\n",
    "        labels = tf.concat(\n",
    "            [tf.ones((batch_size, 1)), tf.zeros((batch_size, 1))], axis=0\n",
    "        )\n",
    "        \n",
    "        # Add random noise to the labels - important trick!\n",
    "        #labels += 0.05 * tf.random.uniform(tf.shape(labels))\n",
    "\n",
    "        # Train the discriminator\n",
    "        with tf.GradientTape() as tape:\n",
    "            predictions = model.discriminator(combined_images)\n",
    "            d_loss = model.loss_fn(labels, predictions)\n",
    "        grads_d = tape.gradient(d_loss, model.discriminator.trainable_weights)\n",
    "\n",
    "       \n",
    "      \n",
    "        # Assemble labels that say \"all real images\"\n",
    "        misleading_labels = tf.zeros((batch_size, 1))\n",
    "\n",
    "        # Train the generator (note that we should *not* update the weights\n",
    "        # of the discriminator)!\n",
    "        with tf.GradientTape() as tape:\n",
    "            predictions = model.discriminator(model.generator(xs))\n",
    "            g_loss_gan = model.loss_fn(misleading_labels, predictions)\n",
    "     \n",
    "           # g_loss_mse = self.loss_mse(ys, predictions)\n",
    "            g_loss = g_loss_gan #+ g_loss_mse\n",
    "        \n",
    "        grads_g = tape.gradient(g_loss, model.generator.trainable_weights)\n",
    "        print(len(grads_g))\n",
    "        return grads_g\n",
    "#         print(len(grads_g))\n",
    "#         #print(tf.shape(grads_g))\n",
    "#         grads_g = tf.reshape(grads_g)\n",
    "#         print(len(grads_g))\n",
    "#         print(grads_g)\n",
    " \n",
    "#         wandb.log({'grads_g': wandb.Histogram(grads_g)})\n"
   ]
  },
  {
   "cell_type": "code",
   "execution_count": 11,
   "metadata": {},
   "outputs": [
    {
     "name": "stdout",
     "output_type": "stream",
     "text": [
      "20\n"
     ]
    }
   ],
   "source": [
    "grads_g = test_logger(x_test,y_test)"
   ]
  },
  {
   "cell_type": "code",
   "execution_count": 12,
   "metadata": {},
   "outputs": [
    {
     "data": {
      "text/plain": [
       "(123, 6, 768, 700, 1)"
      ]
     },
     "execution_count": 12,
     "metadata": {},
     "output_type": "execute_result"
    }
   ],
   "source": [
    "x_test.shape"
   ]
  },
  {
   "cell_type": "code",
   "execution_count": null,
   "metadata": {},
   "outputs": [
    {
     "name": "stdout",
     "output_type": "stream",
     "text": [
      "Epoch 1/30\n",
      "3/3 [==============================] - 30s 9s/step - d_loss: 0.6707 - g_loss: 0.6936 - mse_loss: 0.0000e+00\n",
      "Epoch 2/30\n",
      "3/3 [==============================] - 28s 9s/step - d_loss: 0.6426 - g_loss: 0.6793 - mse_loss: 0.0000e+00\n",
      "Epoch 3/30\n",
      "3/3 [==============================] - 28s 9s/step - d_loss: 0.6660 - g_loss: 0.6436 - mse_loss: 0.0000e+00\n",
      "Epoch 4/30\n",
      "3/3 [==============================] - 28s 9s/step - d_loss: 0.6734 - g_loss: 0.6106 - mse_loss: 0.0000e+00\n",
      "Epoch 5/30\n",
      "3/3 [==============================] - 28s 9s/step - d_loss: 0.6852 - g_loss: 0.6032 - mse_loss: 0.0000e+00\n",
      "Epoch 6/30\n",
      "3/3 [==============================] - 28s 9s/step - d_loss: 0.6746 - g_loss: 0.6712 - mse_loss: 0.0000e+00\n",
      "Epoch 7/30\n",
      "3/3 [==============================] - 28s 9s/step - d_loss: 0.6098 - g_loss: 0.8189 - mse_loss: 0.0000e+00\n",
      "Epoch 8/30\n"
     ]
    }
   ],
   "source": [
    "generator = DataGenerator(list_IDs, batch_size=32, x_seq_size=config_wandb.x_length, \n",
    "                                       y_seq_size=config_wandb.y_length, norm_method=None, load_from_npy=True)\n",
    "\n",
    "wandb_callback = wandb.keras.WandbCallback()\n",
    "\n",
    "hist = model.fit(generator, epochs=30, \n",
    "                 callbacks=[wandb_callback, \n",
    "                            logger.GradientLogger(x_test,y_test), \n",
    "                            logger.ImageLogger(x_test,y_test)\n",
    "                           ])"
   ]
  },
  {
   "cell_type": "code",
   "execution_count": null,
   "metadata": {},
   "outputs": [],
   "source": [
    "generator = DataGenerator(same_data, batch_size=8, x_seq_size=config_wandb.x_length, \n",
    "                                       y_seq_size=config_wandb.y_length, norm_method=None, load_from_npy=True)\n",
    "\n",
    "wandb_callback = wandb.keras.WandbCallback()\n",
    "#training_data=(val_x, val_y), log_gradients=True\n",
    "hist = model.fit(generator, epochs=15, callbacks=[wandb_callback, logger.ImageLogger(x_test,y_test)])"
   ]
  },
  {
   "cell_type": "code",
   "execution_count": null,
   "metadata": {},
   "outputs": [],
   "source": [
    "xs_in = []\n",
    "ys_out = []\n",
    "for xs,ys in generator:\n",
    "   # print(xs.shape, ys.shape)\n",
    "    xs_in.append(xs)\n",
    "    ys_out.append(ys)\n",
    "ys_out = np.array(ys_out)\n",
    "xs_in = np.array(xs_in)\n",
    "\n",
    "print(xs_in.shape)\n",
    "print(ys_out.shape)"
   ]
  },
  {
   "cell_type": "code",
   "execution_count": null,
   "metadata": {},
   "outputs": [],
   "source": []
  },
  {
   "cell_type": "code",
   "execution_count": null,
   "metadata": {},
   "outputs": [],
   "source": [
    "plt.imshow(np.squeeze(ys_out[0][0]))\n",
    "plt.colorbar()"
   ]
  },
  {
   "cell_type": "code",
   "execution_count": null,
   "metadata": {},
   "outputs": [],
   "source": [
    "out = model.predict(xs_in[0])\n",
    "out.shape"
   ]
  },
  {
   "cell_type": "code",
   "execution_count": null,
   "metadata": {},
   "outputs": [],
   "source": [
    "plt.imshow(np.squeeze(out[0]))\n",
    "plt.colorbar()"
   ]
  },
  {
   "cell_type": "code",
   "execution_count": null,
   "metadata": {},
   "outputs": [],
   "source": []
  },
  {
   "cell_type": "code",
   "execution_count": null,
   "metadata": {},
   "outputs": [],
   "source": []
  },
  {
   "cell_type": "code",
   "execution_count": null,
   "metadata": {},
   "outputs": [],
   "source": []
  },
  {
   "cell_type": "code",
   "execution_count": null,
   "metadata": {},
   "outputs": [],
   "source": []
  },
  {
   "cell_type": "code",
   "execution_count": null,
   "metadata": {},
   "outputs": [],
   "source": [
    "out = model.predict(xs_in[0])\n",
    "out.shape"
   ]
  },
  {
   "cell_type": "code",
   "execution_count": null,
   "metadata": {},
   "outputs": [],
   "source": [
    "plt.imshow(np.squeeze(out[0]))\n",
    "plt.colorbar()"
   ]
  },
  {
   "cell_type": "code",
   "execution_count": null,
   "metadata": {},
   "outputs": [],
   "source": [
    "bins = np.linspace(1, 10000, 100)\n",
    "\n",
    "y = np.squeeze(ys[0]).flatten()\n",
    "y_pred = np.squeeze(out[0]).flatten()\n",
    "plt.hist(y, bins, alpha=0.5, label='y', color='r')\n",
    "plt.hist(y_pred, bins, alpha=0.5, label='y_pred', color='b')\n",
    "plt.legend(loc='upper right')\n",
    "plt.show()"
   ]
  },
  {
   "cell_type": "code",
   "execution_count": null,
   "metadata": {},
   "outputs": [],
   "source": [
    "np.unique(out[0])"
   ]
  },
  {
   "cell_type": "code",
   "execution_count": 14,
   "metadata": {},
   "outputs": [
    {
     "data": {
      "text/html": [
       "<br/>Waiting for W&B process to finish, PID 3315684<br/>Program ended successfully."
      ],
      "text/plain": [
       "<IPython.core.display.HTML object>"
      ]
     },
     "metadata": {},
     "output_type": "display_data"
    },
    {
     "data": {
      "application/vnd.jupyter.widget-view+json": {
       "model_id": "cdd3ee23bdbd4c19b10981229ff8b74f",
       "version_major": 2,
       "version_minor": 0
      },
      "text/plain": [
       "VBox(children=(Label(value=' 0.00MB of 0.00MB uploaded (0.00MB deduped)\\r'), FloatProgress(value=1.0, max=1.0)…"
      ]
     },
     "metadata": {},
     "output_type": "display_data"
    },
    {
     "data": {
      "text/html": [
       "Find user logs for this run at: <code>/usr/people/schreurs/KNMI_Internship_GANs/precipitation_forecasting/wandb/run-20210518_150520-18fpp5mf/logs/debug.log</code>"
      ],
      "text/plain": [
       "<IPython.core.display.HTML object>"
      ]
     },
     "metadata": {},
     "output_type": "display_data"
    },
    {
     "data": {
      "text/html": [
       "Find internal logs for this run at: <code>/usr/people/schreurs/KNMI_Internship_GANs/precipitation_forecasting/wandb/run-20210518_150520-18fpp5mf/logs/debug-internal.log</code>"
      ],
      "text/plain": [
       "<IPython.core.display.HTML object>"
      ]
     },
     "metadata": {},
     "output_type": "display_data"
    },
    {
     "data": {
      "text/html": [
       "<h3>Run summary:</h3><br/><style>\n",
       "    table.wandb td:nth-child(1) { padding: 0 10px; text-align: right }\n",
       "    </style><table class=\"wandb\">\n",
       "<tr><td>epoch</td><td>29</td></tr><tr><td>d_loss</td><td>0.34739</td></tr><tr><td>g_loss</td><td>0.70817</td></tr><tr><td>mse_loss</td><td>0.0</td></tr><tr><td>_runtime</td><td>756</td></tr><tr><td>_timestamp</td><td>1621351076</td></tr><tr><td>_step</td><td>65</td></tr></table>"
      ],
      "text/plain": [
       "<IPython.core.display.HTML object>"
      ]
     },
     "metadata": {},
     "output_type": "display_data"
    },
    {
     "data": {
      "text/html": [
       "<h3>Run history:</h3><br/><style>\n",
       "    table.wandb td:nth-child(1) { padding: 0 10px; text-align: right }\n",
       "    </style><table class=\"wandb\">\n",
       "<tr><td>epoch</td><td>▁▁▁▁▁▁▂▂▂▂▃▃▃▃▄▄▄▄▅▅▅▅▆▆▆▆▇▇▇▇███</td></tr><tr><td>d_loss</td><td>▂▂▄▆▆▆▇▇▆▆▆▆▆▇▇█▇█▇██▇▆▇▆▅▄▃▂▃▂▁▁</td></tr><tr><td>g_loss</td><td>▆▅▃▂▁▁▂▂▂▂▃▃▂▂▁▁▁▁▂▁▂▂▃▃▄▅▆▇███▇▇</td></tr><tr><td>mse_loss</td><td>▁▁▁▁▁▁▁▁▁▁▁▁▁▁▁▁▁▁▁▁▁▁▁▁▁▁▁▁▁▁▁▁▁</td></tr><tr><td>_runtime</td><td>▁▁▁▁▅▅▅▅▅▅▅▅▅▅▆▆▆▆▆▆▆▆▆▆▇▇▇▇▇▇▇▇▇▇██████</td></tr><tr><td>_timestamp</td><td>▁▁▁▁▅▅▅▅▅▅▅▅▅▅▆▆▆▆▆▆▆▆▆▆▇▇▇▇▇▇▇▇▇▇██████</td></tr><tr><td>_step</td><td>▁▁▁▂▂▂▂▂▂▃▃▃▃▃▃▄▄▄▄▄▅▅▅▅▅▅▆▆▆▆▆▆▇▇▇▇▇███</td></tr></table><br/>"
      ],
      "text/plain": [
       "<IPython.core.display.HTML object>"
      ]
     },
     "metadata": {},
     "output_type": "display_data"
    },
    {
     "data": {
      "text/html": [
       "Synced 5 W&B file(s), 1 media file(s), 0 artifact file(s) and 0 other file(s)"
      ],
      "text/plain": [
       "<IPython.core.display.HTML object>"
      ]
     },
     "metadata": {},
     "output_type": "display_data"
    },
    {
     "data": {
      "text/html": [
       "\n",
       "                    <br/>Synced <strong style=\"color:#cdcd00\">electric-mountain-95</strong>: <a href=\"https://wandb.ai/koert/precipitation-forecasting/runs/18fpp5mf\" target=\"_blank\">https://wandb.ai/koert/precipitation-forecasting/runs/18fpp5mf</a><br/>\n",
       "                "
      ],
      "text/plain": [
       "<IPython.core.display.HTML object>"
      ]
     },
     "metadata": {},
     "output_type": "display_data"
    }
   ],
   "source": [
    "run.finish()"
   ]
  },
  {
   "cell_type": "code",
   "execution_count": null,
   "metadata": {},
   "outputs": [],
   "source": [
    "model.save(\"gan_model\")"
   ]
  },
  {
   "cell_type": "code",
   "execution_count": null,
   "metadata": {},
   "outputs": [],
   "source": [
    "model.generator.save(\"generator\")"
   ]
  },
  {
   "cell_type": "code",
   "execution_count": null,
   "metadata": {},
   "outputs": [],
   "source": [
    "# Test generator\n",
    "start_dt = datetime(2019,6,6,0,0)\n",
    "end_dt =  datetime(2019,6,6,0,5)\n",
    "\n",
    "list_IDs = get_list_IDs(start_dt, end_dt, x_seq_size, y_seq_size, filter_no_rain=filter_no_rain)\n",
    "generator = DataGenerator(list_IDs, batch_size=1, x_seq_size=x_seq_size, \n",
    "                                       y_seq_size=y_seq_size, normalize_y=False)\n",
    "for i in generator:\n",
    "    x,y = i\n",
    "    print(x.shape, y.shape)"
   ]
  },
  {
   "cell_type": "code",
   "execution_count": null,
   "metadata": {},
   "outputs": [],
   "source": [
    "y_pred = model.generator(x)\n",
    "y_pred.shape"
   ]
  },
  {
   "cell_type": "code",
   "execution_count": null,
   "metadata": {},
   "outputs": [],
   "source": [
    "plt.figure()\n",
    "plt.subplot(1,2,1)\n",
    "plt.imshow(np.squeeze(y))\n",
    "plt.colorbar()\n",
    "plt.axis('off')\n",
    "plt.subplot(1,2,2)\n",
    "plt.imshow(np.squeeze(y_pred))\n",
    "plt.colorbar()\n",
    "plt.show()"
   ]
  },
  {
   "cell_type": "code",
   "execution_count": null,
   "metadata": {},
   "outputs": [],
   "source": [
    "plt.hist(y_pred.numpy().flatten())"
   ]
  },
  {
   "cell_type": "code",
   "execution_count": null,
   "metadata": {},
   "outputs": [],
   "source": [
    "model.discriminator(y_pred)"
   ]
  }
 ],
 "metadata": {
  "kernelspec": {
   "display_name": "Python 3",
   "language": "python",
   "name": "python3"
  },
  "language_info": {
   "codemirror_mode": {
    "name": "ipython",
    "version": 3
   },
   "file_extension": ".py",
   "mimetype": "text/x-python",
   "name": "python",
   "nbconvert_exporter": "python",
   "pygments_lexer": "ipython3",
   "version": "3.8.9"
  }
 },
 "nbformat": 4,
 "nbformat_minor": 4
}
