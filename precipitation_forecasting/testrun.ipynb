{
 "cells": [
  {
   "cell_type": "code",
   "execution_count": 1,
   "metadata": {},
   "outputs": [],
   "source": [
    "from batchcreator import DataGenerator, get_list_IDs\n",
    "from datetime import datetime\n",
    "import tensorflow as tf\n",
    "from model_builder import build_generator, GAN\n",
    "import numpy as np\n",
    "\n",
    "import matplotlib.pyplot as plt"
   ]
  },
  {
   "cell_type": "code",
   "execution_count": 2,
   "metadata": {},
   "outputs": [
    {
     "name": "stdout",
     "output_type": "stream",
     "text": [
      "Model: \"gan\"\n",
      "_________________________________________________________________\n",
      "Layer (type)                 Output Shape              Param #   \n",
      "=================================================================\n",
      "Discriminator (Functional)   (None, 1)                 394753    \n",
      "_________________________________________________________________\n",
      "Generator (Functional)       (None, 1, 384, 350, 1)    28904233  \n",
      "=================================================================\n",
      "Total params: 29,298,992\n",
      "Trainable params: 29,298,986\n",
      "Non-trainable params: 6\n",
      "_________________________________________________________________\n"
     ]
    }
   ],
   "source": [
    "model = GAN(rnn_type='LSTM')\n",
    "model.build((None,5, 768, 700, 1))\n",
    "model.compile()\n",
    "model.summary()"
   ]
  },
  {
   "cell_type": "code",
   "execution_count": 3,
   "metadata": {},
   "outputs": [
    {
     "name": "stdout",
     "output_type": "stream",
     "text": [
      "Model: \"gan_1\"\n",
      "_________________________________________________________________\n",
      "Layer (type)                 Output Shape              Param #   \n",
      "=================================================================\n",
      "Discriminator (Functional)   (None, 1)                 394753    \n",
      "_________________________________________________________________\n",
      "Generator (Functional)       (None, 1, 384, 350, 1)    22168105  \n",
      "=================================================================\n",
      "Total params: 22,562,864\n",
      "Trainable params: 22,562,858\n",
      "Non-trainable params: 6\n",
      "_________________________________________________________________\n"
     ]
    }
   ],
   "source": [
    "model = GAN(rnn_type='GRU')\n",
    "model.build((None,5, 768, 700, 1))\n",
    "model.compile()\n",
    "model.summary()"
   ]
  },
  {
   "cell_type": "code",
   "execution_count": 4,
   "metadata": {},
   "outputs": [
    {
     "name": "stdout",
     "output_type": "stream",
     "text": [
      "(['201906052355', '201906060000', '201906060005', '201906060010', '201906060015'], ['201906060020'])\n",
      "109\n"
     ]
    }
   ],
   "source": [
    "batch_size =1\n",
    "\n",
    "# Create list of IDs to retrieve\n",
    "x_seq_size=5\n",
    "y_seq_size=1\n",
    "\n",
    "start_dt = datetime(2019,6,4,0,0)\n",
    "end_dt =  datetime(2019,6,6,0,30)\n",
    "# Exclude samples were there is no rain in the input\n",
    "filter_no_rain = True\n",
    "list_IDs = get_list_IDs(start_dt, end_dt, x_seq_size, y_seq_size, filter_no_rain=filter_no_rain)\n",
    "print(list_IDs[-1])\n",
    "print(len(list_IDs))"
   ]
  },
  {
   "cell_type": "code",
   "execution_count": 5,
   "metadata": {},
   "outputs": [
    {
     "name": "stdout",
     "output_type": "stream",
     "text": [
      "(1, 5, 768, 700, 1) (1, 1, 384, 350, 1)\n",
      "(1, 5, 768, 700, 1) (1, 1, 384, 350, 1)\n",
      "(1, 5, 768, 700, 1) (1, 1, 384, 350, 1)\n",
      "(1, 5, 768, 700, 1) (1, 1, 384, 350, 1)\n",
      "(1, 5, 768, 700, 1) (1, 1, 384, 350, 1)\n",
      "(1, 5, 768, 700, 1) (1, 1, 384, 350, 1)\n",
      "(1, 5, 768, 700, 1) (1, 1, 384, 350, 1)\n",
      "(1, 5, 768, 700, 1) (1, 1, 384, 350, 1)\n",
      "(1, 5, 768, 700, 1) (1, 1, 384, 350, 1)\n",
      "(1, 5, 768, 700, 1) (1, 1, 384, 350, 1)\n",
      "(1, 5, 768, 700, 1) (1, 1, 384, 350, 1)\n",
      "(1, 5, 768, 700, 1) (1, 1, 384, 350, 1)\n",
      "(1, 5, 768, 700, 1) (1, 1, 384, 350, 1)\n",
      "(1, 5, 768, 700, 1) (1, 1, 384, 350, 1)\n",
      "(1, 5, 768, 700, 1) (1, 1, 384, 350, 1)\n",
      "(1, 5, 768, 700, 1) (1, 1, 384, 350, 1)\n",
      "(1, 5, 768, 700, 1) (1, 1, 384, 350, 1)\n",
      "(1, 5, 768, 700, 1) (1, 1, 384, 350, 1)\n",
      "(1, 5, 768, 700, 1) (1, 1, 384, 350, 1)\n",
      "(1, 5, 768, 700, 1) (1, 1, 384, 350, 1)\n",
      "(1, 5, 768, 700, 1) (1, 1, 384, 350, 1)\n",
      "(1, 5, 768, 700, 1) (1, 1, 384, 350, 1)\n",
      "(1, 5, 768, 700, 1) (1, 1, 384, 350, 1)\n",
      "(1, 5, 768, 700, 1) (1, 1, 384, 350, 1)\n",
      "(1, 5, 768, 700, 1) (1, 1, 384, 350, 1)\n",
      "(1, 5, 768, 700, 1) (1, 1, 384, 350, 1)\n",
      "(1, 5, 768, 700, 1) (1, 1, 384, 350, 1)\n",
      "(1, 5, 768, 700, 1) (1, 1, 384, 350, 1)\n",
      "(1, 5, 768, 700, 1) (1, 1, 384, 350, 1)\n",
      "(1, 5, 768, 700, 1) (1, 1, 384, 350, 1)\n",
      "(1, 5, 768, 700, 1) (1, 1, 384, 350, 1)\n",
      "(1, 5, 768, 700, 1) (1, 1, 384, 350, 1)\n",
      "(1, 5, 768, 700, 1) (1, 1, 384, 350, 1)\n",
      "(1, 5, 768, 700, 1) (1, 1, 384, 350, 1)\n",
      "(1, 5, 768, 700, 1) (1, 1, 384, 350, 1)\n",
      "(1, 5, 768, 700, 1) (1, 1, 384, 350, 1)\n",
      "(1, 5, 768, 700, 1) (1, 1, 384, 350, 1)\n",
      "(1, 5, 768, 700, 1) (1, 1, 384, 350, 1)\n",
      "(1, 5, 768, 700, 1) (1, 1, 384, 350, 1)\n",
      "(1, 5, 768, 700, 1) (1, 1, 384, 350, 1)\n",
      "(1, 5, 768, 700, 1) (1, 1, 384, 350, 1)\n",
      "(1, 5, 768, 700, 1) (1, 1, 384, 350, 1)\n",
      "(1, 5, 768, 700, 1) (1, 1, 384, 350, 1)\n",
      "(1, 5, 768, 700, 1) (1, 1, 384, 350, 1)\n",
      "(1, 5, 768, 700, 1) (1, 1, 384, 350, 1)\n",
      "(1, 5, 768, 700, 1) (1, 1, 384, 350, 1)\n",
      "(1, 5, 768, 700, 1) (1, 1, 384, 350, 1)\n",
      "(1, 5, 768, 700, 1) (1, 1, 384, 350, 1)\n",
      "(1, 5, 768, 700, 1) (1, 1, 384, 350, 1)\n",
      "(1, 5, 768, 700, 1) (1, 1, 384, 350, 1)\n",
      "(1, 5, 768, 700, 1) (1, 1, 384, 350, 1)\n",
      "(1, 5, 768, 700, 1) (1, 1, 384, 350, 1)\n",
      "(1, 5, 768, 700, 1) (1, 1, 384, 350, 1)\n",
      "(1, 5, 768, 700, 1) (1, 1, 384, 350, 1)\n",
      "(1, 5, 768, 700, 1) (1, 1, 384, 350, 1)\n",
      "(1, 5, 768, 700, 1) (1, 1, 384, 350, 1)\n",
      "(1, 5, 768, 700, 1) (1, 1, 384, 350, 1)\n",
      "(1, 5, 768, 700, 1) (1, 1, 384, 350, 1)\n",
      "(1, 5, 768, 700, 1) (1, 1, 384, 350, 1)\n",
      "(1, 5, 768, 700, 1) (1, 1, 384, 350, 1)\n",
      "(1, 5, 768, 700, 1) (1, 1, 384, 350, 1)\n",
      "(1, 5, 768, 700, 1) (1, 1, 384, 350, 1)\n",
      "(1, 5, 768, 700, 1) (1, 1, 384, 350, 1)\n",
      "(1, 5, 768, 700, 1) (1, 1, 384, 350, 1)\n",
      "(1, 5, 768, 700, 1) (1, 1, 384, 350, 1)\n",
      "(1, 5, 768, 700, 1) (1, 1, 384, 350, 1)\n",
      "(1, 5, 768, 700, 1) (1, 1, 384, 350, 1)\n",
      "(1, 5, 768, 700, 1) (1, 1, 384, 350, 1)\n",
      "(1, 5, 768, 700, 1) (1, 1, 384, 350, 1)\n",
      "(1, 5, 768, 700, 1) (1, 1, 384, 350, 1)\n",
      "(1, 5, 768, 700, 1) (1, 1, 384, 350, 1)\n",
      "(1, 5, 768, 700, 1) (1, 1, 384, 350, 1)\n",
      "(1, 5, 768, 700, 1) (1, 1, 384, 350, 1)\n",
      "(1, 5, 768, 700, 1) (1, 1, 384, 350, 1)\n",
      "(1, 5, 768, 700, 1) (1, 1, 384, 350, 1)\n",
      "(1, 5, 768, 700, 1) (1, 1, 384, 350, 1)\n",
      "(1, 5, 768, 700, 1) (1, 1, 384, 350, 1)\n",
      "(1, 5, 768, 700, 1) (1, 1, 384, 350, 1)\n",
      "(1, 5, 768, 700, 1) (1, 1, 384, 350, 1)\n",
      "(1, 5, 768, 700, 1) (1, 1, 384, 350, 1)\n",
      "(1, 5, 768, 700, 1) (1, 1, 384, 350, 1)\n",
      "(1, 5, 768, 700, 1) (1, 1, 384, 350, 1)\n",
      "(1, 5, 768, 700, 1) (1, 1, 384, 350, 1)\n",
      "(1, 5, 768, 700, 1) (1, 1, 384, 350, 1)\n",
      "(1, 5, 768, 700, 1) (1, 1, 384, 350, 1)\n",
      "(1, 5, 768, 700, 1) (1, 1, 384, 350, 1)\n",
      "(1, 5, 768, 700, 1) (1, 1, 384, 350, 1)\n",
      "(1, 5, 768, 700, 1) (1, 1, 384, 350, 1)\n",
      "(1, 5, 768, 700, 1) (1, 1, 384, 350, 1)\n",
      "(1, 5, 768, 700, 1) (1, 1, 384, 350, 1)\n",
      "(1, 5, 768, 700, 1) (1, 1, 384, 350, 1)\n",
      "(1, 5, 768, 700, 1) (1, 1, 384, 350, 1)\n",
      "(1, 5, 768, 700, 1) (1, 1, 384, 350, 1)\n",
      "(1, 5, 768, 700, 1) (1, 1, 384, 350, 1)\n",
      "(1, 5, 768, 700, 1) (1, 1, 384, 350, 1)\n",
      "(1, 5, 768, 700, 1) (1, 1, 384, 350, 1)\n",
      "(1, 5, 768, 700, 1) (1, 1, 384, 350, 1)\n",
      "(1, 5, 768, 700, 1) (1, 1, 384, 350, 1)\n",
      "(1, 5, 768, 700, 1) (1, 1, 384, 350, 1)\n",
      "(1, 5, 768, 700, 1) (1, 1, 384, 350, 1)\n",
      "(1, 5, 768, 700, 1) (1, 1, 384, 350, 1)\n",
      "(1, 5, 768, 700, 1) (1, 1, 384, 350, 1)\n",
      "(1, 5, 768, 700, 1) (1, 1, 384, 350, 1)\n",
      "(1, 5, 768, 700, 1) (1, 1, 384, 350, 1)\n",
      "(1, 5, 768, 700, 1) (1, 1, 384, 350, 1)\n",
      "(1, 5, 768, 700, 1) (1, 1, 384, 350, 1)\n",
      "(1, 5, 768, 700, 1) (1, 1, 384, 350, 1)\n",
      "(1, 5, 768, 700, 1) (1, 1, 384, 350, 1)\n",
      "(1, 5, 768, 700, 1) (1, 1, 384, 350, 1)\n"
     ]
    }
   ],
   "source": [
    "# Test generator\n",
    "generator = DataGenerator(list_IDs, batch_size=batch_size, x_seq_size=x_seq_size, \n",
    "                                       y_seq_size=y_seq_size, norm_method='minmax')\n",
    "for i in generator:\n",
    "    x,y = i\n",
    "    print(x.shape, y.shape)"
   ]
  },
  {
   "cell_type": "code",
   "execution_count": 6,
   "metadata": {},
   "outputs": [
    {
     "data": {
      "text/plain": [
       "<model_builder.GAN at 0x7fb7f8421460>"
      ]
     },
     "execution_count": 6,
     "metadata": {},
     "output_type": "execute_result"
    }
   ],
   "source": [
    "model"
   ]
  },
  {
   "cell_type": "code",
   "execution_count": null,
   "metadata": {},
   "outputs": [
    {
     "name": "stdout",
     "output_type": "stream",
     "text": [
      "Epoch 1/3\n",
      " 17/109 [===>..........................] - ETA: 11:46 - d_loss: 0.6931 - g_loss: 0.6931 - mse_loss: 0.2495"
     ]
    }
   ],
   "source": [
    "generator = DataGenerator(list_IDs, batch_size=batch_size, x_seq_size=x_seq_size, \n",
    "                                       y_seq_size=y_seq_size, norm_method='minmax')\n",
    "hist = model.fit(generator, epochs=3)"
   ]
  },
  {
   "cell_type": "code",
   "execution_count": null,
   "metadata": {},
   "outputs": [],
   "source": [
    "model.save(\"gan_model\")"
   ]
  },
  {
   "cell_type": "code",
   "execution_count": null,
   "metadata": {},
   "outputs": [],
   "source": [
    "model.generator.save(\"generator\")"
   ]
  },
  {
   "cell_type": "code",
   "execution_count": null,
   "metadata": {},
   "outputs": [],
   "source": [
    "# Test generator\n",
    "start_dt = datetime(2019,6,6,0,0)\n",
    "end_dt =  datetime(2019,6,6,0,5)\n",
    "\n",
    "list_IDs = get_list_IDs(start_dt, end_dt, x_seq_size, y_seq_size, filter_no_rain=filter_no_rain)\n",
    "generator = DataGenerator(list_IDs, batch_size=1, x_seq_size=x_seq_size, \n",
    "                                       y_seq_size=y_seq_size, normalize_y=False)\n",
    "for i in generator:\n",
    "    x,y = i\n",
    "    print(x.shape, y.shape)"
   ]
  },
  {
   "cell_type": "code",
   "execution_count": null,
   "metadata": {},
   "outputs": [],
   "source": [
    "y_pred = model.generator(x)\n",
    "y_pred.shape"
   ]
  },
  {
   "cell_type": "code",
   "execution_count": null,
   "metadata": {},
   "outputs": [],
   "source": [
    "plt.figure()\n",
    "plt.subplot(1,2,1)\n",
    "plt.imshow(np.squeeze(y))\n",
    "plt.colorbar()\n",
    "plt.axis('off')\n",
    "plt.subplot(1,2,2)\n",
    "plt.imshow(np.squeeze(y_pred))\n",
    "plt.colorbar()\n",
    "plt.show()"
   ]
  },
  {
   "cell_type": "code",
   "execution_count": null,
   "metadata": {},
   "outputs": [],
   "source": [
    "plt.hist(y_pred.numpy().flatten())"
   ]
  },
  {
   "cell_type": "code",
   "execution_count": null,
   "metadata": {},
   "outputs": [],
   "source": [
    "model.discriminator(y_pred)"
   ]
  }
 ],
 "metadata": {
  "kernelspec": {
   "display_name": "Python 3",
   "language": "python",
   "name": "python3"
  },
  "language_info": {
   "codemirror_mode": {
    "name": "ipython",
    "version": 3
   },
   "file_extension": ".py",
   "mimetype": "text/x-python",
   "name": "python",
   "nbconvert_exporter": "python",
   "pygments_lexer": "ipython3",
   "version": "3.8.7"
  }
 },
 "nbformat": 4,
 "nbformat_minor": 4
}
