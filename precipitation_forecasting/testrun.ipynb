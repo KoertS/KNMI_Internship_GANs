{
 "cells": [
  {
   "cell_type": "code",
   "execution_count": 1,
   "metadata": {},
   "outputs": [],
   "source": [
    "from batchcreator import DataGenerator, get_list_IDs\n",
    "from datetime import datetime\n",
    "import tensorflow as tf\n",
    "from model_builder import build_generator, GAN\n",
    "import numpy as np\n",
    "\n",
    "import matplotlib.pyplot as plt\n",
    "import logger\n",
    "\n",
    "import wandb\n",
    "from wandb.keras import WandbCallback"
   ]
  },
  {
   "cell_type": "code",
   "execution_count": 13,
   "metadata": {
    "scrolled": true
   },
   "outputs": [
    {
     "data": {
      "text/html": [
       "\n",
       "                Tracking run with wandb version 0.10.30<br/>\n",
       "                Syncing run <strong style=\"color:#cdcd00\">fearless-valley-135</strong> to <a href=\"https://wandb.ai\" target=\"_blank\">Weights & Biases</a> <a href=\"https://docs.wandb.com/integrations/jupyter.html\" target=\"_blank\">(Documentation)</a>.<br/>\n",
       "                Project page: <a href=\"https://wandb.ai/koert/precipitation-forecasting\" target=\"_blank\">https://wandb.ai/koert/precipitation-forecasting</a><br/>\n",
       "                Run page: <a href=\"https://wandb.ai/koert/precipitation-forecasting/runs/3vtw4wpa\" target=\"_blank\">https://wandb.ai/koert/precipitation-forecasting/runs/3vtw4wpa</a><br/>\n",
       "                Run data is saved locally in <code>/usr/people/schreurs/KNMI_Internship_GANs/precipitation_forecasting/wandb/run-20210521_080033-3vtw4wpa</code><br/><br/>\n",
       "            "
      ],
      "text/plain": [
       "<IPython.core.display.HTML object>"
      ]
     },
     "metadata": {},
     "output_type": "display_data"
    }
   ],
   "source": [
    "run = wandb.init(project='precipitation-forecasting',\n",
    "                config={\n",
    "                    'batch_size': 1,\n",
    "                    'epochs': 10,\n",
    "                    'lr_g': 0.0001,\n",
    "                    'lr_d': 0.0001,\n",
    "                    'x_length': 6,\n",
    "                    'y_length': 1,\n",
    "                    'rnn_type': 'GRU',\n",
    "                    'filter_no_rain': True,\n",
    "                    'architecture': 'AENN',\n",
    "                    'norm_method': None,\n",
    "                    'l_g': 0.06,\n",
    "                    'l_mse': 1\n",
    "                })\n",
    "config = wandb.config"
   ]
  },
  {
   "cell_type": "code",
   "execution_count": 3,
   "metadata": {},
   "outputs": [
    {
     "name": "stdout",
     "output_type": "stream",
     "text": [
      "(['201906080000', '201906080005', '201906080010', '201906080015', '201906080020', '201906080025'], ['201906080030'])\n",
      "76\n"
     ]
    }
   ],
   "source": [
    "start_dt = datetime(2019,6,6,0,0)\n",
    "end_dt =  datetime(2019,6,8,1,0)\n",
    "\n",
    "list_IDs = get_list_IDs(start_dt, end_dt, config.x_length, config.y_length, filter_no_rain=config.filter_no_rain)\n",
    "print(list_IDs[-1])\n",
    "print(len(list_IDs))"
   ]
  },
  {
   "cell_type": "code",
   "execution_count": 4,
   "metadata": {},
   "outputs": [
    {
     "name": "stdout",
     "output_type": "stream",
     "text": [
      "(['201906052330', '201906052335', '201906052340', '201906052345', '201906052350', '201906052355'], ['201906060000'])\n",
      "128\n"
     ]
    }
   ],
   "source": [
    "same_data = [list_IDs[0] for i in range(0, 128)]\n",
    "# same_data = [list_IDs[0],  list_IDs[0], list_IDs[0], list_IDs[0], list_IDs[0], list_IDs[0], list_IDs[0], list_IDs[0]]\n",
    "print(same_data[0])\n",
    "print(len(same_data))"
   ]
  },
  {
   "cell_type": "code",
   "execution_count": 5,
   "metadata": {},
   "outputs": [],
   "source": [
    "model = GAN(rnn_type=config.rnn_type, x_length=config.x_length, \n",
    "            y_length=config.y_length, architecture=config.architecture, relu_alpha=.2,\n",
    "           l_g = config.l_g, l_mse = config.l_mse)\n",
    "model.compile(lr_g=config.lr_g, lr_d=config.lr_d)"
   ]
  },
  {
   "cell_type": "code",
   "execution_count": 6,
   "metadata": {},
   "outputs": [
    {
     "name": "stdout",
     "output_type": "stream",
     "text": [
      "Model: \"Generator\"\n",
      "_________________________________________________________________\n",
      "Layer (type)                 Output Shape              Param #   \n",
      "=================================================================\n",
      "input_1 (InputLayer)         [(None, 6, 768, 700, 1)]  0         \n",
      "_________________________________________________________________\n",
      "zero_padding3d (ZeroPadding3 (None, 6, 768, 768, 1)    0         \n",
      "_________________________________________________________________\n",
      "conv2d (Conv2D)              (None, 6, 384, 384, 32)   832       \n",
      "_________________________________________________________________\n",
      "leaky_re_lu (LeakyReLU)      (None, 6, 384, 384, 32)   0         \n",
      "_________________________________________________________________\n",
      "conv2d_1 (Conv2D)            (None, 6, 128, 128, 32)   25632     \n",
      "_________________________________________________________________\n",
      "leaky_re_lu_1 (LeakyReLU)    (None, 6, 128, 128, 32)   0         \n",
      "_________________________________________________________________\n",
      "conv2d_2 (Conv2D)            (None, 6, 64, 64, 64)     18496     \n",
      "_________________________________________________________________\n",
      "leaky_re_lu_2 (LeakyReLU)    (None, 6, 64, 64, 64)     0         \n",
      "_________________________________________________________________\n",
      "conv2d_3 (Conv2D)            (None, 6, 32, 32, 128)    73856     \n",
      "_________________________________________________________________\n",
      "leaky_re_lu_3 (LeakyReLU)    (None, 6, 32, 32, 128)    0         \n",
      "_________________________________________________________________\n",
      "conv_gr_u2d (ConvGRU2D)      (None, 6, 32, 32, 128)    885120    \n",
      "_________________________________________________________________\n",
      "leaky_re_lu_4 (LeakyReLU)    (None, 6, 32, 32, 128)    0         \n",
      "_________________________________________________________________\n",
      "conv_gr_u2d_1 (ConvGRU2D)    (None, 32, 32, 128)       885120    \n",
      "_________________________________________________________________\n",
      "leaky_re_lu_5 (LeakyReLU)    (None, 32, 32, 128)       0         \n",
      "_________________________________________________________________\n",
      "conv2d_transpose (Conv2DTran (None, 64, 64, 64)        73792     \n",
      "_________________________________________________________________\n",
      "leaky_re_lu_6 (LeakyReLU)    (None, 64, 64, 64)        0         \n",
      "_________________________________________________________________\n",
      "conv2d_transpose_1 (Conv2DTr (None, 128, 128, 32)      18464     \n",
      "_________________________________________________________________\n",
      "leaky_re_lu_7 (LeakyReLU)    (None, 128, 128, 32)      0         \n",
      "_________________________________________________________________\n",
      "conv2d_transpose_2 (Conv2DTr (None, 384, 384, 1)       289       \n",
      "_________________________________________________________________\n",
      "cropping2d (Cropping2D)      (None, 384, 350, 1)       0         \n",
      "_________________________________________________________________\n",
      "reshape (Reshape)            (None, 1, 384, 350, 1)    0         \n",
      "_________________________________________________________________\n",
      "Mask (Lambda)                (None, 1, 384, 350, 1)    0         \n",
      "=================================================================\n",
      "Total params: 1,981,601\n",
      "Trainable params: 1,981,601\n",
      "Non-trainable params: 0\n",
      "_________________________________________________________________\n"
     ]
    }
   ],
   "source": [
    "model.generator.summary()"
   ]
  },
  {
   "cell_type": "code",
   "execution_count": 10,
   "metadata": {},
   "outputs": [
    {
     "name": "stdout",
     "output_type": "stream",
     "text": [
      "(8, 6, 768, 700, 1)\n",
      "(8, 1, 384, 350, 1)\n"
     ]
    }
   ],
   "source": [
    "# # val data:\n",
    "# start_dt = datetime(2019,6,5,0,0)\n",
    "# end_dt =  datetime(2019,6,8,1,0)\n",
    "\n",
    "# list_IDs = get_list_IDs(start_dt, end_dt, config.x_length, config.y_length, \n",
    "#                         filter_no_rain=config.filter_no_rain)\n",
    "\n",
    "generator_val = DataGenerator(list_IDs[:8], batch_size=config.batch_size, x_seq_size=config.x_length, \n",
    "                                       y_seq_size=config.y_length, norm_method=config.norm_method, load_from_npy=True)\n",
    "\n",
    "x_test = []\n",
    "y_test = []\n",
    "\n",
    "for xs, ys in generator_val:\n",
    "    x_test.extend(xs)\n",
    "    y_test.extend(ys)\n",
    "x_test = np.array(x_test)\n",
    "y_test = np.array(y_test)\n",
    "# x_test = tf.convert_to_tensor(x_test)\n",
    "# y_test = tf.convert_to_tensor(y_test)\n",
    "print(x_test.shape)\n",
    "print(y_test.shape)"
   ]
  },
  {
   "cell_type": "code",
   "execution_count": 14,
   "metadata": {},
   "outputs": [],
   "source": [
    "model = build_generator(architecture='AENN', rnn_type='GRU', relu_alpha=0.2)\n",
    "opt = tf.keras.optimizers.Adam(learning_rate=0.001)\n",
    "model.compile(loss='mse', metrics=['mse', 'mae'])"
   ]
  },
  {
   "cell_type": "code",
   "execution_count": null,
   "metadata": {},
   "outputs": [
    {
     "name": "stdout",
     "output_type": "stream",
     "text": [
      "Epoch 1/50\n",
      "76/76 [==============================] - 31s 407ms/step - loss: 27.7332 - mse: 27.7332 - mae: 0.7178\n",
      "Epoch 2/50\n",
      "76/76 [==============================] - 31s 410ms/step - loss: 26.4639 - mse: 26.4639 - mae: 0.7208\n",
      "Epoch 3/50\n",
      "76/76 [==============================] - 32s 414ms/step - loss: 24.3607 - mse: 24.3607 - mae: 0.6809\n",
      "Epoch 4/50\n",
      "76/76 [==============================] - 31s 414ms/step - loss: 26.6739 - mse: 26.6739 - mae: 0.6985\n",
      "Epoch 5/50\n",
      "76/76 [==============================] - 32s 414ms/step - loss: 25.4764 - mse: 25.4764 - mae: 0.6921\n",
      "Epoch 6/50\n",
      "76/76 [==============================] - 32s 415ms/step - loss: 25.7297 - mse: 25.7297 - mae: 0.6999\n",
      "Epoch 7/50\n",
      "76/76 [==============================] - 31s 414ms/step - loss: 24.7049 - mse: 24.7049 - mae: 0.6818\n",
      "Epoch 8/50\n",
      "76/76 [==============================] - 31s 414ms/step - loss: 27.0332 - mse: 27.0333 - mae: 0.7111\n",
      "Epoch 9/50\n",
      "76/76 [==============================] - 31s 413ms/step - loss: 24.0465 - mse: 24.0465 - mae: 0.6669\n",
      "Epoch 10/50\n",
      "76/76 [==============================] - 31s 413ms/step - loss: 25.1084 - mse: 25.1084 - mae: 0.7157\n",
      "Epoch 11/50\n",
      "76/76 [==============================] - 32s 414ms/step - loss: 24.4722 - mse: 24.4722 - mae: 0.6942\n",
      "Epoch 12/50\n",
      " 6/76 [=>............................] - ETA: 28s - loss: 1.4378 - mse: 1.4378 - mae: 0.2578"
     ]
    }
   ],
   "source": [
    "generator = DataGenerator(list_IDs, batch_size=1, x_seq_size=config.x_length, \n",
    "                                       y_seq_size=config.y_length, norm_method=config.norm_method, load_from_npy=True)\n",
    "wandb_callback = wandb.keras.WandbCallback()\n",
    "\n",
    "hist = model.fit(generator, epochs=50, \n",
    "                 callbacks=[wandb_callback, \n",
    "                          #  logger.GradientLogger(x_test,y_test), \n",
    "                            logger.ImageLogger(x_test,y_test)\n",
    "                           ])"
   ]
  },
  {
   "cell_type": "code",
   "execution_count": 23,
   "metadata": {},
   "outputs": [
    {
     "name": "stdout",
     "output_type": "stream",
     "text": [
      "(76, 1, 6, 768, 700, 1)\n",
      "(76, 1, 1, 384, 350, 1)\n"
     ]
    }
   ],
   "source": [
    "xs_in = []\n",
    "ys_out = []\n",
    "for xs,ys in generator:\n",
    "   # print(xs.shape, ys.shape)\n",
    "    xs_in.append(xs)\n",
    "    ys_out.append(ys)\n",
    "ys_out = np.array(ys_out)\n",
    "xs_in = np.array(xs_in)\n",
    "\n",
    "print(xs_in.shape)\n",
    "print(ys_out.shape)"
   ]
  },
  {
   "cell_type": "code",
   "execution_count": 24,
   "metadata": {},
   "outputs": [
    {
     "data": {
      "text/plain": [
       "<matplotlib.colorbar.Colorbar at 0x7fb0913d9d00>"
      ]
     },
     "execution_count": 24,
     "metadata": {},
     "output_type": "execute_result"
    },
    {
     "data": {
      "image/png": "[encoded data removed]",
      "text/plain": [
       "<Figure size 432x288 with 2 Axes>"
      ]
     },
     "metadata": {
      "needs_background": "light"
     },
     "output_type": "display_data"
    }
   ],
   "source": [
    "plt.imshow(np.squeeze(xs_in[0][0][-1]))\n",
    "plt.colorbar()"
   ]
  },
  {
   "cell_type": "code",
   "execution_count": 25,
   "metadata": {},
   "outputs": [
    {
     "data": {
      "text/plain": [
       "<matplotlib.colorbar.Colorbar at 0x7fb091411fd0>"
      ]
     },
     "execution_count": 25,
     "metadata": {},
     "output_type": "execute_result"
    },
    {
     "data": {
      "image/png": "[encoded data removed]",
      "text/plain": [
       "<Figure size 432x288 with 2 Axes>"
      ]
     },
     "metadata": {
      "needs_background": "light"
     },
     "output_type": "display_data"
    }
   ],
   "source": [
    "plt.imshow(np.squeeze(ys_out[0][0]))\n",
    "plt.colorbar()"
   ]
  },
  {
   "cell_type": "code",
   "execution_count": 26,
   "metadata": {},
   "outputs": [
    {
     "name": "stdout",
     "output_type": "stream",
     "text": [
      "(1, 1, 384, 350, 1)\n"
     ]
    },
    {
     "data": {
      "text/plain": [
       "<matplotlib.colorbar.Colorbar at 0x7fb0b05ac730>"
      ]
     },
     "execution_count": 26,
     "metadata": {},
     "output_type": "execute_result"
    },
    {
     "data": {
      "image/png": "[encoded data removed]",
      "text/plain": [
       "<Figure size 432x288 with 2 Axes>"
      ]
     },
     "metadata": {
      "needs_background": "light"
     },
     "output_type": "display_data"
    }
   ],
   "source": [
    "out = model.predict(xs_in[0])\n",
    "print(out.shape)\n",
    "plt.imshow(np.squeeze(out[0]))\n",
    "plt.colorbar()"
   ]
  },
  {
   "cell_type": "code",
   "execution_count": 23,
   "metadata": {},
   "outputs": [
    {
     "data": {
      "image/png": "[encoded data removed]",
      "text/plain": [
       "<Figure size 432x288 with 1 Axes>"
      ]
     },
     "metadata": {
      "needs_background": "light"
     },
     "output_type": "display_data"
    }
   ],
   "source": [
    "bins = np.linspace(1, 10000, 100)\n",
    "\n",
    "y = np.squeeze(ys[0]).flatten()\n",
    "y_pred = np.squeeze(out[0]).flatten()\n",
    "plt.hist(y, bins, alpha=0.5, label='y', color='r')\n",
    "plt.hist(y_pred, bins, alpha=0.5, label='y_pred', color='b')\n",
    "plt.legend(loc='upper right')\n",
    "plt.show()"
   ]
  },
  {
   "cell_type": "code",
   "execution_count": null,
   "metadata": {},
   "outputs": [],
   "source": []
  },
  {
   "cell_type": "code",
   "execution_count": null,
   "metadata": {},
   "outputs": [],
   "source": []
  },
  {
   "cell_type": "code",
   "execution_count": null,
   "metadata": {},
   "outputs": [],
   "source": [
    "np.unique(out[0])"
   ]
  },
  {
   "cell_type": "code",
   "execution_count": null,
   "metadata": {},
   "outputs": [],
   "source": []
  },
  {
   "cell_type": "code",
   "execution_count": null,
   "metadata": {},
   "outputs": [],
   "source": []
  },
  {
   "cell_type": "code",
   "execution_count": null,
   "metadata": {},
   "outputs": [],
   "source": [
    "out = model.predict(xs_in[0])\n",
    "out.shape"
   ]
  },
  {
   "cell_type": "code",
   "execution_count": null,
   "metadata": {},
   "outputs": [],
   "source": [
    "plt.imshow(np.squeeze(out[0]))\n",
    "plt.colorbar()"
   ]
  },
  {
   "cell_type": "code",
   "execution_count": 12,
   "metadata": {},
   "outputs": [
    {
     "data": {
      "text/html": [
       "<br/>Waiting for W&B process to finish, PID 3924656<br/>Program ended successfully."
      ],
      "text/plain": [
       "<IPython.core.display.HTML object>"
      ]
     },
     "metadata": {},
     "output_type": "display_data"
    },
    {
     "data": {
      "application/vnd.jupyter.widget-view+json": {
       "model_id": "3699edf32fe24918b33c08fd0933e136",
       "version_major": 2,
       "version_minor": 0
      },
      "text/plain": [
       "VBox(children=(Label(value=' 0.00MB of 0.00MB uploaded (0.00MB deduped)\\r'), FloatProgress(value=1.0, max=1.0)…"
      ]
     },
     "metadata": {},
     "output_type": "display_data"
    },
    {
     "data": {
      "text/html": [
       "Find user logs for this run at: <code>/usr/people/schreurs/KNMI_Internship_GANs/precipitation_forecasting/wandb/run-20210521_075110-2f0z57dz/logs/debug.log</code>"
      ],
      "text/plain": [
       "<IPython.core.display.HTML object>"
      ]
     },
     "metadata": {},
     "output_type": "display_data"
    },
    {
     "data": {
      "text/html": [
       "Find internal logs for this run at: <code>/usr/people/schreurs/KNMI_Internship_GANs/precipitation_forecasting/wandb/run-20210521_075110-2f0z57dz/logs/debug-internal.log</code>"
      ],
      "text/plain": [
       "<IPython.core.display.HTML object>"
      ]
     },
     "metadata": {},
     "output_type": "display_data"
    },
    {
     "data": {
      "text/html": [
       "Synced 5 W&B file(s), 0 media file(s), 0 artifact file(s) and 0 other file(s)"
      ],
      "text/plain": [
       "<IPython.core.display.HTML object>"
      ]
     },
     "metadata": {},
     "output_type": "display_data"
    },
    {
     "data": {
      "text/html": [
       "\n",
       "                    <br/>Synced <strong style=\"color:#cdcd00\">floral-frog-134</strong>: <a href=\"https://wandb.ai/koert/precipitation-forecasting/runs/2f0z57dz\" target=\"_blank\">https://wandb.ai/koert/precipitation-forecasting/runs/2f0z57dz</a><br/>\n",
       "                "
      ],
      "text/plain": [
       "<IPython.core.display.HTML object>"
      ]
     },
     "metadata": {},
     "output_type": "display_data"
    }
   ],
   "source": [
    "run.finish()"
   ]
  },
  {
   "cell_type": "code",
   "execution_count": null,
   "metadata": {},
   "outputs": [],
   "source": [
    "model.save(\"gan_model\")"
   ]
  },
  {
   "cell_type": "code",
   "execution_count": null,
   "metadata": {},
   "outputs": [],
   "source": [
    "model.generator.save(\"generator\")"
   ]
  },
  {
   "cell_type": "code",
   "execution_count": null,
   "metadata": {},
   "outputs": [],
   "source": [
    "# Test generator\n",
    "start_dt = datetime(2019,6,6,0,0)\n",
    "end_dt =  datetime(2019,6,6,0,5)\n",
    "\n",
    "list_IDs = get_list_IDs(start_dt, end_dt, x_seq_size, y_seq_size, filter_no_rain=filter_no_rain)\n",
    "generator = DataGenerator(list_IDs, batch_size=1, x_seq_size=x_seq_size, \n",
    "                                       y_seq_size=y_seq_size, normalize_y=False)\n",
    "for i in generator:\n",
    "    x,y = i\n",
    "    print(x.shape, y.shape)"
   ]
  },
  {
   "cell_type": "code",
   "execution_count": null,
   "metadata": {},
   "outputs": [],
   "source": [
    "y_pred = model.generator(x)\n",
    "y_pred.shape"
   ]
  },
  {
   "cell_type": "code",
   "execution_count": null,
   "metadata": {},
   "outputs": [],
   "source": [
    "plt.figure()\n",
    "plt.subplot(1,2,1)\n",
    "plt.imshow(np.squeeze(y))\n",
    "plt.colorbar()\n",
    "plt.axis('off')\n",
    "plt.subplot(1,2,2)\n",
    "plt.imshow(np.squeeze(y_pred))\n",
    "plt.colorbar()\n",
    "plt.show()"
   ]
  },
  {
   "cell_type": "code",
   "execution_count": null,
   "metadata": {},
   "outputs": [],
   "source": [
    "plt.hist(y_pred.numpy().flatten())"
   ]
  },
  {
   "cell_type": "code",
   "execution_count": null,
   "metadata": {},
   "outputs": [],
   "source": [
    "model.discriminator(y_pred)"
   ]
  }
 ],
 "metadata": {
  "kernelspec": {
   "display_name": "Python 3",
   "language": "python",
   "name": "python3"
  },
  "language_info": {
   "codemirror_mode": {
    "name": "ipython",
    "version": 3
   },
   "file_extension": ".py",
   "mimetype": "text/x-python",
   "name": "python",
   "nbconvert_exporter": "python",
   "pygments_lexer": "ipython3",
   "version": "3.8.9"
  }
 },
 "nbformat": 4,
 "nbformat_minor": 4
}
