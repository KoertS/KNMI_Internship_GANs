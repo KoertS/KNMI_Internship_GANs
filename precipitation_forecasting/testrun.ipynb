{
 "cells": [
  {
   "cell_type": "code",
   "execution_count": 16,
   "metadata": {},
   "outputs": [],
   "source": [
    "from batchcreator import DataGenerator, get_list_IDs\n",
    "from datetime import datetime\n",
    "import tensorflow as tf\n",
    "from model_builder import build_generator"
   ]
  },
  {
   "cell_type": "code",
   "execution_count": 19,
   "metadata": {},
   "outputs": [
    {
     "name": "stdout",
     "output_type": "stream",
     "text": [
      "(['201905312335', '201905312340', '201905312345', '201905312350', '201905312355'], ['201906010000'])\n",
      "1671\n"
     ]
    }
   ],
   "source": [
    "# Create list of IDs to retrieve\n",
    "x_seq_size=5\n",
    "y_seq_size=1\n",
    "\n",
    "start_dt = datetime(2019,6,1,0,0)\n",
    "end_dt =  datetime(2019,6,30,0)\n",
    "# Exclude samples were there is no rain in the input\n",
    "filter_no_rain = False\n",
    "list_IDs = get_list_IDs(start_dt, end_dt, x_seq_size, y_seq_size, filter_no_rain=filter_no_rain)\n",
    "print(list_IDs[0])\n",
    "print(len(list_IDs))"
   ]
  },
  {
   "cell_type": "code",
   "execution_count": 24,
   "metadata": {},
   "outputs": [],
   "source": [
    "generator = DataGenerator(list_IDs, batch_size=256, x_seq_size=x_seq_size, \n",
    "                                       y_seq_size=y_seq_size, normalize_y=False)"
   ]
  },
  {
   "cell_type": "code",
   "execution_count": 25,
   "metadata": {},
   "outputs": [
    {
     "name": "stdout",
     "output_type": "stream",
     "text": [
      "(256, 5, 768, 700, 1) (256, 1, 384, 350, 1)\n",
      "(256, 5, 768, 700, 1) (256, 1, 384, 350, 1)\n",
      "(256, 5, 768, 700, 1) (256, 1, 384, 350, 1)\n",
      "(256, 5, 768, 700, 1) (256, 1, 384, 350, 1)\n",
      "(256, 5, 768, 700, 1) (256, 1, 384, 350, 1)\n",
      "(256, 5, 768, 700, 1) (256, 1, 384, 350, 1)\n"
     ]
    }
   ],
   "source": [
    "for i in generator:\n",
    "    x,y = i\n",
    "    print(x.shape, y.shape)"
   ]
  },
  {
   "cell_type": "code",
   "execution_count": 17,
   "metadata": {},
   "outputs": [
    {
     "name": "stdout",
     "output_type": "stream",
     "text": [
      "Model: \"Generator\"\n",
      "_________________________________________________________________\n",
      "Layer (type)                 Output Shape              Param #   \n",
      "=================================================================\n",
      "input_2 (InputLayer)         [(None, 5, 768, 700, 1)]  0         \n",
      "_________________________________________________________________\n",
      "Downsample1a (Conv3D)        (None, 5, 384, 350, 8)    80        \n",
      "_________________________________________________________________\n",
      "leaky_re_lu_18 (LeakyReLU)   (None, 5, 384, 350, 8)    0         \n",
      "_________________________________________________________________\n",
      "Downsample1b (Conv2D)        (None, 5, 192, 175, 8)    584       \n",
      "_________________________________________________________________\n",
      "leaky_re_lu_19 (LeakyReLU)   (None, 5, 192, 175, 8)    0         \n",
      "_________________________________________________________________\n",
      "ConvLSTM1a (ConvLSTM2D)      (None, 5, 192, 175, 64)   166144    \n",
      "_________________________________________________________________\n",
      "leaky_re_lu_20 (LeakyReLU)   (None, 5, 192, 175, 64)   0         \n",
      "_________________________________________________________________\n",
      "ConvLSTM1b (ConvLSTM2D)      (None, 5, 192, 175, 64)   295168    \n",
      "_________________________________________________________________\n",
      "leaky_re_lu_21 (LeakyReLU)   (None, 5, 192, 175, 64)   0         \n",
      "_________________________________________________________________\n",
      "Downsample2 (Conv2D)         (None, 5, 64, 59, 64)     102464    \n",
      "_________________________________________________________________\n",
      "leaky_re_lu_22 (LeakyReLU)   (None, 5, 64, 59, 64)     0         \n",
      "_________________________________________________________________\n",
      "ConvLSTM2a (ConvLSTM2D)      (None, 5, 64, 59, 192)    1770240   \n",
      "_________________________________________________________________\n",
      "leaky_re_lu_23 (LeakyReLU)   (None, 5, 64, 59, 192)    0         \n",
      "_________________________________________________________________\n",
      "ConvLSTM2b (ConvLSTM2D)      (None, 5, 64, 59, 192)    2654976   \n",
      "_________________________________________________________________\n",
      "leaky_re_lu_24 (LeakyReLU)   (None, 5, 64, 59, 192)    0         \n",
      "_________________________________________________________________\n",
      "Downsample3 (Conv2D)         (None, 5, 32, 30, 192)    331968    \n",
      "_________________________________________________________________\n",
      "leaky_re_lu_25 (LeakyReLU)   (None, 5, 32, 30, 192)    0         \n",
      "_________________________________________________________________\n",
      "ConvLSTM3a (ConvLSTM2D)      (None, 5, 32, 30, 192)    2654976   \n",
      "_________________________________________________________________\n",
      "leaky_re_lu_26 (LeakyReLU)   (None, 5, 32, 30, 192)    0         \n",
      "_________________________________________________________________\n",
      "ConvLSTM3b (ConvLSTM2D)      (None, 5, 32, 30, 192)    2654976   \n",
      "_________________________________________________________________\n",
      "leaky_re_lu_27 (LeakyReLU)   (None, 5, 32, 30, 192)    0         \n",
      "_________________________________________________________________\n",
      "Decoder_Block1_ConvLSTM_1 (C (None, 5, 32, 30, 192)    2654976   \n",
      "_________________________________________________________________\n",
      "leaky_re_lu_28 (LeakyReLU)   (None, 5, 32, 30, 192)    0         \n",
      "_________________________________________________________________\n",
      "Decoder_Block1_ConvLSTM_2 (C (None, 5, 32, 30, 192)    2654976   \n",
      "_________________________________________________________________\n",
      "leaky_re_lu_29 (LeakyReLU)   (None, 5, 32, 30, 192)    0         \n",
      "_________________________________________________________________\n",
      "Upsample1 (Conv3DTranspose)  (None, 5, 64, 60, 192)    590016    \n",
      "_________________________________________________________________\n",
      "cropping3d_2 (Cropping3D)    (None, 5, 64, 59, 192)    0         \n",
      "_________________________________________________________________\n",
      "leaky_re_lu_30 (LeakyReLU)   (None, 5, 64, 59, 192)    0         \n",
      "_________________________________________________________________\n",
      "Decoder_Block2_ConvLSTM_1 (C (None, 5, 64, 59, 192)    2654976   \n",
      "_________________________________________________________________\n",
      "leaky_re_lu_31 (LeakyReLU)   (None, 5, 64, 59, 192)    0         \n",
      "_________________________________________________________________\n",
      "Decoder_Block2_ConvLSTM_2 (C (None, 5, 64, 59, 192)    7373568   \n",
      "_________________________________________________________________\n",
      "leaky_re_lu_32 (LeakyReLU)   (None, 5, 64, 59, 192)    0         \n",
      "_________________________________________________________________\n",
      "Upsample2 (Conv3DTranspose)  (None, 5, 192, 177, 192)  921792    \n",
      "_________________________________________________________________\n",
      "cropping3d_3 (Cropping3D)    (None, 5, 192, 175, 192)  0         \n",
      "_________________________________________________________________\n",
      "leaky_re_lu_33 (LeakyReLU)   (None, 5, 192, 175, 192)  0         \n",
      "_________________________________________________________________\n",
      "Decoder_Block3_ConvLSTM_1 (C (None, 5, 192, 175, 64)   590080    \n",
      "_________________________________________________________________\n",
      "leaky_re_lu_34 (LeakyReLU)   (None, 5, 192, 175, 64)   0         \n",
      "_________________________________________________________________\n",
      "Decoder_Block3_ConvLSTM_2 (C (None, 192, 175, 64)      819456    \n",
      "_________________________________________________________________\n",
      "leaky_re_lu_35 (LeakyReLU)   (None, 192, 175, 64)      0         \n",
      "_________________________________________________________________\n",
      "Upsample3 (Conv2DTranspose)  (None, 384, 350, 8)       12808     \n",
      "_________________________________________________________________\n",
      "Conv (Conv2DTranspose)       (None, 384, 350, 1)       9         \n",
      "_________________________________________________________________\n",
      "reshape_1 (Reshape)          (None, 1, 384, 350, 1)    0         \n",
      "_________________________________________________________________\n",
      "Mask (Multiply)              (None, 1, 384, 350, 1)    0         \n",
      "=================================================================\n",
      "Total params: 28,904,233\n",
      "Trainable params: 28,904,233\n",
      "Non-trainable params: 0\n",
      "_________________________________________________________________\n"
     ]
    }
   ],
   "source": [
    "model = build_generator()\n",
    "model.summary()\n",
    "#plot_model(model)\n",
    "model.compile( optimizer='sgd',\n",
    "    loss='mse',\n",
    "    metrics=[tf.keras.metrics.MeanSquaredError()])"
   ]
  },
  {
   "cell_type": "code",
   "execution_count": 18,
   "metadata": {},
   "outputs": [
    {
     "name": "stdout",
     "output_type": "stream",
     "text": [
      "Epoch 1/3\n",
      "2/2 [==============================] - 69s 24s/step - loss: 794.3126 - mean_squared_error: 794.3126\n",
      "Epoch 2/3\n",
      "2/2 [==============================] - 48s 24s/step - loss: 1986.5670 - mean_squared_error: 1986.5671\n",
      "Epoch 3/3\n",
      "2/2 [==============================] - 48s 24s/step - loss: 780.2461 - mean_squared_error: 780.2461\n"
     ]
    }
   ],
   "source": [
    "hist = model.fit(generator, epochs=3)"
   ]
  }
 ],
 "metadata": {
  "kernelspec": {
   "display_name": "Python 3",
   "language": "python",
   "name": "python3"
  },
  "language_info": {
   "codemirror_mode": {
    "name": "ipython",
    "version": 3
   },
   "file_extension": ".py",
   "mimetype": "text/x-python",
   "name": "python",
   "nbconvert_exporter": "python",
   "pygments_lexer": "ipython3",
   "version": "3.8.7"
  }
 },
 "nbformat": 4,
 "nbformat_minor": 4
}
