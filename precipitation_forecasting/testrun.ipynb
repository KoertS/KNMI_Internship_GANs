{
 "cells": [
  {
   "cell_type": "code",
   "execution_count": 16,
   "metadata": {},
   "outputs": [],
   "source": [
    "from batchcreator import DataGenerator, get_list_IDs\n",
    "from datetime import datetime\n",
    "import tensorflow as tf\n",
    "from model_builder import build_generator, GAN\n",
    "import numpy as np\n",
    "\n",
    "import matplotlib.pyplot as plt"
   ]
  },
  {
   "cell_type": "code",
   "execution_count": 2,
   "metadata": {},
   "outputs": [
    {
     "name": "stdout",
     "output_type": "stream",
     "text": [
      "(['201905312335', '201905312340', '201905312345', '201905312350', '201905312355'], ['201906010000'])\n",
      "404\n"
     ]
    }
   ],
   "source": [
    "batch_size = 8\n",
    "\n",
    "# Create list of IDs to retrieve\n",
    "x_seq_size=5\n",
    "y_seq_size=1\n",
    "\n",
    "start_dt = datetime(2019,6,1,0,0)\n",
    "end_dt =  datetime(2019,6,8,0,0)\n",
    "# Exclude samples were there is no rain in the input\n",
    "filter_no_rain = True\n",
    "list_IDs = get_list_IDs(start_dt, end_dt, x_seq_size, y_seq_size, filter_no_rain=filter_no_rain)\n",
    "print(list_IDs[0])\n",
    "print(len(list_IDs))"
   ]
  },
  {
   "cell_type": "code",
   "execution_count": 3,
   "metadata": {},
   "outputs": [
    {
     "name": "stdout",
     "output_type": "stream",
     "text": [
      "(32, 5, 768, 700, 1) (32, 1, 384, 350, 1)\n",
      "(32, 5, 768, 700, 1) (32, 1, 384, 350, 1)\n",
      "(32, 5, 768, 700, 1) (32, 1, 384, 350, 1)\n",
      "(32, 5, 768, 700, 1) (32, 1, 384, 350, 1)\n",
      "(32, 5, 768, 700, 1) (32, 1, 384, 350, 1)\n",
      "(32, 5, 768, 700, 1) (32, 1, 384, 350, 1)\n",
      "(32, 5, 768, 700, 1) (32, 1, 384, 350, 1)\n",
      "(32, 5, 768, 700, 1) (32, 1, 384, 350, 1)\n",
      "(32, 5, 768, 700, 1) (32, 1, 384, 350, 1)\n",
      "(32, 5, 768, 700, 1) (32, 1, 384, 350, 1)\n",
      "(32, 5, 768, 700, 1) (32, 1, 384, 350, 1)\n",
      "(32, 5, 768, 700, 1) (32, 1, 384, 350, 1)\n"
     ]
    }
   ],
   "source": [
    "# Test generator\n",
    "generator = DataGenerator(list_IDs, batch_size=batch_size, x_seq_size=x_seq_size, \n",
    "                                       y_seq_size=y_seq_size, normalize_y=False)\n",
    "for i in generator:\n",
    "    x,y = i\n",
    "    print(x.shape, y.shape)"
   ]
  },
  {
   "cell_type": "code",
   "execution_count": 3,
   "metadata": {},
   "outputs": [],
   "source": [
    "model = GAN()\n",
    "model.compile()"
   ]
  },
  {
   "cell_type": "code",
   "execution_count": 5,
   "metadata": {},
   "outputs": [
    {
     "name": "stdout",
     "output_type": "stream",
     "text": [
      "Epoch 1/3\n",
      "50/50 [==============================] - 6054s 121s/step - d_loss: 0.6385 - g_loss: 0.7887\n",
      "Epoch 2/3\n",
      "50/50 [==============================] - 6078s 121s/step - d_loss: 0.6652 - g_loss: 0.6625\n",
      "Epoch 3/3\n",
      "50/50 [==============================] - 6105s 122s/step - d_loss: 0.6621 - g_loss: 0.8691\n"
     ]
    }
   ],
   "source": [
    "generator = DataGenerator(list_IDs, batch_size=batch_size, x_seq_size=x_seq_size, \n",
    "                                       y_seq_size=y_seq_size, normalize_y=False)\n",
    "hist = model.fit(generator, epochs=3)"
   ]
  },
  {
   "cell_type": "code",
   "execution_count": 6,
   "metadata": {},
   "outputs": [
    {
     "name": "stdout",
     "output_type": "stream",
     "text": [
      "INFO:tensorflow:Assets written to: gan_model/assets\n"
     ]
    }
   ],
   "source": [
    "model.save(\"gan_model\")"
   ]
  },
  {
   "cell_type": "code",
   "execution_count": 7,
   "metadata": {},
   "outputs": [
    {
     "name": "stdout",
     "output_type": "stream",
     "text": [
      "INFO:tensorflow:Assets written to: generator/assets\n"
     ]
    }
   ],
   "source": [
    "model.generator.save(\"generator\")"
   ]
  },
  {
   "cell_type": "code",
   "execution_count": 31,
   "metadata": {},
   "outputs": [
    {
     "name": "stdout",
     "output_type": "stream",
     "text": [
      "(1, 5, 768, 700, 1) (1, 1, 384, 350, 1)\n"
     ]
    }
   ],
   "source": [
    "# Test generator\n",
    "start_dt = datetime(2019,6,6,0,0)\n",
    "end_dt =  datetime(2019,6,6,0,5)\n",
    "\n",
    "list_IDs = get_list_IDs(start_dt, end_dt, x_seq_size, y_seq_size, filter_no_rain=filter_no_rain)\n",
    "generator = DataGenerator(list_IDs, batch_size=1, x_seq_size=x_seq_size, \n",
    "                                       y_seq_size=y_seq_size, normalize_y=False)\n",
    "for i in generator:\n",
    "    x,y = i\n",
    "    print(x.shape, y.shape)"
   ]
  },
  {
   "cell_type": "code",
   "execution_count": 32,
   "metadata": {},
   "outputs": [
    {
     "data": {
      "text/plain": [
       "TensorShape([1, 1, 384, 350, 1])"
      ]
     },
     "execution_count": 32,
     "metadata": {},
     "output_type": "execute_result"
    }
   ],
   "source": [
    "y_pred = model.generator(x)\n",
    "y_pred.shape"
   ]
  },
  {
   "cell_type": "code",
   "execution_count": 45,
   "metadata": {},
   "outputs": [
    {
     "data": {
      "image/png": "[encoded data removed]",
      "text/plain": [
       "<Figure size 432x288 with 4 Axes>"
      ]
     },
     "metadata": {
      "needs_background": "light"
     },
     "output_type": "display_data"
    }
   ],
   "source": [
    "plt.figure()\n",
    "plt.subplot(1,2,1)\n",
    "plt.imshow(np.squeeze(y))\n",
    "plt.colorbar()\n",
    "plt.axis('off')\n",
    "plt.subplot(1,2,2)\n",
    "plt.imshow(np.squeeze(y_pred))\n",
    "plt.colorbar()\n",
    "plt.show()"
   ]
  },
  {
   "cell_type": "code",
   "execution_count": 34,
   "metadata": {},
   "outputs": [
    {
     "data": {
      "text/plain": [
       "(array([78661., 13933., 13932.,     0.,     0., 13938.,     0.,     0.,\n",
       "            0., 13936.]),\n",
       " array([0.       , 0.2914844, 0.5829688, 0.8744531, 1.1659375, 1.4574219,\n",
       "        1.7489063, 2.0403907, 2.331875 , 2.6233594, 2.9148438],\n",
       "       dtype=float32),\n",
       " <a list of 10 Patch objects>)"
      ]
     },
     "execution_count": 34,
     "metadata": {},
     "output_type": "execute_result"
    },
    {
     "data": {
      "image/png": "[encoded data removed]",
      "text/plain": [
       "<Figure size 432x288 with 1 Axes>"
      ]
     },
     "metadata": {
      "needs_background": "light"
     },
     "output_type": "display_data"
    }
   ],
   "source": [
    "plt.hist(y_pred.numpy().flatten())"
   ]
  },
  {
   "cell_type": "code",
   "execution_count": 50,
   "metadata": {},
   "outputs": [
    {
     "data": {
      "text/plain": [
       "<tf.Tensor: shape=(1, 1), dtype=float32, numpy=array([[0.6865262]], dtype=float32)>"
      ]
     },
     "execution_count": 50,
     "metadata": {},
     "output_type": "execute_result"
    }
   ],
   "source": [
    "model.discriminator(y_pred)"
   ]
  },
  {
   "cell_type": "code",
   "execution_count": 56,
   "metadata": {},
   "outputs": [
    {
     "name": "stdout",
     "output_type": "stream",
     "text": [
      "(['201901010320', '201901010325', '201901010330', '201901010335', '201901010340'], ['201901010345'])\n",
      "20134\n"
     ]
    }
   ],
   "source": [
    "# Run with only generator and mse loss:\n",
    "batch_size = 32\n",
    "\n",
    "# Create list of IDs to retrieve\n",
    "x_seq_size=5\n",
    "y_seq_size=1\n",
    "\n",
    "start_dt = datetime(2019,1,1,0,0)\n",
    "end_dt =  datetime(2019,12,31,23,55)\n",
    "# Exclude samples were there is no rain in the input\n",
    "filter_no_rain = True\n",
    "list_IDs = get_list_IDs(start_dt, end_dt, x_seq_size, y_seq_size, filter_no_rain=filter_no_rain)\n",
    "print(list_IDs[0])\n",
    "print(len(list_IDs))"
   ]
  },
  {
   "cell_type": "code",
   "execution_count": 57,
   "metadata": {},
   "outputs": [],
   "source": [
    "model = build_generator()\n",
    "model.compile(loss='mse', optimizer='adam', metrics=['mse'])"
   ]
  },
  {
   "cell_type": "code",
   "execution_count": null,
   "metadata": {},
   "outputs": [],
   "source": [
    "generator = DataGenerator(list_IDs, batch_size=batch_size, x_seq_size=x_seq_size, \n",
    "                                       y_seq_size=y_seq_size, normalize_y=False)\n",
    "model.fit(generator, epochs=3)"
   ]
  }
 ],
 "metadata": {
  "kernelspec": {
   "display_name": "Python 3",
   "language": "python",
   "name": "python3"
  },
  "language_info": {
   "codemirror_mode": {
    "name": "ipython",
    "version": 3
   },
   "file_extension": ".py",
   "mimetype": "text/x-python",
   "name": "python",
   "nbconvert_exporter": "python",
   "pygments_lexer": "ipython3",
   "version": "3.8.7"
  }
 },
 "nbformat": 4,
 "nbformat_minor": 4
}
