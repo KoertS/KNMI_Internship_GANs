{
 "cells": [
  {
   "cell_type": "code",
   "execution_count": 25,
   "metadata": {},
   "outputs": [],
   "source": [
    "import os\n",
    "import tarfile\n",
    "import re\n",
    "import numpy as np\n",
    "import h5py\n",
    "import matplotlib.pyplot as plt\n",
    "import pandas as pd\n",
    "from tqdm import tqdm\n",
    "import zipfile\n",
    "from datetime import datetime"
   ]
  },
  {
   "cell_type": "markdown",
   "metadata": {},
   "source": [
    "# rtcor Radar Data"
   ]
  },
  {
   "cell_type": "code",
   "execution_count": 1,
   "metadata": {},
   "outputs": [],
   "source": [
    "path_ds = '/nobackup/users/schreurs/project_GAN/dataset_radar'"
   ]
  },
  {
   "cell_type": "code",
   "execution_count": 2,
   "metadata": {},
   "outputs": [
    {
     "name": "stdout",
     "output_type": "stream",
     "text": [
      "\u001b[0m\u001b[01;31mRAD25_OPER_R___TARRRT__L2__20181219080000_20181220075500_0001.tar\u001b[0m\r\n",
      "\u001b[01;31mRAD25_OPER_R___TARRRT__L2__20181220080000_20181221075500_0001.tar\u001b[0m\r\n",
      "\u001b[01;31mRAD25_OPER_R___TARRRT__L2__20181221080000_20181222075500_0001.tar\u001b[0m\r\n",
      "\u001b[01;31mRAD25_OPER_R___TARRRT__L2__20181222T080500_20181223T080000_0001.tar\u001b[0m\r\n",
      "\u001b[01;31mRAD25_OPER_R___TARRRT__L2__20181223T080500_20181224T080000_0001.tar\u001b[0m\r\n",
      "ls: write error\r\n"
     ]
    }
   ],
   "source": [
    "ls /nobackup/users/schreurs/project_GAN/dataset_radar | head -5"
   ]
  },
  {
   "cell_type": "code",
   "execution_count": 5,
   "metadata": {},
   "outputs": [
    {
     "name": "stdout",
     "output_type": "stream",
     "text": [
      "Number of days in dataset =  795\n"
     ]
    }
   ],
   "source": [
    "files = sorted([f for f in os.listdir(path_ds) if os.path.isfile(os.path.join(path_ds, f))])\n",
    "print(\"Number of days in dataset = \", len(files))"
   ]
  },
  {
   "cell_type": "markdown",
   "metadata": {},
   "source": [
    "## Unpack tar files"
   ]
  },
  {
   "cell_type": "code",
   "execution_count": 10,
   "metadata": {},
   "outputs": [
    {
     "name": "stdout",
     "output_type": "stream",
     "text": [
      "tar path:  /nobackup/users/schreurs/project_GAN/dataset_radar/RAD25_OPER_R___TARRRT__L2__20181219080000_20181220075500_0001.tar\n",
      "unpack in folder:  /nobackup/users/schreurs/project_GAN/dataset_radar\n"
     ]
    }
   ],
   "source": [
    "# Testing path\n",
    "tar_path = path_ds + '/' + files[0]\n",
    "print(\"tar path: \", tar_path)\n",
    "print(\"unpack in folder: \", path_ds)"
   ]
  },
  {
   "cell_type": "code",
   "execution_count": 11,
   "metadata": {},
   "outputs": [
    {
     "name": "stderr",
     "output_type": "stream",
     "text": [
      "100%|██████████| 795/795 [06:50<00:00,  1.94it/s]\n"
     ]
    }
   ],
   "source": [
    "for file in tqdm(files):\n",
    "    tar_path = path_ds + '/' + file\n",
    "    \n",
    "    tar_file = tarfile.open(tar_path)\n",
    "    tar_file.extractall(path_ds)\n",
    "    tar_file.close()"
   ]
  },
  {
   "cell_type": "code",
   "execution_count": 20,
   "metadata": {},
   "outputs": [
    {
     "name": "stdout",
     "output_type": "stream",
     "text": [
      "Number of scans in dataset =  227679\n"
     ]
    }
   ],
   "source": [
    "radar_scans = sorted([f for f in os.listdir(path_ds) if (os.path.isfile(os.path.join(path_ds, f)) and f.endswith('.h5'))])\n",
    "print(\"Number of scans in dataset = \", len(radar_scans))"
   ]
  },
  {
   "cell_type": "code",
   "execution_count": 21,
   "metadata": {},
   "outputs": [
    {
     "data": {
      "text/plain": [
       "'RAD_NL25_RAC_RT_201812190800.h5'"
      ]
     },
     "execution_count": 21,
     "metadata": {},
     "output_type": "execute_result"
    }
   ],
   "source": [
    "radar_scans[0]"
   ]
  },
  {
   "cell_type": "markdown",
   "metadata": {},
   "source": [
    "## Checking for missing data"
   ]
  },
  {
   "cell_type": "code",
   "execution_count": 12,
   "metadata": {},
   "outputs": [],
   "source": [
    "regex_timestamp = re.compile('(\\d{12})\\.h5')\n",
    "def get_datetime(filename):\n",
    "    '''\n",
    "    Infer datetime from filename\n",
    "    '''\n",
    "    timestamp=None\n",
    "    dt=None\n",
    "    # check if regex pattern finds a timestamp\n",
    "    try:\n",
    "        timestamp = regex_timestamp.findall(filename)[0] \n",
    "        dt = datetime.strptime(str(timestamp), '%Y%m%d%H%M')\n",
    "    except:\n",
    "        print('Error: could not find timestamp in file {}'.format(filename))\n",
    "    return dt"
   ]
  },
  {
   "cell_type": "code",
   "execution_count": 13,
   "metadata": {},
   "outputs": [],
   "source": [
    "def get_diff_minutes(d1, d2):\n",
    "    '''\n",
    "    Returns the difference in minutes between first date d1 and the next date d2\n",
    "    '''\n",
    "    diff = int((d2-d1).seconds / 60)\n",
    "    return diff"
   ]
  },
  {
   "cell_type": "code",
   "execution_count": 30,
   "metadata": {},
   "outputs": [],
   "source": [
    "def gap_between(filename1, filename2):\n",
    "    '''\n",
    "    Checks if difference in time between two consecutive files is 5 minutes.\n",
    "    If it is not, print the two timestamps\n",
    "    Returns the number of scans missing between two files (time difference/5)\n",
    "    '''\n",
    "    d1 = get_datetime(filename1)\n",
    "    d2 = get_datetime(filename2)\n",
    "    \n",
    "    diff = get_diff_minutes(d1, d2)\n",
    "    \n",
    "    if diff != 5:\n",
    "        print('{} minutes gap between {} and {}'.format(diff,d1,d2))\n",
    "        return diff/5\n",
    "    return 0"
   ]
  },
  {
   "cell_type": "code",
   "execution_count": 54,
   "metadata": {},
   "outputs": [
    {
     "name": "stdout",
     "output_type": "stream",
     "text": [
      "10 minutes gap between 2018-12-19 10:25:00 and 2018-12-19 10:35:00\n",
      "15 minutes gap between 2018-12-19 10:45:00 and 2018-12-19 11:00:00\n",
      "30 minutes gap between 2018-12-19 13:15:00 and 2018-12-19 13:45:00\n",
      "10 minutes gap between 2018-12-19 14:10:00 and 2018-12-19 14:20:00\n",
      "65 minutes gap between 2018-12-19 14:30:00 and 2018-12-19 15:35:00\n",
      "15 minutes gap between 2018-12-19 18:40:00 and 2018-12-19 18:55:00\n",
      "40 minutes gap between 2018-12-19 19:40:00 and 2018-12-19 20:20:00\n",
      "120 minutes gap between 2018-12-19 20:30:00 and 2018-12-19 22:30:00\n",
      "170 minutes gap between 2018-12-19 22:35:00 and 2018-12-20 01:25:00\n",
      "15 minutes gap between 2018-12-20 01:25:00 and 2018-12-20 01:40:00\n",
      "10 minutes gap between 2018-12-20 09:15:00 and 2018-12-20 09:25:00\n",
      "10 minutes gap between 2018-12-20 12:10:00 and 2018-12-20 12:20:00\n",
      "10 minutes gap between 2018-12-20 21:15:00 and 2018-12-20 21:25:00\n",
      "10 minutes gap between 2018-12-21 17:25:00 and 2018-12-21 17:35:00\n",
      "15 minutes gap between 2018-12-21 21:35:00 and 2018-12-21 21:50:00\n",
      "35 minutes gap between 2018-12-21 22:05:00 and 2018-12-21 22:40:00\n",
      "10 minutes gap between 2018-12-21 23:35:00 and 2018-12-21 23:45:00\n",
      "10 minutes gap between 2018-12-22 02:10:00 and 2018-12-22 02:20:00\n",
      "10 minutes gap between 2018-12-22 07:55:00 and 2018-12-22 08:05:00\n",
      "10 minutes gap between 2018-12-22 10:55:00 and 2018-12-22 11:05:00\n",
      "10 minutes gap between 2018-12-22 22:55:00 and 2018-12-22 23:05:00\n",
      "10 minutes gap between 2018-12-24 07:55:00 and 2018-12-24 08:05:00\n",
      "10 minutes gap between 2018-12-24 22:55:00 and 2018-12-24 23:05:00\n",
      "10 minutes gap between 2018-12-25 07:55:00 and 2018-12-25 08:05:00\n",
      "10 minutes gap between 2018-12-25 13:55:00 and 2018-12-25 14:05:00\n",
      "10 minutes gap between 2018-12-25 16:55:00 and 2018-12-25 17:05:00\n",
      "10 minutes gap between 2018-12-25 22:55:00 and 2018-12-25 23:05:00\n",
      "10 minutes gap between 2018-12-26 04:55:00 and 2018-12-26 05:05:00\n",
      "10 minutes gap between 2018-12-26 07:55:00 and 2018-12-26 08:05:00\n",
      "10 minutes gap between 2018-12-26 08:35:00 and 2018-12-26 08:45:00\n",
      "10 minutes gap between 2018-12-26 16:55:00 and 2018-12-26 17:05:00\n",
      "10 minutes gap between 2018-12-26 19:55:00 and 2018-12-26 20:05:00\n",
      "45 minutes gap between 2018-12-28 01:50:00 and 2018-12-28 02:35:00\n",
      "10 minutes gap between 2018-12-29 07:45:00 and 2018-12-29 07:55:00\n",
      "10 minutes gap between 2018-12-29 08:05:00 and 2018-12-29 08:15:00\n",
      "10 minutes gap between 2018-12-29 08:40:00 and 2018-12-29 08:50:00\n",
      "10 minutes gap between 2018-12-29 18:25:00 and 2018-12-29 18:35:00\n",
      "10 minutes gap between 2018-12-29 20:10:00 and 2018-12-29 20:20:00\n",
      "10 minutes gap between 2018-12-29 20:50:00 and 2018-12-29 21:00:00\n",
      "10 minutes gap between 2018-12-30 16:45:00 and 2018-12-30 16:55:00\n",
      "10 minutes gap between 2018-12-30 17:20:00 and 2018-12-30 17:30:00\n",
      "10 minutes gap between 2018-12-31 04:55:00 and 2018-12-31 05:05:00\n",
      "10 minutes gap between 2018-12-31 10:55:00 and 2018-12-31 11:05:00\n",
      "10 minutes gap between 2018-12-31 19:55:00 and 2018-12-31 20:05:00\n",
      "10 minutes gap between 2019-01-01 13:20:00 and 2019-01-01 13:30:00\n",
      "10 minutes gap between 2019-01-02 04:25:00 and 2019-01-02 04:35:00\n",
      "10 minutes gap between 2019-01-02 16:55:00 and 2019-01-02 17:05:00\n",
      "10 minutes gap between 2019-01-02 18:00:00 and 2019-01-02 18:10:00\n",
      "10 minutes gap between 2019-01-02 19:50:00 and 2019-01-02 20:00:00\n",
      "10 minutes gap between 2019-01-03 11:00:00 and 2019-01-03 11:10:00\n",
      "10 minutes gap between 2019-01-04 00:00:00 and 2019-01-04 00:10:00\n",
      "10 minutes gap between 2019-01-04 03:25:00 and 2019-01-04 03:35:00\n",
      "10 minutes gap between 2019-01-05 04:55:00 and 2019-01-05 05:05:00\n",
      "10 minutes gap between 2019-01-08 04:15:00 and 2019-01-08 04:25:00\n",
      "10 minutes gap between 2019-01-09 02:10:00 and 2019-01-09 02:20:00\n",
      "10 minutes gap between 2019-01-10 11:00:00 and 2019-01-10 11:10:00\n",
      "10 minutes gap between 2019-01-10 23:05:00 and 2019-01-10 23:15:00\n",
      "10 minutes gap between 2019-01-11 20:00:00 and 2019-01-11 20:10:00\n",
      "10 minutes gap between 2019-01-11 20:20:00 and 2019-01-11 20:30:00\n",
      "10 minutes gap between 2019-01-11 20:45:00 and 2019-01-11 20:55:00\n",
      "10 minutes gap between 2019-01-11 22:05:00 and 2019-01-11 22:15:00\n",
      "10 minutes gap between 2019-01-12 06:30:00 and 2019-01-12 06:40:00\n",
      "10 minutes gap between 2019-01-12 10:30:00 and 2019-01-12 10:40:00\n",
      "10 minutes gap between 2019-01-12 11:15:00 and 2019-01-12 11:25:00\n",
      "10 minutes gap between 2019-01-12 12:05:00 and 2019-01-12 12:15:00\n",
      "10 minutes gap between 2019-01-12 12:15:00 and 2019-01-12 12:25:00\n",
      "15 minutes gap between 2019-01-12 12:30:00 and 2019-01-12 12:45:00\n",
      "10 minutes gap between 2019-01-12 12:50:00 and 2019-01-12 13:00:00\n",
      "15 minutes gap between 2019-01-12 14:10:00 and 2019-01-12 14:25:00\n",
      "10 minutes gap between 2019-01-12 14:25:00 and 2019-01-12 14:35:00\n",
      "15 minutes gap between 2019-01-12 14:35:00 and 2019-01-12 14:50:00\n",
      "10 minutes gap between 2019-01-12 15:25:00 and 2019-01-12 15:35:00\n",
      "10 minutes gap between 2019-01-12 15:35:00 and 2019-01-12 15:45:00\n",
      "10 minutes gap between 2019-01-12 15:50:00 and 2019-01-12 16:00:00\n",
      "10 minutes gap between 2019-01-12 16:05:00 and 2019-01-12 16:15:00\n",
      "10 minutes gap between 2019-01-12 16:35:00 and 2019-01-12 16:45:00\n",
      "10 minutes gap between 2019-01-12 16:55:00 and 2019-01-12 17:05:00\n",
      "10 minutes gap between 2019-01-12 17:05:00 and 2019-01-12 17:15:00\n",
      "10 minutes gap between 2019-01-12 17:25:00 and 2019-01-12 17:35:00\n",
      "15 minutes gap between 2019-01-12 20:35:00 and 2019-01-12 20:50:00\n",
      "10 minutes gap between 2019-01-12 21:10:00 and 2019-01-12 21:20:00\n",
      "10 minutes gap between 2019-01-12 21:25:00 and 2019-01-12 21:35:00\n",
      "10 minutes gap between 2019-01-12 22:20:00 and 2019-01-12 22:30:00\n",
      "10 minutes gap between 2019-01-13 01:25:00 and 2019-01-13 01:35:00\n",
      "10 minutes gap between 2019-01-13 03:30:00 and 2019-01-13 03:40:00\n",
      "10 minutes gap between 2019-01-13 04:50:00 and 2019-01-13 05:00:00\n",
      "10 minutes gap between 2019-01-13 06:20:00 and 2019-01-13 06:30:00\n",
      "10 minutes gap between 2019-01-13 23:10:00 and 2019-01-13 23:20:00\n",
      "10 minutes gap between 2019-01-14 04:20:00 and 2019-01-14 04:30:00\n",
      "10 minutes gap between 2019-01-14 11:00:00 and 2019-01-14 11:10:00\n",
      "10 minutes gap between 2019-01-14 21:50:00 and 2019-01-14 22:00:00\n",
      "10 minutes gap between 2019-01-15 05:00:00 and 2019-01-15 05:10:00\n",
      "10 minutes gap between 2019-01-15 10:25:00 and 2019-01-15 10:35:00\n",
      "10 minutes gap between 2019-01-16 11:00:00 and 2019-01-16 11:10:00\n",
      "10 minutes gap between 2019-01-16 16:45:00 and 2019-01-16 16:55:00\n",
      "10 minutes gap between 2019-01-16 20:00:00 and 2019-01-16 20:10:00\n",
      "10 minutes gap between 2019-01-17 13:45:00 and 2019-01-17 13:55:00\n",
      "10 minutes gap between 2019-01-17 16:20:00 and 2019-01-17 16:30:00\n",
      "10 minutes gap between 2019-01-18 01:50:00 and 2019-01-18 02:00:00\n",
      "10 minutes gap between 2019-01-18 03:20:00 and 2019-01-18 03:30:00\n",
      "10 minutes gap between 2019-01-18 04:20:00 and 2019-01-18 04:30:00\n",
      "10 minutes gap between 2019-01-18 10:05:00 and 2019-01-18 10:15:00\n",
      "10 minutes gap between 2019-01-18 18:00:00 and 2019-01-18 18:10:00\n",
      "10 minutes gap between 2019-01-18 21:30:00 and 2019-01-18 21:40:00\n",
      "10 minutes gap between 2019-01-18 22:20:00 and 2019-01-18 22:30:00\n",
      "10 minutes gap between 2019-01-19 01:45:00 and 2019-01-19 01:55:00\n",
      "10 minutes gap between 2019-01-19 04:15:00 and 2019-01-19 04:25:00\n",
      "10 minutes gap between 2019-01-19 05:20:00 and 2019-01-19 05:30:00\n",
      "10 minutes gap between 2019-01-19 08:00:00 and 2019-01-19 08:10:00\n",
      "10 minutes gap between 2019-01-19 14:00:00 and 2019-01-19 14:10:00\n",
      "10 minutes gap between 2019-01-19 22:30:00 and 2019-01-19 22:40:00\n",
      "10 minutes gap between 2019-01-20 00:45:00 and 2019-01-20 00:55:00\n",
      "10 minutes gap between 2019-01-20 03:15:00 and 2019-01-20 03:25:00\n",
      "10 minutes gap between 2019-01-20 09:10:00 and 2019-01-20 09:20:00\n",
      "10 minutes gap between 2019-01-20 09:45:00 and 2019-01-20 09:55:00\n",
      "10 minutes gap between 2019-01-20 13:30:00 and 2019-01-20 13:40:00\n",
      "10 minutes gap between 2019-01-20 21:10:00 and 2019-01-20 21:20:00\n",
      "10 minutes gap between 2019-01-20 22:10:00 and 2019-01-20 22:20:00\n",
      "10 minutes gap between 2019-01-21 15:40:00 and 2019-01-21 15:50:00\n",
      "10 minutes gap between 2019-01-21 18:20:00 and 2019-01-21 18:30:00\n",
      "10 minutes gap between 2019-01-21 18:40:00 and 2019-01-21 18:50:00\n",
      "10 minutes gap between 2019-01-22 05:00:00 and 2019-01-22 05:10:00\n",
      "10 minutes gap between 2019-01-22 08:05:00 and 2019-01-22 08:15:00\n",
      "10 minutes gap between 2019-01-22 10:10:00 and 2019-01-22 10:20:00\n",
      "10 minutes gap between 2019-01-22 23:30:00 and 2019-01-22 23:40:00\n",
      "10 minutes gap between 2019-01-23 00:10:00 and 2019-01-23 00:20:00\n",
      "10 minutes gap between 2019-01-23 00:30:00 and 2019-01-23 00:40:00\n",
      "10 minutes gap between 2019-01-23 03:45:00 and 2019-01-23 03:55:00\n",
      "10 minutes gap between 2019-01-23 19:40:00 and 2019-01-23 19:50:00\n",
      "10 minutes gap between 2019-01-23 22:30:00 and 2019-01-23 22:40:00\n",
      "10 minutes gap between 2019-01-24 00:30:00 and 2019-01-24 00:40:00\n",
      "10 minutes gap between 2019-01-24 05:10:00 and 2019-01-24 05:20:00\n",
      "10 minutes gap between 2019-01-24 13:55:00 and 2019-01-24 14:05:00\n",
      "10 minutes gap between 2019-01-24 14:05:00 and 2019-01-24 14:15:00\n",
      "10 minutes gap between 2019-01-24 16:45:00 and 2019-01-24 16:55:00\n",
      "10 minutes gap between 2019-01-24 18:10:00 and 2019-01-24 18:20:00\n",
      "10 minutes gap between 2019-01-24 19:55:00 and 2019-01-24 20:05:00\n",
      "10 minutes gap between 2019-01-25 01:10:00 and 2019-01-25 01:20:00\n",
      "10 minutes gap between 2019-01-25 04:55:00 and 2019-01-25 05:05:00\n",
      "10 minutes gap between 2019-01-25 07:55:00 and 2019-01-25 08:05:00\n",
      "10 minutes gap between 2019-01-26 01:55:00 and 2019-01-26 02:05:00\n",
      "10 minutes gap between 2019-01-26 03:05:00 and 2019-01-26 03:15:00\n",
      "10 minutes gap between 2019-01-26 05:05:00 and 2019-01-26 05:15:00\n",
      "10 minutes gap between 2019-01-26 05:20:00 and 2019-01-26 05:30:00\n",
      "10 minutes gap between 2019-01-26 06:30:00 and 2019-01-26 06:40:00\n",
      "10 minutes gap between 2019-01-26 07:40:00 and 2019-01-26 07:50:00\n",
      "10 minutes gap between 2019-01-26 07:50:00 and 2019-01-26 08:00:00\n",
      "10 minutes gap between 2019-01-26 08:10:00 and 2019-01-26 08:20:00\n",
      "10 minutes gap between 2019-01-26 08:20:00 and 2019-01-26 08:30:00\n",
      "10 minutes gap between 2019-01-26 09:10:00 and 2019-01-26 09:20:00\n",
      "10 minutes gap between 2019-01-26 09:25:00 and 2019-01-26 09:35:00\n",
      "10 minutes gap between 2019-01-26 20:20:00 and 2019-01-26 20:30:00\n",
      "10 minutes gap between 2019-01-27 01:10:00 and 2019-01-27 01:20:00\n",
      "10 minutes gap between 2019-01-27 02:10:00 and 2019-01-27 02:20:00\n",
      "10 minutes gap between 2019-01-27 03:10:00 and 2019-01-27 03:20:00\n",
      "10 minutes gap between 2019-01-27 03:30:00 and 2019-01-27 03:40:00\n",
      "10 minutes gap between 2019-01-27 04:50:00 and 2019-01-27 05:00:00\n",
      "10 minutes gap between 2019-01-27 05:10:00 and 2019-01-27 05:20:00\n",
      "10 minutes gap between 2019-01-27 08:05:00 and 2019-01-27 08:15:00\n",
      "10 minutes gap between 2019-01-27 10:05:00 and 2019-01-27 10:15:00\n",
      "10 minutes gap between 2019-01-27 10:55:00 and 2019-01-27 11:05:00\n",
      "10 minutes gap between 2019-01-27 11:20:00 and 2019-01-27 11:30:00\n",
      "10 minutes gap between 2019-01-27 13:55:00 and 2019-01-27 14:05:00\n",
      "10 minutes gap between 2019-01-27 14:35:00 and 2019-01-27 14:45:00\n",
      "10 minutes gap between 2019-01-27 19:55:00 and 2019-01-27 20:05:00\n",
      "10 minutes gap between 2019-01-27 20:05:00 and 2019-01-27 20:15:00\n",
      "10 minutes gap between 2019-01-28 01:10:00 and 2019-01-28 01:20:00\n",
      "10 minutes gap between 2019-01-28 03:50:00 and 2019-01-28 04:00:00\n",
      "10 minutes gap between 2019-01-28 04:55:00 and 2019-01-28 05:05:00\n",
      "10 minutes gap between 2019-01-28 10:10:00 and 2019-01-28 10:20:00\n",
      "10 minutes gap between 2019-01-28 13:40:00 and 2019-01-28 13:50:00\n",
      "10 minutes gap between 2019-01-28 13:55:00 and 2019-01-28 14:05:00\n",
      "10 minutes gap between 2019-01-28 16:10:00 and 2019-01-28 16:20:00\n",
      "10 minutes gap between 2019-01-28 16:50:00 and 2019-01-28 17:00:00\n",
      "10 minutes gap between 2019-01-28 21:55:00 and 2019-01-28 22:05:00\n",
      "10 minutes gap between 2019-01-28 22:10:00 and 2019-01-28 22:20:00\n",
      "10 minutes gap between 2019-01-28 22:55:00 and 2019-01-28 23:05:00\n",
      "10 minutes gap between 2019-01-29 00:20:00 and 2019-01-29 00:30:00\n",
      "10 minutes gap between 2019-01-29 00:50:00 and 2019-01-29 01:00:00\n",
      "10 minutes gap between 2019-01-29 01:55:00 and 2019-01-29 02:05:00\n",
      "10 minutes gap between 2019-01-29 03:45:00 and 2019-01-29 03:55:00\n",
      "10 minutes gap between 2019-01-29 06:20:00 and 2019-01-29 06:30:00\n",
      "10 minutes gap between 2019-01-29 07:55:00 and 2019-01-29 08:05:00\n",
      "10 minutes gap between 2019-01-29 10:20:00 and 2019-01-29 10:30:00\n",
      "10 minutes gap between 2019-01-29 13:15:00 and 2019-01-29 13:25:00\n",
      "10 minutes gap between 2019-01-29 17:00:00 and 2019-01-29 17:10:00\n",
      "10 minutes gap between 2019-01-29 19:55:00 and 2019-01-29 20:05:00\n",
      "10 minutes gap between 2019-01-29 21:10:00 and 2019-01-29 21:20:00\n",
      "10 minutes gap between 2019-01-29 21:45:00 and 2019-01-29 21:55:00\n",
      "10 minutes gap between 2019-01-29 22:20:00 and 2019-01-29 22:30:00\n",
      "10 minutes gap between 2019-01-29 23:20:00 and 2019-01-29 23:30:00\n",
      "10 minutes gap between 2019-01-30 01:55:00 and 2019-01-30 02:05:00\n",
      "10 minutes gap between 2019-01-30 04:05:00 and 2019-01-30 04:15:00\n",
      "10 minutes gap between 2019-01-30 11:00:00 and 2019-01-30 11:10:00\n",
      "10 minutes gap between 2019-01-30 13:25:00 and 2019-01-30 13:35:00\n",
      "10 minutes gap between 2019-01-30 16:00:00 and 2019-01-30 16:10:00\n",
      "10 minutes gap between 2019-01-30 19:50:00 and 2019-01-30 20:00:00\n",
      "10 minutes gap between 2019-01-30 21:10:00 and 2019-01-30 21:20:00\n",
      "10 minutes gap between 2019-01-31 01:55:00 and 2019-01-31 02:05:00\n",
      "10 minutes gap between 2019-01-31 03:30:00 and 2019-01-31 03:40:00\n",
      "10 minutes gap between 2019-01-31 06:50:00 and 2019-01-31 07:00:00\n",
      "10 minutes gap between 2019-01-31 07:50:00 and 2019-01-31 08:00:00\n",
      "10 minutes gap between 2019-01-31 13:55:00 and 2019-01-31 14:05:00\n",
      "10 minutes gap between 2019-01-31 16:55:00 and 2019-01-31 17:05:00\n",
      "10 minutes gap between 2019-01-31 22:05:00 and 2019-01-31 22:15:00\n",
      "10 minutes gap between 2019-02-01 03:20:00 and 2019-02-01 03:30:00\n",
      "10 minutes gap between 2019-02-01 04:05:00 and 2019-02-01 04:15:00\n",
      "10 minutes gap between 2019-02-01 04:30:00 and 2019-02-01 04:40:00\n",
      "10 minutes gap between 2019-02-01 05:20:00 and 2019-02-01 05:30:00\n",
      "10 minutes gap between 2019-02-01 07:55:00 and 2019-02-01 08:05:00\n",
      "10 minutes gap between 2019-02-01 09:55:00 and 2019-02-01 10:05:00\n",
      "10 minutes gap between 2019-02-01 13:05:00 and 2019-02-01 13:15:00\n",
      "10 minutes gap between 2019-02-01 13:55:00 and 2019-02-01 14:05:00\n",
      "10 minutes gap between 2019-02-01 15:45:00 and 2019-02-01 15:55:00\n",
      "10 minutes gap between 2019-02-01 22:05:00 and 2019-02-01 22:15:00\n",
      "10 minutes gap between 2019-02-02 02:10:00 and 2019-02-02 02:20:00\n",
      "10 minutes gap between 2019-02-02 03:05:00 and 2019-02-02 03:15:00\n",
      "10 minutes gap between 2019-02-02 05:10:00 and 2019-02-02 05:20:00\n",
      "10 minutes gap between 2019-02-02 16:55:00 and 2019-02-02 17:05:00\n",
      "10 minutes gap between 2019-02-02 21:45:00 and 2019-02-02 21:55:00\n",
      "10 minutes gap between 2019-02-02 22:55:00 and 2019-02-02 23:05:00\n",
      "10 minutes gap between 2019-02-03 01:25:00 and 2019-02-03 01:35:00\n",
      "10 minutes gap between 2019-02-03 01:55:00 and 2019-02-03 02:05:00\n",
      "10 minutes gap between 2019-02-03 03:20:00 and 2019-02-03 03:30:00\n",
      "10 minutes gap between 2019-02-03 10:00:00 and 2019-02-03 10:10:00\n",
      "10 minutes gap between 2019-02-03 13:15:00 and 2019-02-03 13:25:00\n",
      "10 minutes gap between 2019-02-03 13:55:00 and 2019-02-03 14:05:00\n",
      "10 minutes gap between 2019-02-03 16:55:00 and 2019-02-03 17:05:00\n",
      "10 minutes gap between 2019-02-03 19:55:00 and 2019-02-03 20:05:00\n",
      "10 minutes gap between 2019-02-03 22:20:00 and 2019-02-03 22:30:00\n",
      "10 minutes gap between 2019-02-04 01:55:00 and 2019-02-04 02:05:00\n",
      "10 minutes gap between 2019-02-04 04:55:00 and 2019-02-04 05:05:00\n",
      "10 minutes gap between 2019-02-04 15:45:00 and 2019-02-04 15:55:00\n",
      "10 minutes gap between 2019-02-04 17:30:00 and 2019-02-04 17:40:00\n",
      "10 minutes gap between 2019-02-04 19:10:00 and 2019-02-04 19:20:00\n",
      "10 minutes gap between 2019-02-04 23:45:00 and 2019-02-04 23:55:00\n",
      "10 minutes gap between 2019-02-05 00:20:00 and 2019-02-05 00:30:00\n",
      "10 minutes gap between 2019-02-05 01:20:00 and 2019-02-05 01:30:00\n",
      "10 minutes gap between 2019-02-05 03:20:00 and 2019-02-05 03:30:00\n",
      "10 minutes gap between 2019-02-05 05:30:00 and 2019-02-05 05:40:00\n",
      "10 minutes gap between 2019-02-05 13:55:00 and 2019-02-05 14:05:00\n",
      "10 minutes gap between 2019-02-05 16:20:00 and 2019-02-05 16:30:00\n",
      "10 minutes gap between 2019-02-05 16:55:00 and 2019-02-05 17:05:00\n",
      "10 minutes gap between 2019-02-05 21:45:00 and 2019-02-05 21:55:00\n",
      "10 minutes gap between 2019-02-06 01:55:00 and 2019-02-06 02:05:00\n",
      "10 minutes gap between 2019-02-06 03:10:00 and 2019-02-06 03:20:00\n",
      "10 minutes gap between 2019-02-06 07:55:00 and 2019-02-06 08:05:00\n",
      "10 minutes gap between 2019-02-06 10:55:00 and 2019-02-06 11:05:00\n",
      "10 minutes gap between 2019-02-06 12:10:00 and 2019-02-06 12:20:00\n",
      "10 minutes gap between 2019-02-06 13:55:00 and 2019-02-06 14:05:00\n",
      "10 minutes gap between 2019-02-06 16:55:00 and 2019-02-06 17:05:00\n",
      "10 minutes gap between 2019-02-06 21:30:00 and 2019-02-06 21:40:00\n",
      "10 minutes gap between 2019-02-06 22:10:00 and 2019-02-06 22:20:00\n",
      "10 minutes gap between 2019-02-07 03:20:00 and 2019-02-07 03:30:00\n",
      "10 minutes gap between 2019-02-07 04:20:00 and 2019-02-07 04:30:00\n",
      "10 minutes gap between 2019-02-07 05:50:00 and 2019-02-07 06:00:00\n"
     ]
    },
    {
     "name": "stdout",
     "output_type": "stream",
     "text": [
      "10 minutes gap between 2019-02-07 09:10:00 and 2019-02-07 09:20:00\n",
      "10 minutes gap between 2019-02-07 17:10:00 and 2019-02-07 17:20:00\n",
      "10 minutes gap between 2019-02-08 00:20:00 and 2019-02-08 00:30:00\n",
      "10 minutes gap between 2019-02-08 00:45:00 and 2019-02-08 00:55:00\n",
      "10 minutes gap between 2019-02-08 04:10:00 and 2019-02-08 04:20:00\n",
      "10 minutes gap between 2019-02-08 13:55:00 and 2019-02-08 14:05:00\n",
      "10 minutes gap between 2019-02-08 16:30:00 and 2019-02-08 16:40:00\n",
      "10 minutes gap between 2019-02-08 21:30:00 and 2019-02-08 21:40:00\n",
      "130 minutes gap between 2019-02-08 23:05:00 and 2019-02-09 01:15:00\n",
      "65 minutes gap between 2019-02-09 01:30:00 and 2019-02-09 02:35:00\n",
      "10 minutes gap between 2019-02-09 06:10:00 and 2019-02-09 06:20:00\n",
      "10 minutes gap between 2019-02-09 10:55:00 and 2019-02-09 11:05:00\n",
      "10 minutes gap between 2019-02-09 11:10:00 and 2019-02-09 11:20:00\n",
      "10 minutes gap between 2019-02-09 17:40:00 and 2019-02-09 17:50:00\n",
      "10 minutes gap between 2019-02-09 18:10:00 and 2019-02-09 18:20:00\n",
      "10 minutes gap between 2019-02-09 22:45:00 and 2019-02-09 22:55:00\n",
      "10 minutes gap between 2019-02-10 01:50:00 and 2019-02-10 02:00:00\n",
      "10 minutes gap between 2019-02-10 04:45:00 and 2019-02-10 04:55:00\n",
      "10 minutes gap between 2019-02-10 09:10:00 and 2019-02-10 09:20:00\n",
      "10 minutes gap between 2019-02-10 11:35:00 and 2019-02-10 11:45:00\n",
      "10 minutes gap between 2019-02-10 13:55:00 and 2019-02-10 14:05:00\n",
      "10 minutes gap between 2019-02-10 21:50:00 and 2019-02-10 22:00:00\n",
      "10 minutes gap between 2019-02-11 01:10:00 and 2019-02-11 01:20:00\n",
      "10 minutes gap between 2019-02-11 01:55:00 and 2019-02-11 02:05:00\n",
      "10 minutes gap between 2019-02-11 04:25:00 and 2019-02-11 04:35:00\n",
      "10 minutes gap between 2019-02-11 04:55:00 and 2019-02-11 05:05:00\n",
      "10 minutes gap between 2019-02-11 07:10:00 and 2019-02-11 07:20:00\n",
      "10 minutes gap between 2019-02-11 13:45:00 and 2019-02-11 13:55:00\n",
      "10 minutes gap between 2019-02-11 13:55:00 and 2019-02-11 14:05:00\n",
      "10 minutes gap between 2019-02-11 22:10:00 and 2019-02-11 22:20:00\n",
      "10 minutes gap between 2019-02-12 03:45:00 and 2019-02-12 03:55:00\n",
      "10 minutes gap between 2019-02-12 05:00:00 and 2019-02-12 05:10:00\n",
      "10 minutes gap between 2019-02-12 12:40:00 and 2019-02-12 12:50:00\n",
      "10 minutes gap between 2019-02-12 22:25:00 and 2019-02-12 22:35:00\n",
      "10 minutes gap between 2019-02-13 00:45:00 and 2019-02-13 00:55:00\n",
      "10 minutes gap between 2019-02-13 03:50:00 and 2019-02-13 04:00:00\n",
      "10 minutes gap between 2019-02-13 10:15:00 and 2019-02-13 10:25:00\n",
      "10 minutes gap between 2019-02-13 10:45:00 and 2019-02-13 10:55:00\n",
      "10 minutes gap between 2019-02-13 10:55:00 and 2019-02-13 11:05:00\n",
      "10 minutes gap between 2019-02-13 15:50:00 and 2019-02-13 16:00:00\n",
      "10 minutes gap between 2019-02-13 17:15:00 and 2019-02-13 17:25:00\n",
      "10 minutes gap between 2019-02-14 00:10:00 and 2019-02-14 00:20:00\n",
      "10 minutes gap between 2019-02-14 01:55:00 and 2019-02-14 02:05:00\n",
      "15 minutes gap between 2019-02-14 10:45:00 and 2019-02-14 11:00:00\n",
      "10 minutes gap between 2019-02-14 16:55:00 and 2019-02-14 17:05:00\n",
      "10 minutes gap between 2019-02-14 17:35:00 and 2019-02-14 17:45:00\n",
      "10 minutes gap between 2019-02-14 20:00:00 and 2019-02-14 20:10:00\n",
      "10 minutes gap between 2019-02-15 01:10:00 and 2019-02-15 01:20:00\n",
      "10 minutes gap between 2019-02-15 09:20:00 and 2019-02-15 09:30:00\n",
      "10 minutes gap between 2019-02-15 21:50:00 and 2019-02-15 22:00:00\n",
      "10 minutes gap between 2019-02-17 03:10:00 and 2019-02-17 03:20:00\n",
      "10 minutes gap between 2019-02-17 03:45:00 and 2019-02-17 03:55:00\n",
      "10 minutes gap between 2019-02-17 04:20:00 and 2019-02-17 04:30:00\n",
      "10 minutes gap between 2019-02-17 04:50:00 and 2019-02-17 05:00:00\n",
      "10 minutes gap between 2019-02-17 16:55:00 and 2019-02-17 17:05:00\n",
      "10 minutes gap between 2019-02-17 23:00:00 and 2019-02-17 23:10:00\n",
      "10 minutes gap between 2019-02-18 04:30:00 and 2019-02-18 04:40:00\n",
      "10 minutes gap between 2019-02-18 07:10:00 and 2019-02-18 07:20:00\n",
      "10 minutes gap between 2019-02-18 21:25:00 and 2019-02-18 21:35:00\n",
      "10 minutes gap between 2019-02-18 21:50:00 and 2019-02-18 22:00:00\n",
      "10 minutes gap between 2019-02-18 22:05:00 and 2019-02-18 22:15:00\n",
      "10 minutes gap between 2019-02-19 01:55:00 and 2019-02-19 02:05:00\n",
      "10 minutes gap between 2019-02-19 03:15:00 and 2019-02-19 03:25:00\n",
      "10 minutes gap between 2019-02-20 00:05:00 and 2019-02-20 00:15:00\n",
      "10 minutes gap between 2019-02-21 23:35:00 and 2019-02-21 23:45:00\n",
      "10 minutes gap between 2019-02-22 22:35:00 and 2019-02-22 22:45:00\n",
      "10 minutes gap between 2019-02-22 23:15:00 and 2019-02-22 23:25:00\n",
      "10 minutes gap between 2019-02-22 23:30:00 and 2019-02-22 23:40:00\n",
      "10 minutes gap between 2019-02-23 05:35:00 and 2019-02-23 05:45:00\n",
      "10 minutes gap between 2019-02-24 23:05:00 and 2019-02-24 23:15:00\n",
      "10 minutes gap between 2019-02-24 23:20:00 and 2019-02-24 23:30:00\n",
      "10 minutes gap between 2019-02-24 23:30:00 and 2019-02-24 23:40:00\n",
      "10 minutes gap between 2019-02-25 23:10:00 and 2019-02-25 23:20:00\n",
      "10 minutes gap between 2019-02-25 23:30:00 and 2019-02-25 23:40:00\n",
      "10 minutes gap between 2019-03-28 23:55:00 and 2019-03-29 00:05:00\n",
      "10 minutes gap between 2019-03-29 20:45:00 and 2019-03-29 20:55:00\n",
      "10 minutes gap between 2019-03-30 19:20:00 and 2019-03-30 19:30:00\n",
      "50 minutes gap between 2019-03-31 18:55:00 and 2019-03-31 19:45:00\n",
      "10 minutes gap between 2019-03-31 19:45:00 and 2019-03-31 19:55:00\n",
      "15 minutes gap between 2019-04-08 21:05:00 and 2019-04-08 21:20:00\n",
      "75 minutes gap between 2019-04-30 18:05:00 and 2019-04-30 19:20:00\n",
      "10 minutes gap between 2019-04-30 20:30:00 and 2019-04-30 20:40:00\n",
      "390 minutes gap between 2019-05-27 22:55:00 and 2019-05-28 05:25:00\n",
      "75 minutes gap between 2019-07-09 08:30:00 and 2019-07-09 09:45:00\n",
      "30 minutes gap between 2019-07-27 17:30:00 and 2019-07-27 18:00:00\n",
      "10 minutes gap between 2019-09-17 06:50:00 and 2019-09-17 07:00:00\n",
      "30 minutes gap between 2019-09-17 08:50:00 and 2019-09-17 09:20:00\n",
      "10 minutes gap between 2019-09-20 20:40:00 and 2019-09-20 20:50:00\n",
      "1055 minutes gap between 2019-09-30 08:00:00 and 2019-10-01 01:35:00\n",
      "715 minutes gap between 2019-10-01 08:00:00 and 2019-10-01 19:55:00\n",
      "715 minutes gap between 2019-10-02 08:00:00 and 2019-10-02 19:55:00\n",
      "15 minutes gap between 2019-10-14 06:55:00 and 2019-10-14 07:10:00\n",
      "10 minutes gap between 2019-11-20 17:50:00 and 2019-11-20 18:00:00\n",
      "10 minutes gap between 2019-11-20 18:00:00 and 2019-11-20 18:10:00\n",
      "10 minutes gap between 2019-11-20 18:10:00 and 2019-11-20 18:20:00\n",
      "10 minutes gap between 2019-11-20 20:10:00 and 2019-11-20 20:20:00\n",
      "10 minutes gap between 2019-11-20 20:20:00 and 2019-11-20 20:30:00\n",
      "10 minutes gap between 2019-11-20 20:30:00 and 2019-11-20 20:40:00\n",
      "10 minutes gap between 2019-11-20 20:40:00 and 2019-11-20 20:50:00\n",
      "10 minutes gap between 2019-11-20 20:50:00 and 2019-11-20 21:00:00\n",
      "10 minutes gap between 2019-11-20 21:00:00 and 2019-11-20 21:10:00\n",
      "10 minutes gap between 2019-11-20 21:10:00 and 2019-11-20 21:20:00\n",
      "75 minutes gap between 2019-12-27 13:45:00 and 2019-12-27 15:00:00\n",
      "630 minutes gap between 2020-05-25 21:15:00 and 2020-05-26 07:45:00\n",
      "90 minutes gap between 2020-07-02 15:50:00 and 2020-07-02 17:20:00\n",
      "40 minutes gap between 2020-07-16 04:25:00 and 2020-07-16 05:05:00\n",
      "10 minutes gap between 2020-08-22 05:30:00 and 2020-08-22 05:40:00\n",
      "10 minutes gap between 2020-08-22 07:05:00 and 2020-08-22 07:15:00\n",
      "30 minutes gap between 2020-08-25 21:25:00 and 2020-08-25 21:55:00\n",
      "10 minutes gap between 2020-08-25 21:55:00 and 2020-08-25 22:05:00\n",
      "10 minutes gap between 2020-08-25 22:55:00 and 2020-08-25 23:05:00\n",
      "10 minutes gap between 2020-08-25 23:15:00 and 2020-08-25 23:25:00\n",
      "15 minutes gap between 2020-08-25 23:25:00 and 2020-08-25 23:40:00\n",
      "10 minutes gap between 2020-08-26 02:05:00 and 2020-08-26 02:15:00\n",
      "10 minutes gap between 2020-08-26 02:25:00 and 2020-08-26 02:35:00\n",
      "10 minutes gap between 2020-08-26 02:45:00 and 2020-08-26 02:55:00\n",
      "10 minutes gap between 2020-08-26 02:55:00 and 2020-08-26 03:05:00\n",
      "10 minutes gap between 2020-08-26 20:25:00 and 2020-08-26 20:35:00\n",
      "15 minutes gap between 2020-12-17 07:25:00 and 2020-12-17 07:40:00\n",
      "There are 375 gaps in the data\n",
      "Missing 1657 out of the 229336 radar scans (0.01%)\n",
      "From 2018-12-19 08:00:00 till 2021-02-22 08:00:00\n"
     ]
    }
   ],
   "source": [
    "gaps=[]\n",
    "for i in range(0,len(radar_scans)-1):\n",
    "    # check if tim\n",
    "    gap_size = gap_between(radar_scans[i],radar_scans[i+1])\n",
    "    if  gap_size != 0:\n",
    "        gaps.append([radar_scans[i], radar_scans[i+1], gap_size])\n",
    "gaps=np.array(gaps)\n",
    "print('There are {} gaps in the data'.format(len(gaps)))  \n",
    "nr_missing_scans=int(sum(map(float, gaps[:,2])))\n",
    "total_scans = (len(radar_scans) + nr_missing_scans)\n",
    "perc_missing = nr_missing_scans/total_scans\n",
    "print('Missing {} out of the {} radar scans ({:.2f}%)'.format(nr_missing_scans, total_scans, perc_missing))\n",
    "print('From {} till {}'.format(get_datetime(radar_scans[0]), get_datetime(radar_scans[-1])))"
   ]
  },
  {
   "cell_type": "markdown",
   "metadata": {},
   "source": [
    "## Open the H5 files"
   ]
  },
  {
   "cell_type": "code",
   "execution_count": 66,
   "metadata": {},
   "outputs": [
    {
     "data": {
      "image/png": "[encoded data removed]",
      "text/plain": [
       "<Figure size 432x288 with 3 Axes>"
      ]
     },
     "metadata": {
      "needs_background": "light"
     },
     "output_type": "display_data"
    }
   ],
   "source": [
    "# plot 3 images with interval of 3 (=15m) between them\n",
    "fig = plt.figure()\n",
    "for i in range(0,9,3):\n",
    "    path_file = path_ds  + '/' + radar_scans[i]\n",
    "\n",
    "\n",
    "    with h5py.File(path_file, 'r') as h5f:\n",
    "        radar_img = h5f['image1']['image_data'][:]\n",
    "\n",
    "        # Plot the radar image\n",
    "        # Set the masked pixel to 0 so that difference between pixel values can be better seen\n",
    "        radar_img[radar_img==65535] = 0\n",
    "        \n",
    "        plt.subplot(1, 3, i/3 +1)\n",
    "        plt.imshow(radar_img)\n",
    "        plt.axis('off')"
   ]
  },
  {
   "cell_type": "markdown",
   "metadata": {},
   "source": [
    "## Convert data to numpy arrays\n",
    "\n",
    "Convert h5 files to dataframe. The dataframe has three columns: timestamp, radar image data and the mask image data."
   ]
  },
  {
   "cell_type": "code",
   "execution_count": 71,
   "metadata": {},
   "outputs": [],
   "source": [
    "def load_h5(file_path):\n",
    "    radar_img = None\n",
    "    with h5py.File(file_path, 'r') as f:\n",
    "        try:\n",
    "            radar_img = f['image1']['image_data'][:]\n",
    "        except:\n",
    "            print(\"Error: could not read image1 data, file {}\".format(file_path))\n",
    "    return radar_img"
   ]
  },
  {
   "cell_type": "code",
   "execution_count": 72,
   "metadata": {},
   "outputs": [],
   "source": [
    "def preprocess(in_dir, out_dir):\n",
    "    '''\n",
    "    Preprocess the h5 file into numpy arrays. \n",
    "    The timestamp, image1 and image2 data of each file is stored\n",
    "    '''\n",
    "    # Create directory if it does not exist\n",
    "    if not os.path.exists(out_dir):\n",
    "        os.makedirs(out_dir)\n",
    "    \n",
    "    radar_scans = sorted([f for f in os.listdir(path_ds) if (os.path.isfile(os.path.join(path_ds, f)) and f.endswith('.h5'))])\n",
    "    \n",
    "    # Pattern for detecting timestamp in filename\n",
    "    regex_file = re.compile('(\\d{12})\\.h5')\n",
    "    \n",
    "    for scan in tqdm(radar_scans):\n",
    "        timestamp = int(regex_file.findall(scan)[0])\n",
    "        scan_fn = out_dir + '/' + \"{}.npy\".format(timestamp)\n",
    "            \n",
    "        path_scan = in_dir + '/' + scan\n",
    "        image1 = load_h5(path_scan)\n",
    "            \n",
    "        radar_data = np.array(image1)\n",
    "        np.save(scan_fn, radar_data)    "
   ]
  },
  {
   "cell_type": "code",
   "execution_count": null,
   "metadata": {
    "scrolled": true
   },
   "outputs": [
    {
     "name": "stderr",
     "output_type": "stream",
     "text": [
      "  2%|▏         | 5239/227679 [02:01<1:28:43, 41.78it/s] "
     ]
    }
   ],
   "source": [
    "in_dir = '/nobackup/users/schreurs/project_GAN/dataset_radar'\n",
    "out_dir = '/nobackup/users/schreurs/project_GAN/dataset_radar_np'\n",
    "preprocess(in_dir, out_dir)"
   ]
  },
  {
   "cell_type": "markdown",
   "metadata": {},
   "source": [
    "## TODO: Pack data into sequences\n",
    "\n",
    "Instead of storing 1 timestamp in 1 file, store a sequence of radarscans into 1 file. This will make loading the training data easier as the sequence of radarscans does not have to be made at runtime. These packages of sequences can later be linked with the target data.\n",
    "\n",
    "First the radar scans are packed into sequences of 30 minutes (6 radarscans long). These can then be matched with the Aarts target data of 30 minutes ahead. This would mean that there are 288/6 = 48 sequences in a day(/folder)"
   ]
  },
  {
   "cell_type": "code",
   "execution_count": 7,
   "metadata": {},
   "outputs": [],
   "source": [
    "np_dir = '/nobackup/users/schreurs/project_GAN/dataset_np/'\n",
    "dir_30m = '/nobackup/users/schreurs/project_GAN/dataset_np_30m/'"
   ]
  },
  {
   "cell_type": "code",
   "execution_count": 154,
   "metadata": {},
   "outputs": [],
   "source": [
    "def preprocess_into_sequences(in_dir, out_dir, n=6):\n",
    "    '''\n",
    "    Preprocess the numpy files into sequences. \n",
    "    n is the length of the input sequence, default is 6 images (with interval of 5 resulting in 30 minutes)\n",
    "    '''\n",
    "    # Create directory if it does not exist\n",
    "    if not os.path.exists(out_dir):\n",
    "        os.makedirs(out_dir)\n",
    "    \n",
    "    folders = sorted([f for f in os.listdir(in_dir) if os.path.isdir(os.path.join(in_dir, f))])\n",
    "    \n",
    "    regex_file = re.compile('(\\d{12})\\.h5')\n",
    "    # Each folder corresponds to a day\n",
    "    for folder in tqdm(folders[:100]):\n",
    "        day_dir = in_dir + '/' + folder + '/'\n",
    "        print(day_dir)\n",
    "        # A new file each 5 minutes: 288 files in a day\n",
    "        files = sorted([f for f in os.listdir(day_dir) if os.path.isfile(os.path.join(day_dir, f))])\n",
    "        \n",
    "        if len(files) != 288:\n",
    "            print('Day {} has {} radar scans instead of 288'.format(folder, len(files)))\n",
    "        for i in range(0,len(files)-n, n+1):\n",
    "            sequence_i = files[i:i+n]\n",
    "            \n",
    "            sequence = []\n",
    "            date_prev = None\n",
    "\n",
    "            sequence_name = files[i].replace('.npy', 'seq{}m'.format(5*n))\n",
    "            for file in sequence_i:\n",
    "                file_path = day_dir + file\n",
    "                timestamp, image = np.load(file_path, allow_pickle=True)\n",
    "                \n",
    "                if date_prev:\n",
    "                    # check if interval is 5 \n",
    "                    date_current = datetime.datetime.strptime(str(a), '%Y%m%d%H%M')\n",
    "                    interval = int((date_current-date_prev).seconds / 60) \n",
    "        \n",
    "                    if interval != 5:\n",
    "                        print(date_current, date_prev, interval)\n",
    "                    date_prev = date_current\n",
    "                sequence.append(image)\n",
    "            sequence = np.array(sequence)\n",
    "            #np.save(out_dir+sequence_name, sequence)"
   ]
  },
  {
   "cell_type": "code",
   "execution_count": 155,
   "metadata": {},
   "outputs": [
    {
     "name": "stderr",
     "output_type": "stream",
     "text": [
      "\r",
      "  0%|          | 0/100 [00:00<?, ?it/s]"
     ]
    },
    {
     "name": "stdout",
     "output_type": "stream",
     "text": [
      "/nobackup/users/schreurs/project_GAN/dataset_np/201812170755_201812180800/\n",
      "Day 201812170755_201812180800 has 259 radar scans instead of 288\n",
      "/nobackup/users/schreurs/project_GAN/dataset_np/201812180755_201812190800/\n",
      "Day 201812180755_201812190800 has 547 radar scans instead of 288\n"
     ]
    },
    {
     "name": "stderr",
     "output_type": "stream",
     "text": [
      "\r",
      "  2%|▏         | 2/100 [00:06<05:19,  3.26s/it]"
     ]
    },
    {
     "name": "stdout",
     "output_type": "stream",
     "text": [
      "/nobackup/users/schreurs/project_GAN/dataset_np/201812190755_201812200800/\n",
      "Day 201812190755_201812200800 has 488 radar scans instead of 288\n"
     ]
    },
    {
     "name": "stderr",
     "output_type": "stream",
     "text": [
      "\r",
      "  3%|▎         | 3/100 [00:12<06:57,  4.30s/it]"
     ]
    },
    {
     "name": "stdout",
     "output_type": "stream",
     "text": [
      "/nobackup/users/schreurs/project_GAN/dataset_np/201812200755_201812210800/\n",
      "Day 201812200755_201812210800 has 285 radar scans instead of 288\n"
     ]
    },
    {
     "name": "stderr",
     "output_type": "stream",
     "text": [
      "\r",
      "  4%|▍         | 4/100 [00:15<06:15,  3.91s/it]"
     ]
    },
    {
     "name": "stdout",
     "output_type": "stream",
     "text": [
      "/nobackup/users/schreurs/project_GAN/dataset_np/201812210755_201812220800/\n",
      "Day 201812210755_201812220800 has 277 radar scans instead of 288\n"
     ]
    },
    {
     "name": "stderr",
     "output_type": "stream",
     "text": [
      "\r",
      "  5%|▌         | 5/100 [00:18<05:52,  3.71s/it]"
     ]
    },
    {
     "name": "stdout",
     "output_type": "stream",
     "text": [
      "/nobackup/users/schreurs/project_GAN/dataset_np/20181221T075500_20181222T080000/\n",
      "Day 20181221T075500_20181222T080000 has 277 radar scans instead of 288\n"
     ]
    },
    {
     "name": "stderr",
     "output_type": "stream",
     "text": [
      "\r",
      "  6%|▌         | 6/100 [00:22<05:38,  3.60s/it]"
     ]
    },
    {
     "name": "stdout",
     "output_type": "stream",
     "text": [
      "/nobackup/users/schreurs/project_GAN/dataset_np/20181222T080500_20181223T080000/\n",
      "Day 20181222T080500_20181223T080000 has 286 radar scans instead of 288\n"
     ]
    },
    {
     "name": "stderr",
     "output_type": "stream",
     "text": [
      "\r",
      "  7%|▋         | 7/100 [00:25<05:30,  3.55s/it]"
     ]
    },
    {
     "name": "stdout",
     "output_type": "stream",
     "text": [
      "/nobackup/users/schreurs/project_GAN/dataset_np/20181223T080500_20181224T080000/\n",
      "Day 20181223T080500_20181224T080000 has 287 radar scans instead of 288\n"
     ]
    },
    {
     "name": "stderr",
     "output_type": "stream",
     "text": [
      "\r",
      "  8%|▊         | 8/100 [00:29<05:24,  3.52s/it]"
     ]
    },
    {
     "name": "stdout",
     "output_type": "stream",
     "text": [
      "/nobackup/users/schreurs/project_GAN/dataset_np/20181224T080500_20181225T080000/\n",
      "Day 20181224T080500_20181225T080000 has 286 radar scans instead of 288\n"
     ]
    },
    {
     "name": "stderr",
     "output_type": "stream",
     "text": [
      "\r",
      "  9%|▉         | 9/100 [00:32<05:14,  3.46s/it]"
     ]
    },
    {
     "name": "stdout",
     "output_type": "stream",
     "text": [
      "/nobackup/users/schreurs/project_GAN/dataset_np/20181225T080500_20181226T080000/\n",
      "Day 20181225T080500_20181226T080000 has 283 radar scans instead of 288\n"
     ]
    },
    {
     "name": "stderr",
     "output_type": "stream",
     "text": [
      "\r",
      " 10%|█         | 10/100 [00:35<05:07,  3.42s/it]"
     ]
    },
    {
     "name": "stdout",
     "output_type": "stream",
     "text": [
      "/nobackup/users/schreurs/project_GAN/dataset_np/20181226T080500_20181227T080000/\n",
      "Day 20181226T080500_20181227T080000 has 285 radar scans instead of 288\n"
     ]
    },
    {
     "name": "stderr",
     "output_type": "stream",
     "text": [
      "\r",
      " 11%|█         | 11/100 [00:39<05:03,  3.41s/it]"
     ]
    },
    {
     "name": "stdout",
     "output_type": "stream",
     "text": [
      "/nobackup/users/schreurs/project_GAN/dataset_np/20181227T080500_20181228T080000/\n",
      "Day 20181227T080500_20181228T080000 has 280 radar scans instead of 288\n"
     ]
    },
    {
     "name": "stderr",
     "output_type": "stream",
     "text": [
      "\r",
      " 12%|█▏        | 12/100 [00:42<04:59,  3.40s/it]"
     ]
    },
    {
     "name": "stdout",
     "output_type": "stream",
     "text": [
      "/nobackup/users/schreurs/project_GAN/dataset_np/20181228T080500_20181229T080000/\n",
      "Day 20181228T080500_20181229T080000 has 287 radar scans instead of 288\n"
     ]
    },
    {
     "name": "stderr",
     "output_type": "stream",
     "text": [
      "\r",
      " 13%|█▎        | 13/100 [00:46<04:58,  3.44s/it]"
     ]
    },
    {
     "name": "stdout",
     "output_type": "stream",
     "text": [
      "/nobackup/users/schreurs/project_GAN/dataset_np/20181229T080500_20181230T080000/\n",
      "Day 20181229T080500_20181230T080000 has 283 radar scans instead of 288\n"
     ]
    },
    {
     "name": "stderr",
     "output_type": "stream",
     "text": [
      "\r",
      " 14%|█▍        | 14/100 [00:49<04:55,  3.44s/it]"
     ]
    },
    {
     "name": "stdout",
     "output_type": "stream",
     "text": [
      "/nobackup/users/schreurs/project_GAN/dataset_np/20181230T080500_20181231T080000/\n",
      "Day 20181230T080500_20181231T080000 has 285 radar scans instead of 288\n"
     ]
    },
    {
     "name": "stderr",
     "output_type": "stream",
     "text": [
      "\r",
      " 15%|█▌        | 15/100 [00:52<04:50,  3.42s/it]"
     ]
    },
    {
     "name": "stdout",
     "output_type": "stream",
     "text": [
      "/nobackup/users/schreurs/project_GAN/dataset_np/20181231T080500_20190101T080000/\n",
      "Day 20181231T080500_20190101T080000 has 286 radar scans instead of 288\n"
     ]
    },
    {
     "name": "stderr",
     "output_type": "stream",
     "text": [
      "\r",
      " 16%|█▌        | 16/100 [00:56<04:48,  3.43s/it]"
     ]
    },
    {
     "name": "stdout",
     "output_type": "stream",
     "text": [
      "/nobackup/users/schreurs/project_GAN/dataset_np/20190101T080500_20190102T080000/\n",
      "Day 20190101T080500_20190102T080000 has 286 radar scans instead of 288\n"
     ]
    },
    {
     "name": "stderr",
     "output_type": "stream",
     "text": [
      "\r",
      " 17%|█▋        | 17/100 [00:59<04:43,  3.42s/it]"
     ]
    },
    {
     "name": "stdout",
     "output_type": "stream",
     "text": [
      "/nobackup/users/schreurs/project_GAN/dataset_np/20190102T080500_20190103T080000/\n",
      "Day 20190102T080500_20190103T080000 has 285 radar scans instead of 288\n"
     ]
    },
    {
     "name": "stderr",
     "output_type": "stream",
     "text": [
      "\r",
      " 18%|█▊        | 18/100 [01:03<04:38,  3.40s/it]"
     ]
    },
    {
     "name": "stdout",
     "output_type": "stream",
     "text": [
      "/nobackup/users/schreurs/project_GAN/dataset_np/20190103T080500_20190104T080000/\n",
      "Day 20190103T080500_20190104T080000 has 285 radar scans instead of 288\n"
     ]
    },
    {
     "name": "stderr",
     "output_type": "stream",
     "text": [
      "\r",
      " 19%|█▉        | 19/100 [01:06<04:29,  3.33s/it]"
     ]
    },
    {
     "name": "stdout",
     "output_type": "stream",
     "text": [
      "/nobackup/users/schreurs/project_GAN/dataset_np/20190104T080500_20190105T080000/\n",
      "Day 20190104T080500_20190105T080000 has 287 radar scans instead of 288\n"
     ]
    },
    {
     "name": "stderr",
     "output_type": "stream",
     "text": [
      "\r",
      " 20%|██        | 20/100 [01:09<04:30,  3.38s/it]"
     ]
    },
    {
     "name": "stdout",
     "output_type": "stream",
     "text": [
      "/nobackup/users/schreurs/project_GAN/dataset_np/20190105T080500_20190106T080000/\n"
     ]
    },
    {
     "name": "stderr",
     "output_type": "stream",
     "text": [
      "\r",
      " 21%|██        | 21/100 [01:13<04:29,  3.41s/it]"
     ]
    },
    {
     "name": "stdout",
     "output_type": "stream",
     "text": [
      "/nobackup/users/schreurs/project_GAN/dataset_np/20190106T080500_20190107T080000/\n"
     ]
    },
    {
     "name": "stderr",
     "output_type": "stream",
     "text": [
      "\r",
      " 22%|██▏       | 22/100 [01:16<04:25,  3.41s/it]"
     ]
    },
    {
     "name": "stdout",
     "output_type": "stream",
     "text": [
      "/nobackup/users/schreurs/project_GAN/dataset_np/20190107T080500_20190108T080000/\n",
      "Day 20190107T080500_20190108T080000 has 287 radar scans instead of 288\n"
     ]
    },
    {
     "name": "stderr",
     "output_type": "stream",
     "text": [
      "\r",
      " 23%|██▎       | 23/100 [01:20<04:22,  3.40s/it]"
     ]
    },
    {
     "name": "stdout",
     "output_type": "stream",
     "text": [
      "/nobackup/users/schreurs/project_GAN/dataset_np/20190108T080500_20190109T080000/\n",
      "Day 20190108T080500_20190109T080000 has 287 radar scans instead of 288\n"
     ]
    },
    {
     "name": "stderr",
     "output_type": "stream",
     "text": [
      "\r",
      " 24%|██▍       | 24/100 [01:23<04:18,  3.39s/it]"
     ]
    },
    {
     "name": "stdout",
     "output_type": "stream",
     "text": [
      "/nobackup/users/schreurs/project_GAN/dataset_np/20190109T080500_20190110T080000/\n"
     ]
    },
    {
     "name": "stderr",
     "output_type": "stream",
     "text": [
      "\r",
      " 25%|██▌       | 25/100 [01:26<04:16,  3.43s/it]"
     ]
    },
    {
     "name": "stdout",
     "output_type": "stream",
     "text": [
      "/nobackup/users/schreurs/project_GAN/dataset_np/20190110T080500_20190111T080000/\n",
      "Day 20190110T080500_20190111T080000 has 286 radar scans instead of 288\n"
     ]
    },
    {
     "name": "stderr",
     "output_type": "stream",
     "text": [
      "\r",
      " 26%|██▌       | 26/100 [01:30<04:13,  3.42s/it]"
     ]
    },
    {
     "name": "stdout",
     "output_type": "stream",
     "text": [
      "/nobackup/users/schreurs/project_GAN/dataset_np/20190111T080500_20190112T080000/\n",
      "Day 20190111T080500_20190112T080000 has 283 radar scans instead of 288\n"
     ]
    },
    {
     "name": "stderr",
     "output_type": "stream",
     "text": [
      "\r",
      " 27%|██▋       | 27/100 [01:33<04:04,  3.35s/it]"
     ]
    },
    {
     "name": "stdout",
     "output_type": "stream",
     "text": [
      "/nobackup/users/schreurs/project_GAN/dataset_np/20190112T080500_20190113T080000/\n",
      "Day 20190112T080500_20190113T080000 has 259 radar scans instead of 288\n"
     ]
    },
    {
     "name": "stderr",
     "output_type": "stream",
     "text": [
      "\r",
      " 28%|██▊       | 28/100 [01:36<03:57,  3.29s/it]"
     ]
    },
    {
     "name": "stdout",
     "output_type": "stream",
     "text": [
      "/nobackup/users/schreurs/project_GAN/dataset_np/20190113T080500_20190114T080000/\n",
      "Day 20190113T080500_20190114T080000 has 286 radar scans instead of 288\n"
     ]
    },
    {
     "name": "stderr",
     "output_type": "stream",
     "text": [
      "\r",
      " 29%|██▉       | 29/100 [01:40<03:56,  3.33s/it]"
     ]
    },
    {
     "name": "stdout",
     "output_type": "stream",
     "text": [
      "/nobackup/users/schreurs/project_GAN/dataset_np/20190114T080500_20190115T080000/\n",
      "Day 20190114T080500_20190115T080000 has 285 radar scans instead of 288\n"
     ]
    },
    {
     "name": "stderr",
     "output_type": "stream",
     "text": [
      "\r",
      " 30%|███       | 30/100 [01:43<03:49,  3.27s/it]"
     ]
    },
    {
     "name": "stdout",
     "output_type": "stream",
     "text": [
      "/nobackup/users/schreurs/project_GAN/dataset_np/20190115T080500_20190116T080000/\n",
      "Day 20190115T080500_20190116T080000 has 287 radar scans instead of 288\n"
     ]
    },
    {
     "name": "stderr",
     "output_type": "stream",
     "text": [
      "\r",
      " 31%|███       | 31/100 [01:46<03:49,  3.32s/it]"
     ]
    },
    {
     "name": "stdout",
     "output_type": "stream",
     "text": [
      "/nobackup/users/schreurs/project_GAN/dataset_np/20190116T080500_20190117T080000/\n",
      "Day 20190116T080500_20190117T080000 has 285 radar scans instead of 288\n"
     ]
    },
    {
     "name": "stderr",
     "output_type": "stream",
     "text": [
      "\r",
      " 32%|███▏      | 32/100 [01:50<03:47,  3.34s/it]"
     ]
    },
    {
     "name": "stdout",
     "output_type": "stream",
     "text": [
      "/nobackup/users/schreurs/project_GAN/dataset_np/20190117T080500_20190118T080000/\n",
      "Day 20190117T080500_20190118T080000 has 283 radar scans instead of 288\n"
     ]
    },
    {
     "name": "stderr",
     "output_type": "stream",
     "text": [
      "\r",
      " 33%|███▎      | 33/100 [01:53<03:45,  3.37s/it]"
     ]
    },
    {
     "name": "stdout",
     "output_type": "stream",
     "text": [
      "/nobackup/users/schreurs/project_GAN/dataset_np/20190118T080500_20190119T080000/\n",
      "Day 20190118T080500_20190119T080000 has 281 radar scans instead of 288\n"
     ]
    },
    {
     "name": "stderr",
     "output_type": "stream",
     "text": [
      "\r",
      " 34%|███▍      | 34/100 [01:56<03:37,  3.29s/it]"
     ]
    },
    {
     "name": "stdout",
     "output_type": "stream",
     "text": [
      "/nobackup/users/schreurs/project_GAN/dataset_np/20190119T080500_20190120T080000/\n",
      "Day 20190119T080500_20190120T080000 has 283 radar scans instead of 288\n"
     ]
    },
    {
     "name": "stderr",
     "output_type": "stream",
     "text": [
      "\r",
      " 35%|███▌      | 35/100 [01:59<03:35,  3.32s/it]"
     ]
    },
    {
     "name": "stdout",
     "output_type": "stream",
     "text": [
      "/nobackup/users/schreurs/project_GAN/dataset_np/20190120T080500_20190121T080000/\n",
      "Day 20190120T080500_20190121T080000 has 283 radar scans instead of 288\n"
     ]
    },
    {
     "name": "stderr",
     "output_type": "stream",
     "text": [
      "\r",
      " 36%|███▌      | 36/100 [02:03<03:34,  3.35s/it]"
     ]
    },
    {
     "name": "stdout",
     "output_type": "stream",
     "text": [
      "/nobackup/users/schreurs/project_GAN/dataset_np/20190121T080500_20190122T080000/\n",
      "Day 20190121T080500_20190122T080000 has 284 radar scans instead of 288\n"
     ]
    },
    {
     "name": "stderr",
     "output_type": "stream",
     "text": [
      "\r",
      " 37%|███▋      | 37/100 [02:06<03:26,  3.28s/it]"
     ]
    },
    {
     "name": "stdout",
     "output_type": "stream",
     "text": [
      "/nobackup/users/schreurs/project_GAN/dataset_np/20190122T080500_20190123T080000/\n",
      "Day 20190122T080500_20190123T080000 has 282 radar scans instead of 288\n"
     ]
    },
    {
     "name": "stderr",
     "output_type": "stream",
     "text": [
      "\r",
      " 38%|███▊      | 38/100 [02:09<03:26,  3.32s/it]"
     ]
    },
    {
     "name": "stdout",
     "output_type": "stream",
     "text": [
      "/nobackup/users/schreurs/project_GAN/dataset_np/20190123T080500_20190124T080000/\n",
      "Day 20190123T080500_20190124T080000 has 284 radar scans instead of 288\n"
     ]
    },
    {
     "name": "stderr",
     "output_type": "stream",
     "text": [
      "\r",
      " 39%|███▉      | 39/100 [02:13<03:18,  3.26s/it]"
     ]
    },
    {
     "name": "stdout",
     "output_type": "stream",
     "text": [
      "/nobackup/users/schreurs/project_GAN/dataset_np/20190124T080500_20190125T080000/\n",
      "Day 20190124T080500_20190125T080000 has 280 radar scans instead of 288\n"
     ]
    },
    {
     "name": "stderr",
     "output_type": "stream",
     "text": [
      "\r",
      " 40%|████      | 40/100 [02:16<03:16,  3.28s/it]"
     ]
    },
    {
     "name": "stdout",
     "output_type": "stream",
     "text": [
      "/nobackup/users/schreurs/project_GAN/dataset_np/20190125T080500_20190126T080000/\n",
      "Day 20190125T080500_20190126T080000 has 281 radar scans instead of 288\n"
     ]
    },
    {
     "name": "stderr",
     "output_type": "stream",
     "text": [
      "\r",
      " 41%|████      | 41/100 [02:19<03:13,  3.28s/it]"
     ]
    },
    {
     "name": "stdout",
     "output_type": "stream",
     "text": [
      "/nobackup/users/schreurs/project_GAN/dataset_np/20190126T080500_20190127T080000/\n",
      "Day 20190126T080500_20190127T080000 has 277 radar scans instead of 288\n"
     ]
    },
    {
     "name": "stderr",
     "output_type": "stream",
     "text": [
      "\r",
      " 42%|████▏     | 42/100 [02:22<03:10,  3.29s/it]"
     ]
    },
    {
     "name": "stdout",
     "output_type": "stream",
     "text": [
      "/nobackup/users/schreurs/project_GAN/dataset_np/20190127T080500_20190128T080000/\n",
      "Day 20190127T080500_20190128T080000 has 277 radar scans instead of 288\n"
     ]
    },
    {
     "name": "stderr",
     "output_type": "stream",
     "text": [
      "\r",
      " 43%|████▎     | 43/100 [02:26<03:06,  3.28s/it]"
     ]
    },
    {
     "name": "stdout",
     "output_type": "stream",
     "text": [
      "/nobackup/users/schreurs/project_GAN/dataset_np/20190128T080500_20190129T080000/\n",
      "Day 20190128T080500_20190129T080000 has 274 radar scans instead of 288\n"
     ]
    },
    {
     "name": "stderr",
     "output_type": "stream",
     "text": [
      "\r",
      " 44%|████▍     | 44/100 [02:29<03:03,  3.28s/it]"
     ]
    },
    {
     "name": "stdout",
     "output_type": "stream",
     "text": [
      "/nobackup/users/schreurs/project_GAN/dataset_np/20190129T080500_20190130T080000/\n",
      "Day 20190129T080500_20190130T080000 has 278 radar scans instead of 288\n"
     ]
    },
    {
     "name": "stderr",
     "output_type": "stream",
     "text": [
      "\r",
      " 45%|████▌     | 45/100 [02:32<03:00,  3.27s/it]"
     ]
    },
    {
     "name": "stdout",
     "output_type": "stream",
     "text": [
      "/nobackup/users/schreurs/project_GAN/dataset_np/20190130T080500_20190131T080000/\n",
      "Day 20190130T080500_20190131T080000 has 279 radar scans instead of 288\n"
     ]
    },
    {
     "name": "stderr",
     "output_type": "stream",
     "text": [
      "\r",
      " 46%|████▌     | 46/100 [02:36<02:57,  3.29s/it]"
     ]
    },
    {
     "name": "stdout",
     "output_type": "stream",
     "text": [
      "/nobackup/users/schreurs/project_GAN/dataset_np/20190131T080500_20190201T080000/\n",
      "Day 20190131T080500_20190201T080000 has 280 radar scans instead of 288\n"
     ]
    },
    {
     "name": "stderr",
     "output_type": "stream",
     "text": [
      "\r",
      " 47%|████▋     | 47/100 [02:39<02:55,  3.31s/it]"
     ]
    },
    {
     "name": "stdout",
     "output_type": "stream",
     "text": [
      "/nobackup/users/schreurs/project_GAN/dataset_np/20190201T080500_20190202T080000/\n",
      "Day 20190201T080500_20190202T080000 has 280 radar scans instead of 288\n"
     ]
    },
    {
     "name": "stderr",
     "output_type": "stream",
     "text": [
      "\r",
      " 48%|████▊     | 48/100 [02:42<02:55,  3.37s/it]"
     ]
    },
    {
     "name": "stdout",
     "output_type": "stream",
     "text": [
      "/nobackup/users/schreurs/project_GAN/dataset_np/20190202T080500_20190203T080000/\n",
      "Day 20190202T080500_20190203T080000 has 282 radar scans instead of 288\n"
     ]
    },
    {
     "name": "stderr",
     "output_type": "stream",
     "text": [
      "\r",
      " 49%|████▉     | 49/100 [02:46<02:52,  3.39s/it]"
     ]
    },
    {
     "name": "stdout",
     "output_type": "stream",
     "text": [
      "/nobackup/users/schreurs/project_GAN/dataset_np/20190203T080500_20190204T080000/\n",
      "Day 20190203T080500_20190204T080000 has 280 radar scans instead of 288\n"
     ]
    },
    {
     "name": "stderr",
     "output_type": "stream",
     "text": [
      "\r",
      " 50%|█████     | 50/100 [02:49<02:47,  3.35s/it]"
     ]
    },
    {
     "name": "stdout",
     "output_type": "stream",
     "text": [
      "/nobackup/users/schreurs/project_GAN/dataset_np/20190204T080500_20190205T080000/\n",
      "Day 20190204T080500_20190205T080000 has 280 radar scans instead of 288\n"
     ]
    },
    {
     "name": "stderr",
     "output_type": "stream",
     "text": [
      "\r",
      " 51%|█████     | 51/100 [02:53<02:44,  3.35s/it]"
     ]
    },
    {
     "name": "stdout",
     "output_type": "stream",
     "text": [
      "/nobackup/users/schreurs/project_GAN/dataset_np/20190205T080500_20190206T080000/\n",
      "Day 20190205T080500_20190206T080000 has 281 radar scans instead of 288\n"
     ]
    },
    {
     "name": "stderr",
     "output_type": "stream",
     "text": [
      "\r",
      " 52%|█████▏    | 52/100 [02:56<02:40,  3.35s/it]"
     ]
    },
    {
     "name": "stdout",
     "output_type": "stream",
     "text": [
      "/nobackup/users/schreurs/project_GAN/dataset_np/20190206T080500_20190207T080000/\n",
      "Day 20190206T080500_20190207T080000 has 279 radar scans instead of 288\n"
     ]
    },
    {
     "name": "stderr",
     "output_type": "stream",
     "text": [
      "\r",
      " 53%|█████▎    | 53/100 [02:59<02:35,  3.31s/it]"
     ]
    },
    {
     "name": "stdout",
     "output_type": "stream",
     "text": [
      "/nobackup/users/schreurs/project_GAN/dataset_np/20190207T080500_20190208T080000/\n",
      "Day 20190207T080500_20190208T080000 has 283 radar scans instead of 288\n"
     ]
    },
    {
     "name": "stderr",
     "output_type": "stream",
     "text": [
      "\r",
      " 54%|█████▍    | 54/100 [03:02<02:33,  3.34s/it]"
     ]
    },
    {
     "name": "stdout",
     "output_type": "stream",
     "text": [
      "/nobackup/users/schreurs/project_GAN/dataset_np/20190208T080500_20190209T080000/\n",
      "Day 20190208T080500_20190209T080000 has 247 radar scans instead of 288\n"
     ]
    },
    {
     "name": "stderr",
     "output_type": "stream",
     "text": [
      "\r",
      " 55%|█████▌    | 55/100 [03:05<02:25,  3.23s/it]"
     ]
    },
    {
     "name": "stdout",
     "output_type": "stream",
     "text": [
      "/nobackup/users/schreurs/project_GAN/dataset_np/20190209T080500_20190210T080000/\n",
      "Day 20190209T080500_20190210T080000 has 281 radar scans instead of 288\n"
     ]
    },
    {
     "name": "stderr",
     "output_type": "stream",
     "text": [
      "\r",
      " 56%|█████▌    | 56/100 [03:09<02:22,  3.24s/it]"
     ]
    },
    {
     "name": "stdout",
     "output_type": "stream",
     "text": [
      "/nobackup/users/schreurs/project_GAN/dataset_np/20190210T080500_20190211T080000/\n",
      "Day 20190210T080500_20190211T080000 has 279 radar scans instead of 288\n"
     ]
    },
    {
     "name": "stderr",
     "output_type": "stream",
     "text": [
      "\r",
      " 57%|█████▋    | 57/100 [03:12<02:21,  3.28s/it]"
     ]
    },
    {
     "name": "stdout",
     "output_type": "stream",
     "text": [
      "/nobackup/users/schreurs/project_GAN/dataset_np/20190211T080500_20190212T080000/\n",
      "Day 20190211T080500_20190212T080000 has 283 radar scans instead of 288\n"
     ]
    },
    {
     "name": "stderr",
     "output_type": "stream",
     "text": [
      "\r",
      " 58%|█████▊    | 58/100 [03:16<02:20,  3.34s/it]"
     ]
    },
    {
     "name": "stdout",
     "output_type": "stream",
     "text": [
      "/nobackup/users/schreurs/project_GAN/dataset_np/20190212T080500_20190213T080000/\n",
      "Day 20190212T080500_20190213T080000 has 284 radar scans instead of 288\n"
     ]
    },
    {
     "name": "stderr",
     "output_type": "stream",
     "text": [
      "\r",
      " 59%|█████▉    | 59/100 [03:19<02:17,  3.36s/it]"
     ]
    },
    {
     "name": "stdout",
     "output_type": "stream",
     "text": [
      "/nobackup/users/schreurs/project_GAN/dataset_np/20190213T080500_20190214T080000/\n",
      "Day 20190213T080500_20190214T080000 has 281 radar scans instead of 288\n"
     ]
    },
    {
     "name": "stderr",
     "output_type": "stream",
     "text": [
      "\r",
      " 60%|██████    | 60/100 [03:22<02:14,  3.35s/it]"
     ]
    },
    {
     "name": "stdout",
     "output_type": "stream",
     "text": [
      "/nobackup/users/schreurs/project_GAN/dataset_np/20190214T080500_20190215T080000/\n",
      "Day 20190214T080500_20190215T080000 has 282 radar scans instead of 288\n"
     ]
    },
    {
     "name": "stderr",
     "output_type": "stream",
     "text": [
      "\r",
      " 61%|██████    | 61/100 [03:26<02:12,  3.39s/it]"
     ]
    },
    {
     "name": "stdout",
     "output_type": "stream",
     "text": [
      "/nobackup/users/schreurs/project_GAN/dataset_np/20190215T080500_20190216T080000/\n",
      "Day 20190215T080500_20190216T080000 has 286 radar scans instead of 288\n"
     ]
    },
    {
     "name": "stderr",
     "output_type": "stream",
     "text": [
      "\r",
      " 62%|██████▏   | 62/100 [03:29<02:08,  3.38s/it]"
     ]
    },
    {
     "name": "stdout",
     "output_type": "stream",
     "text": [
      "/nobackup/users/schreurs/project_GAN/dataset_np/20190216T080500_20190217T080000/\n",
      "Day 20190216T080500_20190217T080000 has 284 radar scans instead of 288\n"
     ]
    },
    {
     "name": "stderr",
     "output_type": "stream",
     "text": [
      "\r",
      " 63%|██████▎   | 63/100 [03:32<02:04,  3.36s/it]"
     ]
    },
    {
     "name": "stdout",
     "output_type": "stream",
     "text": [
      "/nobackup/users/schreurs/project_GAN/dataset_np/20190217T080500_20190218T080000/\n",
      "Day 20190217T080500_20190218T080000 has 284 radar scans instead of 288\n"
     ]
    },
    {
     "name": "stderr",
     "output_type": "stream",
     "text": [
      "\r",
      " 64%|██████▍   | 64/100 [03:35<01:52,  3.12s/it]"
     ]
    },
    {
     "name": "stdout",
     "output_type": "stream",
     "text": [
      "/nobackup/users/schreurs/project_GAN/dataset_np/20190218T080500_20190219T080000/\n",
      "Day 20190218T080500_20190219T080000 has 283 radar scans instead of 288\n"
     ]
    },
    {
     "name": "stderr",
     "output_type": "stream",
     "text": [
      " 66%|██████▌   | 66/100 [03:38<01:11,  2.11s/it]"
     ]
    },
    {
     "name": "stdout",
     "output_type": "stream",
     "text": [
      "/nobackup/users/schreurs/project_GAN/dataset_np/20190219T080500_20190220T080000/\n",
      "Day 20190219T080500_20190220T080000 has 287 radar scans instead of 288\n",
      "/nobackup/users/schreurs/project_GAN/dataset_np/20190220T080500_20190221T080000/\n"
     ]
    },
    {
     "name": "stderr",
     "output_type": "stream",
     "text": [
      "\r",
      " 67%|██████▋   | 67/100 [03:38<00:49,  1.51s/it]"
     ]
    },
    {
     "name": "stdout",
     "output_type": "stream",
     "text": [
      "/nobackup/users/schreurs/project_GAN/dataset_np/20190221T080500_20190222T080000/\n",
      "Day 20190221T080500_20190222T080000 has 287 radar scans instead of 288\n"
     ]
    },
    {
     "name": "stderr",
     "output_type": "stream",
     "text": [
      "\r",
      " 68%|██████▊   | 68/100 [03:41<01:04,  2.00s/it]"
     ]
    },
    {
     "name": "stdout",
     "output_type": "stream",
     "text": [
      "/nobackup/users/schreurs/project_GAN/dataset_np/20190222T080500_20190223T080000/\n",
      "Day 20190222T080500_20190223T080000 has 284 radar scans instead of 288\n"
     ]
    },
    {
     "name": "stderr",
     "output_type": "stream",
     "text": [
      "\r",
      " 69%|██████▉   | 69/100 [03:44<01:14,  2.40s/it]"
     ]
    },
    {
     "name": "stdout",
     "output_type": "stream",
     "text": [
      "/nobackup/users/schreurs/project_GAN/dataset_np/20190223T080500_20190224T080000/\n"
     ]
    },
    {
     "name": "stderr",
     "output_type": "stream",
     "text": [
      "\r",
      " 70%|███████   | 70/100 [03:48<01:22,  2.74s/it]"
     ]
    },
    {
     "name": "stdout",
     "output_type": "stream",
     "text": [
      "/nobackup/users/schreurs/project_GAN/dataset_np/20190224T080500_20190225T080000/\n",
      "Day 20190224T080500_20190225T080000 has 285 radar scans instead of 288\n"
     ]
    },
    {
     "name": "stderr",
     "output_type": "stream",
     "text": [
      "100%|██████████| 100/100 [03:51<00:00,  2.32s/it]"
     ]
    },
    {
     "name": "stdout",
     "output_type": "stream",
     "text": [
      "/nobackup/users/schreurs/project_GAN/dataset_np/20190225T080500_20190226T080000/\n",
      "Day 20190225T080500_20190226T080000 has 1 radar scans instead of 288\n",
      "/nobackup/users/schreurs/project_GAN/dataset_np/20190226T080500_20190227T080000/\n",
      "Day 20190226T080500_20190227T080000 has 1 radar scans instead of 288\n",
      "/nobackup/users/schreurs/project_GAN/dataset_np/20190227T080500_20190228T080000/\n",
      "Day 20190227T080500_20190228T080000 has 1 radar scans instead of 288\n",
      "/nobackup/users/schreurs/project_GAN/dataset_np/20190228T080500_20190301T080000/\n",
      "Day 20190228T080500_20190301T080000 has 1 radar scans instead of 288\n",
      "/nobackup/users/schreurs/project_GAN/dataset_np/20190301T080500_20190302T080000/\n",
      "Day 20190301T080500_20190302T080000 has 1 radar scans instead of 288\n",
      "/nobackup/users/schreurs/project_GAN/dataset_np/20190302T080500_20190303T080000/\n",
      "Day 20190302T080500_20190303T080000 has 1 radar scans instead of 288\n",
      "/nobackup/users/schreurs/project_GAN/dataset_np/20190303T080500_20190304T080000/\n",
      "Day 20190303T080500_20190304T080000 has 1 radar scans instead of 288\n",
      "/nobackup/users/schreurs/project_GAN/dataset_np/20190304T080500_20190305T080000/\n",
      "Day 20190304T080500_20190305T080000 has 1 radar scans instead of 288\n",
      "/nobackup/users/schreurs/project_GAN/dataset_np/20190305T080500_20190306T080000/\n",
      "Day 20190305T080500_20190306T080000 has 1 radar scans instead of 288\n",
      "/nobackup/users/schreurs/project_GAN/dataset_np/20190306T080500_20190307T080000/\n",
      "Day 20190306T080500_20190307T080000 has 1 radar scans instead of 288\n",
      "/nobackup/users/schreurs/project_GAN/dataset_np/20190307T080500_20190308T080000/\n",
      "Day 20190307T080500_20190308T080000 has 1 radar scans instead of 288\n",
      "/nobackup/users/schreurs/project_GAN/dataset_np/20190308T080500_20190309T080000/\n",
      "Day 20190308T080500_20190309T080000 has 1 radar scans instead of 288\n",
      "/nobackup/users/schreurs/project_GAN/dataset_np/20190309T080500_20190310T080000/\n",
      "Day 20190309T080500_20190310T080000 has 1 radar scans instead of 288\n",
      "/nobackup/users/schreurs/project_GAN/dataset_np/20190310T080500_20190311T080000/\n",
      "Day 20190310T080500_20190311T080000 has 1 radar scans instead of 288\n",
      "/nobackup/users/schreurs/project_GAN/dataset_np/20190311T080500_20190312T080000/\n",
      "Day 20190311T080500_20190312T080000 has 1 radar scans instead of 288\n",
      "/nobackup/users/schreurs/project_GAN/dataset_np/20190312T080500_20190313T080000/\n",
      "Day 20190312T080500_20190313T080000 has 1 radar scans instead of 288\n",
      "/nobackup/users/schreurs/project_GAN/dataset_np/20190313T080500_20190314T080000/\n",
      "Day 20190313T080500_20190314T080000 has 1 radar scans instead of 288\n",
      "/nobackup/users/schreurs/project_GAN/dataset_np/20190314T080500_20190315T080000/\n",
      "Day 20190314T080500_20190315T080000 has 1 radar scans instead of 288\n",
      "/nobackup/users/schreurs/project_GAN/dataset_np/20190315T080500_20190316T080000/\n",
      "Day 20190315T080500_20190316T080000 has 1 radar scans instead of 288\n",
      "/nobackup/users/schreurs/project_GAN/dataset_np/20190316T080500_20190317T080000/\n",
      "Day 20190316T080500_20190317T080000 has 1 radar scans instead of 288\n",
      "/nobackup/users/schreurs/project_GAN/dataset_np/20190317T080500_20190318T080000/\n",
      "Day 20190317T080500_20190318T080000 has 1 radar scans instead of 288\n",
      "/nobackup/users/schreurs/project_GAN/dataset_np/20190318T080500_20190319T080000/\n",
      "Day 20190318T080500_20190319T080000 has 1 radar scans instead of 288\n",
      "/nobackup/users/schreurs/project_GAN/dataset_np/20190319T080500_20190320T080000/\n",
      "Day 20190319T080500_20190320T080000 has 1 radar scans instead of 288\n",
      "/nobackup/users/schreurs/project_GAN/dataset_np/20190320T080500_20190321T080000/\n",
      "Day 20190320T080500_20190321T080000 has 1 radar scans instead of 288\n",
      "/nobackup/users/schreurs/project_GAN/dataset_np/20190321T080500_20190322T080000/\n",
      "Day 20190321T080500_20190322T080000 has 1 radar scans instead of 288\n",
      "/nobackup/users/schreurs/project_GAN/dataset_np/20190322T080500_20190323T080000/\n",
      "Day 20190322T080500_20190323T080000 has 1 radar scans instead of 288\n",
      "/nobackup/users/schreurs/project_GAN/dataset_np/20190323T080500_20190324T080000/\n",
      "Day 20190323T080500_20190324T080000 has 1 radar scans instead of 288\n",
      "/nobackup/users/schreurs/project_GAN/dataset_np/20190324T080500_20190325T080000/\n",
      "Day 20190324T080500_20190325T080000 has 1 radar scans instead of 288\n",
      "/nobackup/users/schreurs/project_GAN/dataset_np/20190325T080500_20190326T080000/\n",
      "Day 20190325T080500_20190326T080000 has 1 radar scans instead of 288\n"
     ]
    },
    {
     "name": "stderr",
     "output_type": "stream",
     "text": [
      "\n"
     ]
    }
   ],
   "source": [
    "preprocess_into_sequences(np_dir, dir_30m)"
   ]
  },
  {
   "cell_type": "code",
   "execution_count": 39,
   "metadata": {},
   "outputs": [
    {
     "name": "stdout",
     "output_type": "stream",
     "text": [
      "201812171030.npy\r\n",
      "201812171035.npy\r\n",
      "201812171040.npy\r\n",
      "201812171045.npy\r\n",
      "201812171050.npy\r\n",
      "201812171055.npy\r\n",
      "201812171100.npy\r\n",
      "201812171105.npy\r\n",
      "201812171110.npy\r\n",
      "201812171115.npy\r\n"
     ]
    }
   ],
   "source": [
    "ls /nobackup/users/schreurs/project_GAN/dataset_np/201812170755_201812180800 |head"
   ]
  },
  {
   "cell_type": "markdown",
   "metadata": {},
   "source": [
    "Some days seem to lack a lot of data. Maybe something went wrong during downloading these dates or during unpacking"
   ]
  },
  {
   "cell_type": "code",
   "execution_count": 26,
   "metadata": {},
   "outputs": [
    {
     "name": "stdout",
     "output_type": "stream",
     "text": [
      "201903100800.npy\r\n"
     ]
    }
   ],
   "source": [
    "ls /nobackup/users/schreurs/project_GAN/dataset_np/20190309T080500_20190310T080000/"
   ]
  },
  {
   "cell_type": "code",
   "execution_count": 11,
   "metadata": {},
   "outputs": [
    {
     "name": "stdout",
     "output_type": "stream",
     "text": [
      "RAD_NL25_RAC_RE_201903100800.h5\r\n"
     ]
    }
   ],
   "source": [
    "ls /nobackup/users/schreurs/project_GAN/dataset/RAD25_OPER_R___TARRRE__L2__20190309T080500_20190310T080000_0001"
   ]
  },
  {
   "cell_type": "code",
   "execution_count": 19,
   "metadata": {},
   "outputs": [
    {
     "name": "stdout",
     "output_type": "stream",
     "text": [
      "\u001b[0m\u001b[01;31m/nobackup/users/schreurs/project_GAN/dataset/RAD25_OPER_R___TARRRE__L2__20190309T080500_20190310T080000_0001.tar\u001b[0m\u001b[K\r\n"
     ]
    }
   ],
   "source": [
    "ls /nobackup/users/schreurs/project_GAN/dataset/RAD25_OPER_R___TARRRE__L2__20190309T080500_20190310T080000_0001.tar"
   ]
  },
  {
   "cell_type": "markdown",
   "metadata": {},
   "source": [
    "As you can see there is only 1 radar scan of the date 2019-03-10. Below I unpack the tar file of that date again to test if something went wrong during the unpacking"
   ]
  },
  {
   "cell_type": "code",
   "execution_count": 20,
   "metadata": {},
   "outputs": [
    {
     "name": "stdout",
     "output_type": "stream",
     "text": [
      "tar path:  /nobackup/users/schreurs/project_GAN/dataset/RAD25_OPER_R___TARRRE__L2__20190309T080500_20190310T080000_0001.tar\n",
      "unpack in folder:  /nobackup/users/schreurs/project_GAN/dataset/RAD25_OPER_R___TARRRE__L2__20190309T080500_20190310T080000_0001\n"
     ]
    }
   ],
   "source": [
    "# Testing path\n",
    "tar_path = '/nobackup/users/schreurs/project_GAN/dataset/RAD25_OPER_R___TARRRE__L2__20190309T080500_20190310T080000_0001.tar'\n",
    "print(\"tar path: \", tar_path)\n",
    "unpack_folder = tar_path.replace('.tar','')\n",
    "print(\"unpack in folder: \", unpack_folder)"
   ]
  },
  {
   "cell_type": "code",
   "execution_count": 23,
   "metadata": {},
   "outputs": [],
   "source": [
    "with tarfile.open(tar_path) as tar:\n",
    "    tar.extractall(unpack_folder) "
   ]
  },
  {
   "cell_type": "code",
   "execution_count": 24,
   "metadata": {},
   "outputs": [
    {
     "name": "stdout",
     "output_type": "stream",
     "text": [
      "RAD_NL25_RAC_RE_201903100800.h5\r\n"
     ]
    }
   ],
   "source": [
    "ls /nobackup/users/schreurs/project_GAN/dataset/RAD25_OPER_R___TARRRE__L2__20190309T080500_20190310T080000_0001"
   ]
  },
  {
   "cell_type": "markdown",
   "metadata": {},
   "source": [
    "Unpacking the tar files does not seem te be the problem."
   ]
  },
  {
   "cell_type": "markdown",
   "metadata": {},
   "source": [
    "When mannually download the tar file of 20190309T080500_20190310T080000 the radar data looks complete. During downloading the files probably got corrupted. \n",
    "\n",
    "Noticed a difference in dataset names: nl_rdr_data_rtcor_5m vs nl_rdr_data_recor_5m.\n",
    "Currently using the recor dataset, the rtcor might have complete data unlike the rtcor. \n",
    "\n",
    "(Waiting on API request for bulk dowload rtcor instead of recor dataset)\n",
    "\n",
    "Now got the API for the rtcor dataset. This dataset seems more complete"
   ]
  }
 ],
 "metadata": {
  "kernelspec": {
   "display_name": "Python 3",
   "language": "python",
   "name": "python3"
  },
  "language_info": {
   "codemirror_mode": {
    "name": "ipython",
    "version": 3
   },
   "file_extension": ".py",
   "mimetype": "text/x-python",
   "name": "python",
   "nbconvert_exporter": "python",
   "pygments_lexer": "ipython3",
   "version": "3.7.9"
  }
 },
 "nbformat": 4,
 "nbformat_minor": 2
}
