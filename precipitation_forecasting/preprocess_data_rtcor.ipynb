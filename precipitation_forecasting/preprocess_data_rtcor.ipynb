{
 "cells": [
  {
   "cell_type": "code",
   "execution_count": 1,
   "metadata": {},
   "outputs": [],
   "source": [
    "import os\n",
    "import tarfile\n",
    "import re\n",
    "import numpy as np\n",
    "import h5py\n",
    "import matplotlib.pyplot as plt\n",
    "import pandas as pd\n",
    "from tqdm import tqdm\n",
    "import zipfile\n",
    "from datetime import datetime"
   ]
  },
  {
   "cell_type": "markdown",
   "metadata": {},
   "source": [
    "# rtcor Radar Data"
   ]
  },
  {
   "cell_type": "code",
   "execution_count": 4,
   "metadata": {},
   "outputs": [],
   "source": [
    "path_ds = '/nobackup_1/users/schreurs/project_GAN/dataset_radar'"
   ]
  },
  {
   "cell_type": "code",
   "execution_count": 2,
   "metadata": {},
   "outputs": [
    {
     "name": "stdout",
     "output_type": "stream",
     "text": [
      "\u001b[0m\u001b[01;31mRAD25_OPER_R___TARRRT__L2__20181219080000_20181220075500_0001.tar\u001b[0m\r\n",
      "\u001b[01;31mRAD25_OPER_R___TARRRT__L2__20181220080000_20181221075500_0001.tar\u001b[0m\r\n",
      "\u001b[01;31mRAD25_OPER_R___TARRRT__L2__20181221080000_20181222075500_0001.tar\u001b[0m\r\n",
      "\u001b[01;31mRAD25_OPER_R___TARRRT__L2__20181222T080500_20181223T080000_0001.tar\u001b[0m\r\n",
      "\u001b[01;31mRAD25_OPER_R___TARRRT__L2__20181223T080500_20181224T080000_0001.tar\u001b[0m\r\n",
      "ls: write error\r\n"
     ]
    }
   ],
   "source": [
    "ls /nobackup_1/users/schreurs/project_GAN/dataset_radar | head -5"
   ]
  },
  {
   "cell_type": "code",
   "execution_count": 3,
   "metadata": {},
   "outputs": [
    {
     "name": "stdout",
     "output_type": "stream",
     "text": [
      "Number of days in dataset =  228474\n"
     ]
    }
   ],
   "source": [
    "files = sorted([f for f in os.listdir(path_ds) if os.path.isfile(os.path.join(path_ds, f))])\n",
    "print(\"Number of days in dataset = \", len(files))"
   ]
  },
  {
   "cell_type": "markdown",
   "metadata": {},
   "source": [
    "## Unpack tar files"
   ]
  },
  {
   "cell_type": "code",
   "execution_count": 10,
   "metadata": {},
   "outputs": [
    {
     "name": "stdout",
     "output_type": "stream",
     "text": [
      "tar path:  /nobackup/users/schreurs/project_GAN/dataset_radar/RAD25_OPER_R___TARRRT__L2__20181219080000_20181220075500_0001.tar\n",
      "unpack in folder:  /nobackup/users/schreurs/project_GAN/dataset_radar\n"
     ]
    }
   ],
   "source": [
    "# Testing path\n",
    "tar_path = path_ds + '/' + files[0]\n",
    "print(\"tar path: \", tar_path)\n",
    "print(\"unpack in folder: \", path_ds)"
   ]
  },
  {
   "cell_type": "code",
   "execution_count": 11,
   "metadata": {},
   "outputs": [
    {
     "name": "stderr",
     "output_type": "stream",
     "text": [
      "100%|██████████| 795/795 [06:50<00:00,  1.94it/s]\n"
     ]
    }
   ],
   "source": [
    "for file in tqdm(files):\n",
    "    tar_path = path_ds + '/' + file\n",
    "    \n",
    "    tar_file = tarfile.open(tar_path)\n",
    "    tar_file.extractall(path_ds)\n",
    "    tar_file.close()"
   ]
  },
  {
   "cell_type": "code",
   "execution_count": 5,
   "metadata": {},
   "outputs": [
    {
     "name": "stdout",
     "output_type": "stream",
     "text": [
      "Number of scans in dataset =  227679\n"
     ]
    }
   ],
   "source": [
    "radar_scans = sorted([f for f in os.listdir(path_ds) if (os.path.isfile(os.path.join(path_ds, f)) and f.endswith('.h5'))])\n",
    "print(\"Number of scans in dataset = \", len(radar_scans))"
   ]
  },
  {
   "cell_type": "code",
   "execution_count": 5,
   "metadata": {},
   "outputs": [
    {
     "data": {
      "text/plain": [
       "'RAD_NL25_RAC_RT_201812190800.h5'"
      ]
     },
     "execution_count": 5,
     "metadata": {},
     "output_type": "execute_result"
    }
   ],
   "source": [
    "radar_scans[0]"
   ]
  },
  {
   "cell_type": "markdown",
   "metadata": {},
   "source": [
    "## Checking for missing data"
   ]
  },
  {
   "cell_type": "code",
   "execution_count": 2,
   "metadata": {},
   "outputs": [],
   "source": [
    "regex_timestamp = re.compile('(\\d{12})\\.h5')\n",
    "def get_datetime(filename):\n",
    "    '''\n",
    "    Infer datetime from filename\n",
    "    '''\n",
    "    timestamp=None\n",
    "    dt=None\n",
    "    # check if regex pattern finds a timestamp\n",
    "    try:\n",
    "        timestamp = regex_timestamp.findall(filename)[0] \n",
    "        dt = datetime.strptime(str(timestamp), '%Y%m%d%H%M')\n",
    "    except:\n",
    "        print('Error: could not find timestamp in file {}'.format(filename))\n",
    "    return dt"
   ]
  },
  {
   "cell_type": "code",
   "execution_count": 3,
   "metadata": {},
   "outputs": [],
   "source": [
    "def get_diff_minutes(d1, d2):\n",
    "    '''\n",
    "    Returns the difference in minutes between first date d1 and the next date d2\n",
    "    '''\n",
    "    diff = int((d2-d1).seconds / 60)\n",
    "    return diff"
   ]
  },
  {
   "cell_type": "code",
   "execution_count": 4,
   "metadata": {},
   "outputs": [],
   "source": [
    "def gap_between(filename1, filename2):\n",
    "    '''\n",
    "    Checks if difference in time between two consecutive files is 5 minutes.\n",
    "    If it is not, print the two timestamps\n",
    "    Returns the number of scans missing between two files (time difference/5)\n",
    "    '''\n",
    "    d1 = get_datetime(filename1)\n",
    "    d2 = get_datetime(filename2)\n",
    "    \n",
    "    diff = get_diff_minutes(d1, d2)\n",
    "    \n",
    "    if diff != 5:\n",
    "        print('{} minutes gap between {} and {}'.format(diff,d1,d2))\n",
    "        return diff/5\n",
    "    return 0"
   ]
  },
  {
   "cell_type": "code",
   "execution_count": 54,
   "metadata": {},
   "outputs": [
    {
     "name": "stdout",
     "output_type": "stream",
     "text": [
      "10 minutes gap between 2018-12-19 10:25:00 and 2018-12-19 10:35:00\n",
      "15 minutes gap between 2018-12-19 10:45:00 and 2018-12-19 11:00:00\n",
      "30 minutes gap between 2018-12-19 13:15:00 and 2018-12-19 13:45:00\n",
      "10 minutes gap between 2018-12-19 14:10:00 and 2018-12-19 14:20:00\n",
      "65 minutes gap between 2018-12-19 14:30:00 and 2018-12-19 15:35:00\n",
      "15 minutes gap between 2018-12-19 18:40:00 and 2018-12-19 18:55:00\n",
      "40 minutes gap between 2018-12-19 19:40:00 and 2018-12-19 20:20:00\n",
      "120 minutes gap between 2018-12-19 20:30:00 and 2018-12-19 22:30:00\n",
      "170 minutes gap between 2018-12-19 22:35:00 and 2018-12-20 01:25:00\n",
      "15 minutes gap between 2018-12-20 01:25:00 and 2018-12-20 01:40:00\n",
      "10 minutes gap between 2018-12-20 09:15:00 and 2018-12-20 09:25:00\n",
      "10 minutes gap between 2018-12-20 12:10:00 and 2018-12-20 12:20:00\n",
      "10 minutes gap between 2018-12-20 21:15:00 and 2018-12-20 21:25:00\n",
      "10 minutes gap between 2018-12-21 17:25:00 and 2018-12-21 17:35:00\n",
      "15 minutes gap between 2018-12-21 21:35:00 and 2018-12-21 21:50:00\n",
      "35 minutes gap between 2018-12-21 22:05:00 and 2018-12-21 22:40:00\n",
      "10 minutes gap between 2018-12-21 23:35:00 and 2018-12-21 23:45:00\n",
      "10 minutes gap between 2018-12-22 02:10:00 and 2018-12-22 02:20:00\n",
      "10 minutes gap between 2018-12-22 07:55:00 and 2018-12-22 08:05:00\n",
      "10 minutes gap between 2018-12-22 10:55:00 and 2018-12-22 11:05:00\n",
      "10 minutes gap between 2018-12-22 22:55:00 and 2018-12-22 23:05:00\n",
      "10 minutes gap between 2018-12-24 07:55:00 and 2018-12-24 08:05:00\n",
      "10 minutes gap between 2018-12-24 22:55:00 and 2018-12-24 23:05:00\n",
      "10 minutes gap between 2018-12-25 07:55:00 and 2018-12-25 08:05:00\n",
      "10 minutes gap between 2018-12-25 13:55:00 and 2018-12-25 14:05:00\n",
      "10 minutes gap between 2018-12-25 16:55:00 and 2018-12-25 17:05:00\n",
      "10 minutes gap between 2018-12-25 22:55:00 and 2018-12-25 23:05:00\n",
      "10 minutes gap between 2018-12-26 04:55:00 and 2018-12-26 05:05:00\n",
      "10 minutes gap between 2018-12-26 07:55:00 and 2018-12-26 08:05:00\n",
      "10 minutes gap between 2018-12-26 08:35:00 and 2018-12-26 08:45:00\n",
      "10 minutes gap between 2018-12-26 16:55:00 and 2018-12-26 17:05:00\n",
      "10 minutes gap between 2018-12-26 19:55:00 and 2018-12-26 20:05:00\n",
      "45 minutes gap between 2018-12-28 01:50:00 and 2018-12-28 02:35:00\n",
      "10 minutes gap between 2018-12-29 07:45:00 and 2018-12-29 07:55:00\n",
      "10 minutes gap between 2018-12-29 08:05:00 and 2018-12-29 08:15:00\n",
      "10 minutes gap between 2018-12-29 08:40:00 and 2018-12-29 08:50:00\n",
      "10 minutes gap between 2018-12-29 18:25:00 and 2018-12-29 18:35:00\n",
      "10 minutes gap between 2018-12-29 20:10:00 and 2018-12-29 20:20:00\n",
      "10 minutes gap between 2018-12-29 20:50:00 and 2018-12-29 21:00:00\n",
      "10 minutes gap between 2018-12-30 16:45:00 and 2018-12-30 16:55:00\n",
      "10 minutes gap between 2018-12-30 17:20:00 and 2018-12-30 17:30:00\n",
      "10 minutes gap between 2018-12-31 04:55:00 and 2018-12-31 05:05:00\n",
      "10 minutes gap between 2018-12-31 10:55:00 and 2018-12-31 11:05:00\n",
      "10 minutes gap between 2018-12-31 19:55:00 and 2018-12-31 20:05:00\n",
      "10 minutes gap between 2019-01-01 13:20:00 and 2019-01-01 13:30:00\n",
      "10 minutes gap between 2019-01-02 04:25:00 and 2019-01-02 04:35:00\n",
      "10 minutes gap between 2019-01-02 16:55:00 and 2019-01-02 17:05:00\n",
      "10 minutes gap between 2019-01-02 18:00:00 and 2019-01-02 18:10:00\n",
      "10 minutes gap between 2019-01-02 19:50:00 and 2019-01-02 20:00:00\n",
      "10 minutes gap between 2019-01-03 11:00:00 and 2019-01-03 11:10:00\n",
      "10 minutes gap between 2019-01-04 00:00:00 and 2019-01-04 00:10:00\n",
      "10 minutes gap between 2019-01-04 03:25:00 and 2019-01-04 03:35:00\n",
      "10 minutes gap between 2019-01-05 04:55:00 and 2019-01-05 05:05:00\n",
      "10 minutes gap between 2019-01-08 04:15:00 and 2019-01-08 04:25:00\n",
      "10 minutes gap between 2019-01-09 02:10:00 and 2019-01-09 02:20:00\n",
      "10 minutes gap between 2019-01-10 11:00:00 and 2019-01-10 11:10:00\n",
      "10 minutes gap between 2019-01-10 23:05:00 and 2019-01-10 23:15:00\n",
      "10 minutes gap between 2019-01-11 20:00:00 and 2019-01-11 20:10:00\n",
      "10 minutes gap between 2019-01-11 20:20:00 and 2019-01-11 20:30:00\n",
      "10 minutes gap between 2019-01-11 20:45:00 and 2019-01-11 20:55:00\n",
      "10 minutes gap between 2019-01-11 22:05:00 and 2019-01-11 22:15:00\n",
      "10 minutes gap between 2019-01-12 06:30:00 and 2019-01-12 06:40:00\n",
      "10 minutes gap between 2019-01-12 10:30:00 and 2019-01-12 10:40:00\n",
      "10 minutes gap between 2019-01-12 11:15:00 and 2019-01-12 11:25:00\n",
      "10 minutes gap between 2019-01-12 12:05:00 and 2019-01-12 12:15:00\n",
      "10 minutes gap between 2019-01-12 12:15:00 and 2019-01-12 12:25:00\n",
      "15 minutes gap between 2019-01-12 12:30:00 and 2019-01-12 12:45:00\n",
      "10 minutes gap between 2019-01-12 12:50:00 and 2019-01-12 13:00:00\n",
      "15 minutes gap between 2019-01-12 14:10:00 and 2019-01-12 14:25:00\n",
      "10 minutes gap between 2019-01-12 14:25:00 and 2019-01-12 14:35:00\n",
      "15 minutes gap between 2019-01-12 14:35:00 and 2019-01-12 14:50:00\n",
      "10 minutes gap between 2019-01-12 15:25:00 and 2019-01-12 15:35:00\n",
      "10 minutes gap between 2019-01-12 15:35:00 and 2019-01-12 15:45:00\n",
      "10 minutes gap between 2019-01-12 15:50:00 and 2019-01-12 16:00:00\n",
      "10 minutes gap between 2019-01-12 16:05:00 and 2019-01-12 16:15:00\n",
      "10 minutes gap between 2019-01-12 16:35:00 and 2019-01-12 16:45:00\n",
      "10 minutes gap between 2019-01-12 16:55:00 and 2019-01-12 17:05:00\n",
      "10 minutes gap between 2019-01-12 17:05:00 and 2019-01-12 17:15:00\n",
      "10 minutes gap between 2019-01-12 17:25:00 and 2019-01-12 17:35:00\n",
      "15 minutes gap between 2019-01-12 20:35:00 and 2019-01-12 20:50:00\n",
      "10 minutes gap between 2019-01-12 21:10:00 and 2019-01-12 21:20:00\n",
      "10 minutes gap between 2019-01-12 21:25:00 and 2019-01-12 21:35:00\n",
      "10 minutes gap between 2019-01-12 22:20:00 and 2019-01-12 22:30:00\n",
      "10 minutes gap between 2019-01-13 01:25:00 and 2019-01-13 01:35:00\n",
      "10 minutes gap between 2019-01-13 03:30:00 and 2019-01-13 03:40:00\n",
      "10 minutes gap between 2019-01-13 04:50:00 and 2019-01-13 05:00:00\n",
      "10 minutes gap between 2019-01-13 06:20:00 and 2019-01-13 06:30:00\n",
      "10 minutes gap between 2019-01-13 23:10:00 and 2019-01-13 23:20:00\n",
      "10 minutes gap between 2019-01-14 04:20:00 and 2019-01-14 04:30:00\n",
      "10 minutes gap between 2019-01-14 11:00:00 and 2019-01-14 11:10:00\n",
      "10 minutes gap between 2019-01-14 21:50:00 and 2019-01-14 22:00:00\n",
      "10 minutes gap between 2019-01-15 05:00:00 and 2019-01-15 05:10:00\n",
      "10 minutes gap between 2019-01-15 10:25:00 and 2019-01-15 10:35:00\n",
      "10 minutes gap between 2019-01-16 11:00:00 and 2019-01-16 11:10:00\n",
      "10 minutes gap between 2019-01-16 16:45:00 and 2019-01-16 16:55:00\n",
      "10 minutes gap between 2019-01-16 20:00:00 and 2019-01-16 20:10:00\n",
      "10 minutes gap between 2019-01-17 13:45:00 and 2019-01-17 13:55:00\n",
      "10 minutes gap between 2019-01-17 16:20:00 and 2019-01-17 16:30:00\n",
      "10 minutes gap between 2019-01-18 01:50:00 and 2019-01-18 02:00:00\n",
      "10 minutes gap between 2019-01-18 03:20:00 and 2019-01-18 03:30:00\n",
      "10 minutes gap between 2019-01-18 04:20:00 and 2019-01-18 04:30:00\n",
      "10 minutes gap between 2019-01-18 10:05:00 and 2019-01-18 10:15:00\n",
      "10 minutes gap between 2019-01-18 18:00:00 and 2019-01-18 18:10:00\n",
      "10 minutes gap between 2019-01-18 21:30:00 and 2019-01-18 21:40:00\n",
      "10 minutes gap between 2019-01-18 22:20:00 and 2019-01-18 22:30:00\n",
      "10 minutes gap between 2019-01-19 01:45:00 and 2019-01-19 01:55:00\n",
      "10 minutes gap between 2019-01-19 04:15:00 and 2019-01-19 04:25:00\n",
      "10 minutes gap between 2019-01-19 05:20:00 and 2019-01-19 05:30:00\n",
      "10 minutes gap between 2019-01-19 08:00:00 and 2019-01-19 08:10:00\n",
      "10 minutes gap between 2019-01-19 14:00:00 and 2019-01-19 14:10:00\n",
      "10 minutes gap between 2019-01-19 22:30:00 and 2019-01-19 22:40:00\n",
      "10 minutes gap between 2019-01-20 00:45:00 and 2019-01-20 00:55:00\n",
      "10 minutes gap between 2019-01-20 03:15:00 and 2019-01-20 03:25:00\n",
      "10 minutes gap between 2019-01-20 09:10:00 and 2019-01-20 09:20:00\n",
      "10 minutes gap between 2019-01-20 09:45:00 and 2019-01-20 09:55:00\n",
      "10 minutes gap between 2019-01-20 13:30:00 and 2019-01-20 13:40:00\n",
      "10 minutes gap between 2019-01-20 21:10:00 and 2019-01-20 21:20:00\n",
      "10 minutes gap between 2019-01-20 22:10:00 and 2019-01-20 22:20:00\n",
      "10 minutes gap between 2019-01-21 15:40:00 and 2019-01-21 15:50:00\n",
      "10 minutes gap between 2019-01-21 18:20:00 and 2019-01-21 18:30:00\n",
      "10 minutes gap between 2019-01-21 18:40:00 and 2019-01-21 18:50:00\n",
      "10 minutes gap between 2019-01-22 05:00:00 and 2019-01-22 05:10:00\n",
      "10 minutes gap between 2019-01-22 08:05:00 and 2019-01-22 08:15:00\n",
      "10 minutes gap between 2019-01-22 10:10:00 and 2019-01-22 10:20:00\n",
      "10 minutes gap between 2019-01-22 23:30:00 and 2019-01-22 23:40:00\n",
      "10 minutes gap between 2019-01-23 00:10:00 and 2019-01-23 00:20:00\n",
      "10 minutes gap between 2019-01-23 00:30:00 and 2019-01-23 00:40:00\n",
      "10 minutes gap between 2019-01-23 03:45:00 and 2019-01-23 03:55:00\n",
      "10 minutes gap between 2019-01-23 19:40:00 and 2019-01-23 19:50:00\n",
      "10 minutes gap between 2019-01-23 22:30:00 and 2019-01-23 22:40:00\n",
      "10 minutes gap between 2019-01-24 00:30:00 and 2019-01-24 00:40:00\n",
      "10 minutes gap between 2019-01-24 05:10:00 and 2019-01-24 05:20:00\n",
      "10 minutes gap between 2019-01-24 13:55:00 and 2019-01-24 14:05:00\n",
      "10 minutes gap between 2019-01-24 14:05:00 and 2019-01-24 14:15:00\n",
      "10 minutes gap between 2019-01-24 16:45:00 and 2019-01-24 16:55:00\n",
      "10 minutes gap between 2019-01-24 18:10:00 and 2019-01-24 18:20:00\n",
      "10 minutes gap between 2019-01-24 19:55:00 and 2019-01-24 20:05:00\n",
      "10 minutes gap between 2019-01-25 01:10:00 and 2019-01-25 01:20:00\n",
      "10 minutes gap between 2019-01-25 04:55:00 and 2019-01-25 05:05:00\n",
      "10 minutes gap between 2019-01-25 07:55:00 and 2019-01-25 08:05:00\n",
      "10 minutes gap between 2019-01-26 01:55:00 and 2019-01-26 02:05:00\n",
      "10 minutes gap between 2019-01-26 03:05:00 and 2019-01-26 03:15:00\n",
      "10 minutes gap between 2019-01-26 05:05:00 and 2019-01-26 05:15:00\n",
      "10 minutes gap between 2019-01-26 05:20:00 and 2019-01-26 05:30:00\n",
      "10 minutes gap between 2019-01-26 06:30:00 and 2019-01-26 06:40:00\n",
      "10 minutes gap between 2019-01-26 07:40:00 and 2019-01-26 07:50:00\n",
      "10 minutes gap between 2019-01-26 07:50:00 and 2019-01-26 08:00:00\n",
      "10 minutes gap between 2019-01-26 08:10:00 and 2019-01-26 08:20:00\n",
      "10 minutes gap between 2019-01-26 08:20:00 and 2019-01-26 08:30:00\n",
      "10 minutes gap between 2019-01-26 09:10:00 and 2019-01-26 09:20:00\n",
      "10 minutes gap between 2019-01-26 09:25:00 and 2019-01-26 09:35:00\n",
      "10 minutes gap between 2019-01-26 20:20:00 and 2019-01-26 20:30:00\n",
      "10 minutes gap between 2019-01-27 01:10:00 and 2019-01-27 01:20:00\n",
      "10 minutes gap between 2019-01-27 02:10:00 and 2019-01-27 02:20:00\n",
      "10 minutes gap between 2019-01-27 03:10:00 and 2019-01-27 03:20:00\n",
      "10 minutes gap between 2019-01-27 03:30:00 and 2019-01-27 03:40:00\n",
      "10 minutes gap between 2019-01-27 04:50:00 and 2019-01-27 05:00:00\n",
      "10 minutes gap between 2019-01-27 05:10:00 and 2019-01-27 05:20:00\n",
      "10 minutes gap between 2019-01-27 08:05:00 and 2019-01-27 08:15:00\n",
      "10 minutes gap between 2019-01-27 10:05:00 and 2019-01-27 10:15:00\n",
      "10 minutes gap between 2019-01-27 10:55:00 and 2019-01-27 11:05:00\n",
      "10 minutes gap between 2019-01-27 11:20:00 and 2019-01-27 11:30:00\n",
      "10 minutes gap between 2019-01-27 13:55:00 and 2019-01-27 14:05:00\n",
      "10 minutes gap between 2019-01-27 14:35:00 and 2019-01-27 14:45:00\n",
      "10 minutes gap between 2019-01-27 19:55:00 and 2019-01-27 20:05:00\n",
      "10 minutes gap between 2019-01-27 20:05:00 and 2019-01-27 20:15:00\n",
      "10 minutes gap between 2019-01-28 01:10:00 and 2019-01-28 01:20:00\n",
      "10 minutes gap between 2019-01-28 03:50:00 and 2019-01-28 04:00:00\n",
      "10 minutes gap between 2019-01-28 04:55:00 and 2019-01-28 05:05:00\n",
      "10 minutes gap between 2019-01-28 10:10:00 and 2019-01-28 10:20:00\n",
      "10 minutes gap between 2019-01-28 13:40:00 and 2019-01-28 13:50:00\n",
      "10 minutes gap between 2019-01-28 13:55:00 and 2019-01-28 14:05:00\n",
      "10 minutes gap between 2019-01-28 16:10:00 and 2019-01-28 16:20:00\n",
      "10 minutes gap between 2019-01-28 16:50:00 and 2019-01-28 17:00:00\n",
      "10 minutes gap between 2019-01-28 21:55:00 and 2019-01-28 22:05:00\n",
      "10 minutes gap between 2019-01-28 22:10:00 and 2019-01-28 22:20:00\n",
      "10 minutes gap between 2019-01-28 22:55:00 and 2019-01-28 23:05:00\n",
      "10 minutes gap between 2019-01-29 00:20:00 and 2019-01-29 00:30:00\n",
      "10 minutes gap between 2019-01-29 00:50:00 and 2019-01-29 01:00:00\n",
      "10 minutes gap between 2019-01-29 01:55:00 and 2019-01-29 02:05:00\n",
      "10 minutes gap between 2019-01-29 03:45:00 and 2019-01-29 03:55:00\n",
      "10 minutes gap between 2019-01-29 06:20:00 and 2019-01-29 06:30:00\n",
      "10 minutes gap between 2019-01-29 07:55:00 and 2019-01-29 08:05:00\n",
      "10 minutes gap between 2019-01-29 10:20:00 and 2019-01-29 10:30:00\n",
      "10 minutes gap between 2019-01-29 13:15:00 and 2019-01-29 13:25:00\n",
      "10 minutes gap between 2019-01-29 17:00:00 and 2019-01-29 17:10:00\n",
      "10 minutes gap between 2019-01-29 19:55:00 and 2019-01-29 20:05:00\n",
      "10 minutes gap between 2019-01-29 21:10:00 and 2019-01-29 21:20:00\n",
      "10 minutes gap between 2019-01-29 21:45:00 and 2019-01-29 21:55:00\n",
      "10 minutes gap between 2019-01-29 22:20:00 and 2019-01-29 22:30:00\n",
      "10 minutes gap between 2019-01-29 23:20:00 and 2019-01-29 23:30:00\n",
      "10 minutes gap between 2019-01-30 01:55:00 and 2019-01-30 02:05:00\n",
      "10 minutes gap between 2019-01-30 04:05:00 and 2019-01-30 04:15:00\n",
      "10 minutes gap between 2019-01-30 11:00:00 and 2019-01-30 11:10:00\n",
      "10 minutes gap between 2019-01-30 13:25:00 and 2019-01-30 13:35:00\n",
      "10 minutes gap between 2019-01-30 16:00:00 and 2019-01-30 16:10:00\n",
      "10 minutes gap between 2019-01-30 19:50:00 and 2019-01-30 20:00:00\n",
      "10 minutes gap between 2019-01-30 21:10:00 and 2019-01-30 21:20:00\n",
      "10 minutes gap between 2019-01-31 01:55:00 and 2019-01-31 02:05:00\n",
      "10 minutes gap between 2019-01-31 03:30:00 and 2019-01-31 03:40:00\n",
      "10 minutes gap between 2019-01-31 06:50:00 and 2019-01-31 07:00:00\n",
      "10 minutes gap between 2019-01-31 07:50:00 and 2019-01-31 08:00:00\n",
      "10 minutes gap between 2019-01-31 13:55:00 and 2019-01-31 14:05:00\n",
      "10 minutes gap between 2019-01-31 16:55:00 and 2019-01-31 17:05:00\n",
      "10 minutes gap between 2019-01-31 22:05:00 and 2019-01-31 22:15:00\n",
      "10 minutes gap between 2019-02-01 03:20:00 and 2019-02-01 03:30:00\n",
      "10 minutes gap between 2019-02-01 04:05:00 and 2019-02-01 04:15:00\n",
      "10 minutes gap between 2019-02-01 04:30:00 and 2019-02-01 04:40:00\n",
      "10 minutes gap between 2019-02-01 05:20:00 and 2019-02-01 05:30:00\n",
      "10 minutes gap between 2019-02-01 07:55:00 and 2019-02-01 08:05:00\n",
      "10 minutes gap between 2019-02-01 09:55:00 and 2019-02-01 10:05:00\n",
      "10 minutes gap between 2019-02-01 13:05:00 and 2019-02-01 13:15:00\n",
      "10 minutes gap between 2019-02-01 13:55:00 and 2019-02-01 14:05:00\n",
      "10 minutes gap between 2019-02-01 15:45:00 and 2019-02-01 15:55:00\n",
      "10 minutes gap between 2019-02-01 22:05:00 and 2019-02-01 22:15:00\n",
      "10 minutes gap between 2019-02-02 02:10:00 and 2019-02-02 02:20:00\n",
      "10 minutes gap between 2019-02-02 03:05:00 and 2019-02-02 03:15:00\n",
      "10 minutes gap between 2019-02-02 05:10:00 and 2019-02-02 05:20:00\n",
      "10 minutes gap between 2019-02-02 16:55:00 and 2019-02-02 17:05:00\n",
      "10 minutes gap between 2019-02-02 21:45:00 and 2019-02-02 21:55:00\n",
      "10 minutes gap between 2019-02-02 22:55:00 and 2019-02-02 23:05:00\n",
      "10 minutes gap between 2019-02-03 01:25:00 and 2019-02-03 01:35:00\n",
      "10 minutes gap between 2019-02-03 01:55:00 and 2019-02-03 02:05:00\n",
      "10 minutes gap between 2019-02-03 03:20:00 and 2019-02-03 03:30:00\n",
      "10 minutes gap between 2019-02-03 10:00:00 and 2019-02-03 10:10:00\n",
      "10 minutes gap between 2019-02-03 13:15:00 and 2019-02-03 13:25:00\n",
      "10 minutes gap between 2019-02-03 13:55:00 and 2019-02-03 14:05:00\n",
      "10 minutes gap between 2019-02-03 16:55:00 and 2019-02-03 17:05:00\n",
      "10 minutes gap between 2019-02-03 19:55:00 and 2019-02-03 20:05:00\n",
      "10 minutes gap between 2019-02-03 22:20:00 and 2019-02-03 22:30:00\n",
      "10 minutes gap between 2019-02-04 01:55:00 and 2019-02-04 02:05:00\n",
      "10 minutes gap between 2019-02-04 04:55:00 and 2019-02-04 05:05:00\n",
      "10 minutes gap between 2019-02-04 15:45:00 and 2019-02-04 15:55:00\n",
      "10 minutes gap between 2019-02-04 17:30:00 and 2019-02-04 17:40:00\n",
      "10 minutes gap between 2019-02-04 19:10:00 and 2019-02-04 19:20:00\n",
      "10 minutes gap between 2019-02-04 23:45:00 and 2019-02-04 23:55:00\n",
      "10 minutes gap between 2019-02-05 00:20:00 and 2019-02-05 00:30:00\n",
      "10 minutes gap between 2019-02-05 01:20:00 and 2019-02-05 01:30:00\n",
      "10 minutes gap between 2019-02-05 03:20:00 and 2019-02-05 03:30:00\n",
      "10 minutes gap between 2019-02-05 05:30:00 and 2019-02-05 05:40:00\n",
      "10 minutes gap between 2019-02-05 13:55:00 and 2019-02-05 14:05:00\n",
      "10 minutes gap between 2019-02-05 16:20:00 and 2019-02-05 16:30:00\n",
      "10 minutes gap between 2019-02-05 16:55:00 and 2019-02-05 17:05:00\n",
      "10 minutes gap between 2019-02-05 21:45:00 and 2019-02-05 21:55:00\n",
      "10 minutes gap between 2019-02-06 01:55:00 and 2019-02-06 02:05:00\n",
      "10 minutes gap between 2019-02-06 03:10:00 and 2019-02-06 03:20:00\n",
      "10 minutes gap between 2019-02-06 07:55:00 and 2019-02-06 08:05:00\n",
      "10 minutes gap between 2019-02-06 10:55:00 and 2019-02-06 11:05:00\n",
      "10 minutes gap between 2019-02-06 12:10:00 and 2019-02-06 12:20:00\n",
      "10 minutes gap between 2019-02-06 13:55:00 and 2019-02-06 14:05:00\n",
      "10 minutes gap between 2019-02-06 16:55:00 and 2019-02-06 17:05:00\n",
      "10 minutes gap between 2019-02-06 21:30:00 and 2019-02-06 21:40:00\n",
      "10 minutes gap between 2019-02-06 22:10:00 and 2019-02-06 22:20:00\n",
      "10 minutes gap between 2019-02-07 03:20:00 and 2019-02-07 03:30:00\n",
      "10 minutes gap between 2019-02-07 04:20:00 and 2019-02-07 04:30:00\n",
      "10 minutes gap between 2019-02-07 05:50:00 and 2019-02-07 06:00:00\n"
     ]
    },
    {
     "name": "stdout",
     "output_type": "stream",
     "text": [
      "10 minutes gap between 2019-02-07 09:10:00 and 2019-02-07 09:20:00\n",
      "10 minutes gap between 2019-02-07 17:10:00 and 2019-02-07 17:20:00\n",
      "10 minutes gap between 2019-02-08 00:20:00 and 2019-02-08 00:30:00\n",
      "10 minutes gap between 2019-02-08 00:45:00 and 2019-02-08 00:55:00\n",
      "10 minutes gap between 2019-02-08 04:10:00 and 2019-02-08 04:20:00\n",
      "10 minutes gap between 2019-02-08 13:55:00 and 2019-02-08 14:05:00\n",
      "10 minutes gap between 2019-02-08 16:30:00 and 2019-02-08 16:40:00\n",
      "10 minutes gap between 2019-02-08 21:30:00 and 2019-02-08 21:40:00\n",
      "130 minutes gap between 2019-02-08 23:05:00 and 2019-02-09 01:15:00\n",
      "65 minutes gap between 2019-02-09 01:30:00 and 2019-02-09 02:35:00\n",
      "10 minutes gap between 2019-02-09 06:10:00 and 2019-02-09 06:20:00\n",
      "10 minutes gap between 2019-02-09 10:55:00 and 2019-02-09 11:05:00\n",
      "10 minutes gap between 2019-02-09 11:10:00 and 2019-02-09 11:20:00\n",
      "10 minutes gap between 2019-02-09 17:40:00 and 2019-02-09 17:50:00\n",
      "10 minutes gap between 2019-02-09 18:10:00 and 2019-02-09 18:20:00\n",
      "10 minutes gap between 2019-02-09 22:45:00 and 2019-02-09 22:55:00\n",
      "10 minutes gap between 2019-02-10 01:50:00 and 2019-02-10 02:00:00\n",
      "10 minutes gap between 2019-02-10 04:45:00 and 2019-02-10 04:55:00\n",
      "10 minutes gap between 2019-02-10 09:10:00 and 2019-02-10 09:20:00\n",
      "10 minutes gap between 2019-02-10 11:35:00 and 2019-02-10 11:45:00\n",
      "10 minutes gap between 2019-02-10 13:55:00 and 2019-02-10 14:05:00\n",
      "10 minutes gap between 2019-02-10 21:50:00 and 2019-02-10 22:00:00\n",
      "10 minutes gap between 2019-02-11 01:10:00 and 2019-02-11 01:20:00\n",
      "10 minutes gap between 2019-02-11 01:55:00 and 2019-02-11 02:05:00\n",
      "10 minutes gap between 2019-02-11 04:25:00 and 2019-02-11 04:35:00\n",
      "10 minutes gap between 2019-02-11 04:55:00 and 2019-02-11 05:05:00\n",
      "10 minutes gap between 2019-02-11 07:10:00 and 2019-02-11 07:20:00\n",
      "10 minutes gap between 2019-02-11 13:45:00 and 2019-02-11 13:55:00\n",
      "10 minutes gap between 2019-02-11 13:55:00 and 2019-02-11 14:05:00\n",
      "10 minutes gap between 2019-02-11 22:10:00 and 2019-02-11 22:20:00\n",
      "10 minutes gap between 2019-02-12 03:45:00 and 2019-02-12 03:55:00\n",
      "10 minutes gap between 2019-02-12 05:00:00 and 2019-02-12 05:10:00\n",
      "10 minutes gap between 2019-02-12 12:40:00 and 2019-02-12 12:50:00\n",
      "10 minutes gap between 2019-02-12 22:25:00 and 2019-02-12 22:35:00\n",
      "10 minutes gap between 2019-02-13 00:45:00 and 2019-02-13 00:55:00\n",
      "10 minutes gap between 2019-02-13 03:50:00 and 2019-02-13 04:00:00\n",
      "10 minutes gap between 2019-02-13 10:15:00 and 2019-02-13 10:25:00\n",
      "10 minutes gap between 2019-02-13 10:45:00 and 2019-02-13 10:55:00\n",
      "10 minutes gap between 2019-02-13 10:55:00 and 2019-02-13 11:05:00\n",
      "10 minutes gap between 2019-02-13 15:50:00 and 2019-02-13 16:00:00\n",
      "10 minutes gap between 2019-02-13 17:15:00 and 2019-02-13 17:25:00\n",
      "10 minutes gap between 2019-02-14 00:10:00 and 2019-02-14 00:20:00\n",
      "10 minutes gap between 2019-02-14 01:55:00 and 2019-02-14 02:05:00\n",
      "15 minutes gap between 2019-02-14 10:45:00 and 2019-02-14 11:00:00\n",
      "10 minutes gap between 2019-02-14 16:55:00 and 2019-02-14 17:05:00\n",
      "10 minutes gap between 2019-02-14 17:35:00 and 2019-02-14 17:45:00\n",
      "10 minutes gap between 2019-02-14 20:00:00 and 2019-02-14 20:10:00\n",
      "10 minutes gap between 2019-02-15 01:10:00 and 2019-02-15 01:20:00\n",
      "10 minutes gap between 2019-02-15 09:20:00 and 2019-02-15 09:30:00\n",
      "10 minutes gap between 2019-02-15 21:50:00 and 2019-02-15 22:00:00\n",
      "10 minutes gap between 2019-02-17 03:10:00 and 2019-02-17 03:20:00\n",
      "10 minutes gap between 2019-02-17 03:45:00 and 2019-02-17 03:55:00\n",
      "10 minutes gap between 2019-02-17 04:20:00 and 2019-02-17 04:30:00\n",
      "10 minutes gap between 2019-02-17 04:50:00 and 2019-02-17 05:00:00\n",
      "10 minutes gap between 2019-02-17 16:55:00 and 2019-02-17 17:05:00\n",
      "10 minutes gap between 2019-02-17 23:00:00 and 2019-02-17 23:10:00\n",
      "10 minutes gap between 2019-02-18 04:30:00 and 2019-02-18 04:40:00\n",
      "10 minutes gap between 2019-02-18 07:10:00 and 2019-02-18 07:20:00\n",
      "10 minutes gap between 2019-02-18 21:25:00 and 2019-02-18 21:35:00\n",
      "10 minutes gap between 2019-02-18 21:50:00 and 2019-02-18 22:00:00\n",
      "10 minutes gap between 2019-02-18 22:05:00 and 2019-02-18 22:15:00\n",
      "10 minutes gap between 2019-02-19 01:55:00 and 2019-02-19 02:05:00\n",
      "10 minutes gap between 2019-02-19 03:15:00 and 2019-02-19 03:25:00\n",
      "10 minutes gap between 2019-02-20 00:05:00 and 2019-02-20 00:15:00\n",
      "10 minutes gap between 2019-02-21 23:35:00 and 2019-02-21 23:45:00\n",
      "10 minutes gap between 2019-02-22 22:35:00 and 2019-02-22 22:45:00\n",
      "10 minutes gap between 2019-02-22 23:15:00 and 2019-02-22 23:25:00\n",
      "10 minutes gap between 2019-02-22 23:30:00 and 2019-02-22 23:40:00\n",
      "10 minutes gap between 2019-02-23 05:35:00 and 2019-02-23 05:45:00\n",
      "10 minutes gap between 2019-02-24 23:05:00 and 2019-02-24 23:15:00\n",
      "10 minutes gap between 2019-02-24 23:20:00 and 2019-02-24 23:30:00\n",
      "10 minutes gap between 2019-02-24 23:30:00 and 2019-02-24 23:40:00\n",
      "10 minutes gap between 2019-02-25 23:10:00 and 2019-02-25 23:20:00\n",
      "10 minutes gap between 2019-02-25 23:30:00 and 2019-02-25 23:40:00\n",
      "10 minutes gap between 2019-03-28 23:55:00 and 2019-03-29 00:05:00\n",
      "10 minutes gap between 2019-03-29 20:45:00 and 2019-03-29 20:55:00\n",
      "10 minutes gap between 2019-03-30 19:20:00 and 2019-03-30 19:30:00\n",
      "50 minutes gap between 2019-03-31 18:55:00 and 2019-03-31 19:45:00\n",
      "10 minutes gap between 2019-03-31 19:45:00 and 2019-03-31 19:55:00\n",
      "15 minutes gap between 2019-04-08 21:05:00 and 2019-04-08 21:20:00\n",
      "75 minutes gap between 2019-04-30 18:05:00 and 2019-04-30 19:20:00\n",
      "10 minutes gap between 2019-04-30 20:30:00 and 2019-04-30 20:40:00\n",
      "390 minutes gap between 2019-05-27 22:55:00 and 2019-05-28 05:25:00\n",
      "75 minutes gap between 2019-07-09 08:30:00 and 2019-07-09 09:45:00\n",
      "30 minutes gap between 2019-07-27 17:30:00 and 2019-07-27 18:00:00\n",
      "10 minutes gap between 2019-09-17 06:50:00 and 2019-09-17 07:00:00\n",
      "30 minutes gap between 2019-09-17 08:50:00 and 2019-09-17 09:20:00\n",
      "10 minutes gap between 2019-09-20 20:40:00 and 2019-09-20 20:50:00\n",
      "1055 minutes gap between 2019-09-30 08:00:00 and 2019-10-01 01:35:00\n",
      "715 minutes gap between 2019-10-01 08:00:00 and 2019-10-01 19:55:00\n",
      "715 minutes gap between 2019-10-02 08:00:00 and 2019-10-02 19:55:00\n",
      "15 minutes gap between 2019-10-14 06:55:00 and 2019-10-14 07:10:00\n",
      "10 minutes gap between 2019-11-20 17:50:00 and 2019-11-20 18:00:00\n",
      "10 minutes gap between 2019-11-20 18:00:00 and 2019-11-20 18:10:00\n",
      "10 minutes gap between 2019-11-20 18:10:00 and 2019-11-20 18:20:00\n",
      "10 minutes gap between 2019-11-20 20:10:00 and 2019-11-20 20:20:00\n",
      "10 minutes gap between 2019-11-20 20:20:00 and 2019-11-20 20:30:00\n",
      "10 minutes gap between 2019-11-20 20:30:00 and 2019-11-20 20:40:00\n",
      "10 minutes gap between 2019-11-20 20:40:00 and 2019-11-20 20:50:00\n",
      "10 minutes gap between 2019-11-20 20:50:00 and 2019-11-20 21:00:00\n",
      "10 minutes gap between 2019-11-20 21:00:00 and 2019-11-20 21:10:00\n",
      "10 minutes gap between 2019-11-20 21:10:00 and 2019-11-20 21:20:00\n",
      "75 minutes gap between 2019-12-27 13:45:00 and 2019-12-27 15:00:00\n",
      "630 minutes gap between 2020-05-25 21:15:00 and 2020-05-26 07:45:00\n",
      "90 minutes gap between 2020-07-02 15:50:00 and 2020-07-02 17:20:00\n",
      "40 minutes gap between 2020-07-16 04:25:00 and 2020-07-16 05:05:00\n",
      "10 minutes gap between 2020-08-22 05:30:00 and 2020-08-22 05:40:00\n",
      "10 minutes gap between 2020-08-22 07:05:00 and 2020-08-22 07:15:00\n",
      "30 minutes gap between 2020-08-25 21:25:00 and 2020-08-25 21:55:00\n",
      "10 minutes gap between 2020-08-25 21:55:00 and 2020-08-25 22:05:00\n",
      "10 minutes gap between 2020-08-25 22:55:00 and 2020-08-25 23:05:00\n",
      "10 minutes gap between 2020-08-25 23:15:00 and 2020-08-25 23:25:00\n",
      "15 minutes gap between 2020-08-25 23:25:00 and 2020-08-25 23:40:00\n",
      "10 minutes gap between 2020-08-26 02:05:00 and 2020-08-26 02:15:00\n",
      "10 minutes gap between 2020-08-26 02:25:00 and 2020-08-26 02:35:00\n",
      "10 minutes gap between 2020-08-26 02:45:00 and 2020-08-26 02:55:00\n",
      "10 minutes gap between 2020-08-26 02:55:00 and 2020-08-26 03:05:00\n",
      "10 minutes gap between 2020-08-26 20:25:00 and 2020-08-26 20:35:00\n",
      "15 minutes gap between 2020-12-17 07:25:00 and 2020-12-17 07:40:00\n",
      "There are 375 gaps in the data\n",
      "Missing 1657 out of the 229336 radar scans (0.01%)\n",
      "From 2018-12-19 08:00:00 till 2021-02-22 08:00:00\n"
     ]
    }
   ],
   "source": [
    "gaps=[]\n",
    "for i in range(0,len(radar_scans)-1):\n",
    "    # check if tim\n",
    "    gap_size = gap_between(radar_scans[i],radar_scans[i+1])\n",
    "    if  gap_size != 0:\n",
    "        gaps.append([radar_scans[i], radar_scans[i+1], gap_size])\n",
    "gaps=np.array(gaps)\n",
    "print('There are {} gaps in the data'.format(len(gaps)))  \n",
    "nr_missing_scans=int(sum(map(float, gaps[:,2])))\n",
    "total_scans = (len(radar_scans) + nr_missing_scans)\n",
    "perc_missing = nr_missing_scans/total_scans\n",
    "print('Missing {} out of the {} radar scans ({:.2f}%)'.format(nr_missing_scans, total_scans, perc_missing))\n",
    "print('From {} till {}'.format(get_datetime(radar_scans[0]), get_datetime(radar_scans[-1])))"
   ]
  },
  {
   "cell_type": "markdown",
   "metadata": {},
   "source": [
    "## Open the H5 files"
   ]
  },
  {
   "cell_type": "code",
   "execution_count": null,
   "metadata": {},
   "outputs": [
    {
     "name": "stderr",
     "output_type": "stream",
     "text": [
      "  0%|          | 18/174802 [00:00<30:19, 96.04it/s] "
     ]
    },
    {
     "name": "stdout",
     "output_type": "stream",
     "text": [
      "error RAD_NL25_RAC_RT_201906222155.h5\n",
      "<HDF5 dataset \"image_data\": shape (765, 700), type \"<u2\">\n",
      "(765, 700)\n"
     ]
    },
    {
     "name": "stderr",
     "output_type": "stream",
     "text": [
      "  0%|          | 65/174802 [00:00<20:51, 139.67it/s]"
     ]
    },
    {
     "name": "stdout",
     "output_type": "stream",
     "text": [
      "RAD_NL25_RAC_RT_201906230110.h5 255\n"
     ]
    },
    {
     "name": "stderr",
     "output_type": "stream",
     "text": [
      "  0%|          | 212/174802 [00:01<14:18, 203.40it/s]"
     ]
    },
    {
     "name": "stdout",
     "output_type": "stream",
     "text": [
      "RAD_NL25_RAC_RT_201906231050.h5 255\n"
     ]
    },
    {
     "name": "stderr",
     "output_type": "stream",
     "text": [
      "  0%|          | 310/174802 [00:01<08:41, 334.34it/s]"
     ]
    },
    {
     "name": "stdout",
     "output_type": "stream",
     "text": [
      "RAD_NL25_RAC_RT_201906231830.h5 255\n",
      "RAD_NL25_RAC_RT_201906232005.h5 255\n",
      "RAD_NL25_RAC_RT_201906232150.h5 255\n"
     ]
    },
    {
     "name": "stderr",
     "output_type": "stream",
     "text": [
      "  0%|          | 524/174802 [00:02<07:46, 373.94it/s]"
     ]
    },
    {
     "name": "stdout",
     "output_type": "stream",
     "text": [
      "RAD_NL25_RAC_RT_201906241150.h5 255\n",
      "RAD_NL25_RAC_RT_201906241830.h5 255\n",
      "RAD_NL25_RAC_RT_201906241835.h5 255\n",
      "RAD_NL25_RAC_RT_201906241840.h5 255\n"
     ]
    },
    {
     "name": "stderr",
     "output_type": "stream",
     "text": [
      "  0%|          | 608/174802 [00:02<07:35, 382.03it/s]"
     ]
    },
    {
     "name": "stdout",
     "output_type": "stream",
     "text": [
      "RAD_NL25_RAC_RT_201906241950.h5 255\n",
      "RAD_NL25_RAC_RT_201906242155.h5 255\n"
     ]
    },
    {
     "name": "stderr",
     "output_type": "stream",
     "text": [
      "  0%|          | 733/174802 [00:02<09:55, 292.22it/s]"
     ]
    },
    {
     "name": "stdout",
     "output_type": "stream",
     "text": [
      "RAD_NL25_RAC_RT_201906250805.h5 255\n"
     ]
    },
    {
     "name": "stderr",
     "output_type": "stream",
     "text": [
      "  1%|          | 910/174802 [00:03<07:05, 408.25it/s]"
     ]
    },
    {
     "name": "stdout",
     "output_type": "stream",
     "text": [
      "RAD_NL25_RAC_RT_201906251750.h5 255\n",
      "RAD_NL25_RAC_RT_201906251805.h5 255\n",
      "RAD_NL25_RAC_RT_201906251830.h5 255\n",
      "RAD_NL25_RAC_RT_201906251850.h5 255\n",
      "RAD_NL25_RAC_RT_201906251910.h5 255\n",
      "RAD_NL25_RAC_RT_201906251920.h5 255\n",
      "RAD_NL25_RAC_RT_201906251950.h5 255\n",
      "RAD_NL25_RAC_RT_201906252050.h5 255\n",
      "RAD_NL25_RAC_RT_201906252205.h5 255\n"
     ]
    },
    {
     "name": "stderr",
     "output_type": "stream",
     "text": [
      "  1%|          | 1480/174802 [00:04<05:38, 511.78it/s]"
     ]
    },
    {
     "name": "stdout",
     "output_type": "stream",
     "text": [
      "RAD_NL25_RAC_RT_201906271745.h5 255\n",
      "RAD_NL25_RAC_RT_201906271835.h5 255\n",
      "RAD_NL25_RAC_RT_201906271900.h5 255\n",
      "RAD_NL25_RAC_RT_201906271920.h5 255\n"
     ]
    },
    {
     "name": "stderr",
     "output_type": "stream",
     "text": [
      "  1%|          | 1583/174802 [00:04<07:04, 408.47it/s]"
     ]
    },
    {
     "name": "stdout",
     "output_type": "stream",
     "text": [
      "RAD_NL25_RAC_RT_201906280750.h5 255\n"
     ]
    },
    {
     "name": "stderr",
     "output_type": "stream",
     "text": [
      "  1%|          | 1719/174802 [00:05<14:13, 202.80it/s]"
     ]
    },
    {
     "name": "stdout",
     "output_type": "stream",
     "text": [
      "RAD_NL25_RAC_RT_201906281905.h5 255\n",
      "RAD_NL25_RAC_RT_201906282005.h5 255\n"
     ]
    },
    {
     "name": "stderr",
     "output_type": "stream",
     "text": [
      "  1%|          | 1831/174802 [00:06<16:43, 172.29it/s]"
     ]
    },
    {
     "name": "stdout",
     "output_type": "stream",
     "text": [
      "error RAD_NL25_RAC_RT_201906290420.h5\n",
      "<HDF5 dataset \"image_data\": shape (765, 700), type \"<u2\">\n",
      "(765, 700)\n"
     ]
    },
    {
     "name": "stderr",
     "output_type": "stream",
     "text": [
      "  1%|          | 1867/174802 [00:06<18:54, 152.41it/s]"
     ]
    },
    {
     "name": "stdout",
     "output_type": "stream",
     "text": [
      "RAD_NL25_RAC_RT_201906290805.h5 255\n",
      "RAD_NL25_RAC_RT_201906290855.h5 255\n"
     ]
    },
    {
     "name": "stderr",
     "output_type": "stream",
     "text": [
      "  1%|          | 1985/174802 [00:07<18:10, 158.41it/s]"
     ]
    },
    {
     "name": "stdout",
     "output_type": "stream",
     "text": [
      "RAD_NL25_RAC_RT_201906291820.h5 255\n",
      "RAD_NL25_RAC_RT_201906291945.h5 255\n"
     ]
    },
    {
     "name": "stderr",
     "output_type": "stream",
     "text": [
      "  1%|          | 2058/174802 [00:07<17:13, 167.13it/s]"
     ]
    },
    {
     "name": "stdout",
     "output_type": "stream",
     "text": [
      "RAD_NL25_RAC_RT_201906292250.h5 255\n",
      "RAD_NL25_RAC_RT_201906292305.h5 255\n",
      "RAD_NL25_RAC_RT_201906292350.h5 255\n",
      "RAD_NL25_RAC_RT_201906300110.h5 255\n",
      "RAD_NL25_RAC_RT_201906300215.h5 255\n"
     ]
    },
    {
     "name": "stderr",
     "output_type": "stream",
     "text": [
      "  1%|          | 2144/174802 [00:08<13:57, 206.11it/s]"
     ]
    },
    {
     "name": "stdout",
     "output_type": "stream",
     "text": [
      "RAD_NL25_RAC_RT_201906300605.h5 255\n",
      "RAD_NL25_RAC_RT_201906300910.h5 255\n",
      "RAD_NL25_RAC_RT_201906300925.h5 255\n",
      "RAD_NL25_RAC_RT_201906300935.h5 255\n",
      "RAD_NL25_RAC_RT_201906300940.h5 255\n"
     ]
    },
    {
     "name": "stderr",
     "output_type": "stream",
     "text": [
      "  1%|▏         | 2567/174802 [00:10<16:56, 169.51it/s]"
     ]
    },
    {
     "name": "stdout",
     "output_type": "stream",
     "text": [
      "RAD_NL25_RAC_RT_201907011805.h5 255\n",
      "RAD_NL25_RAC_RT_201907011840.h5 255\n",
      "RAD_NL25_RAC_RT_201907011845.h5 255\n",
      "RAD_NL25_RAC_RT_201907011855.h5 255\n",
      "RAD_NL25_RAC_RT_201907011900.h5 255\n",
      "RAD_NL25_RAC_RT_201907011905.h5 255\n",
      "RAD_NL25_RAC_RT_201907011945.h5 255\n",
      "RAD_NL25_RAC_RT_201907012015.h5 255\n",
      "RAD_NL25_RAC_RT_201907012035.h5 255\n"
     ]
    },
    {
     "name": "stderr",
     "output_type": "stream",
     "text": [
      "  2%|▏         | 2726/174802 [00:11<16:58, 168.94it/s]"
     ]
    },
    {
     "name": "stdout",
     "output_type": "stream",
     "text": [
      "RAD_NL25_RAC_RT_201907020540.h5 255\n",
      "RAD_NL25_RAC_RT_201907020800.h5 255\n",
      "RAD_NL25_RAC_RT_201907020855.h5 255\n"
     ]
    },
    {
     "name": "stderr",
     "output_type": "stream",
     "text": [
      "  2%|▏         | 2860/174802 [00:12<14:52, 192.71it/s]"
     ]
    },
    {
     "name": "stdout",
     "output_type": "stream",
     "text": [
      "RAD_NL25_RAC_RT_201907021745.h5 255\n",
      "RAD_NL25_RAC_RT_201907021835.h5 255\n",
      "RAD_NL25_RAC_RT_201907021910.h5 255\n",
      "RAD_NL25_RAC_RT_201907021930.h5 255\n",
      "RAD_NL25_RAC_RT_201907022025.h5 255\n",
      "RAD_NL25_RAC_RT_201907022040.h5 255\n"
     ]
    },
    {
     "name": "stderr",
     "output_type": "stream",
     "text": [
      "  2%|▏         | 2944/174802 [00:12<19:12, 149.08it/s]"
     ]
    },
    {
     "name": "stdout",
     "output_type": "stream",
     "text": [
      "RAD_NL25_RAC_RT_201907030110.h5 255\n"
     ]
    },
    {
     "name": "stderr",
     "output_type": "stream",
     "text": [
      "  2%|▏         | 3067/174802 [00:13<20:40, 138.44it/s]"
     ]
    },
    {
     "name": "stdout",
     "output_type": "stream",
     "text": [
      "RAD_NL25_RAC_RT_201907031150.h5 255\n",
      "RAD_NL25_RAC_RT_201907031340.h5 255\n"
     ]
    },
    {
     "name": "stderr",
     "output_type": "stream",
     "text": [
      "  2%|▏         | 3103/174802 [00:13<18:35, 153.97it/s]"
     ]
    },
    {
     "name": "stdout",
     "output_type": "stream",
     "text": [
      "RAD_NL25_RAC_RT_201907031350.h5 255\n",
      "RAD_NL25_RAC_RT_201907031410.h5 255\n"
     ]
    },
    {
     "name": "stderr",
     "output_type": "stream",
     "text": [
      "  2%|▏         | 3154/174802 [00:13<19:12, 148.99it/s]"
     ]
    },
    {
     "name": "stdout",
     "output_type": "stream",
     "text": [
      "RAD_NL25_RAC_RT_201907031825.h5 255\n",
      "RAD_NL25_RAC_RT_201907031835.h5 255\n",
      "RAD_NL25_RAC_RT_201907031840.h5 255\n",
      "RAD_NL25_RAC_RT_201907031850.h5 255\n",
      "RAD_NL25_RAC_RT_201907031905.h5 255\n",
      "RAD_NL25_RAC_RT_201907031950.h5 255\n",
      "RAD_NL25_RAC_RT_201907032005.h5 255\n",
      "RAD_NL25_RAC_RT_201907032010.h5 255\n",
      "RAD_NL25_RAC_RT_201907032035.h5 255\n",
      "RAD_NL25_RAC_RT_201907032105.h5 255\n",
      "RAD_NL25_RAC_RT_201907032110.h5 255\n",
      "RAD_NL25_RAC_RT_201907032125.h5 255\n",
      "RAD_NL25_RAC_RT_201907032130.h5 255\n",
      "RAD_NL25_RAC_RT_201907032135.h5 255\n",
      "RAD_NL25_RAC_RT_201907032150.h5 255\n"
     ]
    },
    {
     "name": "stderr",
     "output_type": "stream",
     "text": [
      "  2%|▏         | 3206/174802 [00:14<15:10, 188.43it/s]"
     ]
    },
    {
     "name": "stdout",
     "output_type": "stream",
     "text": [
      "RAD_NL25_RAC_RT_201907032250.h5 255\n",
      "RAD_NL25_RAC_RT_201907032350.h5 255\n",
      "RAD_NL25_RAC_RT_201907040005.h5 255\n",
      "RAD_NL25_RAC_RT_201907040105.h5 255\n",
      "RAD_NL25_RAC_RT_201907040110.h5 255\n",
      "RAD_NL25_RAC_RT_201907040150.h5 255\n"
     ]
    },
    {
     "name": "stderr",
     "output_type": "stream",
     "text": [
      "  2%|▏         | 3276/174802 [00:14<13:31, 211.38it/s]"
     ]
    },
    {
     "name": "stdout",
     "output_type": "stream",
     "text": [
      "RAD_NL25_RAC_RT_201907040245.h5 255\n",
      "RAD_NL25_RAC_RT_201907040320.h5 255\n",
      "RAD_NL25_RAC_RT_201907040435.h5 255\n",
      "RAD_NL25_RAC_RT_201907040450.h5 255\n",
      "RAD_NL25_RAC_RT_201907040550.h5 255\n"
     ]
    },
    {
     "name": "stderr",
     "output_type": "stream",
     "text": [
      "  2%|▏         | 3336/174802 [00:14<17:34, 162.53it/s]"
     ]
    },
    {
     "name": "stdout",
     "output_type": "stream",
     "text": [
      "RAD_NL25_RAC_RT_201907040920.h5 255\n",
      "RAD_NL25_RAC_RT_201907040955.h5 255\n"
     ]
    },
    {
     "name": "stderr",
     "output_type": "stream",
     "text": [
      "\r",
      "  2%|▏         | 3353/174802 [00:15<19:58, 143.03it/s]"
     ]
    },
    {
     "name": "stdout",
     "output_type": "stream",
     "text": [
      "RAD_NL25_RAC_RT_201907041150.h5 255\n"
     ]
    },
    {
     "name": "stderr",
     "output_type": "stream",
     "text": [
      "  2%|▏         | 3407/174802 [00:15<19:05, 149.58it/s]"
     ]
    },
    {
     "name": "stdout",
     "output_type": "stream",
     "text": [
      "RAD_NL25_RAC_RT_201907041450.h5 255\n"
     ]
    },
    {
     "name": "stderr",
     "output_type": "stream",
     "text": [
      "  2%|▏         | 3441/174802 [00:15<21:23, 133.47it/s]"
     ]
    },
    {
     "name": "stdout",
     "output_type": "stream",
     "text": [
      "RAD_NL25_RAC_RT_201907041820.h5 255\n",
      "RAD_NL25_RAC_RT_201907041850.h5 255\n",
      "RAD_NL25_RAC_RT_201907041905.h5 255\n",
      "RAD_NL25_RAC_RT_201907042055.h5 255\n"
     ]
    },
    {
     "name": "stderr",
     "output_type": "stream",
     "text": [
      "  2%|▏         | 3476/174802 [00:15<20:00, 142.66it/s]"
     ]
    },
    {
     "name": "stdout",
     "output_type": "stream",
     "text": [
      "RAD_NL25_RAC_RT_201907042120.h5 255\n",
      "RAD_NL25_RAC_RT_201907042150.h5 255\n",
      "RAD_NL25_RAC_RT_201907042205.h5 255\n",
      "RAD_NL25_RAC_RT_201907042305.h5 255\n",
      "RAD_NL25_RAC_RT_201907042315.h5 255\n",
      "RAD_NL25_RAC_RT_201907042345.h5 255\n"
     ]
    },
    {
     "name": "stderr",
     "output_type": "stream",
     "text": [
      "  2%|▏         | 3505/174802 [00:16<21:40, 131.74it/s]"
     ]
    },
    {
     "name": "stdout",
     "output_type": "stream",
     "text": [
      "RAD_NL25_RAC_RT_201907050005.h5 255\n",
      "RAD_NL25_RAC_RT_201907050020.h5 255\n",
      "RAD_NL25_RAC_RT_201907050050.h5 255\n",
      "RAD_NL25_RAC_RT_201907050110.h5 255\n"
     ]
    },
    {
     "name": "stderr",
     "output_type": "stream",
     "text": [
      "  2%|▏         | 3636/174802 [00:16<16:40, 171.14it/s]"
     ]
    },
    {
     "name": "stdout",
     "output_type": "stream",
     "text": [
      "RAD_NL25_RAC_RT_201907051050.h5 255\n"
     ]
    },
    {
     "name": "stderr",
     "output_type": "stream",
     "text": [
      "  2%|▏         | 3739/174802 [00:17<17:26, 163.46it/s]"
     ]
    },
    {
     "name": "stdout",
     "output_type": "stream",
     "text": [
      "RAD_NL25_RAC_RT_201907051805.h5 255\n",
      "RAD_NL25_RAC_RT_201907051825.h5 255\n",
      "RAD_NL25_RAC_RT_201907051855.h5 255\n",
      "RAD_NL25_RAC_RT_201907051915.h5 255\n",
      "RAD_NL25_RAC_RT_201907051925.h5 255\n",
      "RAD_NL25_RAC_RT_201907051930.h5 255\n",
      "RAD_NL25_RAC_RT_201907051935.h5 255\n",
      "RAD_NL25_RAC_RT_201907051940.h5 255\n",
      "RAD_NL25_RAC_RT_201907052005.h5 255\n",
      "RAD_NL25_RAC_RT_201907052055.h5 255\n"
     ]
    },
    {
     "name": "stderr",
     "output_type": "stream",
     "text": [
      "  2%|▏         | 3772/174802 [00:17<23:33, 120.98it/s]"
     ]
    },
    {
     "name": "stdout",
     "output_type": "stream",
     "text": [
      "RAD_NL25_RAC_RT_201907052250.h5 255\n",
      "RAD_NL25_RAC_RT_201907052315.h5 255\n",
      "RAD_NL25_RAC_RT_201907052335.h5 255\n",
      "RAD_NL25_RAC_RT_201907052345.h5 255\n",
      "RAD_NL25_RAC_RT_201907052350.h5 255\n",
      "RAD_NL25_RAC_RT_201907060035.h5 255\n"
     ]
    },
    {
     "name": "stderr",
     "output_type": "stream",
     "text": [
      "  2%|▏         | 3813/174802 [00:18<18:49, 151.32it/s]"
     ]
    },
    {
     "name": "stdout",
     "output_type": "stream",
     "text": [
      "RAD_NL25_RAC_RT_201907060050.h5 255\n",
      "RAD_NL25_RAC_RT_201907060105.h5 255\n",
      "RAD_NL25_RAC_RT_201907060110.h5 255\n",
      "RAD_NL25_RAC_RT_201907060150.h5 255\n",
      "RAD_NL25_RAC_RT_201907060205.h5 255\n",
      "RAD_NL25_RAC_RT_201907060235.h5 255\n",
      "RAD_NL25_RAC_RT_201907060250.h5 255\n",
      "RAD_NL25_RAC_RT_201907060305.h5 255\n",
      "RAD_NL25_RAC_RT_201907060310.h5 255\n",
      "RAD_NL25_RAC_RT_201907060320.h5 255\n",
      "RAD_NL25_RAC_RT_201907060350.h5 255\n"
     ]
    },
    {
     "name": "stderr",
     "output_type": "stream",
     "text": [
      "  2%|▏         | 3847/174802 [00:18<18:43, 152.11it/s]"
     ]
    },
    {
     "name": "stdout",
     "output_type": "stream",
     "text": [
      "RAD_NL25_RAC_RT_201907060450.h5 255\n",
      "RAD_NL25_RAC_RT_201907060550.h5 255\n"
     ]
    },
    {
     "name": "stderr",
     "output_type": "stream",
     "text": [
      "  2%|▏         | 3904/174802 [00:18<16:52, 168.77it/s]"
     ]
    },
    {
     "name": "stdout",
     "output_type": "stream",
     "text": [
      "RAD_NL25_RAC_RT_201907060845.h5 255\n",
      "RAD_NL25_RAC_RT_201907060855.h5 255\n",
      "RAD_NL25_RAC_RT_201907060920.h5 255\n",
      "RAD_NL25_RAC_RT_201907060950.h5 255\n",
      "RAD_NL25_RAC_RT_201907061050.h5 255\n",
      "RAD_NL25_RAC_RT_201907061140.h5 255\n",
      "RAD_NL25_RAC_RT_201907061150.h5 255\n"
     ]
    },
    {
     "name": "stderr",
     "output_type": "stream",
     "text": [
      "  2%|▏         | 3961/174802 [00:19<16:07, 176.65it/s]"
     ]
    },
    {
     "name": "stdout",
     "output_type": "stream",
     "text": [
      "RAD_NL25_RAC_RT_201907061250.h5 255\n",
      "RAD_NL25_RAC_RT_201907061335.h5 255\n",
      "RAD_NL25_RAC_RT_201907061350.h5 255\n",
      "RAD_NL25_RAC_RT_201907061405.h5 255\n",
      "RAD_NL25_RAC_RT_201907061445.h5 255\n",
      "RAD_NL25_RAC_RT_201907061450.h5 255\n",
      "RAD_NL25_RAC_RT_201907061520.h5 255\n",
      "RAD_NL25_RAC_RT_201907061535.h5 255\n"
     ]
    },
    {
     "name": "stderr",
     "output_type": "stream",
     "text": [
      "\r",
      "  2%|▏         | 3979/174802 [00:19<25:37, 111.11it/s]"
     ]
    },
    {
     "name": "stdout",
     "output_type": "stream",
     "text": [
      "RAD_NL25_RAC_RT_201907061650.h5 255\n",
      "RAD_NL25_RAC_RT_201907061735.h5 255\n",
      "RAD_NL25_RAC_RT_201907061750.h5 255\n",
      "RAD_NL25_RAC_RT_201907061805.h5 255\n",
      "RAD_NL25_RAC_RT_201907061815.h5 255\n"
     ]
    },
    {
     "name": "stderr",
     "output_type": "stream",
     "text": [
      "  2%|▏         | 4007/174802 [00:19<29:31, 96.42it/s] "
     ]
    },
    {
     "name": "stdout",
     "output_type": "stream",
     "text": [
      "RAD_NL25_RAC_RT_201907061835.h5 255\n",
      "RAD_NL25_RAC_RT_201907061840.h5 255\n",
      "RAD_NL25_RAC_RT_201907061905.h5 255\n",
      "RAD_NL25_RAC_RT_201907061910.h5 255\n",
      "RAD_NL25_RAC_RT_201907061920.h5 255\n",
      "RAD_NL25_RAC_RT_201907061925.h5 255\n",
      "RAD_NL25_RAC_RT_201907061930.h5 255\n",
      "RAD_NL25_RAC_RT_201907061935.h5 255\n",
      "RAD_NL25_RAC_RT_201907061940.h5 255\n"
     ]
    },
    {
     "name": "stderr",
     "output_type": "stream",
     "text": [
      "\r",
      "  2%|▏         | 4019/174802 [00:19<33:17, 85.49it/s]"
     ]
    },
    {
     "name": "stdout",
     "output_type": "stream",
     "text": [
      "RAD_NL25_RAC_RT_201907061945.h5 255\n",
      "RAD_NL25_RAC_RT_201907061950.h5 255\n",
      "RAD_NL25_RAC_RT_201907062005.h5 255\n",
      "RAD_NL25_RAC_RT_201907062055.h5 255\n"
     ]
    },
    {
     "name": "stderr",
     "output_type": "stream",
     "text": [
      "  2%|▏         | 4235/174802 [00:21<21:09, 134.36it/s]"
     ]
    },
    {
     "name": "stdout",
     "output_type": "stream",
     "text": [
      "RAD_NL25_RAC_RT_201907071320.h5 255\n"
     ]
    },
    {
     "name": "stderr",
     "output_type": "stream",
     "text": [
      "  2%|▏         | 4304/174802 [00:21<22:21, 127.06it/s]"
     ]
    },
    {
     "name": "stdout",
     "output_type": "stream",
     "text": [
      "RAD_NL25_RAC_RT_201907071850.h5 255\n",
      "RAD_NL25_RAC_RT_201907071920.h5 255\n",
      "RAD_NL25_RAC_RT_201907071925.h5 255\n",
      "RAD_NL25_RAC_RT_201907071940.h5 255\n"
     ]
    },
    {
     "name": "stderr",
     "output_type": "stream",
     "text": [
      "  3%|▎         | 4375/174802 [00:22<18:09, 156.37it/s]"
     ]
    },
    {
     "name": "stdout",
     "output_type": "stream",
     "text": [
      "RAD_NL25_RAC_RT_201907080005.h5 255\n"
     ]
    },
    {
     "name": "stderr",
     "output_type": "stream",
     "text": [
      "  3%|▎         | 4441/174802 [00:22<14:26, 196.61it/s]"
     ]
    },
    {
     "name": "stdout",
     "output_type": "stream",
     "text": [
      "RAD_NL25_RAC_RT_201907080515.h5 255\n"
     ]
    },
    {
     "name": "stderr",
     "output_type": "stream",
     "text": [
      "  3%|▎         | 4480/174802 [00:22<16:31, 171.72it/s]"
     ]
    },
    {
     "name": "stdout",
     "output_type": "stream",
     "text": [
      "RAD_NL25_RAC_RT_201907080850.h5 255\n",
      "RAD_NL25_RAC_RT_201907080855.h5 255\n",
      "RAD_NL25_RAC_RT_201907080905.h5 255\n",
      "RAD_NL25_RAC_RT_201907080950.h5 255\n"
     ]
    },
    {
     "name": "stderr",
     "output_type": "stream",
     "text": [
      "  3%|▎         | 4524/174802 [00:23<16:11, 175.28it/s]"
     ]
    },
    {
     "name": "stdout",
     "output_type": "stream",
     "text": [
      "RAD_NL25_RAC_RT_201907081150.h5 255\n",
      "RAD_NL25_RAC_RT_201907081435.h5 255\n",
      "RAD_NL25_RAC_RT_201907081450.h5 255\n"
     ]
    },
    {
     "name": "stderr",
     "output_type": "stream",
     "text": [
      "  3%|▎         | 4569/174802 [00:23<14:51, 191.04it/s]"
     ]
    },
    {
     "name": "stdout",
     "output_type": "stream",
     "text": [
      "RAD_NL25_RAC_RT_201907081745.h5 255\n",
      "RAD_NL25_RAC_RT_201907081825.h5 255\n",
      "RAD_NL25_RAC_RT_201907081830.h5 255\n",
      "RAD_NL25_RAC_RT_201907081840.h5 255\n"
     ]
    },
    {
     "name": "stderr",
     "output_type": "stream",
     "text": [
      "  3%|▎         | 4632/174802 [00:23<16:04, 176.49it/s]"
     ]
    },
    {
     "name": "stdout",
     "output_type": "stream",
     "text": [
      "RAD_NL25_RAC_RT_201907082055.h5 255\n",
      "RAD_NL25_RAC_RT_201907082105.h5 255\n",
      "RAD_NL25_RAC_RT_201907082250.h5 255\n",
      "RAD_NL25_RAC_RT_201907082335.h5 255\n"
     ]
    },
    {
     "name": "stderr",
     "output_type": "stream",
     "text": [
      "  3%|▎         | 4672/174802 [00:24<19:40, 144.13it/s]"
     ]
    },
    {
     "name": "stdout",
     "output_type": "stream",
     "text": [
      "RAD_NL25_RAC_RT_201907090205.h5 255\n",
      "RAD_NL25_RAC_RT_201907090305.h5 255\n",
      "RAD_NL25_RAC_RT_201907090310.h5 255\n",
      "RAD_NL25_RAC_RT_201907090320.h5 255\n",
      "RAD_NL25_RAC_RT_201907090335.h5 255\n"
     ]
    },
    {
     "name": "stderr",
     "output_type": "stream",
     "text": [
      "  3%|▎         | 4745/174802 [00:24<18:22, 154.25it/s]"
     ]
    },
    {
     "name": "stdout",
     "output_type": "stream",
     "text": [
      "RAD_NL25_RAC_RT_201907090800.h5 255\n",
      "RAD_NL25_RAC_RT_201907090825.h5 255\n"
     ]
    },
    {
     "name": "stderr",
     "output_type": "stream",
     "text": [
      "  3%|▎         | 4831/174802 [00:25<18:28, 153.37it/s]"
     ]
    },
    {
     "name": "stdout",
     "output_type": "stream",
     "text": [
      "RAD_NL25_RAC_RT_201907091450.h5 255\n"
     ]
    },
    {
     "name": "stderr",
     "output_type": "stream",
     "text": [
      "  3%|▎         | 4867/174802 [00:25<18:43, 151.31it/s]"
     ]
    },
    {
     "name": "stdout",
     "output_type": "stream",
     "text": [
      "RAD_NL25_RAC_RT_201907091805.h5 255\n",
      "RAD_NL25_RAC_RT_201907091835.h5 255\n",
      "RAD_NL25_RAC_RT_201907091840.h5 255\n",
      "RAD_NL25_RAC_RT_201907091845.h5 255\n",
      "RAD_NL25_RAC_RT_201907091915.h5 255\n",
      "RAD_NL25_RAC_RT_201907091920.h5 255\n",
      "RAD_NL25_RAC_RT_201907091925.h5 255\n",
      "RAD_NL25_RAC_RT_201907091935.h5 255\n",
      "RAD_NL25_RAC_RT_201907091950.h5 255\n",
      "RAD_NL25_RAC_RT_201907092025.h5 255\n",
      "RAD_NL25_RAC_RT_201907092055.h5 255\n",
      "RAD_NL25_RAC_RT_201907092105.h5 255\n"
     ]
    },
    {
     "name": "stderr",
     "output_type": "stream",
     "text": [
      "  3%|▎         | 4899/174802 [00:25<20:16, 139.61it/s]"
     ]
    },
    {
     "name": "stdout",
     "output_type": "stream",
     "text": [
      "RAD_NL25_RAC_RT_201907092125.h5 255\n",
      "RAD_NL25_RAC_RT_201907092130.h5 255\n",
      "RAD_NL25_RAC_RT_201907092150.h5 255\n",
      "RAD_NL25_RAC_RT_201907092215.h5 255\n",
      "RAD_NL25_RAC_RT_201907092220.h5 255\n",
      "RAD_NL25_RAC_RT_201907092235.h5 255\n",
      "RAD_NL25_RAC_RT_201907092250.h5 255\n",
      "RAD_NL25_RAC_RT_201907092305.h5 255\n",
      "RAD_NL25_RAC_RT_201907092320.h5 255\n",
      "RAD_NL25_RAC_RT_201907092335.h5 255\n"
     ]
    },
    {
     "name": "stderr",
     "output_type": "stream",
     "text": [
      "  3%|▎         | 4942/174802 [00:25<19:22, 146.07it/s]"
     ]
    },
    {
     "name": "stdout",
     "output_type": "stream",
     "text": [
      "RAD_NL25_RAC_RT_201907092350.h5 255\n",
      "RAD_NL25_RAC_RT_201907092355.h5 255\n",
      "RAD_NL25_RAC_RT_201907100005.h5 255\n",
      "RAD_NL25_RAC_RT_201907100020.h5 255\n",
      "RAD_NL25_RAC_RT_201907100035.h5 255\n",
      "RAD_NL25_RAC_RT_201907100050.h5 255\n",
      "RAD_NL25_RAC_RT_201907100105.h5 255\n",
      "RAD_NL25_RAC_RT_201907100120.h5 255\n",
      "RAD_NL25_RAC_RT_201907100125.h5 255\n",
      "RAD_NL25_RAC_RT_201907100135.h5 255\n",
      "RAD_NL25_RAC_RT_201907100150.h5 255\n",
      "RAD_NL25_RAC_RT_201907100155.h5 255\n",
      "RAD_NL25_RAC_RT_201907100205.h5 255\n",
      "RAD_NL25_RAC_RT_201907100225.h5 255\n",
      "RAD_NL25_RAC_RT_201907100235.h5 255\n",
      "RAD_NL25_RAC_RT_201907100250.h5 255\n"
     ]
    },
    {
     "name": "stderr",
     "output_type": "stream",
     "text": [
      "  3%|▎         | 4981/174802 [00:26<18:03, 156.68it/s]"
     ]
    },
    {
     "name": "stdout",
     "output_type": "stream",
     "text": [
      "RAD_NL25_RAC_RT_201907100310.h5 255\n",
      "RAD_NL25_RAC_RT_201907100320.h5 255\n",
      "RAD_NL25_RAC_RT_201907100350.h5 255\n",
      "RAD_NL25_RAC_RT_201907100355.h5 255\n",
      "RAD_NL25_RAC_RT_201907100405.h5 255\n",
      "RAD_NL25_RAC_RT_201907100420.h5 255\n",
      "RAD_NL25_RAC_RT_201907100435.h5 255\n",
      "RAD_NL25_RAC_RT_201907100450.h5 255\n",
      "RAD_NL25_RAC_RT_201907100505.h5 255\n",
      "RAD_NL25_RAC_RT_201907100520.h5 255\n",
      "RAD_NL25_RAC_RT_201907100535.h5 255\n",
      "RAD_NL25_RAC_RT_201907100550.h5 255\n",
      "RAD_NL25_RAC_RT_201907100605.h5 255\n"
     ]
    },
    {
     "name": "stderr",
     "output_type": "stream",
     "text": [
      "  3%|▎         | 5016/174802 [00:26<19:54, 142.09it/s]"
     ]
    },
    {
     "name": "stdout",
     "output_type": "stream",
     "text": [
      "RAD_NL25_RAC_RT_201907100635.h5 255\n",
      "RAD_NL25_RAC_RT_201907100650.h5 255\n",
      "RAD_NL25_RAC_RT_201907100705.h5 255\n",
      "RAD_NL25_RAC_RT_201907100720.h5 255\n",
      "RAD_NL25_RAC_RT_201907100735.h5 255\n",
      "RAD_NL25_RAC_RT_201907100750.h5 255\n",
      "RAD_NL25_RAC_RT_201907100800.h5 255\n",
      "RAD_NL25_RAC_RT_201907100805.h5 255\n",
      "RAD_NL25_RAC_RT_201907100835.h5 255\n",
      "RAD_NL25_RAC_RT_201907100850.h5 255\n",
      "RAD_NL25_RAC_RT_201907100855.h5 255\n",
      "RAD_NL25_RAC_RT_201907100900.h5 255\n",
      "RAD_NL25_RAC_RT_201907100905.h5 255\n"
     ]
    },
    {
     "name": "stderr",
     "output_type": "stream",
     "text": [
      "  3%|▎         | 5045/174802 [00:26<23:32, 120.22it/s]"
     ]
    },
    {
     "name": "stdout",
     "output_type": "stream",
     "text": [
      "RAD_NL25_RAC_RT_201907100935.h5 255\n",
      "RAD_NL25_RAC_RT_201907100950.h5 255\n",
      "RAD_NL25_RAC_RT_201907100955.h5 255\n",
      "RAD_NL25_RAC_RT_201907101005.h5 255\n",
      "RAD_NL25_RAC_RT_201907101020.h5 255\n",
      "RAD_NL25_RAC_RT_201907101035.h5 255\n",
      "RAD_NL25_RAC_RT_201907101050.h5 255\n",
      "RAD_NL25_RAC_RT_201907101105.h5 255\n",
      "RAD_NL25_RAC_RT_201907101120.h5 255\n"
     ]
    },
    {
     "name": "stderr",
     "output_type": "stream",
     "text": [
      "\r",
      "  3%|▎         | 5058/174802 [00:26<30:19, 93.28it/s] "
     ]
    },
    {
     "name": "stdout",
     "output_type": "stream",
     "text": [
      "RAD_NL25_RAC_RT_201907101135.h5 255\n",
      "RAD_NL25_RAC_RT_201907101145.h5 255\n",
      "RAD_NL25_RAC_RT_201907101150.h5 255\n",
      "RAD_NL25_RAC_RT_201907101155.h5 255\n",
      "RAD_NL25_RAC_RT_201907101205.h5 255\n",
      "RAD_NL25_RAC_RT_201907101220.h5 255\n",
      "RAD_NL25_RAC_RT_201907101235.h5 255\n"
     ]
    },
    {
     "name": "stderr",
     "output_type": "stream",
     "text": [
      "\r",
      "  3%|▎         | 5069/174802 [00:27<43:54, 64.43it/s]"
     ]
    },
    {
     "name": "stdout",
     "output_type": "stream",
     "text": [
      "RAD_NL25_RAC_RT_201907101250.h5 255\n",
      "RAD_NL25_RAC_RT_201907101255.h5 255\n",
      "RAD_NL25_RAC_RT_201907101305.h5 255\n",
      "RAD_NL25_RAC_RT_201907101320.h5 255\n"
     ]
    },
    {
     "name": "stderr",
     "output_type": "stream",
     "text": [
      "\r",
      "  3%|▎         | 5078/174802 [00:27<50:22, 56.16it/s]"
     ]
    },
    {
     "name": "stdout",
     "output_type": "stream",
     "text": [
      "RAD_NL25_RAC_RT_201907101330.h5 255\n",
      "RAD_NL25_RAC_RT_201907101335.h5 255\n",
      "RAD_NL25_RAC_RT_201907101350.h5 255\n",
      "RAD_NL25_RAC_RT_201907101400.h5 255\n",
      "RAD_NL25_RAC_RT_201907101405.h5 255\n",
      "RAD_NL25_RAC_RT_201907101415.h5 255\n"
     ]
    },
    {
     "name": "stderr",
     "output_type": "stream",
     "text": [
      "  3%|▎         | 5128/174802 [00:27<25:26, 111.14it/s]"
     ]
    },
    {
     "name": "stdout",
     "output_type": "stream",
     "text": [
      "RAD_NL25_RAC_RT_201907101425.h5 255\n",
      "RAD_NL25_RAC_RT_201907101435.h5 255\n",
      "RAD_NL25_RAC_RT_201907101450.h5 255\n",
      "RAD_NL25_RAC_RT_201907101505.h5 255\n",
      "RAD_NL25_RAC_RT_201907101510.h5 255\n",
      "RAD_NL25_RAC_RT_201907101520.h5 255\n",
      "RAD_NL25_RAC_RT_201907101525.h5 255\n",
      "RAD_NL25_RAC_RT_201907101535.h5 255\n",
      "RAD_NL25_RAC_RT_201907101550.h5 255\n",
      "RAD_NL25_RAC_RT_201907101605.h5 255\n",
      "RAD_NL25_RAC_RT_201907101620.h5 255\n",
      "RAD_NL25_RAC_RT_201907101650.h5 255\n",
      "RAD_NL25_RAC_RT_201907101705.h5 255\n",
      "RAD_NL25_RAC_RT_201907101720.h5 255\n",
      "RAD_NL25_RAC_RT_201907101735.h5 255\n",
      "RAD_NL25_RAC_RT_201907101745.h5 255\n",
      "RAD_NL25_RAC_RT_201907101750.h5 255\n",
      "RAD_NL25_RAC_RT_201907101805.h5 255\n"
     ]
    },
    {
     "name": "stderr",
     "output_type": "stream",
     "text": [
      "  3%|▎         | 5193/174802 [00:28<15:44, 179.52it/s]"
     ]
    },
    {
     "name": "stdout",
     "output_type": "stream",
     "text": [
      "RAD_NL25_RAC_RT_201907101820.h5 255\n",
      "RAD_NL25_RAC_RT_201907101830.h5 255\n",
      "RAD_NL25_RAC_RT_201907101835.h5 255\n",
      "RAD_NL25_RAC_RT_201907101850.h5 255\n",
      "RAD_NL25_RAC_RT_201907101905.h5 255\n",
      "RAD_NL25_RAC_RT_201907101920.h5 255\n",
      "RAD_NL25_RAC_RT_201907101930.h5 255\n",
      "RAD_NL25_RAC_RT_201907101935.h5 255\n",
      "RAD_NL25_RAC_RT_201907102005.h5 255\n",
      "RAD_NL25_RAC_RT_201907102010.h5 255\n",
      "RAD_NL25_RAC_RT_201907102035.h5 255\n",
      "RAD_NL25_RAC_RT_201907102055.h5 255\n",
      "RAD_NL25_RAC_RT_201907102205.h5 255\n",
      "RAD_NL25_RAC_RT_201907110005.h5 255\n",
      "RAD_NL25_RAC_RT_201907110050.h5 255\n",
      "RAD_NL25_RAC_RT_201907110105.h5 255\n",
      "RAD_NL25_RAC_RT_201907110110.h5 255\n",
      "RAD_NL25_RAC_RT_201907110150.h5 255\n",
      "RAD_NL25_RAC_RT_201907110205.h5 255\n",
      "RAD_NL25_RAC_RT_201907110250.h5 255\n"
     ]
    },
    {
     "name": "stderr",
     "output_type": "stream",
     "text": [
      "  3%|▎         | 5275/174802 [00:28<12:19, 229.21it/s]"
     ]
    },
    {
     "name": "stdout",
     "output_type": "stream",
     "text": [
      "RAD_NL25_RAC_RT_201907110350.h5 255\n",
      "RAD_NL25_RAC_RT_201907110405.h5 255\n",
      "RAD_NL25_RAC_RT_201907110420.h5 255\n",
      "RAD_NL25_RAC_RT_201907110435.h5 255\n",
      "RAD_NL25_RAC_RT_201907110450.h5 255\n",
      "RAD_NL25_RAC_RT_201907110505.h5 255\n",
      "RAD_NL25_RAC_RT_201907110520.h5 255\n",
      "RAD_NL25_RAC_RT_201907110550.h5 255\n",
      "RAD_NL25_RAC_RT_201907110605.h5 255\n",
      "RAD_NL25_RAC_RT_201907110620.h5 255\n",
      "RAD_NL25_RAC_RT_201907110635.h5 255\n",
      "RAD_NL25_RAC_RT_201907110650.h5 255\n",
      "RAD_NL25_RAC_RT_201907110705.h5 255\n",
      "RAD_NL25_RAC_RT_201907110720.h5 255\n",
      "RAD_NL25_RAC_RT_201907110735.h5 255\n",
      "RAD_NL25_RAC_RT_201907110750.h5 255\n",
      "RAD_NL25_RAC_RT_201907110755.h5 255\n",
      "RAD_NL25_RAC_RT_201907110805.h5 255\n"
     ]
    },
    {
     "name": "stderr",
     "output_type": "stream",
     "text": [
      "  3%|▎         | 5328/174802 [00:28<15:33, 181.61it/s]"
     ]
    },
    {
     "name": "stdout",
     "output_type": "stream",
     "text": [
      "RAD_NL25_RAC_RT_201907110850.h5 255\n",
      "RAD_NL25_RAC_RT_201907110855.h5 255\n",
      "RAD_NL25_RAC_RT_201907110905.h5 255\n",
      "RAD_NL25_RAC_RT_201907110935.h5 255\n",
      "RAD_NL25_RAC_RT_201907110950.h5 255\n",
      "RAD_NL25_RAC_RT_201907110955.h5 255\n",
      "RAD_NL25_RAC_RT_201907111005.h5 255\n",
      "RAD_NL25_RAC_RT_201907111020.h5 255\n",
      "RAD_NL25_RAC_RT_201907111035.h5 255\n",
      "RAD_NL25_RAC_RT_201907111050.h5 255\n",
      "RAD_NL25_RAC_RT_201907111105.h5 255\n",
      "RAD_NL25_RAC_RT_201907111135.h5 255\n",
      "RAD_NL25_RAC_RT_201907111150.h5 255\n"
     ]
    },
    {
     "name": "stderr",
     "output_type": "stream",
     "text": [
      "  3%|▎         | 5371/174802 [00:29<16:02, 176.03it/s]"
     ]
    },
    {
     "name": "stdout",
     "output_type": "stream",
     "text": [
      "RAD_NL25_RAC_RT_201907111205.h5 255\n",
      "error RAD_NL25_RAC_RT_201907111235.h5\n",
      "<HDF5 dataset \"image_data\": shape (765, 700), type \"<u2\">\n",
      "(765, 700)\n",
      "RAD_NL25_RAC_RT_201907111335.h5 255\n",
      "RAD_NL25_RAC_RT_201907111350.h5 255\n",
      "RAD_NL25_RAC_RT_201907111405.h5 255\n",
      "RAD_NL25_RAC_RT_201907111450.h5 255\n"
     ]
    },
    {
     "name": "stderr",
     "output_type": "stream",
     "text": [
      "\r",
      "  3%|▎         | 5391/174802 [00:29<19:54, 141.78it/s]"
     ]
    },
    {
     "name": "stdout",
     "output_type": "stream",
     "text": [
      "RAD_NL25_RAC_RT_201907111520.h5 255\n",
      "RAD_NL25_RAC_RT_201907111555.h5 255\n"
     ]
    },
    {
     "name": "stderr",
     "output_type": "stream",
     "text": [
      "  3%|▎         | 5422/174802 [00:29<25:07, 112.35it/s]"
     ]
    },
    {
     "name": "stdout",
     "output_type": "stream",
     "text": [
      "RAD_NL25_RAC_RT_201907111650.h5 255\n",
      "RAD_NL25_RAC_RT_201907111705.h5 255\n",
      "RAD_NL25_RAC_RT_201907111720.h5 255\n",
      "RAD_NL25_RAC_RT_201907111750.h5 255\n",
      "RAD_NL25_RAC_RT_201907111755.h5 255\n",
      "RAD_NL25_RAC_RT_201907111805.h5 255\n",
      "RAD_NL25_RAC_RT_201907111820.h5 255\n",
      "RAD_NL25_RAC_RT_201907111825.h5 255\n",
      "RAD_NL25_RAC_RT_201907111835.h5 255\n",
      "RAD_NL25_RAC_RT_201907111845.h5 255\n",
      "RAD_NL25_RAC_RT_201907111905.h5 255\n",
      "RAD_NL25_RAC_RT_201907111935.h5 255\n"
     ]
    },
    {
     "name": "stderr",
     "output_type": "stream",
     "text": [
      "  3%|▎         | 5450/174802 [00:30<32:17, 87.42it/s] "
     ]
    },
    {
     "name": "stdout",
     "output_type": "stream",
     "text": [
      "RAD_NL25_RAC_RT_201907111950.h5 255\n",
      "RAD_NL25_RAC_RT_201907111955.h5 255\n",
      "RAD_NL25_RAC_RT_201907112050.h5 255\n",
      "RAD_NL25_RAC_RT_201907112055.h5 255\n",
      "RAD_NL25_RAC_RT_201907112140.h5 255\n"
     ]
    },
    {
     "name": "stderr",
     "output_type": "stream",
     "text": [
      "  3%|▎         | 5501/174802 [00:30<21:47, 129.44it/s]"
     ]
    },
    {
     "name": "stdout",
     "output_type": "stream",
     "text": [
      "RAD_NL25_RAC_RT_201907112150.h5 255\n",
      "RAD_NL25_RAC_RT_201907112155.h5 255\n",
      "RAD_NL25_RAC_RT_201907112205.h5 255\n",
      "RAD_NL25_RAC_RT_201907112220.h5 255\n",
      "RAD_NL25_RAC_RT_201907112305.h5 255\n",
      "RAD_NL25_RAC_RT_201907112320.h5 255\n",
      "RAD_NL25_RAC_RT_201907112350.h5 255\n",
      "RAD_NL25_RAC_RT_201907120005.h5 255\n",
      "RAD_NL25_RAC_RT_201907120110.h5 255\n"
     ]
    },
    {
     "name": "stderr",
     "output_type": "stream",
     "text": [
      "  3%|▎         | 5543/174802 [00:30<22:44, 124.09it/s]"
     ]
    },
    {
     "name": "stdout",
     "output_type": "stream",
     "text": [
      "RAD_NL25_RAC_RT_201907120310.h5 255\n",
      "RAD_NL25_RAC_RT_201907120350.h5 255\n",
      "RAD_NL25_RAC_RT_201907120505.h5 255\n",
      "RAD_NL25_RAC_RT_201907120520.h5 255\n"
     ]
    },
    {
     "name": "stderr",
     "output_type": "stream",
     "text": [
      "  3%|▎         | 5571/174802 [00:31<25:56, 108.75it/s]"
     ]
    },
    {
     "name": "stdout",
     "output_type": "stream",
     "text": [
      "RAD_NL25_RAC_RT_201907120550.h5 255\n",
      "RAD_NL25_RAC_RT_201907120650.h5 255\n",
      "RAD_NL25_RAC_RT_201907120705.h5 255\n"
     ]
    },
    {
     "name": "stderr",
     "output_type": "stream",
     "text": [
      "\r",
      "  3%|▎         | 5583/174802 [00:31<26:36, 106.02it/s]"
     ]
    },
    {
     "name": "stdout",
     "output_type": "stream",
     "text": [
      "RAD_NL25_RAC_RT_201907120750.h5 255\n",
      "RAD_NL25_RAC_RT_201907120805.h5 255\n"
     ]
    },
    {
     "name": "stderr",
     "output_type": "stream",
     "text": [
      "  3%|▎         | 5614/174802 [00:31<28:13, 99.88it/s] "
     ]
    },
    {
     "name": "stdout",
     "output_type": "stream",
     "text": [
      "RAD_NL25_RAC_RT_201907120855.h5 255\n",
      "RAD_NL25_RAC_RT_201907120905.h5 255\n",
      "RAD_NL25_RAC_RT_201907120920.h5 255\n",
      "RAD_NL25_RAC_RT_201907120925.h5 255\n",
      "RAD_NL25_RAC_RT_201907120935.h5 255\n",
      "RAD_NL25_RAC_RT_201907120950.h5 255\n",
      "RAD_NL25_RAC_RT_201907121005.h5 255\n",
      "RAD_NL25_RAC_RT_201907121020.h5 255\n",
      "RAD_NL25_RAC_RT_201907121050.h5 255\n",
      "RAD_NL25_RAC_RT_201907121105.h5 255\n"
     ]
    },
    {
     "name": "stderr",
     "output_type": "stream",
     "text": [
      "\r",
      "  3%|▎         | 5626/174802 [00:31<31:29, 89.54it/s]"
     ]
    },
    {
     "name": "stdout",
     "output_type": "stream",
     "text": [
      "RAD_NL25_RAC_RT_201907121135.h5 255\n",
      "RAD_NL25_RAC_RT_201907121150.h5 255\n",
      "RAD_NL25_RAC_RT_201907121205.h5 255\n"
     ]
    },
    {
     "name": "stderr",
     "output_type": "stream",
     "text": [
      "\r",
      "  3%|▎         | 5637/174802 [00:32<43:55, 64.18it/s]"
     ]
    },
    {
     "name": "stdout",
     "output_type": "stream",
     "text": [
      "RAD_NL25_RAC_RT_201907121220.h5 255\n",
      "RAD_NL25_RAC_RT_201907121235.h5 255\n",
      "RAD_NL25_RAC_RT_201907121250.h5 255\n"
     ]
    },
    {
     "name": "stderr",
     "output_type": "stream",
     "text": [
      "\r",
      "  3%|▎         | 5646/174802 [00:32<51:38, 54.59it/s]"
     ]
    },
    {
     "name": "stdout",
     "output_type": "stream",
     "text": [
      "RAD_NL25_RAC_RT_201907121305.h5 255\n",
      "RAD_NL25_RAC_RT_201907121335.h5 255\n"
     ]
    },
    {
     "name": "stderr",
     "output_type": "stream",
     "text": [
      "  3%|▎         | 5659/174802 [00:32<58:07, 48.50it/s]"
     ]
    },
    {
     "name": "stdout",
     "output_type": "stream",
     "text": [
      "RAD_NL25_RAC_RT_201907121355.h5 255\n",
      "RAD_NL25_RAC_RT_201907121405.h5 255\n",
      "RAD_NL25_RAC_RT_201907121435.h5 255\n"
     ]
    },
    {
     "name": "stderr",
     "output_type": "stream",
     "text": [
      "  3%|▎         | 5713/174802 [00:33<29:17, 96.19it/s]"
     ]
    },
    {
     "name": "stdout",
     "output_type": "stream",
     "text": [
      "RAD_NL25_RAC_RT_201907121650.h5 255\n",
      "RAD_NL25_RAC_RT_201907121750.h5 255\n",
      "RAD_NL25_RAC_RT_201907121805.h5 255\n",
      "RAD_NL25_RAC_RT_201907121820.h5 255\n",
      "RAD_NL25_RAC_RT_201907121835.h5 255\n",
      "RAD_NL25_RAC_RT_201907121910.h5 255\n",
      "RAD_NL25_RAC_RT_201907121915.h5 255\n",
      "RAD_NL25_RAC_RT_201907121920.h5 255\n"
     ]
    },
    {
     "name": "stderr",
     "output_type": "stream",
     "text": [
      "  3%|▎         | 5752/174802 [00:33<20:02, 140.58it/s]"
     ]
    },
    {
     "name": "stdout",
     "output_type": "stream",
     "text": [
      "RAD_NL25_RAC_RT_201907121935.h5 255\n",
      "RAD_NL25_RAC_RT_201907121945.h5 255\n",
      "RAD_NL25_RAC_RT_201907122005.h5 255\n",
      "RAD_NL25_RAC_RT_201907122025.h5 255\n",
      "RAD_NL25_RAC_RT_201907122035.h5 255\n",
      "RAD_NL25_RAC_RT_201907122040.h5 255\n",
      "RAD_NL25_RAC_RT_201907122100.h5 255\n",
      "RAD_NL25_RAC_RT_201907122150.h5 255\n",
      "RAD_NL25_RAC_RT_201907122205.h5 255\n",
      "RAD_NL25_RAC_RT_201907122250.h5 255\n"
     ]
    },
    {
     "name": "stderr",
     "output_type": "stream",
     "text": [
      "  3%|▎         | 5800/174802 [00:33<16:08, 174.55it/s]"
     ]
    },
    {
     "name": "stdout",
     "output_type": "stream",
     "text": [
      "RAD_NL25_RAC_RT_201907130110.h5 255\n",
      "RAD_NL25_RAC_RT_201907130120.h5 255\n",
      "RAD_NL25_RAC_RT_201907130220.h5 255\n",
      "RAD_NL25_RAC_RT_201907130245.h5 255\n",
      "RAD_NL25_RAC_RT_201907130255.h5 255\n",
      "RAD_NL25_RAC_RT_201907130300.h5 255\n"
     ]
    },
    {
     "name": "stderr",
     "output_type": "stream",
     "text": [
      "  3%|▎         | 5854/174802 [00:34<19:34, 143.84it/s]"
     ]
    },
    {
     "name": "stdout",
     "output_type": "stream",
     "text": [
      "RAD_NL25_RAC_RT_201907130505.h5 255\n",
      "RAD_NL25_RAC_RT_201907130535.h5 255\n",
      "RAD_NL25_RAC_RT_201907130605.h5 255\n"
     ]
    },
    {
     "name": "stderr",
     "output_type": "stream",
     "text": [
      "  3%|▎         | 5885/174802 [00:34<21:31, 130.78it/s]"
     ]
    },
    {
     "name": "stdout",
     "output_type": "stream",
     "text": [
      "RAD_NL25_RAC_RT_201907130800.h5 255\n"
     ]
    },
    {
     "name": "stderr",
     "output_type": "stream",
     "text": [
      "  3%|▎         | 5999/174802 [00:34<12:13, 230.25it/s]"
     ]
    },
    {
     "name": "stdout",
     "output_type": "stream",
     "text": [
      "RAD_NL25_RAC_RT_201907131450.h5 255\n",
      "RAD_NL25_RAC_RT_201907131535.h5 255\n",
      "RAD_NL25_RAC_RT_201907131605.h5 255\n",
      "RAD_NL25_RAC_RT_201907131635.h5 255\n",
      "RAD_NL25_RAC_RT_201907131805.h5 255\n",
      "RAD_NL25_RAC_RT_201907131820.h5 255\n",
      "RAD_NL25_RAC_RT_201907131845.h5 255\n",
      "RAD_NL25_RAC_RT_201907131850.h5 255\n",
      "RAD_NL25_RAC_RT_201907131855.h5 255\n"
     ]
    },
    {
     "name": "stderr",
     "output_type": "stream",
     "text": [
      "  3%|▎         | 6049/174802 [00:35<13:12, 213.05it/s]"
     ]
    },
    {
     "name": "stdout",
     "output_type": "stream",
     "text": [
      "RAD_NL25_RAC_RT_201907132005.h5 255\n",
      "RAD_NL25_RAC_RT_201907132050.h5 255\n",
      "RAD_NL25_RAC_RT_201907132055.h5 255\n",
      "RAD_NL25_RAC_RT_201907132100.h5 255\n",
      "RAD_NL25_RAC_RT_201907132120.h5 255\n",
      "RAD_NL25_RAC_RT_201907132125.h5 255\n"
     ]
    },
    {
     "name": "stderr",
     "output_type": "stream",
     "text": [
      "  4%|▎         | 6124/174802 [00:35<16:15, 172.89it/s]"
     ]
    },
    {
     "name": "stdout",
     "output_type": "stream",
     "text": [
      "RAD_NL25_RAC_RT_201907140310.h5 255\n"
     ]
    },
    {
     "name": "stderr",
     "output_type": "stream",
     "text": [
      "  4%|▎         | 6174/174802 [00:35<14:35, 192.62it/s]"
     ]
    },
    {
     "name": "stdout",
     "output_type": "stream",
     "text": [
      "RAD_NL25_RAC_RT_201907140605.h5 255\n",
      "RAD_NL25_RAC_RT_201907140625.h5 255\n",
      "RAD_NL25_RAC_RT_201907140630.h5 255\n",
      "RAD_NL25_RAC_RT_201907140640.h5 255\n",
      "RAD_NL25_RAC_RT_201907140645.h5 255\n",
      "RAD_NL25_RAC_RT_201907140655.h5 255\n",
      "RAD_NL25_RAC_RT_201907140700.h5 255\n",
      "RAD_NL25_RAC_RT_201907140710.h5 255\n",
      "RAD_NL25_RAC_RT_201907140720.h5 255\n",
      "RAD_NL25_RAC_RT_201907140730.h5 255\n",
      "RAD_NL25_RAC_RT_201907140735.h5 255\n",
      "RAD_NL25_RAC_RT_201907140740.h5 255\n",
      "RAD_NL25_RAC_RT_201907140745.h5 255\n",
      "RAD_NL25_RAC_RT_201907140755.h5 255\n",
      "RAD_NL25_RAC_RT_201907140815.h5 255\n",
      "RAD_NL25_RAC_RT_201907140820.h5 255\n",
      "RAD_NL25_RAC_RT_201907140825.h5 255\n",
      "RAD_NL25_RAC_RT_201907140835.h5 255\n",
      "RAD_NL25_RAC_RT_201907140845.h5 255\n",
      "RAD_NL25_RAC_RT_201907140855.h5 255\n",
      "RAD_NL25_RAC_RT_201907140900.h5 255\n",
      "RAD_NL25_RAC_RT_201907140905.h5 255\n",
      "RAD_NL25_RAC_RT_201907140920.h5 255\n",
      "RAD_NL25_RAC_RT_201907140935.h5 255\n",
      "RAD_NL25_RAC_RT_201907140950.h5 255\n",
      "RAD_NL25_RAC_RT_201907140955.h5 255\n"
     ]
    },
    {
     "name": "stderr",
     "output_type": "stream",
     "text": [
      "  4%|▎         | 6220/174802 [00:35<14:29, 193.93it/s]"
     ]
    },
    {
     "name": "stdout",
     "output_type": "stream",
     "text": [
      "RAD_NL25_RAC_RT_201907141005.h5 255\n",
      "RAD_NL25_RAC_RT_201907141020.h5 255\n",
      "RAD_NL25_RAC_RT_201907141025.h5 255\n",
      "RAD_NL25_RAC_RT_201907141030.h5 255\n",
      "RAD_NL25_RAC_RT_201907141035.h5 255\n",
      "RAD_NL25_RAC_RT_201907141050.h5 255\n",
      "RAD_NL25_RAC_RT_201907141055.h5 255\n",
      "RAD_NL25_RAC_RT_201907141105.h5 255\n",
      "RAD_NL25_RAC_RT_201907141120.h5 255\n",
      "RAD_NL25_RAC_RT_201907141125.h5 255\n",
      "RAD_NL25_RAC_RT_201907141135.h5 255\n",
      "RAD_NL25_RAC_RT_201907141140.h5 255\n"
     ]
    },
    {
     "name": "stderr",
     "output_type": "stream",
     "text": [
      "  4%|▎         | 6290/174802 [00:36<17:20, 161.99it/s]"
     ]
    },
    {
     "name": "stdout",
     "output_type": "stream",
     "text": [
      "RAD_NL25_RAC_RT_201907141750.h5 255\n",
      "RAD_NL25_RAC_RT_201907141910.h5 255\n",
      "RAD_NL25_RAC_RT_201907141920.h5 255\n",
      "RAD_NL25_RAC_RT_201907142000.h5 255\n",
      "RAD_NL25_RAC_RT_201907142005.h5 255\n"
     ]
    },
    {
     "name": "stderr",
     "output_type": "stream",
     "text": [
      "  4%|▎         | 6329/174802 [00:36<17:12, 163.25it/s]"
     ]
    },
    {
     "name": "stdout",
     "output_type": "stream",
     "text": [
      "RAD_NL25_RAC_RT_201907142045.h5 255\n",
      "RAD_NL25_RAC_RT_201907142050.h5 255\n",
      "RAD_NL25_RAC_RT_201907142055.h5 255\n",
      "RAD_NL25_RAC_RT_201907142110.h5 255\n",
      "RAD_NL25_RAC_RT_201907142150.h5 255\n"
     ]
    },
    {
     "name": "stderr",
     "output_type": "stream",
     "text": [
      "  4%|▎         | 6374/174802 [00:36<17:35, 159.53it/s]"
     ]
    },
    {
     "name": "stdout",
     "output_type": "stream",
     "text": [
      "RAD_NL25_RAC_RT_201907150050.h5 255\n"
     ]
    },
    {
     "name": "stderr",
     "output_type": "stream",
     "text": [
      "  4%|▎         | 6431/174802 [00:37<18:47, 149.38it/s]"
     ]
    },
    {
     "name": "stdout",
     "output_type": "stream",
     "text": [
      "RAD_NL25_RAC_RT_201907150505.h5 255\n",
      "RAD_NL25_RAC_RT_201907150535.h5 255\n",
      "RAD_NL25_RAC_RT_201907150540.h5 255\n",
      "RAD_NL25_RAC_RT_201907150550.h5 255\n",
      "RAD_NL25_RAC_RT_201907150605.h5 255\n",
      "RAD_NL25_RAC_RT_201907150610.h5 255\n",
      "RAD_NL25_RAC_RT_201907150620.h5 255\n",
      "RAD_NL25_RAC_RT_201907150635.h5 255\n",
      "RAD_NL25_RAC_RT_201907150650.h5 255\n",
      "RAD_NL25_RAC_RT_201907150655.h5 255\n",
      "RAD_NL25_RAC_RT_201907150700.h5 255\n",
      "RAD_NL25_RAC_RT_201907150705.h5 255\n",
      "RAD_NL25_RAC_RT_201907150720.h5 255\n",
      "RAD_NL25_RAC_RT_201907150725.h5 255\n",
      "RAD_NL25_RAC_RT_201907150730.h5 255\n",
      "RAD_NL25_RAC_RT_201907150735.h5 255\n",
      "RAD_NL25_RAC_RT_201907150745.h5 255\n",
      "RAD_NL25_RAC_RT_201907150750.h5 255\n",
      "RAD_NL25_RAC_RT_201907150755.h5 255\n"
     ]
    },
    {
     "name": "stderr",
     "output_type": "stream",
     "text": [
      "  4%|▎         | 6497/174802 [00:37<19:04, 147.02it/s]"
     ]
    },
    {
     "name": "stdout",
     "output_type": "stream",
     "text": [
      "RAD_NL25_RAC_RT_201907150950.h5 255\n",
      "RAD_NL25_RAC_RT_201907150955.h5 255\n",
      "RAD_NL25_RAC_RT_201907151050.h5 255\n",
      "RAD_NL25_RAC_RT_201907151100.h5 255\n",
      "RAD_NL25_RAC_RT_201907151105.h5 255\n",
      "RAD_NL25_RAC_RT_201907151120.h5 255\n",
      "RAD_NL25_RAC_RT_201907151125.h5 255\n",
      "RAD_NL25_RAC_RT_201907151135.h5 255\n",
      "RAD_NL25_RAC_RT_201907151145.h5 255\n",
      "RAD_NL25_RAC_RT_201907151150.h5 255\n",
      "RAD_NL25_RAC_RT_201907151155.h5 255\n",
      "RAD_NL25_RAC_RT_201907151205.h5 255\n",
      "RAD_NL25_RAC_RT_201907151210.h5 255\n"
     ]
    },
    {
     "name": "stderr",
     "output_type": "stream",
     "text": [
      "  4%|▎         | 6544/174802 [00:38<17:00, 164.87it/s]"
     ]
    },
    {
     "name": "stdout",
     "output_type": "stream",
     "text": [
      "RAD_NL25_RAC_RT_201907151220.h5 255\n",
      "RAD_NL25_RAC_RT_201907151225.h5 255\n",
      "RAD_NL25_RAC_RT_201907151235.h5 255\n",
      "RAD_NL25_RAC_RT_201907151245.h5 255\n",
      "RAD_NL25_RAC_RT_201907151250.h5 255\n",
      "RAD_NL25_RAC_RT_201907151305.h5 255\n",
      "RAD_NL25_RAC_RT_201907151320.h5 255\n",
      "RAD_NL25_RAC_RT_201907151335.h5 255\n",
      "RAD_NL25_RAC_RT_201907151340.h5 255\n",
      "RAD_NL25_RAC_RT_201907151400.h5 255\n",
      "RAD_NL25_RAC_RT_201907151405.h5 255\n",
      "RAD_NL25_RAC_RT_201907151410.h5 255\n",
      "RAD_NL25_RAC_RT_201907151435.h5 255\n",
      "RAD_NL25_RAC_RT_201907151440.h5 255\n",
      "RAD_NL25_RAC_RT_201907151450.h5 255\n",
      "RAD_NL25_RAC_RT_201907151455.h5 255\n",
      "RAD_NL25_RAC_RT_201907151505.h5 255\n",
      "RAD_NL25_RAC_RT_201907151510.h5 255\n",
      "RAD_NL25_RAC_RT_201907151540.h5 255\n",
      "RAD_NL25_RAC_RT_201907151550.h5 255\n",
      "RAD_NL25_RAC_RT_201907151605.h5 255\n",
      "RAD_NL25_RAC_RT_201907151635.h5 255\n"
     ]
    },
    {
     "name": "stderr",
     "output_type": "stream",
     "text": [
      "  4%|▍         | 6581/174802 [00:38<18:28, 151.81it/s]"
     ]
    },
    {
     "name": "stdout",
     "output_type": "stream",
     "text": [
      "RAD_NL25_RAC_RT_201907151645.h5 255\n",
      "RAD_NL25_RAC_RT_201907151655.h5 255\n",
      "RAD_NL25_RAC_RT_201907151700.h5 255\n",
      "RAD_NL25_RAC_RT_201907151705.h5 255\n",
      "RAD_NL25_RAC_RT_201907151710.h5 255\n",
      "RAD_NL25_RAC_RT_201907151715.h5 255\n",
      "RAD_NL25_RAC_RT_201907151720.h5 255\n",
      "RAD_NL25_RAC_RT_201907151725.h5 255\n",
      "RAD_NL25_RAC_RT_201907151730.h5 255\n",
      "RAD_NL25_RAC_RT_201907151735.h5 255\n",
      "RAD_NL25_RAC_RT_201907151740.h5 255\n",
      "RAD_NL25_RAC_RT_201907151745.h5 255\n",
      "RAD_NL25_RAC_RT_201907151750.h5 255\n",
      "RAD_NL25_RAC_RT_201907151755.h5 255\n",
      "RAD_NL25_RAC_RT_201907151815.h5 255\n",
      "RAD_NL25_RAC_RT_201907151820.h5 255\n",
      "RAD_NL25_RAC_RT_201907151830.h5 255\n",
      "RAD_NL25_RAC_RT_201907151840.h5 255\n",
      "RAD_NL25_RAC_RT_201907151850.h5 255\n",
      "RAD_NL25_RAC_RT_201907151935.h5 255\n",
      "RAD_NL25_RAC_RT_201907151940.h5 255\n"
     ]
    },
    {
     "name": "stderr",
     "output_type": "stream",
     "text": [
      "  4%|▍         | 6634/174802 [00:38<15:29, 180.92it/s]"
     ]
    },
    {
     "name": "stdout",
     "output_type": "stream",
     "text": [
      "RAD_NL25_RAC_RT_201907152020.h5 255\n",
      "RAD_NL25_RAC_RT_201907152025.h5 255\n",
      "RAD_NL25_RAC_RT_201907152035.h5 255\n",
      "RAD_NL25_RAC_RT_201907152045.h5 255\n",
      "RAD_NL25_RAC_RT_201907152110.h5 255\n",
      "RAD_NL25_RAC_RT_201907152120.h5 255\n",
      "RAD_NL25_RAC_RT_201907152135.h5 255\n",
      "RAD_NL25_RAC_RT_201907152155.h5 255\n",
      "RAD_NL25_RAC_RT_201907152200.h5 255\n",
      "RAD_NL25_RAC_RT_201907152205.h5 255\n",
      "RAD_NL25_RAC_RT_201907152215.h5 255\n",
      "RAD_NL25_RAC_RT_201907152220.h5 255\n",
      "RAD_NL25_RAC_RT_201907152235.h5 255\n",
      "RAD_NL25_RAC_RT_201907152305.h5 255\n",
      "RAD_NL25_RAC_RT_201907152310.h5 255\n",
      "RAD_NL25_RAC_RT_201907152315.h5 255\n",
      "RAD_NL25_RAC_RT_201907152335.h5 255\n",
      "RAD_NL25_RAC_RT_201907152345.h5 255\n",
      "RAD_NL25_RAC_RT_201907160005.h5 255\n",
      "RAD_NL25_RAC_RT_201907160020.h5 255\n",
      "RAD_NL25_RAC_RT_201907160025.h5 255\n",
      "RAD_NL25_RAC_RT_201907160035.h5 255\n",
      "RAD_NL25_RAC_RT_201907160045.h5 255\n",
      "RAD_NL25_RAC_RT_201907160050.h5 255\n",
      "RAD_NL25_RAC_RT_201907160055.h5 255\n",
      "RAD_NL25_RAC_RT_201907160105.h5 255\n",
      "RAD_NL25_RAC_RT_201907160110.h5 255\n"
     ]
    }
   ],
   "source": [
    "for file in tqdm(radar_scans[52878-1:]):\n",
    "    fp = '/nobackup_1/users/schreurs/project_GAN/dataset_radar/{}'.format(file)\n",
    "    rdr =h5py.File(fp, 'r')\n",
    "    \n",
    "    try:\n",
    "        mis = rdr['image1']['calibration'].attrs['calibration_out_of_image']\n",
    "        img = rdr['image1']['image_data']\n",
    "        if img[0,0] != 65535:\n",
    "            print(file, img[0,0])\n",
    "    except:\n",
    "        print('error', file)\n",
    "        img = rdr['image1']['image_data']\n",
    "        print(img)\n",
    "        print(img.shape)\n",
    "        plt.imshow(img)"
   ]
  },
  {
   "cell_type": "code",
   "execution_count": 50,
   "metadata": {},
   "outputs": [],
   "source": [
    "fp = '/nobackup_1/users/schreurs/project_GAN/dataset_radar/RAD_NL25_RAC_RT_201902082300.h5'\n",
    "rdr =h5py.File(fp, 'r')\n"
   ]
  },
  {
   "cell_type": "code",
   "execution_count": 20,
   "metadata": {},
   "outputs": [
    {
     "data": {
      "text/plain": [
       "<KeysViewHDF5 ['geographic', 'image1', 'image2', 'overview', 'radar1', 'radar2', 'radar3', 'radar4', 'radar5', 'radar6']>"
      ]
     },
     "execution_count": 20,
     "metadata": {},
     "output_type": "execute_result"
    }
   ],
   "source": [
    "rdr.keys()"
   ]
  },
  {
   "cell_type": "code",
   "execution_count": 38,
   "metadata": {},
   "outputs": [
    {
     "data": {
      "text/plain": [
       "array([[65535, 65535, 65535, ..., 65535, 65535, 65535],\n",
       "       [65535, 65535, 65535, ..., 65535, 65535, 65535],\n",
       "       [65535, 65535, 65535, ..., 65535, 65535, 65535],\n",
       "       ...,\n",
       "       [65535, 65535, 65535, ..., 65535, 65535, 65535],\n",
       "       [65535, 65535, 65535, ..., 65535, 65535, 65535],\n",
       "       [65535, 65535, 65535, ..., 65535, 65535, 65535]], dtype=uint16)"
      ]
     },
     "execution_count": 38,
     "metadata": {},
     "output_type": "execute_result"
    }
   ],
   "source": [
    "rdr['image1']['image_data'][:]"
   ]
  },
  {
   "cell_type": "code",
   "execution_count": 36,
   "metadata": {},
   "outputs": [
    {
     "data": {
      "text/plain": [
       "array([65535], dtype=int32)"
      ]
     },
     "execution_count": 36,
     "metadata": {},
     "output_type": "execute_result"
    }
   ],
   "source": [
    "rdr['image1']['calibration'].attrs['calibration_out_of_image']"
   ]
  },
  {
   "cell_type": "code",
   "execution_count": null,
   "metadata": {},
   "outputs": [],
   "source": [
    "'/nobackup_1/users/schreurs/project_GAN/dataset_radar/'"
   ]
  },
  {
   "cell_type": "code",
   "execution_count": 11,
   "metadata": {},
   "outputs": [
    {
     "name": "stdout",
     "output_type": "stream",
     "text": [
      "103989\n",
      "Rainy pixels (>0.3mm): 0\n",
      "No rain: True\n",
      "103989\n",
      "Rainy pixels (>0.3mm): 0\n",
      "No rain: True\n",
      "103989\n",
      "Rainy pixels (>0.3mm): 3\n",
      "No rain: False\n"
     ]
    },
    {
     "data": {
      "image/png": "[encoded data removed]",
      "text/plain": [
       "<Figure size 432x288 with 3 Axes>"
      ]
     },
     "metadata": {
      "needs_background": "light"
     },
     "output_type": "display_data"
    }
   ],
   "source": [
    "# plot 3 images with interval of 3 (=15m) between them\n",
    "fig = plt.figure()\n",
    "for i in range(0,9,3):\n",
    "    path_file = path_ds  + '/' + radar_scans[288*50+i]\n",
    "\n",
    "\n",
    "    with h5py.File(path_file, 'r') as h5f:\n",
    "        radar_img = h5f['image1']['image_data'][:]\n",
    "\n",
    "        # Plot the radar image\n",
    "        # Set the masked pixel to 0 so that difference between pixel values can be better seen\n",
    "        print(len(radar_img[radar_img==65535]))\n",
    "        103989\n",
    "       # radar_img[radar_img==65535] = 0\n",
    "        nr_rainy_pixels = np.sum(radar_img >= 30)\n",
    "        print('Rainy pixels (>0.3mm):', nr_rainy_pixels)\n",
    "        print('No rain:', nr_rainy_pixels == 0)\n",
    "        plt.subplot(1, 3, i/3 +1)\n",
    "        plt.imshow(radar_img)\n",
    "        plt.axis('off')"
   ]
  },
  {
   "cell_type": "markdown",
   "metadata": {},
   "source": [
    "## Convert data to numpy arrays\n",
    "\n",
    "Convert h5 files to dataframe. The dataframe has three columns: timestamp, radar image data and the mask image data."
   ]
  },
  {
   "cell_type": "code",
   "execution_count": 37,
   "metadata": {},
   "outputs": [],
   "source": [
    "def load_h5(file_path):\n",
    "    radar_img = None\n",
    "    with h5py.File(file_path, 'r') as f:\n",
    "        try:\n",
    "            radar_img = f['image1']['image_data'][:]\n",
    "            \n",
    "            ## Set pixels out of image to 0\n",
    "            out_of_image = f['image1']['calibration'].attrs['calibration_out_of_image']\n",
    "            radar_img[radar_img == out_of_image] = 0\n",
    "            # Sometimes 255 or other number (244) is used for the calibration\n",
    "            # for out of image values, so also check the first pixel\n",
    "            radar_img[radar_img == radar_img[0][0]] = 0\n",
    "            \n",
    "        except:\n",
    "            print(\"Error: could not read image1 data, file {}\".format(file_path))\n",
    "    return radar_img\n",
    "\n",
    "def preprocess(in_dir, out_dir, year=None, label_dir=None):\n",
    "    '''\n",
    "    Preprocess the h5 file into numpy arrays. \n",
    "    The timestamp, image1 and image2 data of each file is stored\n",
    "    '''\n",
    "    # Create directory if it does not exist\n",
    "    if not os.path.exists(out_dir):\n",
    "        os.makedirs(out_dir)\n",
    "    if label_dir and not os.path.exists(label_dir):\n",
    "        os.makedirs(label_dir)\n",
    "    \n",
    "    if year:\n",
    "        radar_scans = sorted([f for f in os.listdir(in_dir) \n",
    "                              if (os.path.isfile(os.path.join(in_dir, f)) \n",
    "                                                                 and f.endswith('.h5')) \n",
    "                              and f.startswith('RAD_NL25_RAC_RT_{}'.format(year))])\n",
    "    else:\n",
    "        radar_scans = sorted([f for f in os.listdir(in_dir) \n",
    "                              if (os.path.isfile(os.path.join(in_dir, f)) and f.endswith('.h5'))])\n",
    "    \n",
    "    # Pattern for detecting timestamp in filename\n",
    "    regex_file = re.compile('(\\d{12})\\.h5')\n",
    "    \n",
    "    for scan in tqdm(radar_scans):\n",
    "        timestamp = int(regex_file.findall(scan)[0])\n",
    "        scan_fn = out_dir + '/' + \"{}.npy\".format(timestamp)\n",
    "            \n",
    "        path_scan = in_dir + '/' + scan\n",
    "        try:\n",
    "            radar_img = load_h5(path_scan)\n",
    "            np.save(scan_fn, radar_img) \n",
    "            \n",
    "            if label_dir:\n",
    "                nr_rainy_pixels = np.sum(radar_img >= 30)\n",
    "                no_rain_label = nr_rainy_pixels  == 0\n",
    "                label_fn = label_dir + '/{}.npy'.format(timestamp)\n",
    "                np.save(label_fn, no_rain_label)\n",
    "        except:\n",
    "            radar_data = np.zeros((765,700))\n",
    "            np.save(scan_fn, radar_img)    \n",
    "            if label_dir:\n",
    "                no_rain_label = True\n",
    "                label_fn = label_dir + '/{}.npy'.format(timestamp)\n",
    "                np.save(label_fn, no_rain_label)       "
   ]
  },
  {
   "cell_type": "code",
   "execution_count": 38,
   "metadata": {
    "scrolled": true
   },
   "outputs": [
    {
     "name": "stderr",
     "output_type": "stream",
     "text": [
      " 25%|██▌       | 26027/103853 [05:27<15:45, 82.28it/s] "
     ]
    },
    {
     "name": "stdout",
     "output_type": "stream",
     "text": [
      "Error: could not read image1 data, file /nobackup_1/users/schreurs/project_GAN/dataset_radar/RAD_NL25_RAC_RT_201904021210.h5\n"
     ]
    },
    {
     "name": "stderr",
     "output_type": "stream",
     "text": [
      " 26%|██▌       | 26691/103853 [05:35<14:43, 87.30it/s] "
     ]
    },
    {
     "name": "stdout",
     "output_type": "stream",
     "text": [
      "Error: could not read image1 data, file /nobackup_1/users/schreurs/project_GAN/dataset_radar/RAD_NL25_RAC_RT_201904041900.h5\n"
     ]
    },
    {
     "name": "stderr",
     "output_type": "stream",
     "text": [
      " 27%|██▋       | 27668/103853 [05:47<11:25, 111.13it/s]"
     ]
    },
    {
     "name": "stdout",
     "output_type": "stream",
     "text": [
      "Error: could not read image1 data, file /nobackup_1/users/schreurs/project_GAN/dataset_radar/RAD_NL25_RAC_RT_201904080505.h5\n"
     ]
    },
    {
     "name": "stderr",
     "output_type": "stream",
     "text": [
      " 28%|██▊       | 29513/103853 [06:10<13:56, 88.85it/s] "
     ]
    },
    {
     "name": "stdout",
     "output_type": "stream",
     "text": [
      "Error: could not read image1 data, file /nobackup_1/users/schreurs/project_GAN/dataset_radar/RAD_NL25_RAC_RT_201904141520.h5\n"
     ]
    },
    {
     "name": "stderr",
     "output_type": "stream",
     "text": [
      " 35%|███▌      | 36600/103853 [07:38<15:16, 73.37it/s] "
     ]
    },
    {
     "name": "stdout",
     "output_type": "stream",
     "text": [
      "Error: could not read image1 data, file /nobackup_1/users/schreurs/project_GAN/dataset_radar/RAD_NL25_RAC_RT_201905090650.h5\n"
     ]
    },
    {
     "name": "stderr",
     "output_type": "stream",
     "text": [
      " 48%|████▊     | 49376/103853 [10:28<10:49, 83.91it/s] "
     ]
    },
    {
     "name": "stdout",
     "output_type": "stream",
     "text": [
      "Error: could not read image1 data, file /nobackup_1/users/schreurs/project_GAN/dataset_radar/RAD_NL25_RAC_RT_201906222155.h5\n"
     ]
    },
    {
     "name": "stderr",
     "output_type": "stream",
     "text": [
      " 53%|█████▎    | 54724/103853 [11:38<10:48, 75.74it/s] "
     ]
    },
    {
     "name": "stdout",
     "output_type": "stream",
     "text": [
      "Error: could not read image1 data, file /nobackup_1/users/schreurs/project_GAN/dataset_radar/RAD_NL25_RAC_RT_201907111235.h5\n"
     ]
    },
    {
     "name": "stderr",
     "output_type": "stream",
     "text": [
      " 56%|█████▋    | 58464/103853 [12:26<07:03, 107.29it/s]"
     ]
    },
    {
     "name": "stdout",
     "output_type": "stream",
     "text": [
      "Error: could not read image1 data, file /nobackup_1/users/schreurs/project_GAN/dataset_radar/RAD_NL25_RAC_RT_201907241320.h5\n"
     ]
    },
    {
     "name": "stderr",
     "output_type": "stream",
     "text": [
      " 57%|█████▋    | 58973/103853 [12:33<09:51, 75.90it/s] "
     ]
    },
    {
     "name": "stdout",
     "output_type": "stream",
     "text": [
      "Error: could not read image1 data, file /nobackup_1/users/schreurs/project_GAN/dataset_radar/RAD_NL25_RAC_RT_201907260635.h5\n"
     ]
    },
    {
     "name": "stderr",
     "output_type": "stream",
     "text": [
      " 57%|█████▋    | 59184/103853 [12:36<08:53, 83.65it/s]"
     ]
    },
    {
     "name": "stdout",
     "output_type": "stream",
     "text": [
      "Error: could not read image1 data, file /nobackup_1/users/schreurs/project_GAN/dataset_radar/RAD_NL25_RAC_RT_201907270005.h5\n"
     ]
    },
    {
     "name": "stderr",
     "output_type": "stream",
     "text": [
      " 57%|█████▋    | 59358/103853 [12:39<10:06, 73.34it/s]"
     ]
    },
    {
     "name": "stdout",
     "output_type": "stream",
     "text": [
      "Error: could not read image1 data, file /nobackup_1/users/schreurs/project_GAN/dataset_radar/RAD_NL25_RAC_RT_201907271440.h5\n"
     ]
    },
    {
     "name": "stderr",
     "output_type": "stream",
     "text": [
      " 60%|██████    | 62596/103853 [13:19<06:29, 105.82it/s]"
     ]
    },
    {
     "name": "stdout",
     "output_type": "stream",
     "text": [
      "Error: could not read image1 data, file /nobackup_1/users/schreurs/project_GAN/dataset_radar/RAD_NL25_RAC_RT_201908072010.h5\n"
     ]
    },
    {
     "name": "stderr",
     "output_type": "stream",
     "text": [
      " 62%|██████▏   | 64665/103853 [13:47<07:24, 88.20it/s] "
     ]
    },
    {
     "name": "stdout",
     "output_type": "stream",
     "text": [
      "Error: could not read image1 data, file /nobackup_1/users/schreurs/project_GAN/dataset_radar/RAD_NL25_RAC_RT_201908150250.h5\n"
     ]
    },
    {
     "name": "stderr",
     "output_type": "stream",
     "text": [
      " 63%|██████▎   | 65376/103853 [13:56<07:32, 85.00it/s] "
     ]
    },
    {
     "name": "stdout",
     "output_type": "stream",
     "text": [
      "Error: could not read image1 data, file /nobackup_1/users/schreurs/project_GAN/dataset_radar/RAD_NL25_RAC_RT_201908171305.h5\n"
     ]
    },
    {
     "name": "stderr",
     "output_type": "stream",
     "text": [
      " 69%|██████▉   | 71620/103853 [15:39<06:35, 81.46it/s] "
     ]
    },
    {
     "name": "stdout",
     "output_type": "stream",
     "text": [
      "Error: could not read image1 data, file /nobackup_1/users/schreurs/project_GAN/dataset_radar/RAD_NL25_RAC_RT_201909080450.h5\n"
     ]
    },
    {
     "name": "stderr",
     "output_type": "stream",
     "text": [
      " 78%|███████▊  | 81147/103853 [18:08<06:34, 57.59it/s] "
     ]
    },
    {
     "name": "stdout",
     "output_type": "stream",
     "text": [
      "Error: could not read image1 data, file /nobackup_1/users/schreurs/project_GAN/dataset_radar/RAD_NL25_RAC_RT_201910130100.h5\n"
     ]
    },
    {
     "name": "stderr",
     "output_type": "stream",
     "text": [
      " 82%|████████▏ | 84641/103853 [19:27<06:10, 51.84it/s] "
     ]
    },
    {
     "name": "stdout",
     "output_type": "stream",
     "text": [
      "Error: could not read image1 data, file /nobackup_1/users/schreurs/project_GAN/dataset_radar/RAD_NL25_RAC_RT_201910260420.h5\n"
     ]
    },
    {
     "name": "stderr",
     "output_type": "stream",
     "text": [
      " 91%|█████████▏| 94973/103853 [23:43<03:04, 48.15it/s]"
     ]
    },
    {
     "name": "stdout",
     "output_type": "stream",
     "text": [
      "Error: could not read image1 data, file /nobackup_1/users/schreurs/project_GAN/dataset_radar/RAD_NL25_RAC_RT_201912010215.h5\n"
     ]
    },
    {
     "name": "stderr",
     "output_type": "stream",
     "text": [
      " 92%|█████████▏| 95730/103853 [24:00<02:13, 60.65it/s]"
     ]
    },
    {
     "name": "stdout",
     "output_type": "stream",
     "text": [
      "Error: could not read image1 data, file /nobackup_1/users/schreurs/project_GAN/dataset_radar/RAD_NL25_RAC_RT_201912031750.h5\n"
     ]
    },
    {
     "name": "stderr",
     "output_type": "stream",
     "text": [
      " 94%|█████████▎| 97127/103853 [24:33<02:16, 49.39it/s]"
     ]
    },
    {
     "name": "stdout",
     "output_type": "stream",
     "text": [
      "Error: could not read image1 data, file /nobackup_1/users/schreurs/project_GAN/dataset_radar/RAD_NL25_RAC_RT_201912081405.h5\n"
     ]
    },
    {
     "name": "stderr",
     "output_type": "stream",
     "text": [
      " 95%|█████████▍| 98502/103853 [25:05<02:58, 29.90it/s] "
     ]
    },
    {
     "name": "stdout",
     "output_type": "stream",
     "text": [
      "Error: could not read image1 data, file /nobackup_1/users/schreurs/project_GAN/dataset_radar/RAD_NL25_RAC_RT_201912130840.h5\n"
     ]
    },
    {
     "name": "stderr",
     "output_type": "stream",
     "text": [
      " 98%|█████████▊| 101388/103853 [26:17<01:04, 38.41it/s] "
     ]
    },
    {
     "name": "stdout",
     "output_type": "stream",
     "text": [
      "Error: could not read image1 data, file /nobackup_1/users/schreurs/project_GAN/dataset_radar/RAD_NL25_RAC_RT_201912230900.h5\n"
     ]
    },
    {
     "name": "stderr",
     "output_type": "stream",
     "text": [
      "100%|██████████| 103853/103853 [27:16<00:00, 63.47it/s]\n"
     ]
    }
   ],
   "source": [
    "in_dir = '/nobackup_1/users/schreurs/project_GAN/dataset_radar'\n",
    "out_dir = '/nobackup_1/users/schreurs/project_GAN/dataset_radar_np'\n",
    "label_dir = '/nobackup_1/users/schreurs/project_GAN/rtcor_rain_labels'\n",
    "preprocess(in_dir, out_dir, year=2019, label_dir=label_dir)"
   ]
  },
  {
   "cell_type": "code",
   "execution_count": 40,
   "metadata": {},
   "outputs": [
    {
     "name": "stdout",
     "output_type": "stream",
     "text": [
      "255\n",
      "[  0   1   2   3   4   5   6   7   8   9  10  11  12  13  14  15  16  17\n",
      "  18  19  20  21  22  23  24  25  26  27  28  29  30  31  32  33  34  35\n",
      "  36  37  38  39  40  41  42  43  44  45  46  47  48  49  50  51  52  53\n",
      "  54  55  56  57  58  59  60  61  62  63  64  65  66  67  68  69  70  71\n",
      "  72  73  74  75  76  77  78  79  80  81  82  83  84  85  86  87  88  89\n",
      "  90  91  92  93  94  95  96  97  98  99 100 101 102 103 104 105 106 107\n",
      " 108 109 110 111 112 113 114 115 116 117 118 119 120 121 122 123 124 125\n",
      " 126 127 128 129 130 131 132 133 134 135 136 137 138 139 140 141 142 143\n",
      " 144 145 146 147 148 149 150 151 152 153 154 155 156 157 158 159 160 161\n",
      " 162 163 164 165 166 167 168 169 170 171 172 173 174 175 176 177 178 179\n",
      " 180 181 182 183 184 185 186 187 188 189 190 191 192 193 194 195 196 197\n",
      " 198 199 200 201 202 203 204 205 206 207 208 209 210 211 212 213 214 215\n",
      " 216 217 218 219 220 221 222 223 224 225 226 227 228 229 230 231 232 233\n",
      " 234 235 236 237 238 239 240 241 242 243 244 245 246 247 248 249 250 251\n",
      " 252 253 254]\n"
     ]
    },
    {
     "data": {
      "image/png": "[encoded data removed]",
      "text/plain": [
       "<Figure size 432x288 with 1 Axes>"
      ]
     },
     "metadata": {
      "needs_background": "light"
     },
     "output_type": "display_data"
    }
   ],
   "source": [
    "path_scan = '/nobackup_1/users/schreurs/project_GAN/dataset_radar'+ '/RAD_NL25_RAC_RT_201906060050.h5'\n",
    "radar_img = load_h5(path_scan)\n",
    "plt.imshow(radar_img)\n",
    "print(len(np.unique(radar_img)))\n",
    "print(np.unique(radar_img))"
   ]
  },
  {
   "cell_type": "code",
   "execution_count": 36,
   "metadata": {},
   "outputs": [
    {
     "name": "stdout",
     "output_type": "stream",
     "text": [
      "4\n",
      "[0 1 2 3]\n"
     ]
    },
    {
     "data": {
      "image/png": "[encoded data removed]",
      "text/plain": [
       "<Figure size 432x288 with 1 Axes>"
      ]
     },
     "metadata": {
      "needs_background": "light"
     },
     "output_type": "display_data"
    }
   ],
   "source": [
    "# Check if output is correct\n",
    "path_f = '/nobackup_1/users/schreurs/project_GAN/dataset_radar_np' + '/201901010050.npy'\n",
    "rdr = np.load(path_f)\n",
    "plt.imshow(rdr)\n",
    "print(len(np.unique(rdr)))\n",
    "print(np.unique(radar_img))"
   ]
  },
  {
   "cell_type": "markdown",
   "metadata": {},
   "source": [
    "## TODO: Pack data into sequences\n",
    "\n",
    "Instead of storing 1 timestamp in 1 file, store a sequence of radarscans into 1 file. This will make loading the training data easier as the sequence of radarscans does not have to be made at runtime. These packages of sequences can later be linked with the target data.\n",
    "\n",
    "First the radar scans are packed into sequences of 30 minutes (6 radarscans long). These can then be matched with the Aarts target data of 30 minutes ahead. This would mean that there are 288/6 = 48 sequences in a day(/folder)\n",
    "\n",
    "TODO: This code was written for the wrong version of the dataset (recor). Still have to convert this to rtcor"
   ]
  },
  {
   "cell_type": "code",
   "execution_count": null,
   "metadata": {},
   "outputs": [],
   "source": [
    "from os import listdir\n",
    "from os.path import isfile, join"
   ]
  },
  {
   "cell_type": "code",
   "execution_count": 17,
   "metadata": {},
   "outputs": [],
   "source": [
    "np_dir = '/nobackup/users/schreurs/project_GAN/dataset_radar_np/'\n",
    "dir_30m = '/nobackup/users/schreurs/project_GAN/dataset_radar_np_30m/'"
   ]
  },
  {
   "cell_type": "code",
   "execution_count": 30,
   "metadata": {},
   "outputs": [],
   "source": [
    "files = sorted([f for f in os.listdir(np_dir) if os.path.isfile(os.path.join(np_dir, f))\n",
    "              and f.startswith('2019')])"
   ]
  },
  {
   "cell_type": "code",
   "execution_count": 29,
   "metadata": {},
   "outputs": [
    {
     "data": {
      "text/plain": [
       "['201901010000.npy',\n",
       " '201901010005.npy',\n",
       " '201901010010.npy',\n",
       " '201901010015.npy',\n",
       " '201901010020.npy']"
      ]
     },
     "execution_count": 29,
     "metadata": {},
     "output_type": "execute_result"
    }
   ],
   "source": [
    "files[:5]"
   ]
  },
  {
   "cell_type": "code",
   "execution_count": 154,
   "metadata": {},
   "outputs": [],
   "source": [
    "def preprocess_into_sequences(in_dir, out_dir, n=6, year=2019):\n",
    "    '''\n",
    "    Preprocess the numpy files into sequences. \n",
    "    n is the length of the input sequence, default is 6 images (with interval of 5 resulting in 30 minutes)\n",
    "    '''\n",
    "    # Create directory if it does not exist\n",
    "    if not os.path.exists(out_dir):\n",
    "        os.makedirs(out_dir)\n",
    "    \n",
    "    files = sorted([f for f in os.listdir(np_dir) if os.path.isfile(os.path.join(np_dir, f))\n",
    "                  and f.startswith(year)])\n",
    "    \n",
    "    regex_file = re.compile('(\\d{12})\\.h5')\n",
    "    # Each folder corresponds to a day\n",
    "    for folder in tqdm(files[:100]):\n",
    "        day_dir = in_dir + '/' \n",
    "        print(day_dir)\n",
    "        # A new file each 5 minutes: 288 files in a day\n",
    "        files = sorted([f for f in os.listdir(day_dir) if os.path.isfile(os.path.join(day_dir, f))])\n",
    "        \n",
    "        if len(files) != 288:\n",
    "            print('Day {} has {} radar scans instead of 288'.format(folder, len(files)))\n",
    "        for i in range(0,len(files)-n, n+1):\n",
    "            sequence_i = files[i:i+n]\n",
    "            \n",
    "            sequence = []\n",
    "            date_prev = None\n",
    "\n",
    "            sequence_name = files[i].replace('.npy', 'seq{}m'.format(5*n))\n",
    "            for file in sequence_i:\n",
    "                file_path = day_dir + file\n",
    "                timestamp, image = np.load(file_path, allow_pickle=True)\n",
    "                \n",
    "                if date_prev:\n",
    "                    # check if interval is 5 \n",
    "                    date_current = datetime.datetime.strptime(str(a), '%Y%m%d%H%M')\n",
    "                    interval = int((date_current-date_prev).seconds / 60) \n",
    "        \n",
    "                    if interval != 5:\n",
    "                        print(date_current, date_prev, interval)\n",
    "                    date_prev = date_current\n",
    "                sequence.append(image)\n",
    "            sequence = np.array(sequence)\n",
    "            #np.save(out_dir+sequence_name, sequence)"
   ]
  },
  {
   "cell_type": "code",
   "execution_count": 155,
   "metadata": {},
   "outputs": [
    {
     "name": "stderr",
     "output_type": "stream",
     "text": [
      "\r",
      "  0%|          | 0/100 [00:00<?, ?it/s]"
     ]
    },
    {
     "name": "stdout",
     "output_type": "stream",
     "text": [
      "/nobackup/users/schreurs/project_GAN/dataset_np/201812170755_201812180800/\n",
      "Day 201812170755_201812180800 has 259 radar scans instead of 288\n",
      "/nobackup/users/schreurs/project_GAN/dataset_np/201812180755_201812190800/\n",
      "Day 201812180755_201812190800 has 547 radar scans instead of 288\n"
     ]
    },
    {
     "name": "stderr",
     "output_type": "stream",
     "text": [
      "\r",
      "  2%|▏         | 2/100 [00:06<05:19,  3.26s/it]"
     ]
    },
    {
     "name": "stdout",
     "output_type": "stream",
     "text": [
      "/nobackup/users/schreurs/project_GAN/dataset_np/201812190755_201812200800/\n",
      "Day 201812190755_201812200800 has 488 radar scans instead of 288\n"
     ]
    },
    {
     "name": "stderr",
     "output_type": "stream",
     "text": [
      "\r",
      "  3%|▎         | 3/100 [00:12<06:57,  4.30s/it]"
     ]
    },
    {
     "name": "stdout",
     "output_type": "stream",
     "text": [
      "/nobackup/users/schreurs/project_GAN/dataset_np/201812200755_201812210800/\n",
      "Day 201812200755_201812210800 has 285 radar scans instead of 288\n"
     ]
    },
    {
     "name": "stderr",
     "output_type": "stream",
     "text": [
      "\r",
      "  4%|▍         | 4/100 [00:15<06:15,  3.91s/it]"
     ]
    },
    {
     "name": "stdout",
     "output_type": "stream",
     "text": [
      "/nobackup/users/schreurs/project_GAN/dataset_np/201812210755_201812220800/\n",
      "Day 201812210755_201812220800 has 277 radar scans instead of 288\n"
     ]
    },
    {
     "name": "stderr",
     "output_type": "stream",
     "text": [
      "\r",
      "  5%|▌         | 5/100 [00:18<05:52,  3.71s/it]"
     ]
    },
    {
     "name": "stdout",
     "output_type": "stream",
     "text": [
      "/nobackup/users/schreurs/project_GAN/dataset_np/20181221T075500_20181222T080000/\n",
      "Day 20181221T075500_20181222T080000 has 277 radar scans instead of 288\n"
     ]
    },
    {
     "name": "stderr",
     "output_type": "stream",
     "text": [
      "\r",
      "  6%|▌         | 6/100 [00:22<05:38,  3.60s/it]"
     ]
    },
    {
     "name": "stdout",
     "output_type": "stream",
     "text": [
      "/nobackup/users/schreurs/project_GAN/dataset_np/20181222T080500_20181223T080000/\n",
      "Day 20181222T080500_20181223T080000 has 286 radar scans instead of 288\n"
     ]
    },
    {
     "name": "stderr",
     "output_type": "stream",
     "text": [
      "\r",
      "  7%|▋         | 7/100 [00:25<05:30,  3.55s/it]"
     ]
    },
    {
     "name": "stdout",
     "output_type": "stream",
     "text": [
      "/nobackup/users/schreurs/project_GAN/dataset_np/20181223T080500_20181224T080000/\n",
      "Day 20181223T080500_20181224T080000 has 287 radar scans instead of 288\n"
     ]
    },
    {
     "name": "stderr",
     "output_type": "stream",
     "text": [
      "\r",
      "  8%|▊         | 8/100 [00:29<05:24,  3.52s/it]"
     ]
    },
    {
     "name": "stdout",
     "output_type": "stream",
     "text": [
      "/nobackup/users/schreurs/project_GAN/dataset_np/20181224T080500_20181225T080000/\n",
      "Day 20181224T080500_20181225T080000 has 286 radar scans instead of 288\n"
     ]
    },
    {
     "name": "stderr",
     "output_type": "stream",
     "text": [
      "\r",
      "  9%|▉         | 9/100 [00:32<05:14,  3.46s/it]"
     ]
    },
    {
     "name": "stdout",
     "output_type": "stream",
     "text": [
      "/nobackup/users/schreurs/project_GAN/dataset_np/20181225T080500_20181226T080000/\n",
      "Day 20181225T080500_20181226T080000 has 283 radar scans instead of 288\n"
     ]
    },
    {
     "name": "stderr",
     "output_type": "stream",
     "text": [
      "\r",
      " 10%|█         | 10/100 [00:35<05:07,  3.42s/it]"
     ]
    },
    {
     "name": "stdout",
     "output_type": "stream",
     "text": [
      "/nobackup/users/schreurs/project_GAN/dataset_np/20181226T080500_20181227T080000/\n",
      "Day 20181226T080500_20181227T080000 has 285 radar scans instead of 288\n"
     ]
    },
    {
     "name": "stderr",
     "output_type": "stream",
     "text": [
      "\r",
      " 11%|█         | 11/100 [00:39<05:03,  3.41s/it]"
     ]
    },
    {
     "name": "stdout",
     "output_type": "stream",
     "text": [
      "/nobackup/users/schreurs/project_GAN/dataset_np/20181227T080500_20181228T080000/\n",
      "Day 20181227T080500_20181228T080000 has 280 radar scans instead of 288\n"
     ]
    },
    {
     "name": "stderr",
     "output_type": "stream",
     "text": [
      "\r",
      " 12%|█▏        | 12/100 [00:42<04:59,  3.40s/it]"
     ]
    },
    {
     "name": "stdout",
     "output_type": "stream",
     "text": [
      "/nobackup/users/schreurs/project_GAN/dataset_np/20181228T080500_20181229T080000/\n",
      "Day 20181228T080500_20181229T080000 has 287 radar scans instead of 288\n"
     ]
    },
    {
     "name": "stderr",
     "output_type": "stream",
     "text": [
      "\r",
      " 13%|█▎        | 13/100 [00:46<04:58,  3.44s/it]"
     ]
    },
    {
     "name": "stdout",
     "output_type": "stream",
     "text": [
      "/nobackup/users/schreurs/project_GAN/dataset_np/20181229T080500_20181230T080000/\n",
      "Day 20181229T080500_20181230T080000 has 283 radar scans instead of 288\n"
     ]
    },
    {
     "name": "stderr",
     "output_type": "stream",
     "text": [
      "\r",
      " 14%|█▍        | 14/100 [00:49<04:55,  3.44s/it]"
     ]
    },
    {
     "name": "stdout",
     "output_type": "stream",
     "text": [
      "/nobackup/users/schreurs/project_GAN/dataset_np/20181230T080500_20181231T080000/\n",
      "Day 20181230T080500_20181231T080000 has 285 radar scans instead of 288\n"
     ]
    },
    {
     "name": "stderr",
     "output_type": "stream",
     "text": [
      "\r",
      " 15%|█▌        | 15/100 [00:52<04:50,  3.42s/it]"
     ]
    },
    {
     "name": "stdout",
     "output_type": "stream",
     "text": [
      "/nobackup/users/schreurs/project_GAN/dataset_np/20181231T080500_20190101T080000/\n",
      "Day 20181231T080500_20190101T080000 has 286 radar scans instead of 288\n"
     ]
    },
    {
     "name": "stderr",
     "output_type": "stream",
     "text": [
      "\r",
      " 16%|█▌        | 16/100 [00:56<04:48,  3.43s/it]"
     ]
    },
    {
     "name": "stdout",
     "output_type": "stream",
     "text": [
      "/nobackup/users/schreurs/project_GAN/dataset_np/20190101T080500_20190102T080000/\n",
      "Day 20190101T080500_20190102T080000 has 286 radar scans instead of 288\n"
     ]
    },
    {
     "name": "stderr",
     "output_type": "stream",
     "text": [
      "\r",
      " 17%|█▋        | 17/100 [00:59<04:43,  3.42s/it]"
     ]
    },
    {
     "name": "stdout",
     "output_type": "stream",
     "text": [
      "/nobackup/users/schreurs/project_GAN/dataset_np/20190102T080500_20190103T080000/\n",
      "Day 20190102T080500_20190103T080000 has 285 radar scans instead of 288\n"
     ]
    },
    {
     "name": "stderr",
     "output_type": "stream",
     "text": [
      "\r",
      " 18%|█▊        | 18/100 [01:03<04:38,  3.40s/it]"
     ]
    },
    {
     "name": "stdout",
     "output_type": "stream",
     "text": [
      "/nobackup/users/schreurs/project_GAN/dataset_np/20190103T080500_20190104T080000/\n",
      "Day 20190103T080500_20190104T080000 has 285 radar scans instead of 288\n"
     ]
    },
    {
     "name": "stderr",
     "output_type": "stream",
     "text": [
      "\r",
      " 19%|█▉        | 19/100 [01:06<04:29,  3.33s/it]"
     ]
    },
    {
     "name": "stdout",
     "output_type": "stream",
     "text": [
      "/nobackup/users/schreurs/project_GAN/dataset_np/20190104T080500_20190105T080000/\n",
      "Day 20190104T080500_20190105T080000 has 287 radar scans instead of 288\n"
     ]
    },
    {
     "name": "stderr",
     "output_type": "stream",
     "text": [
      "\r",
      " 20%|██        | 20/100 [01:09<04:30,  3.38s/it]"
     ]
    },
    {
     "name": "stdout",
     "output_type": "stream",
     "text": [
      "/nobackup/users/schreurs/project_GAN/dataset_np/20190105T080500_20190106T080000/\n"
     ]
    },
    {
     "name": "stderr",
     "output_type": "stream",
     "text": [
      "\r",
      " 21%|██        | 21/100 [01:13<04:29,  3.41s/it]"
     ]
    },
    {
     "name": "stdout",
     "output_type": "stream",
     "text": [
      "/nobackup/users/schreurs/project_GAN/dataset_np/20190106T080500_20190107T080000/\n"
     ]
    },
    {
     "name": "stderr",
     "output_type": "stream",
     "text": [
      "\r",
      " 22%|██▏       | 22/100 [01:16<04:25,  3.41s/it]"
     ]
    },
    {
     "name": "stdout",
     "output_type": "stream",
     "text": [
      "/nobackup/users/schreurs/project_GAN/dataset_np/20190107T080500_20190108T080000/\n",
      "Day 20190107T080500_20190108T080000 has 287 radar scans instead of 288\n"
     ]
    },
    {
     "name": "stderr",
     "output_type": "stream",
     "text": [
      "\r",
      " 23%|██▎       | 23/100 [01:20<04:22,  3.40s/it]"
     ]
    },
    {
     "name": "stdout",
     "output_type": "stream",
     "text": [
      "/nobackup/users/schreurs/project_GAN/dataset_np/20190108T080500_20190109T080000/\n",
      "Day 20190108T080500_20190109T080000 has 287 radar scans instead of 288\n"
     ]
    },
    {
     "name": "stderr",
     "output_type": "stream",
     "text": [
      "\r",
      " 24%|██▍       | 24/100 [01:23<04:18,  3.39s/it]"
     ]
    },
    {
     "name": "stdout",
     "output_type": "stream",
     "text": [
      "/nobackup/users/schreurs/project_GAN/dataset_np/20190109T080500_20190110T080000/\n"
     ]
    },
    {
     "name": "stderr",
     "output_type": "stream",
     "text": [
      "\r",
      " 25%|██▌       | 25/100 [01:26<04:16,  3.43s/it]"
     ]
    },
    {
     "name": "stdout",
     "output_type": "stream",
     "text": [
      "/nobackup/users/schreurs/project_GAN/dataset_np/20190110T080500_20190111T080000/\n",
      "Day 20190110T080500_20190111T080000 has 286 radar scans instead of 288\n"
     ]
    },
    {
     "name": "stderr",
     "output_type": "stream",
     "text": [
      "\r",
      " 26%|██▌       | 26/100 [01:30<04:13,  3.42s/it]"
     ]
    },
    {
     "name": "stdout",
     "output_type": "stream",
     "text": [
      "/nobackup/users/schreurs/project_GAN/dataset_np/20190111T080500_20190112T080000/\n",
      "Day 20190111T080500_20190112T080000 has 283 radar scans instead of 288\n"
     ]
    },
    {
     "name": "stderr",
     "output_type": "stream",
     "text": [
      "\r",
      " 27%|██▋       | 27/100 [01:33<04:04,  3.35s/it]"
     ]
    },
    {
     "name": "stdout",
     "output_type": "stream",
     "text": [
      "/nobackup/users/schreurs/project_GAN/dataset_np/20190112T080500_20190113T080000/\n",
      "Day 20190112T080500_20190113T080000 has 259 radar scans instead of 288\n"
     ]
    },
    {
     "name": "stderr",
     "output_type": "stream",
     "text": [
      "\r",
      " 28%|██▊       | 28/100 [01:36<03:57,  3.29s/it]"
     ]
    },
    {
     "name": "stdout",
     "output_type": "stream",
     "text": [
      "/nobackup/users/schreurs/project_GAN/dataset_np/20190113T080500_20190114T080000/\n",
      "Day 20190113T080500_20190114T080000 has 286 radar scans instead of 288\n"
     ]
    },
    {
     "name": "stderr",
     "output_type": "stream",
     "text": [
      "\r",
      " 29%|██▉       | 29/100 [01:40<03:56,  3.33s/it]"
     ]
    },
    {
     "name": "stdout",
     "output_type": "stream",
     "text": [
      "/nobackup/users/schreurs/project_GAN/dataset_np/20190114T080500_20190115T080000/\n",
      "Day 20190114T080500_20190115T080000 has 285 radar scans instead of 288\n"
     ]
    },
    {
     "name": "stderr",
     "output_type": "stream",
     "text": [
      "\r",
      " 30%|███       | 30/100 [01:43<03:49,  3.27s/it]"
     ]
    },
    {
     "name": "stdout",
     "output_type": "stream",
     "text": [
      "/nobackup/users/schreurs/project_GAN/dataset_np/20190115T080500_20190116T080000/\n",
      "Day 20190115T080500_20190116T080000 has 287 radar scans instead of 288\n"
     ]
    },
    {
     "name": "stderr",
     "output_type": "stream",
     "text": [
      "\r",
      " 31%|███       | 31/100 [01:46<03:49,  3.32s/it]"
     ]
    },
    {
     "name": "stdout",
     "output_type": "stream",
     "text": [
      "/nobackup/users/schreurs/project_GAN/dataset_np/20190116T080500_20190117T080000/\n",
      "Day 20190116T080500_20190117T080000 has 285 radar scans instead of 288\n"
     ]
    },
    {
     "name": "stderr",
     "output_type": "stream",
     "text": [
      "\r",
      " 32%|███▏      | 32/100 [01:50<03:47,  3.34s/it]"
     ]
    },
    {
     "name": "stdout",
     "output_type": "stream",
     "text": [
      "/nobackup/users/schreurs/project_GAN/dataset_np/20190117T080500_20190118T080000/\n",
      "Day 20190117T080500_20190118T080000 has 283 radar scans instead of 288\n"
     ]
    },
    {
     "name": "stderr",
     "output_type": "stream",
     "text": [
      "\r",
      " 33%|███▎      | 33/100 [01:53<03:45,  3.37s/it]"
     ]
    },
    {
     "name": "stdout",
     "output_type": "stream",
     "text": [
      "/nobackup/users/schreurs/project_GAN/dataset_np/20190118T080500_20190119T080000/\n",
      "Day 20190118T080500_20190119T080000 has 281 radar scans instead of 288\n"
     ]
    },
    {
     "name": "stderr",
     "output_type": "stream",
     "text": [
      "\r",
      " 34%|███▍      | 34/100 [01:56<03:37,  3.29s/it]"
     ]
    },
    {
     "name": "stdout",
     "output_type": "stream",
     "text": [
      "/nobackup/users/schreurs/project_GAN/dataset_np/20190119T080500_20190120T080000/\n",
      "Day 20190119T080500_20190120T080000 has 283 radar scans instead of 288\n"
     ]
    },
    {
     "name": "stderr",
     "output_type": "stream",
     "text": [
      "\r",
      " 35%|███▌      | 35/100 [01:59<03:35,  3.32s/it]"
     ]
    },
    {
     "name": "stdout",
     "output_type": "stream",
     "text": [
      "/nobackup/users/schreurs/project_GAN/dataset_np/20190120T080500_20190121T080000/\n",
      "Day 20190120T080500_20190121T080000 has 283 radar scans instead of 288\n"
     ]
    },
    {
     "name": "stderr",
     "output_type": "stream",
     "text": [
      "\r",
      " 36%|███▌      | 36/100 [02:03<03:34,  3.35s/it]"
     ]
    },
    {
     "name": "stdout",
     "output_type": "stream",
     "text": [
      "/nobackup/users/schreurs/project_GAN/dataset_np/20190121T080500_20190122T080000/\n",
      "Day 20190121T080500_20190122T080000 has 284 radar scans instead of 288\n"
     ]
    },
    {
     "name": "stderr",
     "output_type": "stream",
     "text": [
      "\r",
      " 37%|███▋      | 37/100 [02:06<03:26,  3.28s/it]"
     ]
    },
    {
     "name": "stdout",
     "output_type": "stream",
     "text": [
      "/nobackup/users/schreurs/project_GAN/dataset_np/20190122T080500_20190123T080000/\n",
      "Day 20190122T080500_20190123T080000 has 282 radar scans instead of 288\n"
     ]
    },
    {
     "name": "stderr",
     "output_type": "stream",
     "text": [
      "\r",
      " 38%|███▊      | 38/100 [02:09<03:26,  3.32s/it]"
     ]
    },
    {
     "name": "stdout",
     "output_type": "stream",
     "text": [
      "/nobackup/users/schreurs/project_GAN/dataset_np/20190123T080500_20190124T080000/\n",
      "Day 20190123T080500_20190124T080000 has 284 radar scans instead of 288\n"
     ]
    },
    {
     "name": "stderr",
     "output_type": "stream",
     "text": [
      "\r",
      " 39%|███▉      | 39/100 [02:13<03:18,  3.26s/it]"
     ]
    },
    {
     "name": "stdout",
     "output_type": "stream",
     "text": [
      "/nobackup/users/schreurs/project_GAN/dataset_np/20190124T080500_20190125T080000/\n",
      "Day 20190124T080500_20190125T080000 has 280 radar scans instead of 288\n"
     ]
    },
    {
     "name": "stderr",
     "output_type": "stream",
     "text": [
      "\r",
      " 40%|████      | 40/100 [02:16<03:16,  3.28s/it]"
     ]
    },
    {
     "name": "stdout",
     "output_type": "stream",
     "text": [
      "/nobackup/users/schreurs/project_GAN/dataset_np/20190125T080500_20190126T080000/\n",
      "Day 20190125T080500_20190126T080000 has 281 radar scans instead of 288\n"
     ]
    },
    {
     "name": "stderr",
     "output_type": "stream",
     "text": [
      "\r",
      " 41%|████      | 41/100 [02:19<03:13,  3.28s/it]"
     ]
    },
    {
     "name": "stdout",
     "output_type": "stream",
     "text": [
      "/nobackup/users/schreurs/project_GAN/dataset_np/20190126T080500_20190127T080000/\n",
      "Day 20190126T080500_20190127T080000 has 277 radar scans instead of 288\n"
     ]
    },
    {
     "name": "stderr",
     "output_type": "stream",
     "text": [
      "\r",
      " 42%|████▏     | 42/100 [02:22<03:10,  3.29s/it]"
     ]
    },
    {
     "name": "stdout",
     "output_type": "stream",
     "text": [
      "/nobackup/users/schreurs/project_GAN/dataset_np/20190127T080500_20190128T080000/\n",
      "Day 20190127T080500_20190128T080000 has 277 radar scans instead of 288\n"
     ]
    },
    {
     "name": "stderr",
     "output_type": "stream",
     "text": [
      "\r",
      " 43%|████▎     | 43/100 [02:26<03:06,  3.28s/it]"
     ]
    },
    {
     "name": "stdout",
     "output_type": "stream",
     "text": [
      "/nobackup/users/schreurs/project_GAN/dataset_np/20190128T080500_20190129T080000/\n",
      "Day 20190128T080500_20190129T080000 has 274 radar scans instead of 288\n"
     ]
    },
    {
     "name": "stderr",
     "output_type": "stream",
     "text": [
      "\r",
      " 44%|████▍     | 44/100 [02:29<03:03,  3.28s/it]"
     ]
    },
    {
     "name": "stdout",
     "output_type": "stream",
     "text": [
      "/nobackup/users/schreurs/project_GAN/dataset_np/20190129T080500_20190130T080000/\n",
      "Day 20190129T080500_20190130T080000 has 278 radar scans instead of 288\n"
     ]
    },
    {
     "name": "stderr",
     "output_type": "stream",
     "text": [
      "\r",
      " 45%|████▌     | 45/100 [02:32<03:00,  3.27s/it]"
     ]
    },
    {
     "name": "stdout",
     "output_type": "stream",
     "text": [
      "/nobackup/users/schreurs/project_GAN/dataset_np/20190130T080500_20190131T080000/\n",
      "Day 20190130T080500_20190131T080000 has 279 radar scans instead of 288\n"
     ]
    },
    {
     "name": "stderr",
     "output_type": "stream",
     "text": [
      "\r",
      " 46%|████▌     | 46/100 [02:36<02:57,  3.29s/it]"
     ]
    },
    {
     "name": "stdout",
     "output_type": "stream",
     "text": [
      "/nobackup/users/schreurs/project_GAN/dataset_np/20190131T080500_20190201T080000/\n",
      "Day 20190131T080500_20190201T080000 has 280 radar scans instead of 288\n"
     ]
    },
    {
     "name": "stderr",
     "output_type": "stream",
     "text": [
      "\r",
      " 47%|████▋     | 47/100 [02:39<02:55,  3.31s/it]"
     ]
    },
    {
     "name": "stdout",
     "output_type": "stream",
     "text": [
      "/nobackup/users/schreurs/project_GAN/dataset_np/20190201T080500_20190202T080000/\n",
      "Day 20190201T080500_20190202T080000 has 280 radar scans instead of 288\n"
     ]
    },
    {
     "name": "stderr",
     "output_type": "stream",
     "text": [
      "\r",
      " 48%|████▊     | 48/100 [02:42<02:55,  3.37s/it]"
     ]
    },
    {
     "name": "stdout",
     "output_type": "stream",
     "text": [
      "/nobackup/users/schreurs/project_GAN/dataset_np/20190202T080500_20190203T080000/\n",
      "Day 20190202T080500_20190203T080000 has 282 radar scans instead of 288\n"
     ]
    },
    {
     "name": "stderr",
     "output_type": "stream",
     "text": [
      "\r",
      " 49%|████▉     | 49/100 [02:46<02:52,  3.39s/it]"
     ]
    },
    {
     "name": "stdout",
     "output_type": "stream",
     "text": [
      "/nobackup/users/schreurs/project_GAN/dataset_np/20190203T080500_20190204T080000/\n",
      "Day 20190203T080500_20190204T080000 has 280 radar scans instead of 288\n"
     ]
    },
    {
     "name": "stderr",
     "output_type": "stream",
     "text": [
      "\r",
      " 50%|█████     | 50/100 [02:49<02:47,  3.35s/it]"
     ]
    },
    {
     "name": "stdout",
     "output_type": "stream",
     "text": [
      "/nobackup/users/schreurs/project_GAN/dataset_np/20190204T080500_20190205T080000/\n",
      "Day 20190204T080500_20190205T080000 has 280 radar scans instead of 288\n"
     ]
    },
    {
     "name": "stderr",
     "output_type": "stream",
     "text": [
      "\r",
      " 51%|█████     | 51/100 [02:53<02:44,  3.35s/it]"
     ]
    },
    {
     "name": "stdout",
     "output_type": "stream",
     "text": [
      "/nobackup/users/schreurs/project_GAN/dataset_np/20190205T080500_20190206T080000/\n",
      "Day 20190205T080500_20190206T080000 has 281 radar scans instead of 288\n"
     ]
    },
    {
     "name": "stderr",
     "output_type": "stream",
     "text": [
      "\r",
      " 52%|█████▏    | 52/100 [02:56<02:40,  3.35s/it]"
     ]
    },
    {
     "name": "stdout",
     "output_type": "stream",
     "text": [
      "/nobackup/users/schreurs/project_GAN/dataset_np/20190206T080500_20190207T080000/\n",
      "Day 20190206T080500_20190207T080000 has 279 radar scans instead of 288\n"
     ]
    },
    {
     "name": "stderr",
     "output_type": "stream",
     "text": [
      "\r",
      " 53%|█████▎    | 53/100 [02:59<02:35,  3.31s/it]"
     ]
    },
    {
     "name": "stdout",
     "output_type": "stream",
     "text": [
      "/nobackup/users/schreurs/project_GAN/dataset_np/20190207T080500_20190208T080000/\n",
      "Day 20190207T080500_20190208T080000 has 283 radar scans instead of 288\n"
     ]
    },
    {
     "name": "stderr",
     "output_type": "stream",
     "text": [
      "\r",
      " 54%|█████▍    | 54/100 [03:02<02:33,  3.34s/it]"
     ]
    },
    {
     "name": "stdout",
     "output_type": "stream",
     "text": [
      "/nobackup/users/schreurs/project_GAN/dataset_np/20190208T080500_20190209T080000/\n",
      "Day 20190208T080500_20190209T080000 has 247 radar scans instead of 288\n"
     ]
    },
    {
     "name": "stderr",
     "output_type": "stream",
     "text": [
      "\r",
      " 55%|█████▌    | 55/100 [03:05<02:25,  3.23s/it]"
     ]
    },
    {
     "name": "stdout",
     "output_type": "stream",
     "text": [
      "/nobackup/users/schreurs/project_GAN/dataset_np/20190209T080500_20190210T080000/\n",
      "Day 20190209T080500_20190210T080000 has 281 radar scans instead of 288\n"
     ]
    },
    {
     "name": "stderr",
     "output_type": "stream",
     "text": [
      "\r",
      " 56%|█████▌    | 56/100 [03:09<02:22,  3.24s/it]"
     ]
    },
    {
     "name": "stdout",
     "output_type": "stream",
     "text": [
      "/nobackup/users/schreurs/project_GAN/dataset_np/20190210T080500_20190211T080000/\n",
      "Day 20190210T080500_20190211T080000 has 279 radar scans instead of 288\n"
     ]
    },
    {
     "name": "stderr",
     "output_type": "stream",
     "text": [
      "\r",
      " 57%|█████▋    | 57/100 [03:12<02:21,  3.28s/it]"
     ]
    },
    {
     "name": "stdout",
     "output_type": "stream",
     "text": [
      "/nobackup/users/schreurs/project_GAN/dataset_np/20190211T080500_20190212T080000/\n",
      "Day 20190211T080500_20190212T080000 has 283 radar scans instead of 288\n"
     ]
    },
    {
     "name": "stderr",
     "output_type": "stream",
     "text": [
      "\r",
      " 58%|█████▊    | 58/100 [03:16<02:20,  3.34s/it]"
     ]
    },
    {
     "name": "stdout",
     "output_type": "stream",
     "text": [
      "/nobackup/users/schreurs/project_GAN/dataset_np/20190212T080500_20190213T080000/\n",
      "Day 20190212T080500_20190213T080000 has 284 radar scans instead of 288\n"
     ]
    },
    {
     "name": "stderr",
     "output_type": "stream",
     "text": [
      "\r",
      " 59%|█████▉    | 59/100 [03:19<02:17,  3.36s/it]"
     ]
    },
    {
     "name": "stdout",
     "output_type": "stream",
     "text": [
      "/nobackup/users/schreurs/project_GAN/dataset_np/20190213T080500_20190214T080000/\n",
      "Day 20190213T080500_20190214T080000 has 281 radar scans instead of 288\n"
     ]
    },
    {
     "name": "stderr",
     "output_type": "stream",
     "text": [
      "\r",
      " 60%|██████    | 60/100 [03:22<02:14,  3.35s/it]"
     ]
    },
    {
     "name": "stdout",
     "output_type": "stream",
     "text": [
      "/nobackup/users/schreurs/project_GAN/dataset_np/20190214T080500_20190215T080000/\n",
      "Day 20190214T080500_20190215T080000 has 282 radar scans instead of 288\n"
     ]
    },
    {
     "name": "stderr",
     "output_type": "stream",
     "text": [
      "\r",
      " 61%|██████    | 61/100 [03:26<02:12,  3.39s/it]"
     ]
    },
    {
     "name": "stdout",
     "output_type": "stream",
     "text": [
      "/nobackup/users/schreurs/project_GAN/dataset_np/20190215T080500_20190216T080000/\n",
      "Day 20190215T080500_20190216T080000 has 286 radar scans instead of 288\n"
     ]
    },
    {
     "name": "stderr",
     "output_type": "stream",
     "text": [
      "\r",
      " 62%|██████▏   | 62/100 [03:29<02:08,  3.38s/it]"
     ]
    },
    {
     "name": "stdout",
     "output_type": "stream",
     "text": [
      "/nobackup/users/schreurs/project_GAN/dataset_np/20190216T080500_20190217T080000/\n",
      "Day 20190216T080500_20190217T080000 has 284 radar scans instead of 288\n"
     ]
    },
    {
     "name": "stderr",
     "output_type": "stream",
     "text": [
      "\r",
      " 63%|██████▎   | 63/100 [03:32<02:04,  3.36s/it]"
     ]
    },
    {
     "name": "stdout",
     "output_type": "stream",
     "text": [
      "/nobackup/users/schreurs/project_GAN/dataset_np/20190217T080500_20190218T080000/\n",
      "Day 20190217T080500_20190218T080000 has 284 radar scans instead of 288\n"
     ]
    },
    {
     "name": "stderr",
     "output_type": "stream",
     "text": [
      "\r",
      " 64%|██████▍   | 64/100 [03:35<01:52,  3.12s/it]"
     ]
    },
    {
     "name": "stdout",
     "output_type": "stream",
     "text": [
      "/nobackup/users/schreurs/project_GAN/dataset_np/20190218T080500_20190219T080000/\n",
      "Day 20190218T080500_20190219T080000 has 283 radar scans instead of 288\n"
     ]
    },
    {
     "name": "stderr",
     "output_type": "stream",
     "text": [
      " 66%|██████▌   | 66/100 [03:38<01:11,  2.11s/it]"
     ]
    },
    {
     "name": "stdout",
     "output_type": "stream",
     "text": [
      "/nobackup/users/schreurs/project_GAN/dataset_np/20190219T080500_20190220T080000/\n",
      "Day 20190219T080500_20190220T080000 has 287 radar scans instead of 288\n",
      "/nobackup/users/schreurs/project_GAN/dataset_np/20190220T080500_20190221T080000/\n"
     ]
    },
    {
     "name": "stderr",
     "output_type": "stream",
     "text": [
      "\r",
      " 67%|██████▋   | 67/100 [03:38<00:49,  1.51s/it]"
     ]
    },
    {
     "name": "stdout",
     "output_type": "stream",
     "text": [
      "/nobackup/users/schreurs/project_GAN/dataset_np/20190221T080500_20190222T080000/\n",
      "Day 20190221T080500_20190222T080000 has 287 radar scans instead of 288\n"
     ]
    },
    {
     "name": "stderr",
     "output_type": "stream",
     "text": [
      "\r",
      " 68%|██████▊   | 68/100 [03:41<01:04,  2.00s/it]"
     ]
    },
    {
     "name": "stdout",
     "output_type": "stream",
     "text": [
      "/nobackup/users/schreurs/project_GAN/dataset_np/20190222T080500_20190223T080000/\n",
      "Day 20190222T080500_20190223T080000 has 284 radar scans instead of 288\n"
     ]
    },
    {
     "name": "stderr",
     "output_type": "stream",
     "text": [
      "\r",
      " 69%|██████▉   | 69/100 [03:44<01:14,  2.40s/it]"
     ]
    },
    {
     "name": "stdout",
     "output_type": "stream",
     "text": [
      "/nobackup/users/schreurs/project_GAN/dataset_np/20190223T080500_20190224T080000/\n"
     ]
    },
    {
     "name": "stderr",
     "output_type": "stream",
     "text": [
      "\r",
      " 70%|███████   | 70/100 [03:48<01:22,  2.74s/it]"
     ]
    },
    {
     "name": "stdout",
     "output_type": "stream",
     "text": [
      "/nobackup/users/schreurs/project_GAN/dataset_np/20190224T080500_20190225T080000/\n",
      "Day 20190224T080500_20190225T080000 has 285 radar scans instead of 288\n"
     ]
    },
    {
     "name": "stderr",
     "output_type": "stream",
     "text": [
      "100%|██████████| 100/100 [03:51<00:00,  2.32s/it]"
     ]
    },
    {
     "name": "stdout",
     "output_type": "stream",
     "text": [
      "/nobackup/users/schreurs/project_GAN/dataset_np/20190225T080500_20190226T080000/\n",
      "Day 20190225T080500_20190226T080000 has 1 radar scans instead of 288\n",
      "/nobackup/users/schreurs/project_GAN/dataset_np/20190226T080500_20190227T080000/\n",
      "Day 20190226T080500_20190227T080000 has 1 radar scans instead of 288\n",
      "/nobackup/users/schreurs/project_GAN/dataset_np/20190227T080500_20190228T080000/\n",
      "Day 20190227T080500_20190228T080000 has 1 radar scans instead of 288\n",
      "/nobackup/users/schreurs/project_GAN/dataset_np/20190228T080500_20190301T080000/\n",
      "Day 20190228T080500_20190301T080000 has 1 radar scans instead of 288\n",
      "/nobackup/users/schreurs/project_GAN/dataset_np/20190301T080500_20190302T080000/\n",
      "Day 20190301T080500_20190302T080000 has 1 radar scans instead of 288\n",
      "/nobackup/users/schreurs/project_GAN/dataset_np/20190302T080500_20190303T080000/\n",
      "Day 20190302T080500_20190303T080000 has 1 radar scans instead of 288\n",
      "/nobackup/users/schreurs/project_GAN/dataset_np/20190303T080500_20190304T080000/\n",
      "Day 20190303T080500_20190304T080000 has 1 radar scans instead of 288\n",
      "/nobackup/users/schreurs/project_GAN/dataset_np/20190304T080500_20190305T080000/\n",
      "Day 20190304T080500_20190305T080000 has 1 radar scans instead of 288\n",
      "/nobackup/users/schreurs/project_GAN/dataset_np/20190305T080500_20190306T080000/\n",
      "Day 20190305T080500_20190306T080000 has 1 radar scans instead of 288\n",
      "/nobackup/users/schreurs/project_GAN/dataset_np/20190306T080500_20190307T080000/\n",
      "Day 20190306T080500_20190307T080000 has 1 radar scans instead of 288\n",
      "/nobackup/users/schreurs/project_GAN/dataset_np/20190307T080500_20190308T080000/\n",
      "Day 20190307T080500_20190308T080000 has 1 radar scans instead of 288\n",
      "/nobackup/users/schreurs/project_GAN/dataset_np/20190308T080500_20190309T080000/\n",
      "Day 20190308T080500_20190309T080000 has 1 radar scans instead of 288\n",
      "/nobackup/users/schreurs/project_GAN/dataset_np/20190309T080500_20190310T080000/\n",
      "Day 20190309T080500_20190310T080000 has 1 radar scans instead of 288\n",
      "/nobackup/users/schreurs/project_GAN/dataset_np/20190310T080500_20190311T080000/\n",
      "Day 20190310T080500_20190311T080000 has 1 radar scans instead of 288\n",
      "/nobackup/users/schreurs/project_GAN/dataset_np/20190311T080500_20190312T080000/\n",
      "Day 20190311T080500_20190312T080000 has 1 radar scans instead of 288\n",
      "/nobackup/users/schreurs/project_GAN/dataset_np/20190312T080500_20190313T080000/\n",
      "Day 20190312T080500_20190313T080000 has 1 radar scans instead of 288\n",
      "/nobackup/users/schreurs/project_GAN/dataset_np/20190313T080500_20190314T080000/\n",
      "Day 20190313T080500_20190314T080000 has 1 radar scans instead of 288\n",
      "/nobackup/users/schreurs/project_GAN/dataset_np/20190314T080500_20190315T080000/\n",
      "Day 20190314T080500_20190315T080000 has 1 radar scans instead of 288\n",
      "/nobackup/users/schreurs/project_GAN/dataset_np/20190315T080500_20190316T080000/\n",
      "Day 20190315T080500_20190316T080000 has 1 radar scans instead of 288\n",
      "/nobackup/users/schreurs/project_GAN/dataset_np/20190316T080500_20190317T080000/\n",
      "Day 20190316T080500_20190317T080000 has 1 radar scans instead of 288\n",
      "/nobackup/users/schreurs/project_GAN/dataset_np/20190317T080500_20190318T080000/\n",
      "Day 20190317T080500_20190318T080000 has 1 radar scans instead of 288\n",
      "/nobackup/users/schreurs/project_GAN/dataset_np/20190318T080500_20190319T080000/\n",
      "Day 20190318T080500_20190319T080000 has 1 radar scans instead of 288\n",
      "/nobackup/users/schreurs/project_GAN/dataset_np/20190319T080500_20190320T080000/\n",
      "Day 20190319T080500_20190320T080000 has 1 radar scans instead of 288\n",
      "/nobackup/users/schreurs/project_GAN/dataset_np/20190320T080500_20190321T080000/\n",
      "Day 20190320T080500_20190321T080000 has 1 radar scans instead of 288\n",
      "/nobackup/users/schreurs/project_GAN/dataset_np/20190321T080500_20190322T080000/\n",
      "Day 20190321T080500_20190322T080000 has 1 radar scans instead of 288\n",
      "/nobackup/users/schreurs/project_GAN/dataset_np/20190322T080500_20190323T080000/\n",
      "Day 20190322T080500_20190323T080000 has 1 radar scans instead of 288\n",
      "/nobackup/users/schreurs/project_GAN/dataset_np/20190323T080500_20190324T080000/\n",
      "Day 20190323T080500_20190324T080000 has 1 radar scans instead of 288\n",
      "/nobackup/users/schreurs/project_GAN/dataset_np/20190324T080500_20190325T080000/\n",
      "Day 20190324T080500_20190325T080000 has 1 radar scans instead of 288\n",
      "/nobackup/users/schreurs/project_GAN/dataset_np/20190325T080500_20190326T080000/\n",
      "Day 20190325T080500_20190326T080000 has 1 radar scans instead of 288\n"
     ]
    },
    {
     "name": "stderr",
     "output_type": "stream",
     "text": [
      "\n"
     ]
    }
   ],
   "source": [
    "preprocess_into_sequences(np_dir, dir_30m)"
   ]
  },
  {
   "cell_type": "code",
   "execution_count": 39,
   "metadata": {},
   "outputs": [
    {
     "name": "stdout",
     "output_type": "stream",
     "text": [
      "201812171030.npy\r\n",
      "201812171035.npy\r\n",
      "201812171040.npy\r\n",
      "201812171045.npy\r\n",
      "201812171050.npy\r\n",
      "201812171055.npy\r\n",
      "201812171100.npy\r\n",
      "201812171105.npy\r\n",
      "201812171110.npy\r\n",
      "201812171115.npy\r\n"
     ]
    }
   ],
   "source": [
    "ls /nobackup_1/users/schreurs/project_GAN/dataset_np/201812170755_201812180800 |head"
   ]
  },
  {
   "cell_type": "markdown",
   "metadata": {},
   "source": [
    "Some days seem to lack a lot of data. Maybe something went wrong during downloading these dates or during unpacking"
   ]
  },
  {
   "cell_type": "code",
   "execution_count": 26,
   "metadata": {},
   "outputs": [
    {
     "name": "stdout",
     "output_type": "stream",
     "text": [
      "201903100800.npy\r\n"
     ]
    }
   ],
   "source": [
    "ls /nobackup_1/users/schreurs/project_GAN/dataset_np/20190309T080500_20190310T080000/"
   ]
  },
  {
   "cell_type": "code",
   "execution_count": 11,
   "metadata": {},
   "outputs": [
    {
     "name": "stdout",
     "output_type": "stream",
     "text": [
      "RAD_NL25_RAC_RE_201903100800.h5\r\n"
     ]
    }
   ],
   "source": [
    "ls /nobackup_1/users/schreurs/project_GAN/dataset/RAD25_OPER_R___TARRRE__L2__20190309T080500_20190310T080000_0001"
   ]
  },
  {
   "cell_type": "code",
   "execution_count": 19,
   "metadata": {},
   "outputs": [
    {
     "name": "stdout",
     "output_type": "stream",
     "text": [
      "\u001b[0m\u001b[01;31m/nobackup/users/schreurs/project_GAN/dataset/RAD25_OPER_R___TARRRE__L2__20190309T080500_20190310T080000_0001.tar\u001b[0m\u001b[K\r\n"
     ]
    }
   ],
   "source": [
    "ls /nobackup_1/users/schreurs/project_GAN/dataset/RAD25_OPER_R___TARRRE__L2__20190309T080500_20190310T080000_0001.tar"
   ]
  },
  {
   "cell_type": "markdown",
   "metadata": {},
   "source": [
    "As you can see there is only 1 radar scan of the date 2019-03-10. Below I unpack the tar file of that date again to test if something went wrong during the unpacking"
   ]
  },
  {
   "cell_type": "code",
   "execution_count": 20,
   "metadata": {},
   "outputs": [
    {
     "name": "stdout",
     "output_type": "stream",
     "text": [
      "tar path:  /nobackup/users/schreurs/project_GAN/dataset/RAD25_OPER_R___TARRRE__L2__20190309T080500_20190310T080000_0001.tar\n",
      "unpack in folder:  /nobackup/users/schreurs/project_GAN/dataset/RAD25_OPER_R___TARRRE__L2__20190309T080500_20190310T080000_0001\n"
     ]
    }
   ],
   "source": [
    "# Testing path\n",
    "tar_path = '/nobackup_1/users/schreurs/project_GAN/dataset/RAD25_OPER_R___TARRRE__L2__20190309T080500_20190310T080000_0001.tar'\n",
    "print(\"tar path: \", tar_path)\n",
    "unpack_folder = tar_path.replace('.tar','')\n",
    "print(\"unpack in folder: \", unpack_folder)"
   ]
  },
  {
   "cell_type": "code",
   "execution_count": 23,
   "metadata": {},
   "outputs": [],
   "source": [
    "with tarfile.open(tar_path) as tar:\n",
    "    tar.extractall(unpack_folder) "
   ]
  },
  {
   "cell_type": "code",
   "execution_count": 24,
   "metadata": {},
   "outputs": [
    {
     "name": "stdout",
     "output_type": "stream",
     "text": [
      "RAD_NL25_RAC_RE_201903100800.h5\r\n"
     ]
    }
   ],
   "source": [
    "ls /nobackup_1/users/schreurs/project_GAN/dataset/RAD25_OPER_R___TARRRE__L2__20190309T080500_20190310T080000_0001"
   ]
  },
  {
   "cell_type": "markdown",
   "metadata": {},
   "source": [
    "Unpacking the tar files does not seem te be the problem."
   ]
  },
  {
   "cell_type": "markdown",
   "metadata": {},
   "source": [
    "When mannually download the tar file of 20190309T080500_20190310T080000 the radar data looks complete. During downloading the files probably got corrupted. \n",
    "\n",
    "Noticed a difference in dataset names: nl_rdr_data_rtcor_5m vs nl_rdr_data_recor_5m.\n",
    "Currently using the recor dataset, the rtcor might have complete data unlike the rtcor. \n",
    "\n",
    "(Waiting on API request for bulk dowload rtcor instead of recor dataset)\n",
    "\n",
    "Now got the API for the rtcor dataset. This dataset seems more complete"
   ]
  }
 ],
 "metadata": {
  "kernelspec": {
   "display_name": "Python 3",
   "language": "python",
   "name": "python3"
  },
  "language_info": {
   "codemirror_mode": {
    "name": "ipython",
    "version": 3
   },
   "file_extension": ".py",
   "mimetype": "text/x-python",
   "name": "python",
   "nbconvert_exporter": "python",
   "pygments_lexer": "ipython3",
   "version": "3.8.7"
  }
 },
 "nbformat": 4,
 "nbformat_minor": 2
}
