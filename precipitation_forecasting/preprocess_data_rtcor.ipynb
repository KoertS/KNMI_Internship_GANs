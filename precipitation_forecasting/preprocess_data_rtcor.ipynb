{
 "cells": [
  {
   "cell_type": "code",
   "execution_count": 1,
   "metadata": {},
   "outputs": [],
   "source": [
    "import os\n",
    "import tarfile\n",
    "import re\n",
    "import numpy as np\n",
    "import h5py\n",
    "import matplotlib.pyplot as plt\n",
    "import pandas as pd\n",
    "from tqdm import tqdm\n",
    "import zipfile\n",
    "from datetime import datetime\n",
    "import cv2\n",
    "import config"
   ]
  },
  {
   "cell_type": "markdown",
   "metadata": {},
   "source": [
    "# rtcor Radar Data"
   ]
  },
  {
   "cell_type": "code",
   "execution_count": 2,
   "metadata": {},
   "outputs": [],
   "source": [
    "path_ds = '/nobackup_1/users/schreurs/project_GAN/dataset_radar'"
   ]
  },
  {
   "cell_type": "code",
   "execution_count": 2,
   "metadata": {},
   "outputs": [
    {
     "name": "stdout",
     "output_type": "stream",
     "text": [
      "\u001b[0m\u001b[01;31mRAD25_OPER_R___TARRRT__L2__20181219080000_20181220075500_0001.tar\u001b[0m\r\n",
      "\u001b[01;31mRAD25_OPER_R___TARRRT__L2__20181220080000_20181221075500_0001.tar\u001b[0m\r\n",
      "\u001b[01;31mRAD25_OPER_R___TARRRT__L2__20181221080000_20181222075500_0001.tar\u001b[0m\r\n",
      "\u001b[01;31mRAD25_OPER_R___TARRRT__L2__20181222T080500_20181223T080000_0001.tar\u001b[0m\r\n",
      "\u001b[01;31mRAD25_OPER_R___TARRRT__L2__20181223T080500_20181224T080000_0001.tar\u001b[0m\r\n",
      "ls: write error\r\n"
     ]
    }
   ],
   "source": [
    "ls /nobackup_1/users/schreurs/project_GAN/dataset_radar | head -5"
   ]
  },
  {
   "cell_type": "code",
   "execution_count": 3,
   "metadata": {},
   "outputs": [
    {
     "name": "stdout",
     "output_type": "stream",
     "text": [
      "Number of days in dataset =  228474\n"
     ]
    }
   ],
   "source": [
    "files = sorted([f for f in os.listdir(path_ds) if os.path.isfile(os.path.join(path_ds, f))])\n",
    "print(\"Number of days in dataset = \", len(files))"
   ]
  },
  {
   "cell_type": "markdown",
   "metadata": {},
   "source": [
    "## Unpack tar files"
   ]
  },
  {
   "cell_type": "code",
   "execution_count": 10,
   "metadata": {},
   "outputs": [
    {
     "name": "stdout",
     "output_type": "stream",
     "text": [
      "tar path:  /nobackup/users/schreurs/project_GAN/dataset_radar/RAD25_OPER_R___TARRRT__L2__20181219080000_20181220075500_0001.tar\n",
      "unpack in folder:  /nobackup/users/schreurs/project_GAN/dataset_radar\n"
     ]
    }
   ],
   "source": [
    "# Testing path\n",
    "tar_path = path_ds + '/' + files[0]\n",
    "print(\"tar path: \", tar_path)\n",
    "print(\"unpack in folder: \", path_ds)"
   ]
  },
  {
   "cell_type": "code",
   "execution_count": 11,
   "metadata": {},
   "outputs": [
    {
     "name": "stderr",
     "output_type": "stream",
     "text": [
      "100%|██████████| 795/795 [06:50<00:00,  1.94it/s]\n"
     ]
    }
   ],
   "source": [
    "for file in tqdm(files):\n",
    "    tar_path = path_ds + '/' + file\n",
    "    \n",
    "    tar_file = tarfile.open(tar_path)\n",
    "    tar_file.extractall(path_ds)\n",
    "    tar_file.close()"
   ]
  },
  {
   "cell_type": "code",
   "execution_count": 78,
   "metadata": {},
   "outputs": [
    {
     "name": "stdout",
     "output_type": "stream",
     "text": [
      "Number of scans in dataset =  227679\n"
     ]
    }
   ],
   "source": [
    "radar_scans = sorted([f for f in os.listdir(path_ds) if (os.path.isfile(os.path.join(path_ds, f)) and f.endswith('.h5'))])\n",
    "print(\"Number of scans in dataset = \", len(radar_scans))"
   ]
  },
  {
   "cell_type": "code",
   "execution_count": 5,
   "metadata": {},
   "outputs": [
    {
     "data": {
      "text/plain": [
       "'RAD_NL25_RAC_RT_201812190800.h5'"
      ]
     },
     "execution_count": 5,
     "metadata": {},
     "output_type": "execute_result"
    }
   ],
   "source": [
    "radar_scans[0]"
   ]
  },
  {
   "cell_type": "markdown",
   "metadata": {},
   "source": [
    "## Checking for missing data"
   ]
  },
  {
   "cell_type": "code",
   "execution_count": 4,
   "metadata": {},
   "outputs": [],
   "source": [
    "regex_timestamp = re.compile('(\\d{12})\\.h5')\n",
    "def get_datetime(filename):\n",
    "    '''\n",
    "    Infer datetime from filename\n",
    "    '''\n",
    "    timestamp=None\n",
    "    dt=None\n",
    "    # check if regex pattern finds a timestamp\n",
    "    try:\n",
    "        timestamp = regex_timestamp.findall(filename)[0] \n",
    "        dt = datetime.strptime(str(timestamp), '%Y%m%d%H%M')\n",
    "    except:\n",
    "        print('Error: could not find timestamp in file {}'.format(filename))\n",
    "    return dt"
   ]
  },
  {
   "cell_type": "code",
   "execution_count": 5,
   "metadata": {},
   "outputs": [],
   "source": [
    "def get_diff_minutes(d1, d2):\n",
    "    '''\n",
    "    Returns the difference in minutes between first date d1 and the next date d2\n",
    "    '''\n",
    "    diff = int((d2-d1).seconds / 60)\n",
    "    return diff"
   ]
  },
  {
   "cell_type": "code",
   "execution_count": 6,
   "metadata": {},
   "outputs": [],
   "source": [
    "def gap_between(filename1, filename2):\n",
    "    '''\n",
    "    Checks if difference in time between two consecutive files is 5 minutes.\n",
    "    If it is not, print the two timestamps\n",
    "    Returns the number of scans missing between two files (time difference/5)\n",
    "    '''\n",
    "    d1 = get_datetime(filename1)\n",
    "    d2 = get_datetime(filename2)\n",
    "    \n",
    "    diff = get_diff_minutes(d1, d2)\n",
    "    \n",
    "    if diff != 5:\n",
    "        print('{} minutes gap between {} and {}'.format(diff,d1,d2))\n",
    "        return diff/5\n",
    "    return 0"
   ]
  },
  {
   "cell_type": "code",
   "execution_count": 54,
   "metadata": {},
   "outputs": [
    {
     "name": "stdout",
     "output_type": "stream",
     "text": [
      "10 minutes gap between 2018-12-19 10:25:00 and 2018-12-19 10:35:00\n",
      "15 minutes gap between 2018-12-19 10:45:00 and 2018-12-19 11:00:00\n",
      "30 minutes gap between 2018-12-19 13:15:00 and 2018-12-19 13:45:00\n",
      "10 minutes gap between 2018-12-19 14:10:00 and 2018-12-19 14:20:00\n",
      "65 minutes gap between 2018-12-19 14:30:00 and 2018-12-19 15:35:00\n",
      "15 minutes gap between 2018-12-19 18:40:00 and 2018-12-19 18:55:00\n",
      "40 minutes gap between 2018-12-19 19:40:00 and 2018-12-19 20:20:00\n",
      "120 minutes gap between 2018-12-19 20:30:00 and 2018-12-19 22:30:00\n",
      "170 minutes gap between 2018-12-19 22:35:00 and 2018-12-20 01:25:00\n",
      "15 minutes gap between 2018-12-20 01:25:00 and 2018-12-20 01:40:00\n",
      "10 minutes gap between 2018-12-20 09:15:00 and 2018-12-20 09:25:00\n",
      "10 minutes gap between 2018-12-20 12:10:00 and 2018-12-20 12:20:00\n",
      "10 minutes gap between 2018-12-20 21:15:00 and 2018-12-20 21:25:00\n",
      "10 minutes gap between 2018-12-21 17:25:00 and 2018-12-21 17:35:00\n",
      "15 minutes gap between 2018-12-21 21:35:00 and 2018-12-21 21:50:00\n",
      "35 minutes gap between 2018-12-21 22:05:00 and 2018-12-21 22:40:00\n",
      "10 minutes gap between 2018-12-21 23:35:00 and 2018-12-21 23:45:00\n",
      "10 minutes gap between 2018-12-22 02:10:00 and 2018-12-22 02:20:00\n",
      "10 minutes gap between 2018-12-22 07:55:00 and 2018-12-22 08:05:00\n",
      "10 minutes gap between 2018-12-22 10:55:00 and 2018-12-22 11:05:00\n",
      "10 minutes gap between 2018-12-22 22:55:00 and 2018-12-22 23:05:00\n",
      "10 minutes gap between 2018-12-24 07:55:00 and 2018-12-24 08:05:00\n",
      "10 minutes gap between 2018-12-24 22:55:00 and 2018-12-24 23:05:00\n",
      "10 minutes gap between 2018-12-25 07:55:00 and 2018-12-25 08:05:00\n",
      "10 minutes gap between 2018-12-25 13:55:00 and 2018-12-25 14:05:00\n",
      "10 minutes gap between 2018-12-25 16:55:00 and 2018-12-25 17:05:00\n",
      "10 minutes gap between 2018-12-25 22:55:00 and 2018-12-25 23:05:00\n",
      "10 minutes gap between 2018-12-26 04:55:00 and 2018-12-26 05:05:00\n",
      "10 minutes gap between 2018-12-26 07:55:00 and 2018-12-26 08:05:00\n",
      "10 minutes gap between 2018-12-26 08:35:00 and 2018-12-26 08:45:00\n",
      "10 minutes gap between 2018-12-26 16:55:00 and 2018-12-26 17:05:00\n",
      "10 minutes gap between 2018-12-26 19:55:00 and 2018-12-26 20:05:00\n",
      "45 minutes gap between 2018-12-28 01:50:00 and 2018-12-28 02:35:00\n",
      "10 minutes gap between 2018-12-29 07:45:00 and 2018-12-29 07:55:00\n",
      "10 minutes gap between 2018-12-29 08:05:00 and 2018-12-29 08:15:00\n",
      "10 minutes gap between 2018-12-29 08:40:00 and 2018-12-29 08:50:00\n",
      "10 minutes gap between 2018-12-29 18:25:00 and 2018-12-29 18:35:00\n",
      "10 minutes gap between 2018-12-29 20:10:00 and 2018-12-29 20:20:00\n",
      "10 minutes gap between 2018-12-29 20:50:00 and 2018-12-29 21:00:00\n",
      "10 minutes gap between 2018-12-30 16:45:00 and 2018-12-30 16:55:00\n",
      "10 minutes gap between 2018-12-30 17:20:00 and 2018-12-30 17:30:00\n",
      "10 minutes gap between 2018-12-31 04:55:00 and 2018-12-31 05:05:00\n",
      "10 minutes gap between 2018-12-31 10:55:00 and 2018-12-31 11:05:00\n",
      "10 minutes gap between 2018-12-31 19:55:00 and 2018-12-31 20:05:00\n",
      "10 minutes gap between 2019-01-01 13:20:00 and 2019-01-01 13:30:00\n",
      "10 minutes gap between 2019-01-02 04:25:00 and 2019-01-02 04:35:00\n",
      "10 minutes gap between 2019-01-02 16:55:00 and 2019-01-02 17:05:00\n",
      "10 minutes gap between 2019-01-02 18:00:00 and 2019-01-02 18:10:00\n",
      "10 minutes gap between 2019-01-02 19:50:00 and 2019-01-02 20:00:00\n",
      "10 minutes gap between 2019-01-03 11:00:00 and 2019-01-03 11:10:00\n",
      "10 minutes gap between 2019-01-04 00:00:00 and 2019-01-04 00:10:00\n",
      "10 minutes gap between 2019-01-04 03:25:00 and 2019-01-04 03:35:00\n",
      "10 minutes gap between 2019-01-05 04:55:00 and 2019-01-05 05:05:00\n",
      "10 minutes gap between 2019-01-08 04:15:00 and 2019-01-08 04:25:00\n",
      "10 minutes gap between 2019-01-09 02:10:00 and 2019-01-09 02:20:00\n",
      "10 minutes gap between 2019-01-10 11:00:00 and 2019-01-10 11:10:00\n",
      "10 minutes gap between 2019-01-10 23:05:00 and 2019-01-10 23:15:00\n",
      "10 minutes gap between 2019-01-11 20:00:00 and 2019-01-11 20:10:00\n",
      "10 minutes gap between 2019-01-11 20:20:00 and 2019-01-11 20:30:00\n",
      "10 minutes gap between 2019-01-11 20:45:00 and 2019-01-11 20:55:00\n",
      "10 minutes gap between 2019-01-11 22:05:00 and 2019-01-11 22:15:00\n",
      "10 minutes gap between 2019-01-12 06:30:00 and 2019-01-12 06:40:00\n",
      "10 minutes gap between 2019-01-12 10:30:00 and 2019-01-12 10:40:00\n",
      "10 minutes gap between 2019-01-12 11:15:00 and 2019-01-12 11:25:00\n",
      "10 minutes gap between 2019-01-12 12:05:00 and 2019-01-12 12:15:00\n",
      "10 minutes gap between 2019-01-12 12:15:00 and 2019-01-12 12:25:00\n",
      "15 minutes gap between 2019-01-12 12:30:00 and 2019-01-12 12:45:00\n",
      "10 minutes gap between 2019-01-12 12:50:00 and 2019-01-12 13:00:00\n",
      "15 minutes gap between 2019-01-12 14:10:00 and 2019-01-12 14:25:00\n",
      "10 minutes gap between 2019-01-12 14:25:00 and 2019-01-12 14:35:00\n",
      "15 minutes gap between 2019-01-12 14:35:00 and 2019-01-12 14:50:00\n",
      "10 minutes gap between 2019-01-12 15:25:00 and 2019-01-12 15:35:00\n",
      "10 minutes gap between 2019-01-12 15:35:00 and 2019-01-12 15:45:00\n",
      "10 minutes gap between 2019-01-12 15:50:00 and 2019-01-12 16:00:00\n",
      "10 minutes gap between 2019-01-12 16:05:00 and 2019-01-12 16:15:00\n",
      "10 minutes gap between 2019-01-12 16:35:00 and 2019-01-12 16:45:00\n",
      "10 minutes gap between 2019-01-12 16:55:00 and 2019-01-12 17:05:00\n",
      "10 minutes gap between 2019-01-12 17:05:00 and 2019-01-12 17:15:00\n",
      "10 minutes gap between 2019-01-12 17:25:00 and 2019-01-12 17:35:00\n",
      "15 minutes gap between 2019-01-12 20:35:00 and 2019-01-12 20:50:00\n",
      "10 minutes gap between 2019-01-12 21:10:00 and 2019-01-12 21:20:00\n",
      "10 minutes gap between 2019-01-12 21:25:00 and 2019-01-12 21:35:00\n",
      "10 minutes gap between 2019-01-12 22:20:00 and 2019-01-12 22:30:00\n",
      "10 minutes gap between 2019-01-13 01:25:00 and 2019-01-13 01:35:00\n",
      "10 minutes gap between 2019-01-13 03:30:00 and 2019-01-13 03:40:00\n",
      "10 minutes gap between 2019-01-13 04:50:00 and 2019-01-13 05:00:00\n",
      "10 minutes gap between 2019-01-13 06:20:00 and 2019-01-13 06:30:00\n",
      "10 minutes gap between 2019-01-13 23:10:00 and 2019-01-13 23:20:00\n",
      "10 minutes gap between 2019-01-14 04:20:00 and 2019-01-14 04:30:00\n",
      "10 minutes gap between 2019-01-14 11:00:00 and 2019-01-14 11:10:00\n",
      "10 minutes gap between 2019-01-14 21:50:00 and 2019-01-14 22:00:00\n",
      "10 minutes gap between 2019-01-15 05:00:00 and 2019-01-15 05:10:00\n",
      "10 minutes gap between 2019-01-15 10:25:00 and 2019-01-15 10:35:00\n",
      "10 minutes gap between 2019-01-16 11:00:00 and 2019-01-16 11:10:00\n",
      "10 minutes gap between 2019-01-16 16:45:00 and 2019-01-16 16:55:00\n",
      "10 minutes gap between 2019-01-16 20:00:00 and 2019-01-16 20:10:00\n",
      "10 minutes gap between 2019-01-17 13:45:00 and 2019-01-17 13:55:00\n",
      "10 minutes gap between 2019-01-17 16:20:00 and 2019-01-17 16:30:00\n",
      "10 minutes gap between 2019-01-18 01:50:00 and 2019-01-18 02:00:00\n",
      "10 minutes gap between 2019-01-18 03:20:00 and 2019-01-18 03:30:00\n",
      "10 minutes gap between 2019-01-18 04:20:00 and 2019-01-18 04:30:00\n",
      "10 minutes gap between 2019-01-18 10:05:00 and 2019-01-18 10:15:00\n",
      "10 minutes gap between 2019-01-18 18:00:00 and 2019-01-18 18:10:00\n",
      "10 minutes gap between 2019-01-18 21:30:00 and 2019-01-18 21:40:00\n",
      "10 minutes gap between 2019-01-18 22:20:00 and 2019-01-18 22:30:00\n",
      "10 minutes gap between 2019-01-19 01:45:00 and 2019-01-19 01:55:00\n",
      "10 minutes gap between 2019-01-19 04:15:00 and 2019-01-19 04:25:00\n",
      "10 minutes gap between 2019-01-19 05:20:00 and 2019-01-19 05:30:00\n",
      "10 minutes gap between 2019-01-19 08:00:00 and 2019-01-19 08:10:00\n",
      "10 minutes gap between 2019-01-19 14:00:00 and 2019-01-19 14:10:00\n",
      "10 minutes gap between 2019-01-19 22:30:00 and 2019-01-19 22:40:00\n",
      "10 minutes gap between 2019-01-20 00:45:00 and 2019-01-20 00:55:00\n",
      "10 minutes gap between 2019-01-20 03:15:00 and 2019-01-20 03:25:00\n",
      "10 minutes gap between 2019-01-20 09:10:00 and 2019-01-20 09:20:00\n",
      "10 minutes gap between 2019-01-20 09:45:00 and 2019-01-20 09:55:00\n",
      "10 minutes gap between 2019-01-20 13:30:00 and 2019-01-20 13:40:00\n",
      "10 minutes gap between 2019-01-20 21:10:00 and 2019-01-20 21:20:00\n",
      "10 minutes gap between 2019-01-20 22:10:00 and 2019-01-20 22:20:00\n",
      "10 minutes gap between 2019-01-21 15:40:00 and 2019-01-21 15:50:00\n",
      "10 minutes gap between 2019-01-21 18:20:00 and 2019-01-21 18:30:00\n",
      "10 minutes gap between 2019-01-21 18:40:00 and 2019-01-21 18:50:00\n",
      "10 minutes gap between 2019-01-22 05:00:00 and 2019-01-22 05:10:00\n",
      "10 minutes gap between 2019-01-22 08:05:00 and 2019-01-22 08:15:00\n",
      "10 minutes gap between 2019-01-22 10:10:00 and 2019-01-22 10:20:00\n",
      "10 minutes gap between 2019-01-22 23:30:00 and 2019-01-22 23:40:00\n",
      "10 minutes gap between 2019-01-23 00:10:00 and 2019-01-23 00:20:00\n",
      "10 minutes gap between 2019-01-23 00:30:00 and 2019-01-23 00:40:00\n",
      "10 minutes gap between 2019-01-23 03:45:00 and 2019-01-23 03:55:00\n",
      "10 minutes gap between 2019-01-23 19:40:00 and 2019-01-23 19:50:00\n",
      "10 minutes gap between 2019-01-23 22:30:00 and 2019-01-23 22:40:00\n",
      "10 minutes gap between 2019-01-24 00:30:00 and 2019-01-24 00:40:00\n",
      "10 minutes gap between 2019-01-24 05:10:00 and 2019-01-24 05:20:00\n",
      "10 minutes gap between 2019-01-24 13:55:00 and 2019-01-24 14:05:00\n",
      "10 minutes gap between 2019-01-24 14:05:00 and 2019-01-24 14:15:00\n",
      "10 minutes gap between 2019-01-24 16:45:00 and 2019-01-24 16:55:00\n",
      "10 minutes gap between 2019-01-24 18:10:00 and 2019-01-24 18:20:00\n",
      "10 minutes gap between 2019-01-24 19:55:00 and 2019-01-24 20:05:00\n",
      "10 minutes gap between 2019-01-25 01:10:00 and 2019-01-25 01:20:00\n",
      "10 minutes gap between 2019-01-25 04:55:00 and 2019-01-25 05:05:00\n",
      "10 minutes gap between 2019-01-25 07:55:00 and 2019-01-25 08:05:00\n",
      "10 minutes gap between 2019-01-26 01:55:00 and 2019-01-26 02:05:00\n",
      "10 minutes gap between 2019-01-26 03:05:00 and 2019-01-26 03:15:00\n",
      "10 minutes gap between 2019-01-26 05:05:00 and 2019-01-26 05:15:00\n",
      "10 minutes gap between 2019-01-26 05:20:00 and 2019-01-26 05:30:00\n",
      "10 minutes gap between 2019-01-26 06:30:00 and 2019-01-26 06:40:00\n",
      "10 minutes gap between 2019-01-26 07:40:00 and 2019-01-26 07:50:00\n",
      "10 minutes gap between 2019-01-26 07:50:00 and 2019-01-26 08:00:00\n",
      "10 minutes gap between 2019-01-26 08:10:00 and 2019-01-26 08:20:00\n",
      "10 minutes gap between 2019-01-26 08:20:00 and 2019-01-26 08:30:00\n",
      "10 minutes gap between 2019-01-26 09:10:00 and 2019-01-26 09:20:00\n",
      "10 minutes gap between 2019-01-26 09:25:00 and 2019-01-26 09:35:00\n",
      "10 minutes gap between 2019-01-26 20:20:00 and 2019-01-26 20:30:00\n",
      "10 minutes gap between 2019-01-27 01:10:00 and 2019-01-27 01:20:00\n",
      "10 minutes gap between 2019-01-27 02:10:00 and 2019-01-27 02:20:00\n",
      "10 minutes gap between 2019-01-27 03:10:00 and 2019-01-27 03:20:00\n",
      "10 minutes gap between 2019-01-27 03:30:00 and 2019-01-27 03:40:00\n",
      "10 minutes gap between 2019-01-27 04:50:00 and 2019-01-27 05:00:00\n",
      "10 minutes gap between 2019-01-27 05:10:00 and 2019-01-27 05:20:00\n",
      "10 minutes gap between 2019-01-27 08:05:00 and 2019-01-27 08:15:00\n",
      "10 minutes gap between 2019-01-27 10:05:00 and 2019-01-27 10:15:00\n",
      "10 minutes gap between 2019-01-27 10:55:00 and 2019-01-27 11:05:00\n",
      "10 minutes gap between 2019-01-27 11:20:00 and 2019-01-27 11:30:00\n",
      "10 minutes gap between 2019-01-27 13:55:00 and 2019-01-27 14:05:00\n",
      "10 minutes gap between 2019-01-27 14:35:00 and 2019-01-27 14:45:00\n",
      "10 minutes gap between 2019-01-27 19:55:00 and 2019-01-27 20:05:00\n",
      "10 minutes gap between 2019-01-27 20:05:00 and 2019-01-27 20:15:00\n",
      "10 minutes gap between 2019-01-28 01:10:00 and 2019-01-28 01:20:00\n",
      "10 minutes gap between 2019-01-28 03:50:00 and 2019-01-28 04:00:00\n",
      "10 minutes gap between 2019-01-28 04:55:00 and 2019-01-28 05:05:00\n",
      "10 minutes gap between 2019-01-28 10:10:00 and 2019-01-28 10:20:00\n",
      "10 minutes gap between 2019-01-28 13:40:00 and 2019-01-28 13:50:00\n",
      "10 minutes gap between 2019-01-28 13:55:00 and 2019-01-28 14:05:00\n",
      "10 minutes gap between 2019-01-28 16:10:00 and 2019-01-28 16:20:00\n",
      "10 minutes gap between 2019-01-28 16:50:00 and 2019-01-28 17:00:00\n",
      "10 minutes gap between 2019-01-28 21:55:00 and 2019-01-28 22:05:00\n",
      "10 minutes gap between 2019-01-28 22:10:00 and 2019-01-28 22:20:00\n",
      "10 minutes gap between 2019-01-28 22:55:00 and 2019-01-28 23:05:00\n",
      "10 minutes gap between 2019-01-29 00:20:00 and 2019-01-29 00:30:00\n",
      "10 minutes gap between 2019-01-29 00:50:00 and 2019-01-29 01:00:00\n",
      "10 minutes gap between 2019-01-29 01:55:00 and 2019-01-29 02:05:00\n",
      "10 minutes gap between 2019-01-29 03:45:00 and 2019-01-29 03:55:00\n",
      "10 minutes gap between 2019-01-29 06:20:00 and 2019-01-29 06:30:00\n",
      "10 minutes gap between 2019-01-29 07:55:00 and 2019-01-29 08:05:00\n",
      "10 minutes gap between 2019-01-29 10:20:00 and 2019-01-29 10:30:00\n",
      "10 minutes gap between 2019-01-29 13:15:00 and 2019-01-29 13:25:00\n",
      "10 minutes gap between 2019-01-29 17:00:00 and 2019-01-29 17:10:00\n",
      "10 minutes gap between 2019-01-29 19:55:00 and 2019-01-29 20:05:00\n",
      "10 minutes gap between 2019-01-29 21:10:00 and 2019-01-29 21:20:00\n",
      "10 minutes gap between 2019-01-29 21:45:00 and 2019-01-29 21:55:00\n",
      "10 minutes gap between 2019-01-29 22:20:00 and 2019-01-29 22:30:00\n",
      "10 minutes gap between 2019-01-29 23:20:00 and 2019-01-29 23:30:00\n",
      "10 minutes gap between 2019-01-30 01:55:00 and 2019-01-30 02:05:00\n",
      "10 minutes gap between 2019-01-30 04:05:00 and 2019-01-30 04:15:00\n",
      "10 minutes gap between 2019-01-30 11:00:00 and 2019-01-30 11:10:00\n",
      "10 minutes gap between 2019-01-30 13:25:00 and 2019-01-30 13:35:00\n",
      "10 minutes gap between 2019-01-30 16:00:00 and 2019-01-30 16:10:00\n",
      "10 minutes gap between 2019-01-30 19:50:00 and 2019-01-30 20:00:00\n",
      "10 minutes gap between 2019-01-30 21:10:00 and 2019-01-30 21:20:00\n",
      "10 minutes gap between 2019-01-31 01:55:00 and 2019-01-31 02:05:00\n",
      "10 minutes gap between 2019-01-31 03:30:00 and 2019-01-31 03:40:00\n",
      "10 minutes gap between 2019-01-31 06:50:00 and 2019-01-31 07:00:00\n",
      "10 minutes gap between 2019-01-31 07:50:00 and 2019-01-31 08:00:00\n",
      "10 minutes gap between 2019-01-31 13:55:00 and 2019-01-31 14:05:00\n",
      "10 minutes gap between 2019-01-31 16:55:00 and 2019-01-31 17:05:00\n",
      "10 minutes gap between 2019-01-31 22:05:00 and 2019-01-31 22:15:00\n",
      "10 minutes gap between 2019-02-01 03:20:00 and 2019-02-01 03:30:00\n",
      "10 minutes gap between 2019-02-01 04:05:00 and 2019-02-01 04:15:00\n",
      "10 minutes gap between 2019-02-01 04:30:00 and 2019-02-01 04:40:00\n",
      "10 minutes gap between 2019-02-01 05:20:00 and 2019-02-01 05:30:00\n",
      "10 minutes gap between 2019-02-01 07:55:00 and 2019-02-01 08:05:00\n",
      "10 minutes gap between 2019-02-01 09:55:00 and 2019-02-01 10:05:00\n",
      "10 minutes gap between 2019-02-01 13:05:00 and 2019-02-01 13:15:00\n",
      "10 minutes gap between 2019-02-01 13:55:00 and 2019-02-01 14:05:00\n",
      "10 minutes gap between 2019-02-01 15:45:00 and 2019-02-01 15:55:00\n",
      "10 minutes gap between 2019-02-01 22:05:00 and 2019-02-01 22:15:00\n",
      "10 minutes gap between 2019-02-02 02:10:00 and 2019-02-02 02:20:00\n",
      "10 minutes gap between 2019-02-02 03:05:00 and 2019-02-02 03:15:00\n",
      "10 minutes gap between 2019-02-02 05:10:00 and 2019-02-02 05:20:00\n",
      "10 minutes gap between 2019-02-02 16:55:00 and 2019-02-02 17:05:00\n",
      "10 minutes gap between 2019-02-02 21:45:00 and 2019-02-02 21:55:00\n",
      "10 minutes gap between 2019-02-02 22:55:00 and 2019-02-02 23:05:00\n",
      "10 minutes gap between 2019-02-03 01:25:00 and 2019-02-03 01:35:00\n",
      "10 minutes gap between 2019-02-03 01:55:00 and 2019-02-03 02:05:00\n",
      "10 minutes gap between 2019-02-03 03:20:00 and 2019-02-03 03:30:00\n",
      "10 minutes gap between 2019-02-03 10:00:00 and 2019-02-03 10:10:00\n",
      "10 minutes gap between 2019-02-03 13:15:00 and 2019-02-03 13:25:00\n",
      "10 minutes gap between 2019-02-03 13:55:00 and 2019-02-03 14:05:00\n",
      "10 minutes gap between 2019-02-03 16:55:00 and 2019-02-03 17:05:00\n",
      "10 minutes gap between 2019-02-03 19:55:00 and 2019-02-03 20:05:00\n",
      "10 minutes gap between 2019-02-03 22:20:00 and 2019-02-03 22:30:00\n",
      "10 minutes gap between 2019-02-04 01:55:00 and 2019-02-04 02:05:00\n",
      "10 minutes gap between 2019-02-04 04:55:00 and 2019-02-04 05:05:00\n",
      "10 minutes gap between 2019-02-04 15:45:00 and 2019-02-04 15:55:00\n",
      "10 minutes gap between 2019-02-04 17:30:00 and 2019-02-04 17:40:00\n",
      "10 minutes gap between 2019-02-04 19:10:00 and 2019-02-04 19:20:00\n",
      "10 minutes gap between 2019-02-04 23:45:00 and 2019-02-04 23:55:00\n",
      "10 minutes gap between 2019-02-05 00:20:00 and 2019-02-05 00:30:00\n",
      "10 minutes gap between 2019-02-05 01:20:00 and 2019-02-05 01:30:00\n",
      "10 minutes gap between 2019-02-05 03:20:00 and 2019-02-05 03:30:00\n",
      "10 minutes gap between 2019-02-05 05:30:00 and 2019-02-05 05:40:00\n",
      "10 minutes gap between 2019-02-05 13:55:00 and 2019-02-05 14:05:00\n",
      "10 minutes gap between 2019-02-05 16:20:00 and 2019-02-05 16:30:00\n",
      "10 minutes gap between 2019-02-05 16:55:00 and 2019-02-05 17:05:00\n",
      "10 minutes gap between 2019-02-05 21:45:00 and 2019-02-05 21:55:00\n",
      "10 minutes gap between 2019-02-06 01:55:00 and 2019-02-06 02:05:00\n",
      "10 minutes gap between 2019-02-06 03:10:00 and 2019-02-06 03:20:00\n",
      "10 minutes gap between 2019-02-06 07:55:00 and 2019-02-06 08:05:00\n",
      "10 minutes gap between 2019-02-06 10:55:00 and 2019-02-06 11:05:00\n",
      "10 minutes gap between 2019-02-06 12:10:00 and 2019-02-06 12:20:00\n",
      "10 minutes gap between 2019-02-06 13:55:00 and 2019-02-06 14:05:00\n",
      "10 minutes gap between 2019-02-06 16:55:00 and 2019-02-06 17:05:00\n",
      "10 minutes gap between 2019-02-06 21:30:00 and 2019-02-06 21:40:00\n",
      "10 minutes gap between 2019-02-06 22:10:00 and 2019-02-06 22:20:00\n",
      "10 minutes gap between 2019-02-07 03:20:00 and 2019-02-07 03:30:00\n",
      "10 minutes gap between 2019-02-07 04:20:00 and 2019-02-07 04:30:00\n",
      "10 minutes gap between 2019-02-07 05:50:00 and 2019-02-07 06:00:00\n"
     ]
    },
    {
     "name": "stdout",
     "output_type": "stream",
     "text": [
      "10 minutes gap between 2019-02-07 09:10:00 and 2019-02-07 09:20:00\n",
      "10 minutes gap between 2019-02-07 17:10:00 and 2019-02-07 17:20:00\n",
      "10 minutes gap between 2019-02-08 00:20:00 and 2019-02-08 00:30:00\n",
      "10 minutes gap between 2019-02-08 00:45:00 and 2019-02-08 00:55:00\n",
      "10 minutes gap between 2019-02-08 04:10:00 and 2019-02-08 04:20:00\n",
      "10 minutes gap between 2019-02-08 13:55:00 and 2019-02-08 14:05:00\n",
      "10 minutes gap between 2019-02-08 16:30:00 and 2019-02-08 16:40:00\n",
      "10 minutes gap between 2019-02-08 21:30:00 and 2019-02-08 21:40:00\n",
      "130 minutes gap between 2019-02-08 23:05:00 and 2019-02-09 01:15:00\n",
      "65 minutes gap between 2019-02-09 01:30:00 and 2019-02-09 02:35:00\n",
      "10 minutes gap between 2019-02-09 06:10:00 and 2019-02-09 06:20:00\n",
      "10 minutes gap between 2019-02-09 10:55:00 and 2019-02-09 11:05:00\n",
      "10 minutes gap between 2019-02-09 11:10:00 and 2019-02-09 11:20:00\n",
      "10 minutes gap between 2019-02-09 17:40:00 and 2019-02-09 17:50:00\n",
      "10 minutes gap between 2019-02-09 18:10:00 and 2019-02-09 18:20:00\n",
      "10 minutes gap between 2019-02-09 22:45:00 and 2019-02-09 22:55:00\n",
      "10 minutes gap between 2019-02-10 01:50:00 and 2019-02-10 02:00:00\n",
      "10 minutes gap between 2019-02-10 04:45:00 and 2019-02-10 04:55:00\n",
      "10 minutes gap between 2019-02-10 09:10:00 and 2019-02-10 09:20:00\n",
      "10 minutes gap between 2019-02-10 11:35:00 and 2019-02-10 11:45:00\n",
      "10 minutes gap between 2019-02-10 13:55:00 and 2019-02-10 14:05:00\n",
      "10 minutes gap between 2019-02-10 21:50:00 and 2019-02-10 22:00:00\n",
      "10 minutes gap between 2019-02-11 01:10:00 and 2019-02-11 01:20:00\n",
      "10 minutes gap between 2019-02-11 01:55:00 and 2019-02-11 02:05:00\n",
      "10 minutes gap between 2019-02-11 04:25:00 and 2019-02-11 04:35:00\n",
      "10 minutes gap between 2019-02-11 04:55:00 and 2019-02-11 05:05:00\n",
      "10 minutes gap between 2019-02-11 07:10:00 and 2019-02-11 07:20:00\n",
      "10 minutes gap between 2019-02-11 13:45:00 and 2019-02-11 13:55:00\n",
      "10 minutes gap between 2019-02-11 13:55:00 and 2019-02-11 14:05:00\n",
      "10 minutes gap between 2019-02-11 22:10:00 and 2019-02-11 22:20:00\n",
      "10 minutes gap between 2019-02-12 03:45:00 and 2019-02-12 03:55:00\n",
      "10 minutes gap between 2019-02-12 05:00:00 and 2019-02-12 05:10:00\n",
      "10 minutes gap between 2019-02-12 12:40:00 and 2019-02-12 12:50:00\n",
      "10 minutes gap between 2019-02-12 22:25:00 and 2019-02-12 22:35:00\n",
      "10 minutes gap between 2019-02-13 00:45:00 and 2019-02-13 00:55:00\n",
      "10 minutes gap between 2019-02-13 03:50:00 and 2019-02-13 04:00:00\n",
      "10 minutes gap between 2019-02-13 10:15:00 and 2019-02-13 10:25:00\n",
      "10 minutes gap between 2019-02-13 10:45:00 and 2019-02-13 10:55:00\n",
      "10 minutes gap between 2019-02-13 10:55:00 and 2019-02-13 11:05:00\n",
      "10 minutes gap between 2019-02-13 15:50:00 and 2019-02-13 16:00:00\n",
      "10 minutes gap between 2019-02-13 17:15:00 and 2019-02-13 17:25:00\n",
      "10 minutes gap between 2019-02-14 00:10:00 and 2019-02-14 00:20:00\n",
      "10 minutes gap between 2019-02-14 01:55:00 and 2019-02-14 02:05:00\n",
      "15 minutes gap between 2019-02-14 10:45:00 and 2019-02-14 11:00:00\n",
      "10 minutes gap between 2019-02-14 16:55:00 and 2019-02-14 17:05:00\n",
      "10 minutes gap between 2019-02-14 17:35:00 and 2019-02-14 17:45:00\n",
      "10 minutes gap between 2019-02-14 20:00:00 and 2019-02-14 20:10:00\n",
      "10 minutes gap between 2019-02-15 01:10:00 and 2019-02-15 01:20:00\n",
      "10 minutes gap between 2019-02-15 09:20:00 and 2019-02-15 09:30:00\n",
      "10 minutes gap between 2019-02-15 21:50:00 and 2019-02-15 22:00:00\n",
      "10 minutes gap between 2019-02-17 03:10:00 and 2019-02-17 03:20:00\n",
      "10 minutes gap between 2019-02-17 03:45:00 and 2019-02-17 03:55:00\n",
      "10 minutes gap between 2019-02-17 04:20:00 and 2019-02-17 04:30:00\n",
      "10 minutes gap between 2019-02-17 04:50:00 and 2019-02-17 05:00:00\n",
      "10 minutes gap between 2019-02-17 16:55:00 and 2019-02-17 17:05:00\n",
      "10 minutes gap between 2019-02-17 23:00:00 and 2019-02-17 23:10:00\n",
      "10 minutes gap between 2019-02-18 04:30:00 and 2019-02-18 04:40:00\n",
      "10 minutes gap between 2019-02-18 07:10:00 and 2019-02-18 07:20:00\n",
      "10 minutes gap between 2019-02-18 21:25:00 and 2019-02-18 21:35:00\n",
      "10 minutes gap between 2019-02-18 21:50:00 and 2019-02-18 22:00:00\n",
      "10 minutes gap between 2019-02-18 22:05:00 and 2019-02-18 22:15:00\n",
      "10 minutes gap between 2019-02-19 01:55:00 and 2019-02-19 02:05:00\n",
      "10 minutes gap between 2019-02-19 03:15:00 and 2019-02-19 03:25:00\n",
      "10 minutes gap between 2019-02-20 00:05:00 and 2019-02-20 00:15:00\n",
      "10 minutes gap between 2019-02-21 23:35:00 and 2019-02-21 23:45:00\n",
      "10 minutes gap between 2019-02-22 22:35:00 and 2019-02-22 22:45:00\n",
      "10 minutes gap between 2019-02-22 23:15:00 and 2019-02-22 23:25:00\n",
      "10 minutes gap between 2019-02-22 23:30:00 and 2019-02-22 23:40:00\n",
      "10 minutes gap between 2019-02-23 05:35:00 and 2019-02-23 05:45:00\n",
      "10 minutes gap between 2019-02-24 23:05:00 and 2019-02-24 23:15:00\n",
      "10 minutes gap between 2019-02-24 23:20:00 and 2019-02-24 23:30:00\n",
      "10 minutes gap between 2019-02-24 23:30:00 and 2019-02-24 23:40:00\n",
      "10 minutes gap between 2019-02-25 23:10:00 and 2019-02-25 23:20:00\n",
      "10 minutes gap between 2019-02-25 23:30:00 and 2019-02-25 23:40:00\n",
      "10 minutes gap between 2019-03-28 23:55:00 and 2019-03-29 00:05:00\n",
      "10 minutes gap between 2019-03-29 20:45:00 and 2019-03-29 20:55:00\n",
      "10 minutes gap between 2019-03-30 19:20:00 and 2019-03-30 19:30:00\n",
      "50 minutes gap between 2019-03-31 18:55:00 and 2019-03-31 19:45:00\n",
      "10 minutes gap between 2019-03-31 19:45:00 and 2019-03-31 19:55:00\n",
      "15 minutes gap between 2019-04-08 21:05:00 and 2019-04-08 21:20:00\n",
      "75 minutes gap between 2019-04-30 18:05:00 and 2019-04-30 19:20:00\n",
      "10 minutes gap between 2019-04-30 20:30:00 and 2019-04-30 20:40:00\n",
      "390 minutes gap between 2019-05-27 22:55:00 and 2019-05-28 05:25:00\n",
      "75 minutes gap between 2019-07-09 08:30:00 and 2019-07-09 09:45:00\n",
      "30 minutes gap between 2019-07-27 17:30:00 and 2019-07-27 18:00:00\n",
      "10 minutes gap between 2019-09-17 06:50:00 and 2019-09-17 07:00:00\n",
      "30 minutes gap between 2019-09-17 08:50:00 and 2019-09-17 09:20:00\n",
      "10 minutes gap between 2019-09-20 20:40:00 and 2019-09-20 20:50:00\n",
      "1055 minutes gap between 2019-09-30 08:00:00 and 2019-10-01 01:35:00\n",
      "715 minutes gap between 2019-10-01 08:00:00 and 2019-10-01 19:55:00\n",
      "715 minutes gap between 2019-10-02 08:00:00 and 2019-10-02 19:55:00\n",
      "15 minutes gap between 2019-10-14 06:55:00 and 2019-10-14 07:10:00\n",
      "10 minutes gap between 2019-11-20 17:50:00 and 2019-11-20 18:00:00\n",
      "10 minutes gap between 2019-11-20 18:00:00 and 2019-11-20 18:10:00\n",
      "10 minutes gap between 2019-11-20 18:10:00 and 2019-11-20 18:20:00\n",
      "10 minutes gap between 2019-11-20 20:10:00 and 2019-11-20 20:20:00\n",
      "10 minutes gap between 2019-11-20 20:20:00 and 2019-11-20 20:30:00\n",
      "10 minutes gap between 2019-11-20 20:30:00 and 2019-11-20 20:40:00\n",
      "10 minutes gap between 2019-11-20 20:40:00 and 2019-11-20 20:50:00\n",
      "10 minutes gap between 2019-11-20 20:50:00 and 2019-11-20 21:00:00\n",
      "10 minutes gap between 2019-11-20 21:00:00 and 2019-11-20 21:10:00\n",
      "10 minutes gap between 2019-11-20 21:10:00 and 2019-11-20 21:20:00\n",
      "75 minutes gap between 2019-12-27 13:45:00 and 2019-12-27 15:00:00\n",
      "630 minutes gap between 2020-05-25 21:15:00 and 2020-05-26 07:45:00\n",
      "90 minutes gap between 2020-07-02 15:50:00 and 2020-07-02 17:20:00\n",
      "40 minutes gap between 2020-07-16 04:25:00 and 2020-07-16 05:05:00\n",
      "10 minutes gap between 2020-08-22 05:30:00 and 2020-08-22 05:40:00\n",
      "10 minutes gap between 2020-08-22 07:05:00 and 2020-08-22 07:15:00\n",
      "30 minutes gap between 2020-08-25 21:25:00 and 2020-08-25 21:55:00\n",
      "10 minutes gap between 2020-08-25 21:55:00 and 2020-08-25 22:05:00\n",
      "10 minutes gap between 2020-08-25 22:55:00 and 2020-08-25 23:05:00\n",
      "10 minutes gap between 2020-08-25 23:15:00 and 2020-08-25 23:25:00\n",
      "15 minutes gap between 2020-08-25 23:25:00 and 2020-08-25 23:40:00\n",
      "10 minutes gap between 2020-08-26 02:05:00 and 2020-08-26 02:15:00\n",
      "10 minutes gap between 2020-08-26 02:25:00 and 2020-08-26 02:35:00\n",
      "10 minutes gap between 2020-08-26 02:45:00 and 2020-08-26 02:55:00\n",
      "10 minutes gap between 2020-08-26 02:55:00 and 2020-08-26 03:05:00\n",
      "10 minutes gap between 2020-08-26 20:25:00 and 2020-08-26 20:35:00\n",
      "15 minutes gap between 2020-12-17 07:25:00 and 2020-12-17 07:40:00\n",
      "There are 375 gaps in the data\n",
      "Missing 1657 out of the 229336 radar scans (0.01%)\n",
      "From 2018-12-19 08:00:00 till 2021-02-22 08:00:00\n"
     ]
    }
   ],
   "source": [
    "gaps=[]\n",
    "for i in range(0,len(radar_scans)-1):\n",
    "    # check if tim\n",
    "    gap_size = gap_between(radar_scans[i],radar_scans[i+1])\n",
    "    if  gap_size != 0:\n",
    "        gaps.append([radar_scans[i], radar_scans[i+1], gap_size])\n",
    "gaps=np.array(gaps)\n",
    "print('There are {} gaps in the data'.format(len(gaps)))  \n",
    "nr_missing_scans=int(sum(map(float, gaps[:,2])))\n",
    "total_scans = (len(radar_scans) + nr_missing_scans)\n",
    "perc_missing = nr_missing_scans/total_scans\n",
    "print('Missing {} out of the {} radar scans ({:.2f}%)'.format(nr_missing_scans, total_scans, perc_missing))\n",
    "print('From {} till {}'.format(get_datetime(radar_scans[0]), get_datetime(radar_scans[-1])))"
   ]
  },
  {
   "cell_type": "markdown",
   "metadata": {},
   "source": [
    "## Open the H5 files"
   ]
  },
  {
   "cell_type": "code",
   "execution_count": 79,
   "metadata": {},
   "outputs": [
    {
     "name": "stdout",
     "output_type": "stream",
     "text": [
      "103989\n",
      "Rainy pixels (>0.3mm): 0\n",
      "No rain: True\n",
      "103989\n",
      "Rainy pixels (>0.3mm): 0\n",
      "No rain: True\n",
      "103989\n",
      "Rainy pixels (>0.3mm): 3\n",
      "No rain: False\n"
     ]
    },
    {
     "data": {
      "image/png": "[encoded data removed]",
      "text/plain": [
       "<Figure size 432x288 with 3 Axes>"
      ]
     },
     "metadata": {
      "needs_background": "light"
     },
     "output_type": "display_data"
    }
   ],
   "source": [
    "# plot 3 images with interval of 3 (=15m) between them\n",
    "fig = plt.figure()\n",
    "for i in range(0,9,3):\n",
    "    path_file = path_ds  + '/' + radar_scans[288*50+i]\n",
    "\n",
    "\n",
    "    with h5py.File(path_file, 'r') as h5f:\n",
    "        radar_img = h5f['image1']['image_data'][:]\n",
    "\n",
    "        # Plot the radar image\n",
    "        # Set the masked pixel to 0 so that difference between pixel values can be better seen\n",
    "        print(len(radar_img[radar_img==65535]))\n",
    "        radar_img[radar_img==65535] = 0\n",
    "       # radar_img[radar_img==65535] = 0\n",
    "        nr_rainy_pixels = np.sum(radar_img >= 30)\n",
    "        print('Rainy pixels (>0.3mm):', nr_rainy_pixels)\n",
    "        print('No rain:', nr_rainy_pixels == 0)\n",
    "        plt.subplot(1, 3, i/3 +1)\n",
    "        plt.imshow(radar_img)\n",
    "        plt.axis('off')"
   ]
  },
  {
   "cell_type": "markdown",
   "metadata": {},
   "source": [
    "## Convert data to numpy arrays\n",
    "\n",
    "Convert h5 files to dataframe. The dataframe has three columns: timestamp, radar image data and the mask image data."
   ]
  },
  {
   "cell_type": "code",
   "execution_count": 3,
   "metadata": {},
   "outputs": [],
   "source": [
    "def load_h5(file_path):\n",
    "    radar_img = None\n",
    "    with h5py.File(file_path, 'r') as f:\n",
    "        try:\n",
    "            radar_img = f['image1']['image_data'][:]\n",
    "            \n",
    "            ## Set pixels out of image to 0\n",
    "            out_of_image = f['image1']['calibration'].attrs['calibration_out_of_image']\n",
    "            radar_img[radar_img == out_of_image] = 0\n",
    "            # Sometimes 255 or other number (244) is used for the calibration\n",
    "            # for out of image values, so also check the first pixel\n",
    "            radar_img[radar_img == radar_img[0][0]] = 0\n",
    "            \n",
    "        except:\n",
    "            print(\"Error: could not read image1 data, file {}\".format(file_path))\n",
    "    return radar_img\n",
    "\n",
    "def filter_clutter(img, threshold=30):\n",
    "    '''\n",
    "    Removes isolated pixels. Pixel is isolated if it has rain but no rainy neighbours.\n",
    "    img: image to be preprocessed\n",
    "    threshold: threshold for rain no rain, default is 0.3mm (30)\n",
    "    '''\n",
    "    rainy = (img > threshold).astype('uint8')\n",
    "    # Set pixels below threshold to 0\n",
    "    preprocessed = img*rainy\n",
    "    \n",
    "    # Create kernel that checks if pixel has no rainy neighbours\n",
    "    kernel_size=3\n",
    "    kernel = -np.ones((kernel_size,kernel_size))\n",
    "    kernel[1,1] = 1\n",
    "    \n",
    "    # Move kernel over image\n",
    "    isolated_pixels = cv2.morphologyEx(rainy, cv2.MORPH_HITMISS, kernel)\n",
    "    # Remove isolated pixels \n",
    "    output = preprocessed * np.logical_not(isolated_pixels)\n",
    "    \n",
    "    return output\n",
    "\n",
    "def rtcor2npy(in_dir, out_dir, year=None, label_dir=None, remove_clutter=False, preprocess = False, overwrite=False, filenames = None):\n",
    "    '''\n",
    "    Preprocess the h5 file into numpy arrays. \n",
    "    The timestamp, image1 and image2 data of each file is stored\n",
    "    '''\n",
    "    \n",
    "    add_file_extension = ''\n",
    "    prefix = ''\n",
    "    if filenames is not None:\n",
    "        out_dir = config.dir_rtcor_prep\n",
    "        # Add file extension to filename\n",
    "        # Add a prefix to filename\n",
    "        add_file_extension = '.h5'\n",
    "        prefix = config.prefix_rtcor\n",
    "    else:\n",
    "        d = in_dir + str(year)\n",
    "        filenames = []\n",
    "        for m in os.listdir(d):\n",
    "            dir_m = os.path.join(d, m)\n",
    "            if os.path.isdir(dir_m): \n",
    "                for f in os.listdir(dir_m):\n",
    "                    if f.endswith('.h5') and f.startswith(config.prefix_rtcor + str(year)):\n",
    "                        filenames.append(f)\n",
    "        filenames = sorted(filenames)   \n",
    "  \n",
    "        \n",
    "    # Create directory if it does not exist\n",
    "    if not os.path.exists(out_dir):\n",
    "        os.makedirs(out_dir)\n",
    "    if label_dir and not os.path.exists(label_dir):\n",
    "        os.makedirs(label_dir)\n",
    "        \n",
    "    # Pattern for detecting timestamp in filename\n",
    "    regex_file = re.compile('(\\d{12})\\.h5')\n",
    "\n",
    "    for filename in tqdm(filenames):\n",
    "        filename = filename + add_file_extension\n",
    "        \n",
    "        timestamp = regex_file.findall(filename)[0]\n",
    "        scan_fn = out_dir + '/' + \"{}.npy\".format(timestamp)\n",
    "        year = timestamp[0:4]\n",
    "        month = timestamp[4:6] \n",
    "        path_scan = in_dir + str(year) + '/' + month + '/' + prefix + filename \n",
    "        \n",
    "        \n",
    "        if not overwrite and timestamp +'.npy' in output_files:\n",
    "            # Skip this file if already processed,\n",
    "            # go to next file in list\n",
    "            continue\n",
    "        try:\n",
    "            radar_img = load_h5(path_scan)     \n",
    "            if remove_clutter:\n",
    "                radar_img = filter_clutter(radar_img)\n",
    "            if preprocess:\n",
    "                radar_img = perform_preprocessing(radar_img)\n",
    "            np.save(scan_fn, radar_img) \n",
    "            \n",
    "            if label_dir:\n",
    "                nr_rainy_pixels = np.sum(radar_img >= 30)\n",
    "                no_rain_label = nr_rainy_pixels  == 0\n",
    "                label_fn = label_dir + '/{}.npy'.format(timestamp)\n",
    "                np.save(label_fn, no_rain_label)\n",
    "        except Exception as e:\n",
    "            radar_data = np.zeros((765,700))\n",
    "            if preprocess:\n",
    "                radar_data = np.zeros((256,256,1))\n",
    "            print(e)\n",
    "            np.save(scan_fn, radar_data)    \n",
    "            if label_dir:\n",
    "                no_rain_label = True\n",
    "                label_fn = label_dir + '/{}.npy'.format(timestamp)\n",
    "                np.save(label_fn, no_rain_label)     \n",
    "\n",
    "from batchcreator import minmax\n",
    "from batchcreator import DataGenerator as dg\n",
    "import tensorflow as tf\n",
    "\n",
    "def perform_preprocessing(x, downscale256=True):\n",
    "    x = minmax(x, tanh=False, undo=False, convert_to_dbz = True)\n",
    "    x = np.expand_dims(x, axis=-1)\n",
    "    if downscale256:\n",
    "        # First make the images square size\n",
    "        x = dg.pad_along_axis(dg, x, axis=0, pad_size=3)\n",
    "        x = dg.pad_along_axis(dg, x, axis=1, pad_size=68)          \n",
    "        x =  tf.image.resize(x, (256, 256))\n",
    "    return x"
   ]
  },
  {
   "cell_type": "code",
   "execution_count": 5,
   "metadata": {},
   "outputs": [
    {
     "name": "stdout",
     "output_type": "stream",
     "text": [
      "29301\n",
      "Approx 0.28 years of data\n"
     ]
    }
   ],
   "source": [
    "# Get files that are already converted to numpy\n",
    "output_files = sorted([f for f in os.listdir(config.dir_rtcor_prep) \n",
    "                       if os.path.isfile(os.path.join(config.dir_rtcor_prep, f))])\n",
    "\n",
    "print(len(output_files))\n",
    "print('Approx {:.2f} years of data'.format(len(output_files)/288/365))"
   ]
  },
  {
   "cell_type": "code",
   "execution_count": 7,
   "metadata": {},
   "outputs": [
    {
     "name": "stderr",
     "output_type": "stream",
     "text": [
      "100%|██████████| 28536/28536 [00:05<00:00, 5333.10it/s] \n"
     ]
    }
   ],
   "source": [
    "# Load all target files in the training set\n",
    "fn_rtcor_train = np.load('train2015_2018.npy', allow_pickle = True)[:,0]\n",
    "fn_rtcor_val = np.load('val2019.npy', allow_pickle = True)[:,0]\n",
    "\n",
    "filenames_rtcor= np.append(fn_rtcor_train, fn_rtcor_val)\n",
    "# flatten the array\n",
    "filenames_rtcor = [item for sublist in filenames_rtcor for item in sublist]\n",
    "rtcor2npy(config.dir_rtcor, config.dir_rtcor_prep, overwrite = False, preprocess = True, filenames = filenames_rtcor)"
   ]
  },
  {
   "cell_type": "code",
   "execution_count": 8,
   "metadata": {},
   "outputs": [
    {
     "name": "stderr",
     "output_type": "stream",
     "text": [
      "100%|██████████| 4756/4756 [00:00<00:00, 5308.58it/s] \n"
     ]
    }
   ],
   "source": [
    "# Also preprocess the target data of rtcor\n",
    "# This is done so can test performance of rtcor -> rtcor predictions\n",
    "fn_rtcor_train = np.load('train2015_2018.npy', allow_pickle = True)[:,1]\n",
    "fn_rtcor_val = np.load('val2019.npy', allow_pickle = True)[:,1]\n",
    "filenames_rtcor= np.append(fn_rtcor_train, fn_rtcor_val)\n",
    "# flatten the array\n",
    "filenames_rtcor = [item for sublist in filenames_rtcor for item in sublist]\n",
    "rtcor2npy(config.dir_rtcor, config.dir_rtcor_prep, overwrite = False, preprocess = True, filenames = filenames_rtcor)"
   ]
  },
  {
   "cell_type": "markdown",
   "metadata": {},
   "source": [
    "Preprocess additional data"
   ]
  },
  {
   "cell_type": "code",
   "execution_count": 9,
   "metadata": {
    "collapsed": true
   },
   "outputs": [
    {
     "name": "stdout",
     "output_type": "stream",
     "text": [
      "[Errno 2] No such file or directory: '/nobackup_1/users/schreurs/project_GAN/rtcor_heavy_rain_labels/2013/12/201312312330.npy'\n",
      "[Errno 2] No such file or directory: '/nobackup_1/users/schreurs/project_GAN/rtcor_heavy_rain_labels/2014/03/201403130850.npy'\n",
      "[Errno 2] No such file or directory: '/nobackup_1/users/schreurs/project_GAN/rtcor_heavy_rain_labels/2014/03/201403181535.npy'\n",
      "[Errno 2] No such file or directory: '/nobackup_1/users/schreurs/project_GAN/rtcor_heavy_rain_labels/2014/03/201403312015.npy'\n",
      "[Errno 2] No such file or directory: '/nobackup_1/users/schreurs/project_GAN/rtcor_heavy_rain_labels/2014/04/201404041425.npy'\n",
      "[Errno 2] No such file or directory: '/nobackup_1/users/schreurs/project_GAN/rtcor_heavy_rain_labels/2014/04/201404221415.npy'\n",
      "[Errno 2] No such file or directory: '/nobackup_1/users/schreurs/project_GAN/rtcor_heavy_rain_labels/2014/05/201405200000.npy'\n",
      "[Errno 2] No such file or directory: '/nobackup_1/users/schreurs/project_GAN/rtcor_heavy_rain_labels/2014/05/201405200030.npy'\n",
      "[Errno 2] No such file or directory: '/nobackup_1/users/schreurs/project_GAN/rtcor_heavy_rain_labels/2014/05/201405200100.npy'\n",
      "[Errno 2] No such file or directory: '/nobackup_1/users/schreurs/project_GAN/rtcor_heavy_rain_labels/2014/05/201405200130.npy'\n",
      "[Errno 2] No such file or directory: '/nobackup_1/users/schreurs/project_GAN/rtcor_heavy_rain_labels/2014/05/201405200200.npy'\n",
      "[Errno 2] No such file or directory: '/nobackup_1/users/schreurs/project_GAN/rtcor_heavy_rain_labels/2014/05/201405200230.npy'\n",
      "[Errno 2] No such file or directory: '/nobackup_1/users/schreurs/project_GAN/rtcor_heavy_rain_labels/2014/05/201405200300.npy'\n",
      "[Errno 2] No such file or directory: '/nobackup_1/users/schreurs/project_GAN/rtcor_heavy_rain_labels/2014/05/201405200330.npy'\n",
      "[Errno 2] No such file or directory: '/nobackup_1/users/schreurs/project_GAN/rtcor_heavy_rain_labels/2014/05/201405200400.npy'\n",
      "[Errno 2] No such file or directory: '/nobackup_1/users/schreurs/project_GAN/rtcor_heavy_rain_labels/2014/05/201405200430.npy'\n",
      "[Errno 2] No such file or directory: '/nobackup_1/users/schreurs/project_GAN/rtcor_heavy_rain_labels/2014/05/201405200500.npy'\n",
      "[Errno 2] No such file or directory: '/nobackup_1/users/schreurs/project_GAN/rtcor_heavy_rain_labels/2014/05/201405200530.npy'\n",
      "[Errno 2] No such file or directory: '/nobackup_1/users/schreurs/project_GAN/rtcor_heavy_rain_labels/2014/05/201405200600.npy'\n",
      "[Errno 2] No such file or directory: '/nobackup_1/users/schreurs/project_GAN/rtcor_heavy_rain_labels/2014/05/201405200630.npy'\n",
      "[Errno 2] No such file or directory: '/nobackup_1/users/schreurs/project_GAN/rtcor_heavy_rain_labels/2014/05/201405200700.npy'\n",
      "[Errno 2] No such file or directory: '/nobackup_1/users/schreurs/project_GAN/rtcor_heavy_rain_labels/2014/05/201405200730.npy'\n",
      "[Errno 2] No such file or directory: '/nobackup_1/users/schreurs/project_GAN/rtcor_heavy_rain_labels/2014/05/201405200800.npy'\n",
      "[Errno 2] No such file or directory: '/nobackup_1/users/schreurs/project_GAN/rtcor_heavy_rain_labels/2014/05/201405200830.npy'\n",
      "[Errno 2] No such file or directory: '/nobackup_1/users/schreurs/project_GAN/rtcor_heavy_rain_labels/2014/05/201405200900.npy'\n",
      "[Errno 2] No such file or directory: '/nobackup_1/users/schreurs/project_GAN/rtcor_heavy_rain_labels/2014/05/201405200930.npy'\n",
      "[Errno 2] No such file or directory: '/nobackup_1/users/schreurs/project_GAN/rtcor_heavy_rain_labels/2014/05/201405201000.npy'\n",
      "[Errno 2] No such file or directory: '/nobackup_1/users/schreurs/project_GAN/rtcor_heavy_rain_labels/2014/05/201405201030.npy'\n",
      "[Errno 2] No such file or directory: '/nobackup_1/users/schreurs/project_GAN/rtcor_heavy_rain_labels/2014/05/201405201100.npy'\n",
      "[Errno 2] No such file or directory: '/nobackup_1/users/schreurs/project_GAN/rtcor_heavy_rain_labels/2014/05/201405201130.npy'\n",
      "[Errno 2] No such file or directory: '/nobackup_1/users/schreurs/project_GAN/rtcor_heavy_rain_labels/2014/05/201405201200.npy'\n",
      "[Errno 2] No such file or directory: '/nobackup_1/users/schreurs/project_GAN/rtcor_heavy_rain_labels/2014/05/201405201230.npy'\n",
      "[Errno 2] No such file or directory: '/nobackup_1/users/schreurs/project_GAN/rtcor_heavy_rain_labels/2014/05/201405201300.npy'\n",
      "[Errno 2] No such file or directory: '/nobackup_1/users/schreurs/project_GAN/rtcor_heavy_rain_labels/2014/05/201405201330.npy'\n",
      "[Errno 2] No such file or directory: '/nobackup_1/users/schreurs/project_GAN/rtcor_heavy_rain_labels/2014/05/201405201400.npy'\n",
      "[Errno 2] No such file or directory: '/nobackup_1/users/schreurs/project_GAN/rtcor_heavy_rain_labels/2014/05/201405201430.npy'\n",
      "[Errno 2] No such file or directory: '/nobackup_1/users/schreurs/project_GAN/rtcor_heavy_rain_labels/2014/05/201405201500.npy'\n",
      "[Errno 2] No such file or directory: '/nobackup_1/users/schreurs/project_GAN/rtcor_heavy_rain_labels/2014/05/201405201530.npy'\n",
      "[Errno 2] No such file or directory: '/nobackup_1/users/schreurs/project_GAN/rtcor_heavy_rain_labels/2014/05/201405201600.npy'\n",
      "[Errno 2] No such file or directory: '/nobackup_1/users/schreurs/project_GAN/rtcor_heavy_rain_labels/2014/05/201405201630.npy'\n",
      "[Errno 2] No such file or directory: '/nobackup_1/users/schreurs/project_GAN/rtcor_heavy_rain_labels/2014/05/201405201700.npy'\n",
      "[Errno 2] No such file or directory: '/nobackup_1/users/schreurs/project_GAN/rtcor_heavy_rain_labels/2014/05/201405201730.npy'\n",
      "[Errno 2] No such file or directory: '/nobackup_1/users/schreurs/project_GAN/rtcor_heavy_rain_labels/2014/05/201405201800.npy'\n",
      "[Errno 2] No such file or directory: '/nobackup_1/users/schreurs/project_GAN/rtcor_heavy_rain_labels/2014/05/201405201830.npy'\n",
      "[Errno 2] No such file or directory: '/nobackup_1/users/schreurs/project_GAN/rtcor_heavy_rain_labels/2014/05/201405201900.npy'\n",
      "[Errno 2] No such file or directory: '/nobackup_1/users/schreurs/project_GAN/rtcor_heavy_rain_labels/2014/05/201405201930.npy'\n",
      "[Errno 2] No such file or directory: '/nobackup_1/users/schreurs/project_GAN/rtcor_heavy_rain_labels/2014/05/201405202000.npy'\n",
      "[Errno 2] No such file or directory: '/nobackup_1/users/schreurs/project_GAN/rtcor_heavy_rain_labels/2014/05/201405202030.npy'\n",
      "[Errno 2] No such file or directory: '/nobackup_1/users/schreurs/project_GAN/rtcor_heavy_rain_labels/2014/05/201405202100.npy'\n",
      "[Errno 2] No such file or directory: '/nobackup_1/users/schreurs/project_GAN/rtcor_heavy_rain_labels/2014/05/201405202130.npy'\n",
      "[Errno 2] No such file or directory: '/nobackup_1/users/schreurs/project_GAN/rtcor_heavy_rain_labels/2014/05/201405202200.npy'\n",
      "[Errno 2] No such file or directory: '/nobackup_1/users/schreurs/project_GAN/rtcor_heavy_rain_labels/2014/05/201405202230.npy'\n",
      "[Errno 2] No such file or directory: '/nobackup_1/users/schreurs/project_GAN/rtcor_heavy_rain_labels/2014/05/201405202300.npy'\n",
      "[Errno 2] No such file or directory: '/nobackup_1/users/schreurs/project_GAN/rtcor_heavy_rain_labels/2014/05/201405202330.npy'\n",
      "[Errno 2] No such file or directory: '/nobackup_1/users/schreurs/project_GAN/rtcor_heavy_rain_labels/2014/06/201406172315.npy'\n",
      "[Errno 2] No such file or directory: '/nobackup_1/users/schreurs/project_GAN/rtcor_heavy_rain_labels/2014/06/201406172330.npy'\n",
      "[Errno 2] No such file or directory: '/nobackup_1/users/schreurs/project_GAN/rtcor_heavy_rain_labels/2014/07/201407180625.npy'\n",
      "[Errno 2] No such file or directory: '/nobackup_1/users/schreurs/project_GAN/rtcor_heavy_rain_labels/2014/08/201408071140.npy'\n",
      "[Errno 2] No such file or directory: '/nobackup_1/users/schreurs/project_GAN/rtcor_heavy_rain_labels/2014/08/201408121330.npy'\n",
      "[Errno 2] No such file or directory: '/nobackup_1/users/schreurs/project_GAN/rtcor_heavy_rain_labels/2014/08/201408261330.npy'\n",
      "[Errno 2] No such file or directory: '/nobackup_1/users/schreurs/project_GAN/rtcor_heavy_rain_labels/2014/08/201408261410.npy'\n",
      "[Errno 2] No such file or directory: '/nobackup_1/users/schreurs/project_GAN/rtcor_heavy_rain_labels/2014/08/201408270840.npy'\n",
      "[Errno 2] No such file or directory: '/nobackup_1/users/schreurs/project_GAN/rtcor_heavy_rain_labels/2014/09/201409160910.npy'\n",
      "[Errno 2] No such file or directory: '/nobackup_1/users/schreurs/project_GAN/rtcor_heavy_rain_labels/2014/09/201409161025.npy'\n",
      "[Errno 2] No such file or directory: '/nobackup_1/users/schreurs/project_GAN/rtcor_heavy_rain_labels/2014/09/201409161030.npy'\n",
      "[Errno 2] No such file or directory: '/nobackup_1/users/schreurs/project_GAN/rtcor_heavy_rain_labels/2014/09/201409170955.npy'\n"
     ]
    },
    {
     "name": "stdout",
     "output_type": "stream",
     "text": [
      "[Errno 2] No such file or directory: '/nobackup_1/users/schreurs/project_GAN/rtcor_heavy_rain_labels/2014/10/201410112025.npy'\n",
      "[Errno 2] No such file or directory: '/nobackup_1/users/schreurs/project_GAN/rtcor_heavy_rain_labels/2014/10/201410200545.npy'\n",
      "[Errno 2] No such file or directory: '/nobackup_1/users/schreurs/project_GAN/rtcor_heavy_rain_labels/2014/10/201410220720.npy'\n",
      "[Errno 2] No such file or directory: '/nobackup_1/users/schreurs/project_GAN/rtcor_heavy_rain_labels/2014/10/201410220940.npy'\n",
      "[Errno 2] No such file or directory: '/nobackup_1/users/schreurs/project_GAN/rtcor_heavy_rain_labels/2014/10/201410270850.npy'\n",
      "[Errno 2] No such file or directory: '/nobackup_1/users/schreurs/project_GAN/rtcor_heavy_rain_labels/2014/12/201412020000.npy'\n",
      "[Errno 2] No such file or directory: '/nobackup_1/users/schreurs/project_GAN/rtcor_heavy_rain_labels/2014/12/201412020030.npy'\n",
      "[Errno 2] No such file or directory: '/nobackup_1/users/schreurs/project_GAN/rtcor_heavy_rain_labels/2014/12/201412020100.npy'\n",
      "[Errno 2] No such file or directory: '/nobackup_1/users/schreurs/project_GAN/rtcor_heavy_rain_labels/2014/12/201412020130.npy'\n",
      "[Errno 2] No such file or directory: '/nobackup_1/users/schreurs/project_GAN/rtcor_heavy_rain_labels/2014/12/201412020200.npy'\n",
      "[Errno 2] No such file or directory: '/nobackup_1/users/schreurs/project_GAN/rtcor_heavy_rain_labels/2014/12/201412020230.npy'\n",
      "[Errno 2] No such file or directory: '/nobackup_1/users/schreurs/project_GAN/rtcor_heavy_rain_labels/2014/12/201412020300.npy'\n",
      "[Errno 2] No such file or directory: '/nobackup_1/users/schreurs/project_GAN/rtcor_heavy_rain_labels/2014/12/201412020330.npy'\n",
      "[Errno 2] No such file or directory: '/nobackup_1/users/schreurs/project_GAN/rtcor_heavy_rain_labels/2014/12/201412020400.npy'\n",
      "[Errno 2] No such file or directory: '/nobackup_1/users/schreurs/project_GAN/rtcor_heavy_rain_labels/2014/12/201412020430.npy'\n",
      "[Errno 2] No such file or directory: '/nobackup_1/users/schreurs/project_GAN/rtcor_heavy_rain_labels/2014/12/201412020500.npy'\n",
      "[Errno 2] No such file or directory: '/nobackup_1/users/schreurs/project_GAN/rtcor_heavy_rain_labels/2014/12/201412020530.npy'\n",
      "[Errno 2] No such file or directory: '/nobackup_1/users/schreurs/project_GAN/rtcor_heavy_rain_labels/2014/12/201412020600.npy'\n",
      "[Errno 2] No such file or directory: '/nobackup_1/users/schreurs/project_GAN/rtcor_heavy_rain_labels/2014/12/201412020630.npy'\n",
      "[Errno 2] No such file or directory: '/nobackup_1/users/schreurs/project_GAN/rtcor_heavy_rain_labels/2014/12/201412020700.npy'\n",
      "[Errno 2] No such file or directory: '/nobackup_1/users/schreurs/project_GAN/rtcor_heavy_rain_labels/2014/12/201412020730.npy'\n",
      "[Errno 2] No such file or directory: '/nobackup_1/users/schreurs/project_GAN/rtcor_heavy_rain_labels/2014/12/201412020800.npy'\n",
      "[Errno 2] No such file or directory: '/nobackup_1/users/schreurs/project_GAN/rtcor_heavy_rain_labels/2014/12/201412020830.npy'\n",
      "[Errno 2] No such file or directory: '/nobackup_1/users/schreurs/project_GAN/rtcor_heavy_rain_labels/2014/12/201412020900.npy'\n",
      "[Errno 2] No such file or directory: '/nobackup_1/users/schreurs/project_GAN/rtcor_heavy_rain_labels/2014/12/201412020930.npy'\n",
      "[Errno 2] No such file or directory: '/nobackup_1/users/schreurs/project_GAN/rtcor_heavy_rain_labels/2014/12/201412021000.npy'\n",
      "[Errno 2] No such file or directory: '/nobackup_1/users/schreurs/project_GAN/rtcor_heavy_rain_labels/2014/12/201412021030.npy'\n",
      "[Errno 2] No such file or directory: '/nobackup_1/users/schreurs/project_GAN/rtcor_heavy_rain_labels/2014/12/201412021100.npy'\n",
      "[Errno 2] No such file or directory: '/nobackup_1/users/schreurs/project_GAN/rtcor_heavy_rain_labels/2014/12/201412021130.npy'\n",
      "[Errno 2] No such file or directory: '/nobackup_1/users/schreurs/project_GAN/rtcor_heavy_rain_labels/2014/12/201412021200.npy'\n",
      "[Errno 2] No such file or directory: '/nobackup_1/users/schreurs/project_GAN/rtcor_heavy_rain_labels/2014/12/201412021230.npy'\n",
      "[Errno 2] No such file or directory: '/nobackup_1/users/schreurs/project_GAN/rtcor_heavy_rain_labels/2014/12/201412021300.npy'\n",
      "[Errno 2] No such file or directory: '/nobackup_1/users/schreurs/project_GAN/rtcor_heavy_rain_labels/2014/12/201412021330.npy'\n",
      "[Errno 2] No such file or directory: '/nobackup_1/users/schreurs/project_GAN/rtcor_heavy_rain_labels/2014/12/201412021400.npy'\n",
      "[Errno 2] No such file or directory: '/nobackup_1/users/schreurs/project_GAN/rtcor_heavy_rain_labels/2014/12/201412021430.npy'\n",
      "[Errno 2] No such file or directory: '/nobackup_1/users/schreurs/project_GAN/rtcor_heavy_rain_labels/2014/12/201412021500.npy'\n",
      "[Errno 2] No such file or directory: '/nobackup_1/users/schreurs/project_GAN/rtcor_heavy_rain_labels/2014/12/201412021530.npy'\n",
      "[Errno 2] No such file or directory: '/nobackup_1/users/schreurs/project_GAN/rtcor_heavy_rain_labels/2014/12/201412021600.npy'\n",
      "[Errno 2] No such file or directory: '/nobackup_1/users/schreurs/project_GAN/rtcor_heavy_rain_labels/2014/12/201412021630.npy'\n",
      "[Errno 2] No such file or directory: '/nobackup_1/users/schreurs/project_GAN/rtcor_heavy_rain_labels/2014/12/201412021700.npy'\n",
      "[Errno 2] No such file or directory: '/nobackup_1/users/schreurs/project_GAN/rtcor_heavy_rain_labels/2014/12/201412021730.npy'\n",
      "[Errno 2] No such file or directory: '/nobackup_1/users/schreurs/project_GAN/rtcor_heavy_rain_labels/2014/12/201412021800.npy'\n",
      "[Errno 2] No such file or directory: '/nobackup_1/users/schreurs/project_GAN/rtcor_heavy_rain_labels/2014/12/201412021830.npy'\n",
      "[Errno 2] No such file or directory: '/nobackup_1/users/schreurs/project_GAN/rtcor_heavy_rain_labels/2014/12/201412021900.npy'\n",
      "[Errno 2] No such file or directory: '/nobackup_1/users/schreurs/project_GAN/rtcor_heavy_rain_labels/2014/12/201412021930.npy'\n",
      "[Errno 2] No such file or directory: '/nobackup_1/users/schreurs/project_GAN/rtcor_heavy_rain_labels/2014/12/201412022000.npy'\n",
      "[Errno 2] No such file or directory: '/nobackup_1/users/schreurs/project_GAN/rtcor_heavy_rain_labels/2014/12/201412022030.npy'\n",
      "[Errno 2] No such file or directory: '/nobackup_1/users/schreurs/project_GAN/rtcor_heavy_rain_labels/2014/12/201412022100.npy'\n",
      "[Errno 2] No such file or directory: '/nobackup_1/users/schreurs/project_GAN/rtcor_heavy_rain_labels/2014/12/201412022130.npy'\n",
      "[Errno 2] No such file or directory: '/nobackup_1/users/schreurs/project_GAN/rtcor_heavy_rain_labels/2014/12/201412022200.npy'\n",
      "[Errno 2] No such file or directory: '/nobackup_1/users/schreurs/project_GAN/rtcor_heavy_rain_labels/2014/12/201412022230.npy'\n",
      "[Errno 2] No such file or directory: '/nobackup_1/users/schreurs/project_GAN/rtcor_heavy_rain_labels/2014/12/201412022300.npy'\n",
      "[Errno 2] No such file or directory: '/nobackup_1/users/schreurs/project_GAN/rtcor_heavy_rain_labels/2014/12/201412022330.npy'\n"
     ]
    }
   ],
   "source": [
    "start_dt = datetime(2014,1,1,0,0)\n",
    "end_dt =  datetime(2015,1,1,0,0)\n",
    "x_length = 6\n",
    "y_length = 1\n",
    "filter_no_rain = 'avg0.01mm'\n",
    "\n",
    "from batchcreator import get_list_IDs\n",
    "\n",
    "list_IDs = get_list_IDs(start_dt, end_dt, x_length, y_length, filter_no_rain=filter_no_rain)"
   ]
  },
  {
   "cell_type": "code",
   "execution_count": null,
   "metadata": {},
   "outputs": [],
   "source": [
    "fn_rtcor_1 = list_IDs[:,0]\n",
    "fn_rtcor_2 = list_IDs[:,1]\n",
    "filenames_rtcor= np.append(fn_rtcor_1, fn_rtcor_2)\n",
    "# flatten the array\n",
    "filenames_rtcor = [item for sublist in filenames_rtcor for item in sublist]\n",
    "rtcor2npy(config.dir_rtcor, config.dir_rtcor_prep, overwrite = False, preprocess = True, filenames = filenames_rtcor)"
   ]
  },
  {
   "cell_type": "code",
   "execution_count": 15,
   "metadata": {},
   "outputs": [
    {
     "name": "stdout",
     "output_type": "stream",
     "text": [
      "[Errno 2] No such file or directory: '/nobackup_1/users/schreurs/project_GAN/rtcor_heavy_rain_labels/2016/01/201601140810.npy'\n",
      "[Errno 2] No such file or directory: '/nobackup_1/users/schreurs/project_GAN/rtcor_heavy_rain_labels/2016/01/201601200000.npy'\n",
      "[Errno 2] No such file or directory: '/nobackup_1/users/schreurs/project_GAN/rtcor_heavy_rain_labels/2016/01/201601200005.npy'\n",
      "[Errno 2] No such file or directory: '/nobackup_1/users/schreurs/project_GAN/rtcor_heavy_rain_labels/2016/01/201601200035.npy'\n",
      "[Errno 2] No such file or directory: '/nobackup_1/users/schreurs/project_GAN/rtcor_heavy_rain_labels/2016/01/201601200105.npy'\n",
      "[Errno 2] No such file or directory: '/nobackup_1/users/schreurs/project_GAN/rtcor_heavy_rain_labels/2016/01/201601200135.npy'\n",
      "[Errno 2] No such file or directory: '/nobackup_1/users/schreurs/project_GAN/rtcor_heavy_rain_labels/2016/01/201601200205.npy'\n",
      "[Errno 2] No such file or directory: '/nobackup_1/users/schreurs/project_GAN/rtcor_heavy_rain_labels/2016/01/201601200235.npy'\n",
      "[Errno 2] No such file or directory: '/nobackup_1/users/schreurs/project_GAN/rtcor_heavy_rain_labels/2016/01/201601200305.npy'\n",
      "[Errno 2] No such file or directory: '/nobackup_1/users/schreurs/project_GAN/rtcor_heavy_rain_labels/2016/01/201601200335.npy'\n",
      "[Errno 2] No such file or directory: '/nobackup_1/users/schreurs/project_GAN/rtcor_heavy_rain_labels/2016/01/201601200405.npy'\n",
      "[Errno 2] No such file or directory: '/nobackup_1/users/schreurs/project_GAN/rtcor_heavy_rain_labels/2016/01/201601200435.npy'\n",
      "[Errno 2] No such file or directory: '/nobackup_1/users/schreurs/project_GAN/rtcor_heavy_rain_labels/2016/01/201601200505.npy'\n",
      "[Errno 2] No such file or directory: '/nobackup_1/users/schreurs/project_GAN/rtcor_heavy_rain_labels/2016/01/201601200535.npy'\n",
      "[Errno 2] No such file or directory: '/nobackup_1/users/schreurs/project_GAN/rtcor_heavy_rain_labels/2016/01/201601200605.npy'\n",
      "[Errno 2] No such file or directory: '/nobackup_1/users/schreurs/project_GAN/rtcor_heavy_rain_labels/2016/01/201601200635.npy'\n",
      "[Errno 2] No such file or directory: '/nobackup_1/users/schreurs/project_GAN/rtcor_heavy_rain_labels/2016/01/201601200705.npy'\n",
      "[Errno 2] No such file or directory: '/nobackup_1/users/schreurs/project_GAN/rtcor_heavy_rain_labels/2016/01/201601200735.npy'\n",
      "[Errno 2] No such file or directory: '/nobackup_1/users/schreurs/project_GAN/rtcor_heavy_rain_labels/2016/01/201601200805.npy'\n",
      "[Errno 2] No such file or directory: '/nobackup_1/users/schreurs/project_GAN/rtcor_heavy_rain_labels/2016/01/201601200835.npy'\n",
      "[Errno 2] No such file or directory: '/nobackup_1/users/schreurs/project_GAN/rtcor_heavy_rain_labels/2016/01/201601200905.npy'\n",
      "[Errno 2] No such file or directory: '/nobackup_1/users/schreurs/project_GAN/rtcor_heavy_rain_labels/2016/01/201601200935.npy'\n",
      "[Errno 2] No such file or directory: '/nobackup_1/users/schreurs/project_GAN/rtcor_heavy_rain_labels/2016/01/201601201005.npy'\n",
      "[Errno 2] No such file or directory: '/nobackup_1/users/schreurs/project_GAN/rtcor_heavy_rain_labels/2016/01/201601201035.npy'\n",
      "[Errno 2] No such file or directory: '/nobackup_1/users/schreurs/project_GAN/rtcor_heavy_rain_labels/2016/01/201601201105.npy'\n",
      "[Errno 2] No such file or directory: '/nobackup_1/users/schreurs/project_GAN/rtcor_heavy_rain_labels/2016/01/201601201135.npy'\n",
      "[Errno 2] No such file or directory: '/nobackup_1/users/schreurs/project_GAN/rtcor_heavy_rain_labels/2016/01/201601201205.npy'\n",
      "[Errno 2] No such file or directory: '/nobackup_1/users/schreurs/project_GAN/rtcor_heavy_rain_labels/2016/01/201601201235.npy'\n",
      "[Errno 2] No such file or directory: '/nobackup_1/users/schreurs/project_GAN/rtcor_heavy_rain_labels/2016/01/201601201305.npy'\n",
      "[Errno 2] No such file or directory: '/nobackup_1/users/schreurs/project_GAN/rtcor_heavy_rain_labels/2016/01/201601201335.npy'\n",
      "[Errno 2] No such file or directory: '/nobackup_1/users/schreurs/project_GAN/rtcor_heavy_rain_labels/2016/01/201601201405.npy'\n",
      "[Errno 2] No such file or directory: '/nobackup_1/users/schreurs/project_GAN/rtcor_heavy_rain_labels/2016/01/201601201435.npy'\n",
      "[Errno 2] No such file or directory: '/nobackup_1/users/schreurs/project_GAN/rtcor_heavy_rain_labels/2016/01/201601201505.npy'\n",
      "[Errno 2] No such file or directory: '/nobackup_1/users/schreurs/project_GAN/rtcor_heavy_rain_labels/2016/01/201601201535.npy'\n",
      "[Errno 2] No such file or directory: '/nobackup_1/users/schreurs/project_GAN/rtcor_heavy_rain_labels/2016/01/201601201605.npy'\n",
      "[Errno 2] No such file or directory: '/nobackup_1/users/schreurs/project_GAN/rtcor_heavy_rain_labels/2016/01/201601201635.npy'\n",
      "[Errno 2] No such file or directory: '/nobackup_1/users/schreurs/project_GAN/rtcor_heavy_rain_labels/2016/01/201601201705.npy'\n",
      "[Errno 2] No such file or directory: '/nobackup_1/users/schreurs/project_GAN/rtcor_heavy_rain_labels/2016/01/201601201735.npy'\n",
      "[Errno 2] No such file or directory: '/nobackup_1/users/schreurs/project_GAN/rtcor_heavy_rain_labels/2016/01/201601201805.npy'\n",
      "[Errno 2] No such file or directory: '/nobackup_1/users/schreurs/project_GAN/rtcor_heavy_rain_labels/2016/01/201601201835.npy'\n",
      "[Errno 2] No such file or directory: '/nobackup_1/users/schreurs/project_GAN/rtcor_heavy_rain_labels/2016/01/201601201905.npy'\n",
      "[Errno 2] No such file or directory: '/nobackup_1/users/schreurs/project_GAN/rtcor_heavy_rain_labels/2016/01/201601201935.npy'\n",
      "[Errno 2] No such file or directory: '/nobackup_1/users/schreurs/project_GAN/rtcor_heavy_rain_labels/2016/01/201601202005.npy'\n",
      "[Errno 2] No such file or directory: '/nobackup_1/users/schreurs/project_GAN/rtcor_heavy_rain_labels/2016/01/201601202035.npy'\n",
      "[Errno 2] No such file or directory: '/nobackup_1/users/schreurs/project_GAN/rtcor_heavy_rain_labels/2016/01/201601202105.npy'\n",
      "[Errno 2] No such file or directory: '/nobackup_1/users/schreurs/project_GAN/rtcor_heavy_rain_labels/2016/01/201601202135.npy'\n",
      "[Errno 2] No such file or directory: '/nobackup_1/users/schreurs/project_GAN/rtcor_heavy_rain_labels/2016/01/201601202205.npy'\n",
      "[Errno 2] No such file or directory: '/nobackup_1/users/schreurs/project_GAN/rtcor_heavy_rain_labels/2016/01/201601202235.npy'\n",
      "[Errno 2] No such file or directory: '/nobackup_1/users/schreurs/project_GAN/rtcor_heavy_rain_labels/2016/01/201601202305.npy'\n",
      "[Errno 2] No such file or directory: '/nobackup_1/users/schreurs/project_GAN/rtcor_heavy_rain_labels/2016/01/201601202335.npy'\n",
      "[Errno 2] No such file or directory: '/nobackup_1/users/schreurs/project_GAN/rtcor_heavy_rain_labels/2016/01/201601210005.npy'\n",
      "[Errno 2] No such file or directory: '/nobackup_1/users/schreurs/project_GAN/rtcor_heavy_rain_labels/2016/01/201601210035.npy'\n",
      "[Errno 2] No such file or directory: '/nobackup_1/users/schreurs/project_GAN/rtcor_heavy_rain_labels/2016/01/201601210105.npy'\n",
      "[Errno 2] No such file or directory: '/nobackup_1/users/schreurs/project_GAN/rtcor_heavy_rain_labels/2016/01/201601210135.npy'\n",
      "[Errno 2] No such file or directory: '/nobackup_1/users/schreurs/project_GAN/rtcor_heavy_rain_labels/2016/01/201601210205.npy'\n",
      "[Errno 2] No such file or directory: '/nobackup_1/users/schreurs/project_GAN/rtcor_heavy_rain_labels/2016/01/201601210235.npy'\n",
      "[Errno 2] No such file or directory: '/nobackup_1/users/schreurs/project_GAN/rtcor_heavy_rain_labels/2016/01/201601210305.npy'\n",
      "[Errno 2] No such file or directory: '/nobackup_1/users/schreurs/project_GAN/rtcor_heavy_rain_labels/2016/01/201601210335.npy'\n",
      "[Errno 2] No such file or directory: '/nobackup_1/users/schreurs/project_GAN/rtcor_heavy_rain_labels/2016/01/201601210405.npy'\n",
      "[Errno 2] No such file or directory: '/nobackup_1/users/schreurs/project_GAN/rtcor_heavy_rain_labels/2016/01/201601210435.npy'\n",
      "[Errno 2] No such file or directory: '/nobackup_1/users/schreurs/project_GAN/rtcor_heavy_rain_labels/2016/01/201601210505.npy'\n",
      "[Errno 2] No such file or directory: '/nobackup_1/users/schreurs/project_GAN/rtcor_heavy_rain_labels/2016/01/201601210535.npy'\n",
      "[Errno 2] No such file or directory: '/nobackup_1/users/schreurs/project_GAN/rtcor_heavy_rain_labels/2016/01/201601210605.npy'\n",
      "[Errno 2] No such file or directory: '/nobackup_1/users/schreurs/project_GAN/rtcor_heavy_rain_labels/2016/01/201601210635.npy'\n",
      "[Errno 2] No such file or directory: '/nobackup_1/users/schreurs/project_GAN/rtcor_heavy_rain_labels/2016/01/201601210705.npy'\n",
      "[Errno 2] No such file or directory: '/nobackup_1/users/schreurs/project_GAN/rtcor_heavy_rain_labels/2016/01/201601210735.npy'\n",
      "[Errno 2] No such file or directory: '/nobackup_1/users/schreurs/project_GAN/rtcor_heavy_rain_labels/2016/01/201601210805.npy'\n",
      "[Errno 2] No such file or directory: '/nobackup_1/users/schreurs/project_GAN/rtcor_heavy_rain_labels/2016/01/201601210835.npy'\n",
      "[Errno 2] No such file or directory: '/nobackup_1/users/schreurs/project_GAN/rtcor_heavy_rain_labels/2016/01/201601210905.npy'\n",
      "[Errno 2] No such file or directory: '/nobackup_1/users/schreurs/project_GAN/rtcor_heavy_rain_labels/2016/01/201601210935.npy'\n",
      "[Errno 2] No such file or directory: '/nobackup_1/users/schreurs/project_GAN/rtcor_heavy_rain_labels/2016/01/201601211005.npy'\n",
      "[Errno 2] No such file or directory: '/nobackup_1/users/schreurs/project_GAN/rtcor_heavy_rain_labels/2016/01/201601211035.npy'\n",
      "[Errno 2] No such file or directory: '/nobackup_1/users/schreurs/project_GAN/rtcor_heavy_rain_labels/2016/01/201601211105.npy'\n",
      "[Errno 2] No such file or directory: '/nobackup_1/users/schreurs/project_GAN/rtcor_heavy_rain_labels/2016/01/201601211135.npy'\n",
      "[Errno 2] No such file or directory: '/nobackup_1/users/schreurs/project_GAN/rtcor_heavy_rain_labels/2016/01/201601211205.npy'\n",
      "[Errno 2] No such file or directory: '/nobackup_1/users/schreurs/project_GAN/rtcor_heavy_rain_labels/2016/01/201601211235.npy'\n",
      "[Errno 2] No such file or directory: '/nobackup_1/users/schreurs/project_GAN/rtcor_heavy_rain_labels/2016/01/201601211305.npy'\n",
      "[Errno 2] No such file or directory: '/nobackup_1/users/schreurs/project_GAN/rtcor_heavy_rain_labels/2016/01/201601211335.npy'\n",
      "[Errno 2] No such file or directory: '/nobackup_1/users/schreurs/project_GAN/rtcor_heavy_rain_labels/2016/01/201601211405.npy'\n",
      "[Errno 2] No such file or directory: '/nobackup_1/users/schreurs/project_GAN/rtcor_heavy_rain_labels/2016/01/201601211435.npy'\n",
      "[Errno 2] No such file or directory: '/nobackup_1/users/schreurs/project_GAN/rtcor_heavy_rain_labels/2016/01/201601211505.npy'\n",
      "[Errno 2] No such file or directory: '/nobackup_1/users/schreurs/project_GAN/rtcor_heavy_rain_labels/2016/01/201601211535.npy'\n",
      "[Errno 2] No such file or directory: '/nobackup_1/users/schreurs/project_GAN/rtcor_heavy_rain_labels/2016/01/201601211605.npy'\n",
      "[Errno 2] No such file or directory: '/nobackup_1/users/schreurs/project_GAN/rtcor_heavy_rain_labels/2016/01/201601211635.npy'\n",
      "[Errno 2] No such file or directory: '/nobackup_1/users/schreurs/project_GAN/rtcor_heavy_rain_labels/2016/01/201601211705.npy'\n",
      "[Errno 2] No such file or directory: '/nobackup_1/users/schreurs/project_GAN/rtcor_heavy_rain_labels/2016/01/201601211735.npy'\n",
      "[Errno 2] No such file or directory: '/nobackup_1/users/schreurs/project_GAN/rtcor_heavy_rain_labels/2016/01/201601211805.npy'\n",
      "[Errno 2] No such file or directory: '/nobackup_1/users/schreurs/project_GAN/rtcor_heavy_rain_labels/2016/01/201601211835.npy'\n",
      "[Errno 2] No such file or directory: '/nobackup_1/users/schreurs/project_GAN/rtcor_heavy_rain_labels/2016/01/201601211905.npy'\n",
      "[Errno 2] No such file or directory: '/nobackup_1/users/schreurs/project_GAN/rtcor_heavy_rain_labels/2016/01/201601211935.npy'\n",
      "[Errno 2] No such file or directory: '/nobackup_1/users/schreurs/project_GAN/rtcor_heavy_rain_labels/2016/01/201601212005.npy'\n",
      "[Errno 2] No such file or directory: '/nobackup_1/users/schreurs/project_GAN/rtcor_heavy_rain_labels/2016/01/201601212035.npy'\n",
      "[Errno 2] No such file or directory: '/nobackup_1/users/schreurs/project_GAN/rtcor_heavy_rain_labels/2016/01/201601212105.npy'\n",
      "[Errno 2] No such file or directory: '/nobackup_1/users/schreurs/project_GAN/rtcor_heavy_rain_labels/2016/01/201601212135.npy'\n",
      "[Errno 2] No such file or directory: '/nobackup_1/users/schreurs/project_GAN/rtcor_heavy_rain_labels/2016/01/201601212205.npy'\n",
      "[Errno 2] No such file or directory: '/nobackup_1/users/schreurs/project_GAN/rtcor_heavy_rain_labels/2016/01/201601212235.npy'\n",
      "[Errno 2] No such file or directory: '/nobackup_1/users/schreurs/project_GAN/rtcor_heavy_rain_labels/2016/01/201601212305.npy'\n",
      "[Errno 2] No such file or directory: '/nobackup_1/users/schreurs/project_GAN/rtcor_heavy_rain_labels/2016/01/201601212335.npy'\n"
     ]
    },
    {
     "name": "stdout",
     "output_type": "stream",
     "text": [
      "[Errno 2] No such file or directory: '/nobackup_1/users/schreurs/project_GAN/rtcor_heavy_rain_labels/2016/01/201601250650.npy'\n",
      "[Errno 2] No such file or directory: '/nobackup_1/users/schreurs/project_GAN/rtcor_heavy_rain_labels/2016/02/201602291400.npy'\n",
      "[Errno 2] No such file or directory: '/nobackup_1/users/schreurs/project_GAN/rtcor_heavy_rain_labels/2016/02/201602291405.npy'\n",
      "[Errno 2] No such file or directory: '/nobackup_1/users/schreurs/project_GAN/rtcor_heavy_rain_labels/2016/03/201603010000.npy'\n",
      "[Errno 2] No such file or directory: '/nobackup_1/users/schreurs/project_GAN/rtcor_heavy_rain_labels/2016/03/201603010005.npy'\n",
      "[Errno 2] No such file or directory: '/nobackup_1/users/schreurs/project_GAN/rtcor_heavy_rain_labels/2016/03/201603010035.npy'\n",
      "[Errno 2] No such file or directory: '/nobackup_1/users/schreurs/project_GAN/rtcor_heavy_rain_labels/2016/03/201603010105.npy'\n",
      "[Errno 2] No such file or directory: '/nobackup_1/users/schreurs/project_GAN/rtcor_heavy_rain_labels/2016/03/201603010135.npy'\n",
      "[Errno 2] No such file or directory: '/nobackup_1/users/schreurs/project_GAN/rtcor_heavy_rain_labels/2016/03/201603010205.npy'\n",
      "[Errno 2] No such file or directory: '/nobackup_1/users/schreurs/project_GAN/rtcor_heavy_rain_labels/2016/03/201603010235.npy'\n",
      "[Errno 2] No such file or directory: '/nobackup_1/users/schreurs/project_GAN/rtcor_heavy_rain_labels/2016/03/201603010305.npy'\n",
      "[Errno 2] No such file or directory: '/nobackup_1/users/schreurs/project_GAN/rtcor_heavy_rain_labels/2016/03/201603010335.npy'\n",
      "[Errno 2] No such file or directory: '/nobackup_1/users/schreurs/project_GAN/rtcor_heavy_rain_labels/2016/03/201603010405.npy'\n",
      "[Errno 2] No such file or directory: '/nobackup_1/users/schreurs/project_GAN/rtcor_heavy_rain_labels/2016/03/201603010435.npy'\n",
      "[Errno 2] No such file or directory: '/nobackup_1/users/schreurs/project_GAN/rtcor_heavy_rain_labels/2016/03/201603010505.npy'\n",
      "[Errno 2] No such file or directory: '/nobackup_1/users/schreurs/project_GAN/rtcor_heavy_rain_labels/2016/03/201603010535.npy'\n",
      "[Errno 2] No such file or directory: '/nobackup_1/users/schreurs/project_GAN/rtcor_heavy_rain_labels/2016/03/201603010605.npy'\n",
      "[Errno 2] No such file or directory: '/nobackup_1/users/schreurs/project_GAN/rtcor_heavy_rain_labels/2016/03/201603010635.npy'\n",
      "[Errno 2] No such file or directory: '/nobackup_1/users/schreurs/project_GAN/rtcor_heavy_rain_labels/2016/03/201603010705.npy'\n",
      "[Errno 2] No such file or directory: '/nobackup_1/users/schreurs/project_GAN/rtcor_heavy_rain_labels/2016/03/201603010735.npy'\n",
      "[Errno 2] No such file or directory: '/nobackup_1/users/schreurs/project_GAN/rtcor_heavy_rain_labels/2016/03/201603010805.npy'\n",
      "[Errno 2] No such file or directory: '/nobackup_1/users/schreurs/project_GAN/rtcor_heavy_rain_labels/2016/03/201603010835.npy'\n",
      "[Errno 2] No such file or directory: '/nobackup_1/users/schreurs/project_GAN/rtcor_heavy_rain_labels/2016/03/201603010905.npy'\n",
      "[Errno 2] No such file or directory: '/nobackup_1/users/schreurs/project_GAN/rtcor_heavy_rain_labels/2016/03/201603010935.npy'\n",
      "[Errno 2] No such file or directory: '/nobackup_1/users/schreurs/project_GAN/rtcor_heavy_rain_labels/2016/03/201603011005.npy'\n",
      "[Errno 2] No such file or directory: '/nobackup_1/users/schreurs/project_GAN/rtcor_heavy_rain_labels/2016/03/201603011035.npy'\n",
      "[Errno 2] No such file or directory: '/nobackup_1/users/schreurs/project_GAN/rtcor_heavy_rain_labels/2016/03/201603011105.npy'\n",
      "[Errno 2] No such file or directory: '/nobackup_1/users/schreurs/project_GAN/rtcor_heavy_rain_labels/2016/03/201603011135.npy'\n",
      "[Errno 2] No such file or directory: '/nobackup_1/users/schreurs/project_GAN/rtcor_heavy_rain_labels/2016/03/201603011205.npy'\n",
      "[Errno 2] No such file or directory: '/nobackup_1/users/schreurs/project_GAN/rtcor_heavy_rain_labels/2016/03/201603011235.npy'\n",
      "[Errno 2] No such file or directory: '/nobackup_1/users/schreurs/project_GAN/rtcor_heavy_rain_labels/2016/03/201603011305.npy'\n",
      "[Errno 2] No such file or directory: '/nobackup_1/users/schreurs/project_GAN/rtcor_heavy_rain_labels/2016/03/201603011335.npy'\n",
      "[Errno 2] No such file or directory: '/nobackup_1/users/schreurs/project_GAN/rtcor_heavy_rain_labels/2016/03/201603011405.npy'\n",
      "[Errno 2] No such file or directory: '/nobackup_1/users/schreurs/project_GAN/rtcor_heavy_rain_labels/2016/03/201603011435.npy'\n",
      "[Errno 2] No such file or directory: '/nobackup_1/users/schreurs/project_GAN/rtcor_heavy_rain_labels/2016/03/201603011505.npy'\n",
      "[Errno 2] No such file or directory: '/nobackup_1/users/schreurs/project_GAN/rtcor_heavy_rain_labels/2016/03/201603011535.npy'\n",
      "[Errno 2] No such file or directory: '/nobackup_1/users/schreurs/project_GAN/rtcor_heavy_rain_labels/2016/03/201603011605.npy'\n",
      "[Errno 2] No such file or directory: '/nobackup_1/users/schreurs/project_GAN/rtcor_heavy_rain_labels/2016/03/201603011635.npy'\n",
      "[Errno 2] No such file or directory: '/nobackup_1/users/schreurs/project_GAN/rtcor_heavy_rain_labels/2016/03/201603011705.npy'\n",
      "[Errno 2] No such file or directory: '/nobackup_1/users/schreurs/project_GAN/rtcor_heavy_rain_labels/2016/03/201603011735.npy'\n",
      "[Errno 2] No such file or directory: '/nobackup_1/users/schreurs/project_GAN/rtcor_heavy_rain_labels/2016/03/201603011805.npy'\n",
      "[Errno 2] No such file or directory: '/nobackup_1/users/schreurs/project_GAN/rtcor_heavy_rain_labels/2016/03/201603011835.npy'\n",
      "[Errno 2] No such file or directory: '/nobackup_1/users/schreurs/project_GAN/rtcor_heavy_rain_labels/2016/03/201603011905.npy'\n",
      "[Errno 2] No such file or directory: '/nobackup_1/users/schreurs/project_GAN/rtcor_heavy_rain_labels/2016/03/201603011935.npy'\n",
      "[Errno 2] No such file or directory: '/nobackup_1/users/schreurs/project_GAN/rtcor_heavy_rain_labels/2016/03/201603012005.npy'\n",
      "[Errno 2] No such file or directory: '/nobackup_1/users/schreurs/project_GAN/rtcor_heavy_rain_labels/2016/03/201603012035.npy'\n",
      "[Errno 2] No such file or directory: '/nobackup_1/users/schreurs/project_GAN/rtcor_heavy_rain_labels/2016/03/201603012105.npy'\n",
      "[Errno 2] No such file or directory: '/nobackup_1/users/schreurs/project_GAN/rtcor_heavy_rain_labels/2016/03/201603012135.npy'\n",
      "[Errno 2] No such file or directory: '/nobackup_1/users/schreurs/project_GAN/rtcor_heavy_rain_labels/2016/03/201603012205.npy'\n",
      "[Errno 2] No such file or directory: '/nobackup_1/users/schreurs/project_GAN/rtcor_heavy_rain_labels/2016/03/201603012235.npy'\n",
      "[Errno 2] No such file or directory: '/nobackup_1/users/schreurs/project_GAN/rtcor_heavy_rain_labels/2016/03/201603012305.npy'\n",
      "[Errno 2] No such file or directory: '/nobackup_1/users/schreurs/project_GAN/rtcor_heavy_rain_labels/2016/03/201603012335.npy'\n",
      "[Errno 2] No such file or directory: '/nobackup_1/users/schreurs/project_GAN/rtcor_heavy_rain_labels/2016/03/201603020005.npy'\n",
      "[Errno 2] No such file or directory: '/nobackup_1/users/schreurs/project_GAN/rtcor_heavy_rain_labels/2016/03/201603020035.npy'\n",
      "[Errno 2] No such file or directory: '/nobackup_1/users/schreurs/project_GAN/rtcor_heavy_rain_labels/2016/03/201603020105.npy'\n",
      "[Errno 2] No such file or directory: '/nobackup_1/users/schreurs/project_GAN/rtcor_heavy_rain_labels/2016/03/201603020135.npy'\n",
      "[Errno 2] No such file or directory: '/nobackup_1/users/schreurs/project_GAN/rtcor_heavy_rain_labels/2016/03/201603020205.npy'\n",
      "[Errno 2] No such file or directory: '/nobackup_1/users/schreurs/project_GAN/rtcor_heavy_rain_labels/2016/03/201603020235.npy'\n",
      "[Errno 2] No such file or directory: '/nobackup_1/users/schreurs/project_GAN/rtcor_heavy_rain_labels/2016/03/201603020305.npy'\n",
      "[Errno 2] No such file or directory: '/nobackup_1/users/schreurs/project_GAN/rtcor_heavy_rain_labels/2016/03/201603020335.npy'\n",
      "[Errno 2] No such file or directory: '/nobackup_1/users/schreurs/project_GAN/rtcor_heavy_rain_labels/2016/03/201603020405.npy'\n",
      "[Errno 2] No such file or directory: '/nobackup_1/users/schreurs/project_GAN/rtcor_heavy_rain_labels/2016/03/201603020435.npy'\n",
      "[Errno 2] No such file or directory: '/nobackup_1/users/schreurs/project_GAN/rtcor_heavy_rain_labels/2016/03/201603020505.npy'\n",
      "[Errno 2] No such file or directory: '/nobackup_1/users/schreurs/project_GAN/rtcor_heavy_rain_labels/2016/03/201603020535.npy'\n",
      "[Errno 2] No such file or directory: '/nobackup_1/users/schreurs/project_GAN/rtcor_heavy_rain_labels/2016/03/201603020605.npy'\n",
      "[Errno 2] No such file or directory: '/nobackup_1/users/schreurs/project_GAN/rtcor_heavy_rain_labels/2016/03/201603020635.npy'\n",
      "[Errno 2] No such file or directory: '/nobackup_1/users/schreurs/project_GAN/rtcor_heavy_rain_labels/2016/03/201603020705.npy'\n",
      "[Errno 2] No such file or directory: '/nobackup_1/users/schreurs/project_GAN/rtcor_heavy_rain_labels/2016/03/201603020735.npy'\n",
      "[Errno 2] No such file or directory: '/nobackup_1/users/schreurs/project_GAN/rtcor_heavy_rain_labels/2016/03/201603020805.npy'\n",
      "[Errno 2] No such file or directory: '/nobackup_1/users/schreurs/project_GAN/rtcor_heavy_rain_labels/2016/03/201603020835.npy'\n",
      "[Errno 2] No such file or directory: '/nobackup_1/users/schreurs/project_GAN/rtcor_heavy_rain_labels/2016/03/201603020905.npy'\n",
      "[Errno 2] No such file or directory: '/nobackup_1/users/schreurs/project_GAN/rtcor_heavy_rain_labels/2016/03/201603020935.npy'\n",
      "[Errno 2] No such file or directory: '/nobackup_1/users/schreurs/project_GAN/rtcor_heavy_rain_labels/2016/03/201603021005.npy'\n",
      "[Errno 2] No such file or directory: '/nobackup_1/users/schreurs/project_GAN/rtcor_heavy_rain_labels/2016/03/201603021035.npy'\n",
      "[Errno 2] No such file or directory: '/nobackup_1/users/schreurs/project_GAN/rtcor_heavy_rain_labels/2016/03/201603021105.npy'\n",
      "[Errno 2] No such file or directory: '/nobackup_1/users/schreurs/project_GAN/rtcor_heavy_rain_labels/2016/03/201603021135.npy'\n",
      "[Errno 2] No such file or directory: '/nobackup_1/users/schreurs/project_GAN/rtcor_heavy_rain_labels/2016/03/201603021205.npy'\n",
      "[Errno 2] No such file or directory: '/nobackup_1/users/schreurs/project_GAN/rtcor_heavy_rain_labels/2016/03/201603021235.npy'\n",
      "[Errno 2] No such file or directory: '/nobackup_1/users/schreurs/project_GAN/rtcor_heavy_rain_labels/2016/03/201603021305.npy'\n",
      "[Errno 2] No such file or directory: '/nobackup_1/users/schreurs/project_GAN/rtcor_heavy_rain_labels/2016/03/201603021335.npy'\n",
      "[Errno 2] No such file or directory: '/nobackup_1/users/schreurs/project_GAN/rtcor_heavy_rain_labels/2016/03/201603021405.npy'\n",
      "[Errno 2] No such file or directory: '/nobackup_1/users/schreurs/project_GAN/rtcor_heavy_rain_labels/2016/03/201603021435.npy'\n",
      "[Errno 2] No such file or directory: '/nobackup_1/users/schreurs/project_GAN/rtcor_heavy_rain_labels/2016/03/201603021505.npy'\n",
      "[Errno 2] No such file or directory: '/nobackup_1/users/schreurs/project_GAN/rtcor_heavy_rain_labels/2016/03/201603021535.npy'\n",
      "[Errno 2] No such file or directory: '/nobackup_1/users/schreurs/project_GAN/rtcor_heavy_rain_labels/2016/03/201603021605.npy'\n",
      "[Errno 2] No such file or directory: '/nobackup_1/users/schreurs/project_GAN/rtcor_heavy_rain_labels/2016/03/201603021635.npy'\n",
      "[Errno 2] No such file or directory: '/nobackup_1/users/schreurs/project_GAN/rtcor_heavy_rain_labels/2016/03/201603021705.npy'\n",
      "[Errno 2] No such file or directory: '/nobackup_1/users/schreurs/project_GAN/rtcor_heavy_rain_labels/2016/03/201603021735.npy'\n",
      "[Errno 2] No such file or directory: '/nobackup_1/users/schreurs/project_GAN/rtcor_heavy_rain_labels/2016/03/201603021805.npy'\n",
      "[Errno 2] No such file or directory: '/nobackup_1/users/schreurs/project_GAN/rtcor_heavy_rain_labels/2016/03/201603021835.npy'\n",
      "[Errno 2] No such file or directory: '/nobackup_1/users/schreurs/project_GAN/rtcor_heavy_rain_labels/2016/03/201603021905.npy'\n",
      "[Errno 2] No such file or directory: '/nobackup_1/users/schreurs/project_GAN/rtcor_heavy_rain_labels/2016/03/201603021935.npy'\n",
      "[Errno 2] No such file or directory: '/nobackup_1/users/schreurs/project_GAN/rtcor_heavy_rain_labels/2016/03/201603022005.npy'\n",
      "[Errno 2] No such file or directory: '/nobackup_1/users/schreurs/project_GAN/rtcor_heavy_rain_labels/2016/03/201603022035.npy'\n",
      "[Errno 2] No such file or directory: '/nobackup_1/users/schreurs/project_GAN/rtcor_heavy_rain_labels/2016/03/201603022105.npy'\n",
      "[Errno 2] No such file or directory: '/nobackup_1/users/schreurs/project_GAN/rtcor_heavy_rain_labels/2016/03/201603022135.npy'\n",
      "[Errno 2] No such file or directory: '/nobackup_1/users/schreurs/project_GAN/rtcor_heavy_rain_labels/2016/03/201603022205.npy'\n",
      "[Errno 2] No such file or directory: '/nobackup_1/users/schreurs/project_GAN/rtcor_heavy_rain_labels/2016/03/201603022235.npy'\n",
      "[Errno 2] No such file or directory: '/nobackup_1/users/schreurs/project_GAN/rtcor_heavy_rain_labels/2016/03/201603022305.npy'\n",
      "[Errno 2] No such file or directory: '/nobackup_1/users/schreurs/project_GAN/rtcor_heavy_rain_labels/2016/03/201603022335.npy'\n"
     ]
    },
    {
     "name": "stdout",
     "output_type": "stream",
     "text": [
      "[Errno 2] No such file or directory: '/nobackup_1/users/schreurs/project_GAN/rtcor_heavy_rain_labels/2016/05/201605101535.npy'\n",
      "[Errno 2] No such file or directory: '/nobackup_1/users/schreurs/project_GAN/rtcor_heavy_rain_labels/2016/07/201607210000.npy'\n",
      "[Errno 2] No such file or directory: '/nobackup_1/users/schreurs/project_GAN/rtcor_heavy_rain_labels/2016/07/201607210005.npy'\n",
      "[Errno 2] No such file or directory: '/nobackup_1/users/schreurs/project_GAN/rtcor_heavy_rain_labels/2016/07/201607210035.npy'\n",
      "[Errno 2] No such file or directory: '/nobackup_1/users/schreurs/project_GAN/rtcor_heavy_rain_labels/2016/07/201607210105.npy'\n",
      "[Errno 2] No such file or directory: '/nobackup_1/users/schreurs/project_GAN/rtcor_heavy_rain_labels/2016/07/201607210135.npy'\n",
      "[Errno 2] No such file or directory: '/nobackup_1/users/schreurs/project_GAN/rtcor_heavy_rain_labels/2016/07/201607210205.npy'\n",
      "[Errno 2] No such file or directory: '/nobackup_1/users/schreurs/project_GAN/rtcor_heavy_rain_labels/2016/07/201607210235.npy'\n",
      "[Errno 2] No such file or directory: '/nobackup_1/users/schreurs/project_GAN/rtcor_heavy_rain_labels/2016/07/201607210305.npy'\n",
      "[Errno 2] No such file or directory: '/nobackup_1/users/schreurs/project_GAN/rtcor_heavy_rain_labels/2016/07/201607210335.npy'\n",
      "[Errno 2] No such file or directory: '/nobackup_1/users/schreurs/project_GAN/rtcor_heavy_rain_labels/2016/07/201607210405.npy'\n",
      "[Errno 2] No such file or directory: '/nobackup_1/users/schreurs/project_GAN/rtcor_heavy_rain_labels/2016/07/201607210435.npy'\n",
      "[Errno 2] No such file or directory: '/nobackup_1/users/schreurs/project_GAN/rtcor_heavy_rain_labels/2016/07/201607210505.npy'\n",
      "[Errno 2] No such file or directory: '/nobackup_1/users/schreurs/project_GAN/rtcor_heavy_rain_labels/2016/07/201607210535.npy'\n",
      "[Errno 2] No such file or directory: '/nobackup_1/users/schreurs/project_GAN/rtcor_heavy_rain_labels/2016/07/201607210605.npy'\n",
      "[Errno 2] No such file or directory: '/nobackup_1/users/schreurs/project_GAN/rtcor_heavy_rain_labels/2016/07/201607210635.npy'\n",
      "[Errno 2] No such file or directory: '/nobackup_1/users/schreurs/project_GAN/rtcor_heavy_rain_labels/2016/07/201607210705.npy'\n",
      "[Errno 2] No such file or directory: '/nobackup_1/users/schreurs/project_GAN/rtcor_heavy_rain_labels/2016/07/201607210735.npy'\n",
      "[Errno 2] No such file or directory: '/nobackup_1/users/schreurs/project_GAN/rtcor_heavy_rain_labels/2016/07/201607210805.npy'\n",
      "[Errno 2] No such file or directory: '/nobackup_1/users/schreurs/project_GAN/rtcor_heavy_rain_labels/2016/07/201607210835.npy'\n",
      "[Errno 2] No such file or directory: '/nobackup_1/users/schreurs/project_GAN/rtcor_heavy_rain_labels/2016/07/201607210905.npy'\n",
      "[Errno 2] No such file or directory: '/nobackup_1/users/schreurs/project_GAN/rtcor_heavy_rain_labels/2016/07/201607210935.npy'\n",
      "[Errno 2] No such file or directory: '/nobackup_1/users/schreurs/project_GAN/rtcor_heavy_rain_labels/2016/07/201607211005.npy'\n",
      "[Errno 2] No such file or directory: '/nobackup_1/users/schreurs/project_GAN/rtcor_heavy_rain_labels/2016/07/201607211035.npy'\n",
      "[Errno 2] No such file or directory: '/nobackup_1/users/schreurs/project_GAN/rtcor_heavy_rain_labels/2016/07/201607211105.npy'\n",
      "[Errno 2] No such file or directory: '/nobackup_1/users/schreurs/project_GAN/rtcor_heavy_rain_labels/2016/07/201607211135.npy'\n",
      "[Errno 2] No such file or directory: '/nobackup_1/users/schreurs/project_GAN/rtcor_heavy_rain_labels/2016/07/201607211205.npy'\n",
      "[Errno 2] No such file or directory: '/nobackup_1/users/schreurs/project_GAN/rtcor_heavy_rain_labels/2016/07/201607211235.npy'\n",
      "[Errno 2] No such file or directory: '/nobackup_1/users/schreurs/project_GAN/rtcor_heavy_rain_labels/2016/07/201607211305.npy'\n",
      "[Errno 2] No such file or directory: '/nobackup_1/users/schreurs/project_GAN/rtcor_heavy_rain_labels/2016/07/201607211335.npy'\n",
      "[Errno 2] No such file or directory: '/nobackup_1/users/schreurs/project_GAN/rtcor_heavy_rain_labels/2016/07/201607211405.npy'\n",
      "[Errno 2] No such file or directory: '/nobackup_1/users/schreurs/project_GAN/rtcor_heavy_rain_labels/2016/07/201607211435.npy'\n",
      "[Errno 2] No such file or directory: '/nobackup_1/users/schreurs/project_GAN/rtcor_heavy_rain_labels/2016/07/201607211505.npy'\n",
      "[Errno 2] No such file or directory: '/nobackup_1/users/schreurs/project_GAN/rtcor_heavy_rain_labels/2016/07/201607211535.npy'\n",
      "[Errno 2] No such file or directory: '/nobackup_1/users/schreurs/project_GAN/rtcor_heavy_rain_labels/2016/07/201607211605.npy'\n",
      "[Errno 2] No such file or directory: '/nobackup_1/users/schreurs/project_GAN/rtcor_heavy_rain_labels/2016/07/201607211635.npy'\n",
      "[Errno 2] No such file or directory: '/nobackup_1/users/schreurs/project_GAN/rtcor_heavy_rain_labels/2016/07/201607211705.npy'\n",
      "[Errno 2] No such file or directory: '/nobackup_1/users/schreurs/project_GAN/rtcor_heavy_rain_labels/2016/07/201607211735.npy'\n",
      "[Errno 2] No such file or directory: '/nobackup_1/users/schreurs/project_GAN/rtcor_heavy_rain_labels/2016/07/201607211805.npy'\n",
      "[Errno 2] No such file or directory: '/nobackup_1/users/schreurs/project_GAN/rtcor_heavy_rain_labels/2016/07/201607211835.npy'\n",
      "[Errno 2] No such file or directory: '/nobackup_1/users/schreurs/project_GAN/rtcor_heavy_rain_labels/2016/07/201607211905.npy'\n",
      "[Errno 2] No such file or directory: '/nobackup_1/users/schreurs/project_GAN/rtcor_heavy_rain_labels/2016/07/201607211935.npy'\n",
      "[Errno 2] No such file or directory: '/nobackup_1/users/schreurs/project_GAN/rtcor_heavy_rain_labels/2016/07/201607212005.npy'\n",
      "[Errno 2] No such file or directory: '/nobackup_1/users/schreurs/project_GAN/rtcor_heavy_rain_labels/2016/07/201607212035.npy'\n",
      "[Errno 2] No such file or directory: '/nobackup_1/users/schreurs/project_GAN/rtcor_heavy_rain_labels/2016/07/201607212105.npy'\n",
      "[Errno 2] No such file or directory: '/nobackup_1/users/schreurs/project_GAN/rtcor_heavy_rain_labels/2016/07/201607212135.npy'\n",
      "[Errno 2] No such file or directory: '/nobackup_1/users/schreurs/project_GAN/rtcor_heavy_rain_labels/2016/07/201607212205.npy'\n",
      "[Errno 2] No such file or directory: '/nobackup_1/users/schreurs/project_GAN/rtcor_heavy_rain_labels/2016/07/201607212235.npy'\n",
      "[Errno 2] No such file or directory: '/nobackup_1/users/schreurs/project_GAN/rtcor_heavy_rain_labels/2016/07/201607212305.npy'\n",
      "[Errno 2] No such file or directory: '/nobackup_1/users/schreurs/project_GAN/rtcor_heavy_rain_labels/2016/07/201607212335.npy'\n",
      "[Errno 2] No such file or directory: '/nobackup_1/users/schreurs/project_GAN/rtcor_heavy_rain_labels/2016/07/201607260145.npy'\n",
      "[Errno 2] No such file or directory: '/nobackup_1/users/schreurs/project_GAN/rtcor_heavy_rain_labels/2016/08/201608270110.npy'\n",
      "[Errno 2] No such file or directory: '/nobackup_1/users/schreurs/project_GAN/rtcor_heavy_rain_labels/2016/08/201608270200.npy'\n",
      "[Errno 2] No such file or directory: '/nobackup_1/users/schreurs/project_GAN/rtcor_heavy_rain_labels/2016/09/201609171135.npy'\n",
      "[Errno 2] No such file or directory: '/nobackup_1/users/schreurs/project_GAN/rtcor_heavy_rain_labels/2016/09/201609171315.npy'\n",
      "[Errno 2] No such file or directory: '/nobackup_1/users/schreurs/project_GAN/rtcor_heavy_rain_labels/2016/09/201609171335.npy'\n",
      "[Errno 2] No such file or directory: '/nobackup_1/users/schreurs/project_GAN/rtcor_heavy_rain_labels/2016/09/201609171405.npy'\n",
      "[Errno 2] No such file or directory: '/nobackup_1/users/schreurs/project_GAN/rtcor_heavy_rain_labels/2016/09/201609171435.npy'\n",
      "[Errno 2] No such file or directory: '/nobackup_1/users/schreurs/project_GAN/rtcor_heavy_rain_labels/2016/09/201609171505.npy'\n",
      "[Errno 2] No such file or directory: '/nobackup_1/users/schreurs/project_GAN/rtcor_heavy_rain_labels/2016/09/201609171535.npy'\n",
      "[Errno 2] No such file or directory: '/nobackup_1/users/schreurs/project_GAN/rtcor_heavy_rain_labels/2016/09/201609171605.npy'\n",
      "[Errno 2] No such file or directory: '/nobackup_1/users/schreurs/project_GAN/rtcor_heavy_rain_labels/2016/09/201609171635.npy'\n",
      "[Errno 2] No such file or directory: '/nobackup_1/users/schreurs/project_GAN/rtcor_heavy_rain_labels/2016/09/201609171705.npy'\n",
      "[Errno 2] No such file or directory: '/nobackup_1/users/schreurs/project_GAN/rtcor_heavy_rain_labels/2016/09/201609171735.npy'\n",
      "[Errno 2] No such file or directory: '/nobackup_1/users/schreurs/project_GAN/rtcor_heavy_rain_labels/2016/09/201609171805.npy'\n",
      "[Errno 2] No such file or directory: '/nobackup_1/users/schreurs/project_GAN/rtcor_heavy_rain_labels/2016/09/201609171835.npy'\n"
     ]
    },
    {
     "name": "stdout",
     "output_type": "stream",
     "text": [
      "[Errno 2] No such file or directory: '/nobackup_1/users/schreurs/project_GAN/rtcor_heavy_rain_labels/2016/09/201609260450.npy'\n",
      "[Errno 2] No such file or directory: '/nobackup_1/users/schreurs/project_GAN/rtcor_heavy_rain_labels/2016/10/201610061015.npy'\n",
      "[Errno 2] No such file or directory: '/nobackup_1/users/schreurs/project_GAN/rtcor_heavy_rain_labels/2016/10/201610120630.npy'\n",
      "[Errno 2] No such file or directory: '/nobackup_1/users/schreurs/project_GAN/rtcor_heavy_rain_labels/2016/10/201610140135.npy'\n",
      "[Errno 2] No such file or directory: '/nobackup_1/users/schreurs/project_GAN/rtcor_heavy_rain_labels/2016/10/201610141845.npy'\n",
      "[Errno 2] No such file or directory: '/nobackup_1/users/schreurs/project_GAN/rtcor_heavy_rain_labels/2017/02/201702191600.npy'\n",
      "[Errno 2] No such file or directory: '/nobackup_1/users/schreurs/project_GAN/rtcor_heavy_rain_labels/2017/02/201702191605.npy'\n",
      "[Errno 2] No such file or directory: '/nobackup_1/users/schreurs/project_GAN/rtcor_heavy_rain_labels/2017/03/201703090000.npy'\n",
      "[Errno 2] No such file or directory: '/nobackup_1/users/schreurs/project_GAN/rtcor_heavy_rain_labels/2017/03/201703090005.npy'\n",
      "[Errno 2] No such file or directory: '/nobackup_1/users/schreurs/project_GAN/rtcor_heavy_rain_labels/2017/03/201703090035.npy'\n",
      "[Errno 2] No such file or directory: '/nobackup_1/users/schreurs/project_GAN/rtcor_heavy_rain_labels/2017/03/201703090105.npy'\n",
      "[Errno 2] No such file or directory: '/nobackup_1/users/schreurs/project_GAN/rtcor_heavy_rain_labels/2017/03/201703090135.npy'\n",
      "[Errno 2] No such file or directory: '/nobackup_1/users/schreurs/project_GAN/rtcor_heavy_rain_labels/2017/03/201703090205.npy'\n",
      "[Errno 2] No such file or directory: '/nobackup_1/users/schreurs/project_GAN/rtcor_heavy_rain_labels/2017/03/201703090235.npy'\n",
      "[Errno 2] No such file or directory: '/nobackup_1/users/schreurs/project_GAN/rtcor_heavy_rain_labels/2017/03/201703090305.npy'\n",
      "[Errno 2] No such file or directory: '/nobackup_1/users/schreurs/project_GAN/rtcor_heavy_rain_labels/2017/03/201703090335.npy'\n",
      "[Errno 2] No such file or directory: '/nobackup_1/users/schreurs/project_GAN/rtcor_heavy_rain_labels/2017/03/201703090405.npy'\n",
      "[Errno 2] No such file or directory: '/nobackup_1/users/schreurs/project_GAN/rtcor_heavy_rain_labels/2017/03/201703090435.npy'\n",
      "[Errno 2] No such file or directory: '/nobackup_1/users/schreurs/project_GAN/rtcor_heavy_rain_labels/2017/03/201703090505.npy'\n",
      "[Errno 2] No such file or directory: '/nobackup_1/users/schreurs/project_GAN/rtcor_heavy_rain_labels/2017/03/201703090535.npy'\n",
      "[Errno 2] No such file or directory: '/nobackup_1/users/schreurs/project_GAN/rtcor_heavy_rain_labels/2017/03/201703090605.npy'\n",
      "[Errno 2] No such file or directory: '/nobackup_1/users/schreurs/project_GAN/rtcor_heavy_rain_labels/2017/03/201703090635.npy'\n",
      "[Errno 2] No such file or directory: '/nobackup_1/users/schreurs/project_GAN/rtcor_heavy_rain_labels/2017/03/201703090705.npy'\n",
      "[Errno 2] No such file or directory: '/nobackup_1/users/schreurs/project_GAN/rtcor_heavy_rain_labels/2017/03/201703090735.npy'\n",
      "[Errno 2] No such file or directory: '/nobackup_1/users/schreurs/project_GAN/rtcor_heavy_rain_labels/2017/03/201703090805.npy'\n",
      "[Errno 2] No such file or directory: '/nobackup_1/users/schreurs/project_GAN/rtcor_heavy_rain_labels/2017/03/201703090835.npy'\n",
      "[Errno 2] No such file or directory: '/nobackup_1/users/schreurs/project_GAN/rtcor_heavy_rain_labels/2017/03/201703090905.npy'\n",
      "[Errno 2] No such file or directory: '/nobackup_1/users/schreurs/project_GAN/rtcor_heavy_rain_labels/2017/03/201703090935.npy'\n",
      "[Errno 2] No such file or directory: '/nobackup_1/users/schreurs/project_GAN/rtcor_heavy_rain_labels/2017/03/201703091005.npy'\n",
      "[Errno 2] No such file or directory: '/nobackup_1/users/schreurs/project_GAN/rtcor_heavy_rain_labels/2017/03/201703091035.npy'\n",
      "[Errno 2] No such file or directory: '/nobackup_1/users/schreurs/project_GAN/rtcor_heavy_rain_labels/2017/03/201703091105.npy'\n",
      "[Errno 2] No such file or directory: '/nobackup_1/users/schreurs/project_GAN/rtcor_heavy_rain_labels/2017/03/201703091135.npy'\n",
      "[Errno 2] No such file or directory: '/nobackup_1/users/schreurs/project_GAN/rtcor_heavy_rain_labels/2017/03/201703091205.npy'\n",
      "[Errno 2] No such file or directory: '/nobackup_1/users/schreurs/project_GAN/rtcor_heavy_rain_labels/2017/03/201703091235.npy'\n",
      "[Errno 2] No such file or directory: '/nobackup_1/users/schreurs/project_GAN/rtcor_heavy_rain_labels/2017/03/201703091305.npy'\n",
      "[Errno 2] No such file or directory: '/nobackup_1/users/schreurs/project_GAN/rtcor_heavy_rain_labels/2017/03/201703091335.npy'\n",
      "[Errno 2] No such file or directory: '/nobackup_1/users/schreurs/project_GAN/rtcor_heavy_rain_labels/2017/03/201703091405.npy'\n",
      "[Errno 2] No such file or directory: '/nobackup_1/users/schreurs/project_GAN/rtcor_heavy_rain_labels/2017/03/201703091435.npy'\n",
      "[Errno 2] No such file or directory: '/nobackup_1/users/schreurs/project_GAN/rtcor_heavy_rain_labels/2017/03/201703091505.npy'\n",
      "[Errno 2] No such file or directory: '/nobackup_1/users/schreurs/project_GAN/rtcor_heavy_rain_labels/2017/03/201703091535.npy'\n",
      "[Errno 2] No such file or directory: '/nobackup_1/users/schreurs/project_GAN/rtcor_heavy_rain_labels/2017/03/201703091605.npy'\n",
      "[Errno 2] No such file or directory: '/nobackup_1/users/schreurs/project_GAN/rtcor_heavy_rain_labels/2017/03/201703091635.npy'\n",
      "[Errno 2] No such file or directory: '/nobackup_1/users/schreurs/project_GAN/rtcor_heavy_rain_labels/2017/03/201703091705.npy'\n",
      "[Errno 2] No such file or directory: '/nobackup_1/users/schreurs/project_GAN/rtcor_heavy_rain_labels/2017/03/201703091735.npy'\n",
      "[Errno 2] No such file or directory: '/nobackup_1/users/schreurs/project_GAN/rtcor_heavy_rain_labels/2017/03/201703091805.npy'\n",
      "[Errno 2] No such file or directory: '/nobackup_1/users/schreurs/project_GAN/rtcor_heavy_rain_labels/2017/03/201703091835.npy'\n",
      "[Errno 2] No such file or directory: '/nobackup_1/users/schreurs/project_GAN/rtcor_heavy_rain_labels/2017/03/201703091905.npy'\n",
      "[Errno 2] No such file or directory: '/nobackup_1/users/schreurs/project_GAN/rtcor_heavy_rain_labels/2017/03/201703091935.npy'\n",
      "[Errno 2] No such file or directory: '/nobackup_1/users/schreurs/project_GAN/rtcor_heavy_rain_labels/2017/03/201703092005.npy'\n",
      "[Errno 2] No such file or directory: '/nobackup_1/users/schreurs/project_GAN/rtcor_heavy_rain_labels/2017/03/201703092035.npy'\n",
      "[Errno 2] No such file or directory: '/nobackup_1/users/schreurs/project_GAN/rtcor_heavy_rain_labels/2017/03/201703092105.npy'\n",
      "[Errno 2] No such file or directory: '/nobackup_1/users/schreurs/project_GAN/rtcor_heavy_rain_labels/2017/03/201703092135.npy'\n",
      "[Errno 2] No such file or directory: '/nobackup_1/users/schreurs/project_GAN/rtcor_heavy_rain_labels/2017/03/201703092205.npy'\n",
      "[Errno 2] No such file or directory: '/nobackup_1/users/schreurs/project_GAN/rtcor_heavy_rain_labels/2017/03/201703092235.npy'\n",
      "[Errno 2] No such file or directory: '/nobackup_1/users/schreurs/project_GAN/rtcor_heavy_rain_labels/2017/03/201703092305.npy'\n",
      "[Errno 2] No such file or directory: '/nobackup_1/users/schreurs/project_GAN/rtcor_heavy_rain_labels/2017/03/201703092335.npy'\n",
      "[Errno 2] No such file or directory: '/nobackup_1/users/schreurs/project_GAN/rtcor_heavy_rain_labels/2017/03/201703180405.npy'\n",
      "[Errno 2] No such file or directory: '/nobackup_1/users/schreurs/project_GAN/rtcor_heavy_rain_labels/2017/03/201703180445.npy'\n",
      "[Errno 2] No such file or directory: '/nobackup_1/users/schreurs/project_GAN/rtcor_heavy_rain_labels/2017/03/201703180505.npy'\n",
      "[Errno 2] No such file or directory: '/nobackup_1/users/schreurs/project_GAN/rtcor_heavy_rain_labels/2017/03/201703180535.npy'\n",
      "[Errno 2] No such file or directory: '/nobackup_1/users/schreurs/project_GAN/rtcor_heavy_rain_labels/2017/03/201703180605.npy'\n",
      "[Errno 2] No such file or directory: '/nobackup_1/users/schreurs/project_GAN/rtcor_heavy_rain_labels/2017/03/201703180640.npy'\n",
      "[Errno 2] No such file or directory: '/nobackup_1/users/schreurs/project_GAN/rtcor_heavy_rain_labels/2017/03/201703180705.npy'\n",
      "[Errno 2] No such file or directory: '/nobackup_1/users/schreurs/project_GAN/rtcor_heavy_rain_labels/2017/03/201703180745.npy'\n",
      "[Errno 2] No such file or directory: '/nobackup_1/users/schreurs/project_GAN/rtcor_heavy_rain_labels/2017/03/201703180805.npy'\n",
      "[Errno 2] No such file or directory: '/nobackup_1/users/schreurs/project_GAN/rtcor_heavy_rain_labels/2017/03/201703180840.npy'\n",
      "[Errno 2] No such file or directory: '/nobackup_1/users/schreurs/project_GAN/rtcor_heavy_rain_labels/2017/03/201703180905.npy'\n",
      "[Errno 2] No such file or directory: '/nobackup_1/users/schreurs/project_GAN/rtcor_heavy_rain_labels/2017/03/201703180935.npy'\n",
      "[Errno 2] No such file or directory: '/nobackup_1/users/schreurs/project_GAN/rtcor_heavy_rain_labels/2017/03/201703181005.npy'\n",
      "[Errno 2] No such file or directory: '/nobackup_1/users/schreurs/project_GAN/rtcor_heavy_rain_labels/2017/03/201703181045.npy'\n",
      "[Errno 2] No such file or directory: '/nobackup_1/users/schreurs/project_GAN/rtcor_heavy_rain_labels/2017/03/201703181105.npy'\n",
      "[Errno 2] No such file or directory: '/nobackup_1/users/schreurs/project_GAN/rtcor_heavy_rain_labels/2017/03/201703181140.npy'\n",
      "[Errno 2] No such file or directory: '/nobackup_1/users/schreurs/project_GAN/rtcor_heavy_rain_labels/2017/03/201703181205.npy'\n",
      "[Errno 2] No such file or directory: '/nobackup_1/users/schreurs/project_GAN/rtcor_heavy_rain_labels/2017/03/201703181235.npy'\n",
      "[Errno 2] No such file or directory: '/nobackup_1/users/schreurs/project_GAN/rtcor_heavy_rain_labels/2017/03/201703181355.npy'\n",
      "[Errno 2] No such file or directory: '/nobackup_1/users/schreurs/project_GAN/rtcor_heavy_rain_labels/2017/03/201703200000.npy'\n",
      "[Errno 2] No such file or directory: '/nobackup_1/users/schreurs/project_GAN/rtcor_heavy_rain_labels/2017/03/201703200005.npy'\n",
      "[Errno 2] No such file or directory: '/nobackup_1/users/schreurs/project_GAN/rtcor_heavy_rain_labels/2017/03/201703200035.npy'\n",
      "[Errno 2] No such file or directory: '/nobackup_1/users/schreurs/project_GAN/rtcor_heavy_rain_labels/2017/03/201703200105.npy'\n",
      "[Errno 2] No such file or directory: '/nobackup_1/users/schreurs/project_GAN/rtcor_heavy_rain_labels/2017/03/201703200135.npy'\n",
      "[Errno 2] No such file or directory: '/nobackup_1/users/schreurs/project_GAN/rtcor_heavy_rain_labels/2017/03/201703200205.npy'\n",
      "[Errno 2] No such file or directory: '/nobackup_1/users/schreurs/project_GAN/rtcor_heavy_rain_labels/2017/03/201703200235.npy'\n",
      "[Errno 2] No such file or directory: '/nobackup_1/users/schreurs/project_GAN/rtcor_heavy_rain_labels/2017/03/201703200305.npy'\n",
      "[Errno 2] No such file or directory: '/nobackup_1/users/schreurs/project_GAN/rtcor_heavy_rain_labels/2017/03/201703200335.npy'\n",
      "[Errno 2] No such file or directory: '/nobackup_1/users/schreurs/project_GAN/rtcor_heavy_rain_labels/2017/03/201703200405.npy'\n",
      "[Errno 2] No such file or directory: '/nobackup_1/users/schreurs/project_GAN/rtcor_heavy_rain_labels/2017/03/201703200435.npy'\n",
      "[Errno 2] No such file or directory: '/nobackup_1/users/schreurs/project_GAN/rtcor_heavy_rain_labels/2017/03/201703200505.npy'\n",
      "[Errno 2] No such file or directory: '/nobackup_1/users/schreurs/project_GAN/rtcor_heavy_rain_labels/2017/03/201703200535.npy'\n",
      "[Errno 2] No such file or directory: '/nobackup_1/users/schreurs/project_GAN/rtcor_heavy_rain_labels/2017/03/201703200605.npy'\n",
      "[Errno 2] No such file or directory: '/nobackup_1/users/schreurs/project_GAN/rtcor_heavy_rain_labels/2017/03/201703200635.npy'\n",
      "[Errno 2] No such file or directory: '/nobackup_1/users/schreurs/project_GAN/rtcor_heavy_rain_labels/2017/03/201703200705.npy'\n",
      "[Errno 2] No such file or directory: '/nobackup_1/users/schreurs/project_GAN/rtcor_heavy_rain_labels/2017/03/201703200735.npy'\n",
      "[Errno 2] No such file or directory: '/nobackup_1/users/schreurs/project_GAN/rtcor_heavy_rain_labels/2017/03/201703200805.npy'\n",
      "[Errno 2] No such file or directory: '/nobackup_1/users/schreurs/project_GAN/rtcor_heavy_rain_labels/2017/03/201703200835.npy'\n",
      "[Errno 2] No such file or directory: '/nobackup_1/users/schreurs/project_GAN/rtcor_heavy_rain_labels/2017/03/201703200905.npy'\n",
      "[Errno 2] No such file or directory: '/nobackup_1/users/schreurs/project_GAN/rtcor_heavy_rain_labels/2017/03/201703200935.npy'\n",
      "[Errno 2] No such file or directory: '/nobackup_1/users/schreurs/project_GAN/rtcor_heavy_rain_labels/2017/03/201703201005.npy'\n",
      "[Errno 2] No such file or directory: '/nobackup_1/users/schreurs/project_GAN/rtcor_heavy_rain_labels/2017/03/201703201035.npy'\n",
      "[Errno 2] No such file or directory: '/nobackup_1/users/schreurs/project_GAN/rtcor_heavy_rain_labels/2017/03/201703201105.npy'\n",
      "[Errno 2] No such file or directory: '/nobackup_1/users/schreurs/project_GAN/rtcor_heavy_rain_labels/2017/03/201703201135.npy'\n",
      "[Errno 2] No such file or directory: '/nobackup_1/users/schreurs/project_GAN/rtcor_heavy_rain_labels/2017/03/201703201205.npy'\n",
      "[Errno 2] No such file or directory: '/nobackup_1/users/schreurs/project_GAN/rtcor_heavy_rain_labels/2017/03/201703201235.npy'\n",
      "[Errno 2] No such file or directory: '/nobackup_1/users/schreurs/project_GAN/rtcor_heavy_rain_labels/2017/03/201703201305.npy'\n",
      "[Errno 2] No such file or directory: '/nobackup_1/users/schreurs/project_GAN/rtcor_heavy_rain_labels/2017/03/201703201335.npy'\n",
      "[Errno 2] No such file or directory: '/nobackup_1/users/schreurs/project_GAN/rtcor_heavy_rain_labels/2017/03/201703201405.npy'\n",
      "[Errno 2] No such file or directory: '/nobackup_1/users/schreurs/project_GAN/rtcor_heavy_rain_labels/2017/03/201703201435.npy'\n",
      "[Errno 2] No such file or directory: '/nobackup_1/users/schreurs/project_GAN/rtcor_heavy_rain_labels/2017/03/201703201505.npy'\n",
      "[Errno 2] No such file or directory: '/nobackup_1/users/schreurs/project_GAN/rtcor_heavy_rain_labels/2017/03/201703201535.npy'\n",
      "[Errno 2] No such file or directory: '/nobackup_1/users/schreurs/project_GAN/rtcor_heavy_rain_labels/2017/03/201703201605.npy'\n",
      "[Errno 2] No such file or directory: '/nobackup_1/users/schreurs/project_GAN/rtcor_heavy_rain_labels/2017/03/201703201635.npy'\n",
      "[Errno 2] No such file or directory: '/nobackup_1/users/schreurs/project_GAN/rtcor_heavy_rain_labels/2017/03/201703201705.npy'\n",
      "[Errno 2] No such file or directory: '/nobackup_1/users/schreurs/project_GAN/rtcor_heavy_rain_labels/2017/03/201703201735.npy'\n",
      "[Errno 2] No such file or directory: '/nobackup_1/users/schreurs/project_GAN/rtcor_heavy_rain_labels/2017/03/201703201805.npy'\n",
      "[Errno 2] No such file or directory: '/nobackup_1/users/schreurs/project_GAN/rtcor_heavy_rain_labels/2017/03/201703201835.npy'\n",
      "[Errno 2] No such file or directory: '/nobackup_1/users/schreurs/project_GAN/rtcor_heavy_rain_labels/2017/03/201703201905.npy'\n",
      "[Errno 2] No such file or directory: '/nobackup_1/users/schreurs/project_GAN/rtcor_heavy_rain_labels/2017/03/201703201935.npy'\n",
      "[Errno 2] No such file or directory: '/nobackup_1/users/schreurs/project_GAN/rtcor_heavy_rain_labels/2017/03/201703202005.npy'\n",
      "[Errno 2] No such file or directory: '/nobackup_1/users/schreurs/project_GAN/rtcor_heavy_rain_labels/2017/03/201703202035.npy'\n",
      "[Errno 2] No such file or directory: '/nobackup_1/users/schreurs/project_GAN/rtcor_heavy_rain_labels/2017/03/201703202105.npy'\n",
      "[Errno 2] No such file or directory: '/nobackup_1/users/schreurs/project_GAN/rtcor_heavy_rain_labels/2017/03/201703202135.npy'\n",
      "[Errno 2] No such file or directory: '/nobackup_1/users/schreurs/project_GAN/rtcor_heavy_rain_labels/2017/03/201703202205.npy'\n",
      "[Errno 2] No such file or directory: '/nobackup_1/users/schreurs/project_GAN/rtcor_heavy_rain_labels/2017/03/201703202235.npy'\n",
      "[Errno 2] No such file or directory: '/nobackup_1/users/schreurs/project_GAN/rtcor_heavy_rain_labels/2017/03/201703202305.npy'\n",
      "[Errno 2] No such file or directory: '/nobackup_1/users/schreurs/project_GAN/rtcor_heavy_rain_labels/2017/03/201703202335.npy'\n"
     ]
    },
    {
     "name": "stdout",
     "output_type": "stream",
     "text": [
      "[Errno 2] No such file or directory: '/nobackup_1/users/schreurs/project_GAN/rtcor_heavy_rain_labels/2017/05/201705201500.npy'\n",
      "[Errno 2] No such file or directory: '/nobackup_1/users/schreurs/project_GAN/rtcor_heavy_rain_labels/2017/05/201705240855.npy'\n",
      "[Errno 2] No such file or directory: '/nobackup_1/users/schreurs/project_GAN/rtcor_heavy_rain_labels/2017/05/201705240905.npy'\n",
      "[Errno 2] No such file or directory: '/nobackup_1/users/schreurs/project_GAN/rtcor_heavy_rain_labels/2017/05/201705241400.npy'\n",
      "[Errno 2] No such file or directory: '/nobackup_1/users/schreurs/project_GAN/rtcor_heavy_rain_labels/2017/06/201706261920.npy'\n",
      "[Errno 2] No such file or directory: '/nobackup_1/users/schreurs/project_GAN/rtcor_heavy_rain_labels/2017/07/201707191800.npy'\n",
      "[Errno 2] No such file or directory: '/nobackup_1/users/schreurs/project_GAN/rtcor_heavy_rain_labels/2017/07/201707220255.npy'\n",
      "[Errno 2] No such file or directory: '/nobackup_1/users/schreurs/project_GAN/rtcor_heavy_rain_labels/2017/08/201708021200.npy'\n",
      "[Errno 2] No such file or directory: '/nobackup_1/users/schreurs/project_GAN/rtcor_heavy_rain_labels/2017/08/201708021205.npy'\n",
      "[Errno 2] No such file or directory: '/nobackup_1/users/schreurs/project_GAN/rtcor_heavy_rain_labels/2017/08/201708031250.npy'\n",
      "[Errno 2] No such file or directory: '/nobackup_1/users/schreurs/project_GAN/rtcor_heavy_rain_labels/2017/10/201710200740.npy'\n",
      "[Errno 2] No such file or directory: '/nobackup_1/users/schreurs/project_GAN/rtcor_heavy_rain_labels/2018/01/201801231240.npy'\n",
      "[Errno 2] No such file or directory: '/nobackup_1/users/schreurs/project_GAN/rtcor_heavy_rain_labels/2018/04/201804191135.npy'\n",
      "[Errno 2] No such file or directory: '/nobackup_1/users/schreurs/project_GAN/rtcor_heavy_rain_labels/2018/04/201804250800.npy'\n",
      "[Errno 2] No such file or directory: '/nobackup_1/users/schreurs/project_GAN/rtcor_heavy_rain_labels/2018/05/201805020200.npy'\n",
      "[Errno 2] No such file or directory: '/nobackup_1/users/schreurs/project_GAN/rtcor_heavy_rain_labels/2018/05/201805220000.npy'\n",
      "[Errno 2] No such file or directory: '/nobackup_1/users/schreurs/project_GAN/rtcor_heavy_rain_labels/2018/05/201805220005.npy'\n",
      "[Errno 2] No such file or directory: '/nobackup_1/users/schreurs/project_GAN/rtcor_heavy_rain_labels/2018/05/201805220035.npy'\n",
      "[Errno 2] No such file or directory: '/nobackup_1/users/schreurs/project_GAN/rtcor_heavy_rain_labels/2018/05/201805220105.npy'\n",
      "[Errno 2] No such file or directory: '/nobackup_1/users/schreurs/project_GAN/rtcor_heavy_rain_labels/2018/05/201805220135.npy'\n",
      "[Errno 2] No such file or directory: '/nobackup_1/users/schreurs/project_GAN/rtcor_heavy_rain_labels/2018/05/201805220205.npy'\n",
      "[Errno 2] No such file or directory: '/nobackup_1/users/schreurs/project_GAN/rtcor_heavy_rain_labels/2018/05/201805220235.npy'\n",
      "[Errno 2] No such file or directory: '/nobackup_1/users/schreurs/project_GAN/rtcor_heavy_rain_labels/2018/05/201805220305.npy'\n",
      "[Errno 2] No such file or directory: '/nobackup_1/users/schreurs/project_GAN/rtcor_heavy_rain_labels/2018/05/201805220335.npy'\n",
      "[Errno 2] No such file or directory: '/nobackup_1/users/schreurs/project_GAN/rtcor_heavy_rain_labels/2018/05/201805220405.npy'\n",
      "[Errno 2] No such file or directory: '/nobackup_1/users/schreurs/project_GAN/rtcor_heavy_rain_labels/2018/05/201805220435.npy'\n",
      "[Errno 2] No such file or directory: '/nobackup_1/users/schreurs/project_GAN/rtcor_heavy_rain_labels/2018/05/201805220505.npy'\n",
      "[Errno 2] No such file or directory: '/nobackup_1/users/schreurs/project_GAN/rtcor_heavy_rain_labels/2018/05/201805220535.npy'\n",
      "[Errno 2] No such file or directory: '/nobackup_1/users/schreurs/project_GAN/rtcor_heavy_rain_labels/2018/05/201805220605.npy'\n",
      "[Errno 2] No such file or directory: '/nobackup_1/users/schreurs/project_GAN/rtcor_heavy_rain_labels/2018/05/201805220635.npy'\n",
      "[Errno 2] No such file or directory: '/nobackup_1/users/schreurs/project_GAN/rtcor_heavy_rain_labels/2018/05/201805220705.npy'\n",
      "[Errno 2] No such file or directory: '/nobackup_1/users/schreurs/project_GAN/rtcor_heavy_rain_labels/2018/05/201805220735.npy'\n",
      "[Errno 2] No such file or directory: '/nobackup_1/users/schreurs/project_GAN/rtcor_heavy_rain_labels/2018/05/201805220805.npy'\n",
      "[Errno 2] No such file or directory: '/nobackup_1/users/schreurs/project_GAN/rtcor_heavy_rain_labels/2018/05/201805220835.npy'\n",
      "[Errno 2] No such file or directory: '/nobackup_1/users/schreurs/project_GAN/rtcor_heavy_rain_labels/2018/05/201805220905.npy'\n",
      "[Errno 2] No such file or directory: '/nobackup_1/users/schreurs/project_GAN/rtcor_heavy_rain_labels/2018/05/201805220935.npy'\n",
      "[Errno 2] No such file or directory: '/nobackup_1/users/schreurs/project_GAN/rtcor_heavy_rain_labels/2018/05/201805221005.npy'\n",
      "[Errno 2] No such file or directory: '/nobackup_1/users/schreurs/project_GAN/rtcor_heavy_rain_labels/2018/05/201805221035.npy'\n",
      "[Errno 2] No such file or directory: '/nobackup_1/users/schreurs/project_GAN/rtcor_heavy_rain_labels/2018/05/201805221105.npy'\n",
      "[Errno 2] No such file or directory: '/nobackup_1/users/schreurs/project_GAN/rtcor_heavy_rain_labels/2018/05/201805221135.npy'\n",
      "[Errno 2] No such file or directory: '/nobackup_1/users/schreurs/project_GAN/rtcor_heavy_rain_labels/2018/05/201805221205.npy'\n",
      "[Errno 2] No such file or directory: '/nobackup_1/users/schreurs/project_GAN/rtcor_heavy_rain_labels/2018/05/201805221235.npy'\n",
      "[Errno 2] No such file or directory: '/nobackup_1/users/schreurs/project_GAN/rtcor_heavy_rain_labels/2018/05/201805221305.npy'\n",
      "[Errno 2] No such file or directory: '/nobackup_1/users/schreurs/project_GAN/rtcor_heavy_rain_labels/2018/05/201805221335.npy'\n",
      "[Errno 2] No such file or directory: '/nobackup_1/users/schreurs/project_GAN/rtcor_heavy_rain_labels/2018/05/201805221405.npy'\n",
      "[Errno 2] No such file or directory: '/nobackup_1/users/schreurs/project_GAN/rtcor_heavy_rain_labels/2018/05/201805221435.npy'\n",
      "[Errno 2] No such file or directory: '/nobackup_1/users/schreurs/project_GAN/rtcor_heavy_rain_labels/2018/05/201805221505.npy'\n",
      "[Errno 2] No such file or directory: '/nobackup_1/users/schreurs/project_GAN/rtcor_heavy_rain_labels/2018/05/201805221535.npy'\n",
      "[Errno 2] No such file or directory: '/nobackup_1/users/schreurs/project_GAN/rtcor_heavy_rain_labels/2018/05/201805221605.npy'\n",
      "[Errno 2] No such file or directory: '/nobackup_1/users/schreurs/project_GAN/rtcor_heavy_rain_labels/2018/05/201805221635.npy'\n",
      "[Errno 2] No such file or directory: '/nobackup_1/users/schreurs/project_GAN/rtcor_heavy_rain_labels/2018/05/201805221705.npy'\n",
      "[Errno 2] No such file or directory: '/nobackup_1/users/schreurs/project_GAN/rtcor_heavy_rain_labels/2018/05/201805221735.npy'\n",
      "[Errno 2] No such file or directory: '/nobackup_1/users/schreurs/project_GAN/rtcor_heavy_rain_labels/2018/05/201805221805.npy'\n",
      "[Errno 2] No such file or directory: '/nobackup_1/users/schreurs/project_GAN/rtcor_heavy_rain_labels/2018/05/201805221835.npy'\n",
      "[Errno 2] No such file or directory: '/nobackup_1/users/schreurs/project_GAN/rtcor_heavy_rain_labels/2018/05/201805221905.npy'\n",
      "[Errno 2] No such file or directory: '/nobackup_1/users/schreurs/project_GAN/rtcor_heavy_rain_labels/2018/05/201805221935.npy'\n",
      "[Errno 2] No such file or directory: '/nobackup_1/users/schreurs/project_GAN/rtcor_heavy_rain_labels/2018/05/201805222005.npy'\n",
      "[Errno 2] No such file or directory: '/nobackup_1/users/schreurs/project_GAN/rtcor_heavy_rain_labels/2018/05/201805222035.npy'\n",
      "[Errno 2] No such file or directory: '/nobackup_1/users/schreurs/project_GAN/rtcor_heavy_rain_labels/2018/05/201805222105.npy'\n",
      "[Errno 2] No such file or directory: '/nobackup_1/users/schreurs/project_GAN/rtcor_heavy_rain_labels/2018/05/201805222135.npy'\n",
      "[Errno 2] No such file or directory: '/nobackup_1/users/schreurs/project_GAN/rtcor_heavy_rain_labels/2018/05/201805222205.npy'\n",
      "[Errno 2] No such file or directory: '/nobackup_1/users/schreurs/project_GAN/rtcor_heavy_rain_labels/2018/05/201805222235.npy'\n",
      "[Errno 2] No such file or directory: '/nobackup_1/users/schreurs/project_GAN/rtcor_heavy_rain_labels/2018/05/201805222305.npy'\n",
      "[Errno 2] No such file or directory: '/nobackup_1/users/schreurs/project_GAN/rtcor_heavy_rain_labels/2018/05/201805222335.npy'\n",
      "[Errno 2] No such file or directory: '/nobackup_1/users/schreurs/project_GAN/rtcor_heavy_rain_labels/2018/05/201805310930.npy'\n"
     ]
    },
    {
     "name": "stdout",
     "output_type": "stream",
     "text": [
      "[Errno 2] No such file or directory: '/nobackup_1/users/schreurs/project_GAN/rtcor_heavy_rain_labels/2018/06/201806240940.npy'\n",
      "[Errno 2] No such file or directory: '/nobackup_1/users/schreurs/project_GAN/rtcor_heavy_rain_labels/2018/07/201807030000.npy'\n",
      "[Errno 2] No such file or directory: '/nobackup_1/users/schreurs/project_GAN/rtcor_heavy_rain_labels/2018/07/201807030005.npy'\n",
      "[Errno 2] No such file or directory: '/nobackup_1/users/schreurs/project_GAN/rtcor_heavy_rain_labels/2018/07/201807030035.npy'\n",
      "[Errno 2] No such file or directory: '/nobackup_1/users/schreurs/project_GAN/rtcor_heavy_rain_labels/2018/07/201807030105.npy'\n",
      "[Errno 2] No such file or directory: '/nobackup_1/users/schreurs/project_GAN/rtcor_heavy_rain_labels/2018/07/201807030135.npy'\n",
      "[Errno 2] No such file or directory: '/nobackup_1/users/schreurs/project_GAN/rtcor_heavy_rain_labels/2018/07/201807030205.npy'\n",
      "[Errno 2] No such file or directory: '/nobackup_1/users/schreurs/project_GAN/rtcor_heavy_rain_labels/2018/07/201807030235.npy'\n",
      "[Errno 2] No such file or directory: '/nobackup_1/users/schreurs/project_GAN/rtcor_heavy_rain_labels/2018/07/201807030305.npy'\n",
      "[Errno 2] No such file or directory: '/nobackup_1/users/schreurs/project_GAN/rtcor_heavy_rain_labels/2018/07/201807030335.npy'\n",
      "[Errno 2] No such file or directory: '/nobackup_1/users/schreurs/project_GAN/rtcor_heavy_rain_labels/2018/07/201807030405.npy'\n",
      "[Errno 2] No such file or directory: '/nobackup_1/users/schreurs/project_GAN/rtcor_heavy_rain_labels/2018/07/201807030435.npy'\n",
      "[Errno 2] No such file or directory: '/nobackup_1/users/schreurs/project_GAN/rtcor_heavy_rain_labels/2018/07/201807030505.npy'\n",
      "[Errno 2] No such file or directory: '/nobackup_1/users/schreurs/project_GAN/rtcor_heavy_rain_labels/2018/07/201807030535.npy'\n",
      "[Errno 2] No such file or directory: '/nobackup_1/users/schreurs/project_GAN/rtcor_heavy_rain_labels/2018/07/201807030605.npy'\n",
      "[Errno 2] No such file or directory: '/nobackup_1/users/schreurs/project_GAN/rtcor_heavy_rain_labels/2018/07/201807030635.npy'\n",
      "[Errno 2] No such file or directory: '/nobackup_1/users/schreurs/project_GAN/rtcor_heavy_rain_labels/2018/07/201807030705.npy'\n",
      "[Errno 2] No such file or directory: '/nobackup_1/users/schreurs/project_GAN/rtcor_heavy_rain_labels/2018/07/201807030735.npy'\n",
      "[Errno 2] No such file or directory: '/nobackup_1/users/schreurs/project_GAN/rtcor_heavy_rain_labels/2018/07/201807030805.npy'\n",
      "[Errno 2] No such file or directory: '/nobackup_1/users/schreurs/project_GAN/rtcor_heavy_rain_labels/2018/07/201807030835.npy'\n",
      "[Errno 2] No such file or directory: '/nobackup_1/users/schreurs/project_GAN/rtcor_heavy_rain_labels/2018/07/201807030905.npy'\n",
      "[Errno 2] No such file or directory: '/nobackup_1/users/schreurs/project_GAN/rtcor_heavy_rain_labels/2018/07/201807030935.npy'\n",
      "[Errno 2] No such file or directory: '/nobackup_1/users/schreurs/project_GAN/rtcor_heavy_rain_labels/2018/07/201807031005.npy'\n",
      "[Errno 2] No such file or directory: '/nobackup_1/users/schreurs/project_GAN/rtcor_heavy_rain_labels/2018/07/201807031035.npy'\n",
      "[Errno 2] No such file or directory: '/nobackup_1/users/schreurs/project_GAN/rtcor_heavy_rain_labels/2018/07/201807031105.npy'\n",
      "[Errno 2] No such file or directory: '/nobackup_1/users/schreurs/project_GAN/rtcor_heavy_rain_labels/2018/07/201807031135.npy'\n",
      "[Errno 2] No such file or directory: '/nobackup_1/users/schreurs/project_GAN/rtcor_heavy_rain_labels/2018/07/201807031205.npy'\n",
      "[Errno 2] No such file or directory: '/nobackup_1/users/schreurs/project_GAN/rtcor_heavy_rain_labels/2018/07/201807031235.npy'\n",
      "[Errno 2] No such file or directory: '/nobackup_1/users/schreurs/project_GAN/rtcor_heavy_rain_labels/2018/07/201807031305.npy'\n",
      "[Errno 2] No such file or directory: '/nobackup_1/users/schreurs/project_GAN/rtcor_heavy_rain_labels/2018/07/201807031335.npy'\n",
      "[Errno 2] No such file or directory: '/nobackup_1/users/schreurs/project_GAN/rtcor_heavy_rain_labels/2018/07/201807031405.npy'\n",
      "[Errno 2] No such file or directory: '/nobackup_1/users/schreurs/project_GAN/rtcor_heavy_rain_labels/2018/07/201807031435.npy'\n",
      "[Errno 2] No such file or directory: '/nobackup_1/users/schreurs/project_GAN/rtcor_heavy_rain_labels/2018/07/201807031505.npy'\n",
      "[Errno 2] No such file or directory: '/nobackup_1/users/schreurs/project_GAN/rtcor_heavy_rain_labels/2018/07/201807031535.npy'\n",
      "[Errno 2] No such file or directory: '/nobackup_1/users/schreurs/project_GAN/rtcor_heavy_rain_labels/2018/07/201807031605.npy'\n",
      "[Errno 2] No such file or directory: '/nobackup_1/users/schreurs/project_GAN/rtcor_heavy_rain_labels/2018/07/201807031635.npy'\n",
      "[Errno 2] No such file or directory: '/nobackup_1/users/schreurs/project_GAN/rtcor_heavy_rain_labels/2018/07/201807031705.npy'\n",
      "[Errno 2] No such file or directory: '/nobackup_1/users/schreurs/project_GAN/rtcor_heavy_rain_labels/2018/07/201807031735.npy'\n",
      "[Errno 2] No such file or directory: '/nobackup_1/users/schreurs/project_GAN/rtcor_heavy_rain_labels/2018/07/201807031805.npy'\n",
      "[Errno 2] No such file or directory: '/nobackup_1/users/schreurs/project_GAN/rtcor_heavy_rain_labels/2018/07/201807031835.npy'\n",
      "[Errno 2] No such file or directory: '/nobackup_1/users/schreurs/project_GAN/rtcor_heavy_rain_labels/2018/07/201807031905.npy'\n",
      "[Errno 2] No such file or directory: '/nobackup_1/users/schreurs/project_GAN/rtcor_heavy_rain_labels/2018/07/201807031935.npy'\n",
      "[Errno 2] No such file or directory: '/nobackup_1/users/schreurs/project_GAN/rtcor_heavy_rain_labels/2018/07/201807032005.npy'\n",
      "[Errno 2] No such file or directory: '/nobackup_1/users/schreurs/project_GAN/rtcor_heavy_rain_labels/2018/07/201807032035.npy'\n",
      "[Errno 2] No such file or directory: '/nobackup_1/users/schreurs/project_GAN/rtcor_heavy_rain_labels/2018/07/201807032105.npy'\n",
      "[Errno 2] No such file or directory: '/nobackup_1/users/schreurs/project_GAN/rtcor_heavy_rain_labels/2018/07/201807032135.npy'\n",
      "[Errno 2] No such file or directory: '/nobackup_1/users/schreurs/project_GAN/rtcor_heavy_rain_labels/2018/07/201807032205.npy'\n",
      "[Errno 2] No such file or directory: '/nobackup_1/users/schreurs/project_GAN/rtcor_heavy_rain_labels/2018/07/201807032235.npy'\n",
      "[Errno 2] No such file or directory: '/nobackup_1/users/schreurs/project_GAN/rtcor_heavy_rain_labels/2018/07/201807032305.npy'\n",
      "[Errno 2] No such file or directory: '/nobackup_1/users/schreurs/project_GAN/rtcor_heavy_rain_labels/2018/07/201807032335.npy'\n",
      "[Errno 2] No such file or directory: '/nobackup_1/users/schreurs/project_GAN/rtcor_heavy_rain_labels/2018/12/201812191320.npy'\n",
      "[Errno 2] No such file or directory: '/nobackup_1/users/schreurs/project_GAN/rtcor_heavy_rain_labels/2018/12/201812191335.npy'\n",
      "[Errno 2] No such file or directory: '/nobackup_1/users/schreurs/project_GAN/rtcor_heavy_rain_labels/2018/12/201812191435.npy'\n",
      "[Errno 2] No such file or directory: '/nobackup_1/users/schreurs/project_GAN/rtcor_heavy_rain_labels/2018/12/201812191950.npy'\n",
      "[Errno 2] No such file or directory: '/nobackup_1/users/schreurs/project_GAN/rtcor_heavy_rain_labels/2018/12/201812192005.npy'\n",
      "[Errno 2] No such file or directory: '/nobackup_1/users/schreurs/project_GAN/rtcor_heavy_rain_labels/2018/12/201812192320.npy'\n",
      "[Errno 2] No such file or directory: '/nobackup_1/users/schreurs/project_GAN/rtcor_heavy_rain_labels/2018/12/201812192335.npy'\n",
      "[Errno 2] No such file or directory: '/nobackup_1/users/schreurs/project_GAN/rtcor_heavy_rain_labels/2019/05/201905272300.npy'\n",
      "[Errno 2] No such file or directory: '/nobackup_1/users/schreurs/project_GAN/rtcor_heavy_rain_labels/2019/05/201905272305.npy'\n",
      "[Errno 2] No such file or directory: '/nobackup_1/users/schreurs/project_GAN/rtcor_heavy_rain_labels/2019/05/201905272335.npy'\n",
      "[Errno 2] No such file or directory: '/nobackup_1/users/schreurs/project_GAN/rtcor_heavy_rain_labels/2019/05/201905280030.npy'\n",
      "[Errno 2] No such file or directory: '/nobackup_1/users/schreurs/project_GAN/rtcor_heavy_rain_labels/2019/05/201905280130.npy'\n",
      "[Errno 2] No such file or directory: '/nobackup_1/users/schreurs/project_GAN/rtcor_heavy_rain_labels/2019/05/201905280135.npy'\n",
      "[Errno 2] No such file or directory: '/nobackup_1/users/schreurs/project_GAN/rtcor_heavy_rain_labels/2019/07/201907271735.npy'\n",
      "[Errno 2] No such file or directory: '/nobackup_1/users/schreurs/project_GAN/rtcor_heavy_rain_labels/2019/10/201910140700.npy'\n"
     ]
    },
    {
     "name": "stdout",
     "output_type": "stream",
     "text": [
      "[Errno 2] No such file or directory: '/nobackup_1/users/schreurs/project_GAN/rtcor_heavy_rain_labels/2019/11/201911201805.npy'\n",
      "[Errno 2] No such file or directory: '/nobackup_1/users/schreurs/project_GAN/rtcor_heavy_rain_labels/2019/11/201911202015.npy'\n",
      "[Errno 2] No such file or directory: '/nobackup_1/users/schreurs/project_GAN/rtcor_heavy_rain_labels/2019/11/201911202035.npy'\n",
      "[Errno 2] No such file or directory: '/nobackup_1/users/schreurs/project_GAN/rtcor_heavy_rain_labels/2019/11/201911202105.npy'\n",
      "[Errno 2] No such file or directory: '/nobackup_1/users/schreurs/project_GAN/rtcor_heavy_rain_labels/2019/12/201912271350.npy'\n",
      "[Errno 2] No such file or directory: '/nobackup_1/users/schreurs/project_GAN/rtcor_heavy_rain_labels/2019/12/201912271405.npy'\n",
      "[Errno 2] No such file or directory: '/nobackup_1/users/schreurs/project_GAN/rtcor_heavy_rain_labels/2019/12/201912271435.npy'\n",
      "(['201912291835', '201912291840', '201912291845', '201912291850', '201912291855', '201912291900'], ['201912291930', '201912292000', '201912292030'])\n",
      "3461\n"
     ]
    }
   ],
   "source": [
    "from batchcreator import get_list_IDs\n",
    "\n",
    "# for testing preprocess some more files with different y interval setttings\n",
    "start_dt = datetime(2016,1,1,0,0)\n",
    "end_dt =  datetime(2020,1,1,0,0)\n",
    "\n",
    "list_IDs = get_list_IDs(start_dt, end_dt, x_seq_size=6, y_seq_size=3, filter_no_rain='avg0.01mm', y_interval=30)\n",
    "print(list_IDs[-1])\n",
    "print(len(list_IDs))"
   ]
  },
  {
   "cell_type": "code",
   "execution_count": 17,
   "metadata": {},
   "outputs": [
    {
     "name": "stderr",
     "output_type": "stream",
     "text": [
      "<ipython-input-17-517314d5028e>:1: VisibleDeprecationWarning: Creating an ndarray from ragged nested sequences (which is a list-or-tuple of lists-or-tuples-or ndarrays with different lengths or shapes) is deprecated. If you meant to do this, you must specify 'dtype=object' when creating the ndarray\n",
      "  list_IDs = np.array(list_IDs)\n"
     ]
    }
   ],
   "source": [
    "list_IDs = np.array(list_IDs)"
   ]
  },
  {
   "cell_type": "code",
   "execution_count": 19,
   "metadata": {},
   "outputs": [
    {
     "name": "stderr",
     "output_type": "stream",
     "text": [
      " 50%|█████     | 15691/31149 [00:06<00:05, 2637.69it/s]"
     ]
    },
    {
     "name": "stdout",
     "output_type": "stream",
     "text": [
      "Unable to open file (unable to open file: name = '/nobackup_1/users/schreurs/project_GAN/dataset_rtcor2/2019/03/RAD_NL25_RAC_5M_201903070435.h5', errno = 2, error message = 'No such file or directory', flags = 0, o_flags = 0)\n",
      "Unable to open file (unable to open file: name = '/nobackup_1/users/schreurs/project_GAN/dataset_rtcor2/2019/03/RAD_NL25_RAC_5M_201903070440.h5', errno = 2, error message = 'No such file or directory', flags = 0, o_flags = 0)\n",
      "Unable to open file (unable to open file: name = '/nobackup_1/users/schreurs/project_GAN/dataset_rtcor2/2019/03/RAD_NL25_RAC_5M_201903070445.h5', errno = 2, error message = 'No such file or directory', flags = 0, o_flags = 0)\n",
      "Unable to open file (unable to open file: name = '/nobackup_1/users/schreurs/project_GAN/dataset_rtcor2/2019/03/RAD_NL25_RAC_5M_201903070450.h5', errno = 2, error message = 'No such file or directory', flags = 0, o_flags = 0)\n",
      "Unable to open file (unable to open file: name = '/nobackup_1/users/schreurs/project_GAN/dataset_rtcor2/2019/03/RAD_NL25_RAC_5M_201903070455.h5', errno = 2, error message = 'No such file or directory', flags = 0, o_flags = 0)\n",
      "Unable to open file (unable to open file: name = '/nobackup_1/users/schreurs/project_GAN/dataset_rtcor2/2019/03/RAD_NL25_RAC_5M_201903070500.h5', errno = 2, error message = 'No such file or directory', flags = 0, o_flags = 0)\n",
      "Unable to open file (unable to open file: name = '/nobackup_1/users/schreurs/project_GAN/dataset_rtcor2/2019/03/RAD_NL25_RAC_5M_201903070505.h5', errno = 2, error message = 'No such file or directory', flags = 0, o_flags = 0)\n",
      "Unable to open file (unable to open file: name = '/nobackup_1/users/schreurs/project_GAN/dataset_rtcor2/2019/03/RAD_NL25_RAC_5M_201903070510.h5', errno = 2, error message = 'No such file or directory', flags = 0, o_flags = 0)\n",
      "Unable to open file (unable to open file: name = '/nobackup_1/users/schreurs/project_GAN/dataset_rtcor2/2019/03/RAD_NL25_RAC_5M_201903070515.h5', errno = 2, error message = 'No such file or directory', flags = 0, o_flags = 0)\n",
      "Unable to open file (unable to open file: name = '/nobackup_1/users/schreurs/project_GAN/dataset_rtcor2/2019/03/RAD_NL25_RAC_5M_201903070520.h5', errno = 2, error message = 'No such file or directory', flags = 0, o_flags = 0)\n",
      "Unable to open file (unable to open file: name = '/nobackup_1/users/schreurs/project_GAN/dataset_rtcor2/2019/03/RAD_NL25_RAC_5M_201903070525.h5', errno = 2, error message = 'No such file or directory', flags = 0, o_flags = 0)\n",
      "Unable to open file (unable to open file: name = '/nobackup_1/users/schreurs/project_GAN/dataset_rtcor2/2019/03/RAD_NL25_RAC_5M_201903070530.h5', errno = 2, error message = 'No such file or directory', flags = 0, o_flags = 0)\n",
      "Unable to open file (unable to open file: name = '/nobackup_1/users/schreurs/project_GAN/dataset_rtcor2/2019/03/RAD_NL25_RAC_5M_201903070535.h5', errno = 2, error message = 'No such file or directory', flags = 0, o_flags = 0)\n",
      "Unable to open file (unable to open file: name = '/nobackup_1/users/schreurs/project_GAN/dataset_rtcor2/2019/03/RAD_NL25_RAC_5M_201903070540.h5', errno = 2, error message = 'No such file or directory', flags = 0, o_flags = 0)\n",
      "Unable to open file (unable to open file: name = '/nobackup_1/users/schreurs/project_GAN/dataset_rtcor2/2019/03/RAD_NL25_RAC_5M_201903070545.h5', errno = 2, error message = 'No such file or directory', flags = 0, o_flags = 0)\n",
      "Unable to open file (unable to open file: name = '/nobackup_1/users/schreurs/project_GAN/dataset_rtcor2/2019/03/RAD_NL25_RAC_5M_201903070550.h5', errno = 2, error message = 'No such file or directory', flags = 0, o_flags = 0)\n",
      "Unable to open file (unable to open file: name = '/nobackup_1/users/schreurs/project_GAN/dataset_rtcor2/2019/03/RAD_NL25_RAC_5M_201903070555.h5', errno = 2, error message = 'No such file or directory', flags = 0, o_flags = 0)\n",
      "Unable to open file (unable to open file: name = '/nobackup_1/users/schreurs/project_GAN/dataset_rtcor2/2019/03/RAD_NL25_RAC_5M_201903070600.h5', errno = 2, error message = 'No such file or directory', flags = 0, o_flags = 0)\n",
      "Unable to open file (unable to open file: name = '/nobackup_1/users/schreurs/project_GAN/dataset_rtcor2/2019/03/RAD_NL25_RAC_5M_201903070605.h5', errno = 2, error message = 'No such file or directory', flags = 0, o_flags = 0)\n",
      "Unable to open file (unable to open file: name = '/nobackup_1/users/schreurs/project_GAN/dataset_rtcor2/2019/03/RAD_NL25_RAC_5M_201903070610.h5', errno = 2, error message = 'No such file or directory', flags = 0, o_flags = 0)\n",
      "Unable to open file (unable to open file: name = '/nobackup_1/users/schreurs/project_GAN/dataset_rtcor2/2019/03/RAD_NL25_RAC_5M_201903070615.h5', errno = 2, error message = 'No such file or directory', flags = 0, o_flags = 0)\n",
      "Unable to open file (unable to open file: name = '/nobackup_1/users/schreurs/project_GAN/dataset_rtcor2/2019/03/RAD_NL25_RAC_5M_201903070620.h5', errno = 2, error message = 'No such file or directory', flags = 0, o_flags = 0)\n",
      "Unable to open file (unable to open file: name = '/nobackup_1/users/schreurs/project_GAN/dataset_rtcor2/2019/03/RAD_NL25_RAC_5M_201903070625.h5', errno = 2, error message = 'No such file or directory', flags = 0, o_flags = 0)\n",
      "Unable to open file (unable to open file: name = '/nobackup_1/users/schreurs/project_GAN/dataset_rtcor2/2019/03/RAD_NL25_RAC_5M_201903070630.h5', errno = 2, error message = 'No such file or directory', flags = 0, o_flags = 0)\n",
      "Unable to open file (unable to open file: name = '/nobackup_1/users/schreurs/project_GAN/dataset_rtcor2/2019/03/RAD_NL25_RAC_5M_201903070635.h5', errno = 2, error message = 'No such file or directory', flags = 0, o_flags = 0)\n",
      "Unable to open file (unable to open file: name = '/nobackup_1/users/schreurs/project_GAN/dataset_rtcor2/2019/03/RAD_NL25_RAC_5M_201903070640.h5', errno = 2, error message = 'No such file or directory', flags = 0, o_flags = 0)\n",
      "Unable to open file (unable to open file: name = '/nobackup_1/users/schreurs/project_GAN/dataset_rtcor2/2019/03/RAD_NL25_RAC_5M_201903070645.h5', errno = 2, error message = 'No such file or directory', flags = 0, o_flags = 0)\n",
      "Unable to open file (unable to open file: name = '/nobackup_1/users/schreurs/project_GAN/dataset_rtcor2/2019/03/RAD_NL25_RAC_5M_201903070650.h5', errno = 2, error message = 'No such file or directory', flags = 0, o_flags = 0)\n",
      "Unable to open file (unable to open file: name = '/nobackup_1/users/schreurs/project_GAN/dataset_rtcor2/2019/03/RAD_NL25_RAC_5M_201903070655.h5', errno = 2, error message = 'No such file or directory', flags = 0, o_flags = 0)\n",
      "Unable to open file (unable to open file: name = '/nobackup_1/users/schreurs/project_GAN/dataset_rtcor2/2019/03/RAD_NL25_RAC_5M_201903070700.h5', errno = 2, error message = 'No such file or directory', flags = 0, o_flags = 0)\n",
      "Unable to open file (unable to open file: name = '/nobackup_1/users/schreurs/project_GAN/dataset_rtcor2/2019/03/RAD_NL25_RAC_5M_201903070705.h5', errno = 2, error message = 'No such file or directory', flags = 0, o_flags = 0)\n",
      "Unable to open file (unable to open file: name = '/nobackup_1/users/schreurs/project_GAN/dataset_rtcor2/2019/03/RAD_NL25_RAC_5M_201903070710.h5', errno = 2, error message = 'No such file or directory', flags = 0, o_flags = 0)\n",
      "Unable to open file (unable to open file: name = '/nobackup_1/users/schreurs/project_GAN/dataset_rtcor2/2019/03/RAD_NL25_RAC_5M_201903070715.h5', errno = 2, error message = 'No such file or directory', flags = 0, o_flags = 0)\n",
      "Unable to open file (unable to open file: name = '/nobackup_1/users/schreurs/project_GAN/dataset_rtcor2/2019/03/RAD_NL25_RAC_5M_201903070720.h5', errno = 2, error message = 'No such file or directory', flags = 0, o_flags = 0)\n",
      "Unable to open file (unable to open file: name = '/nobackup_1/users/schreurs/project_GAN/dataset_rtcor2/2019/03/RAD_NL25_RAC_5M_201903070725.h5', errno = 2, error message = 'No such file or directory', flags = 0, o_flags = 0)\n",
      "Unable to open file (unable to open file: name = '/nobackup_1/users/schreurs/project_GAN/dataset_rtcor2/2019/03/RAD_NL25_RAC_5M_201903070730.h5', errno = 2, error message = 'No such file or directory', flags = 0, o_flags = 0)\n",
      "Unable to open file (unable to open file: name = '/nobackup_1/users/schreurs/project_GAN/dataset_rtcor2/2019/03/RAD_NL25_RAC_5M_201903070735.h5', errno = 2, error message = 'No such file or directory', flags = 0, o_flags = 0)\n",
      "Unable to open file (unable to open file: name = '/nobackup_1/users/schreurs/project_GAN/dataset_rtcor2/2019/03/RAD_NL25_RAC_5M_201903070740.h5', errno = 2, error message = 'No such file or directory', flags = 0, o_flags = 0)\n",
      "Unable to open file (unable to open file: name = '/nobackup_1/users/schreurs/project_GAN/dataset_rtcor2/2019/03/RAD_NL25_RAC_5M_201903070745.h5', errno = 2, error message = 'No such file or directory', flags = 0, o_flags = 0)\n",
      "Unable to open file (unable to open file: name = '/nobackup_1/users/schreurs/project_GAN/dataset_rtcor2/2019/03/RAD_NL25_RAC_5M_201903070750.h5', errno = 2, error message = 'No such file or directory', flags = 0, o_flags = 0)\n",
      "Unable to open file (unable to open file: name = '/nobackup_1/users/schreurs/project_GAN/dataset_rtcor2/2019/03/RAD_NL25_RAC_5M_201903070755.h5', errno = 2, error message = 'No such file or directory', flags = 0, o_flags = 0)\n",
      "Unable to open file (unable to open file: name = '/nobackup_1/users/schreurs/project_GAN/dataset_rtcor2/2019/03/RAD_NL25_RAC_5M_201903070800.h5', errno = 2, error message = 'No such file or directory', flags = 0, o_flags = 0)\n",
      "Unable to open file (unable to open file: name = '/nobackup_1/users/schreurs/project_GAN/dataset_rtcor2/2019/03/RAD_NL25_RAC_5M_201903070805.h5', errno = 2, error message = 'No such file or directory', flags = 0, o_flags = 0)\n",
      "Unable to open file (unable to open file: name = '/nobackup_1/users/schreurs/project_GAN/dataset_rtcor2/2019/03/RAD_NL25_RAC_5M_201903070810.h5', errno = 2, error message = 'No such file or directory', flags = 0, o_flags = 0)\n",
      "Unable to open file (unable to open file: name = '/nobackup_1/users/schreurs/project_GAN/dataset_rtcor2/2019/03/RAD_NL25_RAC_5M_201903070815.h5', errno = 2, error message = 'No such file or directory', flags = 0, o_flags = 0)\n",
      "Unable to open file (unable to open file: name = '/nobackup_1/users/schreurs/project_GAN/dataset_rtcor2/2019/03/RAD_NL25_RAC_5M_201903070820.h5', errno = 2, error message = 'No such file or directory', flags = 0, o_flags = 0)\n",
      "Unable to open file (unable to open file: name = '/nobackup_1/users/schreurs/project_GAN/dataset_rtcor2/2019/03/RAD_NL25_RAC_5M_201903070825.h5', errno = 2, error message = 'No such file or directory', flags = 0, o_flags = 0)\n",
      "Unable to open file (unable to open file: name = '/nobackup_1/users/schreurs/project_GAN/dataset_rtcor2/2019/03/RAD_NL25_RAC_5M_201903070830.h5', errno = 2, error message = 'No such file or directory', flags = 0, o_flags = 0)\n",
      "Unable to open file (unable to open file: name = '/nobackup_1/users/schreurs/project_GAN/dataset_rtcor2/2019/03/RAD_NL25_RAC_5M_201903070835.h5', errno = 2, error message = 'No such file or directory', flags = 0, o_flags = 0)\n",
      "Unable to open file (unable to open file: name = '/nobackup_1/users/schreurs/project_GAN/dataset_rtcor2/2019/03/RAD_NL25_RAC_5M_201903070840.h5', errno = 2, error message = 'No such file or directory', flags = 0, o_flags = 0)\n",
      "Unable to open file (unable to open file: name = '/nobackup_1/users/schreurs/project_GAN/dataset_rtcor2/2019/03/RAD_NL25_RAC_5M_201903070845.h5', errno = 2, error message = 'No such file or directory', flags = 0, o_flags = 0)\n",
      "Unable to open file (unable to open file: name = '/nobackup_1/users/schreurs/project_GAN/dataset_rtcor2/2019/03/RAD_NL25_RAC_5M_201903070850.h5', errno = 2, error message = 'No such file or directory', flags = 0, o_flags = 0)\n",
      "Unable to open file (unable to open file: name = '/nobackup_1/users/schreurs/project_GAN/dataset_rtcor2/2019/03/RAD_NL25_RAC_5M_201903070855.h5', errno = 2, error message = 'No such file or directory', flags = 0, o_flags = 0)\n",
      "Unable to open file (unable to open file: name = '/nobackup_1/users/schreurs/project_GAN/dataset_rtcor2/2019/03/RAD_NL25_RAC_5M_201903070900.h5', errno = 2, error message = 'No such file or directory', flags = 0, o_flags = 0)\n"
     ]
    },
    {
     "name": "stderr",
     "output_type": "stream",
     "text": [
      " 53%|█████▎    | 16519/31149 [00:07<00:07, 1854.89it/s]"
     ]
    },
    {
     "name": "stdout",
     "output_type": "stream",
     "text": [
      "Unable to open file (unable to open file: name = '/nobackup_1/users/schreurs/project_GAN/dataset_rtcor2/2019/04/RAD_NL25_RAC_5M_201904242050.h5', errno = 2, error message = 'No such file or directory', flags = 0, o_flags = 0)\n"
     ]
    },
    {
     "name": "stderr",
     "output_type": "stream",
     "text": [
      " 79%|███████▉  | 24608/31149 [00:19<00:15, 428.94it/s] "
     ]
    },
    {
     "name": "stdout",
     "output_type": "stream",
     "text": [
      "Unable to open file (unable to open file: name = '/nobackup_1/users/schreurs/project_GAN/dataset_rtcor2/2017/07/RAD_NL25_RAC_5M_201707191800.h5', errno = 2, error message = 'No such file or directory', flags = 0, o_flags = 0)\n",
      "Unable to open file (unable to open file: name = '/nobackup_1/users/schreurs/project_GAN/dataset_rtcor2/2017/07/RAD_NL25_RAC_5M_201707191800.h5', errno = 2, error message = 'No such file or directory', flags = 0, o_flags = 0)\n",
      "Unable to open file (unable to open file: name = '/nobackup_1/users/schreurs/project_GAN/dataset_rtcor2/2017/07/RAD_NL25_RAC_5M_201707191800.h5', errno = 2, error message = 'No such file or directory', flags = 0, o_flags = 0)\n"
     ]
    },
    {
     "name": "stderr",
     "output_type": "stream",
     "text": [
      " 87%|████████▋ | 27162/31149 [00:27<00:06, 614.38it/s]"
     ]
    },
    {
     "name": "stdout",
     "output_type": "stream",
     "text": [
      "Unable to open file (unable to open file: name = '/nobackup_1/users/schreurs/project_GAN/dataset_rtcor2/2018/05/RAD_NL25_RAC_5M_201805310930.h5', errno = 2, error message = 'No such file or directory', flags = 0, o_flags = 0)\n",
      "Unable to open file (unable to open file: name = '/nobackup_1/users/schreurs/project_GAN/dataset_rtcor2/2018/05/RAD_NL25_RAC_5M_201805310930.h5', errno = 2, error message = 'No such file or directory', flags = 0, o_flags = 0)\n"
     ]
    },
    {
     "name": "stderr",
     "output_type": "stream",
     "text": [
      " 92%|█████████▏| 28694/31149 [00:31<00:08, 306.85it/s]"
     ]
    },
    {
     "name": "stdout",
     "output_type": "stream",
     "text": [
      "Unable to open file (unable to open file: name = '/nobackup_1/users/schreurs/project_GAN/dataset_rtcor2/2019/03/RAD_NL25_RAC_5M_201903070530.h5', errno = 2, error message = 'No such file or directory', flags = 0, o_flags = 0)\n",
      "Unable to open file (unable to open file: name = '/nobackup_1/users/schreurs/project_GAN/dataset_rtcor2/2019/03/RAD_NL25_RAC_5M_201903070600.h5', errno = 2, error message = 'No such file or directory', flags = 0, o_flags = 0)\n",
      "Unable to open file (unable to open file: name = '/nobackup_1/users/schreurs/project_GAN/dataset_rtcor2/2019/03/RAD_NL25_RAC_5M_201903070630.h5', errno = 2, error message = 'No such file or directory', flags = 0, o_flags = 0)\n",
      "Unable to open file (unable to open file: name = '/nobackup_1/users/schreurs/project_GAN/dataset_rtcor2/2019/03/RAD_NL25_RAC_5M_201903070600.h5', errno = 2, error message = 'No such file or directory', flags = 0, o_flags = 0)\n",
      "Unable to open file (unable to open file: name = '/nobackup_1/users/schreurs/project_GAN/dataset_rtcor2/2019/03/RAD_NL25_RAC_5M_201903070630.h5', errno = 2, error message = 'No such file or directory', flags = 0, o_flags = 0)\n",
      "Unable to open file (unable to open file: name = '/nobackup_1/users/schreurs/project_GAN/dataset_rtcor2/2019/03/RAD_NL25_RAC_5M_201903070700.h5', errno = 2, error message = 'No such file or directory', flags = 0, o_flags = 0)\n",
      "Unable to open file (unable to open file: name = '/nobackup_1/users/schreurs/project_GAN/dataset_rtcor2/2019/03/RAD_NL25_RAC_5M_201903070630.h5', errno = 2, error message = 'No such file or directory', flags = 0, o_flags = 0)\n",
      "Unable to open file (unable to open file: name = '/nobackup_1/users/schreurs/project_GAN/dataset_rtcor2/2019/03/RAD_NL25_RAC_5M_201903070700.h5', errno = 2, error message = 'No such file or directory', flags = 0, o_flags = 0)\n",
      "Unable to open file (unable to open file: name = '/nobackup_1/users/schreurs/project_GAN/dataset_rtcor2/2019/03/RAD_NL25_RAC_5M_201903070730.h5', errno = 2, error message = 'No such file or directory', flags = 0, o_flags = 0)\n",
      "Unable to open file (unable to open file: name = '/nobackup_1/users/schreurs/project_GAN/dataset_rtcor2/2019/03/RAD_NL25_RAC_5M_201903070700.h5', errno = 2, error message = 'No such file or directory', flags = 0, o_flags = 0)\n",
      "Unable to open file (unable to open file: name = '/nobackup_1/users/schreurs/project_GAN/dataset_rtcor2/2019/03/RAD_NL25_RAC_5M_201903070730.h5', errno = 2, error message = 'No such file or directory', flags = 0, o_flags = 0)\n",
      "Unable to open file (unable to open file: name = '/nobackup_1/users/schreurs/project_GAN/dataset_rtcor2/2019/03/RAD_NL25_RAC_5M_201903070800.h5', errno = 2, error message = 'No such file or directory', flags = 0, o_flags = 0)\n",
      "Unable to open file (unable to open file: name = '/nobackup_1/users/schreurs/project_GAN/dataset_rtcor2/2019/03/RAD_NL25_RAC_5M_201903070730.h5', errno = 2, error message = 'No such file or directory', flags = 0, o_flags = 0)\n",
      "Unable to open file (unable to open file: name = '/nobackup_1/users/schreurs/project_GAN/dataset_rtcor2/2019/03/RAD_NL25_RAC_5M_201903070800.h5', errno = 2, error message = 'No such file or directory', flags = 0, o_flags = 0)\n",
      "Unable to open file (unable to open file: name = '/nobackup_1/users/schreurs/project_GAN/dataset_rtcor2/2019/03/RAD_NL25_RAC_5M_201903070830.h5', errno = 2, error message = 'No such file or directory', flags = 0, o_flags = 0)\n",
      "Unable to open file (unable to open file: name = '/nobackup_1/users/schreurs/project_GAN/dataset_rtcor2/2019/03/RAD_NL25_RAC_5M_201903070800.h5', errno = 2, error message = 'No such file or directory', flags = 0, o_flags = 0)\n",
      "Unable to open file (unable to open file: name = '/nobackup_1/users/schreurs/project_GAN/dataset_rtcor2/2019/03/RAD_NL25_RAC_5M_201903070830.h5', errno = 2, error message = 'No such file or directory', flags = 0, o_flags = 0)\n",
      "Unable to open file (unable to open file: name = '/nobackup_1/users/schreurs/project_GAN/dataset_rtcor2/2019/03/RAD_NL25_RAC_5M_201903070900.h5', errno = 2, error message = 'No such file or directory', flags = 0, o_flags = 0)\n",
      "Unable to open file (unable to open file: name = '/nobackup_1/users/schreurs/project_GAN/dataset_rtcor2/2019/03/RAD_NL25_RAC_5M_201903070830.h5', errno = 2, error message = 'No such file or directory', flags = 0, o_flags = 0)\n",
      "Unable to open file (unable to open file: name = '/nobackup_1/users/schreurs/project_GAN/dataset_rtcor2/2019/03/RAD_NL25_RAC_5M_201903070900.h5', errno = 2, error message = 'No such file or directory', flags = 0, o_flags = 0)\n",
      "Unable to open file (unable to open file: name = '/nobackup_1/users/schreurs/project_GAN/dataset_rtcor2/2019/03/RAD_NL25_RAC_5M_201903070930.h5', errno = 2, error message = 'No such file or directory', flags = 0, o_flags = 0)\n",
      "Unable to open file (unable to open file: name = '/nobackup_1/users/schreurs/project_GAN/dataset_rtcor2/2019/03/RAD_NL25_RAC_5M_201903070900.h5', errno = 2, error message = 'No such file or directory', flags = 0, o_flags = 0)\n",
      "Unable to open file (unable to open file: name = '/nobackup_1/users/schreurs/project_GAN/dataset_rtcor2/2019/03/RAD_NL25_RAC_5M_201903070930.h5', errno = 2, error message = 'No such file or directory', flags = 0, o_flags = 0)\n",
      "Unable to open file (unable to open file: name = '/nobackup_1/users/schreurs/project_GAN/dataset_rtcor2/2019/03/RAD_NL25_RAC_5M_201903071000.h5', errno = 2, error message = 'No such file or directory', flags = 0, o_flags = 0)\n",
      "Unable to open file (unable to open file: name = '/nobackup_1/users/schreurs/project_GAN/dataset_rtcor2/2019/03/RAD_NL25_RAC_5M_201903070930.h5', errno = 2, error message = 'No such file or directory', flags = 0, o_flags = 0)\n",
      "Unable to open file (unable to open file: name = '/nobackup_1/users/schreurs/project_GAN/dataset_rtcor2/2019/03/RAD_NL25_RAC_5M_201903071000.h5', errno = 2, error message = 'No such file or directory', flags = 0, o_flags = 0)\n",
      "Unable to open file (unable to open file: name = '/nobackup_1/users/schreurs/project_GAN/dataset_rtcor2/2019/03/RAD_NL25_RAC_5M_201903071030.h5', errno = 2, error message = 'No such file or directory', flags = 0, o_flags = 0)\n"
     ]
    },
    {
     "name": "stderr",
     "output_type": "stream",
     "text": [
      "100%|██████████| 31149/31149 [00:39<00:00, 784.78it/s]\n"
     ]
    }
   ],
   "source": [
    "fn_rtcor_1 = list_IDs[:,0]\n",
    "fn_rtcor_2 = list_IDs[:,1]\n",
    "filenames_rtcor= np.append(fn_rtcor_1, fn_rtcor_2)\n",
    "# flatten the array\n",
    "filenames_rtcor = [item for sublist in filenames_rtcor for item in sublist]\n",
    "\n",
    "\n",
    "rtcor2npy(config.dir_rtcor, config.dir_rtcor_prep, overwrite = False, preprocess = True, filenames = filenames_rtcor)"
   ]
  },
  {
   "cell_type": "code",
   "execution_count": 3,
   "metadata": {},
   "outputs": [
    {
     "name": "stdout",
     "output_type": "stream",
     "text": [
      "[Errno 2] No such file or directory: '/nobackup_1/users/schreurs/project_GAN/rtcor_heavy_rain_labels/2007/12/200712312305.npy'\n",
      "[Errno 2] No such file or directory: '/nobackup_1/users/schreurs/project_GAN/rtcor_heavy_rain_labels/2007/12/200712312335.npy'\n",
      "[Errno 2] No such file or directory: '/nobackup_1/users/schreurs/project_GAN/rtcor_heavy_rain_labels/2008/01/200801010005.npy'\n",
      "[Errno 2] No such file or directory: '/nobackup_1/users/schreurs/project_GAN/rtcor_heavy_rain_labels/2008/01/200801010035.npy'\n",
      "[Errno 2] No such file or directory: '/nobackup_1/users/schreurs/project_GAN/rtcor_heavy_rain_labels/2008/01/200801010105.npy'\n",
      "[Errno 2] No such file or directory: '/nobackup_1/users/schreurs/project_GAN/rtcor_heavy_rain_labels/2008/01/200801010135.npy'\n",
      "[Errno 2] No such file or directory: '/nobackup_1/users/schreurs/project_GAN/rtcor_heavy_rain_labels/2008/01/200801010205.npy'\n",
      "[Errno 2] No such file or directory: '/nobackup_1/users/schreurs/project_GAN/rtcor_heavy_rain_labels/2008/01/200801010235.npy'\n",
      "[Errno 2] No such file or directory: '/nobackup_1/users/schreurs/project_GAN/rtcor_heavy_rain_labels/2008/01/200801010305.npy'\n",
      "[Errno 2] No such file or directory: '/nobackup_1/users/schreurs/project_GAN/rtcor_heavy_rain_labels/2008/01/200801010335.npy'\n",
      "[Errno 2] No such file or directory: '/nobackup_1/users/schreurs/project_GAN/rtcor_heavy_rain_labels/2008/01/200801010405.npy'\n",
      "[Errno 2] No such file or directory: '/nobackup_1/users/schreurs/project_GAN/rtcor_heavy_rain_labels/2008/01/200801010435.npy'\n",
      "[Errno 2] No such file or directory: '/nobackup_1/users/schreurs/project_GAN/rtcor_heavy_rain_labels/2008/01/200801010505.npy'\n",
      "[Errno 2] No such file or directory: '/nobackup_1/users/schreurs/project_GAN/rtcor_heavy_rain_labels/2008/01/200801010535.npy'\n",
      "[Errno 2] No such file or directory: '/nobackup_1/users/schreurs/project_GAN/rtcor_heavy_rain_labels/2008/01/200801010605.npy'\n",
      "[Errno 2] No such file or directory: '/nobackup_1/users/schreurs/project_GAN/rtcor_heavy_rain_labels/2008/01/200801010635.npy'\n",
      "[Errno 2] No such file or directory: '/nobackup_1/users/schreurs/project_GAN/rtcor_heavy_rain_labels/2008/01/200801010705.npy'\n",
      "[Errno 2] No such file or directory: '/nobackup_1/users/schreurs/project_GAN/rtcor_heavy_rain_labels/2008/01/200801010735.npy'\n",
      "[Errno 2] No such file or directory: '/nobackup_1/users/schreurs/project_GAN/rtcor_heavy_rain_labels/2008/01/200801010805.npy'\n",
      "[Errno 2] No such file or directory: '/nobackup_1/users/schreurs/project_GAN/rtcor_heavy_rain_labels/2008/01/200801010835.npy'\n",
      "[Errno 2] No such file or directory: '/nobackup_1/users/schreurs/project_GAN/rtcor_heavy_rain_labels/2008/01/200801010905.npy'\n",
      "[Errno 2] No such file or directory: '/nobackup_1/users/schreurs/project_GAN/rtcor_heavy_rain_labels/2008/01/200801010935.npy'\n",
      "[Errno 2] No such file or directory: '/nobackup_1/users/schreurs/project_GAN/rtcor_heavy_rain_labels/2008/01/200801011005.npy'\n",
      "[Errno 2] No such file or directory: '/nobackup_1/users/schreurs/project_GAN/rtcor_heavy_rain_labels/2008/01/200801011035.npy'\n",
      "[Errno 2] No such file or directory: '/nobackup_1/users/schreurs/project_GAN/rtcor_heavy_rain_labels/2008/01/200801011105.npy'\n",
      "[Errno 2] No such file or directory: '/nobackup_1/users/schreurs/project_GAN/rtcor_heavy_rain_labels/2008/01/200801011135.npy'\n",
      "[Errno 2] No such file or directory: '/nobackup_1/users/schreurs/project_GAN/rtcor_heavy_rain_labels/2008/01/200801011205.npy'\n",
      "[Errno 2] No such file or directory: '/nobackup_1/users/schreurs/project_GAN/rtcor_heavy_rain_labels/2008/01/200801011235.npy'\n",
      "[Errno 2] No such file or directory: '/nobackup_1/users/schreurs/project_GAN/rtcor_heavy_rain_labels/2008/01/200801011305.npy'\n",
      "[Errno 2] No such file or directory: '/nobackup_1/users/schreurs/project_GAN/rtcor_heavy_rain_labels/2008/01/200801011335.npy'\n",
      "[Errno 2] No such file or directory: '/nobackup_1/users/schreurs/project_GAN/rtcor_heavy_rain_labels/2008/01/200801011405.npy'\n",
      "[Errno 2] No such file or directory: '/nobackup_1/users/schreurs/project_GAN/rtcor_heavy_rain_labels/2008/01/200801011435.npy'\n",
      "[Errno 2] No such file or directory: '/nobackup_1/users/schreurs/project_GAN/rtcor_heavy_rain_labels/2008/01/200801011505.npy'\n",
      "[Errno 2] No such file or directory: '/nobackup_1/users/schreurs/project_GAN/rtcor_heavy_rain_labels/2008/01/200801011535.npy'\n",
      "[Errno 2] No such file or directory: '/nobackup_1/users/schreurs/project_GAN/rtcor_heavy_rain_labels/2008/01/200801011605.npy'\n",
      "[Errno 2] No such file or directory: '/nobackup_1/users/schreurs/project_GAN/rtcor_heavy_rain_labels/2008/01/200801011635.npy'\n",
      "[Errno 2] No such file or directory: '/nobackup_1/users/schreurs/project_GAN/rtcor_heavy_rain_labels/2008/01/200801011705.npy'\n",
      "[Errno 2] No such file or directory: '/nobackup_1/users/schreurs/project_GAN/rtcor_heavy_rain_labels/2008/01/200801011735.npy'\n",
      "[Errno 2] No such file or directory: '/nobackup_1/users/schreurs/project_GAN/rtcor_heavy_rain_labels/2008/01/200801011805.npy'\n",
      "[Errno 2] No such file or directory: '/nobackup_1/users/schreurs/project_GAN/rtcor_heavy_rain_labels/2008/01/200801011835.npy'\n",
      "[Errno 2] No such file or directory: '/nobackup_1/users/schreurs/project_GAN/rtcor_heavy_rain_labels/2008/01/200801011905.npy'\n",
      "[Errno 2] No such file or directory: '/nobackup_1/users/schreurs/project_GAN/rtcor_heavy_rain_labels/2008/01/200801011935.npy'\n",
      "[Errno 2] No such file or directory: '/nobackup_1/users/schreurs/project_GAN/rtcor_heavy_rain_labels/2008/01/200801012005.npy'\n",
      "[Errno 2] No such file or directory: '/nobackup_1/users/schreurs/project_GAN/rtcor_heavy_rain_labels/2008/01/200801012035.npy'\n",
      "[Errno 2] No such file or directory: '/nobackup_1/users/schreurs/project_GAN/rtcor_heavy_rain_labels/2008/01/200801012105.npy'\n",
      "[Errno 2] No such file or directory: '/nobackup_1/users/schreurs/project_GAN/rtcor_heavy_rain_labels/2008/01/200801012135.npy'\n",
      "[Errno 2] No such file or directory: '/nobackup_1/users/schreurs/project_GAN/rtcor_heavy_rain_labels/2008/01/200801012205.npy'\n",
      "[Errno 2] No such file or directory: '/nobackup_1/users/schreurs/project_GAN/rtcor_heavy_rain_labels/2008/01/200801012235.npy'\n",
      "[Errno 2] No such file or directory: '/nobackup_1/users/schreurs/project_GAN/rtcor_heavy_rain_labels/2008/01/200801012305.npy'\n",
      "[Errno 2] No such file or directory: '/nobackup_1/users/schreurs/project_GAN/rtcor_heavy_rain_labels/2008/01/200801012335.npy'\n",
      "[Errno 2] No such file or directory: '/nobackup_1/users/schreurs/project_GAN/rtcor_heavy_rain_labels/2008/01/200801020005.npy'\n",
      "[Errno 2] No such file or directory: '/nobackup_1/users/schreurs/project_GAN/rtcor_heavy_rain_labels/2008/01/200801020035.npy'\n",
      "[Errno 2] No such file or directory: '/nobackup_1/users/schreurs/project_GAN/rtcor_heavy_rain_labels/2008/01/200801020105.npy'\n",
      "[Errno 2] No such file or directory: '/nobackup_1/users/schreurs/project_GAN/rtcor_heavy_rain_labels/2008/01/200801020135.npy'\n",
      "[Errno 2] No such file or directory: '/nobackup_1/users/schreurs/project_GAN/rtcor_heavy_rain_labels/2008/01/200801020205.npy'\n",
      "[Errno 2] No such file or directory: '/nobackup_1/users/schreurs/project_GAN/rtcor_heavy_rain_labels/2008/01/200801020235.npy'\n",
      "[Errno 2] No such file or directory: '/nobackup_1/users/schreurs/project_GAN/rtcor_heavy_rain_labels/2008/01/200801020305.npy'\n",
      "[Errno 2] No such file or directory: '/nobackup_1/users/schreurs/project_GAN/rtcor_heavy_rain_labels/2008/01/200801020335.npy'\n",
      "[Errno 2] No such file or directory: '/nobackup_1/users/schreurs/project_GAN/rtcor_heavy_rain_labels/2008/01/200801020405.npy'\n",
      "[Errno 2] No such file or directory: '/nobackup_1/users/schreurs/project_GAN/rtcor_heavy_rain_labels/2008/01/200801020435.npy'\n",
      "[Errno 2] No such file or directory: '/nobackup_1/users/schreurs/project_GAN/rtcor_heavy_rain_labels/2008/01/200801020505.npy'\n",
      "[Errno 2] No such file or directory: '/nobackup_1/users/schreurs/project_GAN/rtcor_heavy_rain_labels/2008/01/200801020535.npy'\n",
      "[Errno 2] No such file or directory: '/nobackup_1/users/schreurs/project_GAN/rtcor_heavy_rain_labels/2008/01/200801020605.npy'\n",
      "[Errno 2] No such file or directory: '/nobackup_1/users/schreurs/project_GAN/rtcor_heavy_rain_labels/2008/01/200801020635.npy'\n",
      "[Errno 2] No such file or directory: '/nobackup_1/users/schreurs/project_GAN/rtcor_heavy_rain_labels/2008/01/200801020705.npy'\n",
      "[Errno 2] No such file or directory: '/nobackup_1/users/schreurs/project_GAN/rtcor_heavy_rain_labels/2008/01/200801020735.npy'\n",
      "[Errno 2] No such file or directory: '/nobackup_1/users/schreurs/project_GAN/rtcor_heavy_rain_labels/2008/01/200801020805.npy'\n",
      "[Errno 2] No such file or directory: '/nobackup_1/users/schreurs/project_GAN/rtcor_heavy_rain_labels/2008/01/200801020835.npy'\n",
      "[Errno 2] No such file or directory: '/nobackup_1/users/schreurs/project_GAN/rtcor_heavy_rain_labels/2008/01/200801020905.npy'\n",
      "[Errno 2] No such file or directory: '/nobackup_1/users/schreurs/project_GAN/rtcor_heavy_rain_labels/2008/01/200801020935.npy'\n",
      "[Errno 2] No such file or directory: '/nobackup_1/users/schreurs/project_GAN/rtcor_heavy_rain_labels/2008/01/200801021005.npy'\n",
      "[Errno 2] No such file or directory: '/nobackup_1/users/schreurs/project_GAN/rtcor_heavy_rain_labels/2008/01/200801021035.npy'\n",
      "[Errno 2] No such file or directory: '/nobackup_1/users/schreurs/project_GAN/rtcor_heavy_rain_labels/2008/01/200801021105.npy'\n",
      "[Errno 2] No such file or directory: '/nobackup_1/users/schreurs/project_GAN/rtcor_heavy_rain_labels/2008/01/200801021135.npy'\n",
      "[Errno 2] No such file or directory: '/nobackup_1/users/schreurs/project_GAN/rtcor_heavy_rain_labels/2008/01/200801021205.npy'\n",
      "[Errno 2] No such file or directory: '/nobackup_1/users/schreurs/project_GAN/rtcor_heavy_rain_labels/2008/01/200801021235.npy'\n",
      "[Errno 2] No such file or directory: '/nobackup_1/users/schreurs/project_GAN/rtcor_heavy_rain_labels/2008/01/200801021305.npy'\n",
      "[Errno 2] No such file or directory: '/nobackup_1/users/schreurs/project_GAN/rtcor_heavy_rain_labels/2008/01/200801021335.npy'\n",
      "[Errno 2] No such file or directory: '/nobackup_1/users/schreurs/project_GAN/rtcor_heavy_rain_labels/2008/01/200801021405.npy'\n",
      "[Errno 2] No such file or directory: '/nobackup_1/users/schreurs/project_GAN/rtcor_heavy_rain_labels/2008/01/200801021435.npy'\n",
      "[Errno 2] No such file or directory: '/nobackup_1/users/schreurs/project_GAN/rtcor_heavy_rain_labels/2008/01/200801021505.npy'\n",
      "[Errno 2] No such file or directory: '/nobackup_1/users/schreurs/project_GAN/rtcor_heavy_rain_labels/2008/01/200801021535.npy'\n",
      "[Errno 2] No such file or directory: '/nobackup_1/users/schreurs/project_GAN/rtcor_heavy_rain_labels/2008/01/200801021605.npy'\n",
      "[Errno 2] No such file or directory: '/nobackup_1/users/schreurs/project_GAN/rtcor_heavy_rain_labels/2008/01/200801021635.npy'\n",
      "[Errno 2] No such file or directory: '/nobackup_1/users/schreurs/project_GAN/rtcor_heavy_rain_labels/2008/01/200801021705.npy'\n",
      "[Errno 2] No such file or directory: '/nobackup_1/users/schreurs/project_GAN/rtcor_heavy_rain_labels/2008/01/200801021735.npy'\n",
      "[Errno 2] No such file or directory: '/nobackup_1/users/schreurs/project_GAN/rtcor_heavy_rain_labels/2008/01/200801021805.npy'\n",
      "[Errno 2] No such file or directory: '/nobackup_1/users/schreurs/project_GAN/rtcor_heavy_rain_labels/2008/01/200801021835.npy'\n",
      "[Errno 2] No such file or directory: '/nobackup_1/users/schreurs/project_GAN/rtcor_heavy_rain_labels/2008/01/200801021905.npy'\n",
      "[Errno 2] No such file or directory: '/nobackup_1/users/schreurs/project_GAN/rtcor_heavy_rain_labels/2008/01/200801021935.npy'\n",
      "[Errno 2] No such file or directory: '/nobackup_1/users/schreurs/project_GAN/rtcor_heavy_rain_labels/2008/01/200801022005.npy'\n",
      "[Errno 2] No such file or directory: '/nobackup_1/users/schreurs/project_GAN/rtcor_heavy_rain_labels/2008/01/200801022035.npy'\n",
      "[Errno 2] No such file or directory: '/nobackup_1/users/schreurs/project_GAN/rtcor_heavy_rain_labels/2008/01/200801022105.npy'\n",
      "[Errno 2] No such file or directory: '/nobackup_1/users/schreurs/project_GAN/rtcor_heavy_rain_labels/2008/01/200801022135.npy'\n",
      "[Errno 2] No such file or directory: '/nobackup_1/users/schreurs/project_GAN/rtcor_heavy_rain_labels/2008/01/200801022205.npy'\n",
      "[Errno 2] No such file or directory: '/nobackup_1/users/schreurs/project_GAN/rtcor_heavy_rain_labels/2008/01/200801022235.npy'\n",
      "[Errno 2] No such file or directory: '/nobackup_1/users/schreurs/project_GAN/rtcor_heavy_rain_labels/2008/01/200801022305.npy'\n",
      "[Errno 2] No such file or directory: '/nobackup_1/users/schreurs/project_GAN/rtcor_heavy_rain_labels/2008/01/200801022335.npy'\n",
      "[Errno 2] No such file or directory: '/nobackup_1/users/schreurs/project_GAN/rtcor_heavy_rain_labels/2008/01/200801030005.npy'\n",
      "[Errno 2] No such file or directory: '/nobackup_1/users/schreurs/project_GAN/rtcor_heavy_rain_labels/2008/01/200801030035.npy'\n",
      "[Errno 2] No such file or directory: '/nobackup_1/users/schreurs/project_GAN/rtcor_heavy_rain_labels/2008/01/200801030105.npy'\n",
      "[Errno 2] No such file or directory: '/nobackup_1/users/schreurs/project_GAN/rtcor_heavy_rain_labels/2008/01/200801030135.npy'\n",
      "[Errno 2] No such file or directory: '/nobackup_1/users/schreurs/project_GAN/rtcor_heavy_rain_labels/2008/01/200801030205.npy'\n",
      "[Errno 2] No such file or directory: '/nobackup_1/users/schreurs/project_GAN/rtcor_heavy_rain_labels/2008/01/200801030235.npy'\n",
      "[Errno 2] No such file or directory: '/nobackup_1/users/schreurs/project_GAN/rtcor_heavy_rain_labels/2008/01/200801030305.npy'\n",
      "[Errno 2] No such file or directory: '/nobackup_1/users/schreurs/project_GAN/rtcor_heavy_rain_labels/2008/01/200801030335.npy'\n",
      "[Errno 2] No such file or directory: '/nobackup_1/users/schreurs/project_GAN/rtcor_heavy_rain_labels/2008/01/200801030405.npy'\n",
      "[Errno 2] No such file or directory: '/nobackup_1/users/schreurs/project_GAN/rtcor_heavy_rain_labels/2008/01/200801030435.npy'\n",
      "[Errno 2] No such file or directory: '/nobackup_1/users/schreurs/project_GAN/rtcor_heavy_rain_labels/2008/01/200801030505.npy'\n",
      "[Errno 2] No such file or directory: '/nobackup_1/users/schreurs/project_GAN/rtcor_heavy_rain_labels/2008/01/200801030535.npy'\n",
      "[Errno 2] No such file or directory: '/nobackup_1/users/schreurs/project_GAN/rtcor_heavy_rain_labels/2008/01/200801030605.npy'\n",
      "[Errno 2] No such file or directory: '/nobackup_1/users/schreurs/project_GAN/rtcor_heavy_rain_labels/2008/01/200801030635.npy'\n",
      "[Errno 2] No such file or directory: '/nobackup_1/users/schreurs/project_GAN/rtcor_heavy_rain_labels/2008/01/200801030705.npy'\n",
      "[Errno 2] No such file or directory: '/nobackup_1/users/schreurs/project_GAN/rtcor_heavy_rain_labels/2008/01/200801030735.npy'\n",
      "[Errno 2] No such file or directory: '/nobackup_1/users/schreurs/project_GAN/rtcor_heavy_rain_labels/2008/01/200801030805.npy'\n",
      "[Errno 2] No such file or directory: '/nobackup_1/users/schreurs/project_GAN/rtcor_heavy_rain_labels/2008/01/200801030835.npy'\n",
      "[Errno 2] No such file or directory: '/nobackup_1/users/schreurs/project_GAN/rtcor_heavy_rain_labels/2008/01/200801030905.npy'\n",
      "[Errno 2] No such file or directory: '/nobackup_1/users/schreurs/project_GAN/rtcor_heavy_rain_labels/2008/01/200801030935.npy'\n",
      "[Errno 2] No such file or directory: '/nobackup_1/users/schreurs/project_GAN/rtcor_heavy_rain_labels/2008/01/200801031005.npy'\n",
      "[Errno 2] No such file or directory: '/nobackup_1/users/schreurs/project_GAN/rtcor_heavy_rain_labels/2008/01/200801031035.npy'\n",
      "[Errno 2] No such file or directory: '/nobackup_1/users/schreurs/project_GAN/rtcor_heavy_rain_labels/2008/01/200801031105.npy'\n",
      "[Errno 2] No such file or directory: '/nobackup_1/users/schreurs/project_GAN/rtcor_heavy_rain_labels/2008/01/200801031135.npy'\n",
      "[Errno 2] No such file or directory: '/nobackup_1/users/schreurs/project_GAN/rtcor_heavy_rain_labels/2008/01/200801031205.npy'\n",
      "[Errno 2] No such file or directory: '/nobackup_1/users/schreurs/project_GAN/rtcor_heavy_rain_labels/2008/01/200801031235.npy'\n",
      "[Errno 2] No such file or directory: '/nobackup_1/users/schreurs/project_GAN/rtcor_heavy_rain_labels/2008/01/200801031305.npy'\n",
      "[Errno 2] No such file or directory: '/nobackup_1/users/schreurs/project_GAN/rtcor_heavy_rain_labels/2008/01/200801031335.npy'\n",
      "[Errno 2] No such file or directory: '/nobackup_1/users/schreurs/project_GAN/rtcor_heavy_rain_labels/2008/01/200801031405.npy'\n",
      "[Errno 2] No such file or directory: '/nobackup_1/users/schreurs/project_GAN/rtcor_heavy_rain_labels/2008/01/200801031435.npy'\n",
      "[Errno 2] No such file or directory: '/nobackup_1/users/schreurs/project_GAN/rtcor_heavy_rain_labels/2008/01/200801031505.npy'\n",
      "[Errno 2] No such file or directory: '/nobackup_1/users/schreurs/project_GAN/rtcor_heavy_rain_labels/2008/01/200801031535.npy'\n",
      "[Errno 2] No such file or directory: '/nobackup_1/users/schreurs/project_GAN/rtcor_heavy_rain_labels/2008/01/200801031605.npy'\n",
      "[Errno 2] No such file or directory: '/nobackup_1/users/schreurs/project_GAN/rtcor_heavy_rain_labels/2008/01/200801031635.npy'\n",
      "[Errno 2] No such file or directory: '/nobackup_1/users/schreurs/project_GAN/rtcor_heavy_rain_labels/2008/01/200801031705.npy'\n",
      "[Errno 2] No such file or directory: '/nobackup_1/users/schreurs/project_GAN/rtcor_heavy_rain_labels/2008/01/200801031735.npy'\n",
      "[Errno 2] No such file or directory: '/nobackup_1/users/schreurs/project_GAN/rtcor_heavy_rain_labels/2008/01/200801031805.npy'\n",
      "[Errno 2] No such file or directory: '/nobackup_1/users/schreurs/project_GAN/rtcor_heavy_rain_labels/2008/01/200801031835.npy'\n",
      "[Errno 2] No such file or directory: '/nobackup_1/users/schreurs/project_GAN/rtcor_heavy_rain_labels/2008/01/200801031905.npy'\n",
      "[Errno 2] No such file or directory: '/nobackup_1/users/schreurs/project_GAN/rtcor_heavy_rain_labels/2008/01/200801031935.npy'\n",
      "[Errno 2] No such file or directory: '/nobackup_1/users/schreurs/project_GAN/rtcor_heavy_rain_labels/2008/01/200801032005.npy'\n",
      "[Errno 2] No such file or directory: '/nobackup_1/users/schreurs/project_GAN/rtcor_heavy_rain_labels/2008/01/200801032035.npy'\n",
      "[Errno 2] No such file or directory: '/nobackup_1/users/schreurs/project_GAN/rtcor_heavy_rain_labels/2008/01/200801032105.npy'\n",
      "[Errno 2] No such file or directory: '/nobackup_1/users/schreurs/project_GAN/rtcor_heavy_rain_labels/2008/01/200801032135.npy'\n",
      "[Errno 2] No such file or directory: '/nobackup_1/users/schreurs/project_GAN/rtcor_heavy_rain_labels/2008/01/200801032205.npy'\n",
      "[Errno 2] No such file or directory: '/nobackup_1/users/schreurs/project_GAN/rtcor_heavy_rain_labels/2008/01/200801032235.npy'\n",
      "[Errno 2] No such file or directory: '/nobackup_1/users/schreurs/project_GAN/rtcor_heavy_rain_labels/2008/01/200801032305.npy'\n",
      "[Errno 2] No such file or directory: '/nobackup_1/users/schreurs/project_GAN/rtcor_heavy_rain_labels/2008/01/200801032335.npy'\n",
      "[Errno 2] No such file or directory: '/nobackup_1/users/schreurs/project_GAN/rtcor_heavy_rain_labels/2008/01/200801040005.npy'\n",
      "[Errno 2] No such file or directory: '/nobackup_1/users/schreurs/project_GAN/rtcor_heavy_rain_labels/2008/01/200801040035.npy'\n",
      "[Errno 2] No such file or directory: '/nobackup_1/users/schreurs/project_GAN/rtcor_heavy_rain_labels/2008/01/200801040105.npy'\n",
      "[Errno 2] No such file or directory: '/nobackup_1/users/schreurs/project_GAN/rtcor_heavy_rain_labels/2008/01/200801040135.npy'\n",
      "[Errno 2] No such file or directory: '/nobackup_1/users/schreurs/project_GAN/rtcor_heavy_rain_labels/2008/01/200801040205.npy'\n",
      "[Errno 2] No such file or directory: '/nobackup_1/users/schreurs/project_GAN/rtcor_heavy_rain_labels/2008/01/200801040235.npy'\n",
      "[Errno 2] No such file or directory: '/nobackup_1/users/schreurs/project_GAN/rtcor_heavy_rain_labels/2008/01/200801040305.npy'\n",
      "[Errno 2] No such file or directory: '/nobackup_1/users/schreurs/project_GAN/rtcor_heavy_rain_labels/2008/01/200801040335.npy'\n",
      "[Errno 2] No such file or directory: '/nobackup_1/users/schreurs/project_GAN/rtcor_heavy_rain_labels/2008/01/200801040405.npy'\n",
      "[Errno 2] No such file or directory: '/nobackup_1/users/schreurs/project_GAN/rtcor_heavy_rain_labels/2008/01/200801040435.npy'\n",
      "[Errno 2] No such file or directory: '/nobackup_1/users/schreurs/project_GAN/rtcor_heavy_rain_labels/2008/01/200801040505.npy'\n",
      "[Errno 2] No such file or directory: '/nobackup_1/users/schreurs/project_GAN/rtcor_heavy_rain_labels/2008/01/200801040535.npy'\n",
      "[Errno 2] No such file or directory: '/nobackup_1/users/schreurs/project_GAN/rtcor_heavy_rain_labels/2008/01/200801040605.npy'\n",
      "[Errno 2] No such file or directory: '/nobackup_1/users/schreurs/project_GAN/rtcor_heavy_rain_labels/2008/01/200801040635.npy'\n",
      "[Errno 2] No such file or directory: '/nobackup_1/users/schreurs/project_GAN/rtcor_heavy_rain_labels/2008/01/200801040705.npy'\n",
      "[Errno 2] No such file or directory: '/nobackup_1/users/schreurs/project_GAN/rtcor_heavy_rain_labels/2008/01/200801040735.npy'\n",
      "[Errno 2] No such file or directory: '/nobackup_1/users/schreurs/project_GAN/rtcor_heavy_rain_labels/2008/01/200801040805.npy'\n",
      "[Errno 2] No such file or directory: '/nobackup_1/users/schreurs/project_GAN/rtcor_heavy_rain_labels/2008/01/200801040835.npy'\n",
      "[Errno 2] No such file or directory: '/nobackup_1/users/schreurs/project_GAN/rtcor_heavy_rain_labels/2008/01/200801040905.npy'\n",
      "[Errno 2] No such file or directory: '/nobackup_1/users/schreurs/project_GAN/rtcor_heavy_rain_labels/2008/01/200801040935.npy'\n",
      "[Errno 2] No such file or directory: '/nobackup_1/users/schreurs/project_GAN/rtcor_heavy_rain_labels/2008/01/200801041005.npy'\n",
      "[Errno 2] No such file or directory: '/nobackup_1/users/schreurs/project_GAN/rtcor_heavy_rain_labels/2008/01/200801041035.npy'\n",
      "[Errno 2] No such file or directory: '/nobackup_1/users/schreurs/project_GAN/rtcor_heavy_rain_labels/2008/01/200801041105.npy'\n",
      "[Errno 2] No such file or directory: '/nobackup_1/users/schreurs/project_GAN/rtcor_heavy_rain_labels/2008/01/200801041135.npy'\n",
      "[Errno 2] No such file or directory: '/nobackup_1/users/schreurs/project_GAN/rtcor_heavy_rain_labels/2008/01/200801041205.npy'\n",
      "[Errno 2] No such file or directory: '/nobackup_1/users/schreurs/project_GAN/rtcor_heavy_rain_labels/2008/01/200801041235.npy'\n",
      "[Errno 2] No such file or directory: '/nobackup_1/users/schreurs/project_GAN/rtcor_heavy_rain_labels/2008/01/200801041305.npy'\n",
      "[Errno 2] No such file or directory: '/nobackup_1/users/schreurs/project_GAN/rtcor_heavy_rain_labels/2008/01/200801041335.npy'\n",
      "[Errno 2] No such file or directory: '/nobackup_1/users/schreurs/project_GAN/rtcor_heavy_rain_labels/2008/01/200801041405.npy'\n",
      "[Errno 2] No such file or directory: '/nobackup_1/users/schreurs/project_GAN/rtcor_heavy_rain_labels/2008/01/200801041435.npy'\n",
      "[Errno 2] No such file or directory: '/nobackup_1/users/schreurs/project_GAN/rtcor_heavy_rain_labels/2008/01/200801041505.npy'\n",
      "[Errno 2] No such file or directory: '/nobackup_1/users/schreurs/project_GAN/rtcor_heavy_rain_labels/2008/01/200801041535.npy'\n",
      "[Errno 2] No such file or directory: '/nobackup_1/users/schreurs/project_GAN/rtcor_heavy_rain_labels/2008/01/200801041605.npy'\n",
      "[Errno 2] No such file or directory: '/nobackup_1/users/schreurs/project_GAN/rtcor_heavy_rain_labels/2008/01/200801041635.npy'\n",
      "[Errno 2] No such file or directory: '/nobackup_1/users/schreurs/project_GAN/rtcor_heavy_rain_labels/2008/01/200801041705.npy'\n",
      "[Errno 2] No such file or directory: '/nobackup_1/users/schreurs/project_GAN/rtcor_heavy_rain_labels/2008/01/200801041735.npy'\n",
      "[Errno 2] No such file or directory: '/nobackup_1/users/schreurs/project_GAN/rtcor_heavy_rain_labels/2008/01/200801041805.npy'\n",
      "[Errno 2] No such file or directory: '/nobackup_1/users/schreurs/project_GAN/rtcor_heavy_rain_labels/2008/01/200801041835.npy'\n",
      "[Errno 2] No such file or directory: '/nobackup_1/users/schreurs/project_GAN/rtcor_heavy_rain_labels/2008/01/200801041905.npy'\n",
      "[Errno 2] No such file or directory: '/nobackup_1/users/schreurs/project_GAN/rtcor_heavy_rain_labels/2008/01/200801041935.npy'\n",
      "[Errno 2] No such file or directory: '/nobackup_1/users/schreurs/project_GAN/rtcor_heavy_rain_labels/2008/01/200801042005.npy'\n",
      "[Errno 2] No such file or directory: '/nobackup_1/users/schreurs/project_GAN/rtcor_heavy_rain_labels/2008/01/200801042035.npy'\n",
      "[Errno 2] No such file or directory: '/nobackup_1/users/schreurs/project_GAN/rtcor_heavy_rain_labels/2008/01/200801042105.npy'\n",
      "[Errno 2] No such file or directory: '/nobackup_1/users/schreurs/project_GAN/rtcor_heavy_rain_labels/2008/01/200801042135.npy'\n",
      "[Errno 2] No such file or directory: '/nobackup_1/users/schreurs/project_GAN/rtcor_heavy_rain_labels/2008/01/200801042205.npy'\n",
      "[Errno 2] No such file or directory: '/nobackup_1/users/schreurs/project_GAN/rtcor_heavy_rain_labels/2008/01/200801042235.npy'\n",
      "[Errno 2] No such file or directory: '/nobackup_1/users/schreurs/project_GAN/rtcor_heavy_rain_labels/2008/01/200801042305.npy'\n",
      "[Errno 2] No such file or directory: '/nobackup_1/users/schreurs/project_GAN/rtcor_heavy_rain_labels/2008/01/200801042335.npy'\n",
      "[Errno 2] No such file or directory: '/nobackup_1/users/schreurs/project_GAN/rtcor_heavy_rain_labels/2008/01/200801050005.npy'\n",
      "[Errno 2] No such file or directory: '/nobackup_1/users/schreurs/project_GAN/rtcor_heavy_rain_labels/2008/01/200801050035.npy'\n",
      "[Errno 2] No such file or directory: '/nobackup_1/users/schreurs/project_GAN/rtcor_heavy_rain_labels/2008/01/200801050105.npy'\n",
      "[Errno 2] No such file or directory: '/nobackup_1/users/schreurs/project_GAN/rtcor_heavy_rain_labels/2008/01/200801050135.npy'\n",
      "[Errno 2] No such file or directory: '/nobackup_1/users/schreurs/project_GAN/rtcor_heavy_rain_labels/2008/01/200801050205.npy'\n",
      "[Errno 2] No such file or directory: '/nobackup_1/users/schreurs/project_GAN/rtcor_heavy_rain_labels/2008/01/200801050235.npy'\n",
      "[Errno 2] No such file or directory: '/nobackup_1/users/schreurs/project_GAN/rtcor_heavy_rain_labels/2008/01/200801050305.npy'\n",
      "[Errno 2] No such file or directory: '/nobackup_1/users/schreurs/project_GAN/rtcor_heavy_rain_labels/2008/01/200801050335.npy'\n",
      "[Errno 2] No such file or directory: '/nobackup_1/users/schreurs/project_GAN/rtcor_heavy_rain_labels/2008/01/200801050405.npy'\n",
      "[Errno 2] No such file or directory: '/nobackup_1/users/schreurs/project_GAN/rtcor_heavy_rain_labels/2008/01/200801050435.npy'\n",
      "[Errno 2] No such file or directory: '/nobackup_1/users/schreurs/project_GAN/rtcor_heavy_rain_labels/2008/01/200801050505.npy'\n",
      "[Errno 2] No such file or directory: '/nobackup_1/users/schreurs/project_GAN/rtcor_heavy_rain_labels/2008/01/200801050535.npy'\n",
      "[Errno 2] No such file or directory: '/nobackup_1/users/schreurs/project_GAN/rtcor_heavy_rain_labels/2008/01/200801050605.npy'\n",
      "[Errno 2] No such file or directory: '/nobackup_1/users/schreurs/project_GAN/rtcor_heavy_rain_labels/2008/01/200801050635.npy'\n",
      "[Errno 2] No such file or directory: '/nobackup_1/users/schreurs/project_GAN/rtcor_heavy_rain_labels/2008/01/200801050705.npy'\n",
      "[Errno 2] No such file or directory: '/nobackup_1/users/schreurs/project_GAN/rtcor_heavy_rain_labels/2008/01/200801050735.npy'\n",
      "[Errno 2] No such file or directory: '/nobackup_1/users/schreurs/project_GAN/rtcor_heavy_rain_labels/2008/01/200801050805.npy'\n",
      "[Errno 2] No such file or directory: '/nobackup_1/users/schreurs/project_GAN/rtcor_heavy_rain_labels/2008/01/200801050835.npy'\n",
      "[Errno 2] No such file or directory: '/nobackup_1/users/schreurs/project_GAN/rtcor_heavy_rain_labels/2008/01/200801050905.npy'\n",
      "[Errno 2] No such file or directory: '/nobackup_1/users/schreurs/project_GAN/rtcor_heavy_rain_labels/2008/01/200801050935.npy'\n",
      "[Errno 2] No such file or directory: '/nobackup_1/users/schreurs/project_GAN/rtcor_heavy_rain_labels/2008/01/200801051005.npy'\n",
      "[Errno 2] No such file or directory: '/nobackup_1/users/schreurs/project_GAN/rtcor_heavy_rain_labels/2008/01/200801051035.npy'\n",
      "[Errno 2] No such file or directory: '/nobackup_1/users/schreurs/project_GAN/rtcor_heavy_rain_labels/2008/01/200801051105.npy'\n",
      "[Errno 2] No such file or directory: '/nobackup_1/users/schreurs/project_GAN/rtcor_heavy_rain_labels/2008/01/200801051135.npy'\n",
      "[Errno 2] No such file or directory: '/nobackup_1/users/schreurs/project_GAN/rtcor_heavy_rain_labels/2008/01/200801051205.npy'\n",
      "[Errno 2] No such file or directory: '/nobackup_1/users/schreurs/project_GAN/rtcor_heavy_rain_labels/2008/01/200801051235.npy'\n",
      "[Errno 2] No such file or directory: '/nobackup_1/users/schreurs/project_GAN/rtcor_heavy_rain_labels/2008/01/200801051305.npy'\n",
      "[Errno 2] No such file or directory: '/nobackup_1/users/schreurs/project_GAN/rtcor_heavy_rain_labels/2008/01/200801051335.npy'\n",
      "[Errno 2] No such file or directory: '/nobackup_1/users/schreurs/project_GAN/rtcor_heavy_rain_labels/2008/01/200801051405.npy'\n",
      "[Errno 2] No such file or directory: '/nobackup_1/users/schreurs/project_GAN/rtcor_heavy_rain_labels/2008/01/200801051435.npy'\n",
      "[Errno 2] No such file or directory: '/nobackup_1/users/schreurs/project_GAN/rtcor_heavy_rain_labels/2008/01/200801051505.npy'\n",
      "[Errno 2] No such file or directory: '/nobackup_1/users/schreurs/project_GAN/rtcor_heavy_rain_labels/2008/01/200801051535.npy'\n",
      "[Errno 2] No such file or directory: '/nobackup_1/users/schreurs/project_GAN/rtcor_heavy_rain_labels/2008/01/200801051605.npy'\n",
      "[Errno 2] No such file or directory: '/nobackup_1/users/schreurs/project_GAN/rtcor_heavy_rain_labels/2008/01/200801051635.npy'\n",
      "[Errno 2] No such file or directory: '/nobackup_1/users/schreurs/project_GAN/rtcor_heavy_rain_labels/2008/01/200801051705.npy'\n",
      "[Errno 2] No such file or directory: '/nobackup_1/users/schreurs/project_GAN/rtcor_heavy_rain_labels/2008/01/200801051735.npy'\n",
      "[Errno 2] No such file or directory: '/nobackup_1/users/schreurs/project_GAN/rtcor_heavy_rain_labels/2008/01/200801051805.npy'\n",
      "[Errno 2] No such file or directory: '/nobackup_1/users/schreurs/project_GAN/rtcor_heavy_rain_labels/2008/01/200801051835.npy'\n",
      "[Errno 2] No such file or directory: '/nobackup_1/users/schreurs/project_GAN/rtcor_heavy_rain_labels/2008/01/200801051905.npy'\n",
      "[Errno 2] No such file or directory: '/nobackup_1/users/schreurs/project_GAN/rtcor_heavy_rain_labels/2008/01/200801051935.npy'\n",
      "[Errno 2] No such file or directory: '/nobackup_1/users/schreurs/project_GAN/rtcor_heavy_rain_labels/2008/01/200801052005.npy'\n",
      "[Errno 2] No such file or directory: '/nobackup_1/users/schreurs/project_GAN/rtcor_heavy_rain_labels/2008/01/200801052035.npy'\n",
      "[Errno 2] No such file or directory: '/nobackup_1/users/schreurs/project_GAN/rtcor_heavy_rain_labels/2008/01/200801052105.npy'\n",
      "[Errno 2] No such file or directory: '/nobackup_1/users/schreurs/project_GAN/rtcor_heavy_rain_labels/2008/01/200801052135.npy'\n",
      "[Errno 2] No such file or directory: '/nobackup_1/users/schreurs/project_GAN/rtcor_heavy_rain_labels/2008/01/200801052205.npy'\n",
      "[Errno 2] No such file or directory: '/nobackup_1/users/schreurs/project_GAN/rtcor_heavy_rain_labels/2008/01/200801052235.npy'\n",
      "[Errno 2] No such file or directory: '/nobackup_1/users/schreurs/project_GAN/rtcor_heavy_rain_labels/2008/01/200801052305.npy'\n",
      "[Errno 2] No such file or directory: '/nobackup_1/users/schreurs/project_GAN/rtcor_heavy_rain_labels/2008/01/200801052335.npy'\n",
      "[Errno 2] No such file or directory: '/nobackup_1/users/schreurs/project_GAN/rtcor_heavy_rain_labels/2008/01/200801060005.npy'\n",
      "[Errno 2] No such file or directory: '/nobackup_1/users/schreurs/project_GAN/rtcor_heavy_rain_labels/2008/01/200801060035.npy'\n",
      "[Errno 2] No such file or directory: '/nobackup_1/users/schreurs/project_GAN/rtcor_heavy_rain_labels/2008/01/200801060105.npy'\n",
      "[Errno 2] No such file or directory: '/nobackup_1/users/schreurs/project_GAN/rtcor_heavy_rain_labels/2008/01/200801060135.npy'\n",
      "[Errno 2] No such file or directory: '/nobackup_1/users/schreurs/project_GAN/rtcor_heavy_rain_labels/2008/01/200801060205.npy'\n",
      "[Errno 2] No such file or directory: '/nobackup_1/users/schreurs/project_GAN/rtcor_heavy_rain_labels/2008/01/200801060235.npy'\n",
      "[Errno 2] No such file or directory: '/nobackup_1/users/schreurs/project_GAN/rtcor_heavy_rain_labels/2008/01/200801060305.npy'\n",
      "[Errno 2] No such file or directory: '/nobackup_1/users/schreurs/project_GAN/rtcor_heavy_rain_labels/2008/01/200801060335.npy'\n",
      "[Errno 2] No such file or directory: '/nobackup_1/users/schreurs/project_GAN/rtcor_heavy_rain_labels/2008/01/200801060405.npy'\n",
      "[Errno 2] No such file or directory: '/nobackup_1/users/schreurs/project_GAN/rtcor_heavy_rain_labels/2008/01/200801060435.npy'\n",
      "[Errno 2] No such file or directory: '/nobackup_1/users/schreurs/project_GAN/rtcor_heavy_rain_labels/2008/01/200801060505.npy'\n",
      "[Errno 2] No such file or directory: '/nobackup_1/users/schreurs/project_GAN/rtcor_heavy_rain_labels/2008/01/200801060535.npy'\n",
      "[Errno 2] No such file or directory: '/nobackup_1/users/schreurs/project_GAN/rtcor_heavy_rain_labels/2008/01/200801060605.npy'\n",
      "[Errno 2] No such file or directory: '/nobackup_1/users/schreurs/project_GAN/rtcor_heavy_rain_labels/2008/01/200801060635.npy'\n",
      "[Errno 2] No such file or directory: '/nobackup_1/users/schreurs/project_GAN/rtcor_heavy_rain_labels/2008/01/200801060705.npy'\n",
      "[Errno 2] No such file or directory: '/nobackup_1/users/schreurs/project_GAN/rtcor_heavy_rain_labels/2008/01/200801060735.npy'\n",
      "[Errno 2] No such file or directory: '/nobackup_1/users/schreurs/project_GAN/rtcor_heavy_rain_labels/2008/01/200801060805.npy'\n",
      "[Errno 2] No such file or directory: '/nobackup_1/users/schreurs/project_GAN/rtcor_heavy_rain_labels/2008/01/200801060835.npy'\n",
      "[Errno 2] No such file or directory: '/nobackup_1/users/schreurs/project_GAN/rtcor_heavy_rain_labels/2008/01/200801060905.npy'\n",
      "[Errno 2] No such file or directory: '/nobackup_1/users/schreurs/project_GAN/rtcor_heavy_rain_labels/2008/01/200801060935.npy'\n",
      "[Errno 2] No such file or directory: '/nobackup_1/users/schreurs/project_GAN/rtcor_heavy_rain_labels/2008/01/200801061005.npy'\n",
      "[Errno 2] No such file or directory: '/nobackup_1/users/schreurs/project_GAN/rtcor_heavy_rain_labels/2008/01/200801061035.npy'\n",
      "[Errno 2] No such file or directory: '/nobackup_1/users/schreurs/project_GAN/rtcor_heavy_rain_labels/2008/01/200801061105.npy'\n",
      "[Errno 2] No such file or directory: '/nobackup_1/users/schreurs/project_GAN/rtcor_heavy_rain_labels/2008/01/200801061135.npy'\n",
      "[Errno 2] No such file or directory: '/nobackup_1/users/schreurs/project_GAN/rtcor_heavy_rain_labels/2008/01/200801061205.npy'\n",
      "[Errno 2] No such file or directory: '/nobackup_1/users/schreurs/project_GAN/rtcor_heavy_rain_labels/2008/01/200801061235.npy'\n",
      "[Errno 2] No such file or directory: '/nobackup_1/users/schreurs/project_GAN/rtcor_heavy_rain_labels/2008/01/200801061305.npy'\n",
      "[Errno 2] No such file or directory: '/nobackup_1/users/schreurs/project_GAN/rtcor_heavy_rain_labels/2008/01/200801061335.npy'\n",
      "[Errno 2] No such file or directory: '/nobackup_1/users/schreurs/project_GAN/rtcor_heavy_rain_labels/2008/01/200801061405.npy'\n",
      "[Errno 2] No such file or directory: '/nobackup_1/users/schreurs/project_GAN/rtcor_heavy_rain_labels/2008/01/200801061435.npy'\n",
      "[Errno 2] No such file or directory: '/nobackup_1/users/schreurs/project_GAN/rtcor_heavy_rain_labels/2008/01/200801061505.npy'\n",
      "[Errno 2] No such file or directory: '/nobackup_1/users/schreurs/project_GAN/rtcor_heavy_rain_labels/2008/01/200801061535.npy'\n",
      "[Errno 2] No such file or directory: '/nobackup_1/users/schreurs/project_GAN/rtcor_heavy_rain_labels/2008/01/200801061605.npy'\n",
      "[Errno 2] No such file or directory: '/nobackup_1/users/schreurs/project_GAN/rtcor_heavy_rain_labels/2008/01/200801061635.npy'\n",
      "[Errno 2] No such file or directory: '/nobackup_1/users/schreurs/project_GAN/rtcor_heavy_rain_labels/2008/01/200801061705.npy'\n",
      "[Errno 2] No such file or directory: '/nobackup_1/users/schreurs/project_GAN/rtcor_heavy_rain_labels/2008/01/200801061735.npy'\n",
      "[Errno 2] No such file or directory: '/nobackup_1/users/schreurs/project_GAN/rtcor_heavy_rain_labels/2008/01/200801061805.npy'\n",
      "[Errno 2] No such file or directory: '/nobackup_1/users/schreurs/project_GAN/rtcor_heavy_rain_labels/2008/01/200801061835.npy'\n",
      "[Errno 2] No such file or directory: '/nobackup_1/users/schreurs/project_GAN/rtcor_heavy_rain_labels/2008/01/200801061905.npy'\n",
      "[Errno 2] No such file or directory: '/nobackup_1/users/schreurs/project_GAN/rtcor_heavy_rain_labels/2008/01/200801061935.npy'\n",
      "[Errno 2] No such file or directory: '/nobackup_1/users/schreurs/project_GAN/rtcor_heavy_rain_labels/2008/01/200801062005.npy'\n",
      "[Errno 2] No such file or directory: '/nobackup_1/users/schreurs/project_GAN/rtcor_heavy_rain_labels/2008/01/200801062035.npy'\n",
      "[Errno 2] No such file or directory: '/nobackup_1/users/schreurs/project_GAN/rtcor_heavy_rain_labels/2008/01/200801062105.npy'\n",
      "[Errno 2] No such file or directory: '/nobackup_1/users/schreurs/project_GAN/rtcor_heavy_rain_labels/2008/01/200801062135.npy'\n",
      "[Errno 2] No such file or directory: '/nobackup_1/users/schreurs/project_GAN/rtcor_heavy_rain_labels/2008/01/200801062205.npy'\n",
      "[Errno 2] No such file or directory: '/nobackup_1/users/schreurs/project_GAN/rtcor_heavy_rain_labels/2008/01/200801062235.npy'\n",
      "[Errno 2] No such file or directory: '/nobackup_1/users/schreurs/project_GAN/rtcor_heavy_rain_labels/2008/01/200801062305.npy'\n",
      "[Errno 2] No such file or directory: '/nobackup_1/users/schreurs/project_GAN/rtcor_heavy_rain_labels/2008/01/200801062335.npy'\n",
      "[Errno 2] No such file or directory: '/nobackup_1/users/schreurs/project_GAN/rtcor_heavy_rain_labels/2008/01/200801070005.npy'\n",
      "[Errno 2] No such file or directory: '/nobackup_1/users/schreurs/project_GAN/rtcor_heavy_rain_labels/2008/01/200801070035.npy'\n",
      "[Errno 2] No such file or directory: '/nobackup_1/users/schreurs/project_GAN/rtcor_heavy_rain_labels/2008/01/200801070105.npy'\n",
      "[Errno 2] No such file or directory: '/nobackup_1/users/schreurs/project_GAN/rtcor_heavy_rain_labels/2008/01/200801070135.npy'\n",
      "[Errno 2] No such file or directory: '/nobackup_1/users/schreurs/project_GAN/rtcor_heavy_rain_labels/2008/01/200801070205.npy'\n",
      "[Errno 2] No such file or directory: '/nobackup_1/users/schreurs/project_GAN/rtcor_heavy_rain_labels/2008/01/200801070235.npy'\n",
      "[Errno 2] No such file or directory: '/nobackup_1/users/schreurs/project_GAN/rtcor_heavy_rain_labels/2008/01/200801070305.npy'\n",
      "[Errno 2] No such file or directory: '/nobackup_1/users/schreurs/project_GAN/rtcor_heavy_rain_labels/2008/01/200801070335.npy'\n",
      "[Errno 2] No such file or directory: '/nobackup_1/users/schreurs/project_GAN/rtcor_heavy_rain_labels/2008/01/200801070405.npy'\n",
      "[Errno 2] No such file or directory: '/nobackup_1/users/schreurs/project_GAN/rtcor_heavy_rain_labels/2008/01/200801070435.npy'\n",
      "[Errno 2] No such file or directory: '/nobackup_1/users/schreurs/project_GAN/rtcor_heavy_rain_labels/2008/01/200801070505.npy'\n",
      "[Errno 2] No such file or directory: '/nobackup_1/users/schreurs/project_GAN/rtcor_heavy_rain_labels/2008/01/200801070535.npy'\n",
      "[Errno 2] No such file or directory: '/nobackup_1/users/schreurs/project_GAN/rtcor_heavy_rain_labels/2008/01/200801070605.npy'\n",
      "[Errno 2] No such file or directory: '/nobackup_1/users/schreurs/project_GAN/rtcor_heavy_rain_labels/2008/01/200801070635.npy'\n",
      "[Errno 2] No such file or directory: '/nobackup_1/users/schreurs/project_GAN/rtcor_heavy_rain_labels/2008/01/200801070705.npy'\n",
      "[Errno 2] No such file or directory: '/nobackup_1/users/schreurs/project_GAN/rtcor_heavy_rain_labels/2008/01/200801070735.npy'\n",
      "[Errno 2] No such file or directory: '/nobackup_1/users/schreurs/project_GAN/rtcor_heavy_rain_labels/2008/01/200801070805.npy'\n",
      "[Errno 2] No such file or directory: '/nobackup_1/users/schreurs/project_GAN/rtcor_heavy_rain_labels/2008/01/200801070835.npy'\n",
      "[Errno 2] No such file or directory: '/nobackup_1/users/schreurs/project_GAN/rtcor_heavy_rain_labels/2008/01/200801070905.npy'\n",
      "[Errno 2] No such file or directory: '/nobackup_1/users/schreurs/project_GAN/rtcor_heavy_rain_labels/2008/01/200801070935.npy'\n",
      "[Errno 2] No such file or directory: '/nobackup_1/users/schreurs/project_GAN/rtcor_heavy_rain_labels/2008/01/200801071005.npy'\n",
      "[Errno 2] No such file or directory: '/nobackup_1/users/schreurs/project_GAN/rtcor_heavy_rain_labels/2008/01/200801071035.npy'\n",
      "[Errno 2] No such file or directory: '/nobackup_1/users/schreurs/project_GAN/rtcor_heavy_rain_labels/2008/01/200801071105.npy'\n",
      "[Errno 2] No such file or directory: '/nobackup_1/users/schreurs/project_GAN/rtcor_heavy_rain_labels/2008/01/200801071135.npy'\n",
      "[Errno 2] No such file or directory: '/nobackup_1/users/schreurs/project_GAN/rtcor_heavy_rain_labels/2008/01/200801071205.npy'\n",
      "[Errno 2] No such file or directory: '/nobackup_1/users/schreurs/project_GAN/rtcor_heavy_rain_labels/2008/01/200801071235.npy'\n",
      "[Errno 2] No such file or directory: '/nobackup_1/users/schreurs/project_GAN/rtcor_heavy_rain_labels/2008/01/200801071305.npy'\n",
      "[Errno 2] No such file or directory: '/nobackup_1/users/schreurs/project_GAN/rtcor_heavy_rain_labels/2008/01/200801071335.npy'\n",
      "[Errno 2] No such file or directory: '/nobackup_1/users/schreurs/project_GAN/rtcor_heavy_rain_labels/2008/01/200801071405.npy'\n",
      "[Errno 2] No such file or directory: '/nobackup_1/users/schreurs/project_GAN/rtcor_heavy_rain_labels/2008/01/200801071435.npy'\n",
      "[Errno 2] No such file or directory: '/nobackup_1/users/schreurs/project_GAN/rtcor_heavy_rain_labels/2008/01/200801071505.npy'\n",
      "[Errno 2] No such file or directory: '/nobackup_1/users/schreurs/project_GAN/rtcor_heavy_rain_labels/2008/01/200801071535.npy'\n",
      "[Errno 2] No such file or directory: '/nobackup_1/users/schreurs/project_GAN/rtcor_heavy_rain_labels/2008/01/200801071605.npy'\n",
      "[Errno 2] No such file or directory: '/nobackup_1/users/schreurs/project_GAN/rtcor_heavy_rain_labels/2008/01/200801071635.npy'\n",
      "[Errno 2] No such file or directory: '/nobackup_1/users/schreurs/project_GAN/rtcor_heavy_rain_labels/2008/01/200801071705.npy'\n",
      "[Errno 2] No such file or directory: '/nobackup_1/users/schreurs/project_GAN/rtcor_heavy_rain_labels/2008/01/200801071735.npy'\n",
      "[Errno 2] No such file or directory: '/nobackup_1/users/schreurs/project_GAN/rtcor_heavy_rain_labels/2008/01/200801071805.npy'\n",
      "[Errno 2] No such file or directory: '/nobackup_1/users/schreurs/project_GAN/rtcor_heavy_rain_labels/2008/01/200801071835.npy'\n",
      "[Errno 2] No such file or directory: '/nobackup_1/users/schreurs/project_GAN/rtcor_heavy_rain_labels/2008/01/200801071905.npy'\n",
      "[Errno 2] No such file or directory: '/nobackup_1/users/schreurs/project_GAN/rtcor_heavy_rain_labels/2008/01/200801071935.npy'\n",
      "[Errno 2] No such file or directory: '/nobackup_1/users/schreurs/project_GAN/rtcor_heavy_rain_labels/2008/01/200801072005.npy'\n",
      "[Errno 2] No such file or directory: '/nobackup_1/users/schreurs/project_GAN/rtcor_heavy_rain_labels/2008/01/200801072035.npy'\n",
      "[Errno 2] No such file or directory: '/nobackup_1/users/schreurs/project_GAN/rtcor_heavy_rain_labels/2008/01/200801072105.npy'\n",
      "[Errno 2] No such file or directory: '/nobackup_1/users/schreurs/project_GAN/rtcor_heavy_rain_labels/2008/01/200801072135.npy'\n",
      "[Errno 2] No such file or directory: '/nobackup_1/users/schreurs/project_GAN/rtcor_heavy_rain_labels/2008/01/200801072205.npy'\n",
      "[Errno 2] No such file or directory: '/nobackup_1/users/schreurs/project_GAN/rtcor_heavy_rain_labels/2008/01/200801072235.npy'\n",
      "[Errno 2] No such file or directory: '/nobackup_1/users/schreurs/project_GAN/rtcor_heavy_rain_labels/2008/01/200801072305.npy'\n",
      "[Errno 2] No such file or directory: '/nobackup_1/users/schreurs/project_GAN/rtcor_heavy_rain_labels/2008/01/200801072335.npy'\n",
      "[Errno 2] No such file or directory: '/nobackup_1/users/schreurs/project_GAN/rtcor_heavy_rain_labels/2008/01/200801080005.npy'\n",
      "[Errno 2] No such file or directory: '/nobackup_1/users/schreurs/project_GAN/rtcor_heavy_rain_labels/2008/01/200801080035.npy'\n",
      "[Errno 2] No such file or directory: '/nobackup_1/users/schreurs/project_GAN/rtcor_heavy_rain_labels/2008/01/200801080105.npy'\n",
      "[Errno 2] No such file or directory: '/nobackup_1/users/schreurs/project_GAN/rtcor_heavy_rain_labels/2008/01/200801080135.npy'\n",
      "[Errno 2] No such file or directory: '/nobackup_1/users/schreurs/project_GAN/rtcor_heavy_rain_labels/2008/01/200801080205.npy'\n",
      "[Errno 2] No such file or directory: '/nobackup_1/users/schreurs/project_GAN/rtcor_heavy_rain_labels/2008/01/200801080235.npy'\n",
      "[Errno 2] No such file or directory: '/nobackup_1/users/schreurs/project_GAN/rtcor_heavy_rain_labels/2008/01/200801080305.npy'\n",
      "[Errno 2] No such file or directory: '/nobackup_1/users/schreurs/project_GAN/rtcor_heavy_rain_labels/2008/01/200801080335.npy'\n",
      "[Errno 2] No such file or directory: '/nobackup_1/users/schreurs/project_GAN/rtcor_heavy_rain_labels/2008/01/200801080405.npy'\n",
      "[Errno 2] No such file or directory: '/nobackup_1/users/schreurs/project_GAN/rtcor_heavy_rain_labels/2008/01/200801080435.npy'\n",
      "[Errno 2] No such file or directory: '/nobackup_1/users/schreurs/project_GAN/rtcor_heavy_rain_labels/2008/01/200801080505.npy'\n",
      "[Errno 2] No such file or directory: '/nobackup_1/users/schreurs/project_GAN/rtcor_heavy_rain_labels/2008/01/200801080535.npy'\n",
      "[Errno 2] No such file or directory: '/nobackup_1/users/schreurs/project_GAN/rtcor_heavy_rain_labels/2008/01/200801080605.npy'\n",
      "[Errno 2] No such file or directory: '/nobackup_1/users/schreurs/project_GAN/rtcor_heavy_rain_labels/2008/01/200801080635.npy'\n",
      "[Errno 2] No such file or directory: '/nobackup_1/users/schreurs/project_GAN/rtcor_heavy_rain_labels/2008/01/200801080705.npy'\n",
      "[Errno 2] No such file or directory: '/nobackup_1/users/schreurs/project_GAN/rtcor_heavy_rain_labels/2008/01/200801080735.npy'\n",
      "[Errno 2] No such file or directory: '/nobackup_1/users/schreurs/project_GAN/rtcor_heavy_rain_labels/2008/01/200801080805.npy'\n",
      "[Errno 2] No such file or directory: '/nobackup_1/users/schreurs/project_GAN/rtcor_heavy_rain_labels/2008/01/200801080835.npy'\n",
      "[Errno 2] No such file or directory: '/nobackup_1/users/schreurs/project_GAN/rtcor_heavy_rain_labels/2008/01/200801080905.npy'\n",
      "[Errno 2] No such file or directory: '/nobackup_1/users/schreurs/project_GAN/rtcor_heavy_rain_labels/2008/01/200801080935.npy'\n",
      "[Errno 2] No such file or directory: '/nobackup_1/users/schreurs/project_GAN/rtcor_heavy_rain_labels/2008/01/200801081005.npy'\n",
      "[Errno 2] No such file or directory: '/nobackup_1/users/schreurs/project_GAN/rtcor_heavy_rain_labels/2008/01/200801081035.npy'\n",
      "[Errno 2] No such file or directory: '/nobackup_1/users/schreurs/project_GAN/rtcor_heavy_rain_labels/2008/01/200801081105.npy'\n",
      "[Errno 2] No such file or directory: '/nobackup_1/users/schreurs/project_GAN/rtcor_heavy_rain_labels/2008/01/200801081135.npy'\n",
      "[Errno 2] No such file or directory: '/nobackup_1/users/schreurs/project_GAN/rtcor_heavy_rain_labels/2008/01/200801081205.npy'\n",
      "[Errno 2] No such file or directory: '/nobackup_1/users/schreurs/project_GAN/rtcor_heavy_rain_labels/2008/01/200801081235.npy'\n",
      "[Errno 2] No such file or directory: '/nobackup_1/users/schreurs/project_GAN/rtcor_heavy_rain_labels/2008/01/200801081305.npy'\n",
      "[Errno 2] No such file or directory: '/nobackup_1/users/schreurs/project_GAN/rtcor_heavy_rain_labels/2008/01/200801081335.npy'\n",
      "[Errno 2] No such file or directory: '/nobackup_1/users/schreurs/project_GAN/rtcor_heavy_rain_labels/2008/01/200801081405.npy'\n",
      "[Errno 2] No such file or directory: '/nobackup_1/users/schreurs/project_GAN/rtcor_heavy_rain_labels/2008/01/200801081435.npy'\n",
      "[Errno 2] No such file or directory: '/nobackup_1/users/schreurs/project_GAN/rtcor_heavy_rain_labels/2008/01/200801081505.npy'\n",
      "[Errno 2] No such file or directory: '/nobackup_1/users/schreurs/project_GAN/rtcor_heavy_rain_labels/2008/01/200801081535.npy'\n",
      "[Errno 2] No such file or directory: '/nobackup_1/users/schreurs/project_GAN/rtcor_heavy_rain_labels/2008/01/200801081605.npy'\n",
      "[Errno 2] No such file or directory: '/nobackup_1/users/schreurs/project_GAN/rtcor_heavy_rain_labels/2008/01/200801081635.npy'\n",
      "[Errno 2] No such file or directory: '/nobackup_1/users/schreurs/project_GAN/rtcor_heavy_rain_labels/2008/01/200801081705.npy'\n",
      "[Errno 2] No such file or directory: '/nobackup_1/users/schreurs/project_GAN/rtcor_heavy_rain_labels/2008/01/200801081735.npy'\n",
      "[Errno 2] No such file or directory: '/nobackup_1/users/schreurs/project_GAN/rtcor_heavy_rain_labels/2008/01/200801081805.npy'\n",
      "[Errno 2] No such file or directory: '/nobackup_1/users/schreurs/project_GAN/rtcor_heavy_rain_labels/2008/01/200801081835.npy'\n",
      "[Errno 2] No such file or directory: '/nobackup_1/users/schreurs/project_GAN/rtcor_heavy_rain_labels/2008/01/200801081905.npy'\n",
      "[Errno 2] No such file or directory: '/nobackup_1/users/schreurs/project_GAN/rtcor_heavy_rain_labels/2008/01/200801081935.npy'\n",
      "[Errno 2] No such file or directory: '/nobackup_1/users/schreurs/project_GAN/rtcor_heavy_rain_labels/2008/01/200801082005.npy'\n",
      "[Errno 2] No such file or directory: '/nobackup_1/users/schreurs/project_GAN/rtcor_heavy_rain_labels/2008/01/200801082035.npy'\n",
      "[Errno 2] No such file or directory: '/nobackup_1/users/schreurs/project_GAN/rtcor_heavy_rain_labels/2008/01/200801082105.npy'\n",
      "[Errno 2] No such file or directory: '/nobackup_1/users/schreurs/project_GAN/rtcor_heavy_rain_labels/2008/01/200801082135.npy'\n",
      "[Errno 2] No such file or directory: '/nobackup_1/users/schreurs/project_GAN/rtcor_heavy_rain_labels/2008/01/200801082205.npy'\n",
      "[Errno 2] No such file or directory: '/nobackup_1/users/schreurs/project_GAN/rtcor_heavy_rain_labels/2008/01/200801082235.npy'\n",
      "[Errno 2] No such file or directory: '/nobackup_1/users/schreurs/project_GAN/rtcor_heavy_rain_labels/2008/01/200801082305.npy'\n",
      "[Errno 2] No such file or directory: '/nobackup_1/users/schreurs/project_GAN/rtcor_heavy_rain_labels/2008/01/200801082335.npy'\n",
      "[Errno 2] No such file or directory: '/nobackup_1/users/schreurs/project_GAN/rtcor_heavy_rain_labels/2008/01/200801090005.npy'\n",
      "[Errno 2] No such file or directory: '/nobackup_1/users/schreurs/project_GAN/rtcor_heavy_rain_labels/2008/01/200801090035.npy'\n",
      "[Errno 2] No such file or directory: '/nobackup_1/users/schreurs/project_GAN/rtcor_heavy_rain_labels/2008/01/200801090105.npy'\n",
      "[Errno 2] No such file or directory: '/nobackup_1/users/schreurs/project_GAN/rtcor_heavy_rain_labels/2008/01/200801090135.npy'\n",
      "[Errno 2] No such file or directory: '/nobackup_1/users/schreurs/project_GAN/rtcor_heavy_rain_labels/2008/01/200801090205.npy'\n",
      "[Errno 2] No such file or directory: '/nobackup_1/users/schreurs/project_GAN/rtcor_heavy_rain_labels/2008/01/200801090235.npy'\n",
      "[Errno 2] No such file or directory: '/nobackup_1/users/schreurs/project_GAN/rtcor_heavy_rain_labels/2008/01/200801090305.npy'\n",
      "[Errno 2] No such file or directory: '/nobackup_1/users/schreurs/project_GAN/rtcor_heavy_rain_labels/2008/01/200801090335.npy'\n",
      "[Errno 2] No such file or directory: '/nobackup_1/users/schreurs/project_GAN/rtcor_heavy_rain_labels/2008/01/200801090405.npy'\n",
      "[Errno 2] No such file or directory: '/nobackup_1/users/schreurs/project_GAN/rtcor_heavy_rain_labels/2008/01/200801090435.npy'\n",
      "[Errno 2] No such file or directory: '/nobackup_1/users/schreurs/project_GAN/rtcor_heavy_rain_labels/2008/01/200801090505.npy'\n",
      "[Errno 2] No such file or directory: '/nobackup_1/users/schreurs/project_GAN/rtcor_heavy_rain_labels/2008/01/200801090535.npy'\n",
      "[Errno 2] No such file or directory: '/nobackup_1/users/schreurs/project_GAN/rtcor_heavy_rain_labels/2008/01/200801090605.npy'\n",
      "[Errno 2] No such file or directory: '/nobackup_1/users/schreurs/project_GAN/rtcor_heavy_rain_labels/2008/01/200801090635.npy'\n",
      "[Errno 2] No such file or directory: '/nobackup_1/users/schreurs/project_GAN/rtcor_heavy_rain_labels/2008/01/200801090705.npy'\n",
      "[Errno 2] No such file or directory: '/nobackup_1/users/schreurs/project_GAN/rtcor_heavy_rain_labels/2008/01/200801090735.npy'\n",
      "[Errno 2] No such file or directory: '/nobackup_1/users/schreurs/project_GAN/rtcor_heavy_rain_labels/2008/01/200801090805.npy'\n",
      "[Errno 2] No such file or directory: '/nobackup_1/users/schreurs/project_GAN/rtcor_heavy_rain_labels/2008/01/200801090835.npy'\n",
      "[Errno 2] No such file or directory: '/nobackup_1/users/schreurs/project_GAN/rtcor_heavy_rain_labels/2008/01/200801090905.npy'\n",
      "[Errno 2] No such file or directory: '/nobackup_1/users/schreurs/project_GAN/rtcor_heavy_rain_labels/2008/01/200801090935.npy'\n",
      "[Errno 2] No such file or directory: '/nobackup_1/users/schreurs/project_GAN/rtcor_heavy_rain_labels/2008/01/200801091005.npy'\n",
      "[Errno 2] No such file or directory: '/nobackup_1/users/schreurs/project_GAN/rtcor_heavy_rain_labels/2008/01/200801091035.npy'\n",
      "[Errno 2] No such file or directory: '/nobackup_1/users/schreurs/project_GAN/rtcor_heavy_rain_labels/2008/01/200801091105.npy'\n",
      "[Errno 2] No such file or directory: '/nobackup_1/users/schreurs/project_GAN/rtcor_heavy_rain_labels/2008/01/200801091135.npy'\n",
      "[Errno 2] No such file or directory: '/nobackup_1/users/schreurs/project_GAN/rtcor_heavy_rain_labels/2008/01/200801091205.npy'\n",
      "[Errno 2] No such file or directory: '/nobackup_1/users/schreurs/project_GAN/rtcor_heavy_rain_labels/2008/01/200801091235.npy'\n",
      "[Errno 2] No such file or directory: '/nobackup_1/users/schreurs/project_GAN/rtcor_heavy_rain_labels/2008/01/200801091305.npy'\n",
      "[Errno 2] No such file or directory: '/nobackup_1/users/schreurs/project_GAN/rtcor_heavy_rain_labels/2008/01/200801091335.npy'\n",
      "[Errno 2] No such file or directory: '/nobackup_1/users/schreurs/project_GAN/rtcor_heavy_rain_labels/2008/01/200801091405.npy'\n",
      "[Errno 2] No such file or directory: '/nobackup_1/users/schreurs/project_GAN/rtcor_heavy_rain_labels/2008/01/200801091435.npy'\n",
      "[Errno 2] No such file or directory: '/nobackup_1/users/schreurs/project_GAN/rtcor_heavy_rain_labels/2008/01/200801091505.npy'\n",
      "[Errno 2] No such file or directory: '/nobackup_1/users/schreurs/project_GAN/rtcor_heavy_rain_labels/2008/01/200801091535.npy'\n",
      "[Errno 2] No such file or directory: '/nobackup_1/users/schreurs/project_GAN/rtcor_heavy_rain_labels/2008/01/200801091605.npy'\n",
      "[Errno 2] No such file or directory: '/nobackup_1/users/schreurs/project_GAN/rtcor_heavy_rain_labels/2008/01/200801091635.npy'\n",
      "[Errno 2] No such file or directory: '/nobackup_1/users/schreurs/project_GAN/rtcor_heavy_rain_labels/2008/01/200801091705.npy'\n",
      "[Errno 2] No such file or directory: '/nobackup_1/users/schreurs/project_GAN/rtcor_heavy_rain_labels/2008/01/200801091735.npy'\n",
      "[Errno 2] No such file or directory: '/nobackup_1/users/schreurs/project_GAN/rtcor_heavy_rain_labels/2008/01/200801091805.npy'\n",
      "[Errno 2] No such file or directory: '/nobackup_1/users/schreurs/project_GAN/rtcor_heavy_rain_labels/2008/01/200801091835.npy'\n",
      "[Errno 2] No such file or directory: '/nobackup_1/users/schreurs/project_GAN/rtcor_heavy_rain_labels/2008/01/200801091905.npy'\n",
      "[Errno 2] No such file or directory: '/nobackup_1/users/schreurs/project_GAN/rtcor_heavy_rain_labels/2008/01/200801091935.npy'\n",
      "[Errno 2] No such file or directory: '/nobackup_1/users/schreurs/project_GAN/rtcor_heavy_rain_labels/2008/01/200801092005.npy'\n",
      "[Errno 2] No such file or directory: '/nobackup_1/users/schreurs/project_GAN/rtcor_heavy_rain_labels/2008/01/200801092035.npy'\n",
      "[Errno 2] No such file or directory: '/nobackup_1/users/schreurs/project_GAN/rtcor_heavy_rain_labels/2008/01/200801092105.npy'\n",
      "[Errno 2] No such file or directory: '/nobackup_1/users/schreurs/project_GAN/rtcor_heavy_rain_labels/2008/01/200801092135.npy'\n",
      "[Errno 2] No such file or directory: '/nobackup_1/users/schreurs/project_GAN/rtcor_heavy_rain_labels/2008/01/200801092205.npy'\n",
      "[Errno 2] No such file or directory: '/nobackup_1/users/schreurs/project_GAN/rtcor_heavy_rain_labels/2008/01/200801092235.npy'\n",
      "[Errno 2] No such file or directory: '/nobackup_1/users/schreurs/project_GAN/rtcor_heavy_rain_labels/2008/01/200801092305.npy'\n",
      "[Errno 2] No such file or directory: '/nobackup_1/users/schreurs/project_GAN/rtcor_heavy_rain_labels/2008/01/200801092335.npy'\n",
      "[Errno 2] No such file or directory: '/nobackup_1/users/schreurs/project_GAN/rtcor_heavy_rain_labels/2008/01/200801100005.npy'\n",
      "[Errno 2] No such file or directory: '/nobackup_1/users/schreurs/project_GAN/rtcor_heavy_rain_labels/2008/01/200801100035.npy'\n",
      "[Errno 2] No such file or directory: '/nobackup_1/users/schreurs/project_GAN/rtcor_heavy_rain_labels/2008/01/200801100105.npy'\n",
      "[Errno 2] No such file or directory: '/nobackup_1/users/schreurs/project_GAN/rtcor_heavy_rain_labels/2008/01/200801100135.npy'\n",
      "[Errno 2] No such file or directory: '/nobackup_1/users/schreurs/project_GAN/rtcor_heavy_rain_labels/2008/01/200801100205.npy'\n",
      "[Errno 2] No such file or directory: '/nobackup_1/users/schreurs/project_GAN/rtcor_heavy_rain_labels/2008/01/200801100235.npy'\n",
      "[Errno 2] No such file or directory: '/nobackup_1/users/schreurs/project_GAN/rtcor_heavy_rain_labels/2008/01/200801100305.npy'\n",
      "[Errno 2] No such file or directory: '/nobackup_1/users/schreurs/project_GAN/rtcor_heavy_rain_labels/2008/01/200801100335.npy'\n",
      "[Errno 2] No such file or directory: '/nobackup_1/users/schreurs/project_GAN/rtcor_heavy_rain_labels/2008/01/200801100405.npy'\n",
      "[Errno 2] No such file or directory: '/nobackup_1/users/schreurs/project_GAN/rtcor_heavy_rain_labels/2008/01/200801100435.npy'\n",
      "[Errno 2] No such file or directory: '/nobackup_1/users/schreurs/project_GAN/rtcor_heavy_rain_labels/2008/01/200801100505.npy'\n",
      "[Errno 2] No such file or directory: '/nobackup_1/users/schreurs/project_GAN/rtcor_heavy_rain_labels/2008/01/200801100535.npy'\n",
      "[Errno 2] No such file or directory: '/nobackup_1/users/schreurs/project_GAN/rtcor_heavy_rain_labels/2008/01/200801100605.npy'\n",
      "[Errno 2] No such file or directory: '/nobackup_1/users/schreurs/project_GAN/rtcor_heavy_rain_labels/2008/01/200801100635.npy'\n",
      "[Errno 2] No such file or directory: '/nobackup_1/users/schreurs/project_GAN/rtcor_heavy_rain_labels/2008/01/200801100705.npy'\n",
      "[Errno 2] No such file or directory: '/nobackup_1/users/schreurs/project_GAN/rtcor_heavy_rain_labels/2008/01/200801100735.npy'\n",
      "[Errno 2] No such file or directory: '/nobackup_1/users/schreurs/project_GAN/rtcor_heavy_rain_labels/2008/01/200801100805.npy'\n",
      "[Errno 2] No such file or directory: '/nobackup_1/users/schreurs/project_GAN/rtcor_heavy_rain_labels/2008/01/200801100835.npy'\n",
      "[Errno 2] No such file or directory: '/nobackup_1/users/schreurs/project_GAN/rtcor_heavy_rain_labels/2008/01/200801100905.npy'\n",
      "[Errno 2] No such file or directory: '/nobackup_1/users/schreurs/project_GAN/rtcor_heavy_rain_labels/2008/01/200801100935.npy'\n",
      "[Errno 2] No such file or directory: '/nobackup_1/users/schreurs/project_GAN/rtcor_heavy_rain_labels/2008/01/200801101005.npy'\n",
      "[Errno 2] No such file or directory: '/nobackup_1/users/schreurs/project_GAN/rtcor_heavy_rain_labels/2008/01/200801101035.npy'\n",
      "[Errno 2] No such file or directory: '/nobackup_1/users/schreurs/project_GAN/rtcor_heavy_rain_labels/2008/01/200801101105.npy'\n",
      "[Errno 2] No such file or directory: '/nobackup_1/users/schreurs/project_GAN/rtcor_heavy_rain_labels/2008/01/200801101135.npy'\n",
      "[Errno 2] No such file or directory: '/nobackup_1/users/schreurs/project_GAN/rtcor_heavy_rain_labels/2008/01/200801101205.npy'\n",
      "[Errno 2] No such file or directory: '/nobackup_1/users/schreurs/project_GAN/rtcor_heavy_rain_labels/2008/01/200801101235.npy'\n",
      "[Errno 2] No such file or directory: '/nobackup_1/users/schreurs/project_GAN/rtcor_heavy_rain_labels/2008/01/200801101305.npy'\n",
      "[Errno 2] No such file or directory: '/nobackup_1/users/schreurs/project_GAN/rtcor_heavy_rain_labels/2008/01/200801101335.npy'\n",
      "[Errno 2] No such file or directory: '/nobackup_1/users/schreurs/project_GAN/rtcor_heavy_rain_labels/2008/01/200801101405.npy'\n",
      "[Errno 2] No such file or directory: '/nobackup_1/users/schreurs/project_GAN/rtcor_heavy_rain_labels/2008/01/200801101435.npy'\n",
      "[Errno 2] No such file or directory: '/nobackup_1/users/schreurs/project_GAN/rtcor_heavy_rain_labels/2008/01/200801101505.npy'\n",
      "[Errno 2] No such file or directory: '/nobackup_1/users/schreurs/project_GAN/rtcor_heavy_rain_labels/2008/01/200801101535.npy'\n",
      "[Errno 2] No such file or directory: '/nobackup_1/users/schreurs/project_GAN/rtcor_heavy_rain_labels/2008/01/200801101605.npy'\n",
      "[Errno 2] No such file or directory: '/nobackup_1/users/schreurs/project_GAN/rtcor_heavy_rain_labels/2008/01/200801101635.npy'\n",
      "[Errno 2] No such file or directory: '/nobackup_1/users/schreurs/project_GAN/rtcor_heavy_rain_labels/2008/01/200801101705.npy'\n",
      "[Errno 2] No such file or directory: '/nobackup_1/users/schreurs/project_GAN/rtcor_heavy_rain_labels/2008/01/200801101735.npy'\n",
      "[Errno 2] No such file or directory: '/nobackup_1/users/schreurs/project_GAN/rtcor_heavy_rain_labels/2008/01/200801101805.npy'\n",
      "[Errno 2] No such file or directory: '/nobackup_1/users/schreurs/project_GAN/rtcor_heavy_rain_labels/2008/01/200801101835.npy'\n",
      "[Errno 2] No such file or directory: '/nobackup_1/users/schreurs/project_GAN/rtcor_heavy_rain_labels/2008/01/200801101905.npy'\n",
      "[Errno 2] No such file or directory: '/nobackup_1/users/schreurs/project_GAN/rtcor_heavy_rain_labels/2008/01/200801101935.npy'\n",
      "[Errno 2] No such file or directory: '/nobackup_1/users/schreurs/project_GAN/rtcor_heavy_rain_labels/2008/01/200801102005.npy'\n",
      "[Errno 2] No such file or directory: '/nobackup_1/users/schreurs/project_GAN/rtcor_heavy_rain_labels/2008/01/200801102035.npy'\n",
      "[Errno 2] No such file or directory: '/nobackup_1/users/schreurs/project_GAN/rtcor_heavy_rain_labels/2008/01/200801102105.npy'\n",
      "[Errno 2] No such file or directory: '/nobackup_1/users/schreurs/project_GAN/rtcor_heavy_rain_labels/2008/01/200801102135.npy'\n",
      "[Errno 2] No such file or directory: '/nobackup_1/users/schreurs/project_GAN/rtcor_heavy_rain_labels/2008/01/200801102205.npy'\n",
      "[Errno 2] No such file or directory: '/nobackup_1/users/schreurs/project_GAN/rtcor_heavy_rain_labels/2008/01/200801102235.npy'\n",
      "[Errno 2] No such file or directory: '/nobackup_1/users/schreurs/project_GAN/rtcor_heavy_rain_labels/2008/01/200801102305.npy'\n",
      "[Errno 2] No such file or directory: '/nobackup_1/users/schreurs/project_GAN/rtcor_heavy_rain_labels/2008/01/200801102335.npy'\n",
      "[Errno 2] No such file or directory: '/nobackup_1/users/schreurs/project_GAN/rtcor_heavy_rain_labels/2008/01/200801110005.npy'\n",
      "[Errno 2] No such file or directory: '/nobackup_1/users/schreurs/project_GAN/rtcor_heavy_rain_labels/2008/01/200801110035.npy'\n",
      "[Errno 2] No such file or directory: '/nobackup_1/users/schreurs/project_GAN/rtcor_heavy_rain_labels/2008/01/200801110105.npy'\n",
      "[Errno 2] No such file or directory: '/nobackup_1/users/schreurs/project_GAN/rtcor_heavy_rain_labels/2008/01/200801110135.npy'\n",
      "[Errno 2] No such file or directory: '/nobackup_1/users/schreurs/project_GAN/rtcor_heavy_rain_labels/2008/01/200801110205.npy'\n",
      "[Errno 2] No such file or directory: '/nobackup_1/users/schreurs/project_GAN/rtcor_heavy_rain_labels/2008/01/200801110235.npy'\n",
      "[Errno 2] No such file or directory: '/nobackup_1/users/schreurs/project_GAN/rtcor_heavy_rain_labels/2008/01/200801110305.npy'\n",
      "[Errno 2] No such file or directory: '/nobackup_1/users/schreurs/project_GAN/rtcor_heavy_rain_labels/2008/01/200801110335.npy'\n",
      "[Errno 2] No such file or directory: '/nobackup_1/users/schreurs/project_GAN/rtcor_heavy_rain_labels/2008/01/200801110405.npy'\n",
      "[Errno 2] No such file or directory: '/nobackup_1/users/schreurs/project_GAN/rtcor_heavy_rain_labels/2008/01/200801110435.npy'\n",
      "[Errno 2] No such file or directory: '/nobackup_1/users/schreurs/project_GAN/rtcor_heavy_rain_labels/2008/01/200801110505.npy'\n",
      "[Errno 2] No such file or directory: '/nobackup_1/users/schreurs/project_GAN/rtcor_heavy_rain_labels/2008/01/200801110535.npy'\n",
      "[Errno 2] No such file or directory: '/nobackup_1/users/schreurs/project_GAN/rtcor_heavy_rain_labels/2008/01/200801110605.npy'\n",
      "[Errno 2] No such file or directory: '/nobackup_1/users/schreurs/project_GAN/rtcor_heavy_rain_labels/2008/01/200801110635.npy'\n",
      "[Errno 2] No such file or directory: '/nobackup_1/users/schreurs/project_GAN/rtcor_heavy_rain_labels/2008/01/200801110705.npy'\n",
      "[Errno 2] No such file or directory: '/nobackup_1/users/schreurs/project_GAN/rtcor_heavy_rain_labels/2008/01/200801110735.npy'\n",
      "[Errno 2] No such file or directory: '/nobackup_1/users/schreurs/project_GAN/rtcor_heavy_rain_labels/2008/01/200801110805.npy'\n",
      "[Errno 2] No such file or directory: '/nobackup_1/users/schreurs/project_GAN/rtcor_heavy_rain_labels/2008/01/200801110835.npy'\n",
      "[Errno 2] No such file or directory: '/nobackup_1/users/schreurs/project_GAN/rtcor_heavy_rain_labels/2008/01/200801110905.npy'\n",
      "[Errno 2] No such file or directory: '/nobackup_1/users/schreurs/project_GAN/rtcor_heavy_rain_labels/2008/01/200801110935.npy'\n",
      "[Errno 2] No such file or directory: '/nobackup_1/users/schreurs/project_GAN/rtcor_heavy_rain_labels/2008/01/200801111005.npy'\n",
      "[Errno 2] No such file or directory: '/nobackup_1/users/schreurs/project_GAN/rtcor_heavy_rain_labels/2008/01/200801111035.npy'\n",
      "[Errno 2] No such file or directory: '/nobackup_1/users/schreurs/project_GAN/rtcor_heavy_rain_labels/2008/01/200801111105.npy'\n",
      "[Errno 2] No such file or directory: '/nobackup_1/users/schreurs/project_GAN/rtcor_heavy_rain_labels/2008/01/200801111135.npy'\n",
      "[Errno 2] No such file or directory: '/nobackup_1/users/schreurs/project_GAN/rtcor_heavy_rain_labels/2008/01/200801111205.npy'\n",
      "[Errno 2] No such file or directory: '/nobackup_1/users/schreurs/project_GAN/rtcor_heavy_rain_labels/2008/01/200801111235.npy'\n",
      "[Errno 2] No such file or directory: '/nobackup_1/users/schreurs/project_GAN/rtcor_heavy_rain_labels/2008/01/200801111305.npy'\n",
      "[Errno 2] No such file or directory: '/nobackup_1/users/schreurs/project_GAN/rtcor_heavy_rain_labels/2008/01/200801111335.npy'\n",
      "[Errno 2] No such file or directory: '/nobackup_1/users/schreurs/project_GAN/rtcor_heavy_rain_labels/2008/01/200801111405.npy'\n",
      "[Errno 2] No such file or directory: '/nobackup_1/users/schreurs/project_GAN/rtcor_heavy_rain_labels/2008/01/200801111435.npy'\n",
      "[Errno 2] No such file or directory: '/nobackup_1/users/schreurs/project_GAN/rtcor_heavy_rain_labels/2008/01/200801111505.npy'\n",
      "[Errno 2] No such file or directory: '/nobackup_1/users/schreurs/project_GAN/rtcor_heavy_rain_labels/2008/01/200801111535.npy'\n",
      "[Errno 2] No such file or directory: '/nobackup_1/users/schreurs/project_GAN/rtcor_heavy_rain_labels/2008/01/200801111605.npy'\n",
      "[Errno 2] No such file or directory: '/nobackup_1/users/schreurs/project_GAN/rtcor_heavy_rain_labels/2008/01/200801111635.npy'\n",
      "[Errno 2] No such file or directory: '/nobackup_1/users/schreurs/project_GAN/rtcor_heavy_rain_labels/2008/01/200801111705.npy'\n",
      "[Errno 2] No such file or directory: '/nobackup_1/users/schreurs/project_GAN/rtcor_heavy_rain_labels/2008/01/200801111735.npy'\n",
      "[Errno 2] No such file or directory: '/nobackup_1/users/schreurs/project_GAN/rtcor_heavy_rain_labels/2008/01/200801111805.npy'\n",
      "[Errno 2] No such file or directory: '/nobackup_1/users/schreurs/project_GAN/rtcor_heavy_rain_labels/2008/01/200801111835.npy'\n",
      "[Errno 2] No such file or directory: '/nobackup_1/users/schreurs/project_GAN/rtcor_heavy_rain_labels/2008/01/200801111905.npy'\n",
      "[Errno 2] No such file or directory: '/nobackup_1/users/schreurs/project_GAN/rtcor_heavy_rain_labels/2008/01/200801111935.npy'\n",
      "[Errno 2] No such file or directory: '/nobackup_1/users/schreurs/project_GAN/rtcor_heavy_rain_labels/2008/01/200801112005.npy'\n",
      "[Errno 2] No such file or directory: '/nobackup_1/users/schreurs/project_GAN/rtcor_heavy_rain_labels/2008/01/200801112035.npy'\n",
      "[Errno 2] No such file or directory: '/nobackup_1/users/schreurs/project_GAN/rtcor_heavy_rain_labels/2008/01/200801112105.npy'\n",
      "[Errno 2] No such file or directory: '/nobackup_1/users/schreurs/project_GAN/rtcor_heavy_rain_labels/2008/01/200801112135.npy'\n",
      "[Errno 2] No such file or directory: '/nobackup_1/users/schreurs/project_GAN/rtcor_heavy_rain_labels/2008/01/200801112205.npy'\n",
      "[Errno 2] No such file or directory: '/nobackup_1/users/schreurs/project_GAN/rtcor_heavy_rain_labels/2008/01/200801112235.npy'\n",
      "[Errno 2] No such file or directory: '/nobackup_1/users/schreurs/project_GAN/rtcor_heavy_rain_labels/2008/01/200801112305.npy'\n",
      "[Errno 2] No such file or directory: '/nobackup_1/users/schreurs/project_GAN/rtcor_heavy_rain_labels/2008/01/200801112335.npy'\n",
      "[Errno 2] No such file or directory: '/nobackup_1/users/schreurs/project_GAN/rtcor_heavy_rain_labels/2008/01/200801120005.npy'\n",
      "[Errno 2] No such file or directory: '/nobackup_1/users/schreurs/project_GAN/rtcor_heavy_rain_labels/2008/01/200801120035.npy'\n",
      "[Errno 2] No such file or directory: '/nobackup_1/users/schreurs/project_GAN/rtcor_heavy_rain_labels/2008/01/200801120105.npy'\n",
      "[Errno 2] No such file or directory: '/nobackup_1/users/schreurs/project_GAN/rtcor_heavy_rain_labels/2008/01/200801120135.npy'\n",
      "[Errno 2] No such file or directory: '/nobackup_1/users/schreurs/project_GAN/rtcor_heavy_rain_labels/2008/01/200801120205.npy'\n",
      "[Errno 2] No such file or directory: '/nobackup_1/users/schreurs/project_GAN/rtcor_heavy_rain_labels/2008/01/200801120235.npy'\n",
      "[Errno 2] No such file or directory: '/nobackup_1/users/schreurs/project_GAN/rtcor_heavy_rain_labels/2008/01/200801120305.npy'\n",
      "[Errno 2] No such file or directory: '/nobackup_1/users/schreurs/project_GAN/rtcor_heavy_rain_labels/2008/01/200801120335.npy'\n",
      "[Errno 2] No such file or directory: '/nobackup_1/users/schreurs/project_GAN/rtcor_heavy_rain_labels/2008/01/200801120405.npy'\n",
      "[Errno 2] No such file or directory: '/nobackup_1/users/schreurs/project_GAN/rtcor_heavy_rain_labels/2008/01/200801120435.npy'\n",
      "[Errno 2] No such file or directory: '/nobackup_1/users/schreurs/project_GAN/rtcor_heavy_rain_labels/2008/01/200801120505.npy'\n",
      "[Errno 2] No such file or directory: '/nobackup_1/users/schreurs/project_GAN/rtcor_heavy_rain_labels/2008/01/200801120535.npy'\n",
      "[Errno 2] No such file or directory: '/nobackup_1/users/schreurs/project_GAN/rtcor_heavy_rain_labels/2008/01/200801120605.npy'\n",
      "[Errno 2] No such file or directory: '/nobackup_1/users/schreurs/project_GAN/rtcor_heavy_rain_labels/2008/01/200801120635.npy'\n",
      "[Errno 2] No such file or directory: '/nobackup_1/users/schreurs/project_GAN/rtcor_heavy_rain_labels/2008/01/200801120705.npy'\n",
      "[Errno 2] No such file or directory: '/nobackup_1/users/schreurs/project_GAN/rtcor_heavy_rain_labels/2008/01/200801120735.npy'\n",
      "[Errno 2] No such file or directory: '/nobackup_1/users/schreurs/project_GAN/rtcor_heavy_rain_labels/2008/01/200801120805.npy'\n",
      "[Errno 2] No such file or directory: '/nobackup_1/users/schreurs/project_GAN/rtcor_heavy_rain_labels/2008/01/200801120835.npy'\n",
      "[Errno 2] No such file or directory: '/nobackup_1/users/schreurs/project_GAN/rtcor_heavy_rain_labels/2008/01/200801120905.npy'\n",
      "[Errno 2] No such file or directory: '/nobackup_1/users/schreurs/project_GAN/rtcor_heavy_rain_labels/2008/01/200801120935.npy'\n",
      "[Errno 2] No such file or directory: '/nobackup_1/users/schreurs/project_GAN/rtcor_heavy_rain_labels/2008/01/200801121005.npy'\n",
      "[Errno 2] No such file or directory: '/nobackup_1/users/schreurs/project_GAN/rtcor_heavy_rain_labels/2008/01/200801121035.npy'\n",
      "[Errno 2] No such file or directory: '/nobackup_1/users/schreurs/project_GAN/rtcor_heavy_rain_labels/2008/01/200801121105.npy'\n",
      "[Errno 2] No such file or directory: '/nobackup_1/users/schreurs/project_GAN/rtcor_heavy_rain_labels/2008/01/200801121135.npy'\n",
      "[Errno 2] No such file or directory: '/nobackup_1/users/schreurs/project_GAN/rtcor_heavy_rain_labels/2008/01/200801121205.npy'\n",
      "[Errno 2] No such file or directory: '/nobackup_1/users/schreurs/project_GAN/rtcor_heavy_rain_labels/2008/01/200801121235.npy'\n",
      "[Errno 2] No such file or directory: '/nobackup_1/users/schreurs/project_GAN/rtcor_heavy_rain_labels/2008/01/200801121305.npy'\n",
      "[Errno 2] No such file or directory: '/nobackup_1/users/schreurs/project_GAN/rtcor_heavy_rain_labels/2008/01/200801121335.npy'\n",
      "[Errno 2] No such file or directory: '/nobackup_1/users/schreurs/project_GAN/rtcor_heavy_rain_labels/2008/01/200801121405.npy'\n",
      "[Errno 2] No such file or directory: '/nobackup_1/users/schreurs/project_GAN/rtcor_heavy_rain_labels/2008/01/200801121435.npy'\n",
      "[Errno 2] No such file or directory: '/nobackup_1/users/schreurs/project_GAN/rtcor_heavy_rain_labels/2008/01/200801121505.npy'\n",
      "[Errno 2] No such file or directory: '/nobackup_1/users/schreurs/project_GAN/rtcor_heavy_rain_labels/2008/01/200801121535.npy'\n",
      "[Errno 2] No such file or directory: '/nobackup_1/users/schreurs/project_GAN/rtcor_heavy_rain_labels/2008/01/200801121605.npy'\n",
      "[Errno 2] No such file or directory: '/nobackup_1/users/schreurs/project_GAN/rtcor_heavy_rain_labels/2008/01/200801121635.npy'\n",
      "[Errno 2] No such file or directory: '/nobackup_1/users/schreurs/project_GAN/rtcor_heavy_rain_labels/2008/01/200801121705.npy'\n",
      "[Errno 2] No such file or directory: '/nobackup_1/users/schreurs/project_GAN/rtcor_heavy_rain_labels/2008/01/200801121735.npy'\n",
      "[Errno 2] No such file or directory: '/nobackup_1/users/schreurs/project_GAN/rtcor_heavy_rain_labels/2008/01/200801121805.npy'\n",
      "[Errno 2] No such file or directory: '/nobackup_1/users/schreurs/project_GAN/rtcor_heavy_rain_labels/2008/01/200801121835.npy'\n",
      "[Errno 2] No such file or directory: '/nobackup_1/users/schreurs/project_GAN/rtcor_heavy_rain_labels/2008/01/200801121905.npy'\n",
      "[Errno 2] No such file or directory: '/nobackup_1/users/schreurs/project_GAN/rtcor_heavy_rain_labels/2008/01/200801121935.npy'\n",
      "[Errno 2] No such file or directory: '/nobackup_1/users/schreurs/project_GAN/rtcor_heavy_rain_labels/2008/01/200801122005.npy'\n",
      "[Errno 2] No such file or directory: '/nobackup_1/users/schreurs/project_GAN/rtcor_heavy_rain_labels/2008/01/200801122035.npy'\n",
      "[Errno 2] No such file or directory: '/nobackup_1/users/schreurs/project_GAN/rtcor_heavy_rain_labels/2008/01/200801122105.npy'\n",
      "[Errno 2] No such file or directory: '/nobackup_1/users/schreurs/project_GAN/rtcor_heavy_rain_labels/2008/01/200801122135.npy'\n",
      "[Errno 2] No such file or directory: '/nobackup_1/users/schreurs/project_GAN/rtcor_heavy_rain_labels/2008/01/200801122205.npy'\n",
      "[Errno 2] No such file or directory: '/nobackup_1/users/schreurs/project_GAN/rtcor_heavy_rain_labels/2008/01/200801122235.npy'\n",
      "[Errno 2] No such file or directory: '/nobackup_1/users/schreurs/project_GAN/rtcor_heavy_rain_labels/2008/01/200801122305.npy'\n",
      "[Errno 2] No such file or directory: '/nobackup_1/users/schreurs/project_GAN/rtcor_heavy_rain_labels/2008/01/200801122335.npy'\n",
      "[Errno 2] No such file or directory: '/nobackup_1/users/schreurs/project_GAN/rtcor_heavy_rain_labels/2008/01/200801130005.npy'\n",
      "[Errno 2] No such file or directory: '/nobackup_1/users/schreurs/project_GAN/rtcor_heavy_rain_labels/2008/01/200801130035.npy'\n",
      "[Errno 2] No such file or directory: '/nobackup_1/users/schreurs/project_GAN/rtcor_heavy_rain_labels/2008/01/200801130105.npy'\n",
      "[Errno 2] No such file or directory: '/nobackup_1/users/schreurs/project_GAN/rtcor_heavy_rain_labels/2008/01/200801130135.npy'\n",
      "[Errno 2] No such file or directory: '/nobackup_1/users/schreurs/project_GAN/rtcor_heavy_rain_labels/2008/01/200801130205.npy'\n",
      "[Errno 2] No such file or directory: '/nobackup_1/users/schreurs/project_GAN/rtcor_heavy_rain_labels/2008/01/200801130235.npy'\n",
      "[Errno 2] No such file or directory: '/nobackup_1/users/schreurs/project_GAN/rtcor_heavy_rain_labels/2008/01/200801130305.npy'\n",
      "[Errno 2] No such file or directory: '/nobackup_1/users/schreurs/project_GAN/rtcor_heavy_rain_labels/2008/01/200801130335.npy'\n",
      "[Errno 2] No such file or directory: '/nobackup_1/users/schreurs/project_GAN/rtcor_heavy_rain_labels/2008/01/200801130405.npy'\n",
      "[Errno 2] No such file or directory: '/nobackup_1/users/schreurs/project_GAN/rtcor_heavy_rain_labels/2008/01/200801130435.npy'\n",
      "[Errno 2] No such file or directory: '/nobackup_1/users/schreurs/project_GAN/rtcor_heavy_rain_labels/2008/01/200801130505.npy'\n",
      "[Errno 2] No such file or directory: '/nobackup_1/users/schreurs/project_GAN/rtcor_heavy_rain_labels/2008/01/200801130535.npy'\n",
      "[Errno 2] No such file or directory: '/nobackup_1/users/schreurs/project_GAN/rtcor_heavy_rain_labels/2008/01/200801130605.npy'\n",
      "[Errno 2] No such file or directory: '/nobackup_1/users/schreurs/project_GAN/rtcor_heavy_rain_labels/2008/01/200801130635.npy'\n",
      "[Errno 2] No such file or directory: '/nobackup_1/users/schreurs/project_GAN/rtcor_heavy_rain_labels/2008/01/200801130705.npy'\n",
      "[Errno 2] No such file or directory: '/nobackup_1/users/schreurs/project_GAN/rtcor_heavy_rain_labels/2008/01/200801130735.npy'\n",
      "[Errno 2] No such file or directory: '/nobackup_1/users/schreurs/project_GAN/rtcor_heavy_rain_labels/2008/01/200801130805.npy'\n",
      "[Errno 2] No such file or directory: '/nobackup_1/users/schreurs/project_GAN/rtcor_heavy_rain_labels/2008/01/200801130835.npy'\n",
      "[Errno 2] No such file or directory: '/nobackup_1/users/schreurs/project_GAN/rtcor_heavy_rain_labels/2008/01/200801130905.npy'\n",
      "[Errno 2] No such file or directory: '/nobackup_1/users/schreurs/project_GAN/rtcor_heavy_rain_labels/2008/01/200801130935.npy'\n",
      "[Errno 2] No such file or directory: '/nobackup_1/users/schreurs/project_GAN/rtcor_heavy_rain_labels/2008/01/200801131005.npy'\n",
      "[Errno 2] No such file or directory: '/nobackup_1/users/schreurs/project_GAN/rtcor_heavy_rain_labels/2008/01/200801131035.npy'\n",
      "[Errno 2] No such file or directory: '/nobackup_1/users/schreurs/project_GAN/rtcor_heavy_rain_labels/2008/01/200801131105.npy'\n",
      "[Errno 2] No such file or directory: '/nobackup_1/users/schreurs/project_GAN/rtcor_heavy_rain_labels/2008/01/200801131135.npy'\n",
      "[Errno 2] No such file or directory: '/nobackup_1/users/schreurs/project_GAN/rtcor_heavy_rain_labels/2008/01/200801131205.npy'\n",
      "[Errno 2] No such file or directory: '/nobackup_1/users/schreurs/project_GAN/rtcor_heavy_rain_labels/2008/01/200801131235.npy'\n",
      "[Errno 2] No such file or directory: '/nobackup_1/users/schreurs/project_GAN/rtcor_heavy_rain_labels/2008/01/200801131305.npy'\n",
      "[Errno 2] No such file or directory: '/nobackup_1/users/schreurs/project_GAN/rtcor_heavy_rain_labels/2008/01/200801131335.npy'\n",
      "[Errno 2] No such file or directory: '/nobackup_1/users/schreurs/project_GAN/rtcor_heavy_rain_labels/2008/01/200801131405.npy'\n",
      "[Errno 2] No such file or directory: '/nobackup_1/users/schreurs/project_GAN/rtcor_heavy_rain_labels/2008/01/200801131435.npy'\n",
      "[Errno 2] No such file or directory: '/nobackup_1/users/schreurs/project_GAN/rtcor_heavy_rain_labels/2008/01/200801131505.npy'\n",
      "[Errno 2] No such file or directory: '/nobackup_1/users/schreurs/project_GAN/rtcor_heavy_rain_labels/2008/01/200801131535.npy'\n",
      "[Errno 2] No such file or directory: '/nobackup_1/users/schreurs/project_GAN/rtcor_heavy_rain_labels/2008/01/200801131605.npy'\n",
      "[Errno 2] No such file or directory: '/nobackup_1/users/schreurs/project_GAN/rtcor_heavy_rain_labels/2008/01/200801131635.npy'\n",
      "[Errno 2] No such file or directory: '/nobackup_1/users/schreurs/project_GAN/rtcor_heavy_rain_labels/2008/01/200801131705.npy'\n",
      "[Errno 2] No such file or directory: '/nobackup_1/users/schreurs/project_GAN/rtcor_heavy_rain_labels/2008/01/200801131735.npy'\n",
      "[Errno 2] No such file or directory: '/nobackup_1/users/schreurs/project_GAN/rtcor_heavy_rain_labels/2008/01/200801131805.npy'\n",
      "[Errno 2] No such file or directory: '/nobackup_1/users/schreurs/project_GAN/rtcor_heavy_rain_labels/2008/01/200801131835.npy'\n",
      "[Errno 2] No such file or directory: '/nobackup_1/users/schreurs/project_GAN/rtcor_heavy_rain_labels/2008/01/200801131905.npy'\n",
      "[Errno 2] No such file or directory: '/nobackup_1/users/schreurs/project_GAN/rtcor_heavy_rain_labels/2008/01/200801131935.npy'\n",
      "[Errno 2] No such file or directory: '/nobackup_1/users/schreurs/project_GAN/rtcor_heavy_rain_labels/2008/01/200801132005.npy'\n",
      "[Errno 2] No such file or directory: '/nobackup_1/users/schreurs/project_GAN/rtcor_heavy_rain_labels/2008/01/200801132035.npy'\n",
      "[Errno 2] No such file or directory: '/nobackup_1/users/schreurs/project_GAN/rtcor_heavy_rain_labels/2008/01/200801132105.npy'\n",
      "[Errno 2] No such file or directory: '/nobackup_1/users/schreurs/project_GAN/rtcor_heavy_rain_labels/2008/01/200801132135.npy'\n",
      "[Errno 2] No such file or directory: '/nobackup_1/users/schreurs/project_GAN/rtcor_heavy_rain_labels/2008/01/200801132205.npy'\n",
      "[Errno 2] No such file or directory: '/nobackup_1/users/schreurs/project_GAN/rtcor_heavy_rain_labels/2008/01/200801132235.npy'\n",
      "[Errno 2] No such file or directory: '/nobackup_1/users/schreurs/project_GAN/rtcor_heavy_rain_labels/2008/01/200801132305.npy'\n",
      "[Errno 2] No such file or directory: '/nobackup_1/users/schreurs/project_GAN/rtcor_heavy_rain_labels/2008/01/200801132335.npy'\n",
      "[Errno 2] No such file or directory: '/nobackup_1/users/schreurs/project_GAN/rtcor_heavy_rain_labels/2008/01/200801140005.npy'\n",
      "[Errno 2] No such file or directory: '/nobackup_1/users/schreurs/project_GAN/rtcor_heavy_rain_labels/2008/01/200801140035.npy'\n",
      "[Errno 2] No such file or directory: '/nobackup_1/users/schreurs/project_GAN/rtcor_heavy_rain_labels/2008/01/200801140105.npy'\n",
      "[Errno 2] No such file or directory: '/nobackup_1/users/schreurs/project_GAN/rtcor_heavy_rain_labels/2008/01/200801140135.npy'\n",
      "[Errno 2] No such file or directory: '/nobackup_1/users/schreurs/project_GAN/rtcor_heavy_rain_labels/2008/01/200801140205.npy'\n",
      "[Errno 2] No such file or directory: '/nobackup_1/users/schreurs/project_GAN/rtcor_heavy_rain_labels/2008/01/200801140235.npy'\n",
      "[Errno 2] No such file or directory: '/nobackup_1/users/schreurs/project_GAN/rtcor_heavy_rain_labels/2008/01/200801140305.npy'\n",
      "[Errno 2] No such file or directory: '/nobackup_1/users/schreurs/project_GAN/rtcor_heavy_rain_labels/2008/01/200801140335.npy'\n",
      "[Errno 2] No such file or directory: '/nobackup_1/users/schreurs/project_GAN/rtcor_heavy_rain_labels/2008/01/200801140405.npy'\n",
      "[Errno 2] No such file or directory: '/nobackup_1/users/schreurs/project_GAN/rtcor_heavy_rain_labels/2008/01/200801140435.npy'\n",
      "[Errno 2] No such file or directory: '/nobackup_1/users/schreurs/project_GAN/rtcor_heavy_rain_labels/2008/01/200801140505.npy'\n",
      "[Errno 2] No such file or directory: '/nobackup_1/users/schreurs/project_GAN/rtcor_heavy_rain_labels/2008/01/200801140535.npy'\n",
      "[Errno 2] No such file or directory: '/nobackup_1/users/schreurs/project_GAN/rtcor_heavy_rain_labels/2008/01/200801140605.npy'\n",
      "[Errno 2] No such file or directory: '/nobackup_1/users/schreurs/project_GAN/rtcor_heavy_rain_labels/2008/01/200801140635.npy'\n",
      "[Errno 2] No such file or directory: '/nobackup_1/users/schreurs/project_GAN/rtcor_heavy_rain_labels/2008/01/200801140705.npy'\n",
      "[Errno 2] No such file or directory: '/nobackup_1/users/schreurs/project_GAN/rtcor_heavy_rain_labels/2008/01/200801140735.npy'\n",
      "[Errno 2] No such file or directory: '/nobackup_1/users/schreurs/project_GAN/rtcor_heavy_rain_labels/2008/01/200801140805.npy'\n",
      "[Errno 2] No such file or directory: '/nobackup_1/users/schreurs/project_GAN/rtcor_heavy_rain_labels/2008/01/200801140835.npy'\n",
      "[Errno 2] No such file or directory: '/nobackup_1/users/schreurs/project_GAN/rtcor_heavy_rain_labels/2008/01/200801140905.npy'\n",
      "[Errno 2] No such file or directory: '/nobackup_1/users/schreurs/project_GAN/rtcor_heavy_rain_labels/2008/01/200801140935.npy'\n",
      "[Errno 2] No such file or directory: '/nobackup_1/users/schreurs/project_GAN/rtcor_heavy_rain_labels/2008/01/200801141005.npy'\n",
      "[Errno 2] No such file or directory: '/nobackup_1/users/schreurs/project_GAN/rtcor_heavy_rain_labels/2008/01/200801141035.npy'\n",
      "[Errno 2] No such file or directory: '/nobackup_1/users/schreurs/project_GAN/rtcor_heavy_rain_labels/2008/01/200801141105.npy'\n",
      "[Errno 2] No such file or directory: '/nobackup_1/users/schreurs/project_GAN/rtcor_heavy_rain_labels/2008/01/200801141135.npy'\n",
      "[Errno 2] No such file or directory: '/nobackup_1/users/schreurs/project_GAN/rtcor_heavy_rain_labels/2008/01/200801141205.npy'\n",
      "[Errno 2] No such file or directory: '/nobackup_1/users/schreurs/project_GAN/rtcor_heavy_rain_labels/2008/01/200801141235.npy'\n",
      "[Errno 2] No such file or directory: '/nobackup_1/users/schreurs/project_GAN/rtcor_heavy_rain_labels/2008/01/200801141305.npy'\n",
      "[Errno 2] No such file or directory: '/nobackup_1/users/schreurs/project_GAN/rtcor_heavy_rain_labels/2008/01/200801141335.npy'\n",
      "[Errno 2] No such file or directory: '/nobackup_1/users/schreurs/project_GAN/rtcor_heavy_rain_labels/2008/01/200801141405.npy'\n",
      "[Errno 2] No such file or directory: '/nobackup_1/users/schreurs/project_GAN/rtcor_heavy_rain_labels/2008/01/200801141435.npy'\n",
      "[Errno 2] No such file or directory: '/nobackup_1/users/schreurs/project_GAN/rtcor_heavy_rain_labels/2008/01/200801141505.npy'\n",
      "[Errno 2] No such file or directory: '/nobackup_1/users/schreurs/project_GAN/rtcor_heavy_rain_labels/2008/01/200801141535.npy'\n",
      "[Errno 2] No such file or directory: '/nobackup_1/users/schreurs/project_GAN/rtcor_heavy_rain_labels/2008/01/200801141605.npy'\n",
      "[Errno 2] No such file or directory: '/nobackup_1/users/schreurs/project_GAN/rtcor_heavy_rain_labels/2008/01/200801141635.npy'\n",
      "[Errno 2] No such file or directory: '/nobackup_1/users/schreurs/project_GAN/rtcor_heavy_rain_labels/2008/01/200801141705.npy'\n",
      "[Errno 2] No such file or directory: '/nobackup_1/users/schreurs/project_GAN/rtcor_heavy_rain_labels/2008/01/200801141735.npy'\n",
      "[Errno 2] No such file or directory: '/nobackup_1/users/schreurs/project_GAN/rtcor_heavy_rain_labels/2008/01/200801141805.npy'\n",
      "[Errno 2] No such file or directory: '/nobackup_1/users/schreurs/project_GAN/rtcor_heavy_rain_labels/2008/01/200801141835.npy'\n",
      "[Errno 2] No such file or directory: '/nobackup_1/users/schreurs/project_GAN/rtcor_heavy_rain_labels/2008/01/200801141905.npy'\n",
      "[Errno 2] No such file or directory: '/nobackup_1/users/schreurs/project_GAN/rtcor_heavy_rain_labels/2008/01/200801141935.npy'\n",
      "[Errno 2] No such file or directory: '/nobackup_1/users/schreurs/project_GAN/rtcor_heavy_rain_labels/2008/01/200801142005.npy'\n",
      "[Errno 2] No such file or directory: '/nobackup_1/users/schreurs/project_GAN/rtcor_heavy_rain_labels/2008/01/200801142035.npy'\n",
      "[Errno 2] No such file or directory: '/nobackup_1/users/schreurs/project_GAN/rtcor_heavy_rain_labels/2008/01/200801142105.npy'\n",
      "[Errno 2] No such file or directory: '/nobackup_1/users/schreurs/project_GAN/rtcor_heavy_rain_labels/2008/01/200801142135.npy'\n",
      "[Errno 2] No such file or directory: '/nobackup_1/users/schreurs/project_GAN/rtcor_heavy_rain_labels/2008/01/200801142205.npy'\n",
      "[Errno 2] No such file or directory: '/nobackup_1/users/schreurs/project_GAN/rtcor_heavy_rain_labels/2008/01/200801142235.npy'\n",
      "[Errno 2] No such file or directory: '/nobackup_1/users/schreurs/project_GAN/rtcor_heavy_rain_labels/2008/01/200801142305.npy'\n",
      "[Errno 2] No such file or directory: '/nobackup_1/users/schreurs/project_GAN/rtcor_heavy_rain_labels/2008/01/200801142335.npy'\n",
      "[Errno 2] No such file or directory: '/nobackup_1/users/schreurs/project_GAN/rtcor_heavy_rain_labels/2008/01/200801150005.npy'\n",
      "[Errno 2] No such file or directory: '/nobackup_1/users/schreurs/project_GAN/rtcor_heavy_rain_labels/2008/01/200801150035.npy'\n",
      "[Errno 2] No such file or directory: '/nobackup_1/users/schreurs/project_GAN/rtcor_heavy_rain_labels/2008/01/200801150105.npy'\n",
      "[Errno 2] No such file or directory: '/nobackup_1/users/schreurs/project_GAN/rtcor_heavy_rain_labels/2008/01/200801150135.npy'\n",
      "[Errno 2] No such file or directory: '/nobackup_1/users/schreurs/project_GAN/rtcor_heavy_rain_labels/2008/01/200801150205.npy'\n",
      "[Errno 2] No such file or directory: '/nobackup_1/users/schreurs/project_GAN/rtcor_heavy_rain_labels/2008/01/200801150235.npy'\n",
      "[Errno 2] No such file or directory: '/nobackup_1/users/schreurs/project_GAN/rtcor_heavy_rain_labels/2008/01/200801150305.npy'\n",
      "[Errno 2] No such file or directory: '/nobackup_1/users/schreurs/project_GAN/rtcor_heavy_rain_labels/2008/01/200801150335.npy'\n",
      "[Errno 2] No such file or directory: '/nobackup_1/users/schreurs/project_GAN/rtcor_heavy_rain_labels/2008/01/200801150405.npy'\n",
      "[Errno 2] No such file or directory: '/nobackup_1/users/schreurs/project_GAN/rtcor_heavy_rain_labels/2008/01/200801150435.npy'\n",
      "[Errno 2] No such file or directory: '/nobackup_1/users/schreurs/project_GAN/rtcor_heavy_rain_labels/2008/01/200801150505.npy'\n",
      "[Errno 2] No such file or directory: '/nobackup_1/users/schreurs/project_GAN/rtcor_heavy_rain_labels/2008/01/200801150535.npy'\n",
      "[Errno 2] No such file or directory: '/nobackup_1/users/schreurs/project_GAN/rtcor_heavy_rain_labels/2008/01/200801150605.npy'\n",
      "[Errno 2] No such file or directory: '/nobackup_1/users/schreurs/project_GAN/rtcor_heavy_rain_labels/2008/01/200801150635.npy'\n",
      "[Errno 2] No such file or directory: '/nobackup_1/users/schreurs/project_GAN/rtcor_heavy_rain_labels/2008/01/200801150705.npy'\n",
      "[Errno 2] No such file or directory: '/nobackup_1/users/schreurs/project_GAN/rtcor_heavy_rain_labels/2008/01/200801150735.npy'\n",
      "[Errno 2] No such file or directory: '/nobackup_1/users/schreurs/project_GAN/rtcor_heavy_rain_labels/2008/01/200801150805.npy'\n",
      "[Errno 2] No such file or directory: '/nobackup_1/users/schreurs/project_GAN/rtcor_heavy_rain_labels/2008/01/200801150835.npy'\n",
      "[Errno 2] No such file or directory: '/nobackup_1/users/schreurs/project_GAN/rtcor_heavy_rain_labels/2008/01/200801150905.npy'\n",
      "[Errno 2] No such file or directory: '/nobackup_1/users/schreurs/project_GAN/rtcor_heavy_rain_labels/2008/01/200801150935.npy'\n",
      "[Errno 2] No such file or directory: '/nobackup_1/users/schreurs/project_GAN/rtcor_heavy_rain_labels/2008/01/200801151005.npy'\n",
      "[Errno 2] No such file or directory: '/nobackup_1/users/schreurs/project_GAN/rtcor_heavy_rain_labels/2008/01/200801151035.npy'\n",
      "[Errno 2] No such file or directory: '/nobackup_1/users/schreurs/project_GAN/rtcor_heavy_rain_labels/2008/01/200801151105.npy'\n",
      "[Errno 2] No such file or directory: '/nobackup_1/users/schreurs/project_GAN/rtcor_heavy_rain_labels/2008/01/200801151135.npy'\n",
      "[Errno 2] No such file or directory: '/nobackup_1/users/schreurs/project_GAN/rtcor_heavy_rain_labels/2008/01/200801151205.npy'\n",
      "[Errno 2] No such file or directory: '/nobackup_1/users/schreurs/project_GAN/rtcor_heavy_rain_labels/2008/01/200801151235.npy'\n",
      "[Errno 2] No such file or directory: '/nobackup_1/users/schreurs/project_GAN/rtcor_heavy_rain_labels/2008/01/200801151305.npy'\n",
      "[Errno 2] No such file or directory: '/nobackup_1/users/schreurs/project_GAN/rtcor_heavy_rain_labels/2008/01/200801151335.npy'\n",
      "[Errno 2] No such file or directory: '/nobackup_1/users/schreurs/project_GAN/rtcor_heavy_rain_labels/2008/01/200801151405.npy'\n",
      "[Errno 2] No such file or directory: '/nobackup_1/users/schreurs/project_GAN/rtcor_heavy_rain_labels/2008/01/200801151435.npy'\n",
      "[Errno 2] No such file or directory: '/nobackup_1/users/schreurs/project_GAN/rtcor_heavy_rain_labels/2008/01/200801151505.npy'\n",
      "[Errno 2] No such file or directory: '/nobackup_1/users/schreurs/project_GAN/rtcor_heavy_rain_labels/2008/01/200801151535.npy'\n",
      "[Errno 2] No such file or directory: '/nobackup_1/users/schreurs/project_GAN/rtcor_heavy_rain_labels/2008/01/200801151605.npy'\n",
      "[Errno 2] No such file or directory: '/nobackup_1/users/schreurs/project_GAN/rtcor_heavy_rain_labels/2008/01/200801151635.npy'\n",
      "[Errno 2] No such file or directory: '/nobackup_1/users/schreurs/project_GAN/rtcor_heavy_rain_labels/2008/01/200801151705.npy'\n",
      "[Errno 2] No such file or directory: '/nobackup_1/users/schreurs/project_GAN/rtcor_heavy_rain_labels/2008/01/200801151735.npy'\n",
      "[Errno 2] No such file or directory: '/nobackup_1/users/schreurs/project_GAN/rtcor_heavy_rain_labels/2008/01/200801151805.npy'\n",
      "[Errno 2] No such file or directory: '/nobackup_1/users/schreurs/project_GAN/rtcor_heavy_rain_labels/2008/01/200801151835.npy'\n",
      "[Errno 2] No such file or directory: '/nobackup_1/users/schreurs/project_GAN/rtcor_heavy_rain_labels/2008/01/200801151905.npy'\n",
      "[Errno 2] No such file or directory: '/nobackup_1/users/schreurs/project_GAN/rtcor_heavy_rain_labels/2008/01/200801151935.npy'\n",
      "[Errno 2] No such file or directory: '/nobackup_1/users/schreurs/project_GAN/rtcor_heavy_rain_labels/2008/01/200801152005.npy'\n",
      "[Errno 2] No such file or directory: '/nobackup_1/users/schreurs/project_GAN/rtcor_heavy_rain_labels/2008/01/200801152035.npy'\n",
      "[Errno 2] No such file or directory: '/nobackup_1/users/schreurs/project_GAN/rtcor_heavy_rain_labels/2008/01/200801152105.npy'\n",
      "[Errno 2] No such file or directory: '/nobackup_1/users/schreurs/project_GAN/rtcor_heavy_rain_labels/2008/01/200801152135.npy'\n",
      "[Errno 2] No such file or directory: '/nobackup_1/users/schreurs/project_GAN/rtcor_heavy_rain_labels/2008/01/200801152205.npy'\n",
      "[Errno 2] No such file or directory: '/nobackup_1/users/schreurs/project_GAN/rtcor_heavy_rain_labels/2008/01/200801152235.npy'\n",
      "[Errno 2] No such file or directory: '/nobackup_1/users/schreurs/project_GAN/rtcor_heavy_rain_labels/2008/01/200801152305.npy'\n",
      "[Errno 2] No such file or directory: '/nobackup_1/users/schreurs/project_GAN/rtcor_heavy_rain_labels/2008/01/200801152335.npy'\n",
      "[Errno 2] No such file or directory: '/nobackup_1/users/schreurs/project_GAN/rtcor_heavy_rain_labels/2008/01/200801160005.npy'\n",
      "[Errno 2] No such file or directory: '/nobackup_1/users/schreurs/project_GAN/rtcor_heavy_rain_labels/2008/01/200801160035.npy'\n",
      "[Errno 2] No such file or directory: '/nobackup_1/users/schreurs/project_GAN/rtcor_heavy_rain_labels/2008/01/200801160105.npy'\n",
      "[Errno 2] No such file or directory: '/nobackup_1/users/schreurs/project_GAN/rtcor_heavy_rain_labels/2008/01/200801160135.npy'\n",
      "[Errno 2] No such file or directory: '/nobackup_1/users/schreurs/project_GAN/rtcor_heavy_rain_labels/2008/01/200801160205.npy'\n",
      "[Errno 2] No such file or directory: '/nobackup_1/users/schreurs/project_GAN/rtcor_heavy_rain_labels/2008/01/200801160235.npy'\n",
      "[Errno 2] No such file or directory: '/nobackup_1/users/schreurs/project_GAN/rtcor_heavy_rain_labels/2008/01/200801160305.npy'\n",
      "[Errno 2] No such file or directory: '/nobackup_1/users/schreurs/project_GAN/rtcor_heavy_rain_labels/2008/01/200801160335.npy'\n",
      "[Errno 2] No such file or directory: '/nobackup_1/users/schreurs/project_GAN/rtcor_heavy_rain_labels/2008/01/200801160405.npy'\n",
      "[Errno 2] No such file or directory: '/nobackup_1/users/schreurs/project_GAN/rtcor_heavy_rain_labels/2008/01/200801160435.npy'\n",
      "[Errno 2] No such file or directory: '/nobackup_1/users/schreurs/project_GAN/rtcor_heavy_rain_labels/2008/01/200801160505.npy'\n",
      "[Errno 2] No such file or directory: '/nobackup_1/users/schreurs/project_GAN/rtcor_heavy_rain_labels/2008/01/200801160535.npy'\n",
      "[Errno 2] No such file or directory: '/nobackup_1/users/schreurs/project_GAN/rtcor_heavy_rain_labels/2008/01/200801160605.npy'\n",
      "[Errno 2] No such file or directory: '/nobackup_1/users/schreurs/project_GAN/rtcor_heavy_rain_labels/2008/01/200801160635.npy'\n",
      "[Errno 2] No such file or directory: '/nobackup_1/users/schreurs/project_GAN/rtcor_heavy_rain_labels/2008/01/200801160705.npy'\n",
      "[Errno 2] No such file or directory: '/nobackup_1/users/schreurs/project_GAN/rtcor_heavy_rain_labels/2008/01/200801160735.npy'\n",
      "[Errno 2] No such file or directory: '/nobackup_1/users/schreurs/project_GAN/rtcor_heavy_rain_labels/2008/01/200801160805.npy'\n",
      "[Errno 2] No such file or directory: '/nobackup_1/users/schreurs/project_GAN/rtcor_heavy_rain_labels/2008/01/200801160835.npy'\n",
      "[Errno 2] No such file or directory: '/nobackup_1/users/schreurs/project_GAN/rtcor_heavy_rain_labels/2008/01/200801160905.npy'\n",
      "[Errno 2] No such file or directory: '/nobackup_1/users/schreurs/project_GAN/rtcor_heavy_rain_labels/2008/01/200801160935.npy'\n",
      "[Errno 2] No such file or directory: '/nobackup_1/users/schreurs/project_GAN/rtcor_heavy_rain_labels/2008/01/200801161005.npy'\n",
      "[Errno 2] No such file or directory: '/nobackup_1/users/schreurs/project_GAN/rtcor_heavy_rain_labels/2008/01/200801161035.npy'\n",
      "[Errno 2] No such file or directory: '/nobackup_1/users/schreurs/project_GAN/rtcor_heavy_rain_labels/2008/01/200801161105.npy'\n",
      "[Errno 2] No such file or directory: '/nobackup_1/users/schreurs/project_GAN/rtcor_heavy_rain_labels/2008/01/200801161135.npy'\n",
      "[Errno 2] No such file or directory: '/nobackup_1/users/schreurs/project_GAN/rtcor_heavy_rain_labels/2008/01/200801161205.npy'\n",
      "[Errno 2] No such file or directory: '/nobackup_1/users/schreurs/project_GAN/rtcor_heavy_rain_labels/2008/01/200801161235.npy'\n",
      "[Errno 2] No such file or directory: '/nobackup_1/users/schreurs/project_GAN/rtcor_heavy_rain_labels/2008/01/200801161305.npy'\n",
      "[Errno 2] No such file or directory: '/nobackup_1/users/schreurs/project_GAN/rtcor_heavy_rain_labels/2008/01/200801161335.npy'\n",
      "[Errno 2] No such file or directory: '/nobackup_1/users/schreurs/project_GAN/rtcor_heavy_rain_labels/2008/01/200801161405.npy'\n",
      "[Errno 2] No such file or directory: '/nobackup_1/users/schreurs/project_GAN/rtcor_heavy_rain_labels/2008/01/200801161435.npy'\n",
      "[Errno 2] No such file or directory: '/nobackup_1/users/schreurs/project_GAN/rtcor_heavy_rain_labels/2008/01/200801161505.npy'\n",
      "[Errno 2] No such file or directory: '/nobackup_1/users/schreurs/project_GAN/rtcor_heavy_rain_labels/2008/01/200801161535.npy'\n",
      "[Errno 2] No such file or directory: '/nobackup_1/users/schreurs/project_GAN/rtcor_heavy_rain_labels/2008/01/200801161605.npy'\n",
      "[Errno 2] No such file or directory: '/nobackup_1/users/schreurs/project_GAN/rtcor_heavy_rain_labels/2008/01/200801161635.npy'\n",
      "[Errno 2] No such file or directory: '/nobackup_1/users/schreurs/project_GAN/rtcor_heavy_rain_labels/2008/01/200801161705.npy'\n",
      "[Errno 2] No such file or directory: '/nobackup_1/users/schreurs/project_GAN/rtcor_heavy_rain_labels/2008/01/200801161735.npy'\n",
      "[Errno 2] No such file or directory: '/nobackup_1/users/schreurs/project_GAN/rtcor_heavy_rain_labels/2008/01/200801161805.npy'\n",
      "[Errno 2] No such file or directory: '/nobackup_1/users/schreurs/project_GAN/rtcor_heavy_rain_labels/2008/01/200801161835.npy'\n",
      "[Errno 2] No such file or directory: '/nobackup_1/users/schreurs/project_GAN/rtcor_heavy_rain_labels/2008/01/200801161905.npy'\n",
      "[Errno 2] No such file or directory: '/nobackup_1/users/schreurs/project_GAN/rtcor_heavy_rain_labels/2008/01/200801161935.npy'\n",
      "[Errno 2] No such file or directory: '/nobackup_1/users/schreurs/project_GAN/rtcor_heavy_rain_labels/2008/01/200801162005.npy'\n",
      "[Errno 2] No such file or directory: '/nobackup_1/users/schreurs/project_GAN/rtcor_heavy_rain_labels/2008/01/200801162035.npy'\n",
      "[Errno 2] No such file or directory: '/nobackup_1/users/schreurs/project_GAN/rtcor_heavy_rain_labels/2008/01/200801162105.npy'\n",
      "[Errno 2] No such file or directory: '/nobackup_1/users/schreurs/project_GAN/rtcor_heavy_rain_labels/2008/01/200801162135.npy'\n",
      "[Errno 2] No such file or directory: '/nobackup_1/users/schreurs/project_GAN/rtcor_heavy_rain_labels/2008/01/200801162205.npy'\n",
      "[Errno 2] No such file or directory: '/nobackup_1/users/schreurs/project_GAN/rtcor_heavy_rain_labels/2008/01/200801162235.npy'\n",
      "[Errno 2] No such file or directory: '/nobackup_1/users/schreurs/project_GAN/rtcor_heavy_rain_labels/2008/01/200801162305.npy'\n",
      "[Errno 2] No such file or directory: '/nobackup_1/users/schreurs/project_GAN/rtcor_heavy_rain_labels/2008/01/200801162335.npy'\n",
      "[Errno 2] No such file or directory: '/nobackup_1/users/schreurs/project_GAN/rtcor_heavy_rain_labels/2008/01/200801170005.npy'\n",
      "[Errno 2] No such file or directory: '/nobackup_1/users/schreurs/project_GAN/rtcor_heavy_rain_labels/2008/01/200801170035.npy'\n",
      "[Errno 2] No such file or directory: '/nobackup_1/users/schreurs/project_GAN/rtcor_heavy_rain_labels/2008/01/200801170105.npy'\n",
      "[Errno 2] No such file or directory: '/nobackup_1/users/schreurs/project_GAN/rtcor_heavy_rain_labels/2008/01/200801170135.npy'\n",
      "[Errno 2] No such file or directory: '/nobackup_1/users/schreurs/project_GAN/rtcor_heavy_rain_labels/2008/01/200801170205.npy'\n",
      "[Errno 2] No such file or directory: '/nobackup_1/users/schreurs/project_GAN/rtcor_heavy_rain_labels/2008/01/200801170235.npy'\n",
      "[Errno 2] No such file or directory: '/nobackup_1/users/schreurs/project_GAN/rtcor_heavy_rain_labels/2008/01/200801170305.npy'\n",
      "[Errno 2] No such file or directory: '/nobackup_1/users/schreurs/project_GAN/rtcor_heavy_rain_labels/2008/01/200801170335.npy'\n",
      "[Errno 2] No such file or directory: '/nobackup_1/users/schreurs/project_GAN/rtcor_heavy_rain_labels/2008/01/200801170405.npy'\n",
      "[Errno 2] No such file or directory: '/nobackup_1/users/schreurs/project_GAN/rtcor_heavy_rain_labels/2008/01/200801170435.npy'\n",
      "[Errno 2] No such file or directory: '/nobackup_1/users/schreurs/project_GAN/rtcor_heavy_rain_labels/2008/01/200801170505.npy'\n",
      "[Errno 2] No such file or directory: '/nobackup_1/users/schreurs/project_GAN/rtcor_heavy_rain_labels/2008/01/200801170535.npy'\n",
      "[Errno 2] No such file or directory: '/nobackup_1/users/schreurs/project_GAN/rtcor_heavy_rain_labels/2008/01/200801170605.npy'\n",
      "[Errno 2] No such file or directory: '/nobackup_1/users/schreurs/project_GAN/rtcor_heavy_rain_labels/2008/01/200801170635.npy'\n",
      "[Errno 2] No such file or directory: '/nobackup_1/users/schreurs/project_GAN/rtcor_heavy_rain_labels/2008/01/200801170705.npy'\n",
      "[Errno 2] No such file or directory: '/nobackup_1/users/schreurs/project_GAN/rtcor_heavy_rain_labels/2008/01/200801170735.npy'\n",
      "[Errno 2] No such file or directory: '/nobackup_1/users/schreurs/project_GAN/rtcor_heavy_rain_labels/2008/01/200801170805.npy'\n",
      "[Errno 2] No such file or directory: '/nobackup_1/users/schreurs/project_GAN/rtcor_heavy_rain_labels/2008/01/200801170835.npy'\n",
      "[Errno 2] No such file or directory: '/nobackup_1/users/schreurs/project_GAN/rtcor_heavy_rain_labels/2008/01/200801170905.npy'\n",
      "[Errno 2] No such file or directory: '/nobackup_1/users/schreurs/project_GAN/rtcor_heavy_rain_labels/2008/01/200801170935.npy'\n",
      "[Errno 2] No such file or directory: '/nobackup_1/users/schreurs/project_GAN/rtcor_heavy_rain_labels/2008/01/200801171005.npy'\n",
      "[Errno 2] No such file or directory: '/nobackup_1/users/schreurs/project_GAN/rtcor_heavy_rain_labels/2008/01/200801171035.npy'\n",
      "[Errno 2] No such file or directory: '/nobackup_1/users/schreurs/project_GAN/rtcor_heavy_rain_labels/2008/01/200801171105.npy'\n",
      "[Errno 2] No such file or directory: '/nobackup_1/users/schreurs/project_GAN/rtcor_heavy_rain_labels/2008/01/200801171135.npy'\n",
      "[Errno 2] No such file or directory: '/nobackup_1/users/schreurs/project_GAN/rtcor_heavy_rain_labels/2008/01/200801171205.npy'\n",
      "[Errno 2] No such file or directory: '/nobackup_1/users/schreurs/project_GAN/rtcor_heavy_rain_labels/2008/01/200801171235.npy'\n",
      "[Errno 2] No such file or directory: '/nobackup_1/users/schreurs/project_GAN/rtcor_heavy_rain_labels/2008/01/200801171305.npy'\n",
      "[Errno 2] No such file or directory: '/nobackup_1/users/schreurs/project_GAN/rtcor_heavy_rain_labels/2008/01/200801171335.npy'\n",
      "[Errno 2] No such file or directory: '/nobackup_1/users/schreurs/project_GAN/rtcor_heavy_rain_labels/2008/01/200801171405.npy'\n",
      "[Errno 2] No such file or directory: '/nobackup_1/users/schreurs/project_GAN/rtcor_heavy_rain_labels/2008/01/200801171435.npy'\n",
      "[Errno 2] No such file or directory: '/nobackup_1/users/schreurs/project_GAN/rtcor_heavy_rain_labels/2008/01/200801171505.npy'\n",
      "[Errno 2] No such file or directory: '/nobackup_1/users/schreurs/project_GAN/rtcor_heavy_rain_labels/2008/01/200801171535.npy'\n",
      "[Errno 2] No such file or directory: '/nobackup_1/users/schreurs/project_GAN/rtcor_heavy_rain_labels/2008/01/200801171605.npy'\n",
      "[Errno 2] No such file or directory: '/nobackup_1/users/schreurs/project_GAN/rtcor_heavy_rain_labels/2008/01/200801171635.npy'\n",
      "[Errno 2] No such file or directory: '/nobackup_1/users/schreurs/project_GAN/rtcor_heavy_rain_labels/2008/01/200801171705.npy'\n",
      "[Errno 2] No such file or directory: '/nobackup_1/users/schreurs/project_GAN/rtcor_heavy_rain_labels/2008/01/200801171735.npy'\n",
      "[Errno 2] No such file or directory: '/nobackup_1/users/schreurs/project_GAN/rtcor_heavy_rain_labels/2008/01/200801171805.npy'\n",
      "[Errno 2] No such file or directory: '/nobackup_1/users/schreurs/project_GAN/rtcor_heavy_rain_labels/2008/01/200801171835.npy'\n",
      "[Errno 2] No such file or directory: '/nobackup_1/users/schreurs/project_GAN/rtcor_heavy_rain_labels/2008/01/200801171905.npy'\n",
      "[Errno 2] No such file or directory: '/nobackup_1/users/schreurs/project_GAN/rtcor_heavy_rain_labels/2008/01/200801171935.npy'\n",
      "[Errno 2] No such file or directory: '/nobackup_1/users/schreurs/project_GAN/rtcor_heavy_rain_labels/2008/01/200801172005.npy'\n",
      "[Errno 2] No such file or directory: '/nobackup_1/users/schreurs/project_GAN/rtcor_heavy_rain_labels/2008/01/200801172035.npy'\n",
      "[Errno 2] No such file or directory: '/nobackup_1/users/schreurs/project_GAN/rtcor_heavy_rain_labels/2008/01/200801172105.npy'\n",
      "[Errno 2] No such file or directory: '/nobackup_1/users/schreurs/project_GAN/rtcor_heavy_rain_labels/2008/01/200801172135.npy'\n",
      "[Errno 2] No such file or directory: '/nobackup_1/users/schreurs/project_GAN/rtcor_heavy_rain_labels/2008/01/200801172205.npy'\n",
      "[Errno 2] No such file or directory: '/nobackup_1/users/schreurs/project_GAN/rtcor_heavy_rain_labels/2008/01/200801172235.npy'\n",
      "[Errno 2] No such file or directory: '/nobackup_1/users/schreurs/project_GAN/rtcor_heavy_rain_labels/2008/01/200801172305.npy'\n",
      "[Errno 2] No such file or directory: '/nobackup_1/users/schreurs/project_GAN/rtcor_heavy_rain_labels/2008/01/200801172335.npy'\n",
      "[Errno 2] No such file or directory: '/nobackup_1/users/schreurs/project_GAN/rtcor_heavy_rain_labels/2008/01/200801180005.npy'\n",
      "[Errno 2] No such file or directory: '/nobackup_1/users/schreurs/project_GAN/rtcor_heavy_rain_labels/2008/01/200801180035.npy'\n",
      "[Errno 2] No such file or directory: '/nobackup_1/users/schreurs/project_GAN/rtcor_heavy_rain_labels/2008/01/200801180105.npy'\n",
      "[Errno 2] No such file or directory: '/nobackup_1/users/schreurs/project_GAN/rtcor_heavy_rain_labels/2008/01/200801180135.npy'\n",
      "[Errno 2] No such file or directory: '/nobackup_1/users/schreurs/project_GAN/rtcor_heavy_rain_labels/2008/01/200801180205.npy'\n",
      "[Errno 2] No such file or directory: '/nobackup_1/users/schreurs/project_GAN/rtcor_heavy_rain_labels/2008/01/200801180235.npy'\n",
      "[Errno 2] No such file or directory: '/nobackup_1/users/schreurs/project_GAN/rtcor_heavy_rain_labels/2008/01/200801180305.npy'\n",
      "[Errno 2] No such file or directory: '/nobackup_1/users/schreurs/project_GAN/rtcor_heavy_rain_labels/2008/01/200801180335.npy'\n",
      "[Errno 2] No such file or directory: '/nobackup_1/users/schreurs/project_GAN/rtcor_heavy_rain_labels/2008/01/200801180405.npy'\n",
      "[Errno 2] No such file or directory: '/nobackup_1/users/schreurs/project_GAN/rtcor_heavy_rain_labels/2008/01/200801180435.npy'\n",
      "[Errno 2] No such file or directory: '/nobackup_1/users/schreurs/project_GAN/rtcor_heavy_rain_labels/2008/01/200801180505.npy'\n",
      "[Errno 2] No such file or directory: '/nobackup_1/users/schreurs/project_GAN/rtcor_heavy_rain_labels/2008/01/200801180535.npy'\n"
     ]
    },
    {
     "name": "stdout",
     "output_type": "stream",
     "text": [
      "[Errno 2] No such file or directory: '/nobackup_1/users/schreurs/project_GAN/rtcor_heavy_rain_labels/2008/01/200801180605.npy'\n",
      "[Errno 2] No such file or directory: '/nobackup_1/users/schreurs/project_GAN/rtcor_heavy_rain_labels/2008/01/200801180635.npy'\n",
      "[Errno 2] No such file or directory: '/nobackup_1/users/schreurs/project_GAN/rtcor_heavy_rain_labels/2008/01/200801180705.npy'\n",
      "[Errno 2] No such file or directory: '/nobackup_1/users/schreurs/project_GAN/rtcor_heavy_rain_labels/2008/01/200801180735.npy'\n",
      "[Errno 2] No such file or directory: '/nobackup_1/users/schreurs/project_GAN/rtcor_heavy_rain_labels/2008/01/200801180805.npy'\n",
      "[Errno 2] No such file or directory: '/nobackup_1/users/schreurs/project_GAN/rtcor_heavy_rain_labels/2008/01/200801180835.npy'\n",
      "[Errno 2] No such file or directory: '/nobackup_1/users/schreurs/project_GAN/rtcor_heavy_rain_labels/2008/01/200801180905.npy'\n",
      "[Errno 2] No such file or directory: '/nobackup_1/users/schreurs/project_GAN/rtcor_heavy_rain_labels/2008/01/200801180935.npy'\n",
      "[Errno 2] No such file or directory: '/nobackup_1/users/schreurs/project_GAN/rtcor_heavy_rain_labels/2008/01/200801181005.npy'\n",
      "[Errno 2] No such file or directory: '/nobackup_1/users/schreurs/project_GAN/rtcor_heavy_rain_labels/2008/01/200801181035.npy'\n",
      "[Errno 2] No such file or directory: '/nobackup_1/users/schreurs/project_GAN/rtcor_heavy_rain_labels/2008/01/200801181105.npy'\n",
      "[Errno 2] No such file or directory: '/nobackup_1/users/schreurs/project_GAN/rtcor_heavy_rain_labels/2008/01/200801181135.npy'\n",
      "[Errno 2] No such file or directory: '/nobackup_1/users/schreurs/project_GAN/rtcor_heavy_rain_labels/2008/01/200801181205.npy'\n",
      "[Errno 2] No such file or directory: '/nobackup_1/users/schreurs/project_GAN/rtcor_heavy_rain_labels/2008/01/200801181235.npy'\n",
      "[Errno 2] No such file or directory: '/nobackup_1/users/schreurs/project_GAN/rtcor_heavy_rain_labels/2008/01/200801181305.npy'\n",
      "[Errno 2] No such file or directory: '/nobackup_1/users/schreurs/project_GAN/rtcor_heavy_rain_labels/2008/01/200801181335.npy'\n",
      "[Errno 2] No such file or directory: '/nobackup_1/users/schreurs/project_GAN/rtcor_heavy_rain_labels/2008/01/200801181405.npy'\n",
      "[Errno 2] No such file or directory: '/nobackup_1/users/schreurs/project_GAN/rtcor_heavy_rain_labels/2008/01/200801181435.npy'\n",
      "[Errno 2] No such file or directory: '/nobackup_1/users/schreurs/project_GAN/rtcor_heavy_rain_labels/2008/01/200801181505.npy'\n",
      "[Errno 2] No such file or directory: '/nobackup_1/users/schreurs/project_GAN/rtcor_heavy_rain_labels/2008/01/200801181535.npy'\n",
      "[Errno 2] No such file or directory: '/nobackup_1/users/schreurs/project_GAN/rtcor_heavy_rain_labels/2008/01/200801181605.npy'\n",
      "[Errno 2] No such file or directory: '/nobackup_1/users/schreurs/project_GAN/rtcor_heavy_rain_labels/2008/01/200801181635.npy'\n",
      "[Errno 2] No such file or directory: '/nobackup_1/users/schreurs/project_GAN/rtcor_heavy_rain_labels/2008/01/200801181705.npy'\n",
      "[Errno 2] No such file or directory: '/nobackup_1/users/schreurs/project_GAN/rtcor_heavy_rain_labels/2008/01/200801181735.npy'\n",
      "[Errno 2] No such file or directory: '/nobackup_1/users/schreurs/project_GAN/rtcor_heavy_rain_labels/2008/01/200801181805.npy'\n",
      "[Errno 2] No such file or directory: '/nobackup_1/users/schreurs/project_GAN/rtcor_heavy_rain_labels/2008/01/200801181835.npy'\n",
      "[Errno 2] No such file or directory: '/nobackup_1/users/schreurs/project_GAN/rtcor_heavy_rain_labels/2008/01/200801181905.npy'\n",
      "[Errno 2] No such file or directory: '/nobackup_1/users/schreurs/project_GAN/rtcor_heavy_rain_labels/2008/01/200801181935.npy'\n",
      "[Errno 2] No such file or directory: '/nobackup_1/users/schreurs/project_GAN/rtcor_heavy_rain_labels/2008/01/200801182005.npy'\n",
      "[Errno 2] No such file or directory: '/nobackup_1/users/schreurs/project_GAN/rtcor_heavy_rain_labels/2008/01/200801182035.npy'\n",
      "[Errno 2] No such file or directory: '/nobackup_1/users/schreurs/project_GAN/rtcor_heavy_rain_labels/2008/01/200801182105.npy'\n",
      "[Errno 2] No such file or directory: '/nobackup_1/users/schreurs/project_GAN/rtcor_heavy_rain_labels/2008/01/200801182135.npy'\n",
      "[Errno 2] No such file or directory: '/nobackup_1/users/schreurs/project_GAN/rtcor_heavy_rain_labels/2008/01/200801182205.npy'\n",
      "[Errno 2] No such file or directory: '/nobackup_1/users/schreurs/project_GAN/rtcor_heavy_rain_labels/2008/01/200801182235.npy'\n",
      "[Errno 2] No such file or directory: '/nobackup_1/users/schreurs/project_GAN/rtcor_heavy_rain_labels/2008/01/200801182305.npy'\n",
      "[Errno 2] No such file or directory: '/nobackup_1/users/schreurs/project_GAN/rtcor_heavy_rain_labels/2008/01/200801182335.npy'\n",
      "[Errno 2] No such file or directory: '/nobackup_1/users/schreurs/project_GAN/rtcor_heavy_rain_labels/2008/01/200801190005.npy'\n",
      "[Errno 2] No such file or directory: '/nobackup_1/users/schreurs/project_GAN/rtcor_heavy_rain_labels/2008/01/200801190035.npy'\n",
      "[Errno 2] No such file or directory: '/nobackup_1/users/schreurs/project_GAN/rtcor_heavy_rain_labels/2008/01/200801190105.npy'\n",
      "[Errno 2] No such file or directory: '/nobackup_1/users/schreurs/project_GAN/rtcor_heavy_rain_labels/2008/01/200801190135.npy'\n",
      "[Errno 2] No such file or directory: '/nobackup_1/users/schreurs/project_GAN/rtcor_heavy_rain_labels/2008/01/200801190205.npy'\n",
      "[Errno 2] No such file or directory: '/nobackup_1/users/schreurs/project_GAN/rtcor_heavy_rain_labels/2008/01/200801190235.npy'\n",
      "[Errno 2] No such file or directory: '/nobackup_1/users/schreurs/project_GAN/rtcor_heavy_rain_labels/2008/01/200801190305.npy'\n",
      "[Errno 2] No such file or directory: '/nobackup_1/users/schreurs/project_GAN/rtcor_heavy_rain_labels/2008/01/200801190335.npy'\n",
      "[Errno 2] No such file or directory: '/nobackup_1/users/schreurs/project_GAN/rtcor_heavy_rain_labels/2008/01/200801190405.npy'\n",
      "[Errno 2] No such file or directory: '/nobackup_1/users/schreurs/project_GAN/rtcor_heavy_rain_labels/2008/01/200801190435.npy'\n",
      "[Errno 2] No such file or directory: '/nobackup_1/users/schreurs/project_GAN/rtcor_heavy_rain_labels/2008/01/200801190505.npy'\n",
      "[Errno 2] No such file or directory: '/nobackup_1/users/schreurs/project_GAN/rtcor_heavy_rain_labels/2008/01/200801190535.npy'\n",
      "[Errno 2] No such file or directory: '/nobackup_1/users/schreurs/project_GAN/rtcor_heavy_rain_labels/2008/01/200801190605.npy'\n",
      "[Errno 2] No such file or directory: '/nobackup_1/users/schreurs/project_GAN/rtcor_heavy_rain_labels/2008/01/200801190635.npy'\n",
      "[Errno 2] No such file or directory: '/nobackup_1/users/schreurs/project_GAN/rtcor_heavy_rain_labels/2008/01/200801190705.npy'\n",
      "[Errno 2] No such file or directory: '/nobackup_1/users/schreurs/project_GAN/rtcor_heavy_rain_labels/2008/01/200801190735.npy'\n",
      "[Errno 2] No such file or directory: '/nobackup_1/users/schreurs/project_GAN/rtcor_heavy_rain_labels/2008/01/200801190805.npy'\n",
      "[Errno 2] No such file or directory: '/nobackup_1/users/schreurs/project_GAN/rtcor_heavy_rain_labels/2008/01/200801190835.npy'\n",
      "[Errno 2] No such file or directory: '/nobackup_1/users/schreurs/project_GAN/rtcor_heavy_rain_labels/2008/01/200801190905.npy'\n",
      "[Errno 2] No such file or directory: '/nobackup_1/users/schreurs/project_GAN/rtcor_heavy_rain_labels/2008/01/200801190935.npy'\n",
      "[Errno 2] No such file or directory: '/nobackup_1/users/schreurs/project_GAN/rtcor_heavy_rain_labels/2008/01/200801191005.npy'\n",
      "[Errno 2] No such file or directory: '/nobackup_1/users/schreurs/project_GAN/rtcor_heavy_rain_labels/2008/01/200801191035.npy'\n",
      "[Errno 2] No such file or directory: '/nobackup_1/users/schreurs/project_GAN/rtcor_heavy_rain_labels/2008/01/200801191105.npy'\n",
      "[Errno 2] No such file or directory: '/nobackup_1/users/schreurs/project_GAN/rtcor_heavy_rain_labels/2008/01/200801191135.npy'\n",
      "[Errno 2] No such file or directory: '/nobackup_1/users/schreurs/project_GAN/rtcor_heavy_rain_labels/2008/01/200801191205.npy'\n",
      "[Errno 2] No such file or directory: '/nobackup_1/users/schreurs/project_GAN/rtcor_heavy_rain_labels/2008/01/200801191235.npy'\n",
      "[Errno 2] No such file or directory: '/nobackup_1/users/schreurs/project_GAN/rtcor_heavy_rain_labels/2008/01/200801191305.npy'\n",
      "[Errno 2] No such file or directory: '/nobackup_1/users/schreurs/project_GAN/rtcor_heavy_rain_labels/2008/01/200801191335.npy'\n",
      "[Errno 2] No such file or directory: '/nobackup_1/users/schreurs/project_GAN/rtcor_heavy_rain_labels/2008/01/200801191405.npy'\n",
      "[Errno 2] No such file or directory: '/nobackup_1/users/schreurs/project_GAN/rtcor_heavy_rain_labels/2008/01/200801191435.npy'\n",
      "[Errno 2] No such file or directory: '/nobackup_1/users/schreurs/project_GAN/rtcor_heavy_rain_labels/2008/01/200801191505.npy'\n",
      "[Errno 2] No such file or directory: '/nobackup_1/users/schreurs/project_GAN/rtcor_heavy_rain_labels/2008/01/200801191535.npy'\n",
      "[Errno 2] No such file or directory: '/nobackup_1/users/schreurs/project_GAN/rtcor_heavy_rain_labels/2008/01/200801191605.npy'\n",
      "[Errno 2] No such file or directory: '/nobackup_1/users/schreurs/project_GAN/rtcor_heavy_rain_labels/2008/01/200801191635.npy'\n",
      "[Errno 2] No such file or directory: '/nobackup_1/users/schreurs/project_GAN/rtcor_heavy_rain_labels/2008/01/200801191705.npy'\n",
      "[Errno 2] No such file or directory: '/nobackup_1/users/schreurs/project_GAN/rtcor_heavy_rain_labels/2008/01/200801191735.npy'\n",
      "[Errno 2] No such file or directory: '/nobackup_1/users/schreurs/project_GAN/rtcor_heavy_rain_labels/2008/01/200801191805.npy'\n",
      "[Errno 2] No such file or directory: '/nobackup_1/users/schreurs/project_GAN/rtcor_heavy_rain_labels/2008/01/200801191835.npy'\n",
      "[Errno 2] No such file or directory: '/nobackup_1/users/schreurs/project_GAN/rtcor_heavy_rain_labels/2008/01/200801191905.npy'\n",
      "[Errno 2] No such file or directory: '/nobackup_1/users/schreurs/project_GAN/rtcor_heavy_rain_labels/2008/01/200801191935.npy'\n",
      "[Errno 2] No such file or directory: '/nobackup_1/users/schreurs/project_GAN/rtcor_heavy_rain_labels/2008/01/200801192005.npy'\n",
      "[Errno 2] No such file or directory: '/nobackup_1/users/schreurs/project_GAN/rtcor_heavy_rain_labels/2008/01/200801192035.npy'\n",
      "[Errno 2] No such file or directory: '/nobackup_1/users/schreurs/project_GAN/rtcor_heavy_rain_labels/2008/01/200801192105.npy'\n",
      "[Errno 2] No such file or directory: '/nobackup_1/users/schreurs/project_GAN/rtcor_heavy_rain_labels/2008/01/200801192135.npy'\n",
      "[Errno 2] No such file or directory: '/nobackup_1/users/schreurs/project_GAN/rtcor_heavy_rain_labels/2008/01/200801192205.npy'\n",
      "[Errno 2] No such file or directory: '/nobackup_1/users/schreurs/project_GAN/rtcor_heavy_rain_labels/2008/01/200801192235.npy'\n",
      "[Errno 2] No such file or directory: '/nobackup_1/users/schreurs/project_GAN/rtcor_heavy_rain_labels/2008/01/200801192305.npy'\n",
      "[Errno 2] No such file or directory: '/nobackup_1/users/schreurs/project_GAN/rtcor_heavy_rain_labels/2008/01/200801192335.npy'\n",
      "[Errno 2] No such file or directory: '/nobackup_1/users/schreurs/project_GAN/rtcor_heavy_rain_labels/2008/01/200801200005.npy'\n",
      "[Errno 2] No such file or directory: '/nobackup_1/users/schreurs/project_GAN/rtcor_heavy_rain_labels/2008/01/200801200035.npy'\n",
      "[Errno 2] No such file or directory: '/nobackup_1/users/schreurs/project_GAN/rtcor_heavy_rain_labels/2008/01/200801200105.npy'\n",
      "[Errno 2] No such file or directory: '/nobackup_1/users/schreurs/project_GAN/rtcor_heavy_rain_labels/2008/01/200801200135.npy'\n",
      "[Errno 2] No such file or directory: '/nobackup_1/users/schreurs/project_GAN/rtcor_heavy_rain_labels/2008/01/200801200205.npy'\n",
      "[Errno 2] No such file or directory: '/nobackup_1/users/schreurs/project_GAN/rtcor_heavy_rain_labels/2008/01/200801200235.npy'\n",
      "[Errno 2] No such file or directory: '/nobackup_1/users/schreurs/project_GAN/rtcor_heavy_rain_labels/2008/01/200801200305.npy'\n",
      "[Errno 2] No such file or directory: '/nobackup_1/users/schreurs/project_GAN/rtcor_heavy_rain_labels/2008/01/200801200335.npy'\n",
      "[Errno 2] No such file or directory: '/nobackup_1/users/schreurs/project_GAN/rtcor_heavy_rain_labels/2008/01/200801200405.npy'\n",
      "[Errno 2] No such file or directory: '/nobackup_1/users/schreurs/project_GAN/rtcor_heavy_rain_labels/2008/01/200801200435.npy'\n",
      "[Errno 2] No such file or directory: '/nobackup_1/users/schreurs/project_GAN/rtcor_heavy_rain_labels/2008/01/200801200505.npy'\n",
      "[Errno 2] No such file or directory: '/nobackup_1/users/schreurs/project_GAN/rtcor_heavy_rain_labels/2008/01/200801200535.npy'\n",
      "[Errno 2] No such file or directory: '/nobackup_1/users/schreurs/project_GAN/rtcor_heavy_rain_labels/2008/01/200801200605.npy'\n",
      "[Errno 2] No such file or directory: '/nobackup_1/users/schreurs/project_GAN/rtcor_heavy_rain_labels/2008/01/200801200635.npy'\n",
      "[Errno 2] No such file or directory: '/nobackup_1/users/schreurs/project_GAN/rtcor_heavy_rain_labels/2008/01/200801200705.npy'\n",
      "[Errno 2] No such file or directory: '/nobackup_1/users/schreurs/project_GAN/rtcor_heavy_rain_labels/2008/01/200801200735.npy'\n",
      "[Errno 2] No such file or directory: '/nobackup_1/users/schreurs/project_GAN/rtcor_heavy_rain_labels/2008/01/200801200805.npy'\n",
      "[Errno 2] No such file or directory: '/nobackup_1/users/schreurs/project_GAN/rtcor_heavy_rain_labels/2008/01/200801200835.npy'\n",
      "[Errno 2] No such file or directory: '/nobackup_1/users/schreurs/project_GAN/rtcor_heavy_rain_labels/2008/01/200801200905.npy'\n",
      "[Errno 2] No such file or directory: '/nobackup_1/users/schreurs/project_GAN/rtcor_heavy_rain_labels/2008/01/200801200935.npy'\n",
      "[Errno 2] No such file or directory: '/nobackup_1/users/schreurs/project_GAN/rtcor_heavy_rain_labels/2008/01/200801201005.npy'\n",
      "[Errno 2] No such file or directory: '/nobackup_1/users/schreurs/project_GAN/rtcor_heavy_rain_labels/2008/01/200801201035.npy'\n",
      "[Errno 2] No such file or directory: '/nobackup_1/users/schreurs/project_GAN/rtcor_heavy_rain_labels/2008/01/200801201105.npy'\n",
      "[Errno 2] No such file or directory: '/nobackup_1/users/schreurs/project_GAN/rtcor_heavy_rain_labels/2008/01/200801201135.npy'\n",
      "[Errno 2] No such file or directory: '/nobackup_1/users/schreurs/project_GAN/rtcor_heavy_rain_labels/2008/01/200801201205.npy'\n",
      "[Errno 2] No such file or directory: '/nobackup_1/users/schreurs/project_GAN/rtcor_heavy_rain_labels/2008/01/200801201235.npy'\n",
      "[Errno 2] No such file or directory: '/nobackup_1/users/schreurs/project_GAN/rtcor_heavy_rain_labels/2008/01/200801201305.npy'\n",
      "[Errno 2] No such file or directory: '/nobackup_1/users/schreurs/project_GAN/rtcor_heavy_rain_labels/2008/01/200801201335.npy'\n",
      "[Errno 2] No such file or directory: '/nobackup_1/users/schreurs/project_GAN/rtcor_heavy_rain_labels/2008/01/200801201405.npy'\n",
      "[Errno 2] No such file or directory: '/nobackup_1/users/schreurs/project_GAN/rtcor_heavy_rain_labels/2008/01/200801201435.npy'\n",
      "[Errno 2] No such file or directory: '/nobackup_1/users/schreurs/project_GAN/rtcor_heavy_rain_labels/2008/01/200801201505.npy'\n",
      "[Errno 2] No such file or directory: '/nobackup_1/users/schreurs/project_GAN/rtcor_heavy_rain_labels/2008/01/200801201535.npy'\n",
      "[Errno 2] No such file or directory: '/nobackup_1/users/schreurs/project_GAN/rtcor_heavy_rain_labels/2008/01/200801201605.npy'\n",
      "[Errno 2] No such file or directory: '/nobackup_1/users/schreurs/project_GAN/rtcor_heavy_rain_labels/2008/01/200801201635.npy'\n",
      "[Errno 2] No such file or directory: '/nobackup_1/users/schreurs/project_GAN/rtcor_heavy_rain_labels/2008/01/200801201705.npy'\n",
      "[Errno 2] No such file or directory: '/nobackup_1/users/schreurs/project_GAN/rtcor_heavy_rain_labels/2008/01/200801201735.npy'\n",
      "[Errno 2] No such file or directory: '/nobackup_1/users/schreurs/project_GAN/rtcor_heavy_rain_labels/2008/01/200801201805.npy'\n",
      "[Errno 2] No such file or directory: '/nobackup_1/users/schreurs/project_GAN/rtcor_heavy_rain_labels/2008/01/200801201835.npy'\n",
      "[Errno 2] No such file or directory: '/nobackup_1/users/schreurs/project_GAN/rtcor_heavy_rain_labels/2008/01/200801201905.npy'\n",
      "[Errno 2] No such file or directory: '/nobackup_1/users/schreurs/project_GAN/rtcor_heavy_rain_labels/2008/01/200801201935.npy'\n",
      "[Errno 2] No such file or directory: '/nobackup_1/users/schreurs/project_GAN/rtcor_heavy_rain_labels/2008/01/200801202005.npy'\n",
      "[Errno 2] No such file or directory: '/nobackup_1/users/schreurs/project_GAN/rtcor_heavy_rain_labels/2008/01/200801202035.npy'\n",
      "[Errno 2] No such file or directory: '/nobackup_1/users/schreurs/project_GAN/rtcor_heavy_rain_labels/2008/01/200801202105.npy'\n",
      "[Errno 2] No such file or directory: '/nobackup_1/users/schreurs/project_GAN/rtcor_heavy_rain_labels/2008/01/200801202135.npy'\n",
      "[Errno 2] No such file or directory: '/nobackup_1/users/schreurs/project_GAN/rtcor_heavy_rain_labels/2008/01/200801202205.npy'\n",
      "[Errno 2] No such file or directory: '/nobackup_1/users/schreurs/project_GAN/rtcor_heavy_rain_labels/2008/01/200801202235.npy'\n",
      "[Errno 2] No such file or directory: '/nobackup_1/users/schreurs/project_GAN/rtcor_heavy_rain_labels/2008/01/200801202305.npy'\n",
      "[Errno 2] No such file or directory: '/nobackup_1/users/schreurs/project_GAN/rtcor_heavy_rain_labels/2008/01/200801202335.npy'\n",
      "[Errno 2] No such file or directory: '/nobackup_1/users/schreurs/project_GAN/rtcor_heavy_rain_labels/2008/01/200801210005.npy'\n",
      "[Errno 2] No such file or directory: '/nobackup_1/users/schreurs/project_GAN/rtcor_heavy_rain_labels/2008/01/200801210035.npy'\n",
      "[Errno 2] No such file or directory: '/nobackup_1/users/schreurs/project_GAN/rtcor_heavy_rain_labels/2008/01/200801210105.npy'\n",
      "[Errno 2] No such file or directory: '/nobackup_1/users/schreurs/project_GAN/rtcor_heavy_rain_labels/2008/01/200801210135.npy'\n",
      "[Errno 2] No such file or directory: '/nobackup_1/users/schreurs/project_GAN/rtcor_heavy_rain_labels/2008/01/200801210205.npy'\n",
      "[Errno 2] No such file or directory: '/nobackup_1/users/schreurs/project_GAN/rtcor_heavy_rain_labels/2008/01/200801210235.npy'\n",
      "[Errno 2] No such file or directory: '/nobackup_1/users/schreurs/project_GAN/rtcor_heavy_rain_labels/2008/01/200801210305.npy'\n",
      "[Errno 2] No such file or directory: '/nobackup_1/users/schreurs/project_GAN/rtcor_heavy_rain_labels/2008/01/200801210335.npy'\n",
      "[Errno 2] No such file or directory: '/nobackup_1/users/schreurs/project_GAN/rtcor_heavy_rain_labels/2008/01/200801210405.npy'\n",
      "[Errno 2] No such file or directory: '/nobackup_1/users/schreurs/project_GAN/rtcor_heavy_rain_labels/2008/01/200801210435.npy'\n",
      "[Errno 2] No such file or directory: '/nobackup_1/users/schreurs/project_GAN/rtcor_heavy_rain_labels/2008/01/200801210505.npy'\n",
      "[Errno 2] No such file or directory: '/nobackup_1/users/schreurs/project_GAN/rtcor_heavy_rain_labels/2008/01/200801210535.npy'\n",
      "[Errno 2] No such file or directory: '/nobackup_1/users/schreurs/project_GAN/rtcor_heavy_rain_labels/2008/01/200801210605.npy'\n",
      "[Errno 2] No such file or directory: '/nobackup_1/users/schreurs/project_GAN/rtcor_heavy_rain_labels/2008/01/200801210635.npy'\n",
      "[Errno 2] No such file or directory: '/nobackup_1/users/schreurs/project_GAN/rtcor_heavy_rain_labels/2008/01/200801210705.npy'\n",
      "[Errno 2] No such file or directory: '/nobackup_1/users/schreurs/project_GAN/rtcor_heavy_rain_labels/2008/01/200801210735.npy'\n",
      "[Errno 2] No such file or directory: '/nobackup_1/users/schreurs/project_GAN/rtcor_heavy_rain_labels/2008/01/200801210805.npy'\n",
      "[Errno 2] No such file or directory: '/nobackup_1/users/schreurs/project_GAN/rtcor_heavy_rain_labels/2008/01/200801210835.npy'\n",
      "[Errno 2] No such file or directory: '/nobackup_1/users/schreurs/project_GAN/rtcor_heavy_rain_labels/2008/01/200801210905.npy'\n",
      "[Errno 2] No such file or directory: '/nobackup_1/users/schreurs/project_GAN/rtcor_heavy_rain_labels/2008/01/200801210935.npy'\n",
      "[Errno 2] No such file or directory: '/nobackup_1/users/schreurs/project_GAN/rtcor_heavy_rain_labels/2008/01/200801211005.npy'\n",
      "[Errno 2] No such file or directory: '/nobackup_1/users/schreurs/project_GAN/rtcor_heavy_rain_labels/2008/01/200801211035.npy'\n",
      "[Errno 2] No such file or directory: '/nobackup_1/users/schreurs/project_GAN/rtcor_heavy_rain_labels/2008/01/200801211105.npy'\n",
      "[Errno 2] No such file or directory: '/nobackup_1/users/schreurs/project_GAN/rtcor_heavy_rain_labels/2008/01/200801211135.npy'\n",
      "[Errno 2] No such file or directory: '/nobackup_1/users/schreurs/project_GAN/rtcor_heavy_rain_labels/2008/01/200801211205.npy'\n",
      "[Errno 2] No such file or directory: '/nobackup_1/users/schreurs/project_GAN/rtcor_heavy_rain_labels/2008/01/200801211235.npy'\n",
      "[Errno 2] No such file or directory: '/nobackup_1/users/schreurs/project_GAN/rtcor_heavy_rain_labels/2008/01/200801211305.npy'\n",
      "[Errno 2] No such file or directory: '/nobackup_1/users/schreurs/project_GAN/rtcor_heavy_rain_labels/2008/01/200801211335.npy'\n",
      "[Errno 2] No such file or directory: '/nobackup_1/users/schreurs/project_GAN/rtcor_heavy_rain_labels/2008/01/200801211405.npy'\n",
      "[Errno 2] No such file or directory: '/nobackup_1/users/schreurs/project_GAN/rtcor_heavy_rain_labels/2008/01/200801211435.npy'\n",
      "[Errno 2] No such file or directory: '/nobackup_1/users/schreurs/project_GAN/rtcor_heavy_rain_labels/2008/01/200801211505.npy'\n",
      "[Errno 2] No such file or directory: '/nobackup_1/users/schreurs/project_GAN/rtcor_heavy_rain_labels/2008/01/200801211535.npy'\n",
      "[Errno 2] No such file or directory: '/nobackup_1/users/schreurs/project_GAN/rtcor_heavy_rain_labels/2008/01/200801211605.npy'\n",
      "[Errno 2] No such file or directory: '/nobackup_1/users/schreurs/project_GAN/rtcor_heavy_rain_labels/2008/01/200801211635.npy'\n",
      "[Errno 2] No such file or directory: '/nobackup_1/users/schreurs/project_GAN/rtcor_heavy_rain_labels/2008/01/200801211705.npy'\n",
      "[Errno 2] No such file or directory: '/nobackup_1/users/schreurs/project_GAN/rtcor_heavy_rain_labels/2008/01/200801211735.npy'\n",
      "[Errno 2] No such file or directory: '/nobackup_1/users/schreurs/project_GAN/rtcor_heavy_rain_labels/2008/01/200801211805.npy'\n",
      "[Errno 2] No such file or directory: '/nobackup_1/users/schreurs/project_GAN/rtcor_heavy_rain_labels/2008/01/200801211835.npy'\n",
      "[Errno 2] No such file or directory: '/nobackup_1/users/schreurs/project_GAN/rtcor_heavy_rain_labels/2008/01/200801211905.npy'\n",
      "[Errno 2] No such file or directory: '/nobackup_1/users/schreurs/project_GAN/rtcor_heavy_rain_labels/2008/01/200801211935.npy'\n",
      "[Errno 2] No such file or directory: '/nobackup_1/users/schreurs/project_GAN/rtcor_heavy_rain_labels/2008/01/200801212005.npy'\n",
      "[Errno 2] No such file or directory: '/nobackup_1/users/schreurs/project_GAN/rtcor_heavy_rain_labels/2008/01/200801212035.npy'\n",
      "[Errno 2] No such file or directory: '/nobackup_1/users/schreurs/project_GAN/rtcor_heavy_rain_labels/2008/01/200801212105.npy'\n",
      "[Errno 2] No such file or directory: '/nobackup_1/users/schreurs/project_GAN/rtcor_heavy_rain_labels/2008/01/200801212135.npy'\n",
      "[Errno 2] No such file or directory: '/nobackup_1/users/schreurs/project_GAN/rtcor_heavy_rain_labels/2008/01/200801212205.npy'\n",
      "[Errno 2] No such file or directory: '/nobackup_1/users/schreurs/project_GAN/rtcor_heavy_rain_labels/2008/01/200801212235.npy'\n",
      "[Errno 2] No such file or directory: '/nobackup_1/users/schreurs/project_GAN/rtcor_heavy_rain_labels/2008/01/200801212305.npy'\n",
      "[Errno 2] No such file or directory: '/nobackup_1/users/schreurs/project_GAN/rtcor_heavy_rain_labels/2008/01/200801212335.npy'\n",
      "[Errno 2] No such file or directory: '/nobackup_1/users/schreurs/project_GAN/rtcor_heavy_rain_labels/2008/01/200801220005.npy'\n",
      "[Errno 2] No such file or directory: '/nobackup_1/users/schreurs/project_GAN/rtcor_heavy_rain_labels/2008/01/200801220035.npy'\n",
      "[Errno 2] No such file or directory: '/nobackup_1/users/schreurs/project_GAN/rtcor_heavy_rain_labels/2008/01/200801220105.npy'\n",
      "[Errno 2] No such file or directory: '/nobackup_1/users/schreurs/project_GAN/rtcor_heavy_rain_labels/2008/01/200801220135.npy'\n",
      "[Errno 2] No such file or directory: '/nobackup_1/users/schreurs/project_GAN/rtcor_heavy_rain_labels/2008/01/200801220205.npy'\n",
      "[Errno 2] No such file or directory: '/nobackup_1/users/schreurs/project_GAN/rtcor_heavy_rain_labels/2008/01/200801220235.npy'\n",
      "[Errno 2] No such file or directory: '/nobackup_1/users/schreurs/project_GAN/rtcor_heavy_rain_labels/2008/01/200801220305.npy'\n",
      "[Errno 2] No such file or directory: '/nobackup_1/users/schreurs/project_GAN/rtcor_heavy_rain_labels/2008/01/200801220335.npy'\n",
      "[Errno 2] No such file or directory: '/nobackup_1/users/schreurs/project_GAN/rtcor_heavy_rain_labels/2008/01/200801220405.npy'\n",
      "[Errno 2] No such file or directory: '/nobackup_1/users/schreurs/project_GAN/rtcor_heavy_rain_labels/2008/01/200801220435.npy'\n",
      "[Errno 2] No such file or directory: '/nobackup_1/users/schreurs/project_GAN/rtcor_heavy_rain_labels/2008/01/200801220505.npy'\n",
      "[Errno 2] No such file or directory: '/nobackup_1/users/schreurs/project_GAN/rtcor_heavy_rain_labels/2008/01/200801220535.npy'\n",
      "[Errno 2] No such file or directory: '/nobackup_1/users/schreurs/project_GAN/rtcor_heavy_rain_labels/2008/01/200801220605.npy'\n",
      "[Errno 2] No such file or directory: '/nobackup_1/users/schreurs/project_GAN/rtcor_heavy_rain_labels/2008/01/200801220635.npy'\n",
      "[Errno 2] No such file or directory: '/nobackup_1/users/schreurs/project_GAN/rtcor_heavy_rain_labels/2008/01/200801220705.npy'\n",
      "[Errno 2] No such file or directory: '/nobackup_1/users/schreurs/project_GAN/rtcor_heavy_rain_labels/2008/01/200801220735.npy'\n",
      "[Errno 2] No such file or directory: '/nobackup_1/users/schreurs/project_GAN/rtcor_heavy_rain_labels/2008/01/200801220805.npy'\n",
      "[Errno 2] No such file or directory: '/nobackup_1/users/schreurs/project_GAN/rtcor_heavy_rain_labels/2008/01/200801220835.npy'\n",
      "[Errno 2] No such file or directory: '/nobackup_1/users/schreurs/project_GAN/rtcor_heavy_rain_labels/2008/01/200801220905.npy'\n",
      "[Errno 2] No such file or directory: '/nobackup_1/users/schreurs/project_GAN/rtcor_heavy_rain_labels/2008/01/200801220935.npy'\n",
      "[Errno 2] No such file or directory: '/nobackup_1/users/schreurs/project_GAN/rtcor_heavy_rain_labels/2008/01/200801221005.npy'\n",
      "[Errno 2] No such file or directory: '/nobackup_1/users/schreurs/project_GAN/rtcor_heavy_rain_labels/2008/01/200801221035.npy'\n",
      "[Errno 2] No such file or directory: '/nobackup_1/users/schreurs/project_GAN/rtcor_heavy_rain_labels/2008/01/200801221105.npy'\n",
      "[Errno 2] No such file or directory: '/nobackup_1/users/schreurs/project_GAN/rtcor_heavy_rain_labels/2008/01/200801221135.npy'\n",
      "[Errno 2] No such file or directory: '/nobackup_1/users/schreurs/project_GAN/rtcor_heavy_rain_labels/2008/01/200801221205.npy'\n",
      "[Errno 2] No such file or directory: '/nobackup_1/users/schreurs/project_GAN/rtcor_heavy_rain_labels/2008/01/200801221235.npy'\n",
      "[Errno 2] No such file or directory: '/nobackup_1/users/schreurs/project_GAN/rtcor_heavy_rain_labels/2008/01/200801221305.npy'\n",
      "[Errno 2] No such file or directory: '/nobackup_1/users/schreurs/project_GAN/rtcor_heavy_rain_labels/2008/01/200801221335.npy'\n",
      "[Errno 2] No such file or directory: '/nobackup_1/users/schreurs/project_GAN/rtcor_heavy_rain_labels/2008/01/200801221405.npy'\n",
      "[Errno 2] No such file or directory: '/nobackup_1/users/schreurs/project_GAN/rtcor_heavy_rain_labels/2008/01/200801221435.npy'\n",
      "[Errno 2] No such file or directory: '/nobackup_1/users/schreurs/project_GAN/rtcor_heavy_rain_labels/2008/01/200801221505.npy'\n",
      "[Errno 2] No such file or directory: '/nobackup_1/users/schreurs/project_GAN/rtcor_heavy_rain_labels/2008/01/200801221535.npy'\n",
      "[Errno 2] No such file or directory: '/nobackup_1/users/schreurs/project_GAN/rtcor_heavy_rain_labels/2008/01/200801221605.npy'\n",
      "[Errno 2] No such file or directory: '/nobackup_1/users/schreurs/project_GAN/rtcor_heavy_rain_labels/2008/01/200801221635.npy'\n",
      "[Errno 2] No such file or directory: '/nobackup_1/users/schreurs/project_GAN/rtcor_heavy_rain_labels/2008/01/200801221705.npy'\n",
      "[Errno 2] No such file or directory: '/nobackup_1/users/schreurs/project_GAN/rtcor_heavy_rain_labels/2008/01/200801221735.npy'\n",
      "[Errno 2] No such file or directory: '/nobackup_1/users/schreurs/project_GAN/rtcor_heavy_rain_labels/2008/01/200801221805.npy'\n",
      "[Errno 2] No such file or directory: '/nobackup_1/users/schreurs/project_GAN/rtcor_heavy_rain_labels/2008/01/200801221835.npy'\n",
      "[Errno 2] No such file or directory: '/nobackup_1/users/schreurs/project_GAN/rtcor_heavy_rain_labels/2008/01/200801221905.npy'\n",
      "[Errno 2] No such file or directory: '/nobackup_1/users/schreurs/project_GAN/rtcor_heavy_rain_labels/2008/01/200801221935.npy'\n",
      "[Errno 2] No such file or directory: '/nobackup_1/users/schreurs/project_GAN/rtcor_heavy_rain_labels/2008/01/200801222005.npy'\n",
      "[Errno 2] No such file or directory: '/nobackup_1/users/schreurs/project_GAN/rtcor_heavy_rain_labels/2008/01/200801222035.npy'\n",
      "[Errno 2] No such file or directory: '/nobackup_1/users/schreurs/project_GAN/rtcor_heavy_rain_labels/2008/01/200801222105.npy'\n",
      "[Errno 2] No such file or directory: '/nobackup_1/users/schreurs/project_GAN/rtcor_heavy_rain_labels/2008/01/200801222135.npy'\n",
      "[Errno 2] No such file or directory: '/nobackup_1/users/schreurs/project_GAN/rtcor_heavy_rain_labels/2008/01/200801222205.npy'\n",
      "[Errno 2] No such file or directory: '/nobackup_1/users/schreurs/project_GAN/rtcor_heavy_rain_labels/2008/01/200801222235.npy'\n",
      "[Errno 2] No such file or directory: '/nobackup_1/users/schreurs/project_GAN/rtcor_heavy_rain_labels/2008/01/200801222305.npy'\n",
      "[Errno 2] No such file or directory: '/nobackup_1/users/schreurs/project_GAN/rtcor_heavy_rain_labels/2008/01/200801222335.npy'\n",
      "[Errno 2] No such file or directory: '/nobackup_1/users/schreurs/project_GAN/rtcor_heavy_rain_labels/2008/01/200801230005.npy'\n",
      "[Errno 2] No such file or directory: '/nobackup_1/users/schreurs/project_GAN/rtcor_heavy_rain_labels/2008/01/200801230035.npy'\n",
      "[Errno 2] No such file or directory: '/nobackup_1/users/schreurs/project_GAN/rtcor_heavy_rain_labels/2008/01/200801230105.npy'\n",
      "[Errno 2] No such file or directory: '/nobackup_1/users/schreurs/project_GAN/rtcor_heavy_rain_labels/2008/01/200801230135.npy'\n",
      "[Errno 2] No such file or directory: '/nobackup_1/users/schreurs/project_GAN/rtcor_heavy_rain_labels/2008/01/200801230205.npy'\n",
      "[Errno 2] No such file or directory: '/nobackup_1/users/schreurs/project_GAN/rtcor_heavy_rain_labels/2008/01/200801230235.npy'\n",
      "[Errno 2] No such file or directory: '/nobackup_1/users/schreurs/project_GAN/rtcor_heavy_rain_labels/2008/01/200801230305.npy'\n",
      "[Errno 2] No such file or directory: '/nobackup_1/users/schreurs/project_GAN/rtcor_heavy_rain_labels/2008/01/200801230335.npy'\n",
      "[Errno 2] No such file or directory: '/nobackup_1/users/schreurs/project_GAN/rtcor_heavy_rain_labels/2008/01/200801230405.npy'\n",
      "[Errno 2] No such file or directory: '/nobackup_1/users/schreurs/project_GAN/rtcor_heavy_rain_labels/2008/01/200801230435.npy'\n",
      "[Errno 2] No such file or directory: '/nobackup_1/users/schreurs/project_GAN/rtcor_heavy_rain_labels/2008/01/200801230505.npy'\n",
      "[Errno 2] No such file or directory: '/nobackup_1/users/schreurs/project_GAN/rtcor_heavy_rain_labels/2008/01/200801230535.npy'\n",
      "[Errno 2] No such file or directory: '/nobackup_1/users/schreurs/project_GAN/rtcor_heavy_rain_labels/2008/01/200801230605.npy'\n",
      "[Errno 2] No such file or directory: '/nobackup_1/users/schreurs/project_GAN/rtcor_heavy_rain_labels/2008/01/200801230635.npy'\n",
      "[Errno 2] No such file or directory: '/nobackup_1/users/schreurs/project_GAN/rtcor_heavy_rain_labels/2008/01/200801230705.npy'\n",
      "[Errno 2] No such file or directory: '/nobackup_1/users/schreurs/project_GAN/rtcor_heavy_rain_labels/2008/01/200801230735.npy'\n",
      "[Errno 2] No such file or directory: '/nobackup_1/users/schreurs/project_GAN/rtcor_heavy_rain_labels/2008/01/200801230805.npy'\n",
      "[Errno 2] No such file or directory: '/nobackup_1/users/schreurs/project_GAN/rtcor_heavy_rain_labels/2008/01/200801230835.npy'\n",
      "[Errno 2] No such file or directory: '/nobackup_1/users/schreurs/project_GAN/rtcor_heavy_rain_labels/2008/01/200801230905.npy'\n",
      "[Errno 2] No such file or directory: '/nobackup_1/users/schreurs/project_GAN/rtcor_heavy_rain_labels/2008/01/200801230935.npy'\n",
      "[Errno 2] No such file or directory: '/nobackup_1/users/schreurs/project_GAN/rtcor_heavy_rain_labels/2008/01/200801231005.npy'\n",
      "[Errno 2] No such file or directory: '/nobackup_1/users/schreurs/project_GAN/rtcor_heavy_rain_labels/2008/01/200801231035.npy'\n",
      "[Errno 2] No such file or directory: '/nobackup_1/users/schreurs/project_GAN/rtcor_heavy_rain_labels/2008/01/200801231105.npy'\n",
      "[Errno 2] No such file or directory: '/nobackup_1/users/schreurs/project_GAN/rtcor_heavy_rain_labels/2008/01/200801231135.npy'\n",
      "[Errno 2] No such file or directory: '/nobackup_1/users/schreurs/project_GAN/rtcor_heavy_rain_labels/2008/01/200801231205.npy'\n",
      "[Errno 2] No such file or directory: '/nobackup_1/users/schreurs/project_GAN/rtcor_heavy_rain_labels/2008/01/200801231235.npy'\n",
      "[Errno 2] No such file or directory: '/nobackup_1/users/schreurs/project_GAN/rtcor_heavy_rain_labels/2008/01/200801231305.npy'\n",
      "[Errno 2] No such file or directory: '/nobackup_1/users/schreurs/project_GAN/rtcor_heavy_rain_labels/2008/01/200801231335.npy'\n",
      "[Errno 2] No such file or directory: '/nobackup_1/users/schreurs/project_GAN/rtcor_heavy_rain_labels/2008/01/200801231405.npy'\n",
      "[Errno 2] No such file or directory: '/nobackup_1/users/schreurs/project_GAN/rtcor_heavy_rain_labels/2008/01/200801231435.npy'\n",
      "[Errno 2] No such file or directory: '/nobackup_1/users/schreurs/project_GAN/rtcor_heavy_rain_labels/2008/01/200801231505.npy'\n",
      "[Errno 2] No such file or directory: '/nobackup_1/users/schreurs/project_GAN/rtcor_heavy_rain_labels/2008/01/200801231535.npy'\n",
      "[Errno 2] No such file or directory: '/nobackup_1/users/schreurs/project_GAN/rtcor_heavy_rain_labels/2008/01/200801231605.npy'\n",
      "[Errno 2] No such file or directory: '/nobackup_1/users/schreurs/project_GAN/rtcor_heavy_rain_labels/2008/01/200801231635.npy'\n",
      "[Errno 2] No such file or directory: '/nobackup_1/users/schreurs/project_GAN/rtcor_heavy_rain_labels/2008/01/200801231705.npy'\n",
      "[Errno 2] No such file or directory: '/nobackup_1/users/schreurs/project_GAN/rtcor_heavy_rain_labels/2008/01/200801231735.npy'\n",
      "[Errno 2] No such file or directory: '/nobackup_1/users/schreurs/project_GAN/rtcor_heavy_rain_labels/2008/01/200801231805.npy'\n",
      "[Errno 2] No such file or directory: '/nobackup_1/users/schreurs/project_GAN/rtcor_heavy_rain_labels/2008/01/200801231835.npy'\n",
      "[Errno 2] No such file or directory: '/nobackup_1/users/schreurs/project_GAN/rtcor_heavy_rain_labels/2008/01/200801231905.npy'\n",
      "[Errno 2] No such file or directory: '/nobackup_1/users/schreurs/project_GAN/rtcor_heavy_rain_labels/2008/01/200801231935.npy'\n",
      "[Errno 2] No such file or directory: '/nobackup_1/users/schreurs/project_GAN/rtcor_heavy_rain_labels/2008/01/200801232005.npy'\n",
      "[Errno 2] No such file or directory: '/nobackup_1/users/schreurs/project_GAN/rtcor_heavy_rain_labels/2008/01/200801232035.npy'\n",
      "[Errno 2] No such file or directory: '/nobackup_1/users/schreurs/project_GAN/rtcor_heavy_rain_labels/2008/01/200801232105.npy'\n",
      "[Errno 2] No such file or directory: '/nobackup_1/users/schreurs/project_GAN/rtcor_heavy_rain_labels/2008/01/200801232135.npy'\n",
      "[Errno 2] No such file or directory: '/nobackup_1/users/schreurs/project_GAN/rtcor_heavy_rain_labels/2008/01/200801232205.npy'\n",
      "[Errno 2] No such file or directory: '/nobackup_1/users/schreurs/project_GAN/rtcor_heavy_rain_labels/2008/01/200801232235.npy'\n",
      "[Errno 2] No such file or directory: '/nobackup_1/users/schreurs/project_GAN/rtcor_heavy_rain_labels/2008/01/200801232305.npy'\n",
      "[Errno 2] No such file or directory: '/nobackup_1/users/schreurs/project_GAN/rtcor_heavy_rain_labels/2008/01/200801232335.npy'\n",
      "[Errno 2] No such file or directory: '/nobackup_1/users/schreurs/project_GAN/rtcor_heavy_rain_labels/2008/01/200801240005.npy'\n",
      "[Errno 2] No such file or directory: '/nobackup_1/users/schreurs/project_GAN/rtcor_heavy_rain_labels/2008/01/200801240035.npy'\n",
      "[Errno 2] No such file or directory: '/nobackup_1/users/schreurs/project_GAN/rtcor_heavy_rain_labels/2008/01/200801240105.npy'\n",
      "[Errno 2] No such file or directory: '/nobackup_1/users/schreurs/project_GAN/rtcor_heavy_rain_labels/2008/01/200801240135.npy'\n",
      "[Errno 2] No such file or directory: '/nobackup_1/users/schreurs/project_GAN/rtcor_heavy_rain_labels/2008/01/200801240205.npy'\n",
      "[Errno 2] No such file or directory: '/nobackup_1/users/schreurs/project_GAN/rtcor_heavy_rain_labels/2008/01/200801240235.npy'\n",
      "[Errno 2] No such file or directory: '/nobackup_1/users/schreurs/project_GAN/rtcor_heavy_rain_labels/2008/01/200801240305.npy'\n",
      "[Errno 2] No such file or directory: '/nobackup_1/users/schreurs/project_GAN/rtcor_heavy_rain_labels/2008/01/200801240335.npy'\n",
      "[Errno 2] No such file or directory: '/nobackup_1/users/schreurs/project_GAN/rtcor_heavy_rain_labels/2008/01/200801240405.npy'\n",
      "[Errno 2] No such file or directory: '/nobackup_1/users/schreurs/project_GAN/rtcor_heavy_rain_labels/2008/01/200801240435.npy'\n",
      "[Errno 2] No such file or directory: '/nobackup_1/users/schreurs/project_GAN/rtcor_heavy_rain_labels/2008/01/200801240505.npy'\n",
      "[Errno 2] No such file or directory: '/nobackup_1/users/schreurs/project_GAN/rtcor_heavy_rain_labels/2008/01/200801240535.npy'\n",
      "[Errno 2] No such file or directory: '/nobackup_1/users/schreurs/project_GAN/rtcor_heavy_rain_labels/2008/01/200801240605.npy'\n",
      "[Errno 2] No such file or directory: '/nobackup_1/users/schreurs/project_GAN/rtcor_heavy_rain_labels/2008/01/200801240635.npy'\n",
      "[Errno 2] No such file or directory: '/nobackup_1/users/schreurs/project_GAN/rtcor_heavy_rain_labels/2008/01/200801240705.npy'\n",
      "[Errno 2] No such file or directory: '/nobackup_1/users/schreurs/project_GAN/rtcor_heavy_rain_labels/2008/01/200801240735.npy'\n",
      "[Errno 2] No such file or directory: '/nobackup_1/users/schreurs/project_GAN/rtcor_heavy_rain_labels/2008/01/200801240805.npy'\n",
      "[Errno 2] No such file or directory: '/nobackup_1/users/schreurs/project_GAN/rtcor_heavy_rain_labels/2008/01/200801240835.npy'\n",
      "[Errno 2] No such file or directory: '/nobackup_1/users/schreurs/project_GAN/rtcor_heavy_rain_labels/2008/01/200801240905.npy'\n",
      "[Errno 2] No such file or directory: '/nobackup_1/users/schreurs/project_GAN/rtcor_heavy_rain_labels/2008/01/200801240935.npy'\n",
      "[Errno 2] No such file or directory: '/nobackup_1/users/schreurs/project_GAN/rtcor_heavy_rain_labels/2008/01/200801241005.npy'\n",
      "[Errno 2] No such file or directory: '/nobackup_1/users/schreurs/project_GAN/rtcor_heavy_rain_labels/2008/01/200801241035.npy'\n",
      "[Errno 2] No such file or directory: '/nobackup_1/users/schreurs/project_GAN/rtcor_heavy_rain_labels/2008/01/200801241105.npy'\n",
      "[Errno 2] No such file or directory: '/nobackup_1/users/schreurs/project_GAN/rtcor_heavy_rain_labels/2008/01/200801241135.npy'\n",
      "[Errno 2] No such file or directory: '/nobackup_1/users/schreurs/project_GAN/rtcor_heavy_rain_labels/2008/01/200801241205.npy'\n",
      "[Errno 2] No such file or directory: '/nobackup_1/users/schreurs/project_GAN/rtcor_heavy_rain_labels/2008/01/200801241235.npy'\n",
      "[Errno 2] No such file or directory: '/nobackup_1/users/schreurs/project_GAN/rtcor_heavy_rain_labels/2008/01/200801241305.npy'\n",
      "[Errno 2] No such file or directory: '/nobackup_1/users/schreurs/project_GAN/rtcor_heavy_rain_labels/2008/01/200801241335.npy'\n",
      "[Errno 2] No such file or directory: '/nobackup_1/users/schreurs/project_GAN/rtcor_heavy_rain_labels/2008/01/200801241405.npy'\n",
      "[Errno 2] No such file or directory: '/nobackup_1/users/schreurs/project_GAN/rtcor_heavy_rain_labels/2008/01/200801241435.npy'\n",
      "[Errno 2] No such file or directory: '/nobackup_1/users/schreurs/project_GAN/rtcor_heavy_rain_labels/2008/01/200801241505.npy'\n",
      "[Errno 2] No such file or directory: '/nobackup_1/users/schreurs/project_GAN/rtcor_heavy_rain_labels/2008/01/200801241535.npy'\n",
      "[Errno 2] No such file or directory: '/nobackup_1/users/schreurs/project_GAN/rtcor_heavy_rain_labels/2008/01/200801241605.npy'\n",
      "[Errno 2] No such file or directory: '/nobackup_1/users/schreurs/project_GAN/rtcor_heavy_rain_labels/2008/01/200801241635.npy'\n",
      "[Errno 2] No such file or directory: '/nobackup_1/users/schreurs/project_GAN/rtcor_heavy_rain_labels/2008/01/200801241705.npy'\n",
      "[Errno 2] No such file or directory: '/nobackup_1/users/schreurs/project_GAN/rtcor_heavy_rain_labels/2008/01/200801241735.npy'\n",
      "[Errno 2] No such file or directory: '/nobackup_1/users/schreurs/project_GAN/rtcor_heavy_rain_labels/2008/01/200801241805.npy'\n",
      "[Errno 2] No such file or directory: '/nobackup_1/users/schreurs/project_GAN/rtcor_heavy_rain_labels/2008/01/200801241835.npy'\n",
      "[Errno 2] No such file or directory: '/nobackup_1/users/schreurs/project_GAN/rtcor_heavy_rain_labels/2008/01/200801241905.npy'\n",
      "[Errno 2] No such file or directory: '/nobackup_1/users/schreurs/project_GAN/rtcor_heavy_rain_labels/2008/01/200801241935.npy'\n",
      "[Errno 2] No such file or directory: '/nobackup_1/users/schreurs/project_GAN/rtcor_heavy_rain_labels/2008/01/200801242005.npy'\n",
      "[Errno 2] No such file or directory: '/nobackup_1/users/schreurs/project_GAN/rtcor_heavy_rain_labels/2008/01/200801242035.npy'\n",
      "[Errno 2] No such file or directory: '/nobackup_1/users/schreurs/project_GAN/rtcor_heavy_rain_labels/2008/01/200801242105.npy'\n",
      "[Errno 2] No such file or directory: '/nobackup_1/users/schreurs/project_GAN/rtcor_heavy_rain_labels/2008/01/200801242135.npy'\n",
      "[Errno 2] No such file or directory: '/nobackup_1/users/schreurs/project_GAN/rtcor_heavy_rain_labels/2008/01/200801242205.npy'\n",
      "[Errno 2] No such file or directory: '/nobackup_1/users/schreurs/project_GAN/rtcor_heavy_rain_labels/2008/01/200801242235.npy'\n",
      "[Errno 2] No such file or directory: '/nobackup_1/users/schreurs/project_GAN/rtcor_heavy_rain_labels/2008/01/200801242305.npy'\n",
      "[Errno 2] No such file or directory: '/nobackup_1/users/schreurs/project_GAN/rtcor_heavy_rain_labels/2008/01/200801242335.npy'\n",
      "[Errno 2] No such file or directory: '/nobackup_1/users/schreurs/project_GAN/rtcor_heavy_rain_labels/2008/01/200801250005.npy'\n",
      "[Errno 2] No such file or directory: '/nobackup_1/users/schreurs/project_GAN/rtcor_heavy_rain_labels/2008/01/200801250035.npy'\n",
      "[Errno 2] No such file or directory: '/nobackup_1/users/schreurs/project_GAN/rtcor_heavy_rain_labels/2008/01/200801250105.npy'\n",
      "[Errno 2] No such file or directory: '/nobackup_1/users/schreurs/project_GAN/rtcor_heavy_rain_labels/2008/01/200801250135.npy'\n",
      "[Errno 2] No such file or directory: '/nobackup_1/users/schreurs/project_GAN/rtcor_heavy_rain_labels/2008/01/200801250205.npy'\n",
      "[Errno 2] No such file or directory: '/nobackup_1/users/schreurs/project_GAN/rtcor_heavy_rain_labels/2008/01/200801250235.npy'\n",
      "[Errno 2] No such file or directory: '/nobackup_1/users/schreurs/project_GAN/rtcor_heavy_rain_labels/2008/01/200801250305.npy'\n",
      "[Errno 2] No such file or directory: '/nobackup_1/users/schreurs/project_GAN/rtcor_heavy_rain_labels/2008/01/200801250335.npy'\n",
      "[Errno 2] No such file or directory: '/nobackup_1/users/schreurs/project_GAN/rtcor_heavy_rain_labels/2008/01/200801250405.npy'\n",
      "[Errno 2] No such file or directory: '/nobackup_1/users/schreurs/project_GAN/rtcor_heavy_rain_labels/2008/01/200801250435.npy'\n",
      "[Errno 2] No such file or directory: '/nobackup_1/users/schreurs/project_GAN/rtcor_heavy_rain_labels/2008/01/200801250505.npy'\n",
      "[Errno 2] No such file or directory: '/nobackup_1/users/schreurs/project_GAN/rtcor_heavy_rain_labels/2008/01/200801250535.npy'\n",
      "[Errno 2] No such file or directory: '/nobackup_1/users/schreurs/project_GAN/rtcor_heavy_rain_labels/2008/01/200801250605.npy'\n",
      "[Errno 2] No such file or directory: '/nobackup_1/users/schreurs/project_GAN/rtcor_heavy_rain_labels/2008/01/200801250635.npy'\n",
      "[Errno 2] No such file or directory: '/nobackup_1/users/schreurs/project_GAN/rtcor_heavy_rain_labels/2008/01/200801250705.npy'\n",
      "[Errno 2] No such file or directory: '/nobackup_1/users/schreurs/project_GAN/rtcor_heavy_rain_labels/2008/01/200801250735.npy'\n",
      "[Errno 2] No such file or directory: '/nobackup_1/users/schreurs/project_GAN/rtcor_heavy_rain_labels/2008/01/200801250805.npy'\n",
      "[Errno 2] No such file or directory: '/nobackup_1/users/schreurs/project_GAN/rtcor_heavy_rain_labels/2008/01/200801250835.npy'\n",
      "[Errno 2] No such file or directory: '/nobackup_1/users/schreurs/project_GAN/rtcor_heavy_rain_labels/2008/01/200801250905.npy'\n",
      "[Errno 2] No such file or directory: '/nobackup_1/users/schreurs/project_GAN/rtcor_heavy_rain_labels/2008/01/200801250935.npy'\n",
      "[Errno 2] No such file or directory: '/nobackup_1/users/schreurs/project_GAN/rtcor_heavy_rain_labels/2008/01/200801251005.npy'\n",
      "[Errno 2] No such file or directory: '/nobackup_1/users/schreurs/project_GAN/rtcor_heavy_rain_labels/2008/01/200801251035.npy'\n",
      "[Errno 2] No such file or directory: '/nobackup_1/users/schreurs/project_GAN/rtcor_heavy_rain_labels/2008/01/200801251105.npy'\n",
      "[Errno 2] No such file or directory: '/nobackup_1/users/schreurs/project_GAN/rtcor_heavy_rain_labels/2008/01/200801251135.npy'\n",
      "[Errno 2] No such file or directory: '/nobackup_1/users/schreurs/project_GAN/rtcor_heavy_rain_labels/2008/01/200801251205.npy'\n",
      "[Errno 2] No such file or directory: '/nobackup_1/users/schreurs/project_GAN/rtcor_heavy_rain_labels/2008/01/200801251235.npy'\n",
      "[Errno 2] No such file or directory: '/nobackup_1/users/schreurs/project_GAN/rtcor_heavy_rain_labels/2008/01/200801251305.npy'\n",
      "[Errno 2] No such file or directory: '/nobackup_1/users/schreurs/project_GAN/rtcor_heavy_rain_labels/2008/01/200801251335.npy'\n",
      "[Errno 2] No such file or directory: '/nobackup_1/users/schreurs/project_GAN/rtcor_heavy_rain_labels/2008/01/200801251405.npy'\n",
      "[Errno 2] No such file or directory: '/nobackup_1/users/schreurs/project_GAN/rtcor_heavy_rain_labels/2008/01/200801251435.npy'\n",
      "[Errno 2] No such file or directory: '/nobackup_1/users/schreurs/project_GAN/rtcor_heavy_rain_labels/2008/01/200801251505.npy'\n",
      "[Errno 2] No such file or directory: '/nobackup_1/users/schreurs/project_GAN/rtcor_heavy_rain_labels/2008/01/200801251535.npy'\n",
      "[Errno 2] No such file or directory: '/nobackup_1/users/schreurs/project_GAN/rtcor_heavy_rain_labels/2008/01/200801251605.npy'\n",
      "[Errno 2] No such file or directory: '/nobackup_1/users/schreurs/project_GAN/rtcor_heavy_rain_labels/2008/01/200801251635.npy'\n",
      "[Errno 2] No such file or directory: '/nobackup_1/users/schreurs/project_GAN/rtcor_heavy_rain_labels/2008/01/200801251705.npy'\n",
      "[Errno 2] No such file or directory: '/nobackup_1/users/schreurs/project_GAN/rtcor_heavy_rain_labels/2008/01/200801251735.npy'\n",
      "[Errno 2] No such file or directory: '/nobackup_1/users/schreurs/project_GAN/rtcor_heavy_rain_labels/2008/01/200801251805.npy'\n",
      "[Errno 2] No such file or directory: '/nobackup_1/users/schreurs/project_GAN/rtcor_heavy_rain_labels/2008/01/200801251835.npy'\n",
      "[Errno 2] No such file or directory: '/nobackup_1/users/schreurs/project_GAN/rtcor_heavy_rain_labels/2008/01/200801251905.npy'\n",
      "[Errno 2] No such file or directory: '/nobackup_1/users/schreurs/project_GAN/rtcor_heavy_rain_labels/2008/01/200801251935.npy'\n",
      "[Errno 2] No such file or directory: '/nobackup_1/users/schreurs/project_GAN/rtcor_heavy_rain_labels/2008/01/200801252005.npy'\n",
      "[Errno 2] No such file or directory: '/nobackup_1/users/schreurs/project_GAN/rtcor_heavy_rain_labels/2008/01/200801252035.npy'\n",
      "[Errno 2] No such file or directory: '/nobackup_1/users/schreurs/project_GAN/rtcor_heavy_rain_labels/2008/01/200801252105.npy'\n",
      "[Errno 2] No such file or directory: '/nobackup_1/users/schreurs/project_GAN/rtcor_heavy_rain_labels/2008/01/200801252135.npy'\n",
      "[Errno 2] No such file or directory: '/nobackup_1/users/schreurs/project_GAN/rtcor_heavy_rain_labels/2008/01/200801252205.npy'\n",
      "[Errno 2] No such file or directory: '/nobackup_1/users/schreurs/project_GAN/rtcor_heavy_rain_labels/2008/01/200801252235.npy'\n",
      "[Errno 2] No such file or directory: '/nobackup_1/users/schreurs/project_GAN/rtcor_heavy_rain_labels/2008/01/200801252305.npy'\n",
      "[Errno 2] No such file or directory: '/nobackup_1/users/schreurs/project_GAN/rtcor_heavy_rain_labels/2008/01/200801252335.npy'\n",
      "[Errno 2] No such file or directory: '/nobackup_1/users/schreurs/project_GAN/rtcor_heavy_rain_labels/2008/01/200801260005.npy'\n",
      "[Errno 2] No such file or directory: '/nobackup_1/users/schreurs/project_GAN/rtcor_heavy_rain_labels/2008/01/200801260035.npy'\n",
      "[Errno 2] No such file or directory: '/nobackup_1/users/schreurs/project_GAN/rtcor_heavy_rain_labels/2008/01/200801260105.npy'\n",
      "[Errno 2] No such file or directory: '/nobackup_1/users/schreurs/project_GAN/rtcor_heavy_rain_labels/2008/01/200801260135.npy'\n",
      "[Errno 2] No such file or directory: '/nobackup_1/users/schreurs/project_GAN/rtcor_heavy_rain_labels/2008/01/200801260205.npy'\n",
      "[Errno 2] No such file or directory: '/nobackup_1/users/schreurs/project_GAN/rtcor_heavy_rain_labels/2008/01/200801260235.npy'\n",
      "[Errno 2] No such file or directory: '/nobackup_1/users/schreurs/project_GAN/rtcor_heavy_rain_labels/2008/01/200801260305.npy'\n",
      "[Errno 2] No such file or directory: '/nobackup_1/users/schreurs/project_GAN/rtcor_heavy_rain_labels/2008/01/200801260335.npy'\n",
      "[Errno 2] No such file or directory: '/nobackup_1/users/schreurs/project_GAN/rtcor_heavy_rain_labels/2008/01/200801260405.npy'\n",
      "[Errno 2] No such file or directory: '/nobackup_1/users/schreurs/project_GAN/rtcor_heavy_rain_labels/2008/01/200801260435.npy'\n",
      "[Errno 2] No such file or directory: '/nobackup_1/users/schreurs/project_GAN/rtcor_heavy_rain_labels/2008/01/200801260505.npy'\n",
      "[Errno 2] No such file or directory: '/nobackup_1/users/schreurs/project_GAN/rtcor_heavy_rain_labels/2008/01/200801260535.npy'\n",
      "[Errno 2] No such file or directory: '/nobackup_1/users/schreurs/project_GAN/rtcor_heavy_rain_labels/2008/01/200801260605.npy'\n",
      "[Errno 2] No such file or directory: '/nobackup_1/users/schreurs/project_GAN/rtcor_heavy_rain_labels/2008/01/200801260635.npy'\n",
      "[Errno 2] No such file or directory: '/nobackup_1/users/schreurs/project_GAN/rtcor_heavy_rain_labels/2008/01/200801260705.npy'\n",
      "[Errno 2] No such file or directory: '/nobackup_1/users/schreurs/project_GAN/rtcor_heavy_rain_labels/2008/01/200801260735.npy'\n",
      "[Errno 2] No such file or directory: '/nobackup_1/users/schreurs/project_GAN/rtcor_heavy_rain_labels/2008/01/200801260805.npy'\n",
      "[Errno 2] No such file or directory: '/nobackup_1/users/schreurs/project_GAN/rtcor_heavy_rain_labels/2008/01/200801260835.npy'\n",
      "[Errno 2] No such file or directory: '/nobackup_1/users/schreurs/project_GAN/rtcor_heavy_rain_labels/2008/01/200801260905.npy'\n",
      "[Errno 2] No such file or directory: '/nobackup_1/users/schreurs/project_GAN/rtcor_heavy_rain_labels/2008/01/200801260935.npy'\n",
      "[Errno 2] No such file or directory: '/nobackup_1/users/schreurs/project_GAN/rtcor_heavy_rain_labels/2008/01/200801261005.npy'\n",
      "[Errno 2] No such file or directory: '/nobackup_1/users/schreurs/project_GAN/rtcor_heavy_rain_labels/2008/01/200801261035.npy'\n",
      "[Errno 2] No such file or directory: '/nobackup_1/users/schreurs/project_GAN/rtcor_heavy_rain_labels/2008/01/200801261105.npy'\n",
      "[Errno 2] No such file or directory: '/nobackup_1/users/schreurs/project_GAN/rtcor_heavy_rain_labels/2008/01/200801261135.npy'\n",
      "[Errno 2] No such file or directory: '/nobackup_1/users/schreurs/project_GAN/rtcor_heavy_rain_labels/2008/01/200801261205.npy'\n",
      "[Errno 2] No such file or directory: '/nobackup_1/users/schreurs/project_GAN/rtcor_heavy_rain_labels/2008/01/200801261235.npy'\n",
      "[Errno 2] No such file or directory: '/nobackup_1/users/schreurs/project_GAN/rtcor_heavy_rain_labels/2008/01/200801261305.npy'\n",
      "[Errno 2] No such file or directory: '/nobackup_1/users/schreurs/project_GAN/rtcor_heavy_rain_labels/2008/01/200801261335.npy'\n",
      "[Errno 2] No such file or directory: '/nobackup_1/users/schreurs/project_GAN/rtcor_heavy_rain_labels/2008/01/200801261405.npy'\n",
      "[Errno 2] No such file or directory: '/nobackup_1/users/schreurs/project_GAN/rtcor_heavy_rain_labels/2008/01/200801261435.npy'\n",
      "[Errno 2] No such file or directory: '/nobackup_1/users/schreurs/project_GAN/rtcor_heavy_rain_labels/2008/01/200801261505.npy'\n",
      "[Errno 2] No such file or directory: '/nobackup_1/users/schreurs/project_GAN/rtcor_heavy_rain_labels/2008/01/200801261535.npy'\n",
      "[Errno 2] No such file or directory: '/nobackup_1/users/schreurs/project_GAN/rtcor_heavy_rain_labels/2008/01/200801261605.npy'\n",
      "[Errno 2] No such file or directory: '/nobackup_1/users/schreurs/project_GAN/rtcor_heavy_rain_labels/2008/01/200801261635.npy'\n",
      "[Errno 2] No such file or directory: '/nobackup_1/users/schreurs/project_GAN/rtcor_heavy_rain_labels/2008/01/200801261705.npy'\n",
      "[Errno 2] No such file or directory: '/nobackup_1/users/schreurs/project_GAN/rtcor_heavy_rain_labels/2008/01/200801261735.npy'\n",
      "[Errno 2] No such file or directory: '/nobackup_1/users/schreurs/project_GAN/rtcor_heavy_rain_labels/2008/01/200801261805.npy'\n",
      "[Errno 2] No such file or directory: '/nobackup_1/users/schreurs/project_GAN/rtcor_heavy_rain_labels/2008/01/200801261835.npy'\n",
      "[Errno 2] No such file or directory: '/nobackup_1/users/schreurs/project_GAN/rtcor_heavy_rain_labels/2008/01/200801261905.npy'\n",
      "[Errno 2] No such file or directory: '/nobackup_1/users/schreurs/project_GAN/rtcor_heavy_rain_labels/2008/01/200801261935.npy'\n",
      "[Errno 2] No such file or directory: '/nobackup_1/users/schreurs/project_GAN/rtcor_heavy_rain_labels/2008/01/200801262005.npy'\n",
      "[Errno 2] No such file or directory: '/nobackup_1/users/schreurs/project_GAN/rtcor_heavy_rain_labels/2008/01/200801262035.npy'\n",
      "[Errno 2] No such file or directory: '/nobackup_1/users/schreurs/project_GAN/rtcor_heavy_rain_labels/2008/01/200801262105.npy'\n",
      "[Errno 2] No such file or directory: '/nobackup_1/users/schreurs/project_GAN/rtcor_heavy_rain_labels/2008/01/200801262135.npy'\n",
      "[Errno 2] No such file or directory: '/nobackup_1/users/schreurs/project_GAN/rtcor_heavy_rain_labels/2008/01/200801262205.npy'\n",
      "[Errno 2] No such file or directory: '/nobackup_1/users/schreurs/project_GAN/rtcor_heavy_rain_labels/2008/01/200801262235.npy'\n",
      "[Errno 2] No such file or directory: '/nobackup_1/users/schreurs/project_GAN/rtcor_heavy_rain_labels/2008/01/200801262305.npy'\n",
      "[Errno 2] No such file or directory: '/nobackup_1/users/schreurs/project_GAN/rtcor_heavy_rain_labels/2008/01/200801262335.npy'\n",
      "[Errno 2] No such file or directory: '/nobackup_1/users/schreurs/project_GAN/rtcor_heavy_rain_labels/2008/01/200801270005.npy'\n",
      "[Errno 2] No such file or directory: '/nobackup_1/users/schreurs/project_GAN/rtcor_heavy_rain_labels/2008/01/200801270035.npy'\n",
      "[Errno 2] No such file or directory: '/nobackup_1/users/schreurs/project_GAN/rtcor_heavy_rain_labels/2008/01/200801270105.npy'\n",
      "[Errno 2] No such file or directory: '/nobackup_1/users/schreurs/project_GAN/rtcor_heavy_rain_labels/2008/01/200801270135.npy'\n",
      "[Errno 2] No such file or directory: '/nobackup_1/users/schreurs/project_GAN/rtcor_heavy_rain_labels/2008/01/200801270205.npy'\n",
      "[Errno 2] No such file or directory: '/nobackup_1/users/schreurs/project_GAN/rtcor_heavy_rain_labels/2008/01/200801270235.npy'\n",
      "[Errno 2] No such file or directory: '/nobackup_1/users/schreurs/project_GAN/rtcor_heavy_rain_labels/2008/01/200801270305.npy'\n",
      "[Errno 2] No such file or directory: '/nobackup_1/users/schreurs/project_GAN/rtcor_heavy_rain_labels/2008/01/200801270335.npy'\n",
      "[Errno 2] No such file or directory: '/nobackup_1/users/schreurs/project_GAN/rtcor_heavy_rain_labels/2008/01/200801270405.npy'\n",
      "[Errno 2] No such file or directory: '/nobackup_1/users/schreurs/project_GAN/rtcor_heavy_rain_labels/2008/01/200801270435.npy'\n",
      "[Errno 2] No such file or directory: '/nobackup_1/users/schreurs/project_GAN/rtcor_heavy_rain_labels/2008/01/200801270505.npy'\n",
      "[Errno 2] No such file or directory: '/nobackup_1/users/schreurs/project_GAN/rtcor_heavy_rain_labels/2008/01/200801270535.npy'\n",
      "[Errno 2] No such file or directory: '/nobackup_1/users/schreurs/project_GAN/rtcor_heavy_rain_labels/2008/01/200801270605.npy'\n",
      "[Errno 2] No such file or directory: '/nobackup_1/users/schreurs/project_GAN/rtcor_heavy_rain_labels/2008/01/200801270635.npy'\n",
      "[Errno 2] No such file or directory: '/nobackup_1/users/schreurs/project_GAN/rtcor_heavy_rain_labels/2008/01/200801270705.npy'\n",
      "[Errno 2] No such file or directory: '/nobackup_1/users/schreurs/project_GAN/rtcor_heavy_rain_labels/2008/01/200801270735.npy'\n",
      "[Errno 2] No such file or directory: '/nobackup_1/users/schreurs/project_GAN/rtcor_heavy_rain_labels/2008/01/200801270805.npy'\n",
      "[Errno 2] No such file or directory: '/nobackup_1/users/schreurs/project_GAN/rtcor_heavy_rain_labels/2008/01/200801270835.npy'\n",
      "[Errno 2] No such file or directory: '/nobackup_1/users/schreurs/project_GAN/rtcor_heavy_rain_labels/2008/01/200801270905.npy'\n",
      "[Errno 2] No such file or directory: '/nobackup_1/users/schreurs/project_GAN/rtcor_heavy_rain_labels/2008/01/200801270935.npy'\n",
      "[Errno 2] No such file or directory: '/nobackup_1/users/schreurs/project_GAN/rtcor_heavy_rain_labels/2008/01/200801271005.npy'\n",
      "[Errno 2] No such file or directory: '/nobackup_1/users/schreurs/project_GAN/rtcor_heavy_rain_labels/2008/01/200801271035.npy'\n",
      "[Errno 2] No such file or directory: '/nobackup_1/users/schreurs/project_GAN/rtcor_heavy_rain_labels/2008/01/200801271105.npy'\n",
      "[Errno 2] No such file or directory: '/nobackup_1/users/schreurs/project_GAN/rtcor_heavy_rain_labels/2008/01/200801271135.npy'\n",
      "[Errno 2] No such file or directory: '/nobackup_1/users/schreurs/project_GAN/rtcor_heavy_rain_labels/2008/01/200801271205.npy'\n",
      "[Errno 2] No such file or directory: '/nobackup_1/users/schreurs/project_GAN/rtcor_heavy_rain_labels/2008/01/200801271235.npy'\n",
      "[Errno 2] No such file or directory: '/nobackup_1/users/schreurs/project_GAN/rtcor_heavy_rain_labels/2008/01/200801271305.npy'\n",
      "[Errno 2] No such file or directory: '/nobackup_1/users/schreurs/project_GAN/rtcor_heavy_rain_labels/2008/01/200801271335.npy'\n",
      "[Errno 2] No such file or directory: '/nobackup_1/users/schreurs/project_GAN/rtcor_heavy_rain_labels/2008/01/200801271405.npy'\n",
      "[Errno 2] No such file or directory: '/nobackup_1/users/schreurs/project_GAN/rtcor_heavy_rain_labels/2008/01/200801271435.npy'\n",
      "[Errno 2] No such file or directory: '/nobackup_1/users/schreurs/project_GAN/rtcor_heavy_rain_labels/2008/01/200801271505.npy'\n",
      "[Errno 2] No such file or directory: '/nobackup_1/users/schreurs/project_GAN/rtcor_heavy_rain_labels/2008/01/200801271535.npy'\n",
      "[Errno 2] No such file or directory: '/nobackup_1/users/schreurs/project_GAN/rtcor_heavy_rain_labels/2008/01/200801271605.npy'\n",
      "[Errno 2] No such file or directory: '/nobackup_1/users/schreurs/project_GAN/rtcor_heavy_rain_labels/2008/01/200801271635.npy'\n",
      "[Errno 2] No such file or directory: '/nobackup_1/users/schreurs/project_GAN/rtcor_heavy_rain_labels/2008/01/200801271705.npy'\n",
      "[Errno 2] No such file or directory: '/nobackup_1/users/schreurs/project_GAN/rtcor_heavy_rain_labels/2008/01/200801271735.npy'\n",
      "[Errno 2] No such file or directory: '/nobackup_1/users/schreurs/project_GAN/rtcor_heavy_rain_labels/2008/01/200801271805.npy'\n",
      "[Errno 2] No such file or directory: '/nobackup_1/users/schreurs/project_GAN/rtcor_heavy_rain_labels/2008/01/200801271835.npy'\n",
      "[Errno 2] No such file or directory: '/nobackup_1/users/schreurs/project_GAN/rtcor_heavy_rain_labels/2008/01/200801271905.npy'\n",
      "[Errno 2] No such file or directory: '/nobackup_1/users/schreurs/project_GAN/rtcor_heavy_rain_labels/2008/01/200801271935.npy'\n",
      "[Errno 2] No such file or directory: '/nobackup_1/users/schreurs/project_GAN/rtcor_heavy_rain_labels/2008/01/200801272005.npy'\n",
      "[Errno 2] No such file or directory: '/nobackup_1/users/schreurs/project_GAN/rtcor_heavy_rain_labels/2008/01/200801272035.npy'\n",
      "[Errno 2] No such file or directory: '/nobackup_1/users/schreurs/project_GAN/rtcor_heavy_rain_labels/2008/01/200801272105.npy'\n",
      "[Errno 2] No such file or directory: '/nobackup_1/users/schreurs/project_GAN/rtcor_heavy_rain_labels/2008/01/200801272135.npy'\n",
      "[Errno 2] No such file or directory: '/nobackup_1/users/schreurs/project_GAN/rtcor_heavy_rain_labels/2008/01/200801272205.npy'\n",
      "[Errno 2] No such file or directory: '/nobackup_1/users/schreurs/project_GAN/rtcor_heavy_rain_labels/2008/01/200801272235.npy'\n",
      "[Errno 2] No such file or directory: '/nobackup_1/users/schreurs/project_GAN/rtcor_heavy_rain_labels/2008/01/200801272305.npy'\n",
      "[Errno 2] No such file or directory: '/nobackup_1/users/schreurs/project_GAN/rtcor_heavy_rain_labels/2008/01/200801272335.npy'\n",
      "[Errno 2] No such file or directory: '/nobackup_1/users/schreurs/project_GAN/rtcor_heavy_rain_labels/2008/01/200801280005.npy'\n",
      "[Errno 2] No such file or directory: '/nobackup_1/users/schreurs/project_GAN/rtcor_heavy_rain_labels/2008/01/200801280035.npy'\n",
      "[Errno 2] No such file or directory: '/nobackup_1/users/schreurs/project_GAN/rtcor_heavy_rain_labels/2008/01/200801280105.npy'\n",
      "[Errno 2] No such file or directory: '/nobackup_1/users/schreurs/project_GAN/rtcor_heavy_rain_labels/2008/01/200801280135.npy'\n",
      "[Errno 2] No such file or directory: '/nobackup_1/users/schreurs/project_GAN/rtcor_heavy_rain_labels/2008/01/200801280205.npy'\n",
      "[Errno 2] No such file or directory: '/nobackup_1/users/schreurs/project_GAN/rtcor_heavy_rain_labels/2008/01/200801280235.npy'\n",
      "[Errno 2] No such file or directory: '/nobackup_1/users/schreurs/project_GAN/rtcor_heavy_rain_labels/2008/01/200801280305.npy'\n",
      "[Errno 2] No such file or directory: '/nobackup_1/users/schreurs/project_GAN/rtcor_heavy_rain_labels/2008/01/200801280335.npy'\n",
      "[Errno 2] No such file or directory: '/nobackup_1/users/schreurs/project_GAN/rtcor_heavy_rain_labels/2008/01/200801280405.npy'\n",
      "[Errno 2] No such file or directory: '/nobackup_1/users/schreurs/project_GAN/rtcor_heavy_rain_labels/2008/01/200801280435.npy'\n",
      "[Errno 2] No such file or directory: '/nobackup_1/users/schreurs/project_GAN/rtcor_heavy_rain_labels/2008/01/200801280505.npy'\n",
      "[Errno 2] No such file or directory: '/nobackup_1/users/schreurs/project_GAN/rtcor_heavy_rain_labels/2008/01/200801280535.npy'\n",
      "[Errno 2] No such file or directory: '/nobackup_1/users/schreurs/project_GAN/rtcor_heavy_rain_labels/2008/01/200801280605.npy'\n",
      "[Errno 2] No such file or directory: '/nobackup_1/users/schreurs/project_GAN/rtcor_heavy_rain_labels/2008/01/200801280635.npy'\n",
      "[Errno 2] No such file or directory: '/nobackup_1/users/schreurs/project_GAN/rtcor_heavy_rain_labels/2008/01/200801280705.npy'\n",
      "[Errno 2] No such file or directory: '/nobackup_1/users/schreurs/project_GAN/rtcor_heavy_rain_labels/2008/01/200801280735.npy'\n",
      "[Errno 2] No such file or directory: '/nobackup_1/users/schreurs/project_GAN/rtcor_heavy_rain_labels/2008/01/200801280805.npy'\n",
      "[Errno 2] No such file or directory: '/nobackup_1/users/schreurs/project_GAN/rtcor_heavy_rain_labels/2008/01/200801280835.npy'\n",
      "[Errno 2] No such file or directory: '/nobackup_1/users/schreurs/project_GAN/rtcor_heavy_rain_labels/2008/01/200801280905.npy'\n",
      "[Errno 2] No such file or directory: '/nobackup_1/users/schreurs/project_GAN/rtcor_heavy_rain_labels/2008/01/200801280935.npy'\n",
      "[Errno 2] No such file or directory: '/nobackup_1/users/schreurs/project_GAN/rtcor_heavy_rain_labels/2008/01/200801281005.npy'\n",
      "[Errno 2] No such file or directory: '/nobackup_1/users/schreurs/project_GAN/rtcor_heavy_rain_labels/2008/01/200801281035.npy'\n",
      "[Errno 2] No such file or directory: '/nobackup_1/users/schreurs/project_GAN/rtcor_heavy_rain_labels/2008/01/200801281105.npy'\n",
      "[Errno 2] No such file or directory: '/nobackup_1/users/schreurs/project_GAN/rtcor_heavy_rain_labels/2008/01/200801281135.npy'\n",
      "[Errno 2] No such file or directory: '/nobackup_1/users/schreurs/project_GAN/rtcor_heavy_rain_labels/2008/01/200801281205.npy'\n",
      "[Errno 2] No such file or directory: '/nobackup_1/users/schreurs/project_GAN/rtcor_heavy_rain_labels/2008/01/200801281235.npy'\n",
      "[Errno 2] No such file or directory: '/nobackup_1/users/schreurs/project_GAN/rtcor_heavy_rain_labels/2008/01/200801281305.npy'\n",
      "[Errno 2] No such file or directory: '/nobackup_1/users/schreurs/project_GAN/rtcor_heavy_rain_labels/2008/01/200801281335.npy'\n",
      "[Errno 2] No such file or directory: '/nobackup_1/users/schreurs/project_GAN/rtcor_heavy_rain_labels/2008/01/200801281405.npy'\n",
      "[Errno 2] No such file or directory: '/nobackup_1/users/schreurs/project_GAN/rtcor_heavy_rain_labels/2008/01/200801281435.npy'\n",
      "[Errno 2] No such file or directory: '/nobackup_1/users/schreurs/project_GAN/rtcor_heavy_rain_labels/2008/01/200801281505.npy'\n",
      "[Errno 2] No such file or directory: '/nobackup_1/users/schreurs/project_GAN/rtcor_heavy_rain_labels/2008/01/200801281535.npy'\n",
      "[Errno 2] No such file or directory: '/nobackup_1/users/schreurs/project_GAN/rtcor_heavy_rain_labels/2008/01/200801281605.npy'\n",
      "[Errno 2] No such file or directory: '/nobackup_1/users/schreurs/project_GAN/rtcor_heavy_rain_labels/2008/01/200801281635.npy'\n",
      "[Errno 2] No such file or directory: '/nobackup_1/users/schreurs/project_GAN/rtcor_heavy_rain_labels/2008/01/200801281705.npy'\n",
      "[Errno 2] No such file or directory: '/nobackup_1/users/schreurs/project_GAN/rtcor_heavy_rain_labels/2008/01/200801281735.npy'\n",
      "[Errno 2] No such file or directory: '/nobackup_1/users/schreurs/project_GAN/rtcor_heavy_rain_labels/2008/01/200801281805.npy'\n",
      "[Errno 2] No such file or directory: '/nobackup_1/users/schreurs/project_GAN/rtcor_heavy_rain_labels/2008/01/200801281835.npy'\n",
      "[Errno 2] No such file or directory: '/nobackup_1/users/schreurs/project_GAN/rtcor_heavy_rain_labels/2008/01/200801281905.npy'\n",
      "[Errno 2] No such file or directory: '/nobackup_1/users/schreurs/project_GAN/rtcor_heavy_rain_labels/2008/01/200801281935.npy'\n",
      "[Errno 2] No such file or directory: '/nobackup_1/users/schreurs/project_GAN/rtcor_heavy_rain_labels/2008/01/200801282005.npy'\n",
      "[Errno 2] No such file or directory: '/nobackup_1/users/schreurs/project_GAN/rtcor_heavy_rain_labels/2008/01/200801282035.npy'\n",
      "[Errno 2] No such file or directory: '/nobackup_1/users/schreurs/project_GAN/rtcor_heavy_rain_labels/2008/01/200801282105.npy'\n",
      "[Errno 2] No such file or directory: '/nobackup_1/users/schreurs/project_GAN/rtcor_heavy_rain_labels/2008/01/200801282135.npy'\n",
      "[Errno 2] No such file or directory: '/nobackup_1/users/schreurs/project_GAN/rtcor_heavy_rain_labels/2008/01/200801282205.npy'\n",
      "[Errno 2] No such file or directory: '/nobackup_1/users/schreurs/project_GAN/rtcor_heavy_rain_labels/2008/01/200801282235.npy'\n",
      "[Errno 2] No such file or directory: '/nobackup_1/users/schreurs/project_GAN/rtcor_heavy_rain_labels/2008/01/200801282305.npy'\n",
      "[Errno 2] No such file or directory: '/nobackup_1/users/schreurs/project_GAN/rtcor_heavy_rain_labels/2008/01/200801282335.npy'\n",
      "[Errno 2] No such file or directory: '/nobackup_1/users/schreurs/project_GAN/rtcor_heavy_rain_labels/2008/01/200801290005.npy'\n",
      "[Errno 2] No such file or directory: '/nobackup_1/users/schreurs/project_GAN/rtcor_heavy_rain_labels/2008/01/200801290035.npy'\n",
      "[Errno 2] No such file or directory: '/nobackup_1/users/schreurs/project_GAN/rtcor_heavy_rain_labels/2008/01/200801290105.npy'\n",
      "[Errno 2] No such file or directory: '/nobackup_1/users/schreurs/project_GAN/rtcor_heavy_rain_labels/2008/01/200801290135.npy'\n",
      "[Errno 2] No such file or directory: '/nobackup_1/users/schreurs/project_GAN/rtcor_heavy_rain_labels/2008/01/200801290205.npy'\n",
      "[Errno 2] No such file or directory: '/nobackup_1/users/schreurs/project_GAN/rtcor_heavy_rain_labels/2008/01/200801290235.npy'\n",
      "[Errno 2] No such file or directory: '/nobackup_1/users/schreurs/project_GAN/rtcor_heavy_rain_labels/2008/01/200801290305.npy'\n",
      "[Errno 2] No such file or directory: '/nobackup_1/users/schreurs/project_GAN/rtcor_heavy_rain_labels/2008/01/200801290335.npy'\n",
      "[Errno 2] No such file or directory: '/nobackup_1/users/schreurs/project_GAN/rtcor_heavy_rain_labels/2008/01/200801290405.npy'\n",
      "[Errno 2] No such file or directory: '/nobackup_1/users/schreurs/project_GAN/rtcor_heavy_rain_labels/2008/01/200801290435.npy'\n",
      "[Errno 2] No such file or directory: '/nobackup_1/users/schreurs/project_GAN/rtcor_heavy_rain_labels/2008/01/200801290505.npy'\n",
      "[Errno 2] No such file or directory: '/nobackup_1/users/schreurs/project_GAN/rtcor_heavy_rain_labels/2008/01/200801290535.npy'\n",
      "[Errno 2] No such file or directory: '/nobackup_1/users/schreurs/project_GAN/rtcor_heavy_rain_labels/2008/01/200801290605.npy'\n",
      "[Errno 2] No such file or directory: '/nobackup_1/users/schreurs/project_GAN/rtcor_heavy_rain_labels/2008/01/200801290635.npy'\n",
      "[Errno 2] No such file or directory: '/nobackup_1/users/schreurs/project_GAN/rtcor_heavy_rain_labels/2008/01/200801290705.npy'\n",
      "[Errno 2] No such file or directory: '/nobackup_1/users/schreurs/project_GAN/rtcor_heavy_rain_labels/2008/01/200801290735.npy'\n",
      "[Errno 2] No such file or directory: '/nobackup_1/users/schreurs/project_GAN/rtcor_heavy_rain_labels/2008/01/200801290805.npy'\n",
      "[Errno 2] No such file or directory: '/nobackup_1/users/schreurs/project_GAN/rtcor_heavy_rain_labels/2008/01/200801290835.npy'\n",
      "[Errno 2] No such file or directory: '/nobackup_1/users/schreurs/project_GAN/rtcor_heavy_rain_labels/2008/01/200801290905.npy'\n",
      "[Errno 2] No such file or directory: '/nobackup_1/users/schreurs/project_GAN/rtcor_heavy_rain_labels/2008/01/200801290935.npy'\n",
      "[Errno 2] No such file or directory: '/nobackup_1/users/schreurs/project_GAN/rtcor_heavy_rain_labels/2008/01/200801291005.npy'\n",
      "[Errno 2] No such file or directory: '/nobackup_1/users/schreurs/project_GAN/rtcor_heavy_rain_labels/2008/01/200801291035.npy'\n",
      "[Errno 2] No such file or directory: '/nobackup_1/users/schreurs/project_GAN/rtcor_heavy_rain_labels/2008/01/200801291105.npy'\n",
      "[Errno 2] No such file or directory: '/nobackup_1/users/schreurs/project_GAN/rtcor_heavy_rain_labels/2008/01/200801291135.npy'\n",
      "[Errno 2] No such file or directory: '/nobackup_1/users/schreurs/project_GAN/rtcor_heavy_rain_labels/2008/01/200801291205.npy'\n",
      "[Errno 2] No such file or directory: '/nobackup_1/users/schreurs/project_GAN/rtcor_heavy_rain_labels/2008/01/200801291235.npy'\n",
      "[Errno 2] No such file or directory: '/nobackup_1/users/schreurs/project_GAN/rtcor_heavy_rain_labels/2008/01/200801291305.npy'\n",
      "[Errno 2] No such file or directory: '/nobackup_1/users/schreurs/project_GAN/rtcor_heavy_rain_labels/2008/01/200801291335.npy'\n",
      "[Errno 2] No such file or directory: '/nobackup_1/users/schreurs/project_GAN/rtcor_heavy_rain_labels/2008/01/200801291405.npy'\n",
      "[Errno 2] No such file or directory: '/nobackup_1/users/schreurs/project_GAN/rtcor_heavy_rain_labels/2008/01/200801291435.npy'\n",
      "[Errno 2] No such file or directory: '/nobackup_1/users/schreurs/project_GAN/rtcor_heavy_rain_labels/2008/01/200801291505.npy'\n",
      "[Errno 2] No such file or directory: '/nobackup_1/users/schreurs/project_GAN/rtcor_heavy_rain_labels/2008/01/200801291535.npy'\n",
      "[Errno 2] No such file or directory: '/nobackup_1/users/schreurs/project_GAN/rtcor_heavy_rain_labels/2008/01/200801291605.npy'\n",
      "[Errno 2] No such file or directory: '/nobackup_1/users/schreurs/project_GAN/rtcor_heavy_rain_labels/2008/01/200801291635.npy'\n",
      "[Errno 2] No such file or directory: '/nobackup_1/users/schreurs/project_GAN/rtcor_heavy_rain_labels/2008/01/200801291705.npy'\n",
      "[Errno 2] No such file or directory: '/nobackup_1/users/schreurs/project_GAN/rtcor_heavy_rain_labels/2008/01/200801291735.npy'\n",
      "[Errno 2] No such file or directory: '/nobackup_1/users/schreurs/project_GAN/rtcor_heavy_rain_labels/2008/01/200801291805.npy'\n",
      "[Errno 2] No such file or directory: '/nobackup_1/users/schreurs/project_GAN/rtcor_heavy_rain_labels/2008/01/200801291835.npy'\n",
      "[Errno 2] No such file or directory: '/nobackup_1/users/schreurs/project_GAN/rtcor_heavy_rain_labels/2008/01/200801291905.npy'\n",
      "[Errno 2] No such file or directory: '/nobackup_1/users/schreurs/project_GAN/rtcor_heavy_rain_labels/2008/01/200801291935.npy'\n",
      "[Errno 2] No such file or directory: '/nobackup_1/users/schreurs/project_GAN/rtcor_heavy_rain_labels/2008/01/200801292005.npy'\n",
      "[Errno 2] No such file or directory: '/nobackup_1/users/schreurs/project_GAN/rtcor_heavy_rain_labels/2008/01/200801292035.npy'\n",
      "[Errno 2] No such file or directory: '/nobackup_1/users/schreurs/project_GAN/rtcor_heavy_rain_labels/2008/01/200801292105.npy'\n",
      "[Errno 2] No such file or directory: '/nobackup_1/users/schreurs/project_GAN/rtcor_heavy_rain_labels/2008/01/200801292135.npy'\n",
      "[Errno 2] No such file or directory: '/nobackup_1/users/schreurs/project_GAN/rtcor_heavy_rain_labels/2008/01/200801292205.npy'\n",
      "[Errno 2] No such file or directory: '/nobackup_1/users/schreurs/project_GAN/rtcor_heavy_rain_labels/2008/01/200801292235.npy'\n",
      "[Errno 2] No such file or directory: '/nobackup_1/users/schreurs/project_GAN/rtcor_heavy_rain_labels/2008/01/200801292305.npy'\n",
      "[Errno 2] No such file or directory: '/nobackup_1/users/schreurs/project_GAN/rtcor_heavy_rain_labels/2008/01/200801292335.npy'\n",
      "[Errno 2] No such file or directory: '/nobackup_1/users/schreurs/project_GAN/rtcor_heavy_rain_labels/2008/01/200801300005.npy'\n",
      "[Errno 2] No such file or directory: '/nobackup_1/users/schreurs/project_GAN/rtcor_heavy_rain_labels/2008/01/200801300035.npy'\n",
      "[Errno 2] No such file or directory: '/nobackup_1/users/schreurs/project_GAN/rtcor_heavy_rain_labels/2008/01/200801300105.npy'\n",
      "[Errno 2] No such file or directory: '/nobackup_1/users/schreurs/project_GAN/rtcor_heavy_rain_labels/2008/01/200801300135.npy'\n",
      "[Errno 2] No such file or directory: '/nobackup_1/users/schreurs/project_GAN/rtcor_heavy_rain_labels/2008/01/200801300205.npy'\n",
      "[Errno 2] No such file or directory: '/nobackup_1/users/schreurs/project_GAN/rtcor_heavy_rain_labels/2008/01/200801300235.npy'\n",
      "[Errno 2] No such file or directory: '/nobackup_1/users/schreurs/project_GAN/rtcor_heavy_rain_labels/2008/01/200801300305.npy'\n",
      "[Errno 2] No such file or directory: '/nobackup_1/users/schreurs/project_GAN/rtcor_heavy_rain_labels/2008/01/200801300335.npy'\n",
      "[Errno 2] No such file or directory: '/nobackup_1/users/schreurs/project_GAN/rtcor_heavy_rain_labels/2008/01/200801300405.npy'\n",
      "[Errno 2] No such file or directory: '/nobackup_1/users/schreurs/project_GAN/rtcor_heavy_rain_labels/2008/01/200801300435.npy'\n",
      "[Errno 2] No such file or directory: '/nobackup_1/users/schreurs/project_GAN/rtcor_heavy_rain_labels/2008/01/200801300505.npy'\n",
      "[Errno 2] No such file or directory: '/nobackup_1/users/schreurs/project_GAN/rtcor_heavy_rain_labels/2008/01/200801300535.npy'\n",
      "[Errno 2] No such file or directory: '/nobackup_1/users/schreurs/project_GAN/rtcor_heavy_rain_labels/2008/01/200801300605.npy'\n",
      "[Errno 2] No such file or directory: '/nobackup_1/users/schreurs/project_GAN/rtcor_heavy_rain_labels/2008/01/200801300635.npy'\n",
      "[Errno 2] No such file or directory: '/nobackup_1/users/schreurs/project_GAN/rtcor_heavy_rain_labels/2008/01/200801300705.npy'\n",
      "[Errno 2] No such file or directory: '/nobackup_1/users/schreurs/project_GAN/rtcor_heavy_rain_labels/2008/01/200801300735.npy'\n",
      "[Errno 2] No such file or directory: '/nobackup_1/users/schreurs/project_GAN/rtcor_heavy_rain_labels/2008/01/200801300805.npy'\n",
      "[Errno 2] No such file or directory: '/nobackup_1/users/schreurs/project_GAN/rtcor_heavy_rain_labels/2008/01/200801300835.npy'\n",
      "[Errno 2] No such file or directory: '/nobackup_1/users/schreurs/project_GAN/rtcor_heavy_rain_labels/2008/01/200801300905.npy'\n",
      "[Errno 2] No such file or directory: '/nobackup_1/users/schreurs/project_GAN/rtcor_heavy_rain_labels/2008/01/200801300935.npy'\n",
      "[Errno 2] No such file or directory: '/nobackup_1/users/schreurs/project_GAN/rtcor_heavy_rain_labels/2008/01/200801301005.npy'\n",
      "[Errno 2] No such file or directory: '/nobackup_1/users/schreurs/project_GAN/rtcor_heavy_rain_labels/2008/01/200801301035.npy'\n",
      "[Errno 2] No such file or directory: '/nobackup_1/users/schreurs/project_GAN/rtcor_heavy_rain_labels/2008/01/200801301105.npy'\n",
      "[Errno 2] No such file or directory: '/nobackup_1/users/schreurs/project_GAN/rtcor_heavy_rain_labels/2008/01/200801301135.npy'\n",
      "[Errno 2] No such file or directory: '/nobackup_1/users/schreurs/project_GAN/rtcor_heavy_rain_labels/2008/01/200801301205.npy'\n",
      "[Errno 2] No such file or directory: '/nobackup_1/users/schreurs/project_GAN/rtcor_heavy_rain_labels/2008/01/200801301235.npy'\n",
      "[Errno 2] No such file or directory: '/nobackup_1/users/schreurs/project_GAN/rtcor_heavy_rain_labels/2008/01/200801301305.npy'\n",
      "[Errno 2] No such file or directory: '/nobackup_1/users/schreurs/project_GAN/rtcor_heavy_rain_labels/2008/01/200801301335.npy'\n",
      "[Errno 2] No such file or directory: '/nobackup_1/users/schreurs/project_GAN/rtcor_heavy_rain_labels/2008/01/200801301405.npy'\n",
      "[Errno 2] No such file or directory: '/nobackup_1/users/schreurs/project_GAN/rtcor_heavy_rain_labels/2008/01/200801301435.npy'\n",
      "[Errno 2] No such file or directory: '/nobackup_1/users/schreurs/project_GAN/rtcor_heavy_rain_labels/2008/01/200801301505.npy'\n",
      "[Errno 2] No such file or directory: '/nobackup_1/users/schreurs/project_GAN/rtcor_heavy_rain_labels/2008/01/200801301535.npy'\n",
      "[Errno 2] No such file or directory: '/nobackup_1/users/schreurs/project_GAN/rtcor_heavy_rain_labels/2008/01/200801301605.npy'\n",
      "[Errno 2] No such file or directory: '/nobackup_1/users/schreurs/project_GAN/rtcor_heavy_rain_labels/2008/01/200801301635.npy'\n",
      "[Errno 2] No such file or directory: '/nobackup_1/users/schreurs/project_GAN/rtcor_heavy_rain_labels/2008/01/200801301705.npy'\n",
      "[Errno 2] No such file or directory: '/nobackup_1/users/schreurs/project_GAN/rtcor_heavy_rain_labels/2008/01/200801301735.npy'\n",
      "[Errno 2] No such file or directory: '/nobackup_1/users/schreurs/project_GAN/rtcor_heavy_rain_labels/2008/01/200801301805.npy'\n",
      "[Errno 2] No such file or directory: '/nobackup_1/users/schreurs/project_GAN/rtcor_heavy_rain_labels/2008/01/200801301835.npy'\n",
      "[Errno 2] No such file or directory: '/nobackup_1/users/schreurs/project_GAN/rtcor_heavy_rain_labels/2008/01/200801301905.npy'\n",
      "[Errno 2] No such file or directory: '/nobackup_1/users/schreurs/project_GAN/rtcor_heavy_rain_labels/2008/01/200801301935.npy'\n",
      "[Errno 2] No such file or directory: '/nobackup_1/users/schreurs/project_GAN/rtcor_heavy_rain_labels/2008/01/200801302005.npy'\n",
      "[Errno 2] No such file or directory: '/nobackup_1/users/schreurs/project_GAN/rtcor_heavy_rain_labels/2008/01/200801302035.npy'\n",
      "[Errno 2] No such file or directory: '/nobackup_1/users/schreurs/project_GAN/rtcor_heavy_rain_labels/2008/01/200801302105.npy'\n",
      "[Errno 2] No such file or directory: '/nobackup_1/users/schreurs/project_GAN/rtcor_heavy_rain_labels/2008/01/200801302135.npy'\n",
      "[Errno 2] No such file or directory: '/nobackup_1/users/schreurs/project_GAN/rtcor_heavy_rain_labels/2008/01/200801302205.npy'\n",
      "[Errno 2] No such file or directory: '/nobackup_1/users/schreurs/project_GAN/rtcor_heavy_rain_labels/2008/01/200801302235.npy'\n",
      "[Errno 2] No such file or directory: '/nobackup_1/users/schreurs/project_GAN/rtcor_heavy_rain_labels/2008/01/200801302305.npy'\n",
      "[Errno 2] No such file or directory: '/nobackup_1/users/schreurs/project_GAN/rtcor_heavy_rain_labels/2008/01/200801302335.npy'\n",
      "[Errno 2] No such file or directory: '/nobackup_1/users/schreurs/project_GAN/rtcor_heavy_rain_labels/2008/01/200801310005.npy'\n",
      "[Errno 2] No such file or directory: '/nobackup_1/users/schreurs/project_GAN/rtcor_heavy_rain_labels/2008/01/200801310035.npy'\n",
      "[Errno 2] No such file or directory: '/nobackup_1/users/schreurs/project_GAN/rtcor_heavy_rain_labels/2008/01/200801310105.npy'\n",
      "[Errno 2] No such file or directory: '/nobackup_1/users/schreurs/project_GAN/rtcor_heavy_rain_labels/2008/01/200801310135.npy'\n",
      "[Errno 2] No such file or directory: '/nobackup_1/users/schreurs/project_GAN/rtcor_heavy_rain_labels/2008/01/200801310205.npy'\n",
      "[Errno 2] No such file or directory: '/nobackup_1/users/schreurs/project_GAN/rtcor_heavy_rain_labels/2008/01/200801310235.npy'\n",
      "[Errno 2] No such file or directory: '/nobackup_1/users/schreurs/project_GAN/rtcor_heavy_rain_labels/2008/01/200801310305.npy'\n",
      "[Errno 2] No such file or directory: '/nobackup_1/users/schreurs/project_GAN/rtcor_heavy_rain_labels/2008/01/200801310335.npy'\n",
      "[Errno 2] No such file or directory: '/nobackup_1/users/schreurs/project_GAN/rtcor_heavy_rain_labels/2008/01/200801310405.npy'\n",
      "[Errno 2] No such file or directory: '/nobackup_1/users/schreurs/project_GAN/rtcor_heavy_rain_labels/2008/01/200801310435.npy'\n",
      "[Errno 2] No such file or directory: '/nobackup_1/users/schreurs/project_GAN/rtcor_heavy_rain_labels/2008/01/200801310505.npy'\n",
      "[Errno 2] No such file or directory: '/nobackup_1/users/schreurs/project_GAN/rtcor_heavy_rain_labels/2008/01/200801310535.npy'\n",
      "[Errno 2] No such file or directory: '/nobackup_1/users/schreurs/project_GAN/rtcor_heavy_rain_labels/2008/01/200801310605.npy'\n",
      "[Errno 2] No such file or directory: '/nobackup_1/users/schreurs/project_GAN/rtcor_heavy_rain_labels/2008/01/200801310635.npy'\n",
      "[Errno 2] No such file or directory: '/nobackup_1/users/schreurs/project_GAN/rtcor_heavy_rain_labels/2008/01/200801310705.npy'\n",
      "[Errno 2] No such file or directory: '/nobackup_1/users/schreurs/project_GAN/rtcor_heavy_rain_labels/2008/01/200801310735.npy'\n",
      "[Errno 2] No such file or directory: '/nobackup_1/users/schreurs/project_GAN/rtcor_heavy_rain_labels/2008/01/200801310805.npy'\n",
      "[Errno 2] No such file or directory: '/nobackup_1/users/schreurs/project_GAN/rtcor_heavy_rain_labels/2008/01/200801310835.npy'\n",
      "[Errno 2] No such file or directory: '/nobackup_1/users/schreurs/project_GAN/rtcor_heavy_rain_labels/2008/01/200801310905.npy'\n",
      "[Errno 2] No such file or directory: '/nobackup_1/users/schreurs/project_GAN/rtcor_heavy_rain_labels/2008/01/200801310935.npy'\n",
      "[Errno 2] No such file or directory: '/nobackup_1/users/schreurs/project_GAN/rtcor_heavy_rain_labels/2008/01/200801311005.npy'\n",
      "[Errno 2] No such file or directory: '/nobackup_1/users/schreurs/project_GAN/rtcor_heavy_rain_labels/2008/01/200801311035.npy'\n",
      "[Errno 2] No such file or directory: '/nobackup_1/users/schreurs/project_GAN/rtcor_heavy_rain_labels/2008/01/200801311105.npy'\n",
      "[Errno 2] No such file or directory: '/nobackup_1/users/schreurs/project_GAN/rtcor_heavy_rain_labels/2008/01/200801311135.npy'\n",
      "[Errno 2] No such file or directory: '/nobackup_1/users/schreurs/project_GAN/rtcor_heavy_rain_labels/2008/01/200801311205.npy'\n",
      "[Errno 2] No such file or directory: '/nobackup_1/users/schreurs/project_GAN/rtcor_heavy_rain_labels/2008/01/200801311235.npy'\n",
      "[Errno 2] No such file or directory: '/nobackup_1/users/schreurs/project_GAN/rtcor_heavy_rain_labels/2008/01/200801311305.npy'\n",
      "[Errno 2] No such file or directory: '/nobackup_1/users/schreurs/project_GAN/rtcor_heavy_rain_labels/2008/01/200801311335.npy'\n",
      "[Errno 2] No such file or directory: '/nobackup_1/users/schreurs/project_GAN/rtcor_heavy_rain_labels/2008/01/200801311405.npy'\n",
      "[Errno 2] No such file or directory: '/nobackup_1/users/schreurs/project_GAN/rtcor_heavy_rain_labels/2008/01/200801311435.npy'\n",
      "[Errno 2] No such file or directory: '/nobackup_1/users/schreurs/project_GAN/rtcor_heavy_rain_labels/2008/01/200801311505.npy'\n",
      "[Errno 2] No such file or directory: '/nobackup_1/users/schreurs/project_GAN/rtcor_heavy_rain_labels/2008/01/200801311535.npy'\n",
      "[Errno 2] No such file or directory: '/nobackup_1/users/schreurs/project_GAN/rtcor_heavy_rain_labels/2008/01/200801311605.npy'\n",
      "[Errno 2] No such file or directory: '/nobackup_1/users/schreurs/project_GAN/rtcor_heavy_rain_labels/2008/01/200801311635.npy'\n",
      "[Errno 2] No such file or directory: '/nobackup_1/users/schreurs/project_GAN/rtcor_heavy_rain_labels/2008/01/200801311705.npy'\n",
      "[Errno 2] No such file or directory: '/nobackup_1/users/schreurs/project_GAN/rtcor_heavy_rain_labels/2008/01/200801311735.npy'\n",
      "[Errno 2] No such file or directory: '/nobackup_1/users/schreurs/project_GAN/rtcor_heavy_rain_labels/2008/01/200801311805.npy'\n",
      "[Errno 2] No such file or directory: '/nobackup_1/users/schreurs/project_GAN/rtcor_heavy_rain_labels/2008/01/200801311835.npy'\n",
      "[Errno 2] No such file or directory: '/nobackup_1/users/schreurs/project_GAN/rtcor_heavy_rain_labels/2008/01/200801311905.npy'\n",
      "[Errno 2] No such file or directory: '/nobackup_1/users/schreurs/project_GAN/rtcor_heavy_rain_labels/2008/01/200801311935.npy'\n",
      "[Errno 2] No such file or directory: '/nobackup_1/users/schreurs/project_GAN/rtcor_heavy_rain_labels/2008/01/200801312005.npy'\n",
      "[Errno 2] No such file or directory: '/nobackup_1/users/schreurs/project_GAN/rtcor_heavy_rain_labels/2008/01/200801312035.npy'\n",
      "[Errno 2] No such file or directory: '/nobackup_1/users/schreurs/project_GAN/rtcor_heavy_rain_labels/2008/01/200801312105.npy'\n",
      "[Errno 2] No such file or directory: '/nobackup_1/users/schreurs/project_GAN/rtcor_heavy_rain_labels/2008/01/200801312135.npy'\n",
      "[Errno 2] No such file or directory: '/nobackup_1/users/schreurs/project_GAN/rtcor_heavy_rain_labels/2008/01/200801312205.npy'\n",
      "[Errno 2] No such file or directory: '/nobackup_1/users/schreurs/project_GAN/rtcor_heavy_rain_labels/2008/01/200801312235.npy'\n"
     ]
    },
    {
     "ename": "IndexError",
     "evalue": "list index out of range",
     "output_type": "error",
     "traceback": [
      "\u001b[0;31m---------------------------------------------------------------------------\u001b[0m",
      "\u001b[0;31mIndexError\u001b[0m                                Traceback (most recent call last)",
      "\u001b[0;32m<ipython-input-3-18c0bcf92c62>\u001b[0m in \u001b[0;36m<module>\u001b[0;34m\u001b[0m\n\u001b[1;32m      6\u001b[0m \u001b[0;34m\u001b[0m\u001b[0m\n\u001b[1;32m      7\u001b[0m \u001b[0mlist_IDs\u001b[0m \u001b[0;34m=\u001b[0m \u001b[0mget_list_IDs\u001b[0m\u001b[0;34m(\u001b[0m\u001b[0mstart_dt\u001b[0m\u001b[0;34m,\u001b[0m \u001b[0mend_dt\u001b[0m\u001b[0;34m,\u001b[0m \u001b[0mx_seq_size\u001b[0m\u001b[0;34m=\u001b[0m\u001b[0;36m6\u001b[0m\u001b[0;34m,\u001b[0m \u001b[0my_seq_size\u001b[0m\u001b[0;34m=\u001b[0m\u001b[0;36m3\u001b[0m\u001b[0;34m,\u001b[0m \u001b[0mfilter_no_rain\u001b[0m\u001b[0;34m=\u001b[0m\u001b[0;34m'avg0.01mm'\u001b[0m\u001b[0;34m,\u001b[0m \u001b[0my_interval\u001b[0m\u001b[0;34m=\u001b[0m\u001b[0;36m30\u001b[0m\u001b[0;34m)\u001b[0m\u001b[0;34m\u001b[0m\u001b[0;34m\u001b[0m\u001b[0m\n\u001b[0;32m----> 8\u001b[0;31m \u001b[0mprint\u001b[0m\u001b[0;34m(\u001b[0m\u001b[0mlist_IDs\u001b[0m\u001b[0;34m[\u001b[0m\u001b[0;34m-\u001b[0m\u001b[0;36m1\u001b[0m\u001b[0;34m]\u001b[0m\u001b[0;34m)\u001b[0m\u001b[0;34m\u001b[0m\u001b[0;34m\u001b[0m\u001b[0m\n\u001b[0m\u001b[1;32m      9\u001b[0m \u001b[0mprint\u001b[0m\u001b[0;34m(\u001b[0m\u001b[0mlen\u001b[0m\u001b[0;34m(\u001b[0m\u001b[0mlist_IDs\u001b[0m\u001b[0;34m)\u001b[0m\u001b[0;34m)\u001b[0m\u001b[0;34m\u001b[0m\u001b[0;34m\u001b[0m\u001b[0m\n",
      "\u001b[0;31mIndexError\u001b[0m: list index out of range"
     ]
    }
   ],
   "source": [
    "from batchcreator import get_list_IDs\n",
    "\n",
    "# for testing preprocess some more files with different y interval setttings\n",
    "start_dt = datetime(2008,1,1,0,0)\n",
    "end_dt =  datetime(2008,2,1,0,0)\n",
    "\n",
    "list_IDs = get_list_IDs(start_dt, end_dt, x_seq_size=6, y_seq_size=3, filter_no_rain='avg0.01mm', y_interval=30)\n",
    "print(list_IDs[-1])\n",
    "print(len(list_IDs))"
   ]
  },
  {
   "cell_type": "code",
   "execution_count": 28,
   "metadata": {},
   "outputs": [
    {
     "name": "stderr",
     "output_type": "stream",
     "text": [
      "\r",
      "  0%|          | 0/904 [00:00<?, ?it/s]"
     ]
    },
    {
     "name": "stdout",
     "output_type": "stream",
     "text": [
      "904\n"
     ]
    },
    {
     "name": "stderr",
     "output_type": "stream",
     "text": [
      " 12%|█▏        | 109/904 [00:01<00:05, 151.01it/s]"
     ]
    },
    {
     "name": "stdout",
     "output_type": "stream",
     "text": [
      "/nobackup_1/users/schreurs/project_GAN/dataset_rtcor2/2019/03/RAD_NL25_RAC_5M_201903070435.h5\n",
      "/nobackup_1/users/schreurs/project_GAN/dataset_rtcor2/2019/03/RAD_NL25_RAC_5M_201903070440.h5\n",
      "/nobackup_1/users/schreurs/project_GAN/dataset_rtcor2/2019/03/RAD_NL25_RAC_5M_201903070445.h5\n",
      "/nobackup_1/users/schreurs/project_GAN/dataset_rtcor2/2019/03/RAD_NL25_RAC_5M_201903070450.h5\n",
      "/nobackup_1/users/schreurs/project_GAN/dataset_rtcor2/2019/03/RAD_NL25_RAC_5M_201903070455.h5\n",
      "/nobackup_1/users/schreurs/project_GAN/dataset_rtcor2/2019/03/RAD_NL25_RAC_5M_201903070500.h5\n",
      "/nobackup_1/users/schreurs/project_GAN/dataset_rtcor2/2019/03/RAD_NL25_RAC_5M_201903070530.h5\n",
      "/nobackup_1/users/schreurs/project_GAN/dataset_rtcor2/2019/03/RAD_NL25_RAC_5M_201903070600.h5\n",
      "/nobackup_1/users/schreurs/project_GAN/dataset_rtcor2/2019/03/RAD_NL25_RAC_5M_201903070630.h5\n",
      "/nobackup_1/users/schreurs/project_GAN/dataset_rtcor2/2019/03/RAD_NL25_RAC_5M_201903070505.h5\n",
      "/nobackup_1/users/schreurs/project_GAN/dataset_rtcor2/2019/03/RAD_NL25_RAC_5M_201903070510.h5\n",
      "/nobackup_1/users/schreurs/project_GAN/dataset_rtcor2/2019/03/RAD_NL25_RAC_5M_201903070515.h5\n",
      "/nobackup_1/users/schreurs/project_GAN/dataset_rtcor2/2019/03/RAD_NL25_RAC_5M_201903070520.h5\n",
      "/nobackup_1/users/schreurs/project_GAN/dataset_rtcor2/2019/03/RAD_NL25_RAC_5M_201903070525.h5\n",
      "/nobackup_1/users/schreurs/project_GAN/dataset_rtcor2/2019/03/RAD_NL25_RAC_5M_201903070530.h5\n",
      "/nobackup_1/users/schreurs/project_GAN/dataset_rtcor2/2019/03/RAD_NL25_RAC_5M_201903070600.h5\n",
      "/nobackup_1/users/schreurs/project_GAN/dataset_rtcor2/2019/03/RAD_NL25_RAC_5M_201903070630.h5\n",
      "/nobackup_1/users/schreurs/project_GAN/dataset_rtcor2/2019/03/RAD_NL25_RAC_5M_201903070700.h5\n",
      "/nobackup_1/users/schreurs/project_GAN/dataset_rtcor2/2019/03/RAD_NL25_RAC_5M_201903070535.h5\n",
      "/nobackup_1/users/schreurs/project_GAN/dataset_rtcor2/2019/03/RAD_NL25_RAC_5M_201903070540.h5\n",
      "/nobackup_1/users/schreurs/project_GAN/dataset_rtcor2/2019/03/RAD_NL25_RAC_5M_201903070545.h5\n",
      "/nobackup_1/users/schreurs/project_GAN/dataset_rtcor2/2019/03/RAD_NL25_RAC_5M_201903070550.h5\n",
      "/nobackup_1/users/schreurs/project_GAN/dataset_rtcor2/2019/03/RAD_NL25_RAC_5M_201903070555.h5\n",
      "/nobackup_1/users/schreurs/project_GAN/dataset_rtcor2/2019/03/RAD_NL25_RAC_5M_201903070600.h5\n",
      "/nobackup_1/users/schreurs/project_GAN/dataset_rtcor2/2019/03/RAD_NL25_RAC_5M_201903070630.h5\n",
      "/nobackup_1/users/schreurs/project_GAN/dataset_rtcor2/2019/03/RAD_NL25_RAC_5M_201903070700.h5\n",
      "/nobackup_1/users/schreurs/project_GAN/dataset_rtcor2/2019/03/RAD_NL25_RAC_5M_201903070730.h5\n",
      "/nobackup_1/users/schreurs/project_GAN/dataset_rtcor2/2019/03/RAD_NL25_RAC_5M_201903070605.h5\n",
      "/nobackup_1/users/schreurs/project_GAN/dataset_rtcor2/2019/03/RAD_NL25_RAC_5M_201903070610.h5\n",
      "/nobackup_1/users/schreurs/project_GAN/dataset_rtcor2/2019/03/RAD_NL25_RAC_5M_201903070615.h5\n",
      "/nobackup_1/users/schreurs/project_GAN/dataset_rtcor2/2019/03/RAD_NL25_RAC_5M_201903070620.h5\n",
      "/nobackup_1/users/schreurs/project_GAN/dataset_rtcor2/2019/03/RAD_NL25_RAC_5M_201903070625.h5\n",
      "/nobackup_1/users/schreurs/project_GAN/dataset_rtcor2/2019/03/RAD_NL25_RAC_5M_201903070630.h5\n",
      "/nobackup_1/users/schreurs/project_GAN/dataset_rtcor2/2019/03/RAD_NL25_RAC_5M_201903070700.h5\n",
      "/nobackup_1/users/schreurs/project_GAN/dataset_rtcor2/2019/03/RAD_NL25_RAC_5M_201903070730.h5\n",
      "/nobackup_1/users/schreurs/project_GAN/dataset_rtcor2/2019/03/RAD_NL25_RAC_5M_201903070800.h5\n",
      "/nobackup_1/users/schreurs/project_GAN/dataset_rtcor2/2019/03/RAD_NL25_RAC_5M_201903070635.h5\n",
      "/nobackup_1/users/schreurs/project_GAN/dataset_rtcor2/2019/03/RAD_NL25_RAC_5M_201903070640.h5\n",
      "/nobackup_1/users/schreurs/project_GAN/dataset_rtcor2/2019/03/RAD_NL25_RAC_5M_201903070645.h5\n",
      "/nobackup_1/users/schreurs/project_GAN/dataset_rtcor2/2019/03/RAD_NL25_RAC_5M_201903070650.h5\n",
      "/nobackup_1/users/schreurs/project_GAN/dataset_rtcor2/2019/03/RAD_NL25_RAC_5M_201903070655.h5\n",
      "/nobackup_1/users/schreurs/project_GAN/dataset_rtcor2/2019/03/RAD_NL25_RAC_5M_201903070700.h5\n",
      "/nobackup_1/users/schreurs/project_GAN/dataset_rtcor2/2019/03/RAD_NL25_RAC_5M_201903070730.h5\n",
      "/nobackup_1/users/schreurs/project_GAN/dataset_rtcor2/2019/03/RAD_NL25_RAC_5M_201903070800.h5\n",
      "/nobackup_1/users/schreurs/project_GAN/dataset_rtcor2/2019/03/RAD_NL25_RAC_5M_201903070830.h5\n",
      "/nobackup_1/users/schreurs/project_GAN/dataset_rtcor2/2019/03/RAD_NL25_RAC_5M_201903070705.h5\n",
      "/nobackup_1/users/schreurs/project_GAN/dataset_rtcor2/2019/03/RAD_NL25_RAC_5M_201903070710.h5\n",
      "/nobackup_1/users/schreurs/project_GAN/dataset_rtcor2/2019/03/RAD_NL25_RAC_5M_201903070715.h5\n",
      "/nobackup_1/users/schreurs/project_GAN/dataset_rtcor2/2019/03/RAD_NL25_RAC_5M_201903070720.h5\n",
      "/nobackup_1/users/schreurs/project_GAN/dataset_rtcor2/2019/03/RAD_NL25_RAC_5M_201903070725.h5\n",
      "/nobackup_1/users/schreurs/project_GAN/dataset_rtcor2/2019/03/RAD_NL25_RAC_5M_201903070730.h5\n",
      "/nobackup_1/users/schreurs/project_GAN/dataset_rtcor2/2019/03/RAD_NL25_RAC_5M_201903070800.h5\n",
      "/nobackup_1/users/schreurs/project_GAN/dataset_rtcor2/2019/03/RAD_NL25_RAC_5M_201903070830.h5\n",
      "/nobackup_1/users/schreurs/project_GAN/dataset_rtcor2/2019/03/RAD_NL25_RAC_5M_201903070900.h5\n",
      "/nobackup_1/users/schreurs/project_GAN/dataset_rtcor2/2019/03/RAD_NL25_RAC_5M_201903070735.h5\n",
      "/nobackup_1/users/schreurs/project_GAN/dataset_rtcor2/2019/03/RAD_NL25_RAC_5M_201903070740.h5\n",
      "/nobackup_1/users/schreurs/project_GAN/dataset_rtcor2/2019/03/RAD_NL25_RAC_5M_201903070745.h5\n",
      "/nobackup_1/users/schreurs/project_GAN/dataset_rtcor2/2019/03/RAD_NL25_RAC_5M_201903070750.h5\n",
      "/nobackup_1/users/schreurs/project_GAN/dataset_rtcor2/2019/03/RAD_NL25_RAC_5M_201903070755.h5\n",
      "/nobackup_1/users/schreurs/project_GAN/dataset_rtcor2/2019/03/RAD_NL25_RAC_5M_201903070800.h5\n",
      "/nobackup_1/users/schreurs/project_GAN/dataset_rtcor2/2019/03/RAD_NL25_RAC_5M_201903070830.h5\n",
      "/nobackup_1/users/schreurs/project_GAN/dataset_rtcor2/2019/03/RAD_NL25_RAC_5M_201903070900.h5\n",
      "/nobackup_1/users/schreurs/project_GAN/dataset_rtcor2/2019/03/RAD_NL25_RAC_5M_201903070930.h5\n",
      "/nobackup_1/users/schreurs/project_GAN/dataset_rtcor2/2019/03/RAD_NL25_RAC_5M_201903070805.h5\n",
      "/nobackup_1/users/schreurs/project_GAN/dataset_rtcor2/2019/03/RAD_NL25_RAC_5M_201903070810.h5\n",
      "/nobackup_1/users/schreurs/project_GAN/dataset_rtcor2/2019/03/RAD_NL25_RAC_5M_201903070815.h5\n",
      "/nobackup_1/users/schreurs/project_GAN/dataset_rtcor2/2019/03/RAD_NL25_RAC_5M_201903070820.h5\n",
      "/nobackup_1/users/schreurs/project_GAN/dataset_rtcor2/2019/03/RAD_NL25_RAC_5M_201903070825.h5\n",
      "/nobackup_1/users/schreurs/project_GAN/dataset_rtcor2/2019/03/RAD_NL25_RAC_5M_201903070830.h5\n",
      "/nobackup_1/users/schreurs/project_GAN/dataset_rtcor2/2019/03/RAD_NL25_RAC_5M_201903070900.h5\n",
      "/nobackup_1/users/schreurs/project_GAN/dataset_rtcor2/2019/03/RAD_NL25_RAC_5M_201903070930.h5\n",
      "/nobackup_1/users/schreurs/project_GAN/dataset_rtcor2/2019/03/RAD_NL25_RAC_5M_201903071000.h5\n",
      "/nobackup_1/users/schreurs/project_GAN/dataset_rtcor2/2019/03/RAD_NL25_RAC_5M_201903070835.h5\n",
      "/nobackup_1/users/schreurs/project_GAN/dataset_rtcor2/2019/03/RAD_NL25_RAC_5M_201903070840.h5\n",
      "/nobackup_1/users/schreurs/project_GAN/dataset_rtcor2/2019/03/RAD_NL25_RAC_5M_201903070845.h5\n",
      "/nobackup_1/users/schreurs/project_GAN/dataset_rtcor2/2019/03/RAD_NL25_RAC_5M_201903070850.h5\n",
      "/nobackup_1/users/schreurs/project_GAN/dataset_rtcor2/2019/03/RAD_NL25_RAC_5M_201903070855.h5\n",
      "/nobackup_1/users/schreurs/project_GAN/dataset_rtcor2/2019/03/RAD_NL25_RAC_5M_201903070900.h5\n",
      "/nobackup_1/users/schreurs/project_GAN/dataset_rtcor2/2019/03/RAD_NL25_RAC_5M_201903070930.h5\n",
      "/nobackup_1/users/schreurs/project_GAN/dataset_rtcor2/2019/03/RAD_NL25_RAC_5M_201903071000.h5\n",
      "/nobackup_1/users/schreurs/project_GAN/dataset_rtcor2/2019/03/RAD_NL25_RAC_5M_201903071030.h5\n"
     ]
    },
    {
     "name": "stderr",
     "output_type": "stream",
     "text": [
      "\r",
      " 16%|█▌        | 146/904 [00:01<00:03, 203.07it/s]"
     ]
    },
    {
     "name": "stdout",
     "output_type": "stream",
     "text": [
      "/nobackup_1/users/schreurs/project_GAN/dataset_rtcor2/2019/04/RAD_NL25_RAC_5M_201904242050.h5\n"
     ]
    },
    {
     "name": "stderr",
     "output_type": "stream",
     "text": [
      "100%|██████████| 904/904 [00:04<00:00, 184.47it/s]"
     ]
    },
    {
     "name": "stdout",
     "output_type": "stream",
     "text": [
      "894\n"
     ]
    },
    {
     "name": "stderr",
     "output_type": "stream",
     "text": [
      "\n"
     ]
    }
   ],
   "source": [
    "import os\n",
    "import config as conf\n",
    "list_IDs2 = []\n",
    "print(len(list_IDs))\n",
    "for io in tqdm(list_IDs):\n",
    "    add = True\n",
    "    for fs in io:\n",
    "        for f in fs:\n",
    "            year = f[:4]\n",
    "            month = f[4:6]\n",
    "            ts = f\n",
    "            f_path = conf.dir_rtcor + '{Y}/{m}/{prefix}{ts}.h5'.format(Y=year, m=month, ts=ts, prefix=conf.prefix_rtcor)\n",
    "\n",
    "            if not os.path.isfile(f_path):\n",
    "                print(f_path)\n",
    "                add = False\n",
    "    if add:\n",
    "        list_IDs2.append(io)\n",
    "\n",
    "print(len(list_IDs2))"
   ]
  },
  {
   "cell_type": "code",
   "execution_count": 29,
   "metadata": {},
   "outputs": [],
   "source": [
    "np.save('val2019_3y_30m', list_IDs2)"
   ]
  },
  {
   "cell_type": "markdown",
   "metadata": {},
   "source": [
    "## TODO: Pack data into sequences\n",
    "\n",
    "Instead of storing 1 timestamp in 1 file, store a sequence of radarscans into 1 file. This will make loading the training data easier as the sequence of radarscans does not have to be made at runtime. These packages of sequences can later be linked with the target data.\n",
    "\n",
    "First the radar scans are packed into sequences of 30 minutes (6 radarscans long). These can then be matched with the Aarts target data of 30 minutes ahead. This would mean that there are 288/6 = 48 sequences in a day(/folder)\n",
    "\n",
    "TODO: This code was written for the wrong version of the dataset (recor). Still have to convert this to rtcor"
   ]
  },
  {
   "cell_type": "code",
   "execution_count": null,
   "metadata": {},
   "outputs": [],
   "source": [
    "from os import listdir\n",
    "from os.path import isfile, join"
   ]
  },
  {
   "cell_type": "code",
   "execution_count": 17,
   "metadata": {},
   "outputs": [],
   "source": [
    "np_dir = '/nobackup/users/schreurs/project_GAN/dataset_radar_np/'\n",
    "dir_30m = '/nobackup/users/schreurs/project_GAN/dataset_radar_np_30m/'"
   ]
  },
  {
   "cell_type": "code",
   "execution_count": 30,
   "metadata": {},
   "outputs": [],
   "source": [
    "files = sorted([f for f in os.listdir(np_dir) if os.path.isfile(os.path.join(np_dir, f))\n",
    "              and f.startswith('2019')])"
   ]
  },
  {
   "cell_type": "code",
   "execution_count": 29,
   "metadata": {},
   "outputs": [
    {
     "data": {
      "text/plain": [
       "['201901010000.npy',\n",
       " '201901010005.npy',\n",
       " '201901010010.npy',\n",
       " '201901010015.npy',\n",
       " '201901010020.npy']"
      ]
     },
     "execution_count": 29,
     "metadata": {},
     "output_type": "execute_result"
    }
   ],
   "source": [
    "files[:5]"
   ]
  },
  {
   "cell_type": "code",
   "execution_count": 2,
   "metadata": {},
   "outputs": [],
   "source": [
    "def preprocess_into_sequences(in_dir, out_dir, n=6, year=2019):\n",
    "    '''\n",
    "    Preprocess the numpy files into sequences. \n",
    "    n is the length of the input sequence, default is 6 images (with interval of 5 resulting in 30 minutes)\n",
    "    '''\n",
    "    # Create directory if it does not exist\n",
    "    if not os.path.exists(out_dir):\n",
    "        os.makedirs(out_dir)\n",
    "    \n",
    "    files = sorted([f for f in os.listdir(np_dir) if os.path.isfile(os.path.join(np_dir, f))\n",
    "                  and f.startswith(year)])\n",
    "    \n",
    "    regex_file = re.compile('(\\d{12})\\.h5')\n",
    "    # Each folder corresponds to a day\n",
    "    for folder in tqdm(files[:100]):\n",
    "        day_dir = in_dir + '/' \n",
    "        print(day_dir)\n",
    "        # A new file each 5 minutes: 288 files in a day\n",
    "        files = sorted([f for f in os.listdir(day_dir) if os.path.isfile(os.path.join(day_dir, f))])\n",
    "        \n",
    "        if len(files) != 288:\n",
    "            print('Day {} has {} radar scans instead of 288'.format(folder, len(files)))\n",
    "        for i in range(0,len(files)-n, n+1):\n",
    "            sequence_i = files[i:i+n]\n",
    "            \n",
    "            sequence = []\n",
    "            date_prev = None\n",
    "\n",
    "            sequence_name = files[i].replace('.npy', 'seq{}m'.format(5*n))\n",
    "            for file in sequence_i:\n",
    "                file_path = day_dir + file\n",
    "                timestamp, image = np.load(file_path, allow_pickle=True)\n",
    "                \n",
    "                if date_prev:\n",
    "                    # check if interval is 5 \n",
    "                    date_current = datetime.datetime.strptime(str(a), '%Y%m%d%H%M')\n",
    "                    interval = int((date_current-date_prev).seconds / 60) \n",
    "        \n",
    "                    if interval != 5:\n",
    "                        print(date_current, date_prev, interval)\n",
    "                    date_prev = date_current\n",
    "                sequence.append(image)\n",
    "            sequence = np.array(sequence)\n",
    "            #np.save(out_dir+sequence_name, sequence)"
   ]
  },
  {
   "cell_type": "code",
   "execution_count": 155,
   "metadata": {},
   "outputs": [
    {
     "name": "stderr",
     "output_type": "stream",
     "text": [
      "\r",
      "  0%|          | 0/100 [00:00<?, ?it/s]"
     ]
    },
    {
     "name": "stdout",
     "output_type": "stream",
     "text": [
      "/nobackup/users/schreurs/project_GAN/dataset_np/201812170755_201812180800/\n",
      "Day 201812170755_201812180800 has 259 radar scans instead of 288\n",
      "/nobackup/users/schreurs/project_GAN/dataset_np/201812180755_201812190800/\n",
      "Day 201812180755_201812190800 has 547 radar scans instead of 288\n"
     ]
    },
    {
     "name": "stderr",
     "output_type": "stream",
     "text": [
      "\r",
      "  2%|▏         | 2/100 [00:06<05:19,  3.26s/it]"
     ]
    },
    {
     "name": "stdout",
     "output_type": "stream",
     "text": [
      "/nobackup/users/schreurs/project_GAN/dataset_np/201812190755_201812200800/\n",
      "Day 201812190755_201812200800 has 488 radar scans instead of 288\n"
     ]
    },
    {
     "name": "stderr",
     "output_type": "stream",
     "text": [
      "\r",
      "  3%|▎         | 3/100 [00:12<06:57,  4.30s/it]"
     ]
    },
    {
     "name": "stdout",
     "output_type": "stream",
     "text": [
      "/nobackup/users/schreurs/project_GAN/dataset_np/201812200755_201812210800/\n",
      "Day 201812200755_201812210800 has 285 radar scans instead of 288\n"
     ]
    },
    {
     "name": "stderr",
     "output_type": "stream",
     "text": [
      "\r",
      "  4%|▍         | 4/100 [00:15<06:15,  3.91s/it]"
     ]
    },
    {
     "name": "stdout",
     "output_type": "stream",
     "text": [
      "/nobackup/users/schreurs/project_GAN/dataset_np/201812210755_201812220800/\n",
      "Day 201812210755_201812220800 has 277 radar scans instead of 288\n"
     ]
    },
    {
     "name": "stderr",
     "output_type": "stream",
     "text": [
      "\r",
      "  5%|▌         | 5/100 [00:18<05:52,  3.71s/it]"
     ]
    },
    {
     "name": "stdout",
     "output_type": "stream",
     "text": [
      "/nobackup/users/schreurs/project_GAN/dataset_np/20181221T075500_20181222T080000/\n",
      "Day 20181221T075500_20181222T080000 has 277 radar scans instead of 288\n"
     ]
    },
    {
     "name": "stderr",
     "output_type": "stream",
     "text": [
      "\r",
      "  6%|▌         | 6/100 [00:22<05:38,  3.60s/it]"
     ]
    },
    {
     "name": "stdout",
     "output_type": "stream",
     "text": [
      "/nobackup/users/schreurs/project_GAN/dataset_np/20181222T080500_20181223T080000/\n",
      "Day 20181222T080500_20181223T080000 has 286 radar scans instead of 288\n"
     ]
    },
    {
     "name": "stderr",
     "output_type": "stream",
     "text": [
      "\r",
      "  7%|▋         | 7/100 [00:25<05:30,  3.55s/it]"
     ]
    },
    {
     "name": "stdout",
     "output_type": "stream",
     "text": [
      "/nobackup/users/schreurs/project_GAN/dataset_np/20181223T080500_20181224T080000/\n",
      "Day 20181223T080500_20181224T080000 has 287 radar scans instead of 288\n"
     ]
    },
    {
     "name": "stderr",
     "output_type": "stream",
     "text": [
      "\r",
      "  8%|▊         | 8/100 [00:29<05:24,  3.52s/it]"
     ]
    },
    {
     "name": "stdout",
     "output_type": "stream",
     "text": [
      "/nobackup/users/schreurs/project_GAN/dataset_np/20181224T080500_20181225T080000/\n",
      "Day 20181224T080500_20181225T080000 has 286 radar scans instead of 288\n"
     ]
    },
    {
     "name": "stderr",
     "output_type": "stream",
     "text": [
      "\r",
      "  9%|▉         | 9/100 [00:32<05:14,  3.46s/it]"
     ]
    },
    {
     "name": "stdout",
     "output_type": "stream",
     "text": [
      "/nobackup/users/schreurs/project_GAN/dataset_np/20181225T080500_20181226T080000/\n",
      "Day 20181225T080500_20181226T080000 has 283 radar scans instead of 288\n"
     ]
    },
    {
     "name": "stderr",
     "output_type": "stream",
     "text": [
      "\r",
      " 10%|█         | 10/100 [00:35<05:07,  3.42s/it]"
     ]
    },
    {
     "name": "stdout",
     "output_type": "stream",
     "text": [
      "/nobackup/users/schreurs/project_GAN/dataset_np/20181226T080500_20181227T080000/\n",
      "Day 20181226T080500_20181227T080000 has 285 radar scans instead of 288\n"
     ]
    },
    {
     "name": "stderr",
     "output_type": "stream",
     "text": [
      "\r",
      " 11%|█         | 11/100 [00:39<05:03,  3.41s/it]"
     ]
    },
    {
     "name": "stdout",
     "output_type": "stream",
     "text": [
      "/nobackup/users/schreurs/project_GAN/dataset_np/20181227T080500_20181228T080000/\n",
      "Day 20181227T080500_20181228T080000 has 280 radar scans instead of 288\n"
     ]
    },
    {
     "name": "stderr",
     "output_type": "stream",
     "text": [
      "\r",
      " 12%|█▏        | 12/100 [00:42<04:59,  3.40s/it]"
     ]
    },
    {
     "name": "stdout",
     "output_type": "stream",
     "text": [
      "/nobackup/users/schreurs/project_GAN/dataset_np/20181228T080500_20181229T080000/\n",
      "Day 20181228T080500_20181229T080000 has 287 radar scans instead of 288\n"
     ]
    },
    {
     "name": "stderr",
     "output_type": "stream",
     "text": [
      "\r",
      " 13%|█▎        | 13/100 [00:46<04:58,  3.44s/it]"
     ]
    },
    {
     "name": "stdout",
     "output_type": "stream",
     "text": [
      "/nobackup/users/schreurs/project_GAN/dataset_np/20181229T080500_20181230T080000/\n",
      "Day 20181229T080500_20181230T080000 has 283 radar scans instead of 288\n"
     ]
    },
    {
     "name": "stderr",
     "output_type": "stream",
     "text": [
      "\r",
      " 14%|█▍        | 14/100 [00:49<04:55,  3.44s/it]"
     ]
    },
    {
     "name": "stdout",
     "output_type": "stream",
     "text": [
      "/nobackup/users/schreurs/project_GAN/dataset_np/20181230T080500_20181231T080000/\n",
      "Day 20181230T080500_20181231T080000 has 285 radar scans instead of 288\n"
     ]
    },
    {
     "name": "stderr",
     "output_type": "stream",
     "text": [
      "\r",
      " 15%|█▌        | 15/100 [00:52<04:50,  3.42s/it]"
     ]
    },
    {
     "name": "stdout",
     "output_type": "stream",
     "text": [
      "/nobackup/users/schreurs/project_GAN/dataset_np/20181231T080500_20190101T080000/\n",
      "Day 20181231T080500_20190101T080000 has 286 radar scans instead of 288\n"
     ]
    },
    {
     "name": "stderr",
     "output_type": "stream",
     "text": [
      "\r",
      " 16%|█▌        | 16/100 [00:56<04:48,  3.43s/it]"
     ]
    },
    {
     "name": "stdout",
     "output_type": "stream",
     "text": [
      "/nobackup/users/schreurs/project_GAN/dataset_np/20190101T080500_20190102T080000/\n",
      "Day 20190101T080500_20190102T080000 has 286 radar scans instead of 288\n"
     ]
    },
    {
     "name": "stderr",
     "output_type": "stream",
     "text": [
      "\r",
      " 17%|█▋        | 17/100 [00:59<04:43,  3.42s/it]"
     ]
    },
    {
     "name": "stdout",
     "output_type": "stream",
     "text": [
      "/nobackup/users/schreurs/project_GAN/dataset_np/20190102T080500_20190103T080000/\n",
      "Day 20190102T080500_20190103T080000 has 285 radar scans instead of 288\n"
     ]
    },
    {
     "name": "stderr",
     "output_type": "stream",
     "text": [
      "\r",
      " 18%|█▊        | 18/100 [01:03<04:38,  3.40s/it]"
     ]
    },
    {
     "name": "stdout",
     "output_type": "stream",
     "text": [
      "/nobackup/users/schreurs/project_GAN/dataset_np/20190103T080500_20190104T080000/\n",
      "Day 20190103T080500_20190104T080000 has 285 radar scans instead of 288\n"
     ]
    },
    {
     "name": "stderr",
     "output_type": "stream",
     "text": [
      "\r",
      " 19%|█▉        | 19/100 [01:06<04:29,  3.33s/it]"
     ]
    },
    {
     "name": "stdout",
     "output_type": "stream",
     "text": [
      "/nobackup/users/schreurs/project_GAN/dataset_np/20190104T080500_20190105T080000/\n",
      "Day 20190104T080500_20190105T080000 has 287 radar scans instead of 288\n"
     ]
    },
    {
     "name": "stderr",
     "output_type": "stream",
     "text": [
      "\r",
      " 20%|██        | 20/100 [01:09<04:30,  3.38s/it]"
     ]
    },
    {
     "name": "stdout",
     "output_type": "stream",
     "text": [
      "/nobackup/users/schreurs/project_GAN/dataset_np/20190105T080500_20190106T080000/\n"
     ]
    },
    {
     "name": "stderr",
     "output_type": "stream",
     "text": [
      "\r",
      " 21%|██        | 21/100 [01:13<04:29,  3.41s/it]"
     ]
    },
    {
     "name": "stdout",
     "output_type": "stream",
     "text": [
      "/nobackup/users/schreurs/project_GAN/dataset_np/20190106T080500_20190107T080000/\n"
     ]
    },
    {
     "name": "stderr",
     "output_type": "stream",
     "text": [
      "\r",
      " 22%|██▏       | 22/100 [01:16<04:25,  3.41s/it]"
     ]
    },
    {
     "name": "stdout",
     "output_type": "stream",
     "text": [
      "/nobackup/users/schreurs/project_GAN/dataset_np/20190107T080500_20190108T080000/\n",
      "Day 20190107T080500_20190108T080000 has 287 radar scans instead of 288\n"
     ]
    },
    {
     "name": "stderr",
     "output_type": "stream",
     "text": [
      "\r",
      " 23%|██▎       | 23/100 [01:20<04:22,  3.40s/it]"
     ]
    },
    {
     "name": "stdout",
     "output_type": "stream",
     "text": [
      "/nobackup/users/schreurs/project_GAN/dataset_np/20190108T080500_20190109T080000/\n",
      "Day 20190108T080500_20190109T080000 has 287 radar scans instead of 288\n"
     ]
    },
    {
     "name": "stderr",
     "output_type": "stream",
     "text": [
      "\r",
      " 24%|██▍       | 24/100 [01:23<04:18,  3.39s/it]"
     ]
    },
    {
     "name": "stdout",
     "output_type": "stream",
     "text": [
      "/nobackup/users/schreurs/project_GAN/dataset_np/20190109T080500_20190110T080000/\n"
     ]
    },
    {
     "name": "stderr",
     "output_type": "stream",
     "text": [
      "\r",
      " 25%|██▌       | 25/100 [01:26<04:16,  3.43s/it]"
     ]
    },
    {
     "name": "stdout",
     "output_type": "stream",
     "text": [
      "/nobackup/users/schreurs/project_GAN/dataset_np/20190110T080500_20190111T080000/\n",
      "Day 20190110T080500_20190111T080000 has 286 radar scans instead of 288\n"
     ]
    },
    {
     "name": "stderr",
     "output_type": "stream",
     "text": [
      "\r",
      " 26%|██▌       | 26/100 [01:30<04:13,  3.42s/it]"
     ]
    },
    {
     "name": "stdout",
     "output_type": "stream",
     "text": [
      "/nobackup/users/schreurs/project_GAN/dataset_np/20190111T080500_20190112T080000/\n",
      "Day 20190111T080500_20190112T080000 has 283 radar scans instead of 288\n"
     ]
    },
    {
     "name": "stderr",
     "output_type": "stream",
     "text": [
      "\r",
      " 27%|██▋       | 27/100 [01:33<04:04,  3.35s/it]"
     ]
    },
    {
     "name": "stdout",
     "output_type": "stream",
     "text": [
      "/nobackup/users/schreurs/project_GAN/dataset_np/20190112T080500_20190113T080000/\n",
      "Day 20190112T080500_20190113T080000 has 259 radar scans instead of 288\n"
     ]
    },
    {
     "name": "stderr",
     "output_type": "stream",
     "text": [
      "\r",
      " 28%|██▊       | 28/100 [01:36<03:57,  3.29s/it]"
     ]
    },
    {
     "name": "stdout",
     "output_type": "stream",
     "text": [
      "/nobackup/users/schreurs/project_GAN/dataset_np/20190113T080500_20190114T080000/\n",
      "Day 20190113T080500_20190114T080000 has 286 radar scans instead of 288\n"
     ]
    },
    {
     "name": "stderr",
     "output_type": "stream",
     "text": [
      "\r",
      " 29%|██▉       | 29/100 [01:40<03:56,  3.33s/it]"
     ]
    },
    {
     "name": "stdout",
     "output_type": "stream",
     "text": [
      "/nobackup/users/schreurs/project_GAN/dataset_np/20190114T080500_20190115T080000/\n",
      "Day 20190114T080500_20190115T080000 has 285 radar scans instead of 288\n"
     ]
    },
    {
     "name": "stderr",
     "output_type": "stream",
     "text": [
      "\r",
      " 30%|███       | 30/100 [01:43<03:49,  3.27s/it]"
     ]
    },
    {
     "name": "stdout",
     "output_type": "stream",
     "text": [
      "/nobackup/users/schreurs/project_GAN/dataset_np/20190115T080500_20190116T080000/\n",
      "Day 20190115T080500_20190116T080000 has 287 radar scans instead of 288\n"
     ]
    },
    {
     "name": "stderr",
     "output_type": "stream",
     "text": [
      "\r",
      " 31%|███       | 31/100 [01:46<03:49,  3.32s/it]"
     ]
    },
    {
     "name": "stdout",
     "output_type": "stream",
     "text": [
      "/nobackup/users/schreurs/project_GAN/dataset_np/20190116T080500_20190117T080000/\n",
      "Day 20190116T080500_20190117T080000 has 285 radar scans instead of 288\n"
     ]
    },
    {
     "name": "stderr",
     "output_type": "stream",
     "text": [
      "\r",
      " 32%|███▏      | 32/100 [01:50<03:47,  3.34s/it]"
     ]
    },
    {
     "name": "stdout",
     "output_type": "stream",
     "text": [
      "/nobackup/users/schreurs/project_GAN/dataset_np/20190117T080500_20190118T080000/\n",
      "Day 20190117T080500_20190118T080000 has 283 radar scans instead of 288\n"
     ]
    },
    {
     "name": "stderr",
     "output_type": "stream",
     "text": [
      "\r",
      " 33%|███▎      | 33/100 [01:53<03:45,  3.37s/it]"
     ]
    },
    {
     "name": "stdout",
     "output_type": "stream",
     "text": [
      "/nobackup/users/schreurs/project_GAN/dataset_np/20190118T080500_20190119T080000/\n",
      "Day 20190118T080500_20190119T080000 has 281 radar scans instead of 288\n"
     ]
    },
    {
     "name": "stderr",
     "output_type": "stream",
     "text": [
      "\r",
      " 34%|███▍      | 34/100 [01:56<03:37,  3.29s/it]"
     ]
    },
    {
     "name": "stdout",
     "output_type": "stream",
     "text": [
      "/nobackup/users/schreurs/project_GAN/dataset_np/20190119T080500_20190120T080000/\n",
      "Day 20190119T080500_20190120T080000 has 283 radar scans instead of 288\n"
     ]
    },
    {
     "name": "stderr",
     "output_type": "stream",
     "text": [
      "\r",
      " 35%|███▌      | 35/100 [01:59<03:35,  3.32s/it]"
     ]
    },
    {
     "name": "stdout",
     "output_type": "stream",
     "text": [
      "/nobackup/users/schreurs/project_GAN/dataset_np/20190120T080500_20190121T080000/\n",
      "Day 20190120T080500_20190121T080000 has 283 radar scans instead of 288\n"
     ]
    },
    {
     "name": "stderr",
     "output_type": "stream",
     "text": [
      "\r",
      " 36%|███▌      | 36/100 [02:03<03:34,  3.35s/it]"
     ]
    },
    {
     "name": "stdout",
     "output_type": "stream",
     "text": [
      "/nobackup/users/schreurs/project_GAN/dataset_np/20190121T080500_20190122T080000/\n",
      "Day 20190121T080500_20190122T080000 has 284 radar scans instead of 288\n"
     ]
    },
    {
     "name": "stderr",
     "output_type": "stream",
     "text": [
      "\r",
      " 37%|███▋      | 37/100 [02:06<03:26,  3.28s/it]"
     ]
    },
    {
     "name": "stdout",
     "output_type": "stream",
     "text": [
      "/nobackup/users/schreurs/project_GAN/dataset_np/20190122T080500_20190123T080000/\n",
      "Day 20190122T080500_20190123T080000 has 282 radar scans instead of 288\n"
     ]
    },
    {
     "name": "stderr",
     "output_type": "stream",
     "text": [
      "\r",
      " 38%|███▊      | 38/100 [02:09<03:26,  3.32s/it]"
     ]
    },
    {
     "name": "stdout",
     "output_type": "stream",
     "text": [
      "/nobackup/users/schreurs/project_GAN/dataset_np/20190123T080500_20190124T080000/\n",
      "Day 20190123T080500_20190124T080000 has 284 radar scans instead of 288\n"
     ]
    },
    {
     "name": "stderr",
     "output_type": "stream",
     "text": [
      "\r",
      " 39%|███▉      | 39/100 [02:13<03:18,  3.26s/it]"
     ]
    },
    {
     "name": "stdout",
     "output_type": "stream",
     "text": [
      "/nobackup/users/schreurs/project_GAN/dataset_np/20190124T080500_20190125T080000/\n",
      "Day 20190124T080500_20190125T080000 has 280 radar scans instead of 288\n"
     ]
    },
    {
     "name": "stderr",
     "output_type": "stream",
     "text": [
      "\r",
      " 40%|████      | 40/100 [02:16<03:16,  3.28s/it]"
     ]
    },
    {
     "name": "stdout",
     "output_type": "stream",
     "text": [
      "/nobackup/users/schreurs/project_GAN/dataset_np/20190125T080500_20190126T080000/\n",
      "Day 20190125T080500_20190126T080000 has 281 radar scans instead of 288\n"
     ]
    },
    {
     "name": "stderr",
     "output_type": "stream",
     "text": [
      "\r",
      " 41%|████      | 41/100 [02:19<03:13,  3.28s/it]"
     ]
    },
    {
     "name": "stdout",
     "output_type": "stream",
     "text": [
      "/nobackup/users/schreurs/project_GAN/dataset_np/20190126T080500_20190127T080000/\n",
      "Day 20190126T080500_20190127T080000 has 277 radar scans instead of 288\n"
     ]
    },
    {
     "name": "stderr",
     "output_type": "stream",
     "text": [
      "\r",
      " 42%|████▏     | 42/100 [02:22<03:10,  3.29s/it]"
     ]
    },
    {
     "name": "stdout",
     "output_type": "stream",
     "text": [
      "/nobackup/users/schreurs/project_GAN/dataset_np/20190127T080500_20190128T080000/\n",
      "Day 20190127T080500_20190128T080000 has 277 radar scans instead of 288\n"
     ]
    },
    {
     "name": "stderr",
     "output_type": "stream",
     "text": [
      "\r",
      " 43%|████▎     | 43/100 [02:26<03:06,  3.28s/it]"
     ]
    },
    {
     "name": "stdout",
     "output_type": "stream",
     "text": [
      "/nobackup/users/schreurs/project_GAN/dataset_np/20190128T080500_20190129T080000/\n",
      "Day 20190128T080500_20190129T080000 has 274 radar scans instead of 288\n"
     ]
    },
    {
     "name": "stderr",
     "output_type": "stream",
     "text": [
      "\r",
      " 44%|████▍     | 44/100 [02:29<03:03,  3.28s/it]"
     ]
    },
    {
     "name": "stdout",
     "output_type": "stream",
     "text": [
      "/nobackup/users/schreurs/project_GAN/dataset_np/20190129T080500_20190130T080000/\n",
      "Day 20190129T080500_20190130T080000 has 278 radar scans instead of 288\n"
     ]
    },
    {
     "name": "stderr",
     "output_type": "stream",
     "text": [
      "\r",
      " 45%|████▌     | 45/100 [02:32<03:00,  3.27s/it]"
     ]
    },
    {
     "name": "stdout",
     "output_type": "stream",
     "text": [
      "/nobackup/users/schreurs/project_GAN/dataset_np/20190130T080500_20190131T080000/\n",
      "Day 20190130T080500_20190131T080000 has 279 radar scans instead of 288\n"
     ]
    },
    {
     "name": "stderr",
     "output_type": "stream",
     "text": [
      "\r",
      " 46%|████▌     | 46/100 [02:36<02:57,  3.29s/it]"
     ]
    },
    {
     "name": "stdout",
     "output_type": "stream",
     "text": [
      "/nobackup/users/schreurs/project_GAN/dataset_np/20190131T080500_20190201T080000/\n",
      "Day 20190131T080500_20190201T080000 has 280 radar scans instead of 288\n"
     ]
    },
    {
     "name": "stderr",
     "output_type": "stream",
     "text": [
      "\r",
      " 47%|████▋     | 47/100 [02:39<02:55,  3.31s/it]"
     ]
    },
    {
     "name": "stdout",
     "output_type": "stream",
     "text": [
      "/nobackup/users/schreurs/project_GAN/dataset_np/20190201T080500_20190202T080000/\n",
      "Day 20190201T080500_20190202T080000 has 280 radar scans instead of 288\n"
     ]
    },
    {
     "name": "stderr",
     "output_type": "stream",
     "text": [
      "\r",
      " 48%|████▊     | 48/100 [02:42<02:55,  3.37s/it]"
     ]
    },
    {
     "name": "stdout",
     "output_type": "stream",
     "text": [
      "/nobackup/users/schreurs/project_GAN/dataset_np/20190202T080500_20190203T080000/\n",
      "Day 20190202T080500_20190203T080000 has 282 radar scans instead of 288\n"
     ]
    },
    {
     "name": "stderr",
     "output_type": "stream",
     "text": [
      "\r",
      " 49%|████▉     | 49/100 [02:46<02:52,  3.39s/it]"
     ]
    },
    {
     "name": "stdout",
     "output_type": "stream",
     "text": [
      "/nobackup/users/schreurs/project_GAN/dataset_np/20190203T080500_20190204T080000/\n",
      "Day 20190203T080500_20190204T080000 has 280 radar scans instead of 288\n"
     ]
    },
    {
     "name": "stderr",
     "output_type": "stream",
     "text": [
      "\r",
      " 50%|█████     | 50/100 [02:49<02:47,  3.35s/it]"
     ]
    },
    {
     "name": "stdout",
     "output_type": "stream",
     "text": [
      "/nobackup/users/schreurs/project_GAN/dataset_np/20190204T080500_20190205T080000/\n",
      "Day 20190204T080500_20190205T080000 has 280 radar scans instead of 288\n"
     ]
    },
    {
     "name": "stderr",
     "output_type": "stream",
     "text": [
      "\r",
      " 51%|█████     | 51/100 [02:53<02:44,  3.35s/it]"
     ]
    },
    {
     "name": "stdout",
     "output_type": "stream",
     "text": [
      "/nobackup/users/schreurs/project_GAN/dataset_np/20190205T080500_20190206T080000/\n",
      "Day 20190205T080500_20190206T080000 has 281 radar scans instead of 288\n"
     ]
    },
    {
     "name": "stderr",
     "output_type": "stream",
     "text": [
      "\r",
      " 52%|█████▏    | 52/100 [02:56<02:40,  3.35s/it]"
     ]
    },
    {
     "name": "stdout",
     "output_type": "stream",
     "text": [
      "/nobackup/users/schreurs/project_GAN/dataset_np/20190206T080500_20190207T080000/\n",
      "Day 20190206T080500_20190207T080000 has 279 radar scans instead of 288\n"
     ]
    },
    {
     "name": "stderr",
     "output_type": "stream",
     "text": [
      "\r",
      " 53%|█████▎    | 53/100 [02:59<02:35,  3.31s/it]"
     ]
    },
    {
     "name": "stdout",
     "output_type": "stream",
     "text": [
      "/nobackup/users/schreurs/project_GAN/dataset_np/20190207T080500_20190208T080000/\n",
      "Day 20190207T080500_20190208T080000 has 283 radar scans instead of 288\n"
     ]
    },
    {
     "name": "stderr",
     "output_type": "stream",
     "text": [
      "\r",
      " 54%|█████▍    | 54/100 [03:02<02:33,  3.34s/it]"
     ]
    },
    {
     "name": "stdout",
     "output_type": "stream",
     "text": [
      "/nobackup/users/schreurs/project_GAN/dataset_np/20190208T080500_20190209T080000/\n",
      "Day 20190208T080500_20190209T080000 has 247 radar scans instead of 288\n"
     ]
    },
    {
     "name": "stderr",
     "output_type": "stream",
     "text": [
      "\r",
      " 55%|█████▌    | 55/100 [03:05<02:25,  3.23s/it]"
     ]
    },
    {
     "name": "stdout",
     "output_type": "stream",
     "text": [
      "/nobackup/users/schreurs/project_GAN/dataset_np/20190209T080500_20190210T080000/\n",
      "Day 20190209T080500_20190210T080000 has 281 radar scans instead of 288\n"
     ]
    },
    {
     "name": "stderr",
     "output_type": "stream",
     "text": [
      "\r",
      " 56%|█████▌    | 56/100 [03:09<02:22,  3.24s/it]"
     ]
    },
    {
     "name": "stdout",
     "output_type": "stream",
     "text": [
      "/nobackup/users/schreurs/project_GAN/dataset_np/20190210T080500_20190211T080000/\n",
      "Day 20190210T080500_20190211T080000 has 279 radar scans instead of 288\n"
     ]
    },
    {
     "name": "stderr",
     "output_type": "stream",
     "text": [
      "\r",
      " 57%|█████▋    | 57/100 [03:12<02:21,  3.28s/it]"
     ]
    },
    {
     "name": "stdout",
     "output_type": "stream",
     "text": [
      "/nobackup/users/schreurs/project_GAN/dataset_np/20190211T080500_20190212T080000/\n",
      "Day 20190211T080500_20190212T080000 has 283 radar scans instead of 288\n"
     ]
    },
    {
     "name": "stderr",
     "output_type": "stream",
     "text": [
      "\r",
      " 58%|█████▊    | 58/100 [03:16<02:20,  3.34s/it]"
     ]
    },
    {
     "name": "stdout",
     "output_type": "stream",
     "text": [
      "/nobackup/users/schreurs/project_GAN/dataset_np/20190212T080500_20190213T080000/\n",
      "Day 20190212T080500_20190213T080000 has 284 radar scans instead of 288\n"
     ]
    },
    {
     "name": "stderr",
     "output_type": "stream",
     "text": [
      "\r",
      " 59%|█████▉    | 59/100 [03:19<02:17,  3.36s/it]"
     ]
    },
    {
     "name": "stdout",
     "output_type": "stream",
     "text": [
      "/nobackup/users/schreurs/project_GAN/dataset_np/20190213T080500_20190214T080000/\n",
      "Day 20190213T080500_20190214T080000 has 281 radar scans instead of 288\n"
     ]
    },
    {
     "name": "stderr",
     "output_type": "stream",
     "text": [
      "\r",
      " 60%|██████    | 60/100 [03:22<02:14,  3.35s/it]"
     ]
    },
    {
     "name": "stdout",
     "output_type": "stream",
     "text": [
      "/nobackup/users/schreurs/project_GAN/dataset_np/20190214T080500_20190215T080000/\n",
      "Day 20190214T080500_20190215T080000 has 282 radar scans instead of 288\n"
     ]
    },
    {
     "name": "stderr",
     "output_type": "stream",
     "text": [
      "\r",
      " 61%|██████    | 61/100 [03:26<02:12,  3.39s/it]"
     ]
    },
    {
     "name": "stdout",
     "output_type": "stream",
     "text": [
      "/nobackup/users/schreurs/project_GAN/dataset_np/20190215T080500_20190216T080000/\n",
      "Day 20190215T080500_20190216T080000 has 286 radar scans instead of 288\n"
     ]
    },
    {
     "name": "stderr",
     "output_type": "stream",
     "text": [
      "\r",
      " 62%|██████▏   | 62/100 [03:29<02:08,  3.38s/it]"
     ]
    },
    {
     "name": "stdout",
     "output_type": "stream",
     "text": [
      "/nobackup/users/schreurs/project_GAN/dataset_np/20190216T080500_20190217T080000/\n",
      "Day 20190216T080500_20190217T080000 has 284 radar scans instead of 288\n"
     ]
    },
    {
     "name": "stderr",
     "output_type": "stream",
     "text": [
      "\r",
      " 63%|██████▎   | 63/100 [03:32<02:04,  3.36s/it]"
     ]
    },
    {
     "name": "stdout",
     "output_type": "stream",
     "text": [
      "/nobackup/users/schreurs/project_GAN/dataset_np/20190217T080500_20190218T080000/\n",
      "Day 20190217T080500_20190218T080000 has 284 radar scans instead of 288\n"
     ]
    },
    {
     "name": "stderr",
     "output_type": "stream",
     "text": [
      "\r",
      " 64%|██████▍   | 64/100 [03:35<01:52,  3.12s/it]"
     ]
    },
    {
     "name": "stdout",
     "output_type": "stream",
     "text": [
      "/nobackup/users/schreurs/project_GAN/dataset_np/20190218T080500_20190219T080000/\n",
      "Day 20190218T080500_20190219T080000 has 283 radar scans instead of 288\n"
     ]
    },
    {
     "name": "stderr",
     "output_type": "stream",
     "text": [
      " 66%|██████▌   | 66/100 [03:38<01:11,  2.11s/it]"
     ]
    },
    {
     "name": "stdout",
     "output_type": "stream",
     "text": [
      "/nobackup/users/schreurs/project_GAN/dataset_np/20190219T080500_20190220T080000/\n",
      "Day 20190219T080500_20190220T080000 has 287 radar scans instead of 288\n",
      "/nobackup/users/schreurs/project_GAN/dataset_np/20190220T080500_20190221T080000/\n"
     ]
    },
    {
     "name": "stderr",
     "output_type": "stream",
     "text": [
      "\r",
      " 67%|██████▋   | 67/100 [03:38<00:49,  1.51s/it]"
     ]
    },
    {
     "name": "stdout",
     "output_type": "stream",
     "text": [
      "/nobackup/users/schreurs/project_GAN/dataset_np/20190221T080500_20190222T080000/\n",
      "Day 20190221T080500_20190222T080000 has 287 radar scans instead of 288\n"
     ]
    },
    {
     "name": "stderr",
     "output_type": "stream",
     "text": [
      "\r",
      " 68%|██████▊   | 68/100 [03:41<01:04,  2.00s/it]"
     ]
    },
    {
     "name": "stdout",
     "output_type": "stream",
     "text": [
      "/nobackup/users/schreurs/project_GAN/dataset_np/20190222T080500_20190223T080000/\n",
      "Day 20190222T080500_20190223T080000 has 284 radar scans instead of 288\n"
     ]
    },
    {
     "name": "stderr",
     "output_type": "stream",
     "text": [
      "\r",
      " 69%|██████▉   | 69/100 [03:44<01:14,  2.40s/it]"
     ]
    },
    {
     "name": "stdout",
     "output_type": "stream",
     "text": [
      "/nobackup/users/schreurs/project_GAN/dataset_np/20190223T080500_20190224T080000/\n"
     ]
    },
    {
     "name": "stderr",
     "output_type": "stream",
     "text": [
      "\r",
      " 70%|███████   | 70/100 [03:48<01:22,  2.74s/it]"
     ]
    },
    {
     "name": "stdout",
     "output_type": "stream",
     "text": [
      "/nobackup/users/schreurs/project_GAN/dataset_np/20190224T080500_20190225T080000/\n",
      "Day 20190224T080500_20190225T080000 has 285 radar scans instead of 288\n"
     ]
    },
    {
     "name": "stderr",
     "output_type": "stream",
     "text": [
      "100%|██████████| 100/100 [03:51<00:00,  2.32s/it]"
     ]
    },
    {
     "name": "stdout",
     "output_type": "stream",
     "text": [
      "/nobackup/users/schreurs/project_GAN/dataset_np/20190225T080500_20190226T080000/\n",
      "Day 20190225T080500_20190226T080000 has 1 radar scans instead of 288\n",
      "/nobackup/users/schreurs/project_GAN/dataset_np/20190226T080500_20190227T080000/\n",
      "Day 20190226T080500_20190227T080000 has 1 radar scans instead of 288\n",
      "/nobackup/users/schreurs/project_GAN/dataset_np/20190227T080500_20190228T080000/\n",
      "Day 20190227T080500_20190228T080000 has 1 radar scans instead of 288\n",
      "/nobackup/users/schreurs/project_GAN/dataset_np/20190228T080500_20190301T080000/\n",
      "Day 20190228T080500_20190301T080000 has 1 radar scans instead of 288\n",
      "/nobackup/users/schreurs/project_GAN/dataset_np/20190301T080500_20190302T080000/\n",
      "Day 20190301T080500_20190302T080000 has 1 radar scans instead of 288\n",
      "/nobackup/users/schreurs/project_GAN/dataset_np/20190302T080500_20190303T080000/\n",
      "Day 20190302T080500_20190303T080000 has 1 radar scans instead of 288\n",
      "/nobackup/users/schreurs/project_GAN/dataset_np/20190303T080500_20190304T080000/\n",
      "Day 20190303T080500_20190304T080000 has 1 radar scans instead of 288\n",
      "/nobackup/users/schreurs/project_GAN/dataset_np/20190304T080500_20190305T080000/\n",
      "Day 20190304T080500_20190305T080000 has 1 radar scans instead of 288\n",
      "/nobackup/users/schreurs/project_GAN/dataset_np/20190305T080500_20190306T080000/\n",
      "Day 20190305T080500_20190306T080000 has 1 radar scans instead of 288\n",
      "/nobackup/users/schreurs/project_GAN/dataset_np/20190306T080500_20190307T080000/\n",
      "Day 20190306T080500_20190307T080000 has 1 radar scans instead of 288\n",
      "/nobackup/users/schreurs/project_GAN/dataset_np/20190307T080500_20190308T080000/\n",
      "Day 20190307T080500_20190308T080000 has 1 radar scans instead of 288\n",
      "/nobackup/users/schreurs/project_GAN/dataset_np/20190308T080500_20190309T080000/\n",
      "Day 20190308T080500_20190309T080000 has 1 radar scans instead of 288\n",
      "/nobackup/users/schreurs/project_GAN/dataset_np/20190309T080500_20190310T080000/\n",
      "Day 20190309T080500_20190310T080000 has 1 radar scans instead of 288\n",
      "/nobackup/users/schreurs/project_GAN/dataset_np/20190310T080500_20190311T080000/\n",
      "Day 20190310T080500_20190311T080000 has 1 radar scans instead of 288\n",
      "/nobackup/users/schreurs/project_GAN/dataset_np/20190311T080500_20190312T080000/\n",
      "Day 20190311T080500_20190312T080000 has 1 radar scans instead of 288\n",
      "/nobackup/users/schreurs/project_GAN/dataset_np/20190312T080500_20190313T080000/\n",
      "Day 20190312T080500_20190313T080000 has 1 radar scans instead of 288\n",
      "/nobackup/users/schreurs/project_GAN/dataset_np/20190313T080500_20190314T080000/\n",
      "Day 20190313T080500_20190314T080000 has 1 radar scans instead of 288\n",
      "/nobackup/users/schreurs/project_GAN/dataset_np/20190314T080500_20190315T080000/\n",
      "Day 20190314T080500_20190315T080000 has 1 radar scans instead of 288\n",
      "/nobackup/users/schreurs/project_GAN/dataset_np/20190315T080500_20190316T080000/\n",
      "Day 20190315T080500_20190316T080000 has 1 radar scans instead of 288\n",
      "/nobackup/users/schreurs/project_GAN/dataset_np/20190316T080500_20190317T080000/\n",
      "Day 20190316T080500_20190317T080000 has 1 radar scans instead of 288\n",
      "/nobackup/users/schreurs/project_GAN/dataset_np/20190317T080500_20190318T080000/\n",
      "Day 20190317T080500_20190318T080000 has 1 radar scans instead of 288\n",
      "/nobackup/users/schreurs/project_GAN/dataset_np/20190318T080500_20190319T080000/\n",
      "Day 20190318T080500_20190319T080000 has 1 radar scans instead of 288\n",
      "/nobackup/users/schreurs/project_GAN/dataset_np/20190319T080500_20190320T080000/\n",
      "Day 20190319T080500_20190320T080000 has 1 radar scans instead of 288\n",
      "/nobackup/users/schreurs/project_GAN/dataset_np/20190320T080500_20190321T080000/\n",
      "Day 20190320T080500_20190321T080000 has 1 radar scans instead of 288\n",
      "/nobackup/users/schreurs/project_GAN/dataset_np/20190321T080500_20190322T080000/\n",
      "Day 20190321T080500_20190322T080000 has 1 radar scans instead of 288\n",
      "/nobackup/users/schreurs/project_GAN/dataset_np/20190322T080500_20190323T080000/\n",
      "Day 20190322T080500_20190323T080000 has 1 radar scans instead of 288\n",
      "/nobackup/users/schreurs/project_GAN/dataset_np/20190323T080500_20190324T080000/\n",
      "Day 20190323T080500_20190324T080000 has 1 radar scans instead of 288\n",
      "/nobackup/users/schreurs/project_GAN/dataset_np/20190324T080500_20190325T080000/\n",
      "Day 20190324T080500_20190325T080000 has 1 radar scans instead of 288\n",
      "/nobackup/users/schreurs/project_GAN/dataset_np/20190325T080500_20190326T080000/\n",
      "Day 20190325T080500_20190326T080000 has 1 radar scans instead of 288\n"
     ]
    },
    {
     "name": "stderr",
     "output_type": "stream",
     "text": [
      "\n"
     ]
    }
   ],
   "source": [
    "preprocess_into_sequences(np_dir, dir_30m)"
   ]
  },
  {
   "cell_type": "code",
   "execution_count": 39,
   "metadata": {},
   "outputs": [
    {
     "name": "stdout",
     "output_type": "stream",
     "text": [
      "201812171030.npy\r\n",
      "201812171035.npy\r\n",
      "201812171040.npy\r\n",
      "201812171045.npy\r\n",
      "201812171050.npy\r\n",
      "201812171055.npy\r\n",
      "201812171100.npy\r\n",
      "201812171105.npy\r\n",
      "201812171110.npy\r\n",
      "201812171115.npy\r\n"
     ]
    }
   ],
   "source": [
    "ls /nobackup_1/users/schreurs/project_GAN/dataset_np/201812170755_201812180800 |head"
   ]
  },
  {
   "cell_type": "markdown",
   "metadata": {},
   "source": [
    "Some days seem to lack a lot of data. Maybe something went wrong during downloading these dates or during unpacking"
   ]
  },
  {
   "cell_type": "code",
   "execution_count": 26,
   "metadata": {},
   "outputs": [
    {
     "name": "stdout",
     "output_type": "stream",
     "text": [
      "201903100800.npy\r\n"
     ]
    }
   ],
   "source": [
    "ls /nobackup_1/users/schreurs/project_GAN/dataset_np/20190309T080500_20190310T080000/"
   ]
  },
  {
   "cell_type": "code",
   "execution_count": 11,
   "metadata": {},
   "outputs": [
    {
     "name": "stdout",
     "output_type": "stream",
     "text": [
      "RAD_NL25_RAC_RE_201903100800.h5\r\n"
     ]
    }
   ],
   "source": [
    "ls /nobackup_1/users/schreurs/project_GAN/dataset/RAD25_OPER_R___TARRRE__L2__20190309T080500_20190310T080000_0001"
   ]
  },
  {
   "cell_type": "code",
   "execution_count": 19,
   "metadata": {},
   "outputs": [
    {
     "name": "stdout",
     "output_type": "stream",
     "text": [
      "\u001b[0m\u001b[01;31m/nobackup/users/schreurs/project_GAN/dataset/RAD25_OPER_R___TARRRE__L2__20190309T080500_20190310T080000_0001.tar\u001b[0m\u001b[K\r\n"
     ]
    }
   ],
   "source": [
    "ls /nobackup_1/users/schreurs/project_GAN/dataset/RAD25_OPER_R___TARRRE__L2__20190309T080500_20190310T080000_0001.tar"
   ]
  },
  {
   "cell_type": "markdown",
   "metadata": {},
   "source": [
    "As you can see there is only 1 radar scan of the date 2019-03-10. Below I unpack the tar file of that date again to test if something went wrong during the unpacking"
   ]
  },
  {
   "cell_type": "code",
   "execution_count": 20,
   "metadata": {},
   "outputs": [
    {
     "name": "stdout",
     "output_type": "stream",
     "text": [
      "tar path:  /nobackup/users/schreurs/project_GAN/dataset/RAD25_OPER_R___TARRRE__L2__20190309T080500_20190310T080000_0001.tar\n",
      "unpack in folder:  /nobackup/users/schreurs/project_GAN/dataset/RAD25_OPER_R___TARRRE__L2__20190309T080500_20190310T080000_0001\n"
     ]
    }
   ],
   "source": [
    "# Testing path\n",
    "tar_path = '/nobackup_1/users/schreurs/project_GAN/dataset/RAD25_OPER_R___TARRRE__L2__20190309T080500_20190310T080000_0001.tar'\n",
    "print(\"tar path: \", tar_path)\n",
    "unpack_folder = tar_path.replace('.tar','')\n",
    "print(\"unpack in folder: \", unpack_folder)"
   ]
  },
  {
   "cell_type": "code",
   "execution_count": 23,
   "metadata": {},
   "outputs": [],
   "source": [
    "with tarfile.open(tar_path) as tar:\n",
    "    tar.extractall(unpack_folder) "
   ]
  },
  {
   "cell_type": "code",
   "execution_count": 24,
   "metadata": {},
   "outputs": [
    {
     "name": "stdout",
     "output_type": "stream",
     "text": [
      "RAD_NL25_RAC_RE_201903100800.h5\r\n"
     ]
    }
   ],
   "source": [
    "ls /nobackup_1/users/schreurs/project_GAN/dataset/RAD25_OPER_R___TARRRE__L2__20190309T080500_20190310T080000_0001"
   ]
  },
  {
   "cell_type": "markdown",
   "metadata": {},
   "source": [
    "Unpacking the tar files does not seem te be the problem."
   ]
  },
  {
   "cell_type": "markdown",
   "metadata": {},
   "source": [
    "When mannually download the tar file of 20190309T080500_20190310T080000 the radar data looks complete. During downloading the files probably got corrupted. \n",
    "\n",
    "Noticed a difference in dataset names: nl_rdr_data_rtcor_5m vs nl_rdr_data_recor_5m.\n",
    "Currently using the recor dataset, the rtcor might have complete data unlike the rtcor. \n",
    "\n",
    "(Waiting on API request for bulk dowload rtcor instead of recor dataset)\n",
    "\n",
    "Now got the API for the rtcor dataset. This dataset seems more complete"
   ]
  }
 ],
 "metadata": {
  "kernelspec": {
   "display_name": "Python 3",
   "language": "python",
   "name": "python3"
  },
  "language_info": {
   "codemirror_mode": {
    "name": "ipython",
    "version": 3
   },
   "file_extension": ".py",
   "mimetype": "text/x-python",
   "name": "python",
   "nbconvert_exporter": "python",
   "pygments_lexer": "ipython3",
   "version": "3.8.10"
  }
 },
 "nbformat": 4,
 "nbformat_minor": 2
}
