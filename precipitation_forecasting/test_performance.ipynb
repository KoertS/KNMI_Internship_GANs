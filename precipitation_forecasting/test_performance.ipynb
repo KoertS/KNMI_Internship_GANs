{
 "cells": [
  {
   "cell_type": "markdown",
   "metadata": {},
   "source": [
    "In this notebook, I will compare the performance of loading numpy files vs loading h5 files and converting them to numpy.\n",
    "If working with numpy files is much faster, then the h5 files should be preprocessed into numpy files"
   ]
  },
  {
   "cell_type": "code",
   "execution_count": 49,
   "metadata": {},
   "outputs": [],
   "source": [
    "import h5py\n",
    "import numpy as np\n",
    "from datetime import datetime, timedelta\n",
    "import netCDF4\n",
    "import matplotlib.pyplot as plt"
   ]
  },
  {
   "cell_type": "code",
   "execution_count": 54,
   "metadata": {},
   "outputs": [],
   "source": [
    "path = '/nobackup/users/schreurs/project_GAN/dataset_radar'\n",
    "path_np =  '/nobackup/users/schreurs/project_GAN/dataset_radar_np'\n",
    "path_aart = '/nobackup/users/schreurs/project_GAN/dataset_aart/'"
   ]
  },
  {
   "cell_type": "code",
   "execution_count": 5,
   "metadata": {},
   "outputs": [],
   "source": [
    "def load_h5(timestamp):\n",
    "    path_f = path + '/RAD_NL25_RAC_RT_{}.h5'.format(timestamp)\n",
    "    try:\n",
    "        with h5py.File(path_f, 'r') as f:\n",
    "            rain = f['image1']['image_data'][:]\n",
    "            # set masked values to 0\n",
    "            rain[rain == 65535] = 0\n",
    "            # Expand dimensions from (w,h) to (w,h,c=1)\n",
    "            rain = np.expand_dims(rain, axis=-1)\n",
    "    except:\n",
    "        rain = np.zeros((765,700,1))\n",
    "    return rain"
   ]
  },
  {
   "cell_type": "code",
   "execution_count": 6,
   "metadata": {},
   "outputs": [],
   "source": [
    "def load_np(timestamp):\n",
    "    path_f = path_np + '/{}.npy'.format(timestamp)\n",
    "    try:\n",
    "        rain = np.load(path_f)\n",
    "        # set masked values to 0\n",
    "        rain[rain == 65535] = 0\n",
    "        # Expand dimensions from (w,h) to (w,h,c=1)\n",
    "        rain = np.expand_dims(rain, axis=-1)\n",
    "    except:\n",
    "        rain = np.zeros((765,700,1))\n",
    "    return rain"
   ]
  },
  {
   "cell_type": "code",
   "execution_count": 65,
   "metadata": {},
   "outputs": [],
   "source": [
    "def load_nc(timestamp):\n",
    "    path_f = path_aart + '/RAD_NL25_RAC_MFBS_EM_5min_{}.nc'.format(timestamp)\n",
    "    try:\n",
    "        with netCDF4.Dataset(path_f, 'r') as f:\n",
    "            # set masked values to 0\n",
    "            rain = f['image1_image_data'][:][0]\n",
    "            rain[rain == 65535] = 0\n",
    "            # Expand dimensions from (w,h) to (w,h,c)\n",
    "            rain = np.expand_dims(rain, axis=-1)\n",
    "    except:\n",
    "        print('Er')\n",
    "        rain = np.zeros((765,700,1))\n",
    "    return rain"
   ]
  },
  {
   "cell_type": "code",
   "execution_count": 66,
   "metadata": {},
   "outputs": [
    {
     "name": "stdout",
     "output_type": "stream",
     "text": [
      "(765, 700, 1)\n",
      "(765, 700, 1)\n",
      "(765, 700, 1)\n"
     ]
    },
    {
     "data": {
      "image/png": "[encoded data removed]",
      "text/plain": [
       "<Figure size 432x288 with 3 Axes>"
      ]
     },
     "metadata": {
      "needs_background": "light"
     },
     "output_type": "display_data"
    }
   ],
   "source": [
    "ts = '201903090000'\n",
    "\n",
    "plt.figure()\n",
    "# h5\n",
    "rdr = load_h5(ts)\n",
    "print(rdr.shape)\n",
    "plt.subplot(1,3,1)\n",
    "plt.imshow(np.squeeze(rdr))\n",
    "plt.axis('off')\n",
    "# npy\n",
    "rdr = load_np(ts)\n",
    "print(rdr.shape)\n",
    "plt.subplot(1,3,2)\n",
    "plt.imshow(np.squeeze(rdr))\n",
    "plt.axis('off')\n",
    "# nc\n",
    "rdr = load_nc(ts)\n",
    "print(rdr.shape)\n",
    "plt.subplot(1,3,3)\n",
    "plt.imshow(np.squeeze(rdr))\n",
    "plt.axis('off')\n",
    "plt.show()"
   ]
  },
  {
   "cell_type": "code",
   "execution_count": 67,
   "metadata": {},
   "outputs": [
    {
     "name": "stdout",
     "output_type": "stream",
     "text": [
      "(765, 700, 1)\n"
     ]
    },
    {
     "data": {
      "text/plain": [
       "<matplotlib.image.AxesImage at 0x7f3291af6e90>"
      ]
     },
     "execution_count": 67,
     "metadata": {},
     "output_type": "execute_result"
    },
    {
     "data": {
      "image/png": "[encoded data removed]",
      "text/plain": [
       "<Figure size 432x288 with 1 Axes>"
      ]
     },
     "metadata": {
      "needs_background": "light"
     },
     "output_type": "display_data"
    }
   ],
   "source": [
    "ts = '201903090000'\n",
    "rdr = load_h5(ts)\n",
    "print(rdr.shape)\n",
    "plt.imshow(np.squeeze(rdr))"
   ]
  },
  {
   "cell_type": "markdown",
   "metadata": {},
   "source": [
    "## Test on loading one year of data"
   ]
  },
  {
   "cell_type": "code",
   "execution_count": 67,
   "metadata": {},
   "outputs": [
    {
     "name": "stdout",
     "output_type": "stream",
     "text": [
      "Example timestamp:  201901010000  Number of timestamps:  105119\n"
     ]
    }
   ],
   "source": [
    "start_dt = datetime(2019,1,1,0,0)\n",
    "end_dt =  datetime(2019,12,31,23,55)\n",
    "dts = np.arange( start_dt,\n",
    "                end_dt, \n",
    "                timedelta(minutes=5)).astype(datetime)\n",
    "timestamps = ['{:%Y%m%d%H%M}'.format(dt) for dt in dts]\n",
    "print('Example timestamp: ', timestamps[0], ' Number of timestamps: ', len(timestamps))"
   ]
  },
  {
   "cell_type": "code",
   "execution_count": 48,
   "metadata": {},
   "outputs": [
    {
     "name": "stdout",
     "output_type": "stream",
     "text": [
      "3min 16s ± 182 ms per loop (mean ± std. dev. of 7 runs, 1 loop each)\n"
     ]
    }
   ],
   "source": [
    "%%timeit\n",
    "for ts in timestamps:\n",
    "    load_h5(ts) "
   ]
  },
  {
   "cell_type": "code",
   "execution_count": 69,
   "metadata": {},
   "outputs": [
    {
     "name": "stdout",
     "output_type": "stream",
     "text": [
      "5min 24s ± 56 s per loop (mean ± std. dev. of 7 runs, 1 loop each)\n"
     ]
    }
   ],
   "source": [
    "%%timeit\n",
    "for ts in timestamps:\n",
    "    load_h5(ts) "
   ]
  },
  {
   "cell_type": "code",
   "execution_count": 49,
   "metadata": {},
   "outputs": [
    {
     "name": "stdout",
     "output_type": "stream",
     "text": [
      "21min 9s ± 19.6 s per loop (mean ± std. dev. of 7 runs, 1 loop each)\n"
     ]
    }
   ],
   "source": [
    "%%timeit\n",
    "for ts in timestamps:\n",
    "    load_np(ts) "
   ]
  },
  {
   "cell_type": "code",
   "execution_count": 68,
   "metadata": {},
   "outputs": [
    {
     "name": "stdout",
     "output_type": "stream",
     "text": [
      "20min 57s ± 922 ms per loop (mean ± std. dev. of 7 runs, 1 loop each)\n"
     ]
    }
   ],
   "source": [
    "%%timeit\n",
    "for ts in timestamps:\n",
    "    load_np_close(ts) "
   ]
  },
  {
   "cell_type": "markdown",
   "metadata": {},
   "source": [
    "## Test loading batchsize of images"
   ]
  },
  {
   "cell_type": "markdown",
   "metadata": {},
   "source": [
    "The algorithm will be trained on sequence batches. Assume sequence length input is 6 images and output size is also 6. Using a batchsize of 64 would load 6*64=384 images"
   ]
  },
  {
   "cell_type": "code",
   "execution_count": 22,
   "metadata": {},
   "outputs": [
    {
     "name": "stdout",
     "output_type": "stream",
     "text": [
      "Example timestamp:  201901010000  Number of timestamps:  384\n"
     ]
    }
   ],
   "source": [
    "start_dt = datetime(2019,1,1,0,0)\n",
    "end_dt =  datetime(2019,1,2,8,0)\n",
    "dts = np.arange( start_dt,\n",
    "                end_dt, \n",
    "                timedelta(minutes=5)).astype(datetime)\n",
    "timestamps = ['{:%Y%m%d%H%M}'.format(dt) for dt in dts]\n",
    "print('Example timestamp: ', timestamps[0], ' Number of timestamps: ', len(timestamps))"
   ]
  },
  {
   "cell_type": "code",
   "execution_count": 70,
   "metadata": {},
   "outputs": [
    {
     "name": "stdout",
     "output_type": "stream",
     "text": [
      "32 s ± 45.5 ms per loop (mean ± std. dev. of 7 runs, 1 loop each)\n"
     ]
    }
   ],
   "source": [
    "%%timeit\n",
    "for ts in timestamps:\n",
    "    load_h5(ts) "
   ]
  },
  {
   "cell_type": "code",
   "execution_count": 68,
   "metadata": {},
   "outputs": [
    {
     "name": "stdout",
     "output_type": "stream",
     "text": [
      "8.36 s ± 147 ms per loop (mean ± std. dev. of 7 runs, 1 loop each)\n"
     ]
    }
   ],
   "source": [
    "%%timeit\n",
    "for ts in timestamps:\n",
    "    load_np(ts) "
   ]
  },
  {
   "cell_type": "code",
   "execution_count": 69,
   "metadata": {},
   "outputs": [
    {
     "name": "stdout",
     "output_type": "stream",
     "text": [
      "2min 11s ± 576 ms per loop (mean ± std. dev. of 7 runs, 1 loop each)\n"
     ]
    }
   ],
   "source": [
    "%%timeit\n",
    "for ts in timestamps:\n",
    "    load_nc(ts) "
   ]
  },
  {
   "cell_type": "code",
   "execution_count": 71,
   "metadata": {},
   "outputs": [
    {
     "name": "stdout",
     "output_type": "stream",
     "text": [
      "32 s ± 33.8 ms per loop (mean ± std. dev. of 7 runs, 1 loop each)\n"
     ]
    }
   ],
   "source": [
    "%%timeit\n",
    "for ts in timestamps:\n",
    "    load_h5(ts) "
   ]
  },
  {
   "cell_type": "code",
   "execution_count": 73,
   "metadata": {},
   "outputs": [
    {
     "name": "stdout",
     "output_type": "stream",
     "text": [
      "8.27 s ± 8.89 ms per loop (mean ± std. dev. of 7 runs, 1 loop each)\n"
     ]
    }
   ],
   "source": [
    "%%timeit\n",
    "for ts in timestamps:\n",
    "    load_np(ts) "
   ]
  },
  {
   "cell_type": "code",
   "execution_count": 72,
   "metadata": {},
   "outputs": [
    {
     "name": "stdout",
     "output_type": "stream",
     "text": [
      "2min 13s ± 694 ms per loop (mean ± std. dev. of 7 runs, 1 loop each)\n"
     ]
    }
   ],
   "source": [
    "%%timeit\n",
    "for ts in timestamps:\n",
    "    load_nc(ts) "
   ]
  }
 ],
 "metadata": {
  "kernelspec": {
   "display_name": "Python 3",
   "language": "python",
   "name": "python3"
  },
  "language_info": {
   "codemirror_mode": {
    "name": "ipython",
    "version": 3
   },
   "file_extension": ".py",
   "mimetype": "text/x-python",
   "name": "python",
   "nbconvert_exporter": "python",
   "pygments_lexer": "ipython3",
   "version": "3.7.9"
  }
 },
 "nbformat": 4,
 "nbformat_minor": 2
}
