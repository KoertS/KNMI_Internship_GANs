{
 "cells": [
  {
   "cell_type": "code",
   "execution_count": 1,
   "metadata": {},
   "outputs": [],
   "source": [
    "import os\n",
    "import tarfile\n",
    "import re\n",
    "import numpy as np\n",
    "import h5py\n",
    "import matplotlib.pyplot as plt\n",
    "import pandas as pd\n",
    "from tqdm import tqdm\n",
    "import zipfile"
   ]
  },
  {
   "cell_type": "markdown",
   "metadata": {},
   "source": [
    "# Raw Radar Data"
   ]
  },
  {
   "cell_type": "code",
   "execution_count": 2,
   "metadata": {},
   "outputs": [],
   "source": [
    "path_ds = '/nobackup/users/schreurs/project_GAN/dataset'"
   ]
  },
  {
   "cell_type": "code",
   "execution_count": 3,
   "metadata": {},
   "outputs": [
    {
     "name": "stdout",
     "output_type": "stream",
     "text": [
      "\u001b[0m\u001b[01;34mRAD25_OPER_R___TARRRE__L2__201812170755_201812180800_0001\u001b[0m/\r\n",
      "\u001b[01;31mRAD25_OPER_R___TARRRE__L2__201812170755_201812180800_0001.tar\u001b[0m\r\n",
      "\u001b[01;34mRAD25_OPER_R___TARRRE__L2__201812180755_201812190800_0001\u001b[0m/\r\n",
      "\u001b[01;31mRAD25_OPER_R___TARRRE__L2__201812180755_201812190800_0001.tar\u001b[0m\r\n",
      "\u001b[01;34mRAD25_OPER_R___TARRRE__L2__201812190755_201812200800_0001\u001b[0m/\r\n",
      "ls: write error\r\n"
     ]
    }
   ],
   "source": [
    "ls /nobackup/users/schreurs/project_GAN/dataset | head -5"
   ]
  },
  {
   "cell_type": "code",
   "execution_count": 4,
   "metadata": {},
   "outputs": [
    {
     "name": "stdout",
     "output_type": "stream",
     "text": [
      "Number of days in dataset =  772\n"
     ]
    }
   ],
   "source": [
    "files = [f for f in os.listdir(path_ds) if os.path.isfile(os.path.join(path_ds, f))]\n",
    "print(\"Number of days in dataset = \", len(files))"
   ]
  },
  {
   "cell_type": "code",
   "execution_count": 5,
   "metadata": {},
   "outputs": [
    {
     "data": {
      "text/plain": [
       "'RAD25_OPER_R___TARRRE__L2__20190826T080500_20190827T080000_0001.tar'"
      ]
     },
     "execution_count": 5,
     "metadata": {},
     "output_type": "execute_result"
    }
   ],
   "source": [
    "files[0]"
   ]
  },
  {
   "cell_type": "markdown",
   "metadata": {},
   "source": [
    "## Unpack the tar files\n",
    "The download dataset consists of 772 days each packed in a tar file. With the code below the tar files are unpacked into folders with the same name"
   ]
  },
  {
   "cell_type": "code",
   "execution_count": 5,
   "metadata": {},
   "outputs": [
    {
     "name": "stdout",
     "output_type": "stream",
     "text": [
      "tar path:  /nobackup/users/schreurs/project_GAN/dataset/RAD25_OPER_R___TARRRE__L2__20190826T080500_20190827T080000_0001.tar\n",
      "unpack in folder:  /nobackup/users/schreurs/project_GAN/dataset/RAD25_OPER_R___TARRRE__L2__20190826T080500_20190827T080000_0001\n"
     ]
    }
   ],
   "source": [
    "# Testing path\n",
    "tar_path = path_ds + '/' + files[0]\n",
    "print(\"tar path: \", tar_path)\n",
    "unpack_folder = tar_path.replace('.tar','')\n",
    "print(\"unpack in folder: \", unpack_folder)"
   ]
  },
  {
   "cell_type": "code",
   "execution_count": 16,
   "metadata": {},
   "outputs": [],
   "source": [
    "for file in files:\n",
    "    tar_path = path_ds + '/' + file\n",
    "    unpack_folder = tar_path.replace('.tar', '')\n",
    "    \n",
    "    tar_file = tarfile.open(tar_path)\n",
    "    tar_file.extractall(unpack_folder) \n",
    "    tar_file.close()"
   ]
  },
  {
   "cell_type": "markdown",
   "metadata": {},
   "source": [
    "## Open folders\n",
    "\n",
    "Opening files in the create folders:"
   ]
  },
  {
   "cell_type": "code",
   "execution_count": 6,
   "metadata": {},
   "outputs": [],
   "source": [
    "folders = [f for f in os.listdir(path_ds) if os.path.isdir(os.path.join(path_ds, f))]"
   ]
  },
  {
   "cell_type": "code",
   "execution_count": 7,
   "metadata": {},
   "outputs": [
    {
     "data": {
      "text/plain": [
       "'/nobackup/users/schreurs/project_GAN/dataset/RAD25_OPER_R___TARRRE__L2__20190316T080500_20190317T080000_0001'"
      ]
     },
     "execution_count": 7,
     "metadata": {},
     "output_type": "execute_result"
    }
   ],
   "source": [
    "radar_dir = path_ds + '/' + folders[0]\n",
    "radar_dir"
   ]
  },
  {
   "cell_type": "markdown",
   "metadata": {},
   "source": [
    "Test on data of 1 day (folder) and 1 timestamp (file)"
   ]
  },
  {
   "cell_type": "code",
   "execution_count": 8,
   "metadata": {},
   "outputs": [
    {
     "name": "stdout",
     "output_type": "stream",
     "text": [
      "/nobackup/users/schreurs/project_GAN/dataset/RAD25_OPER_R___TARRRE__L2__20190103T080500_20190104T080000_0001\n"
     ]
    }
   ],
   "source": [
    "i = 5\n",
    "radar_dir = path_ds  + '/' + folders[i]\n",
    "print(radar_dir)\n",
    "onlyfiles = [f for f in os.listdir(radar_dir) if os.path.isfile(os.path.join(radar_dir, f))]"
   ]
  },
  {
   "cell_type": "code",
   "execution_count": 19,
   "metadata": {},
   "outputs": [
    {
     "data": {
      "text/plain": [
       "'RAD_NL25_RAC_RE_201901030930.h5'"
      ]
     },
     "execution_count": 19,
     "metadata": {},
     "output_type": "execute_result"
    }
   ],
   "source": [
    "onlyfiles[i]"
   ]
  },
  {
   "cell_type": "code",
   "execution_count": 9,
   "metadata": {},
   "outputs": [
    {
     "name": "stdout",
     "output_type": "stream",
     "text": [
      "shape image:  (765, 700)\n",
      "Uniques values in radar:  34\n",
      "Unique values in mask:  10297\n"
     ]
    }
   ],
   "source": [
    "h5f = h5py.File(radar_dir+'/'+onlyfiles[i], 'r')\n",
    "radar_img = np.array(h5f['image1']['image_data'])\n",
    "img_mask = np.array(h5f['image2']['image_data'])\n",
    "print('shape image: ', radar_img.shape)\n",
    "print(\"Uniques values in radar: \", len(np.unique(radar_img)))\n",
    "print(\"Unique values in mask: \", len(np.unique(img_mask)))"
   ]
  },
  {
   "cell_type": "markdown",
   "metadata": {},
   "source": [
    "Apparently the mask can have than two different values. So let's take a look at the images"
   ]
  },
  {
   "cell_type": "code",
   "execution_count": 10,
   "metadata": {},
   "outputs": [
    {
     "data": {
      "image/png": "[encoded data removed]",
      "text/plain": [
       "<Figure size 432x288 with 1 Axes>"
      ]
     },
     "metadata": {
      "needs_background": "light"
     },
     "output_type": "display_data"
    }
   ],
   "source": [
    "# Set the masked pixel to 0 so that difference between pixel values can be better seen\n",
    "radar_img[radar_img==65535] = 0\n",
    "plt.imshow(radar_img)\n",
    "plt.show()"
   ]
  },
  {
   "cell_type": "code",
   "execution_count": 11,
   "metadata": {
    "scrolled": true
   },
   "outputs": [
    {
     "data": {
      "image/png": "[encoded data removed]",
      "text/plain": [
       "<Figure size 432x288 with 1 Axes>"
      ]
     },
     "metadata": {
      "needs_background": "light"
     },
     "output_type": "display_data"
    }
   ],
   "source": [
    "plt.imshow(img_mask)\n",
    "plt.show()"
   ]
  },
  {
   "cell_type": "markdown",
   "metadata": {},
   "source": [
    "Seems like the rough shape of the netherlands is displayed in this mask. Not sure how this image data should be interpreted.\n",
    "\n",
    "Update: image2 displays correction fields, these are not needed for this project. image1 data is the only data that should be used in this project"
   ]
  },
  {
   "cell_type": "markdown",
   "metadata": {},
   "source": [
    "## Convert data to numpy arrays\n",
    "\n",
    "Convert h5 files to dataframe. The dataframe has three columns: timestamp, radar image data and the mask image data."
   ]
  },
  {
   "cell_type": "code",
   "execution_count": 12,
   "metadata": {},
   "outputs": [
    {
     "name": "stdout",
     "output_type": "stream",
     "text": [
      "RAD_NL25_RAC_RE_201901031355.h5\n"
     ]
    },
    {
     "data": {
      "text/plain": [
       "'201901031355'"
      ]
     },
     "execution_count": 12,
     "metadata": {},
     "output_type": "execute_result"
    }
   ],
   "source": [
    "# Regex pattern to extract timestamp from filename\n",
    "print(onlyfiles[0])\n",
    "regex_p = re.compile('(\\d{12})\\.h5')\n",
    "regex_p.findall(onlyfiles[0])[0]"
   ]
  },
  {
   "cell_type": "code",
   "execution_count": 39,
   "metadata": {},
   "outputs": [
    {
     "name": "stdout",
     "output_type": "stream",
     "text": [
      "RAD25_OPER_R___TARRRE__L2__20201216T080500_20201217T080000_0001\n"
     ]
    },
    {
     "data": {
      "text/plain": [
       "'20190316T080500_20190317T080000'"
      ]
     },
     "execution_count": 39,
     "metadata": {},
     "output_type": "execute_result"
    }
   ],
   "source": [
    "folders = [f for f in os.listdir(path_ds) if os.path.isdir(os.path.join(path_ds, f))]\n",
    "print(folders[2])\n",
    "# Regex to extract time interval of folder\n",
    "regex_p = re.compile('.+__(.+)_0001')\n",
    "regex_p.findall(folders[0])[0]"
   ]
  },
  {
   "cell_type": "code",
   "execution_count": 37,
   "metadata": {},
   "outputs": [],
   "source": [
    "def load_h5(file_path):\n",
    "    radar_img = None\n",
    "    with h5py.File(file_path, 'r') as f:\n",
    "        try:\n",
    "            radar_img = np.array(f['image1']['image_data'])\n",
    "        except:\n",
    "            print(\"Error: could not read image1 data, file {}\".format(file_path))\n",
    "    return radar_img"
   ]
  },
  {
   "cell_type": "code",
   "execution_count": 7,
   "metadata": {},
   "outputs": [],
   "source": [
    "def preprocess(in_dir, out_dir):\n",
    "    '''\n",
    "    Preprocess the h5 file into numpy arrays. \n",
    "    The timestamp, image1 and image2 data of each file is stored\n",
    "    '''\n",
    "    # Create directory if it does not exist\n",
    "    if not os.path.exists(out_dir):\n",
    "        os.makedirs(out_dir)\n",
    "    \n",
    "    folders = [f for f in os.listdir(in_dir) if os.path.isdir(os.path.join(in_dir, f))]\n",
    "    \n",
    "    # Pattern for detecting timestamp in filename\n",
    "    regex_file = re.compile('(\\d{12})\\.h5')\n",
    "    # Pattern for detecting time interval in foldername\n",
    "    regex_folder = re.compile('.+__(.+)_0001')\n",
    "    \n",
    "    \n",
    "    for folder in tqdm(folders):\n",
    "        radar_dir = in_dir + '/' + folder\n",
    "        \n",
    "        # check if regex pattern finds a timestamp\n",
    "        try:\n",
    "            interval = regex_folder.findall(folder)[0] \n",
    "        except:\n",
    "            print('Error: could not find timestamp in folder {}'.format(folder))\n",
    "            \n",
    "        radar_dir_out = out_dir + '/' + interval + '/'    \n",
    "        # Create directory if it does not exist\n",
    "        if not os.path.exists(radar_dir_out):\n",
    "            os.makedirs(radar_dir_out)        \n",
    "        \n",
    "        files = [f for f in os.listdir(radar_dir) if os.path.isfile(os.path.join(radar_dir, f))]\n",
    "        \n",
    "    \n",
    "        for file in files:\n",
    "            timestamp = int(regex_file.findall(file)[0])\n",
    "            scan_fn = radar_dir_out + \"{}.npy\".format(timestamp)\n",
    "            \n",
    "            image1 = load_h5(radar_dir + '/' + file)\n",
    "            \n",
    "            radar_data = np.array([timestamp, image1])\n",
    "            np.save(scan_fn, radar_data)    "
   ]
  },
  {
   "cell_type": "code",
   "execution_count": 8,
   "metadata": {
    "scrolled": true
   },
   "outputs": [
    {
     "name": "stderr",
     "output_type": "stream",
     "text": [
      "  0%|          | 0/772 [00:00<?, ?it/s]/usr/lib/python3.7/site-packages/ipykernel_launcher.py:3: H5pyDeprecationWarning: The default file mode will change to 'r' (read-only) in h5py 3.0. To suppress this warning, pass the mode you need to h5py.File(), or set the global default h5.get_config().default_file_mode, or set the environment variable H5PY_DEFAULT_READONLY=1. Available modes are: 'r', 'r+', 'w', 'w-'/'x', 'a'. See the docs for details.\n",
      "  This is separate from the ipykernel package so we can avoid doing imports until\n",
      "/usr/lib/python3.7/site-packages/ipykernel_launcher.py:42: VisibleDeprecationWarning: Creating an ndarray from ragged nested sequences (which is a list-or-tuple of lists-or-tuples-or ndarrays with different lengths or shapes) is deprecated. If you meant to do this, you must specify 'dtype=object' when creating the ndarray\n",
      "  5%|▌         | 42/772 [02:49<34:15,  2.82s/it]  "
     ]
    },
    {
     "name": "stdout",
     "output_type": "stream",
     "text": [
      "Error: could not read image1 data, file /nobackup/users/schreurs/project_GAN/dataset/RAD25_OPER_R___TARRRE__L2__20190727T080500_20190728T080000_0001/RAD_NL25_RAC_RE_201907271440.h5\n"
     ]
    },
    {
     "name": "stderr",
     "output_type": "stream",
     "text": [
      "  7%|▋         | 55/772 [03:27<35:55,  3.01s/it]"
     ]
    },
    {
     "name": "stdout",
     "output_type": "stream",
     "text": [
      "Error: could not read image1 data, file /nobackup/users/schreurs/project_GAN/dataset/RAD25_OPER_R___TARRRE__L2__20190907T080500_20190908T080000_0001/RAD_NL25_RAC_RE_201909080450.h5\n"
     ]
    },
    {
     "name": "stderr",
     "output_type": "stream",
     "text": [
      " 12%|█▏        | 93/772 [05:34<30:09,  2.66s/it]  "
     ]
    },
    {
     "name": "stdout",
     "output_type": "stream",
     "text": [
      "Error: could not read image1 data, file /nobackup/users/schreurs/project_GAN/dataset/RAD25_OPER_R___TARRRE__L2__20190807T080500_20190808T080000_0001/RAD_NL25_RAC_RE_201908072010.h5\n"
     ]
    },
    {
     "name": "stderr",
     "output_type": "stream",
     "text": [
      " 16%|█▌        | 120/772 [07:03<29:36,  2.72s/it]  "
     ]
    },
    {
     "name": "stdout",
     "output_type": "stream",
     "text": [
      "Error: could not read image1 data, file /nobackup/users/schreurs/project_GAN/dataset/RAD25_OPER_R___TARRRE__L2__20200113T080500_20200114T080000_0001/RAD_NL25_RAC_RE_202001140245.h5\n"
     ]
    },
    {
     "name": "stderr",
     "output_type": "stream",
     "text": [
      " 17%|█▋        | 132/772 [07:44<18:51,  1.77s/it]  "
     ]
    },
    {
     "name": "stdout",
     "output_type": "stream",
     "text": [
      "Error: could not read image1 data, file /nobackup/users/schreurs/project_GAN/dataset/RAD25_OPER_R___TARRRE__L2__20200106T080500_20200107T080000_0001/RAD_NL25_RAC_RE_202001061000.h5\n"
     ]
    },
    {
     "name": "stderr",
     "output_type": "stream",
     "text": [
      " 23%|██▎       | 179/772 [10:44<17:09,  1.74s/it]  "
     ]
    },
    {
     "name": "stdout",
     "output_type": "stream",
     "text": [
      "Error: could not read image1 data, file /nobackup/users/schreurs/project_GAN/dataset/RAD25_OPER_R___TARRRE__L2__20190508T080500_20190509T080000_0001/RAD_NL25_RAC_RE_201905090650.h5\n"
     ]
    },
    {
     "name": "stderr",
     "output_type": "stream",
     "text": [
      " 34%|███▍      | 265/772 [16:11<42:06,  4.98s/it]  "
     ]
    },
    {
     "name": "stdout",
     "output_type": "stream",
     "text": [
      "Error: could not read image1 data, file /nobackup/users/schreurs/project_GAN/dataset/RAD25_OPER_R___TARRRE__L2__20190817T080500_20190818T080000_0001/RAD_NL25_RAC_RE_201908171305.h5\n"
     ]
    },
    {
     "name": "stderr",
     "output_type": "stream",
     "text": [
      " 35%|███▌      | 271/772 [16:21<17:34,  2.10s/it]"
     ]
    },
    {
     "name": "stdout",
     "output_type": "stream",
     "text": [
      "Error: could not read image1 data, file /nobackup/users/schreurs/project_GAN/dataset/RAD25_OPER_R___TARRRE__L2__20191223T080500_20191224T080000_0001/RAD_NL25_RAC_RE_201912230900.h5\n"
     ]
    },
    {
     "name": "stderr",
     "output_type": "stream",
     "text": [
      " 40%|███▉      | 308/772 [19:03<1:03:00,  8.15s/it]"
     ]
    },
    {
     "name": "stdout",
     "output_type": "stream",
     "text": [
      "Error: could not read image1 data, file /nobackup/users/schreurs/project_GAN/dataset/RAD25_OPER_R___TARRRE__L2__20191130T080500_20191201T080000_0001/RAD_NL25_RAC_RE_201912010215.h5\n"
     ]
    },
    {
     "name": "stderr",
     "output_type": "stream",
     "text": [
      " 40%|████      | 312/772 [19:14<29:08,  3.80s/it]  "
     ]
    },
    {
     "name": "stdout",
     "output_type": "stream",
     "text": [
      "Error: could not read image1 data, file /nobackup/users/schreurs/project_GAN/dataset/RAD25_OPER_R___TARRRE__L2__20190814T080500_20190815T080000_0001/RAD_NL25_RAC_RE_201908150250.h5\n"
     ]
    },
    {
     "name": "stderr",
     "output_type": "stream",
     "text": [
      " 50%|█████     | 387/772 [23:56<13:31,  2.11s/it]  "
     ]
    },
    {
     "name": "stdout",
     "output_type": "stream",
     "text": [
      "Error: could not read image1 data, file /nobackup/users/schreurs/project_GAN/dataset/RAD25_OPER_R___TARRRE__L2__20191208T080500_20191209T080000_0001/RAD_NL25_RAC_RE_201912081405.h5\n"
     ]
    },
    {
     "name": "stderr",
     "output_type": "stream",
     "text": [
      " 52%|█████▏    | 403/772 [25:10<25:13,  4.10s/it]  "
     ]
    },
    {
     "name": "stdout",
     "output_type": "stream",
     "text": [
      "Error: could not read image1 data, file /nobackup/users/schreurs/project_GAN/dataset/RAD25_OPER_R___TARRRE__L2__20190414T080500_20190415T080000_0001/RAD_NL25_RAC_RE_201904141520.h5\n"
     ]
    },
    {
     "name": "stderr",
     "output_type": "stream",
     "text": [
      " 58%|█████▊    | 449/772 [27:53<13:20,  2.48s/it]"
     ]
    },
    {
     "name": "stdout",
     "output_type": "stream",
     "text": [
      "Error: could not read image1 data, file /nobackup/users/schreurs/project_GAN/dataset/RAD25_OPER_R___TARRRE__L2__20190724T080500_20190725T080000_0001/RAD_NL25_RAC_RE_201907241320.h5\n"
     ]
    },
    {
     "name": "stderr",
     "output_type": "stream",
     "text": [
      " 61%|██████    | 470/772 [29:19<10:48,  2.15s/it]"
     ]
    },
    {
     "name": "stdout",
     "output_type": "stream",
     "text": [
      "Error: could not read image1 data, file /nobackup/users/schreurs/project_GAN/dataset/RAD25_OPER_R___TARRRE__L2__20191213T080500_20191214T080000_0001/RAD_NL25_RAC_RE_201912130840.h5\n"
     ]
    },
    {
     "name": "stderr",
     "output_type": "stream",
     "text": [
      " 64%|██████▍   | 496/772 [31:00<18:23,  4.00s/it]"
     ]
    },
    {
     "name": "stdout",
     "output_type": "stream",
     "text": [
      "Error: could not read image1 data, file /nobackup/users/schreurs/project_GAN/dataset/RAD25_OPER_R___TARRRE__L2__20190725T080500_20190726T080000_0001/RAD_NL25_RAC_RE_201907260635.h5\n"
     ]
    },
    {
     "name": "stderr",
     "output_type": "stream",
     "text": [
      " 70%|███████   | 542/772 [34:14<32:35,  8.50s/it]"
     ]
    },
    {
     "name": "stdout",
     "output_type": "stream",
     "text": [
      "Error: could not read image1 data, file /nobackup/users/schreurs/project_GAN/dataset/RAD25_OPER_R___TARRRE__L2__20200109T080500_20200110T080000_0001/RAD_NL25_RAC_RE_202001091945.h5\n"
     ]
    },
    {
     "name": "stderr",
     "output_type": "stream",
     "text": [
      " 78%|███████▊  | 605/772 [38:16<10:47,  3.88s/it]"
     ]
    },
    {
     "name": "stdout",
     "output_type": "stream",
     "text": [
      "Error: could not read image1 data, file /nobackup/users/schreurs/project_GAN/dataset/RAD25_OPER_R___TARRRE__L2__20200128T080500_20200129T080000_0001/RAD_NL25_RAC_RE_202001282310.h5\n"
     ]
    },
    {
     "name": "stderr",
     "output_type": "stream",
     "text": [
      " 87%|████████▋ | 672/772 [42:43<08:25,  5.05s/it]"
     ]
    },
    {
     "name": "stdout",
     "output_type": "stream",
     "text": [
      "Error: could not read image1 data, file /nobackup/users/schreurs/project_GAN/dataset/RAD25_OPER_R___TARRRE__L2__20191203T080500_20191204T080000_0001/RAD_NL25_RAC_RE_201912031750.h5\n"
     ]
    },
    {
     "name": "stderr",
     "output_type": "stream",
     "text": [
      " 94%|█████████▍| 726/772 [46:32<04:53,  6.38s/it]"
     ]
    },
    {
     "name": "stdout",
     "output_type": "stream",
     "text": [
      "Error: could not read image1 data, file /nobackup/users/schreurs/project_GAN/dataset/RAD25_OPER_R___TARRRE__L2__20191025T080500_20191026T080000_0001/RAD_NL25_RAC_RE_201910260420.h5\n"
     ]
    },
    {
     "name": "stderr",
     "output_type": "stream",
     "text": [
      " 96%|█████████▋| 744/772 [47:35<00:57,  2.05s/it]"
     ]
    },
    {
     "name": "stdout",
     "output_type": "stream",
     "text": [
      "Error: could not read image1 data, file /nobackup/users/schreurs/project_GAN/dataset/RAD25_OPER_R___TARRRE__L2__20200119T080500_20200120T080000_0001/RAD_NL25_RAC_RE_202001200000.h5\n"
     ]
    },
    {
     "name": "stderr",
     "output_type": "stream",
     "text": [
      "100%|██████████| 772/772 [49:33<00:00,  3.85s/it]\n"
     ]
    }
   ],
   "source": [
    "in_dir = '/nobackup/users/schreurs/project_GAN/dataset'\n",
    "out_dir = '/nobackup/users/schreurs/project_GAN/dataset_np'\n",
    "preprocess(in_dir, out_dir)"
   ]
  },
  {
   "cell_type": "markdown",
   "metadata": {},
   "source": [
    "## Problem: three files have no image_data"
   ]
  },
  {
   "cell_type": "markdown",
   "metadata": {},
   "source": [
    "Apparently there are a couple of timestamps that miss image1 data (i.e. no image_data dataset in the h5 file). \n",
    "Should look into whether these timestamps miss data or if the files got corrupted during downloading. With the code below I compare the content of h5 file of timestamp that was said to miss image_data with one that had this data"
   ]
  },
  {
   "cell_type": "code",
   "execution_count": 29,
   "metadata": {},
   "outputs": [],
   "source": [
    "# https://stackoverflow.com/questions/44883175/how-to-list-all-datasets-in-h5py-file\n",
    "# show all data in a hdf5 file\n",
    "def descend_obj(obj,sep='\\t'):\n",
    "    \"\"\"\n",
    "    Iterate through groups in a HDF5 file and prints the groups and datasets names and datasets attributes\n",
    "    \"\"\"\n",
    "    if type(obj) in [h5py._hl.group.Group,h5py._hl.files.File]:\n",
    "        for key in obj.keys():\n",
    "            print(sep,'-',key,':',obj[key])\n",
    "            descend_obj(obj[key],sep=sep+'\\t')\n",
    "    elif type(obj)==h5py._hl.dataset.Dataset:\n",
    "        for key in obj.attrs.keys():\n",
    "            print(sep + '\\t', '-',key,':',obj.attrs[key])\n",
    "\n",
    "def h5dump(path,group='/'):\n",
    "    \"\"\"\n",
    "    print HDF5 file metadata\n",
    "\n",
    "    group: you can give a specific group, defaults to the root group\n",
    "    \"\"\"\n",
    "    with h5py.File(path,'r') as f:\n",
    "         descend_obj(f[group])"
   ]
  },
  {
   "cell_type": "code",
   "execution_count": 31,
   "metadata": {},
   "outputs": [
    {
     "name": "stdout",
     "output_type": "stream",
     "text": [
      "\t - geographic : <HDF5 group \"/geographic\" (1 members)>\n",
      "\t\t - map_projection : <HDF5 group \"/geographic/map_projection\" (0 members)>\n",
      "\t - image1 : <HDF5 group \"/image1\" (2 members)>\n",
      "\t\t - calibration : <HDF5 group \"/image1/calibration\" (0 members)>\n",
      "\t\t - statistics : <HDF5 group \"/image1/statistics\" (0 members)>\n",
      "\t - image2 : <HDF5 group \"/image2\" (3 members)>\n",
      "\t\t - calibration : <HDF5 group \"/image2/calibration\" (0 members)>\n",
      "\t\t - image_data : <HDF5 dataset \"image_data\": shape (765, 700), type \"<u2\">\n",
      "\t\t - statistics : <HDF5 group \"/image2/statistics\" (0 members)>\n",
      "\t - overview : <HDF5 group \"/overview\" (0 members)>\n",
      "\t - radar1 : <HDF5 group \"/radar1\" (0 members)>\n",
      "\t - radar2 : <HDF5 group \"/radar2\" (0 members)>\n",
      "\t - radar3 : <HDF5 group \"/radar3\" (0 members)>\n",
      "\t - radar4 : <HDF5 group \"/radar4\" (0 members)>\n",
      "\t - radar5 : <HDF5 group \"/radar5\" (0 members)>\n",
      "\t - radar6 : <HDF5 group \"/radar6\" (0 members)>\n"
     ]
    }
   ],
   "source": [
    "path_error= '/nobackup/users/schreurs/project_GAN/dataset/RAD25_OPER_R___TARRRE__L2__20190727T080500_20190728T080000_0001/RAD_NL25_RAC_RE_201907271440.h5'\n",
    "h5dump(path_error)"
   ]
  },
  {
   "cell_type": "code",
   "execution_count": 32,
   "metadata": {},
   "outputs": [
    {
     "name": "stdout",
     "output_type": "stream",
     "text": [
      "\t - geographic : <HDF5 group \"/geographic\" (1 members)>\n",
      "\t\t - map_projection : <HDF5 group \"/geographic/map_projection\" (0 members)>\n",
      "\t - image1 : <HDF5 group \"/image1\" (3 members)>\n",
      "\t\t - calibration : <HDF5 group \"/image1/calibration\" (0 members)>\n",
      "\t\t - image_data : <HDF5 dataset \"image_data\": shape (765, 700), type \"<u2\">\n",
      "\t\t - statistics : <HDF5 group \"/image1/statistics\" (0 members)>\n",
      "\t - image2 : <HDF5 group \"/image2\" (3 members)>\n",
      "\t\t - calibration : <HDF5 group \"/image2/calibration\" (0 members)>\n",
      "\t\t - image_data : <HDF5 dataset \"image_data\": shape (765, 700), type \"<u2\">\n",
      "\t\t - statistics : <HDF5 group \"/image2/statistics\" (0 members)>\n",
      "\t - overview : <HDF5 group \"/overview\" (0 members)>\n",
      "\t - radar1 : <HDF5 group \"/radar1\" (0 members)>\n",
      "\t - radar2 : <HDF5 group \"/radar2\" (0 members)>\n",
      "\t - radar3 : <HDF5 group \"/radar3\" (0 members)>\n",
      "\t - radar4 : <HDF5 group \"/radar4\" (0 members)>\n",
      "\t - radar5 : <HDF5 group \"/radar5\" (0 members)>\n",
      "\t - radar6 : <HDF5 group \"/radar6\" (0 members)>\n"
     ]
    }
   ],
   "source": [
    "path_no_error= '/nobackup/users/schreurs/project_GAN/dataset/RAD25_OPER_R___TARRRE__L2__20190727T080500_20190728T080000_0001/RAD_NL25_RAC_RE_201907271540.h5'\n",
    "h5dump(path_no_error)"
   ]
  },
  {
   "cell_type": "markdown",
   "metadata": {},
   "source": [
    "## Pack data into sequences\n",
    "\n",
    "Instead of storing 1 timestamp in 1 file, store a sequence of radarscans into 1 file. This will make loading the training data easier as the sequence of radarscans does not have to be made at runtime. These packages of sequences can later be linked with the target data.\n",
    "\n",
    "First the radar scans are packed into sequences of 30 minutes (6 radarscans long). These can then be matched with the Aarts target data of 30 minutes ahead. This would mean that there are 288/6 = 48 sequences in a day(/folder)"
   ]
  },
  {
   "cell_type": "code",
   "execution_count": 7,
   "metadata": {},
   "outputs": [],
   "source": [
    "np_dir = '/nobackup/users/schreurs/project_GAN/dataset_np/'\n",
    "dir_30m = '/nobackup/users/schreurs/project_GAN/dataset_np_30m/'"
   ]
  },
  {
   "cell_type": "code",
   "execution_count": 154,
   "metadata": {},
   "outputs": [],
   "source": [
    "def preprocess_into_sequences(in_dir, out_dir, n=6):\n",
    "    '''\n",
    "    Preprocess the numpy files into sequences. \n",
    "    n is the length of the input sequence, default is 6 images (with interval of 5 resulting in 30 minutes)\n",
    "    '''\n",
    "    # Create directory if it does not exist\n",
    "    if not os.path.exists(out_dir):\n",
    "        os.makedirs(out_dir)\n",
    "    \n",
    "    folders = sorted([f for f in os.listdir(in_dir) if os.path.isdir(os.path.join(in_dir, f))])\n",
    "    \n",
    "    regex_file = re.compile('(\\d{12})\\.h5')\n",
    "    # Each folder corresponds to a day\n",
    "    for folder in tqdm(folders[:100]):\n",
    "        day_dir = in_dir + '/' + folder + '/'\n",
    "        print(day_dir)\n",
    "        # A new file each 5 minutes: 288 files in a day\n",
    "        files = sorted([f for f in os.listdir(day_dir) if os.path.isfile(os.path.join(day_dir, f))])\n",
    "        \n",
    "        if len(files) != 288:\n",
    "            print('Day {} has {} radar scans instead of 288'.format(folder, len(files)))\n",
    "        for i in range(0,len(files)-n, n+1):\n",
    "            sequence_i = files[i:i+n]\n",
    "            \n",
    "            sequence = []\n",
    "            date_prev = None\n",
    "\n",
    "            sequence_name = files[i].replace('.npy', 'seq{}m'.format(5*n))\n",
    "            for file in sequence_i:\n",
    "                file_path = day_dir + file\n",
    "                timestamp, image = np.load(file_path, allow_pickle=True)\n",
    "                \n",
    "                if date_prev:\n",
    "                    # check if interval is 5 \n",
    "                    date_current = datetime.datetime.strptime(str(a), '%Y%m%d%H%M')\n",
    "                    interval = int((date_current-date_prev).seconds / 60) \n",
    "        \n",
    "                    if interval != 5:\n",
    "                        print(date_current, date_prev, interval)\n",
    "                    date_prev = date_current\n",
    "                sequence.append(image)\n",
    "            sequence = np.array(sequence)\n",
    "            #np.save(out_dir+sequence_name, sequence)"
   ]
  },
  {
   "cell_type": "code",
   "execution_count": 155,
   "metadata": {},
   "outputs": [
    {
     "name": "stderr",
     "output_type": "stream",
     "text": [
      "\r",
      "  0%|          | 0/100 [00:00<?, ?it/s]"
     ]
    },
    {
     "name": "stdout",
     "output_type": "stream",
     "text": [
      "/nobackup/users/schreurs/project_GAN/dataset_np/201812170755_201812180800/\n",
      "Day 201812170755_201812180800 has 259 radar scans instead of 288\n",
      "/nobackup/users/schreurs/project_GAN/dataset_np/201812180755_201812190800/\n",
      "Day 201812180755_201812190800 has 547 radar scans instead of 288\n"
     ]
    },
    {
     "name": "stderr",
     "output_type": "stream",
     "text": [
      "\r",
      "  2%|▏         | 2/100 [00:06<05:19,  3.26s/it]"
     ]
    },
    {
     "name": "stdout",
     "output_type": "stream",
     "text": [
      "/nobackup/users/schreurs/project_GAN/dataset_np/201812190755_201812200800/\n",
      "Day 201812190755_201812200800 has 488 radar scans instead of 288\n"
     ]
    },
    {
     "name": "stderr",
     "output_type": "stream",
     "text": [
      "\r",
      "  3%|▎         | 3/100 [00:12<06:57,  4.30s/it]"
     ]
    },
    {
     "name": "stdout",
     "output_type": "stream",
     "text": [
      "/nobackup/users/schreurs/project_GAN/dataset_np/201812200755_201812210800/\n",
      "Day 201812200755_201812210800 has 285 radar scans instead of 288\n"
     ]
    },
    {
     "name": "stderr",
     "output_type": "stream",
     "text": [
      "\r",
      "  4%|▍         | 4/100 [00:15<06:15,  3.91s/it]"
     ]
    },
    {
     "name": "stdout",
     "output_type": "stream",
     "text": [
      "/nobackup/users/schreurs/project_GAN/dataset_np/201812210755_201812220800/\n",
      "Day 201812210755_201812220800 has 277 radar scans instead of 288\n"
     ]
    },
    {
     "name": "stderr",
     "output_type": "stream",
     "text": [
      "\r",
      "  5%|▌         | 5/100 [00:18<05:52,  3.71s/it]"
     ]
    },
    {
     "name": "stdout",
     "output_type": "stream",
     "text": [
      "/nobackup/users/schreurs/project_GAN/dataset_np/20181221T075500_20181222T080000/\n",
      "Day 20181221T075500_20181222T080000 has 277 radar scans instead of 288\n"
     ]
    },
    {
     "name": "stderr",
     "output_type": "stream",
     "text": [
      "\r",
      "  6%|▌         | 6/100 [00:22<05:38,  3.60s/it]"
     ]
    },
    {
     "name": "stdout",
     "output_type": "stream",
     "text": [
      "/nobackup/users/schreurs/project_GAN/dataset_np/20181222T080500_20181223T080000/\n",
      "Day 20181222T080500_20181223T080000 has 286 radar scans instead of 288\n"
     ]
    },
    {
     "name": "stderr",
     "output_type": "stream",
     "text": [
      "\r",
      "  7%|▋         | 7/100 [00:25<05:30,  3.55s/it]"
     ]
    },
    {
     "name": "stdout",
     "output_type": "stream",
     "text": [
      "/nobackup/users/schreurs/project_GAN/dataset_np/20181223T080500_20181224T080000/\n",
      "Day 20181223T080500_20181224T080000 has 287 radar scans instead of 288\n"
     ]
    },
    {
     "name": "stderr",
     "output_type": "stream",
     "text": [
      "\r",
      "  8%|▊         | 8/100 [00:29<05:24,  3.52s/it]"
     ]
    },
    {
     "name": "stdout",
     "output_type": "stream",
     "text": [
      "/nobackup/users/schreurs/project_GAN/dataset_np/20181224T080500_20181225T080000/\n",
      "Day 20181224T080500_20181225T080000 has 286 radar scans instead of 288\n"
     ]
    },
    {
     "name": "stderr",
     "output_type": "stream",
     "text": [
      "\r",
      "  9%|▉         | 9/100 [00:32<05:14,  3.46s/it]"
     ]
    },
    {
     "name": "stdout",
     "output_type": "stream",
     "text": [
      "/nobackup/users/schreurs/project_GAN/dataset_np/20181225T080500_20181226T080000/\n",
      "Day 20181225T080500_20181226T080000 has 283 radar scans instead of 288\n"
     ]
    },
    {
     "name": "stderr",
     "output_type": "stream",
     "text": [
      "\r",
      " 10%|█         | 10/100 [00:35<05:07,  3.42s/it]"
     ]
    },
    {
     "name": "stdout",
     "output_type": "stream",
     "text": [
      "/nobackup/users/schreurs/project_GAN/dataset_np/20181226T080500_20181227T080000/\n",
      "Day 20181226T080500_20181227T080000 has 285 radar scans instead of 288\n"
     ]
    },
    {
     "name": "stderr",
     "output_type": "stream",
     "text": [
      "\r",
      " 11%|█         | 11/100 [00:39<05:03,  3.41s/it]"
     ]
    },
    {
     "name": "stdout",
     "output_type": "stream",
     "text": [
      "/nobackup/users/schreurs/project_GAN/dataset_np/20181227T080500_20181228T080000/\n",
      "Day 20181227T080500_20181228T080000 has 280 radar scans instead of 288\n"
     ]
    },
    {
     "name": "stderr",
     "output_type": "stream",
     "text": [
      "\r",
      " 12%|█▏        | 12/100 [00:42<04:59,  3.40s/it]"
     ]
    },
    {
     "name": "stdout",
     "output_type": "stream",
     "text": [
      "/nobackup/users/schreurs/project_GAN/dataset_np/20181228T080500_20181229T080000/\n",
      "Day 20181228T080500_20181229T080000 has 287 radar scans instead of 288\n"
     ]
    },
    {
     "name": "stderr",
     "output_type": "stream",
     "text": [
      "\r",
      " 13%|█▎        | 13/100 [00:46<04:58,  3.44s/it]"
     ]
    },
    {
     "name": "stdout",
     "output_type": "stream",
     "text": [
      "/nobackup/users/schreurs/project_GAN/dataset_np/20181229T080500_20181230T080000/\n",
      "Day 20181229T080500_20181230T080000 has 283 radar scans instead of 288\n"
     ]
    },
    {
     "name": "stderr",
     "output_type": "stream",
     "text": [
      "\r",
      " 14%|█▍        | 14/100 [00:49<04:55,  3.44s/it]"
     ]
    },
    {
     "name": "stdout",
     "output_type": "stream",
     "text": [
      "/nobackup/users/schreurs/project_GAN/dataset_np/20181230T080500_20181231T080000/\n",
      "Day 20181230T080500_20181231T080000 has 285 radar scans instead of 288\n"
     ]
    },
    {
     "name": "stderr",
     "output_type": "stream",
     "text": [
      "\r",
      " 15%|█▌        | 15/100 [00:52<04:50,  3.42s/it]"
     ]
    },
    {
     "name": "stdout",
     "output_type": "stream",
     "text": [
      "/nobackup/users/schreurs/project_GAN/dataset_np/20181231T080500_20190101T080000/\n",
      "Day 20181231T080500_20190101T080000 has 286 radar scans instead of 288\n"
     ]
    },
    {
     "name": "stderr",
     "output_type": "stream",
     "text": [
      "\r",
      " 16%|█▌        | 16/100 [00:56<04:48,  3.43s/it]"
     ]
    },
    {
     "name": "stdout",
     "output_type": "stream",
     "text": [
      "/nobackup/users/schreurs/project_GAN/dataset_np/20190101T080500_20190102T080000/\n",
      "Day 20190101T080500_20190102T080000 has 286 radar scans instead of 288\n"
     ]
    },
    {
     "name": "stderr",
     "output_type": "stream",
     "text": [
      "\r",
      " 17%|█▋        | 17/100 [00:59<04:43,  3.42s/it]"
     ]
    },
    {
     "name": "stdout",
     "output_type": "stream",
     "text": [
      "/nobackup/users/schreurs/project_GAN/dataset_np/20190102T080500_20190103T080000/\n",
      "Day 20190102T080500_20190103T080000 has 285 radar scans instead of 288\n"
     ]
    },
    {
     "name": "stderr",
     "output_type": "stream",
     "text": [
      "\r",
      " 18%|█▊        | 18/100 [01:03<04:38,  3.40s/it]"
     ]
    },
    {
     "name": "stdout",
     "output_type": "stream",
     "text": [
      "/nobackup/users/schreurs/project_GAN/dataset_np/20190103T080500_20190104T080000/\n",
      "Day 20190103T080500_20190104T080000 has 285 radar scans instead of 288\n"
     ]
    },
    {
     "name": "stderr",
     "output_type": "stream",
     "text": [
      "\r",
      " 19%|█▉        | 19/100 [01:06<04:29,  3.33s/it]"
     ]
    },
    {
     "name": "stdout",
     "output_type": "stream",
     "text": [
      "/nobackup/users/schreurs/project_GAN/dataset_np/20190104T080500_20190105T080000/\n",
      "Day 20190104T080500_20190105T080000 has 287 radar scans instead of 288\n"
     ]
    },
    {
     "name": "stderr",
     "output_type": "stream",
     "text": [
      "\r",
      " 20%|██        | 20/100 [01:09<04:30,  3.38s/it]"
     ]
    },
    {
     "name": "stdout",
     "output_type": "stream",
     "text": [
      "/nobackup/users/schreurs/project_GAN/dataset_np/20190105T080500_20190106T080000/\n"
     ]
    },
    {
     "name": "stderr",
     "output_type": "stream",
     "text": [
      "\r",
      " 21%|██        | 21/100 [01:13<04:29,  3.41s/it]"
     ]
    },
    {
     "name": "stdout",
     "output_type": "stream",
     "text": [
      "/nobackup/users/schreurs/project_GAN/dataset_np/20190106T080500_20190107T080000/\n"
     ]
    },
    {
     "name": "stderr",
     "output_type": "stream",
     "text": [
      "\r",
      " 22%|██▏       | 22/100 [01:16<04:25,  3.41s/it]"
     ]
    },
    {
     "name": "stdout",
     "output_type": "stream",
     "text": [
      "/nobackup/users/schreurs/project_GAN/dataset_np/20190107T080500_20190108T080000/\n",
      "Day 20190107T080500_20190108T080000 has 287 radar scans instead of 288\n"
     ]
    },
    {
     "name": "stderr",
     "output_type": "stream",
     "text": [
      "\r",
      " 23%|██▎       | 23/100 [01:20<04:22,  3.40s/it]"
     ]
    },
    {
     "name": "stdout",
     "output_type": "stream",
     "text": [
      "/nobackup/users/schreurs/project_GAN/dataset_np/20190108T080500_20190109T080000/\n",
      "Day 20190108T080500_20190109T080000 has 287 radar scans instead of 288\n"
     ]
    },
    {
     "name": "stderr",
     "output_type": "stream",
     "text": [
      "\r",
      " 24%|██▍       | 24/100 [01:23<04:18,  3.39s/it]"
     ]
    },
    {
     "name": "stdout",
     "output_type": "stream",
     "text": [
      "/nobackup/users/schreurs/project_GAN/dataset_np/20190109T080500_20190110T080000/\n"
     ]
    },
    {
     "name": "stderr",
     "output_type": "stream",
     "text": [
      "\r",
      " 25%|██▌       | 25/100 [01:26<04:16,  3.43s/it]"
     ]
    },
    {
     "name": "stdout",
     "output_type": "stream",
     "text": [
      "/nobackup/users/schreurs/project_GAN/dataset_np/20190110T080500_20190111T080000/\n",
      "Day 20190110T080500_20190111T080000 has 286 radar scans instead of 288\n"
     ]
    },
    {
     "name": "stderr",
     "output_type": "stream",
     "text": [
      "\r",
      " 26%|██▌       | 26/100 [01:30<04:13,  3.42s/it]"
     ]
    },
    {
     "name": "stdout",
     "output_type": "stream",
     "text": [
      "/nobackup/users/schreurs/project_GAN/dataset_np/20190111T080500_20190112T080000/\n",
      "Day 20190111T080500_20190112T080000 has 283 radar scans instead of 288\n"
     ]
    },
    {
     "name": "stderr",
     "output_type": "stream",
     "text": [
      "\r",
      " 27%|██▋       | 27/100 [01:33<04:04,  3.35s/it]"
     ]
    },
    {
     "name": "stdout",
     "output_type": "stream",
     "text": [
      "/nobackup/users/schreurs/project_GAN/dataset_np/20190112T080500_20190113T080000/\n",
      "Day 20190112T080500_20190113T080000 has 259 radar scans instead of 288\n"
     ]
    },
    {
     "name": "stderr",
     "output_type": "stream",
     "text": [
      "\r",
      " 28%|██▊       | 28/100 [01:36<03:57,  3.29s/it]"
     ]
    },
    {
     "name": "stdout",
     "output_type": "stream",
     "text": [
      "/nobackup/users/schreurs/project_GAN/dataset_np/20190113T080500_20190114T080000/\n",
      "Day 20190113T080500_20190114T080000 has 286 radar scans instead of 288\n"
     ]
    },
    {
     "name": "stderr",
     "output_type": "stream",
     "text": [
      "\r",
      " 29%|██▉       | 29/100 [01:40<03:56,  3.33s/it]"
     ]
    },
    {
     "name": "stdout",
     "output_type": "stream",
     "text": [
      "/nobackup/users/schreurs/project_GAN/dataset_np/20190114T080500_20190115T080000/\n",
      "Day 20190114T080500_20190115T080000 has 285 radar scans instead of 288\n"
     ]
    },
    {
     "name": "stderr",
     "output_type": "stream",
     "text": [
      "\r",
      " 30%|███       | 30/100 [01:43<03:49,  3.27s/it]"
     ]
    },
    {
     "name": "stdout",
     "output_type": "stream",
     "text": [
      "/nobackup/users/schreurs/project_GAN/dataset_np/20190115T080500_20190116T080000/\n",
      "Day 20190115T080500_20190116T080000 has 287 radar scans instead of 288\n"
     ]
    },
    {
     "name": "stderr",
     "output_type": "stream",
     "text": [
      "\r",
      " 31%|███       | 31/100 [01:46<03:49,  3.32s/it]"
     ]
    },
    {
     "name": "stdout",
     "output_type": "stream",
     "text": [
      "/nobackup/users/schreurs/project_GAN/dataset_np/20190116T080500_20190117T080000/\n",
      "Day 20190116T080500_20190117T080000 has 285 radar scans instead of 288\n"
     ]
    },
    {
     "name": "stderr",
     "output_type": "stream",
     "text": [
      "\r",
      " 32%|███▏      | 32/100 [01:50<03:47,  3.34s/it]"
     ]
    },
    {
     "name": "stdout",
     "output_type": "stream",
     "text": [
      "/nobackup/users/schreurs/project_GAN/dataset_np/20190117T080500_20190118T080000/\n",
      "Day 20190117T080500_20190118T080000 has 283 radar scans instead of 288\n"
     ]
    },
    {
     "name": "stderr",
     "output_type": "stream",
     "text": [
      "\r",
      " 33%|███▎      | 33/100 [01:53<03:45,  3.37s/it]"
     ]
    },
    {
     "name": "stdout",
     "output_type": "stream",
     "text": [
      "/nobackup/users/schreurs/project_GAN/dataset_np/20190118T080500_20190119T080000/\n",
      "Day 20190118T080500_20190119T080000 has 281 radar scans instead of 288\n"
     ]
    },
    {
     "name": "stderr",
     "output_type": "stream",
     "text": [
      "\r",
      " 34%|███▍      | 34/100 [01:56<03:37,  3.29s/it]"
     ]
    },
    {
     "name": "stdout",
     "output_type": "stream",
     "text": [
      "/nobackup/users/schreurs/project_GAN/dataset_np/20190119T080500_20190120T080000/\n",
      "Day 20190119T080500_20190120T080000 has 283 radar scans instead of 288\n"
     ]
    },
    {
     "name": "stderr",
     "output_type": "stream",
     "text": [
      "\r",
      " 35%|███▌      | 35/100 [01:59<03:35,  3.32s/it]"
     ]
    },
    {
     "name": "stdout",
     "output_type": "stream",
     "text": [
      "/nobackup/users/schreurs/project_GAN/dataset_np/20190120T080500_20190121T080000/\n",
      "Day 20190120T080500_20190121T080000 has 283 radar scans instead of 288\n"
     ]
    },
    {
     "name": "stderr",
     "output_type": "stream",
     "text": [
      "\r",
      " 36%|███▌      | 36/100 [02:03<03:34,  3.35s/it]"
     ]
    },
    {
     "name": "stdout",
     "output_type": "stream",
     "text": [
      "/nobackup/users/schreurs/project_GAN/dataset_np/20190121T080500_20190122T080000/\n",
      "Day 20190121T080500_20190122T080000 has 284 radar scans instead of 288\n"
     ]
    },
    {
     "name": "stderr",
     "output_type": "stream",
     "text": [
      "\r",
      " 37%|███▋      | 37/100 [02:06<03:26,  3.28s/it]"
     ]
    },
    {
     "name": "stdout",
     "output_type": "stream",
     "text": [
      "/nobackup/users/schreurs/project_GAN/dataset_np/20190122T080500_20190123T080000/\n",
      "Day 20190122T080500_20190123T080000 has 282 radar scans instead of 288\n"
     ]
    },
    {
     "name": "stderr",
     "output_type": "stream",
     "text": [
      "\r",
      " 38%|███▊      | 38/100 [02:09<03:26,  3.32s/it]"
     ]
    },
    {
     "name": "stdout",
     "output_type": "stream",
     "text": [
      "/nobackup/users/schreurs/project_GAN/dataset_np/20190123T080500_20190124T080000/\n",
      "Day 20190123T080500_20190124T080000 has 284 radar scans instead of 288\n"
     ]
    },
    {
     "name": "stderr",
     "output_type": "stream",
     "text": [
      "\r",
      " 39%|███▉      | 39/100 [02:13<03:18,  3.26s/it]"
     ]
    },
    {
     "name": "stdout",
     "output_type": "stream",
     "text": [
      "/nobackup/users/schreurs/project_GAN/dataset_np/20190124T080500_20190125T080000/\n",
      "Day 20190124T080500_20190125T080000 has 280 radar scans instead of 288\n"
     ]
    },
    {
     "name": "stderr",
     "output_type": "stream",
     "text": [
      "\r",
      " 40%|████      | 40/100 [02:16<03:16,  3.28s/it]"
     ]
    },
    {
     "name": "stdout",
     "output_type": "stream",
     "text": [
      "/nobackup/users/schreurs/project_GAN/dataset_np/20190125T080500_20190126T080000/\n",
      "Day 20190125T080500_20190126T080000 has 281 radar scans instead of 288\n"
     ]
    },
    {
     "name": "stderr",
     "output_type": "stream",
     "text": [
      "\r",
      " 41%|████      | 41/100 [02:19<03:13,  3.28s/it]"
     ]
    },
    {
     "name": "stdout",
     "output_type": "stream",
     "text": [
      "/nobackup/users/schreurs/project_GAN/dataset_np/20190126T080500_20190127T080000/\n",
      "Day 20190126T080500_20190127T080000 has 277 radar scans instead of 288\n"
     ]
    },
    {
     "name": "stderr",
     "output_type": "stream",
     "text": [
      "\r",
      " 42%|████▏     | 42/100 [02:22<03:10,  3.29s/it]"
     ]
    },
    {
     "name": "stdout",
     "output_type": "stream",
     "text": [
      "/nobackup/users/schreurs/project_GAN/dataset_np/20190127T080500_20190128T080000/\n",
      "Day 20190127T080500_20190128T080000 has 277 radar scans instead of 288\n"
     ]
    },
    {
     "name": "stderr",
     "output_type": "stream",
     "text": [
      "\r",
      " 43%|████▎     | 43/100 [02:26<03:06,  3.28s/it]"
     ]
    },
    {
     "name": "stdout",
     "output_type": "stream",
     "text": [
      "/nobackup/users/schreurs/project_GAN/dataset_np/20190128T080500_20190129T080000/\n",
      "Day 20190128T080500_20190129T080000 has 274 radar scans instead of 288\n"
     ]
    },
    {
     "name": "stderr",
     "output_type": "stream",
     "text": [
      "\r",
      " 44%|████▍     | 44/100 [02:29<03:03,  3.28s/it]"
     ]
    },
    {
     "name": "stdout",
     "output_type": "stream",
     "text": [
      "/nobackup/users/schreurs/project_GAN/dataset_np/20190129T080500_20190130T080000/\n",
      "Day 20190129T080500_20190130T080000 has 278 radar scans instead of 288\n"
     ]
    },
    {
     "name": "stderr",
     "output_type": "stream",
     "text": [
      "\r",
      " 45%|████▌     | 45/100 [02:32<03:00,  3.27s/it]"
     ]
    },
    {
     "name": "stdout",
     "output_type": "stream",
     "text": [
      "/nobackup/users/schreurs/project_GAN/dataset_np/20190130T080500_20190131T080000/\n",
      "Day 20190130T080500_20190131T080000 has 279 radar scans instead of 288\n"
     ]
    },
    {
     "name": "stderr",
     "output_type": "stream",
     "text": [
      "\r",
      " 46%|████▌     | 46/100 [02:36<02:57,  3.29s/it]"
     ]
    },
    {
     "name": "stdout",
     "output_type": "stream",
     "text": [
      "/nobackup/users/schreurs/project_GAN/dataset_np/20190131T080500_20190201T080000/\n",
      "Day 20190131T080500_20190201T080000 has 280 radar scans instead of 288\n"
     ]
    },
    {
     "name": "stderr",
     "output_type": "stream",
     "text": [
      "\r",
      " 47%|████▋     | 47/100 [02:39<02:55,  3.31s/it]"
     ]
    },
    {
     "name": "stdout",
     "output_type": "stream",
     "text": [
      "/nobackup/users/schreurs/project_GAN/dataset_np/20190201T080500_20190202T080000/\n",
      "Day 20190201T080500_20190202T080000 has 280 radar scans instead of 288\n"
     ]
    },
    {
     "name": "stderr",
     "output_type": "stream",
     "text": [
      "\r",
      " 48%|████▊     | 48/100 [02:42<02:55,  3.37s/it]"
     ]
    },
    {
     "name": "stdout",
     "output_type": "stream",
     "text": [
      "/nobackup/users/schreurs/project_GAN/dataset_np/20190202T080500_20190203T080000/\n",
      "Day 20190202T080500_20190203T080000 has 282 radar scans instead of 288\n"
     ]
    },
    {
     "name": "stderr",
     "output_type": "stream",
     "text": [
      "\r",
      " 49%|████▉     | 49/100 [02:46<02:52,  3.39s/it]"
     ]
    },
    {
     "name": "stdout",
     "output_type": "stream",
     "text": [
      "/nobackup/users/schreurs/project_GAN/dataset_np/20190203T080500_20190204T080000/\n",
      "Day 20190203T080500_20190204T080000 has 280 radar scans instead of 288\n"
     ]
    },
    {
     "name": "stderr",
     "output_type": "stream",
     "text": [
      "\r",
      " 50%|█████     | 50/100 [02:49<02:47,  3.35s/it]"
     ]
    },
    {
     "name": "stdout",
     "output_type": "stream",
     "text": [
      "/nobackup/users/schreurs/project_GAN/dataset_np/20190204T080500_20190205T080000/\n",
      "Day 20190204T080500_20190205T080000 has 280 radar scans instead of 288\n"
     ]
    },
    {
     "name": "stderr",
     "output_type": "stream",
     "text": [
      "\r",
      " 51%|█████     | 51/100 [02:53<02:44,  3.35s/it]"
     ]
    },
    {
     "name": "stdout",
     "output_type": "stream",
     "text": [
      "/nobackup/users/schreurs/project_GAN/dataset_np/20190205T080500_20190206T080000/\n",
      "Day 20190205T080500_20190206T080000 has 281 radar scans instead of 288\n"
     ]
    },
    {
     "name": "stderr",
     "output_type": "stream",
     "text": [
      "\r",
      " 52%|█████▏    | 52/100 [02:56<02:40,  3.35s/it]"
     ]
    },
    {
     "name": "stdout",
     "output_type": "stream",
     "text": [
      "/nobackup/users/schreurs/project_GAN/dataset_np/20190206T080500_20190207T080000/\n",
      "Day 20190206T080500_20190207T080000 has 279 radar scans instead of 288\n"
     ]
    },
    {
     "name": "stderr",
     "output_type": "stream",
     "text": [
      "\r",
      " 53%|█████▎    | 53/100 [02:59<02:35,  3.31s/it]"
     ]
    },
    {
     "name": "stdout",
     "output_type": "stream",
     "text": [
      "/nobackup/users/schreurs/project_GAN/dataset_np/20190207T080500_20190208T080000/\n",
      "Day 20190207T080500_20190208T080000 has 283 radar scans instead of 288\n"
     ]
    },
    {
     "name": "stderr",
     "output_type": "stream",
     "text": [
      "\r",
      " 54%|█████▍    | 54/100 [03:02<02:33,  3.34s/it]"
     ]
    },
    {
     "name": "stdout",
     "output_type": "stream",
     "text": [
      "/nobackup/users/schreurs/project_GAN/dataset_np/20190208T080500_20190209T080000/\n",
      "Day 20190208T080500_20190209T080000 has 247 radar scans instead of 288\n"
     ]
    },
    {
     "name": "stderr",
     "output_type": "stream",
     "text": [
      "\r",
      " 55%|█████▌    | 55/100 [03:05<02:25,  3.23s/it]"
     ]
    },
    {
     "name": "stdout",
     "output_type": "stream",
     "text": [
      "/nobackup/users/schreurs/project_GAN/dataset_np/20190209T080500_20190210T080000/\n",
      "Day 20190209T080500_20190210T080000 has 281 radar scans instead of 288\n"
     ]
    },
    {
     "name": "stderr",
     "output_type": "stream",
     "text": [
      "\r",
      " 56%|█████▌    | 56/100 [03:09<02:22,  3.24s/it]"
     ]
    },
    {
     "name": "stdout",
     "output_type": "stream",
     "text": [
      "/nobackup/users/schreurs/project_GAN/dataset_np/20190210T080500_20190211T080000/\n",
      "Day 20190210T080500_20190211T080000 has 279 radar scans instead of 288\n"
     ]
    },
    {
     "name": "stderr",
     "output_type": "stream",
     "text": [
      "\r",
      " 57%|█████▋    | 57/100 [03:12<02:21,  3.28s/it]"
     ]
    },
    {
     "name": "stdout",
     "output_type": "stream",
     "text": [
      "/nobackup/users/schreurs/project_GAN/dataset_np/20190211T080500_20190212T080000/\n",
      "Day 20190211T080500_20190212T080000 has 283 radar scans instead of 288\n"
     ]
    },
    {
     "name": "stderr",
     "output_type": "stream",
     "text": [
      "\r",
      " 58%|█████▊    | 58/100 [03:16<02:20,  3.34s/it]"
     ]
    },
    {
     "name": "stdout",
     "output_type": "stream",
     "text": [
      "/nobackup/users/schreurs/project_GAN/dataset_np/20190212T080500_20190213T080000/\n",
      "Day 20190212T080500_20190213T080000 has 284 radar scans instead of 288\n"
     ]
    },
    {
     "name": "stderr",
     "output_type": "stream",
     "text": [
      "\r",
      " 59%|█████▉    | 59/100 [03:19<02:17,  3.36s/it]"
     ]
    },
    {
     "name": "stdout",
     "output_type": "stream",
     "text": [
      "/nobackup/users/schreurs/project_GAN/dataset_np/20190213T080500_20190214T080000/\n",
      "Day 20190213T080500_20190214T080000 has 281 radar scans instead of 288\n"
     ]
    },
    {
     "name": "stderr",
     "output_type": "stream",
     "text": [
      "\r",
      " 60%|██████    | 60/100 [03:22<02:14,  3.35s/it]"
     ]
    },
    {
     "name": "stdout",
     "output_type": "stream",
     "text": [
      "/nobackup/users/schreurs/project_GAN/dataset_np/20190214T080500_20190215T080000/\n",
      "Day 20190214T080500_20190215T080000 has 282 radar scans instead of 288\n"
     ]
    },
    {
     "name": "stderr",
     "output_type": "stream",
     "text": [
      "\r",
      " 61%|██████    | 61/100 [03:26<02:12,  3.39s/it]"
     ]
    },
    {
     "name": "stdout",
     "output_type": "stream",
     "text": [
      "/nobackup/users/schreurs/project_GAN/dataset_np/20190215T080500_20190216T080000/\n",
      "Day 20190215T080500_20190216T080000 has 286 radar scans instead of 288\n"
     ]
    },
    {
     "name": "stderr",
     "output_type": "stream",
     "text": [
      "\r",
      " 62%|██████▏   | 62/100 [03:29<02:08,  3.38s/it]"
     ]
    },
    {
     "name": "stdout",
     "output_type": "stream",
     "text": [
      "/nobackup/users/schreurs/project_GAN/dataset_np/20190216T080500_20190217T080000/\n",
      "Day 20190216T080500_20190217T080000 has 284 radar scans instead of 288\n"
     ]
    },
    {
     "name": "stderr",
     "output_type": "stream",
     "text": [
      "\r",
      " 63%|██████▎   | 63/100 [03:32<02:04,  3.36s/it]"
     ]
    },
    {
     "name": "stdout",
     "output_type": "stream",
     "text": [
      "/nobackup/users/schreurs/project_GAN/dataset_np/20190217T080500_20190218T080000/\n",
      "Day 20190217T080500_20190218T080000 has 284 radar scans instead of 288\n"
     ]
    },
    {
     "name": "stderr",
     "output_type": "stream",
     "text": [
      "\r",
      " 64%|██████▍   | 64/100 [03:35<01:52,  3.12s/it]"
     ]
    },
    {
     "name": "stdout",
     "output_type": "stream",
     "text": [
      "/nobackup/users/schreurs/project_GAN/dataset_np/20190218T080500_20190219T080000/\n",
      "Day 20190218T080500_20190219T080000 has 283 radar scans instead of 288\n"
     ]
    },
    {
     "name": "stderr",
     "output_type": "stream",
     "text": [
      " 66%|██████▌   | 66/100 [03:38<01:11,  2.11s/it]"
     ]
    },
    {
     "name": "stdout",
     "output_type": "stream",
     "text": [
      "/nobackup/users/schreurs/project_GAN/dataset_np/20190219T080500_20190220T080000/\n",
      "Day 20190219T080500_20190220T080000 has 287 radar scans instead of 288\n",
      "/nobackup/users/schreurs/project_GAN/dataset_np/20190220T080500_20190221T080000/\n"
     ]
    },
    {
     "name": "stderr",
     "output_type": "stream",
     "text": [
      "\r",
      " 67%|██████▋   | 67/100 [03:38<00:49,  1.51s/it]"
     ]
    },
    {
     "name": "stdout",
     "output_type": "stream",
     "text": [
      "/nobackup/users/schreurs/project_GAN/dataset_np/20190221T080500_20190222T080000/\n",
      "Day 20190221T080500_20190222T080000 has 287 radar scans instead of 288\n"
     ]
    },
    {
     "name": "stderr",
     "output_type": "stream",
     "text": [
      "\r",
      " 68%|██████▊   | 68/100 [03:41<01:04,  2.00s/it]"
     ]
    },
    {
     "name": "stdout",
     "output_type": "stream",
     "text": [
      "/nobackup/users/schreurs/project_GAN/dataset_np/20190222T080500_20190223T080000/\n",
      "Day 20190222T080500_20190223T080000 has 284 radar scans instead of 288\n"
     ]
    },
    {
     "name": "stderr",
     "output_type": "stream",
     "text": [
      "\r",
      " 69%|██████▉   | 69/100 [03:44<01:14,  2.40s/it]"
     ]
    },
    {
     "name": "stdout",
     "output_type": "stream",
     "text": [
      "/nobackup/users/schreurs/project_GAN/dataset_np/20190223T080500_20190224T080000/\n"
     ]
    },
    {
     "name": "stderr",
     "output_type": "stream",
     "text": [
      "\r",
      " 70%|███████   | 70/100 [03:48<01:22,  2.74s/it]"
     ]
    },
    {
     "name": "stdout",
     "output_type": "stream",
     "text": [
      "/nobackup/users/schreurs/project_GAN/dataset_np/20190224T080500_20190225T080000/\n",
      "Day 20190224T080500_20190225T080000 has 285 radar scans instead of 288\n"
     ]
    },
    {
     "name": "stderr",
     "output_type": "stream",
     "text": [
      "100%|██████████| 100/100 [03:51<00:00,  2.32s/it]"
     ]
    },
    {
     "name": "stdout",
     "output_type": "stream",
     "text": [
      "/nobackup/users/schreurs/project_GAN/dataset_np/20190225T080500_20190226T080000/\n",
      "Day 20190225T080500_20190226T080000 has 1 radar scans instead of 288\n",
      "/nobackup/users/schreurs/project_GAN/dataset_np/20190226T080500_20190227T080000/\n",
      "Day 20190226T080500_20190227T080000 has 1 radar scans instead of 288\n",
      "/nobackup/users/schreurs/project_GAN/dataset_np/20190227T080500_20190228T080000/\n",
      "Day 20190227T080500_20190228T080000 has 1 radar scans instead of 288\n",
      "/nobackup/users/schreurs/project_GAN/dataset_np/20190228T080500_20190301T080000/\n",
      "Day 20190228T080500_20190301T080000 has 1 radar scans instead of 288\n",
      "/nobackup/users/schreurs/project_GAN/dataset_np/20190301T080500_20190302T080000/\n",
      "Day 20190301T080500_20190302T080000 has 1 radar scans instead of 288\n",
      "/nobackup/users/schreurs/project_GAN/dataset_np/20190302T080500_20190303T080000/\n",
      "Day 20190302T080500_20190303T080000 has 1 radar scans instead of 288\n",
      "/nobackup/users/schreurs/project_GAN/dataset_np/20190303T080500_20190304T080000/\n",
      "Day 20190303T080500_20190304T080000 has 1 radar scans instead of 288\n",
      "/nobackup/users/schreurs/project_GAN/dataset_np/20190304T080500_20190305T080000/\n",
      "Day 20190304T080500_20190305T080000 has 1 radar scans instead of 288\n",
      "/nobackup/users/schreurs/project_GAN/dataset_np/20190305T080500_20190306T080000/\n",
      "Day 20190305T080500_20190306T080000 has 1 radar scans instead of 288\n",
      "/nobackup/users/schreurs/project_GAN/dataset_np/20190306T080500_20190307T080000/\n",
      "Day 20190306T080500_20190307T080000 has 1 radar scans instead of 288\n",
      "/nobackup/users/schreurs/project_GAN/dataset_np/20190307T080500_20190308T080000/\n",
      "Day 20190307T080500_20190308T080000 has 1 radar scans instead of 288\n",
      "/nobackup/users/schreurs/project_GAN/dataset_np/20190308T080500_20190309T080000/\n",
      "Day 20190308T080500_20190309T080000 has 1 radar scans instead of 288\n",
      "/nobackup/users/schreurs/project_GAN/dataset_np/20190309T080500_20190310T080000/\n",
      "Day 20190309T080500_20190310T080000 has 1 radar scans instead of 288\n",
      "/nobackup/users/schreurs/project_GAN/dataset_np/20190310T080500_20190311T080000/\n",
      "Day 20190310T080500_20190311T080000 has 1 radar scans instead of 288\n",
      "/nobackup/users/schreurs/project_GAN/dataset_np/20190311T080500_20190312T080000/\n",
      "Day 20190311T080500_20190312T080000 has 1 radar scans instead of 288\n",
      "/nobackup/users/schreurs/project_GAN/dataset_np/20190312T080500_20190313T080000/\n",
      "Day 20190312T080500_20190313T080000 has 1 radar scans instead of 288\n",
      "/nobackup/users/schreurs/project_GAN/dataset_np/20190313T080500_20190314T080000/\n",
      "Day 20190313T080500_20190314T080000 has 1 radar scans instead of 288\n",
      "/nobackup/users/schreurs/project_GAN/dataset_np/20190314T080500_20190315T080000/\n",
      "Day 20190314T080500_20190315T080000 has 1 radar scans instead of 288\n",
      "/nobackup/users/schreurs/project_GAN/dataset_np/20190315T080500_20190316T080000/\n",
      "Day 20190315T080500_20190316T080000 has 1 radar scans instead of 288\n",
      "/nobackup/users/schreurs/project_GAN/dataset_np/20190316T080500_20190317T080000/\n",
      "Day 20190316T080500_20190317T080000 has 1 radar scans instead of 288\n",
      "/nobackup/users/schreurs/project_GAN/dataset_np/20190317T080500_20190318T080000/\n",
      "Day 20190317T080500_20190318T080000 has 1 radar scans instead of 288\n",
      "/nobackup/users/schreurs/project_GAN/dataset_np/20190318T080500_20190319T080000/\n",
      "Day 20190318T080500_20190319T080000 has 1 radar scans instead of 288\n",
      "/nobackup/users/schreurs/project_GAN/dataset_np/20190319T080500_20190320T080000/\n",
      "Day 20190319T080500_20190320T080000 has 1 radar scans instead of 288\n",
      "/nobackup/users/schreurs/project_GAN/dataset_np/20190320T080500_20190321T080000/\n",
      "Day 20190320T080500_20190321T080000 has 1 radar scans instead of 288\n",
      "/nobackup/users/schreurs/project_GAN/dataset_np/20190321T080500_20190322T080000/\n",
      "Day 20190321T080500_20190322T080000 has 1 radar scans instead of 288\n",
      "/nobackup/users/schreurs/project_GAN/dataset_np/20190322T080500_20190323T080000/\n",
      "Day 20190322T080500_20190323T080000 has 1 radar scans instead of 288\n",
      "/nobackup/users/schreurs/project_GAN/dataset_np/20190323T080500_20190324T080000/\n",
      "Day 20190323T080500_20190324T080000 has 1 radar scans instead of 288\n",
      "/nobackup/users/schreurs/project_GAN/dataset_np/20190324T080500_20190325T080000/\n",
      "Day 20190324T080500_20190325T080000 has 1 radar scans instead of 288\n",
      "/nobackup/users/schreurs/project_GAN/dataset_np/20190325T080500_20190326T080000/\n",
      "Day 20190325T080500_20190326T080000 has 1 radar scans instead of 288\n"
     ]
    },
    {
     "name": "stderr",
     "output_type": "stream",
     "text": [
      "\n"
     ]
    }
   ],
   "source": [
    "preprocess_into_sequences(np_dir, dir_30m)"
   ]
  },
  {
   "cell_type": "code",
   "execution_count": 39,
   "metadata": {},
   "outputs": [
    {
     "name": "stdout",
     "output_type": "stream",
     "text": [
      "201812171030.npy\r\n",
      "201812171035.npy\r\n",
      "201812171040.npy\r\n",
      "201812171045.npy\r\n",
      "201812171050.npy\r\n",
      "201812171055.npy\r\n",
      "201812171100.npy\r\n",
      "201812171105.npy\r\n",
      "201812171110.npy\r\n",
      "201812171115.npy\r\n"
     ]
    }
   ],
   "source": [
    "ls /nobackup/users/schreurs/project_GAN/dataset_np/201812170755_201812180800 |head"
   ]
  },
  {
   "cell_type": "markdown",
   "metadata": {},
   "source": [
    "Some days seem to lack a lot of data. Maybe something went wrong during downloading these dates or during unpacking"
   ]
  },
  {
   "cell_type": "code",
   "execution_count": 26,
   "metadata": {},
   "outputs": [
    {
     "name": "stdout",
     "output_type": "stream",
     "text": [
      "201903100800.npy\r\n"
     ]
    }
   ],
   "source": [
    "ls /nobackup/users/schreurs/project_GAN/dataset_np/20190309T080500_20190310T080000/"
   ]
  },
  {
   "cell_type": "code",
   "execution_count": 11,
   "metadata": {},
   "outputs": [
    {
     "name": "stdout",
     "output_type": "stream",
     "text": [
      "RAD_NL25_RAC_RE_201903100800.h5\r\n"
     ]
    }
   ],
   "source": [
    "ls /nobackup/users/schreurs/project_GAN/dataset/RAD25_OPER_R___TARRRE__L2__20190309T080500_20190310T080000_0001"
   ]
  },
  {
   "cell_type": "code",
   "execution_count": 19,
   "metadata": {},
   "outputs": [
    {
     "name": "stdout",
     "output_type": "stream",
     "text": [
      "\u001b[0m\u001b[01;31m/nobackup/users/schreurs/project_GAN/dataset/RAD25_OPER_R___TARRRE__L2__20190309T080500_20190310T080000_0001.tar\u001b[0m\u001b[K\r\n"
     ]
    }
   ],
   "source": [
    "ls /nobackup/users/schreurs/project_GAN/dataset/RAD25_OPER_R___TARRRE__L2__20190309T080500_20190310T080000_0001.tar"
   ]
  },
  {
   "cell_type": "markdown",
   "metadata": {},
   "source": [
    "As you can see there is only 1 radar scan of the date 2019-03-10. Below I unpack the tar file of that date again to test if something went wrong during the unpacking"
   ]
  },
  {
   "cell_type": "code",
   "execution_count": 20,
   "metadata": {},
   "outputs": [
    {
     "name": "stdout",
     "output_type": "stream",
     "text": [
      "tar path:  /nobackup/users/schreurs/project_GAN/dataset/RAD25_OPER_R___TARRRE__L2__20190309T080500_20190310T080000_0001.tar\n",
      "unpack in folder:  /nobackup/users/schreurs/project_GAN/dataset/RAD25_OPER_R___TARRRE__L2__20190309T080500_20190310T080000_0001\n"
     ]
    }
   ],
   "source": [
    "# Testing path\n",
    "tar_path = '/nobackup/users/schreurs/project_GAN/dataset/RAD25_OPER_R___TARRRE__L2__20190309T080500_20190310T080000_0001.tar'\n",
    "print(\"tar path: \", tar_path)\n",
    "unpack_folder = tar_path.replace('.tar','')\n",
    "print(\"unpack in folder: \", unpack_folder)"
   ]
  },
  {
   "cell_type": "code",
   "execution_count": 23,
   "metadata": {},
   "outputs": [],
   "source": [
    "with tarfile.open(tar_path) as tar:\n",
    "    tar.extractall(unpack_folder) "
   ]
  },
  {
   "cell_type": "code",
   "execution_count": 24,
   "metadata": {},
   "outputs": [
    {
     "name": "stdout",
     "output_type": "stream",
     "text": [
      "RAD_NL25_RAC_RE_201903100800.h5\r\n"
     ]
    }
   ],
   "source": [
    "ls /nobackup/users/schreurs/project_GAN/dataset/RAD25_OPER_R___TARRRE__L2__20190309T080500_20190310T080000_0001"
   ]
  },
  {
   "cell_type": "markdown",
   "metadata": {},
   "source": [
    "Unpacking the tar files does not seem te be the problem."
   ]
  },
  {
   "cell_type": "markdown",
   "metadata": {},
   "source": [
    "When mannually download the tar file of 20190309T080500_20190310T080000 the radar data looks complete. During downloading the files probably got corrupted. \n",
    "\n",
    "Noticed a difference in dataset names: nl_rdr_data_rtcor_5m vs nl_rdr_data_recor_5m.\n",
    "Currently using the recor dataset, the rtcor might have complete data unlike the rtcor. \n",
    "\n",
    "(Waiting on API request for bulk dowload rtcor instead of recor dataset)"
   ]
  },
  {
   "cell_type": "markdown",
   "metadata": {},
   "source": [
    "# Aart Radar Dataset"
   ]
  },
  {
   "cell_type": "code",
   "execution_count": 2,
   "metadata": {},
   "outputs": [],
   "source": [
    "path_aart = '/nobackup/users/schreurs/project_GAN/dataset_aart'\n",
    "\n",
    "folders = sorted([f for f in os.listdir(path_aart) if os.path.isdir(os.path.join(path_aart, f))])"
   ]
  },
  {
   "cell_type": "code",
   "execution_count": 3,
   "metadata": {},
   "outputs": [
    {
     "name": "stdout",
     "output_type": "stream",
     "text": [
      "\u001b[0m\u001b[01;34m2008\u001b[0m/  \u001b[01;31m2008.zip\u001b[0m\r\n"
     ]
    }
   ],
   "source": [
    "ls /nobackup/users/schreurs/project_GAN/dataset_aart/2008"
   ]
  },
  {
   "cell_type": "code",
   "execution_count": 38,
   "metadata": {},
   "outputs": [
    {
     "name": "stdout",
     "output_type": "stream",
     "text": [
      "zip path:  /nobackup/users/schreurs/project_GAN/dataset_aart/2008/2008.zip\n",
      "unpack in folder:  /nobackup/users/schreurs/project_GAN/dataset_aart/2008\n"
     ]
    }
   ],
   "source": [
    "# Testing path\n",
    "zip_path = path_aart + '/' + folders[0] + '/' + folders[0] + '.zip'\n",
    "print(\"zip path: \", zip_path)\n",
    "unpack_folder = path_aart + '/' + folders[0]\n",
    "print(\"unpack in folder: \", unpack_folder)"
   ]
  },
  {
   "cell_type": "code",
   "execution_count": 41,
   "metadata": {},
   "outputs": [
    {
     "name": "stderr",
     "output_type": "stream",
     "text": [
      "100%|██████████| 13/13 [16:35<00:00, 76.61s/it]\n"
     ]
    }
   ],
   "source": [
    "for folder in tqdm(folders):\n",
    "    zip_path = path_aart + '/' + folder + '/' + folder + '.zip'\n",
    "    unpack_folder = path_aart + '/' + folder\n",
    "    \n",
    "    with zipfile.ZipFile(zip_path, 'r') as zip_file:\n",
    "        zip_file.extractall(unpack_folder)"
   ]
  },
  {
   "cell_type": "code",
   "execution_count": 45,
   "metadata": {},
   "outputs": [
    {
     "name": "stdout",
     "output_type": "stream",
     "text": [
      "\u001b[0m\u001b[01;34m01\u001b[0m/  \u001b[01;34m02\u001b[0m/  \u001b[01;34m03\u001b[0m/  \u001b[01;34m04\u001b[0m/  \u001b[01;34m05\u001b[0m/  \u001b[01;34m06\u001b[0m/  \u001b[01;34m07\u001b[0m/  \u001b[01;34m08\u001b[0m/  \u001b[01;34m09\u001b[0m/  \u001b[01;34m10\u001b[0m/  \u001b[01;34m11\u001b[0m/  \u001b[01;34m12\u001b[0m/\r\n"
     ]
    }
   ],
   "source": [
    "ls /nobackup/users/schreurs/project_GAN/dataset_aart/2008/2008/"
   ]
  },
  {
   "cell_type": "code",
   "execution_count": 4,
   "metadata": {},
   "outputs": [
    {
     "name": "stdout",
     "output_type": "stream",
     "text": [
      "RAD_NL25_RAC_MFBS_EM_5min_200801010000.nc\r\n",
      "RAD_NL25_RAC_MFBS_EM_5min_200801010005.nc\r\n",
      "RAD_NL25_RAC_MFBS_EM_5min_200801010010.nc\r\n",
      "RAD_NL25_RAC_MFBS_EM_5min_200801010015.nc\r\n",
      "RAD_NL25_RAC_MFBS_EM_5min_200801010020.nc\r\n",
      "RAD_NL25_RAC_MFBS_EM_5min_200801010025.nc\r\n",
      "RAD_NL25_RAC_MFBS_EM_5min_200801010030.nc\r\n",
      "RAD_NL25_RAC_MFBS_EM_5min_200801010035.nc\r\n",
      "RAD_NL25_RAC_MFBS_EM_5min_200801010040.nc\r\n",
      "RAD_NL25_RAC_MFBS_EM_5min_200801010045.nc\r\n",
      "ls: write error: Broken pipe\r\n"
     ]
    }
   ],
   "source": [
    "ls /nobackup/users/schreurs/project_GAN/dataset_aart/2008/2008/01 | head"
   ]
  },
  {
   "cell_type": "markdown",
   "metadata": {},
   "source": [
    "## Open NC file"
   ]
  },
  {
   "cell_type": "code",
   "execution_count": 6,
   "metadata": {},
   "outputs": [],
   "source": [
    "from netCDF4 import Dataset\n",
    "import numpy as np\n",
    "from mpl_toolkits.basemap import Basemap"
   ]
  },
  {
   "cell_type": "code",
   "execution_count": 87,
   "metadata": {},
   "outputs": [
    {
     "data": {
      "text/plain": [
       "<class 'netCDF4._netCDF4.Dataset'>\n",
       "root group (NETCDF4 data model, file format HDF5):\n",
       "    Conventions: CF-1.5\n",
       "    history: Metadata adjusted by ADAGUC from KNMIHDF5 to NetCDF-CF\n",
       "    dimensions(sizes): y(765), x(700), time(1)\n",
       "    variables(dimensions): float64 y(y), float64 x(x), float64 time(time), |S1 geographic(), |S1 image1_calibration(), uint16 image1_image_data(time,y,x), |S1 overview(), |S1 radar1(), |S1 radar2(), |S1 radar3(), |S1 product(), |S1 iso_dataset(), |S1 projection()\n",
       "    groups: "
      ]
     },
     "execution_count": 87,
     "metadata": {},
     "output_type": "execute_result"
    }
   ],
   "source": [
    "path_nc = path_aart + '/2018/2018/01/RAD_NL25_RAC_MFBS_EM_5min_201801010000.nc' \n",
    "ds = Dataset(path_nc, mode='r')\n",
    "ds"
   ]
  },
  {
   "cell_type": "code",
   "execution_count": 88,
   "metadata": {},
   "outputs": [
    {
     "data": {
      "text/plain": [
       "{'y': <class 'netCDF4._netCDF4.Variable'>\n",
       " float64 y(y)\n",
       "     standard_name: projection_y_coordinate\n",
       "     long_name: y coordinate of projection\n",
       "     units: km\n",
       " unlimited dimensions: \n",
       " current shape = (765,)\n",
       " filling on, default _FillValue of 9.969209968386869e+36 used,\n",
       " 'x': <class 'netCDF4._netCDF4.Variable'>\n",
       " float64 x(x)\n",
       "     standard_name: projection_x_coordinate\n",
       "     long_name: x coordinate of projection\n",
       "     units: km\n",
       " unlimited dimensions: \n",
       " current shape = (700,)\n",
       " filling on, default _FillValue of 9.969209968386869e+36 used,\n",
       " 'time': <class 'netCDF4._netCDF4.Variable'>\n",
       " float64 time(time)\n",
       "     units: seconds since 2000-01-01 00:00:00\n",
       "     standard_name: time\n",
       "     calendar: standard\n",
       "     long_name: time\n",
       " unlimited dimensions: \n",
       " current shape = (1,)\n",
       " filling on, default _FillValue of 9.969209968386869e+36 used,\n",
       " 'geographic': <class 'netCDF4._netCDF4.Variable'>\n",
       " |S1 geographic()\n",
       "     geo_number_rows: 765\n",
       "     geo_number_columns: 700\n",
       "     geo_pixel_size_x: 1.0\n",
       "     geo_pixel_size_y: -1.0\n",
       "     geo_par_pixel: X,Y\n",
       "     geo_dim_pixel: KM,KM\n",
       "     geo_column_offset: 0.0\n",
       "     geo_row_offset: 3650.0\n",
       "     geo_pixel_def: LU\n",
       "     geo_product_corners: [ 0.    49.362  0.    55.974 10.856 55.389  9.009 48.895]\n",
       "     long_name: geographic\n",
       " unlimited dimensions: \n",
       " current shape = ()\n",
       " filling on, default _FillValue of \u0000 used,\n",
       " 'image1_calibration': <class 'netCDF4._netCDF4.Variable'>\n",
       " |S1 image1_calibration()\n",
       "     calibration_flag: Y\n",
       "     calibration_missing_data: 65535\n",
       "     calibration_formulas: GEO = 0.010000 * PV + 0.000000\n",
       "     calibration_out_of_image: 65535\n",
       "     long_name: Scale and offset description\n",
       " unlimited dimensions: \n",
       " current shape = ()\n",
       " filling on, default _FillValue of \u0000 used,\n",
       " 'image1_image_data': <class 'netCDF4._netCDF4.Variable'>\n",
       " uint16 image1_image_data(time, y, x)\n",
       "     VERSION: 1.2\n",
       "     grid_mapping: projection\n",
       "     units: kg m-2\n",
       "     _FillValue: 65535\n",
       "     standard_name: precipitation_amount\n",
       "     comment: Original units are in mm\n",
       "     scale_factor: 0.01\n",
       "     add_offset: 0.0\n",
       " unlimited dimensions: \n",
       " current shape = (1, 765, 700)\n",
       " filling on,\n",
       " 'overview': <class 'netCDF4._netCDF4.Variable'>\n",
       " |S1 overview()\n",
       "     products_missing: NA\n",
       "     hdftag_version_number: 3.5\n",
       "     number_satellite_groups: 0\n",
       "     number_radar_groups: 3\n",
       "     number_station_groups: 0\n",
       "     product_version: 2\n",
       "     number_image_groups: 1\n",
       "     product_group_name: RAD_NL25_RAC_MFBS_5min\n",
       "     product_datetime_start: 31-DEC-2017;23:55:00.000\n",
       "     product_datetime_end: 01-JAN-2018;00:00:00.000\n",
       "     long_name: Date time description\n",
       " unlimited dimensions: \n",
       " current shape = ()\n",
       " filling on, default _FillValue of \u0000 used,\n",
       " 'radar1': <class 'netCDF4._netCDF4.Variable'>\n",
       " |S1 radar1()\n",
       "     radar_location: [ 5.179 52.103]\n",
       "     radar_name: De_Bilt\n",
       "     radar_num_contrib: 1\n",
       "     long_name: Location of radar\n",
       " unlimited dimensions: \n",
       " current shape = ()\n",
       " filling on, default _FillValue of \u0000 used,\n",
       " 'radar2': <class 'netCDF4._netCDF4.Variable'>\n",
       " |S1 radar2()\n",
       "     radar_location: [ 4.79  52.955]\n",
       "     radar_name: Den_Helder\n",
       "     long_name: Location of radar\n",
       " unlimited dimensions: \n",
       " current shape = ()\n",
       " filling on, default _FillValue of \u0000 used,\n",
       " 'radar3': <class 'netCDF4._netCDF4.Variable'>\n",
       " |S1 radar3()\n",
       "     radar_location: [ 5.1381 51.8369]\n",
       "     radar_name: Herwijnen\n",
       " unlimited dimensions: \n",
       " current shape = ()\n",
       " filling on, default _FillValue of \u0000 used,\n",
       " 'product': <class 'netCDF4._netCDF4.Variable'>\n",
       " |S1 product()\n",
       "     validity_start: 20171231T235500\n",
       "     validity_stop: 20180101T000000\n",
       "     long_name: ADAGUC Data Products Standard\n",
       "     units: 1\n",
       "     ref_doc: ADAGUC Data Products Standard\n",
       "     ref_doc_version: 2\n",
       "     format_version: 2\n",
       "     originator: Royal Netherlands Meteorological Institute (KNMI)\n",
       "     type: R\n",
       "     acronym: RAD_NL25_RAC_MFBS_EM_5min\n",
       "     level: L2\n",
       "     style: camelCase\n",
       " unlimited dimensions: \n",
       " current shape = ()\n",
       " filling on, default _FillValue of \u0000 used,\n",
       " 'iso_dataset': <class 'netCDF4._netCDF4.Variable'>\n",
       " |S1 iso_dataset()\n",
       "     min_x: 0.000000f\n",
       "     min_y: 49.362000f\n",
       "     max_x: 10.856000f\n",
       "     max_y: 55.389000f\n",
       "     long_name: Iso 19115 metadata description\n",
       "     title: RAD_NL25_RAC_MFBS_EM_5min\n",
       "     abstract: Composites of 5 min precipitation depths adjusted using data from rain gauge networks.\n",
       "     status: ongoing\n",
       "     type: dataset\n",
       "     uid: 4c780c1e-6693-4ad9-9f8e-7caccddd089c\n",
       "     topic: atmosphere\n",
       "     keyword: Precipitation\n",
       "     temporal_extent: 2008-01-01 - ongoing\n",
       "     date: 2017-09-01\n",
       "     dateType: publication date\n",
       "     statement: Climatological radar rainfall dataset of 5 min precipitation depths, which have been adjusted employing rain gauge data from both KNMI rain gauge networks. Based on the composites of radar reflectivities from both KNMI weather radars (De Bilt at 52.103 degrees N, 5.179 degrees E and Den Helder at 52.955 degrees N, 4.79 degrees E). The time in the file name is the time of the end of the observation. Data are available for the entire land surface of the Netherlands. An Extended Mask (EM) has been applied to this dataset. As a result, data are also available up to tens of kilometers away from the land surface of the Netherlands, i.e. above Belgium, Germany, and above open water. Pixels have 1 km spatial resolution. The radar in De Bilt stopped contributing to the composite in the course of January 2017. It was replaced by a new radar in Herwijnen. Hence, as of the end of January 2017 the composites are based on the data from both new KNMI weather radars (Den Helder at 52.955 degrees N, 4.79 degrees E and Herwijnen at 5.1381 degrees N, 51.8369 degrees E). From 19 September 2016 till the end of January 2017, one, two or even three radars may contribute to the composite.\n",
       "     code: Not applicable\n",
       "     codeSpace: EPSG\n",
       "     accessConstraints: none\n",
       "     useLimitation: none\n",
       "     organisationName_dataset: Royal Netherlands Meteorological Institute (KNMI)\n",
       "     email_dataset: overeem@knmi.nl, adaguc@knmi.nl\n",
       "     role_dataset: pointOfContact\n",
       "     metadata_id: a11d6220-e252-49a1-abc9-f332588947f0\n",
       "     organisationName_metadata: Royal Netherlands Meteorological Institute (KNMI)\n",
       "     role_metadata: pointOfContact\n",
       "     email_metadata: adaguc@knmi.nl\n",
       "     url_metadata: http://adaguc.knmi.nl\n",
       "     datestamp: 2017-09-01\n",
       "     language: eng\n",
       "     metadataStandardName: ISO 19115\n",
       "     metadataStandardNameVersion: Nederlandse metadatastandaard op ISO 19115 voor geografie 1.2\n",
       " unlimited dimensions: \n",
       " current shape = ()\n",
       " filling on, default _FillValue of \u0000 used,\n",
       " 'projection': <class 'netCDF4._netCDF4.Variable'>\n",
       " |S1 projection()\n",
       "     grid_mapping_name: polar_stereographic\n",
       "     latitude_of_projection_origin: 90.0\n",
       "     straight_vertical_longitude_from_pole: 0.0\n",
       "     standard_parallel: 60.0\n",
       "     false_easting: 0.0\n",
       "     false_northing: 0.0\n",
       "     semi_major_axis: 6378137.0\n",
       "     semi_minor_axis: 6356752.0\n",
       "     proj4_params: +proj=stere +lat_0=90 +lon_0=0.0 +lat_ts=60.0 +a=6378.137 +b=6356.752 +x_0=0 +y_0=0\n",
       "     proj4_origin: +proj=stere +lat_0=90.000000 +lon_0=0.000000 +lat_ts=60.000000 +a=6378.137000 +b=6356.752000 +x_0=0.000000 +y_0=0.000000\n",
       " unlimited dimensions: \n",
       " current shape = ()\n",
       " filling on, default _FillValue of \u0000 used}"
      ]
     },
     "execution_count": 88,
     "metadata": {},
     "output_type": "execute_result"
    }
   ],
   "source": [
    "ds.variables"
   ]
  },
  {
   "cell_type": "markdown",
   "metadata": {},
   "source": [
    "Plot the map"
   ]
  },
  {
   "cell_type": "code",
   "execution_count": 89,
   "metadata": {},
   "outputs": [
    {
     "name": "stdout",
     "output_type": "stream",
     "text": [
      "0.0 49.362 10.856 55.389\n"
     ]
    },
    {
     "name": "stderr",
     "output_type": "stream",
     "text": [
      "/usr/lib/python3.7/site-packages/ipykernel_launcher.py:1: DeprecationWarning: tostring() is deprecated. Use tobytes() instead.\n",
      "  \"\"\"Entry point for launching an IPython kernel.\n"
     ]
    }
   ],
   "source": [
    "iso_dict = ds['iso_dataset'].__dict__\n",
    "min_x = float(iso_dict['min_x'].replace('f', ''))\n",
    "min_y = float(iso_dict['min_y'].replace('f', ''))\n",
    "max_x = float(iso_dict['max_x'].replace('f', ''))\n",
    "max_y = float(iso_dict['max_y'].replace('f', ''))\n",
    "print(min_x,min_y,max_x,max_y)"
   ]
  },
  {
   "cell_type": "code",
   "execution_count": 109,
   "metadata": {},
   "outputs": [
    {
     "name": "stderr",
     "output_type": "stream",
     "text": [
      "/usr/lib/python3.7/site-packages/ipykernel_launcher.py:6: MatplotlibDeprecationWarning: \n",
      "The dedent function was deprecated in Matplotlib 3.1 and will be removed in 3.3. Use inspect.cleandoc instead.\n",
      "  \n",
      "/usr/lib/python3.7/site-packages/ipykernel_launcher.py:8: MatplotlibDeprecationWarning: \n",
      "The dedent function was deprecated in Matplotlib 3.1 and will be removed in 3.3. Use inspect.cleandoc instead.\n",
      "  \n",
      "/usr/lib/python3.7/site-packages/ipykernel_launcher.py:9: MatplotlibDeprecationWarning: \n",
      "The dedent function was deprecated in Matplotlib 3.1 and will be removed in 3.3. Use inspect.cleandoc instead.\n",
      "  if __name__ == '__main__':\n"
     ]
    },
    {
     "data": {
      "image/png": "[encoded data removed]",
      "text/plain": [
       "<Figure size 432x288 with 1 Axes>"
      ]
     },
     "metadata": {},
     "output_type": "display_data"
    }
   ],
   "source": [
    "mp = Basemap(projection='merc',\n",
    "             llcrnrlon=min_x,   # lower longitude\n",
    "             llcrnrlat=min_y,    # lower latitude\n",
    "             urcrnrlon=max_x,   # uppper longitude\n",
    "             urcrnrlat=max_y,   # uppper latitude\n",
    "            resolution = 'i')\n",
    "mp.drawcoastlines()\n",
    "mp.drawstates()\n",
    "mp.drawcountries()\n",
    "plt.show()"
   ]
  },
  {
   "cell_type": "code",
   "execution_count": 91,
   "metadata": {},
   "outputs": [
    {
     "name": "stdout",
     "output_type": "stream",
     "text": [
      "(700,)\n",
      "(765,)\n"
     ]
    }
   ],
   "source": [
    "x = ds['x'][:]\n",
    "y = ds['y'][:]\n",
    "print(x.shape)\n",
    "print(y.shape)"
   ]
  },
  {
   "cell_type": "code",
   "execution_count": 92,
   "metadata": {},
   "outputs": [
    {
     "data": {
      "text/plain": [
       "masked_array(data=[0.5, 1.5, 2.5, 3.5, 4.5],\n",
       "             mask=False,\n",
       "       fill_value=1e+20)"
      ]
     },
     "execution_count": 92,
     "metadata": {},
     "output_type": "execute_result"
    }
   ],
   "source": [
    "x[:5]"
   ]
  },
  {
   "cell_type": "code",
   "execution_count": 93,
   "metadata": {},
   "outputs": [
    {
     "data": {
      "text/plain": [
       "masked_array(data=[-3650.5, -3651.5, -3652.5, -3653.5, -3654.5],\n",
       "             mask=False,\n",
       "       fill_value=1e+20)"
      ]
     },
     "execution_count": 93,
     "metadata": {},
     "output_type": "execute_result"
    }
   ],
   "source": [
    "y[:5]"
   ]
  },
  {
   "cell_type": "code",
   "execution_count": 179,
   "metadata": {},
   "outputs": [
    {
     "data": {
      "text/plain": [
       "(1, 765, 700)"
      ]
     },
     "execution_count": 179,
     "metadata": {},
     "output_type": "execute_result"
    }
   ],
   "source": [
    "rain = ds['image1_image_data'][:]\n",
    "rain.shape"
   ]
  },
  {
   "cell_type": "code",
   "execution_count": 180,
   "metadata": {},
   "outputs": [
    {
     "data": {
      "text/plain": [
       "masked_array(data=[0.0, 0.009999999776482582, 0.019999999552965164,\n",
       "                   0.029999999329447746, 0.03999999910593033,\n",
       "                   0.04999999701976776, 0.05999999865889549,\n",
       "                   0.07000000029802322, 0.07999999821186066,\n",
       "                   0.08999999612569809, 0.09999999403953552,\n",
       "                   0.10999999940395355, 0.11999999731779099,\n",
       "                   0.12999999523162842, 0.14000000059604645,\n",
       "                   0.14999999105930328, 0.1599999964237213,\n",
       "                   0.17000000178813934, 0.17999999225139618,\n",
       "                   0.1899999976158142, 0.19999998807907104,\n",
       "                   0.20999999344348907, 0.2199999988079071,\n",
       "                   0.22999998927116394, 0.23999999463558197, 0.25,\n",
       "                   0.25999999046325684, 0.26999998092651367,\n",
       "                   0.2800000011920929, 0.28999999165534973,\n",
       "                   0.29999998211860657, 0.3100000023841858,\n",
       "                   0.3199999928474426, 0.32999998331069946,\n",
       "                   0.3400000035762787, 0.3499999940395355,\n",
       "                   0.35999998450279236, 0.3700000047683716,\n",
       "                   0.3799999952316284, 0.38999998569488525, --],\n",
       "             mask=[False, False, False, False, False, False, False, False,\n",
       "                   False, False, False, False, False, False, False, False,\n",
       "                   False, False, False, False, False, False, False, False,\n",
       "                   False, False, False, False, False, False, False, False,\n",
       "                   False, False, False, False, False, False, False, False,\n",
       "                    True],\n",
       "       fill_value=65535,\n",
       "            dtype=float32)"
      ]
     },
     "execution_count": 180,
     "metadata": {},
     "output_type": "execute_result"
    }
   ],
   "source": [
    "np.unique(rain)"
   ]
  },
  {
   "cell_type": "markdown",
   "metadata": {},
   "source": [
    "The precipitation array is a masked array. The Extended Mask (EM) dataset is used, so the Netherlands with an extended border over sea, belgium and germany is not masked"
   ]
  },
  {
   "cell_type": "code",
   "execution_count": 181,
   "metadata": {},
   "outputs": [
    {
     "data": {
      "text/plain": [
       "<matplotlib.image.AxesImage at 0x7fbce3977d10>"
      ]
     },
     "execution_count": 181,
     "metadata": {},
     "output_type": "execute_result"
    },
    {
     "data": {
      "image/png": "[encoded data removed]",
      "text/plain": [
       "<Figure size 432x288 with 1 Axes>"
      ]
     },
     "metadata": {
      "needs_background": "light"
     },
     "output_type": "display_data"
    }
   ],
   "source": [
    "plt.imshow(np.squeeze(rain))"
   ]
  },
  {
   "cell_type": "markdown",
   "metadata": {},
   "source": [
    "Now plot the precipitation data on top of a map"
   ]
  },
  {
   "cell_type": "code",
   "execution_count": 162,
   "metadata": {},
   "outputs": [],
   "source": [
    "import pyproj \n",
    "X, Y = np.meshgrid(x, y)\n",
    "# original projection\n",
    "p = pyproj.Proj(\"+proj=stere +lat_0=90 +lat_ts=60 +lon_0=0 +k=90 +x_0=0 +y_0=0 +a=6378.137000 +b=6356.752000\")# +units=m +no_defs\")\n",
    "lon, lat = p(X*1000, Y*1000, inverse=True)"
   ]
  },
  {
   "cell_type": "code",
   "execution_count": 182,
   "metadata": {},
   "outputs": [
    {
     "data": {
      "image/png": "[encoded data removed]",
      "text/plain": [
       "<Figure size 432x288 with 1 Axes>"
      ]
     },
     "metadata": {
      "needs_background": "light"
     },
     "output_type": "display_data"
    }
   ],
   "source": []
  },
  {
   "cell_type": "code",
   "execution_count": 189,
   "metadata": {},
   "outputs": [
    {
     "name": "stderr",
     "output_type": "stream",
     "text": [
      "/usr/lib/python3.7/site-packages/ipykernel_launcher.py:9: MatplotlibDeprecationWarning: \n",
      "The dedent function was deprecated in Matplotlib 3.1 and will be removed in 3.3. Use inspect.cleandoc instead.\n",
      "  if __name__ == '__main__':\n",
      "/usr/lib/python3.7/site-packages/ipykernel_launcher.py:12: MatplotlibDeprecationWarning: \n",
      "The dedent function was deprecated in Matplotlib 3.1 and will be removed in 3.3. Use inspect.cleandoc instead.\n",
      "  if sys.path[0] == '':\n",
      "/usr/lib/python3.7/site-packages/ipykernel_launcher.py:13: MatplotlibDeprecationWarning: \n",
      "The dedent function was deprecated in Matplotlib 3.1 and will be removed in 3.3. Use inspect.cleandoc instead.\n",
      "  del sys.path[0]\n",
      "/usr/lib/python3.7/site-packages/ipykernel_launcher.py:16: UserWarning: The following kwargs were not used by contour: 'latlon'\n",
      "  app.launch_new_instance()\n"
     ]
    },
    {
     "data": {
      "image/png": "[encoded data removed]",
      "text/plain": [
       "<Figure size 432x288 with 1 Axes>"
      ]
     },
     "metadata": {},
     "output_type": "display_data"
    }
   ],
   "source": [
    "\n",
    "mp = Basemap(projection='stere',\n",
    "             lat_0=90,\n",
    "             lon_0=0, \n",
    "             lat_ts=60,   \n",
    "             llcrnrlon=min_x,   # lower longitude\n",
    "             llcrnrlat=min_y,    # lower latitude\n",
    "             urcrnrlon=max_x,   # uppper longitude\n",
    "             urcrnrlat=max_y,   # uppper latitude\n",
    "             resolution='i'\n",
    "            )\n",
    "mp.drawcoastlines()\n",
    "mp.drawstates()\n",
    "mp.drawcountries()\n",
    "\n",
    "xx, yy = mp(lon, lat)\n",
    "plt.contourf(xx, yy, np.squeeze(rain), latlon=True)\n",
    "plt.show()"
   ]
  },
  {
   "cell_type": "code",
   "execution_count": null,
   "metadata": {},
   "outputs": [],
   "source": [
    "\n",
    "mp = Basemap(projection='stere',\n",
    "             lat_0=90,\n",
    "             lon_0=0, \n",
    "             lat_ts=60,   \n",
    "             llcrnrlon=-90,   # lower longitude\n",
    "             llcrnrlat=min_y,    # lower latitude\n",
    "             urcrnrlon=90,   # uppper longitude\n",
    "             urcrnrlat=max_y,   # uppper latitude\n",
    "             resolution='c'\n",
    "            )\n",
    "mp.drawcoastlines()\n",
    "mp.drawstates()\n",
    "mp.drawcountries()\n",
    "\n",
    "xx, yy = mp(lon, lat)\n",
    "plt.contourf(xx, yy, np.squeeze(rain), latlon=True)\n",
    "plt.show()"
   ]
  },
  {
   "cell_type": "code",
   "execution_count": null,
   "metadata": {},
   "outputs": [],
   "source": []
  }
 ],
 "metadata": {
  "kernelspec": {
   "display_name": "Python 3",
   "language": "python",
   "name": "python3"
  },
  "language_info": {
   "codemirror_mode": {
    "name": "ipython",
    "version": 3
   },
   "file_extension": ".py",
   "mimetype": "text/x-python",
   "name": "python",
   "nbconvert_exporter": "python",
   "pygments_lexer": "ipython3",
   "version": "3.7.9"
  }
 },
 "nbformat": 4,
 "nbformat_minor": 2
}
