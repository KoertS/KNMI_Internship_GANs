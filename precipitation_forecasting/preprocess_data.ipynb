{
 "cells": [
  {
   "cell_type": "code",
   "execution_count": 2,
   "metadata": {},
   "outputs": [],
   "source": [
    "import os\n",
    "import tarfile\n",
    "import re\n",
    "import numpy as np\n",
    "import h5py\n",
    "import matplotlib.pyplot as plt\n",
    "import pandas as pd\n",
    "from tqdm import tqdm"
   ]
  },
  {
   "cell_type": "code",
   "execution_count": 3,
   "metadata": {},
   "outputs": [],
   "source": [
    "path_ds = '/nobackup/users/schreurs/project_GAN/dataset'"
   ]
  },
  {
   "cell_type": "code",
   "execution_count": 72,
   "metadata": {},
   "outputs": [
    {
     "name": "stdout",
     "output_type": "stream",
     "text": [
      "\u001b[0m\u001b[01;34mRAD25_OPER_R___TARRRE__L2__201812170755_201812180800_0001\u001b[0m/\r\n",
      "\u001b[01;31mRAD25_OPER_R___TARRRE__L2__201812170755_201812180800_0001.tar\u001b[0m\r\n",
      "\u001b[01;34mRAD25_OPER_R___TARRRE__L2__201812180755_201812190800_0001\u001b[0m/\r\n",
      "\u001b[01;31mRAD25_OPER_R___TARRRE__L2__201812180755_201812190800_0001.tar\u001b[0m\r\n",
      "\u001b[01;34mRAD25_OPER_R___TARRRE__L2__201812190755_201812200800_0001\u001b[0m/\r\n",
      "ls: write error\r\n"
     ]
    }
   ],
   "source": [
    "ls /nobackup/users/schreurs/project_GAN/dataset | head -5"
   ]
  },
  {
   "cell_type": "code",
   "execution_count": 4,
   "metadata": {},
   "outputs": [
    {
     "name": "stdout",
     "output_type": "stream",
     "text": [
      "Number of days in dataset =  772\n"
     ]
    }
   ],
   "source": [
    "files = [f for f in os.listdir(path_ds) if os.path.isfile(os.path.join(path_ds, f))]\n",
    "print(\"Number of days in dataset = \", len(files))"
   ]
  },
  {
   "cell_type": "code",
   "execution_count": 5,
   "metadata": {},
   "outputs": [
    {
     "data": {
      "text/plain": [
       "'RAD25_OPER_R___TARRRE__L2__20190826T080500_20190827T080000_0001.tar'"
      ]
     },
     "execution_count": 5,
     "metadata": {},
     "output_type": "execute_result"
    }
   ],
   "source": [
    "files[0]"
   ]
  },
  {
   "cell_type": "markdown",
   "metadata": {},
   "source": [
    "# Unpack the tar files\n",
    "The download dataset consists of 772 days each packed in a tar file. With the code below the tar files are unpacked into folders with the same name"
   ]
  },
  {
   "cell_type": "code",
   "execution_count": 5,
   "metadata": {},
   "outputs": [
    {
     "name": "stdout",
     "output_type": "stream",
     "text": [
      "tar path:  /nobackup/users/schreurs/project_GAN/dataset/RAD25_OPER_R___TARRRE__L2__20190826T080500_20190827T080000_0001.tar\n",
      "unpack in folder:  /nobackup/users/schreurs/project_GAN/dataset/RAD25_OPER_R___TARRRE__L2__20190826T080500_20190827T080000_0001\n"
     ]
    }
   ],
   "source": [
    "# Testing path\n",
    "tar_path = path_ds + '/' + files[0]\n",
    "print(\"tar path: \", tar_path)\n",
    "unpack_folder = tar_path.replace('.tar','')\n",
    "print(\"unpack in folder: \", unpack_folder)"
   ]
  },
  {
   "cell_type": "code",
   "execution_count": 16,
   "metadata": {},
   "outputs": [],
   "source": [
    "for file in files:\n",
    "    tar_path = path_ds + '/' + file\n",
    "    unpack_folder = tar_path.replace('.tar', '')\n",
    "    \n",
    "    tar_file = tarfile.open(tar_path)\n",
    "    tar_file.extractall(unpack_folder) \n",
    "    tar_file.close()"
   ]
  },
  {
   "cell_type": "markdown",
   "metadata": {},
   "source": [
    "# Open folders\n",
    "\n",
    "Opening files in the create folders:"
   ]
  },
  {
   "cell_type": "code",
   "execution_count": 6,
   "metadata": {},
   "outputs": [],
   "source": [
    "folders = [f for f in os.listdir(path_ds) if os.path.isdir(os.path.join(path_ds, f))]"
   ]
  },
  {
   "cell_type": "code",
   "execution_count": 7,
   "metadata": {},
   "outputs": [
    {
     "data": {
      "text/plain": [
       "'/nobackup/users/schreurs/project_GAN/dataset/RAD25_OPER_R___TARRRE__L2__20190316T080500_20190317T080000_0001'"
      ]
     },
     "execution_count": 7,
     "metadata": {},
     "output_type": "execute_result"
    }
   ],
   "source": [
    "radar_dir = path_ds + '/' + folders[0]\n",
    "radar_dir"
   ]
  },
  {
   "cell_type": "markdown",
   "metadata": {},
   "source": [
    "Test on data of 1 day (folder) and 1 timestamp (file)"
   ]
  },
  {
   "cell_type": "code",
   "execution_count": 8,
   "metadata": {},
   "outputs": [
    {
     "name": "stdout",
     "output_type": "stream",
     "text": [
      "/nobackup/users/schreurs/project_GAN/dataset/RAD25_OPER_R___TARRRE__L2__20190103T080500_20190104T080000_0001\n"
     ]
    }
   ],
   "source": [
    "i = 5\n",
    "radar_dir = path_ds  + '/' + folders[i]\n",
    "print(radar_dir)\n",
    "onlyfiles = [f for f in os.listdir(radar_dir) if os.path.isfile(os.path.join(radar_dir, f))]"
   ]
  },
  {
   "cell_type": "code",
   "execution_count": 19,
   "metadata": {},
   "outputs": [
    {
     "data": {
      "text/plain": [
       "'RAD_NL25_RAC_RE_201901030930.h5'"
      ]
     },
     "execution_count": 19,
     "metadata": {},
     "output_type": "execute_result"
    }
   ],
   "source": [
    "onlyfiles[i]"
   ]
  },
  {
   "cell_type": "code",
   "execution_count": 9,
   "metadata": {},
   "outputs": [
    {
     "name": "stdout",
     "output_type": "stream",
     "text": [
      "shape image:  (765, 700)\n",
      "Uniques values in radar:  34\n",
      "Unique values in mask:  10297\n"
     ]
    }
   ],
   "source": [
    "h5f = h5py.File(radar_dir+'/'+onlyfiles[i], 'r')\n",
    "radar_img = np.array(h5f['image1']['image_data'])\n",
    "img_mask = np.array(h5f['image2']['image_data'])\n",
    "print('shape image: ', radar_img.shape)\n",
    "print(\"Uniques values in radar: \", len(np.unique(radar_img)))\n",
    "print(\"Unique values in mask: \", len(np.unique(img_mask)))"
   ]
  },
  {
   "cell_type": "markdown",
   "metadata": {},
   "source": [
    "Apparently the mask can have than two different values. So let's take a look at the images"
   ]
  },
  {
   "cell_type": "code",
   "execution_count": 10,
   "metadata": {},
   "outputs": [
    {
     "data": {
      "image/png": "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\n",
      "text/plain": [
       "<Figure size 432x288 with 1 Axes>"
      ]
     },
     "metadata": {
      "needs_background": "light"
     },
     "output_type": "display_data"
    }
   ],
   "source": [
    "# Set the masked pixel to 0 so that difference between pixel values can be better seen\n",
    "radar_img[radar_img==65535] = 0\n",
    "plt.imshow(radar_img)\n",
    "plt.show()"
   ]
  },
  {
   "cell_type": "code",
   "execution_count": 11,
   "metadata": {
    "scrolled": true
   },
   "outputs": [
    {
     "data": {
      "image/png": "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\n",
      "text/plain": [
       "<Figure size 432x288 with 1 Axes>"
      ]
     },
     "metadata": {
      "needs_background": "light"
     },
     "output_type": "display_data"
    }
   ],
   "source": [
    "plt.imshow(img_mask)\n",
    "plt.show()"
   ]
  },
  {
   "cell_type": "markdown",
   "metadata": {},
   "source": [
    "Seems like the rough shape of the netherlands is displayed in this mask. Not sure how this image data should be interpreted.\n",
    "\n",
    "Update: image2 displays correction fields, these are not needed for this project. image1 data is the only data that should be used in this project"
   ]
  },
  {
   "cell_type": "markdown",
   "metadata": {},
   "source": [
    "# Convert data to numpy arrays\n",
    "\n",
    "Convert h5 files to dataframe. The dataframe has three columns: timestamp, radar image data and the mask image data."
   ]
  },
  {
   "cell_type": "code",
   "execution_count": 12,
   "metadata": {},
   "outputs": [
    {
     "name": "stdout",
     "output_type": "stream",
     "text": [
      "RAD_NL25_RAC_RE_201901031355.h5\n"
     ]
    },
    {
     "data": {
      "text/plain": [
       "'201901031355'"
      ]
     },
     "execution_count": 12,
     "metadata": {},
     "output_type": "execute_result"
    }
   ],
   "source": [
    "# Regex pattern to extract timestamp from filename\n",
    "print(onlyfiles[0])\n",
    "regex_p = re.compile('(\\d{12})\\.h5')\n",
    "regex_p.findall(onlyfiles[0])[0]"
   ]
  },
  {
   "cell_type": "code",
   "execution_count": 39,
   "metadata": {},
   "outputs": [
    {
     "name": "stdout",
     "output_type": "stream",
     "text": [
      "RAD25_OPER_R___TARRRE__L2__20201216T080500_20201217T080000_0001\n"
     ]
    },
    {
     "data": {
      "text/plain": [
       "'20190316T080500_20190317T080000'"
      ]
     },
     "execution_count": 39,
     "metadata": {},
     "output_type": "execute_result"
    }
   ],
   "source": [
    "folders = [f for f in os.listdir(path_ds) if os.path.isdir(os.path.join(path_ds, f))]\n",
    "print(folders[2])\n",
    "# Regex to extract time interval of folder\n",
    "regex_p = re.compile('.+__(.+)_0001')\n",
    "regex_p.findall(folders[0])[0]"
   ]
  },
  {
   "cell_type": "code",
   "execution_count": 40,
   "metadata": {},
   "outputs": [],
   "source": [
    "def load_h5(file_path):\n",
    "    radar_img = None\n",
    "    with h5py.File(file_path) as f:\n",
    "        try:\n",
    "            radar_img = np.array(f['image1']['image_data'])\n",
    "        except:\n",
    "            print(\"Error: could not read image1 data, file {}\".format(file_path))\n",
    "    return radar_img"
   ]
  },
  {
   "cell_type": "code",
   "execution_count": 69,
   "metadata": {},
   "outputs": [],
   "source": [
    "def preprocess(in_dir, out_dir):\n",
    "    '''\n",
    "    Preprocess the h5 file into numpy arrays. \n",
    "    The timestamp, image1 and image2 data of each file is stored\n",
    "    '''\n",
    "    # Create directory if it does not exist\n",
    "    if not os.path.exists(out_dir):\n",
    "        os.makedirs(out_dir)\n",
    "    \n",
    "    folders = [f for f in os.listdir(in_dir) if os.path.isdir(os.path.join(in_dir, f))]\n",
    "    \n",
    "    # Pattern for detecting timestamp in filename\n",
    "    regex_file = re.compile('(\\d{12})\\.h5')\n",
    "    # Pattern for detecting time interval in foldername\n",
    "    regex_folder = re.compile('.+__(.+)_0001')\n",
    "    \n",
    "    \n",
    "    for folder in tqdm(folders[:100]):\n",
    "        \n",
    "        radar_dir = in_dir + '/' + folder\n",
    "        \n",
    "        # check if regex pattern finds a timestamp\n",
    "        try:\n",
    "            interval = regex_folder.findall(folder)[0] \n",
    "        except:\n",
    "            print('Error: could not find timestamp in folder {}'.format(folder))\n",
    "            \n",
    "        radar_dir_out = out_dir + '/' + interval + '/'    \n",
    "        # Create directory if it does not exist\n",
    "        if not os.path.exists(radar_dir_out):\n",
    "            os.makedirs(radar_dir_out)        \n",
    "        \n",
    "        files = [f for f in os.listdir(radar_dir) if os.path.isfile(os.path.join(radar_dir, f))]\n",
    "        \n",
    "    \n",
    "        for file in files:\n",
    "            timestamp = int(regex_file.findall(file)[0])\n",
    "            scan_fn = radar_dir_out + \"{}.npy\".format(timestamp)\n",
    "            \n",
    "            image1 = load_h5(radar_dir + '/' + file)\n",
    "            \n",
    "            radar_data = np.array([timestamp, image1])\n",
    "            np.save(scan_fn, radar_data)    "
   ]
  },
  {
   "cell_type": "code",
<<<<<<< HEAD
=======
   "execution_count": 63,
   "metadata": {},
   "outputs": [
    {
     "name": "stdout",
     "output_type": "stream",
     "text": [
      "gr\n"
     ]
    }
   ],
   "source": [
    "# Create directory if it does not exist\n",
    "if not os.path.exists(out_dir):\n",
    "    print('gr')#os.makedirs(out_dir)"
   ]
  },
  {
   "cell_type": "code",
   "execution_count": 70,
   "metadata": {},
   "outputs": [
    {
     "name": "stdout",
     "output_type": "stream",
     "text": [
      "\u001b[0m\u001b[01;34mdataset\u001b[0m/     download_dataset.py            \u001b[01;34mKNMI_Internship_GANs\u001b[0m/\r\n",
      "\u001b[01;34mdataset_np\u001b[0m/  explore_downloaded_data.ipynb\r\n"
     ]
    }
   ],
   "source": [
    "ls /nobackup/users/schreurs/project_GAN/"
   ]
  },
  {
   "cell_type": "code",
>>>>>>> 4945f8f1ade3cfd8440b633b94a0a1bed8901283
   "execution_count": 71,
   "metadata": {
    "scrolled": true
   },
   "outputs": [
    {
     "name": "stderr",
     "output_type": "stream",
     "text": [
      " 42%|████▏     | 42/100 [01:10<02:43,  2.81s/it]"
     ]
    },
    {
     "name": "stdout",
     "output_type": "stream",
     "text": [
      "Error: could not read image1 data, file /nobackup/users/schreurs/project_GAN/dataset/RAD25_OPER_R___TARRRE__L2__20190727T080500_20190728T080000_0001/RAD_NL25_RAC_RE_201907271440.h5\n"
     ]
    },
    {
     "name": "stderr",
     "output_type": "stream",
     "text": [
      " 55%|█████▌    | 55/100 [01:42<01:47,  2.40s/it]"
     ]
    },
    {
     "name": "stdout",
     "output_type": "stream",
     "text": [
      "Error: could not read image1 data, file /nobackup/users/schreurs/project_GAN/dataset/RAD25_OPER_R___TARRRE__L2__20190907T080500_20190908T080000_0001/RAD_NL25_RAC_RE_201909080450.h5\n"
     ]
    },
    {
     "name": "stderr",
     "output_type": "stream",
     "text": [
      " 93%|█████████▎| 93/100 [03:58<00:19,  2.81s/it]"
     ]
    },
    {
     "name": "stdout",
     "output_type": "stream",
     "text": [
      "Error: could not read image1 data, file /nobackup/users/schreurs/project_GAN/dataset/RAD25_OPER_R___TARRRE__L2__20190807T080500_20190808T080000_0001/RAD_NL25_RAC_RE_201908072010.h5\n"
     ]
    },
    {
     "name": "stderr",
     "output_type": "stream",
     "text": [
      "100%|██████████| 100/100 [04:41<00:00,  2.82s/it]\n"
     ]
    }
   ],
   "source": [
    "in_dir = '/nobackup/users/schreurs/project_GAN/dataset'\n",
    "out_dir = '/nobackup/users/schreurs/project_GAN/dataset_np'\n",
    "preprocess(in_dir, out_dir)"
   ]
  },
  {
   "cell_type": "markdown",
   "metadata": {},
   "source": [
<<<<<<< HEAD
    "# Problem: three files have no image_data"
   ]
  },
  {
   "cell_type": "markdown",
   "metadata": {},
   "source": [
=======
>>>>>>> 4945f8f1ade3cfd8440b633b94a0a1bed8901283
    "Apparently there are a couple of timestamps that miss image1 data (i.e. no image_data dataset in the h5 file). \n",
    "Should look into whether these timestamps miss data or if the files got corrupted during downloading. With the code below I compare the content of h5 file of timestamp that was said to miss image_data with one that had this data"
   ]
  },
  {
   "cell_type": "code",
   "execution_count": 29,
   "metadata": {},
   "outputs": [],
   "source": [
    "# https://stackoverflow.com/questions/44883175/how-to-list-all-datasets-in-h5py-file\n",
    "# show all data in a hdf5 file\n",
    "def descend_obj(obj,sep='\\t'):\n",
    "    \"\"\"\n",
    "    Iterate through groups in a HDF5 file and prints the groups and datasets names and datasets attributes\n",
    "    \"\"\"\n",
    "    if type(obj) in [h5py._hl.group.Group,h5py._hl.files.File]:\n",
    "        for key in obj.keys():\n",
    "            print(sep,'-',key,':',obj[key])\n",
    "            descend_obj(obj[key],sep=sep+'\\t')\n",
    "    elif type(obj)==h5py._hl.dataset.Dataset:\n",
    "        for key in obj.attrs.keys():\n",
    "            print(sep + '\\t', '-',key,':',obj.attrs[key])\n",
    "\n",
    "def h5dump(path,group='/'):\n",
    "    \"\"\"\n",
    "    print HDF5 file metadata\n",
    "\n",
    "    group: you can give a specific group, defaults to the root group\n",
    "    \"\"\"\n",
    "    with h5py.File(path,'r') as f:\n",
    "         descend_obj(f[group])"
   ]
  },
  {
   "cell_type": "code",
   "execution_count": 31,
   "metadata": {},
   "outputs": [
    {
     "name": "stdout",
     "output_type": "stream",
     "text": [
      "\t - geographic : <HDF5 group \"/geographic\" (1 members)>\n",
      "\t\t - map_projection : <HDF5 group \"/geographic/map_projection\" (0 members)>\n",
      "\t - image1 : <HDF5 group \"/image1\" (2 members)>\n",
      "\t\t - calibration : <HDF5 group \"/image1/calibration\" (0 members)>\n",
      "\t\t - statistics : <HDF5 group \"/image1/statistics\" (0 members)>\n",
      "\t - image2 : <HDF5 group \"/image2\" (3 members)>\n",
      "\t\t - calibration : <HDF5 group \"/image2/calibration\" (0 members)>\n",
      "\t\t - image_data : <HDF5 dataset \"image_data\": shape (765, 700), type \"<u2\">\n",
      "\t\t - statistics : <HDF5 group \"/image2/statistics\" (0 members)>\n",
      "\t - overview : <HDF5 group \"/overview\" (0 members)>\n",
      "\t - radar1 : <HDF5 group \"/radar1\" (0 members)>\n",
      "\t - radar2 : <HDF5 group \"/radar2\" (0 members)>\n",
      "\t - radar3 : <HDF5 group \"/radar3\" (0 members)>\n",
      "\t - radar4 : <HDF5 group \"/radar4\" (0 members)>\n",
      "\t - radar5 : <HDF5 group \"/radar5\" (0 members)>\n",
      "\t - radar6 : <HDF5 group \"/radar6\" (0 members)>\n"
     ]
    }
   ],
   "source": [
    "path_error= '/nobackup/users/schreurs/project_GAN/dataset/RAD25_OPER_R___TARRRE__L2__20190727T080500_20190728T080000_0001/RAD_NL25_RAC_RE_201907271440.h5'\n",
    "h5dump(path_error)"
   ]
  },
  {
   "cell_type": "code",
   "execution_count": 32,
   "metadata": {},
   "outputs": [
    {
     "name": "stdout",
     "output_type": "stream",
     "text": [
      "\t - geographic : <HDF5 group \"/geographic\" (1 members)>\n",
      "\t\t - map_projection : <HDF5 group \"/geographic/map_projection\" (0 members)>\n",
      "\t - image1 : <HDF5 group \"/image1\" (3 members)>\n",
      "\t\t - calibration : <HDF5 group \"/image1/calibration\" (0 members)>\n",
      "\t\t - image_data : <HDF5 dataset \"image_data\": shape (765, 700), type \"<u2\">\n",
      "\t\t - statistics : <HDF5 group \"/image1/statistics\" (0 members)>\n",
      "\t - image2 : <HDF5 group \"/image2\" (3 members)>\n",
      "\t\t - calibration : <HDF5 group \"/image2/calibration\" (0 members)>\n",
      "\t\t - image_data : <HDF5 dataset \"image_data\": shape (765, 700), type \"<u2\">\n",
      "\t\t - statistics : <HDF5 group \"/image2/statistics\" (0 members)>\n",
      "\t - overview : <HDF5 group \"/overview\" (0 members)>\n",
      "\t - radar1 : <HDF5 group \"/radar1\" (0 members)>\n",
      "\t - radar2 : <HDF5 group \"/radar2\" (0 members)>\n",
      "\t - radar3 : <HDF5 group \"/radar3\" (0 members)>\n",
      "\t - radar4 : <HDF5 group \"/radar4\" (0 members)>\n",
      "\t - radar5 : <HDF5 group \"/radar5\" (0 members)>\n",
      "\t - radar6 : <HDF5 group \"/radar6\" (0 members)>\n"
     ]
    }
   ],
   "source": [
    "path_no_error= '/nobackup/users/schreurs/project_GAN/dataset/RAD25_OPER_R___TARRRE__L2__20190727T080500_20190728T080000_0001/RAD_NL25_RAC_RE_201907271540.h5'\n",
    "h5dump(path_no_error)"
   ]
  }
 ],
 "metadata": {
  "kernelspec": {
   "display_name": "Python 3",
   "language": "python",
   "name": "python3"
  },
  "language_info": {
   "codemirror_mode": {
    "name": "ipython",
    "version": 3
   },
   "file_extension": ".py",
   "mimetype": "text/x-python",
   "name": "python",
   "nbconvert_exporter": "python",
   "pygments_lexer": "ipython3",
   "version": "3.7.9"
  }
 },
 "nbformat": 4,
 "nbformat_minor": 2
}
