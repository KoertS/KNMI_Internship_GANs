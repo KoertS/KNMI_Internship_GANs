{
 "cells": [
  {
   "cell_type": "markdown",
   "metadata": {},
   "source": [
    "# Load H5/NC files directly into tensorflow\n",
    "\n",
    "The dataset is to large to load into memory directly. Therefor we will define a generator first that can be used to get a part of the dataset"
   ]
  },
  {
   "cell_type": "code",
   "execution_count": 3,
   "metadata": {},
   "outputs": [],
   "source": [
    "import h5py\n",
    "import tensorflow as tf\n",
    "import numpy as np\n",
    "from datetime import datetime, timedelta\n",
    "import netCDF4 \n",
    "\n",
    "import matplotlib.pyplot as plt"
   ]
  },
  {
   "cell_type": "code",
   "execution_count": 4,
   "metadata": {},
   "outputs": [],
   "source": [
    "# plots input and output of the model\n",
    "def plotIO(x,y):\n",
    "    n = len(x) + len(y)\n",
    "    plt.figure(figsize=(10,10))\n",
    "    h = 2\n",
    "    w = max(len(x),len(y))\n",
    "    for i, rdr in enumerate(x):\n",
    "        plt.subplot(h, w, i+1)\n",
    "        \n",
    "        mask= (rdr == 65535)\n",
    "        mx = np.ma.masked_array(rdr, mask)\n",
    "        plt.imshow(np.squeeze(mx))\n",
    "        plt.axis('off')\n",
    "        \n",
    "    for i, rdr in enumerate(y):\n",
    "        plt.subplot(h, w, w + i+1)\n",
    "        \n",
    "        mask= (rdr == 65535)\n",
    "        mx = np.ma.masked_array(rdr, mask)\n",
    "        plt.imshow(np.squeeze(mx))\n",
    "        plt.axis('off')    \n",
    "    plt.show()"
   ]
  },
  {
   "cell_type": "code",
   "execution_count": 5,
   "metadata": {},
   "outputs": [],
   "source": [
    "# Based upon the following code:\n",
    "# https://stackoverflow.com/questions/48309631/tensorflow-tf-data-dataset-reading-large-hdf5-files\n",
    "\n",
    "class generator:\n",
    "    def __init__(self, filenames):\n",
    "        self.x_fns, self.y_fns = filenames\n",
    "        self.x_path = '/nobackup/users/schreurs/project_GAN/dataset_radar'\n",
    "        self.y_path = '/nobackup/users/schreurs/project_GAN/dataset_aart'\n",
    "\n",
    "    def __call__(self):\n",
    "        x = self.get_x()\n",
    "        y = self.get_y()\n",
    "        yield x,y\n",
    "        \n",
    "    def get_x(self):\n",
    "        '''\n",
    "        Return a sequence of input radar scans\n",
    "        '''\n",
    "        x_seq =[]\n",
    "        for fn in self.x_fns:\n",
    "            path = self.x_path + '/RAD_NL25_RAC_RT_{}.h5'.format(fn)\n",
    "\n",
    "            with h5py.File(path, 'r') as f:\n",
    "                rain = f['image1']['image_data'][:]\n",
    "                # Expand dimensions from (w,h) to (w,h,c)\n",
    "                rain = np.expand_dims(rain, axis=-1)\n",
    "                x_seq.append(rain)\n",
    "        return x_seq\n",
    "        \n",
    "    def get_y(self):\n",
    "        y_seq =[]\n",
    "        for fn in self.y_fns:\n",
    "            path = self.y_path + '/RAD_NL25_RAC_MFBS_EM_5min_{}.nc'.format(fn)\n",
    "\n",
    "            with netCDF4.Dataset(path, 'r') as f:\n",
    "                rain = f['image1_image_data'][:]\n",
    "\n",
    "                # Change to image format (w,h,c) instead of (c,w,h)\n",
    "                rain = np.moveaxis(rain, 0, -1)\n",
    "                y_seq.append(rain)\n",
    "        return y_seq"
   ]
  },
  {
   "cell_type": "code",
   "execution_count": 6,
   "metadata": {},
   "outputs": [
    {
     "data": {
      "text/plain": [
       "(['202001151345', '202001151350', '202001151355'],\n",
       " ['202001151400', '202001151405', '202001151410'])"
      ]
     },
     "execution_count": 6,
     "metadata": {},
     "output_type": "execute_result"
    }
   ],
   "source": [
    "def filenames_xy(dt, x_size=3, y_size=1):\n",
    "    '''\n",
    "    Returns the filenames of the input x and target y.\n",
    "    dt: datetime of sample (year month day hour minute)\n",
    "    x_size: how many samples to take before datetime\n",
    "    y_size: how many samples to take after datetime \n",
    "    '''\n",
    "    xs = []\n",
    "    for i in range(x_size,0,-1):\n",
    "        dt_i = dt - i*timedelta(minutes=5)\n",
    "        ts = '{:%Y%m%d%H%M}'.format(dt_i)\n",
    "        xs.append(ts)\n",
    "        \n",
    "    ys = []\n",
    "    for i in range(0,y_size,1):\n",
    "        dt_i = dt + i*timedelta(minutes=5)\n",
    "        ts = '{:%Y%m%d%H%M}'.format(dt_i)\n",
    "        ys.append(ts)\n",
    "    return xs,ys\n",
    "\n",
    "a = datetime(year=2020, month=1,day=15,hour=14, minute=0)\n",
    "fns = filenames_xy(a, y_size=3)\n",
    "fns"
   ]
  },
  {
   "cell_type": "code",
   "execution_count": 7,
   "metadata": {},
   "outputs": [],
   "source": [
    "def create_ds(dt, x_size=3,y_size=1):\n",
    "    fns = filenames_xy(dt,x_size,y_size)\n",
    "    print(fns)\n",
    "    x_type = tf.uint16\n",
    "    y_type= tf.float32 \n",
    "    x_shape = tf.TensorShape([x_size, 765, 700, 1])\n",
    "    y_shape = tf.TensorShape([y_size,765, 700, 1])\n",
    "    \n",
    "    ds = tf.data.Dataset.from_generator(\n",
    "        generator(fns), \n",
    "        output_types= (x_type, y_type),\n",
    "        output_shapes= (x_shape, y_shape),\n",
    "        )\n",
    "    return ds"
   ]
  },
  {
   "cell_type": "code",
   "execution_count": 8,
   "metadata": {},
   "outputs": [
    {
     "name": "stdout",
     "output_type": "stream",
     "text": [
      "(['202001151345', '202001151350', '202001151355'], ['202001151400'])\n",
      "(3, 765, 700, 1) (1, 765, 700, 1)\n"
     ]
    },
    {
     "data": {
      "image/png": "[encoded data removed]",
      "text/plain": [
       "<Figure size 720x720 with 4 Axes>"
      ]
     },
     "metadata": {
      "needs_background": "light"
     },
     "output_type": "display_data"
    }
   ],
   "source": [
    "dt = datetime(year=2020, month=1,day=15,hour=14, minute=0)\n",
    "d = create_ds(dt,x_size=3,y_size=1)\n",
    "\n",
    "for element in d:\n",
    "    x, y = element\n",
    "    print(x.shape,y.shape)\n",
    "    plotIO(x,y)"
   ]
  },
  {
   "cell_type": "markdown",
   "metadata": {},
   "source": [
    "# Converting to Keras"
   ]
  },
  {
   "cell_type": "markdown",
   "metadata": {},
   "source": [
    "The next step is to use the previous code to create a DataGenerator object in keras. This object can then yield samples on the fly during training. \n",
    "\n",
    "The code below is adapted from [here](https://stanford.edu/~shervine/blog/keras-how-to-generate-data-on-the-fly) and I am currently rewriting it to fit the current project"
   ]
  },
  {
   "cell_type": "code",
   "execution_count": 9,
   "metadata": {},
   "outputs": [],
   "source": [
    "import numpy as np\n",
    "import tensorflow as tf\n",
    "from tensorflow import keras\n",
    "\n",
    "\n",
    "class DataGenerator(keras.utils.Sequence):\n",
    "    'Generates data for Keras'\n",
    "    def __init__(self, list_IDs, batch_size=32, \n",
    "                 img_dim = (765, 700, 1), x_seq_size=3, y_seq_size=1, shuffle=True,\n",
    "                x_path = '/nobackup/users/schreurs/project_GAN/dataset_radar',\n",
    "                y_path = '/nobackup/users/schreurs/project_GAN/dataset_aart'):\n",
    "        'Initialization'\n",
    "        self.inp_shape = (x_seq_size, *img_dim)\n",
    "        self.out_shape = (y_seq_size, *img_dim)\n",
    "        self.batch_size = batch_size\n",
    "        self.list_IDs = list_IDs\n",
    "        self.shuffle = shuffle\n",
    "        self.on_epoch_end()\n",
    "        self.x_path = x_path\n",
    "        self.y_path = y_path\n",
    "\n",
    "    def __len__(self):\n",
    "        'Denotes the number of batches per epoch'\n",
    "        return int(np.floor(len(self.list_IDs) / self.batch_size))\n",
    "\n",
    "    def __getitem__(self, index):\n",
    "        'Generate one batch of data'\n",
    "        # Generate indexes of the batch\n",
    "        indexes = self.indexes[index*self.batch_size:(index+1)*self.batch_size]\n",
    "\n",
    "        # Find list of IDs\n",
    "        list_IDs_temp = [self.list_IDs[k] for k in indexes]\n",
    "\n",
    "        # Generate data\n",
    "        X, y = self.__data_generation(list_IDs_temp)\n",
    "\n",
    "        return X, y\n",
    "\n",
    "    def on_epoch_end(self):\n",
    "        'Updates indexes after each epoch'\n",
    "        self.indexes = np.arange(len(self.list_IDs))\n",
    "        if self.shuffle == True:\n",
    "            np.random.shuffle(self.indexes)\n",
    "\n",
    "    def __data_generation(self, list_IDs_temp):\n",
    "        'Generates data containing batch_size samples' \n",
    "        # Initialization\n",
    "        X = np.empty((self.batch_size, *self.inp_shape))\n",
    "        y = np.empty((self.batch_size, *self.out_shape))\n",
    "        \n",
    "        # Generate data\n",
    "        for i, IDs in enumerate(list_IDs_temp):\n",
    "            x_IDs, y_IDs = IDs\n",
    "            \n",
    "            # Store input image(s)\n",
    "            for c in range(self.inp_shape[0]):\n",
    "                X[i,c] = self.load_x(x_IDs[c])\n",
    "\n",
    "            # Store target image(s)\n",
    "            for c in range(self.out_shape[0]):\n",
    "                y[i,c] = self.load_y(y_IDs[c])\n",
    "\n",
    "        return X, y\n",
    "    \n",
    "    def load_x(self, x_ID):\n",
    "        path = self.x_path + '/RAD_NL25_RAC_RT_{}.h5'.format(x_ID)\n",
    "        with h5py.File(path, 'r') as f:\n",
    "            rain = f['image1']['image_data'][:]\n",
    "            # Expand dimensions from (w,h) to (w,h,c=1)\n",
    "            rain = np.expand_dims(rain, axis=-1)\n",
    "            return rain\n",
    "        \n",
    "    def load_y(self, y_ID):\n",
    "        path = self.y_path + '/RAD_NL25_RAC_MFBS_EM_5min_{}.nc'.format(y_ID)\n",
    "\n",
    "        with netCDF4.Dataset(path, 'r') as f:\n",
    "            rain = f['image1_image_data'][:]\n",
    "\n",
    "            # Change to image format (w,h,c) instead of (c,w,h)\n",
    "            rain = np.moveaxis(rain, 0, -1)\n",
    "            return rain"
   ]
  },
  {
   "cell_type": "code",
   "execution_count": 10,
   "metadata": {},
   "outputs": [
    {
     "data": {
      "text/plain": [
       "[(['202001151345', '202001151350', '202001151355'], ['202001151400']),\n",
       " (['202001151400', '202001151405', '202001151410'], ['202001151415']),\n",
       " (['202001151415', '202001151420', '202001151425'], ['202001151430']),\n",
       " (['202001151430', '202001151435', '202001151440'], ['202001151445']),\n",
       " (['202001151445', '202001151450', '202001151455'], ['202001151500']),\n",
       " (['202001151500', '202001151505', '202001151510'], ['202001151515']),\n",
       " (['202001151515', '202001151520', '202001151525'], ['202001151530']),\n",
       " (['202001151530', '202001151535', '202001151540'], ['202001151545'])]"
      ]
     },
     "execution_count": 10,
     "metadata": {},
     "output_type": "execute_result"
    }
   ],
   "source": [
    "# Create list of IDs to retrieve\n",
    "x_seq_size=3\n",
    "y_seq_size=1\n",
    "# Create datetime object from start date till end date\n",
    "start_dt = datetime(2020,1,15,14)\n",
    "end_dt =  datetime(2020,1,15,16)\n",
    "dts = np.arange( start_dt,\n",
    "                end_dt, \n",
    "                timedelta(minutes=5*x_seq_size)).astype(datetime)\n",
    "# Convert to filenames\n",
    "list_IDs = [filenames_xy(dt,x_seq_size,y_seq_size) for dt in dts]\n",
    "list_IDs "
   ]
  },
  {
   "cell_type": "code",
   "execution_count": 11,
   "metadata": {},
   "outputs": [],
   "source": [
    "generator = DataGenerator(list_IDs, batch_size=2, x_seq_size=x_seq_size, y_seq_size=y_seq_size)"
   ]
  },
  {
   "cell_type": "code",
   "execution_count": 12,
   "metadata": {},
   "outputs": [
    {
     "name": "stdout",
     "output_type": "stream",
     "text": [
      "(2, 3, 765, 700, 1) (2, 1, 765, 700, 1)\n",
      "(2, 3, 765, 700, 1) (2, 1, 765, 700, 1)\n",
      "(2, 3, 765, 700, 1) (2, 1, 765, 700, 1)\n",
      "(2, 3, 765, 700, 1) (2, 1, 765, 700, 1)\n"
     ]
    }
   ],
   "source": [
    "for i in generator:\n",
    "    x,y = i\n",
    "    print(x.shape, y.shape)\n",
    "    # plotIO(x[0],y[0])"
   ]
  },
  {
   "cell_type": "code",
   "execution_count": 30,
   "metadata": {},
   "outputs": [],
   "source": [
    "def get_list_IDs(start_dt, end_dt, x_seq_size=3, y_seq_size=1):\n",
    "    dts = np.arange( start_dt,\n",
    "                end_dt, \n",
    "                timedelta(minutes=5*x_seq_size)).astype(datetime)\n",
    "    list_IDs = [filenames_xy(dt,x_seq_size,y_seq_size) for dt in dts]\n",
    "    return list_IDs"
   ]
  },
  {
   "cell_type": "markdown",
   "metadata": {},
   "source": [
    "# Test with simple model"
   ]
  },
  {
   "cell_type": "code",
   "execution_count": 13,
   "metadata": {},
   "outputs": [],
   "source": [
    "from tensorflow.keras.utils import plot_model"
   ]
  },
  {
   "cell_type": "code",
   "execution_count": 33,
   "metadata": {},
   "outputs": [],
   "source": [
    "def simple_model():\n",
    "    input_seq = tf.keras.Input(shape=(3, 765, 700, 1))\n",
    "\n",
    "    \n",
    "    convLSTM = tf.keras.layers.ConvLSTM2D(filters=5, kernel_size=(2, 2), padding='same', return_sequences=True)(input_seq)\n",
    "    \n",
    "    convLSTM = tf.keras.layers.ConvLSTM2D(filters=1, kernel_size=(2, 2), padding='same', return_sequences=False)(convLSTM)\n",
    "    \n",
    "    out = tf.keras.layers.Reshape(target_shape=(1,765, 700, 1))(convLSTM)\n",
    "    model = tf.keras.Model(inputs=input_seq, outputs=out)\n",
    "    return model"
   ]
  },
  {
   "cell_type": "code",
   "execution_count": 34,
   "metadata": {},
   "outputs": [
    {
     "name": "stdout",
     "output_type": "stream",
     "text": [
      "Model: \"model_3\"\n",
      "_________________________________________________________________\n",
      "Layer (type)                 Output Shape              Param #   \n",
      "=================================================================\n",
      "input_6 (InputLayer)         [(None, 3, 765, 700, 1)]  0         \n",
      "_________________________________________________________________\n",
      "conv_lst_m2d_10 (ConvLSTM2D) (None, 3, 765, 700, 5)    500       \n",
      "_________________________________________________________________\n",
      "conv_lst_m2d_11 (ConvLSTM2D) (None, 765, 700, 1)       100       \n",
      "_________________________________________________________________\n",
      "reshape_2 (Reshape)          (None, 1, 765, 700, 1)    0         \n",
      "=================================================================\n",
      "Total params: 600\n",
      "Trainable params: 600\n",
      "Non-trainable params: 0\n",
      "_________________________________________________________________\n"
     ]
    }
   ],
   "source": [
    "model = simple_model()\n",
    "model.summary()\n",
    "plot_model(model)\n",
    "model.compile( optimizer='sgd',\n",
    "    loss='mse',\n",
    "    metrics=[tf.keras.metrics.MeanSquaredError()])\n"
   ]
  },
  {
   "cell_type": "code",
   "execution_count": 39,
   "metadata": {},
   "outputs": [
    {
     "name": "stdout",
     "output_type": "stream",
     "text": [
      "384\n"
     ]
    }
   ],
   "source": [
    "start_dt = datetime(2020,1,1,0)\n",
    "end_dt =  datetime(2020,1,5,0)\n",
    "list_IDs = get_list_IDs(start_dt, end_dt)\n",
    "print(len(list_IDs))\n",
    "generator = DataGenerator(list_IDs, batch_size=1, x_seq_size=x_seq_size, y_seq_size=y_seq_size)"
   ]
  },
  {
   "cell_type": "code",
   "execution_count": null,
   "metadata": {},
   "outputs": [],
   "source": [
    "model.fit_generator(generator=generator)"
   ]
  },
  {
   "cell_type": "code",
   "execution_count": null,
   "metadata": {},
   "outputs": [],
   "source": []
  }
 ],
 "metadata": {
  "kernelspec": {
   "display_name": "Python 3",
   "language": "python",
   "name": "python3"
  },
  "language_info": {
   "codemirror_mode": {
    "name": "ipython",
    "version": 3
   },
   "file_extension": ".py",
   "mimetype": "text/x-python",
   "name": "python",
   "nbconvert_exporter": "python",
   "pygments_lexer": "ipython3",
   "version": "3.7.9"
  }
 },
 "nbformat": 4,
 "nbformat_minor": 2
}
