{
 "cells": [
  {
   "cell_type": "markdown",
   "metadata": {},
   "source": [
    "# Load H5/NC files directly into tensorflow\n",
    "\n",
    "The dataset is to large to load into memory directly. Therefor we will define a generator first that can be used to get a part of the dataset"
   ]
  },
  {
   "cell_type": "code",
   "execution_count": 12,
   "metadata": {},
   "outputs": [],
   "source": [
    "import h5py\n",
    "import tensorflow as tf\n",
    "import numpy as np\n",
    "import datetime\n",
    "import netCDF4 \n",
    "\n",
    "import matplotlib.pyplot as plt"
   ]
  },
  {
   "cell_type": "code",
   "execution_count": 120,
   "metadata": {},
   "outputs": [],
   "source": [
    "def plot_radar(rdr_arr):\n",
    "    mask= (rdr_arr == 65535)\n",
    "    mx = np.ma.masked_array(rdr_arr, mask)\n",
    "    plt.imshow(np.squeeze(mx))\n",
    "    plt.axis('off')\n",
    "    plt.show()"
   ]
  },
  {
   "cell_type": "code",
   "execution_count": 100,
   "metadata": {},
   "outputs": [],
   "source": [
    "ts = 201812190800\n",
    "path = '/nobackup/users/schreurs/project_GAN/dataset_radar' + '/RAD_NL25_RAC_RT_{}.h5'.format(ts)\n",
    "\n",
    "with h5py.File(path, 'r') as f:\n",
    "    radar_img = f['image1']['image_data'][:]\n",
    "    "
   ]
  },
  {
   "cell_type": "code",
   "execution_count": 105,
   "metadata": {},
   "outputs": [
    {
     "data": {
      "text/plain": [
       "(765, 700, 1)"
      ]
     },
     "execution_count": 105,
     "metadata": {},
     "output_type": "execute_result"
    }
   ],
   "source": []
  },
  {
   "cell_type": "code",
   "execution_count": 112,
   "metadata": {},
   "outputs": [],
   "source": [
    "# Based upon the following code:\n",
    "# https://stackoverflow.com/questions/48309631/tensorflow-tf-data-dataset-reading-large-hdf5-files\n",
    "\n",
    "class generator:\n",
    "    def __init__(self, dt):\n",
    "        self.dt = dt\n",
    "        self.x_path = '/nobackup/users/schreurs/project_GAN/dataset_radar'\n",
    "        self.y_path = '/nobackup/users/schreurs/project_GAN/dataset_aart'\n",
    "\n",
    "    def __call__(self):\n",
    "        x = self.get_x()\n",
    "        y = self.get_y()\n",
    "        yield x,y\n",
    "        \n",
    "    def get_x(self):\n",
    "\n",
    "        ts = '{:%Y%m%d%H%M}'.format(a)\n",
    "        \n",
    "        path = '/nobackup/users/schreurs/project_GAN/dataset_radar' + '/RAD_NL25_RAC_RT_{}.h5'.format(ts)\n",
    "\n",
    "        with h5py.File(path, 'r') as f:\n",
    "            rain = f['image1']['image_data'][:]\n",
    "            \n",
    "            # Expand dimensions from (w,h) to (w,h,c)\n",
    "            rain = np.expand_dims(rain, axis=-1)\n",
    "            return rain\n",
    "        \n",
    "        \n",
    "    def get_y(self):\n",
    "        year = self.dt.strftime('%Y')\n",
    "        month = self.dt.strftime('%m')\n",
    "        ts = '{:%Y%m%d%H%M}'.format(a)\n",
    "        path = self.y_path + '/{}/{}/{}/RAD_NL25_RAC_MFBS_EM_5min_{}.nc'.format(year,year,month,ts)\n",
    "\n",
    "        with netCDF4.Dataset(path, 'r') as f:\n",
    "            rain = f['image1_image_data'][:]\n",
    "            \n",
    "            # Change to image format (w,h,c) instead of (c,w,h)\n",
    "            rain = np.moveaxis(rain, 0, -1)\n",
    "            return rain"
   ]
  },
  {
   "cell_type": "code",
   "execution_count": 129,
   "metadata": {},
   "outputs": [
    {
     "data": {
      "image/png": "[encoded data removed]",
      "text/plain": [
       "<Figure size 432x288 with 1 Axes>"
      ]
     },
     "metadata": {
      "needs_background": "light"
     },
     "output_type": "display_data"
    },
    {
     "data": {
      "image/png": "[encoded data removed]",
      "text/plain": [
       "<Figure size 432x288 with 1 Axes>"
      ]
     },
     "metadata": {
      "needs_background": "light"
     },
     "output_type": "display_data"
    }
   ],
   "source": [
    "a = datetime.datetime(year=2020, month=1,day=15,hour=14, minute=0)\n",
    "\n",
    "\n",
    "x_type = tf.uint16\n",
    "y_type= tf.float32 \n",
    "x_shape = y_shape = tf.TensorShape([765, 700, 1])\n",
    "\n",
    "ds = tf.data.Dataset.from_generator(\n",
    "    generator(a), \n",
    "    output_types= (x_type, y_type),\n",
    "    output_shapes= (x_shape, y_shape),\n",
    "    )\n",
    "\n",
    "\n",
    "for element in ds:\n",
    "    x, y = element\n",
    "    plot_radar(x)\n",
    "    plot_radar(y)"
   ]
  },
  {
   "cell_type": "code",
   "execution_count": 130,
   "metadata": {},
   "outputs": [
    {
     "data": {
      "text/plain": [
       "array([0.0000000e+00, 9.9999998e-03, 2.0000000e-02, 2.9999999e-02,\n",
       "       3.9999999e-02, 4.9999997e-02, 5.9999999e-02, 7.0000000e-02,\n",
       "       7.9999998e-02, 8.9999996e-02, 9.9999994e-02, 1.1000000e-01,\n",
       "       1.2000000e-01, 1.3000000e-01, 1.4000000e-01, 1.4999999e-01,\n",
       "       1.6000000e-01, 1.7000000e-01, 1.7999999e-01, 1.9000000e-01,\n",
       "       1.9999999e-01, 2.0999999e-01, 2.2000000e-01, 2.2999999e-01,\n",
       "       2.3999999e-01, 2.5000000e-01, 2.5999999e-01, 2.6999998e-01,\n",
       "       2.8000000e-01, 2.8999999e-01, 2.9999998e-01, 3.1000000e-01,\n",
       "       3.1999999e-01, 3.2999998e-01, 3.4000000e-01, 3.4999999e-01,\n",
       "       3.5999998e-01, 3.7000000e-01, 3.8000000e-01, 3.8999999e-01,\n",
       "       3.9999998e-01, 4.1000000e-01, 4.1999999e-01, 4.4000000e-01,\n",
       "       4.4999999e-01, 4.5999998e-01, 6.5535000e+04], dtype=float32)"
      ]
     },
     "execution_count": 130,
     "metadata": {},
     "output_type": "execute_result"
    }
   ],
   "source": [
    "np.unique(y)"
   ]
  },
  {
   "cell_type": "code",
   "execution_count": null,
   "metadata": {},
   "outputs": [],
   "source": []
  },
  {
   "cell_type": "code",
   "execution_count": null,
   "metadata": {},
   "outputs": [],
   "source": []
  }
 ],
 "metadata": {
  "kernelspec": {
   "display_name": "Python 3",
   "language": "python",
   "name": "python3"
  },
  "language_info": {
   "codemirror_mode": {
    "name": "ipython",
    "version": 3
   },
   "file_extension": ".py",
   "mimetype": "text/x-python",
   "name": "python",
   "nbconvert_exporter": "python",
   "pygments_lexer": "ipython3",
   "version": "3.7.9"
  }
 },
 "nbformat": 4,
 "nbformat_minor": 2
}
