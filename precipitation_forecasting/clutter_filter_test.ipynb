{
  "nbformat": 4,
  "nbformat_minor": 0,
  "metadata": {
    "colab": {
      "name": "clutter_filter_test.ipynb",
      "provenance": [],
      "collapsed_sections": []
    },
    "kernelspec": {
      "name": "python3",
      "display_name": "Python 3"
    },
    "language_info": {
      "name": "python"
    }
  },
  "cells": [
    {
      "cell_type": "markdown",
      "metadata": {
        "id": "866O0n89uNm7"
      },
      "source": [
        "# Filtering out clutter\n",
        "\n",
        "Isolated pixels with precipitation value are more likely to be clutter than actual rain. A filter can be applied to the image to removed isolated rain pixels. This will improve the quality of the rain/no rain labels as a single isolated rainy pixel will not result in the image being labeld as rainy. Furthermore this method hopefully removes high intensity isolated clutter. After applying this filter to dataset, the ship tracks should be less clear."
      ]
    },
    {
      "cell_type": "code",
      "metadata": {
        "id": "-Wamdvy2dhco"
      },
      "source": [
        "import numpy as np\n",
        "import matplotlib.pyplot as plt\n",
        "import cv2"
      ],
      "execution_count": 41,
      "outputs": []
    },
    {
      "cell_type": "code",
      "metadata": {
        "colab": {
          "base_uri": "https://localhost:8080/",
          "height": 813
        },
        "id": "z891SG-Jdi6I",
        "outputId": "633ddf22-4a6c-4a72-debb-2054caa820a6"
      },
      "source": [
        "np.random.seed(4)\n",
        "img = np.random.gamma(2,2, size=(8,8))\n",
        "plt.imshow(img)\n",
        "plt.show()\n",
        "plt.hist(img.ravel())\n",
        "plt.show()\n",
        "\n",
        "# Set pixels above certain value to rainy\n",
        "# On actual data this threshold is > 0.3mm\n",
        "rain = (img > 6).astype('uint8')\n",
        "# Create kernel that checks if pixel has no neighbours\n",
        "kernel_size=3\n",
        "kernel = -np.ones((kernel_size,kernel_size))\n",
        "kernel[1,1] = 1\n",
        "plt.imshow(rain)\n",
        "plt.axis('off')\n",
        "plt.show()\n",
        "print('kernel: \\n', kernel)"
      ],
      "execution_count": 139,
      "outputs": [
        {
          "output_type": "display_data",
          "data": {
            "image/png": "[encoded data removed]",
            "text/plain": [
              "<Figure size 432x288 with 1 Axes>"
            ]
          },
          "metadata": {
            "tags": [],
            "needs_background": "light"
          }
        },
        {
          "output_type": "display_data",
          "data": {
            "image/png": "[encoded data removed]",
            "text/plain": [
              "<Figure size 432x288 with 1 Axes>"
            ]
          },
          "metadata": {
            "tags": [],
            "needs_background": "light"
          }
        },
        {
          "output_type": "display_data",
          "data": {
            "image/png": "[encoded data removed]",
            "text/plain": [
              "<Figure size 432x288 with 1 Axes>"
            ]
          },
          "metadata": {
            "tags": [],
            "needs_background": "light"
          }
        },
        {
          "output_type": "stream",
          "text": [
            "kernel: \n",
            " [[-1. -1. -1.]\n",
            " [-1.  1. -1.]\n",
            " [-1. -1. -1.]]\n"
          ],
          "name": "stdout"
        }
      ]
    },
    {
      "cell_type": "code",
      "metadata": {
        "colab": {
          "base_uri": "https://localhost:8080/",
          "height": 211
        },
        "id": "k5rgD75DePw8",
        "outputId": "3d51517d-f5e6-4b62-b5ca-d9be6a38a146"
      },
      "source": [
        "# Move kernel over image\n",
        "isolated_pixels = cv2.morphologyEx(rain, cv2.MORPH_HITMISS, kernel)\n",
        "# Remove isolated pixels \n",
        "output = rain * np.logical_not(isolated_pixels)\n",
        "\n",
        "\n",
        "plt.figure(figsize=(10,10))\n",
        "plt.subplot(1,3,1)\n",
        "plt.imshow(rain)\n",
        "plt.axis('off')\n",
        "plt.title('Input')\n",
        "plt.subplot(1,3,2)\n",
        "plt.imshow(isolated_pixels)\n",
        "plt.axis('off')\n",
        "plt.title('Isolated Pixels')\n",
        "plt.subplot(1,3,3)\n",
        "plt.imshow(output)\n",
        "plt.axis('off')\n",
        "plt.title('Output')\n",
        "plt.show()"
      ],
      "execution_count": 140,
      "outputs": [
        {
          "output_type": "display_data",
          "data": {
            "image/png": "[encoded data removed]",
            "text/plain": [
              "<Figure size 720x720 with 3 Axes>"
            ]
          },
          "metadata": {
            "tags": [],
            "needs_background": "light"
          }
        }
      ]
    }
  ]
}